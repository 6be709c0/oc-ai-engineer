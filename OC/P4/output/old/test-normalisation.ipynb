{
 "cells": [
  {
   "cell_type": "markdown",
   "id": "ad0d626b-6e64-413f-96e6-9d22758f8213",
   "metadata": {},
   "source": [
    "# Test normalisation"
   ]
  },
  {
   "cell_type": "code",
   "execution_count": 17,
   "id": "cb53fd9c-74ea-4d8a-b288-d3b8e3f699bb",
   "metadata": {},
   "outputs": [],
   "source": [
    "from sklearn.preprocessing import LabelEncoder, MinMaxScaler, StandardScaler\n",
    "from sklearn.model_selection import train_test_split, cross_val_score, KFold, GridSearchCV\n",
    "from sklearn.ensemble import RandomForestRegressor, RandomForestClassifier\n",
    "from IPython.display import display  \n",
    "from sklearn.metrics import accuracy_score\n",
    "from sklearn.feature_selection import SelectFromModel\n",
    "from sklearn.metrics import roc_curve, auc, confusion_matrix\n",
    "from sklearn import svm, metrics\n",
    "\n",
    "import warnings  \n",
    "\n",
    "import matplotlib.pyplot as plt\n",
    "import matplotlib.cm as cm\n",
    "import seaborn as sns\n",
    "import pandas as pd\n",
    "import numpy as np\n",
    "import tensorflow as tf"
   ]
  },
  {
   "cell_type": "code",
   "execution_count": 44,
   "id": "52bf96fc-7f5f-4dbe-bc92-f0513e660215",
   "metadata": {},
   "outputs": [],
   "source": [
    "df = pd.DataFrame({'col1': [10, 100, 1000], 'col2': [100, 150,200], 'col3': [50, 150, 250]})\n",
    "df2 = pd.DataFrame({'col1': [10, 100, 1000, 100, 150,200, 50, 150, 250]})"
   ]
  },
  {
   "cell_type": "code",
   "execution_count": 75,
   "id": "25f98d56",
   "metadata": {},
   "outputs": [],
   "source": [
    "def normalize_per_col2(dataframe):\n",
    "    df = dataframe.copy()\n",
    "    scaler = MinMaxScaler()\n",
    "    for column in df.columns:\n",
    "        df[[column]] = scaler.fit_transform(df[[column]])\n",
    "    return df\n",
    "\n",
    "def normalize_per_col(dataframe):\n",
    "    df = dataframe.copy()\n",
    "    scaler = MinMaxScaler()\n",
    "    df = pd.DataFrame(scaler.fit_transform(df), columns=df.columns)\n",
    "    return df\n",
    "\n",
    "def normalize_all_col(dataframe):\n",
    "    df = dataframe.copy()\n",
    "    df_flattened = df.values.flatten().reshape(-1, 1)  \n",
    "\n",
    "    normalized_globally = scaler.fit_transform(df_flattened)  \n",
    "    df_reshaped = normalized_globally.reshape(-1, len(df.columns))  \n",
    "    df_normalized_globally = pd.DataFrame(df_reshaped, columns=df.columns)  \n",
    "\n",
    "    return df_normalized_globally"
   ]
  },
  {
   "cell_type": "code",
   "execution_count": 77,
   "id": "7c6e6dad",
   "metadata": {},
   "outputs": [
    {
     "name": "stdout",
     "output_type": "stream",
     "text": [
      "Per col old\n",
      "        col1  col2  col3\n",
      "0  0.000000   0.0   0.0\n",
      "1  0.090909   0.5   0.5\n",
      "2  1.000000   1.0   1.0\n",
      "Per col\n",
      "        col1  col2  col3\n",
      "0  0.000000   0.0   0.0\n",
      "1  0.090909   0.5   0.5\n",
      "2  1.000000   1.0   1.0\n",
      "\n",
      "\n",
      "All col\n",
      "        col1      col2      col3\n",
      "0  0.000000  0.090909  0.040404\n",
      "1  0.090909  0.141414  0.141414\n",
      "2  1.000000  0.191919  0.242424\n"
     ]
    }
   ],
   "source": [
    "print(\"Per col old\\n\",normalize_per_col2(df))\n",
    "\n",
    "print(\"Per col\\n\",normalize_per_col(df))\n",
    "print(\"\\n\\nAll col\\n\",normalize_all_col(df))"
   ]
  },
  {
   "cell_type": "code",
   "execution_count": null,
   "id": "04449bf7",
   "metadata": {},
   "outputs": [],
   "source": []
  }
 ],
 "metadata": {
  "kernelspec": {
   "display_name": "Python 3 (ipykernel)",
   "language": "python",
   "name": "python3"
  },
  "language_info": {
   "codemirror_mode": {
    "name": "ipython",
    "version": 3
   },
   "file_extension": ".py",
   "mimetype": "text/x-python",
   "name": "python",
   "nbconvert_exporter": "python",
   "pygments_lexer": "ipython3",
   "version": "3.10.12"
  }
 },
 "nbformat": 4,
 "nbformat_minor": 5
}
