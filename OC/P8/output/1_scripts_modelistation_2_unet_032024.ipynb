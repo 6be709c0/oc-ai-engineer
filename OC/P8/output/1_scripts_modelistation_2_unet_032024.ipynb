{
 "cells": [
  {
   "cell_type": "markdown",
   "metadata": {},
   "source": [
    "## Modelisation with UNET"
   ]
  },
  {
   "cell_type": "code",
   "execution_count": null,
   "metadata": {},
   "outputs": [],
   "source": [
    "import sys  \n",
    "sys.path.insert(0, './scripts')\n",
    "\n",
    "# Import librairies, configs, helper functions\n",
    "from helpers import *\n",
    "\n",
    "config = base_config_resized\n",
    "\n",
    "# config[\"use_saved_model_path\"] = \"./model_v4_full_cat_8_large.h5\"\n",
    "config[\"val_sample_nb\"] = 100\n",
    "config[\"train_sample_nb\"] = 400\n",
    "\n",
    "config[\"width\"] = 512\n",
    "config[\"height\"] = 256\n",
    "\n",
    "config[\"epoch\"] = 4\n",
    "\n",
    "n = NotebookProcessor(config)"
   ]
  },
  {
   "cell_type": "markdown",
   "metadata": {},
   "source": [
    "## Model definition"
   ]
  },
  {
   "cell_type": "markdown",
   "metadata": {},
   "source": [
    "UNET is lorem ipsum"
   ]
  },
  {
   "cell_type": "markdown",
   "metadata": {},
   "source": [
    "## Model creation"
   ]
  },
  {
   "cell_type": "code",
   "execution_count": null,
   "metadata": {},
   "outputs": [],
   "source": [
    "def conv_block(input_tensor, num_filters, dropout_rate=0.1):  \n",
    "    x = Conv2D(num_filters, (3, 3), activation='relu', kernel_initializer='he_normal', padding='same')(input_tensor)  \n",
    "    x = BatchNormalization()(x)  # Adding batch normalization  \n",
    "    x = Dropout(dropout_rate)(x)  \n",
    "    x = Conv2D(num_filters, (3, 3), activation='relu', kernel_initializer='he_normal', padding='same')(x)  \n",
    "    x = BatchNormalization()(x)  # Adding batch normalization  \n",
    "    return x  \n",
    "  \n",
    "def create_model(n_classes, img_width, img_height, img_channels):  \n",
    "    inputs = Input((img_height, img_width, img_channels))  \n",
    "  \n",
    "    # Contraction path  \n",
    "    c1 = conv_block(inputs, 16)  \n",
    "    p1 = MaxPooling2D((2, 2))(c1)  \n",
    "      \n",
    "    c2 = conv_block(p1, 32)  \n",
    "    p2 = MaxPooling2D((2, 2))(c2)  \n",
    "      \n",
    "    c3 = conv_block(p2, 64)  \n",
    "    p3 = MaxPooling2D((2, 2))(c3)  \n",
    "      \n",
    "    c4 = conv_block(p3, 128)  \n",
    "    p4 = MaxPooling2D(pool_size=(2, 2))(c4)  \n",
    "      \n",
    "    c5 = conv_block(p4, 256, 0.3)  # Increased dropout for the deepest block  \n",
    "      \n",
    "    # Expansive path   \n",
    "    u6 = Conv2DTranspose(128, (2, 2), strides=(2, 2), padding='same')(c5)  \n",
    "    u6 = concatenate([u6, c4])  \n",
    "    c6 = conv_block(u6, 128)  \n",
    "       \n",
    "    u7 = Conv2DTranspose(64, (2, 2), strides=(2, 2), padding='same')(c6)  \n",
    "    u7 = concatenate([u7, c3])  \n",
    "    c7 = conv_block(u7, 64, 0.2)  # Modify dropout rate for specific layers if needed  \n",
    "      \n",
    "    u8 = Conv2DTranspose(32, (2, 2), strides=(2, 2), padding='same')(c7)  \n",
    "    u8 = concatenate([u8, c2])  \n",
    "    c8 = conv_block(u8, 32)  \n",
    "       \n",
    "    u9 = Conv2DTranspose(16, (2, 2), strides=(2, 2), padding='same')(c8)  \n",
    "    u9 = concatenate([u9, c1])  \n",
    "    c9 = conv_block(u9, 16)  \n",
    "       \n",
    "    outputs = Conv2D(n_classes, (1, 1), activation='softmax')(c9)  \n",
    "       \n",
    "    model = Model(inputs=[inputs], outputs=[outputs])  \n",
    "    return model"
   ]
  },
  {
   "cell_type": "markdown",
   "metadata": {},
   "source": [
    "## Model Stats"
   ]
  },
  {
   "cell_type": "code",
   "execution_count": null,
   "metadata": {},
   "outputs": [],
   "source": [
    "model = create_model(n_classes=config[\"classes\"], img_width=config[\"width\"], img_height=config[\"height\"], img_channels=3)\n",
    "n.set_model(model)"
   ]
  },
  {
   "cell_type": "code",
   "execution_count": null,
   "metadata": {},
   "outputs": [],
   "source": [
    "n.model_fit()"
   ]
  },
  {
   "cell_type": "code",
   "execution_count": null,
   "metadata": {},
   "outputs": [],
   "source": [
    "# n.model_save(\"model_delete.h5\")"
   ]
  },
  {
   "cell_type": "code",
   "execution_count": null,
   "metadata": {},
   "outputs": [],
   "source": [
    "# display_loss_and_accuracy(n.model_fit_history)"
   ]
  },
  {
   "cell_type": "code",
   "execution_count": null,
   "metadata": {},
   "outputs": [],
   "source": [
    "n.model_predict_with_display_and_accuracy(n.img[\"val\"][3],n.mask[\"val\"][3])"
   ]
  },
  {
   "cell_type": "markdown",
   "metadata": {},
   "source": [
    "## Model Inference"
   ]
  },
  {
   "cell_type": "code",
   "execution_count": null,
   "metadata": {},
   "outputs": [],
   "source": [
    "n.model_predict_with_display(n.img[\"val\"][3])"
   ]
  }
 ],
 "metadata": {
  "kernelspec": {
   "display_name": "Python 3",
   "language": "python",
   "name": "python3"
  },
  "language_info": {
   "codemirror_mode": {
    "name": "ipython",
    "version": 3
   },
   "file_extension": ".py",
   "mimetype": "text/x-python",
   "name": "python",
   "nbconvert_exporter": "python",
   "pygments_lexer": "ipython3",
   "version": "3.11.7"
  }
 },
 "nbformat": 4,
 "nbformat_minor": 2
}
