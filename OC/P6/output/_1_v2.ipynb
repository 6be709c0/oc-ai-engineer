{
 "cells": [
  {
   "cell_type": "code",
   "execution_count": 33,
   "metadata": {},
   "outputs": [],
   "source": [
    "import pandas as pd\n",
    "import nltk\n",
    "import json  \n",
    "import sys  \n",
    "\n",
    "import seaborn as sns  \n",
    "import matplotlib.pyplot as plt  \n",
    "\n",
    "from nltk.stem.snowball import EnglishStemmer\n",
    "import plotly.express as px  \n",
    "import numpy as np\n",
    "# nltk.download('punkt')\n",
    "# nltk.download('stopwords')\n",
    "\n"
   ]
  },
  {
   "cell_type": "markdown",
   "metadata": {},
   "source": [
    "## Recupérer et explorer les données"
   ]
  },
  {
   "cell_type": "markdown",
   "metadata": {},
   "source": [
    "La première chose que je fais est de lire mon fichier d'entrée, lire la colonne description et rajouter deux colonnes:\n",
    "- word_count > Compte le nombre total de mot dans la colonne description\n",
    "- unique_word_count > Compte le nombre unique de mot dans la colonne description\n",
    "\n",
    "J'affiche ensuite les 20 produits qui ont le plus de mots et je rajoute le nombre de mot unique."
   ]
  },
  {
   "cell_type": "code",
   "execution_count": 3,
   "metadata": {},
   "outputs": [],
   "source": [
    "df = pd.read_csv(\"./../input/flipkart_com-ecommerce_sample_1050.csv\")"
   ]
  },
  {
   "cell_type": "code",
   "execution_count": 4,
   "metadata": {},
   "outputs": [
    {
     "name": "stdout",
     "output_type": "stream",
     "text": [
      "Shape is (1050, 15)\n"
     ]
    },
    {
     "data": {
      "text/html": [
       "<div>\n",
       "<style scoped>\n",
       "    .dataframe tbody tr th:only-of-type {\n",
       "        vertical-align: middle;\n",
       "    }\n",
       "\n",
       "    .dataframe tbody tr th {\n",
       "        vertical-align: top;\n",
       "    }\n",
       "\n",
       "    .dataframe thead th {\n",
       "        text-align: right;\n",
       "    }\n",
       "</style>\n",
       "<table border=\"1\" class=\"dataframe\">\n",
       "  <thead>\n",
       "    <tr style=\"text-align: right;\">\n",
       "      <th></th>\n",
       "      <th>uniq_id</th>\n",
       "      <th>crawl_timestamp</th>\n",
       "      <th>product_url</th>\n",
       "      <th>product_name</th>\n",
       "      <th>product_category_tree</th>\n",
       "      <th>pid</th>\n",
       "      <th>retail_price</th>\n",
       "      <th>discounted_price</th>\n",
       "      <th>image</th>\n",
       "      <th>is_FK_Advantage_product</th>\n",
       "      <th>description</th>\n",
       "      <th>product_rating</th>\n",
       "      <th>overall_rating</th>\n",
       "      <th>brand</th>\n",
       "      <th>product_specifications</th>\n",
       "    </tr>\n",
       "  </thead>\n",
       "  <tbody>\n",
       "    <tr>\n",
       "      <th>0</th>\n",
       "      <td>55b85ea15a1536d46b7190ad6fff8ce7</td>\n",
       "      <td>2016-04-30 03:22:56 +0000</td>\n",
       "      <td>http://www.flipkart.com/elegance-polyester-mul...</td>\n",
       "      <td>Elegance Polyester Multicolor Abstract Eyelet ...</td>\n",
       "      <td>[\"Home Furnishing &gt;&gt; Curtains &amp; Accessories &gt;&gt;...</td>\n",
       "      <td>CRNEG7BKMFFYHQ8Z</td>\n",
       "      <td>1899.0</td>\n",
       "      <td>899.0</td>\n",
       "      <td>55b85ea15a1536d46b7190ad6fff8ce7.jpg</td>\n",
       "      <td>False</td>\n",
       "      <td>Key Features of Elegance Polyester Multicolor ...</td>\n",
       "      <td>No rating available</td>\n",
       "      <td>No rating available</td>\n",
       "      <td>Elegance</td>\n",
       "      <td>{\"product_specification\"=&gt;[{\"key\"=&gt;\"Brand\", \"v...</td>\n",
       "    </tr>\n",
       "    <tr>\n",
       "      <th>1</th>\n",
       "      <td>7b72c92c2f6c40268628ec5f14c6d590</td>\n",
       "      <td>2016-04-30 03:22:56 +0000</td>\n",
       "      <td>http://www.flipkart.com/sathiyas-cotton-bath-t...</td>\n",
       "      <td>Sathiyas Cotton Bath Towel</td>\n",
       "      <td>[\"Baby Care &gt;&gt; Baby Bath &amp; Skin &gt;&gt; Baby Bath T...</td>\n",
       "      <td>BTWEGFZHGBXPHZUH</td>\n",
       "      <td>600.0</td>\n",
       "      <td>449.0</td>\n",
       "      <td>7b72c92c2f6c40268628ec5f14c6d590.jpg</td>\n",
       "      <td>False</td>\n",
       "      <td>Specifications of Sathiyas Cotton Bath Towel (...</td>\n",
       "      <td>No rating available</td>\n",
       "      <td>No rating available</td>\n",
       "      <td>Sathiyas</td>\n",
       "      <td>{\"product_specification\"=&gt;[{\"key\"=&gt;\"Machine Wa...</td>\n",
       "    </tr>\n",
       "    <tr>\n",
       "      <th>2</th>\n",
       "      <td>64d5d4a258243731dc7bbb1eef49ad74</td>\n",
       "      <td>2016-04-30 03:22:56 +0000</td>\n",
       "      <td>http://www.flipkart.com/eurospa-cotton-terry-f...</td>\n",
       "      <td>Eurospa Cotton Terry Face Towel Set</td>\n",
       "      <td>[\"Baby Care &gt;&gt; Baby Bath &amp; Skin &gt;&gt; Baby Bath T...</td>\n",
       "      <td>BTWEG6SHXTDB2A2Y</td>\n",
       "      <td>NaN</td>\n",
       "      <td>NaN</td>\n",
       "      <td>64d5d4a258243731dc7bbb1eef49ad74.jpg</td>\n",
       "      <td>False</td>\n",
       "      <td>Key Features of Eurospa Cotton Terry Face Towe...</td>\n",
       "      <td>No rating available</td>\n",
       "      <td>No rating available</td>\n",
       "      <td>Eurospa</td>\n",
       "      <td>{\"product_specification\"=&gt;[{\"key\"=&gt;\"Material\",...</td>\n",
       "    </tr>\n",
       "    <tr>\n",
       "      <th>3</th>\n",
       "      <td>d4684dcdc759dd9cdf41504698d737d8</td>\n",
       "      <td>2016-06-20 08:49:52 +0000</td>\n",
       "      <td>http://www.flipkart.com/santosh-royal-fashion-...</td>\n",
       "      <td>SANTOSH ROYAL FASHION Cotton Printed King size...</td>\n",
       "      <td>[\"Home Furnishing &gt;&gt; Bed Linen &gt;&gt; Bedsheets &gt;&gt;...</td>\n",
       "      <td>BDSEJT9UQWHDUBH4</td>\n",
       "      <td>2699.0</td>\n",
       "      <td>1299.0</td>\n",
       "      <td>d4684dcdc759dd9cdf41504698d737d8.jpg</td>\n",
       "      <td>False</td>\n",
       "      <td>Key Features of SANTOSH ROYAL FASHION Cotton P...</td>\n",
       "      <td>No rating available</td>\n",
       "      <td>No rating available</td>\n",
       "      <td>SANTOSH ROYAL FASHION</td>\n",
       "      <td>{\"product_specification\"=&gt;[{\"key\"=&gt;\"Brand\", \"v...</td>\n",
       "    </tr>\n",
       "    <tr>\n",
       "      <th>4</th>\n",
       "      <td>6325b6870c54cd47be6ebfbffa620ec7</td>\n",
       "      <td>2016-06-20 08:49:52 +0000</td>\n",
       "      <td>http://www.flipkart.com/jaipur-print-cotton-fl...</td>\n",
       "      <td>Jaipur Print Cotton Floral King sized Double B...</td>\n",
       "      <td>[\"Home Furnishing &gt;&gt; Bed Linen &gt;&gt; Bedsheets &gt;&gt;...</td>\n",
       "      <td>BDSEJTHNGWVGWWQU</td>\n",
       "      <td>2599.0</td>\n",
       "      <td>698.0</td>\n",
       "      <td>6325b6870c54cd47be6ebfbffa620ec7.jpg</td>\n",
       "      <td>False</td>\n",
       "      <td>Key Features of Jaipur Print Cotton Floral Kin...</td>\n",
       "      <td>No rating available</td>\n",
       "      <td>No rating available</td>\n",
       "      <td>Jaipur Print</td>\n",
       "      <td>{\"product_specification\"=&gt;[{\"key\"=&gt;\"Machine Wa...</td>\n",
       "    </tr>\n",
       "  </tbody>\n",
       "</table>\n",
       "</div>"
      ],
      "text/plain": [
       "                            uniq_id            crawl_timestamp  \\\n",
       "0  55b85ea15a1536d46b7190ad6fff8ce7  2016-04-30 03:22:56 +0000   \n",
       "1  7b72c92c2f6c40268628ec5f14c6d590  2016-04-30 03:22:56 +0000   \n",
       "2  64d5d4a258243731dc7bbb1eef49ad74  2016-04-30 03:22:56 +0000   \n",
       "3  d4684dcdc759dd9cdf41504698d737d8  2016-06-20 08:49:52 +0000   \n",
       "4  6325b6870c54cd47be6ebfbffa620ec7  2016-06-20 08:49:52 +0000   \n",
       "\n",
       "                                         product_url  \\\n",
       "0  http://www.flipkart.com/elegance-polyester-mul...   \n",
       "1  http://www.flipkart.com/sathiyas-cotton-bath-t...   \n",
       "2  http://www.flipkart.com/eurospa-cotton-terry-f...   \n",
       "3  http://www.flipkart.com/santosh-royal-fashion-...   \n",
       "4  http://www.flipkart.com/jaipur-print-cotton-fl...   \n",
       "\n",
       "                                        product_name  \\\n",
       "0  Elegance Polyester Multicolor Abstract Eyelet ...   \n",
       "1                         Sathiyas Cotton Bath Towel   \n",
       "2                Eurospa Cotton Terry Face Towel Set   \n",
       "3  SANTOSH ROYAL FASHION Cotton Printed King size...   \n",
       "4  Jaipur Print Cotton Floral King sized Double B...   \n",
       "\n",
       "                               product_category_tree               pid  \\\n",
       "0  [\"Home Furnishing >> Curtains & Accessories >>...  CRNEG7BKMFFYHQ8Z   \n",
       "1  [\"Baby Care >> Baby Bath & Skin >> Baby Bath T...  BTWEGFZHGBXPHZUH   \n",
       "2  [\"Baby Care >> Baby Bath & Skin >> Baby Bath T...  BTWEG6SHXTDB2A2Y   \n",
       "3  [\"Home Furnishing >> Bed Linen >> Bedsheets >>...  BDSEJT9UQWHDUBH4   \n",
       "4  [\"Home Furnishing >> Bed Linen >> Bedsheets >>...  BDSEJTHNGWVGWWQU   \n",
       "\n",
       "   retail_price  discounted_price                                 image  \\\n",
       "0        1899.0             899.0  55b85ea15a1536d46b7190ad6fff8ce7.jpg   \n",
       "1         600.0             449.0  7b72c92c2f6c40268628ec5f14c6d590.jpg   \n",
       "2           NaN               NaN  64d5d4a258243731dc7bbb1eef49ad74.jpg   \n",
       "3        2699.0            1299.0  d4684dcdc759dd9cdf41504698d737d8.jpg   \n",
       "4        2599.0             698.0  6325b6870c54cd47be6ebfbffa620ec7.jpg   \n",
       "\n",
       "   is_FK_Advantage_product                                        description  \\\n",
       "0                    False  Key Features of Elegance Polyester Multicolor ...   \n",
       "1                    False  Specifications of Sathiyas Cotton Bath Towel (...   \n",
       "2                    False  Key Features of Eurospa Cotton Terry Face Towe...   \n",
       "3                    False  Key Features of SANTOSH ROYAL FASHION Cotton P...   \n",
       "4                    False  Key Features of Jaipur Print Cotton Floral Kin...   \n",
       "\n",
       "        product_rating       overall_rating                  brand  \\\n",
       "0  No rating available  No rating available               Elegance   \n",
       "1  No rating available  No rating available               Sathiyas   \n",
       "2  No rating available  No rating available                Eurospa   \n",
       "3  No rating available  No rating available  SANTOSH ROYAL FASHION   \n",
       "4  No rating available  No rating available           Jaipur Print   \n",
       "\n",
       "                              product_specifications  \n",
       "0  {\"product_specification\"=>[{\"key\"=>\"Brand\", \"v...  \n",
       "1  {\"product_specification\"=>[{\"key\"=>\"Machine Wa...  \n",
       "2  {\"product_specification\"=>[{\"key\"=>\"Material\",...  \n",
       "3  {\"product_specification\"=>[{\"key\"=>\"Brand\", \"v...  \n",
       "4  {\"product_specification\"=>[{\"key\"=>\"Machine Wa...  "
      ]
     },
     "execution_count": 4,
     "metadata": {},
     "output_type": "execute_result"
    }
   ],
   "source": [
    "print(\"Shape is\", df.shape)\n",
    "df.head()"
   ]
  },
  {
   "cell_type": "code",
   "execution_count": 5,
   "metadata": {},
   "outputs": [
    {
     "data": {
      "text/html": [
       "<div>\n",
       "<style scoped>\n",
       "    .dataframe tbody tr th:only-of-type {\n",
       "        vertical-align: middle;\n",
       "    }\n",
       "\n",
       "    .dataframe tbody tr th {\n",
       "        vertical-align: top;\n",
       "    }\n",
       "\n",
       "    .dataframe thead th {\n",
       "        text-align: right;\n",
       "    }\n",
       "</style>\n",
       "<table border=\"1\" class=\"dataframe\">\n",
       "  <thead>\n",
       "    <tr style=\"text-align: right;\">\n",
       "      <th></th>\n",
       "      <th>product_name</th>\n",
       "      <th>product_category_tree</th>\n",
       "      <th>description</th>\n",
       "    </tr>\n",
       "  </thead>\n",
       "  <tbody>\n",
       "    <tr>\n",
       "      <th>0</th>\n",
       "      <td>Elegance Polyester Multicolor Abstract Eyelet ...</td>\n",
       "      <td>[\"Home Furnishing &gt;&gt; Curtains &amp; Accessories &gt;&gt;...</td>\n",
       "      <td>Key Features of Elegance Polyester Multicolor ...</td>\n",
       "    </tr>\n",
       "    <tr>\n",
       "      <th>1</th>\n",
       "      <td>Sathiyas Cotton Bath Towel</td>\n",
       "      <td>[\"Baby Care &gt;&gt; Baby Bath &amp; Skin &gt;&gt; Baby Bath T...</td>\n",
       "      <td>Specifications of Sathiyas Cotton Bath Towel (...</td>\n",
       "    </tr>\n",
       "    <tr>\n",
       "      <th>2</th>\n",
       "      <td>Eurospa Cotton Terry Face Towel Set</td>\n",
       "      <td>[\"Baby Care &gt;&gt; Baby Bath &amp; Skin &gt;&gt; Baby Bath T...</td>\n",
       "      <td>Key Features of Eurospa Cotton Terry Face Towe...</td>\n",
       "    </tr>\n",
       "    <tr>\n",
       "      <th>3</th>\n",
       "      <td>SANTOSH ROYAL FASHION Cotton Printed King size...</td>\n",
       "      <td>[\"Home Furnishing &gt;&gt; Bed Linen &gt;&gt; Bedsheets &gt;&gt;...</td>\n",
       "      <td>Key Features of SANTOSH ROYAL FASHION Cotton P...</td>\n",
       "    </tr>\n",
       "    <tr>\n",
       "      <th>4</th>\n",
       "      <td>Jaipur Print Cotton Floral King sized Double B...</td>\n",
       "      <td>[\"Home Furnishing &gt;&gt; Bed Linen &gt;&gt; Bedsheets &gt;&gt;...</td>\n",
       "      <td>Key Features of Jaipur Print Cotton Floral Kin...</td>\n",
       "    </tr>\n",
       "  </tbody>\n",
       "</table>\n",
       "</div>"
      ],
      "text/plain": [
       "                                        product_name  \\\n",
       "0  Elegance Polyester Multicolor Abstract Eyelet ...   \n",
       "1                         Sathiyas Cotton Bath Towel   \n",
       "2                Eurospa Cotton Terry Face Towel Set   \n",
       "3  SANTOSH ROYAL FASHION Cotton Printed King size...   \n",
       "4  Jaipur Print Cotton Floral King sized Double B...   \n",
       "\n",
       "                               product_category_tree  \\\n",
       "0  [\"Home Furnishing >> Curtains & Accessories >>...   \n",
       "1  [\"Baby Care >> Baby Bath & Skin >> Baby Bath T...   \n",
       "2  [\"Baby Care >> Baby Bath & Skin >> Baby Bath T...   \n",
       "3  [\"Home Furnishing >> Bed Linen >> Bedsheets >>...   \n",
       "4  [\"Home Furnishing >> Bed Linen >> Bedsheets >>...   \n",
       "\n",
       "                                         description  \n",
       "0  Key Features of Elegance Polyester Multicolor ...  \n",
       "1  Specifications of Sathiyas Cotton Bath Towel (...  \n",
       "2  Key Features of Eurospa Cotton Terry Face Towe...  \n",
       "3  Key Features of SANTOSH ROYAL FASHION Cotton P...  \n",
       "4  Key Features of Jaipur Print Cotton Floral Kin...  "
      ]
     },
     "execution_count": 5,
     "metadata": {},
     "output_type": "execute_result"
    }
   ],
   "source": [
    "df = df[[\"product_name\",\"product_category_tree\", \"description\"]]\n",
    "df.head()"
   ]
  },
  {
   "cell_type": "code",
   "execution_count": 6,
   "metadata": {},
   "outputs": [
    {
     "name": "stdout",
     "output_type": "stream",
     "text": [
      "<class 'pandas.core.frame.DataFrame'>\n",
      "RangeIndex: 1050 entries, 0 to 1049\n",
      "Data columns (total 3 columns):\n",
      " #   Column                 Non-Null Count  Dtype \n",
      "---  ------                 --------------  ----- \n",
      " 0   product_name           1050 non-null   object\n",
      " 1   product_category_tree  1050 non-null   object\n",
      " 2   description            1050 non-null   object\n",
      "dtypes: object(3)\n",
      "memory usage: 24.7+ KB\n"
     ]
    }
   ],
   "source": [
    "df.info()"
   ]
  },
  {
   "cell_type": "code",
   "execution_count": 7,
   "metadata": {},
   "outputs": [
    {
     "data": {
      "text/plain": [
       "product_name             1050\n",
       "product_category_tree     642\n",
       "description              1050\n",
       "dtype: int64"
      ]
     },
     "execution_count": 7,
     "metadata": {},
     "output_type": "execute_result"
    }
   ],
   "source": [
    "df.nunique()"
   ]
  },
  {
   "cell_type": "code",
   "execution_count": 8,
   "metadata": {},
   "outputs": [
    {
     "data": {
      "text/plain": [
       "product_name             0\n",
       "product_category_tree    0\n",
       "description              0\n",
       "dtype: int64"
      ]
     },
     "execution_count": 8,
     "metadata": {},
     "output_type": "execute_result"
    }
   ],
   "source": [
    "df.isna().sum()"
   ]
  },
  {
   "cell_type": "markdown",
   "metadata": {},
   "source": [
    "Je mets les categories sous forme de colonne hierachique"
   ]
  },
  {
   "cell_type": "code",
   "execution_count": 9,
   "metadata": {},
   "outputs": [],
   "source": [
    "# Define a function to split and create the category columns dynamically  \n",
    "def create_category_columns(row):\n",
    "    json_categories = json.loads(row[\"product_category_tree\"])\n",
    "    if(len(json_categories) > 1):\n",
    "        print(\"Categories array > 1, update the script to cover that.\")\n",
    "        sys.exit(1)  \n",
    "\n",
    "    split_categories = json_categories[0].split(\">>\")\n",
    "    \n",
    "    for i, category in enumerate(split_categories):\n",
    "        column_name = f\"category_lvl_{i + 1}\"  \n",
    "        row[column_name] = category.strip().lower()\n",
    "    return row\n",
    "\n",
    "# Apply the funcion to all rows\n",
    "df = df.assign(**df.apply(lambda row: create_category_columns(row), axis=1))  \n"
   ]
  },
  {
   "cell_type": "code",
   "execution_count": 10,
   "metadata": {},
   "outputs": [
    {
     "data": {
      "text/html": [
       "<div>\n",
       "<style scoped>\n",
       "    .dataframe tbody tr th:only-of-type {\n",
       "        vertical-align: middle;\n",
       "    }\n",
       "\n",
       "    .dataframe tbody tr th {\n",
       "        vertical-align: top;\n",
       "    }\n",
       "\n",
       "    .dataframe thead th {\n",
       "        text-align: right;\n",
       "    }\n",
       "</style>\n",
       "<table border=\"1\" class=\"dataframe\">\n",
       "  <thead>\n",
       "    <tr style=\"text-align: right;\">\n",
       "      <th></th>\n",
       "      <th>product_name</th>\n",
       "      <th>product_category_tree</th>\n",
       "      <th>description</th>\n",
       "      <th>category_lvl_1</th>\n",
       "      <th>category_lvl_2</th>\n",
       "      <th>category_lvl_3</th>\n",
       "      <th>category_lvl_4</th>\n",
       "      <th>category_lvl_5</th>\n",
       "      <th>category_lvl_6</th>\n",
       "      <th>category_lvl_7</th>\n",
       "    </tr>\n",
       "  </thead>\n",
       "  <tbody>\n",
       "    <tr>\n",
       "      <th>0</th>\n",
       "      <td>Elegance Polyester Multicolor Abstract Eyelet ...</td>\n",
       "      <td>[\"Home Furnishing &gt;&gt; Curtains &amp; Accessories &gt;&gt;...</td>\n",
       "      <td>Key Features of Elegance Polyester Multicolor ...</td>\n",
       "      <td>home furnishing</td>\n",
       "      <td>curtains &amp; accessories</td>\n",
       "      <td>curtains</td>\n",
       "      <td>elegance polyester multicolor abstract eyelet ...</td>\n",
       "      <td>NaN</td>\n",
       "      <td>NaN</td>\n",
       "      <td>NaN</td>\n",
       "    </tr>\n",
       "    <tr>\n",
       "      <th>1</th>\n",
       "      <td>Sathiyas Cotton Bath Towel</td>\n",
       "      <td>[\"Baby Care &gt;&gt; Baby Bath &amp; Skin &gt;&gt; Baby Bath T...</td>\n",
       "      <td>Specifications of Sathiyas Cotton Bath Towel (...</td>\n",
       "      <td>baby care</td>\n",
       "      <td>baby bath &amp; skin</td>\n",
       "      <td>baby bath towels</td>\n",
       "      <td>sathiyas baby bath towels</td>\n",
       "      <td>sathiyas cotton bath towel (3 bath towel, red,...</td>\n",
       "      <td>NaN</td>\n",
       "      <td>NaN</td>\n",
       "    </tr>\n",
       "    <tr>\n",
       "      <th>2</th>\n",
       "      <td>Eurospa Cotton Terry Face Towel Set</td>\n",
       "      <td>[\"Baby Care &gt;&gt; Baby Bath &amp; Skin &gt;&gt; Baby Bath T...</td>\n",
       "      <td>Key Features of Eurospa Cotton Terry Face Towe...</td>\n",
       "      <td>baby care</td>\n",
       "      <td>baby bath &amp; skin</td>\n",
       "      <td>baby bath towels</td>\n",
       "      <td>eurospa baby bath towels</td>\n",
       "      <td>eurospa cotton terry face towel set (20 piece ...</td>\n",
       "      <td>NaN</td>\n",
       "      <td>NaN</td>\n",
       "    </tr>\n",
       "    <tr>\n",
       "      <th>3</th>\n",
       "      <td>SANTOSH ROYAL FASHION Cotton Printed King size...</td>\n",
       "      <td>[\"Home Furnishing &gt;&gt; Bed Linen &gt;&gt; Bedsheets &gt;&gt;...</td>\n",
       "      <td>Key Features of SANTOSH ROYAL FASHION Cotton P...</td>\n",
       "      <td>home furnishing</td>\n",
       "      <td>bed linen</td>\n",
       "      <td>bedsheets</td>\n",
       "      <td>santosh royal fashion bedsheets</td>\n",
       "      <td>santosh royal fashion cotton printed king size...</td>\n",
       "      <td>NaN</td>\n",
       "      <td>NaN</td>\n",
       "    </tr>\n",
       "    <tr>\n",
       "      <th>4</th>\n",
       "      <td>Jaipur Print Cotton Floral King sized Double B...</td>\n",
       "      <td>[\"Home Furnishing &gt;&gt; Bed Linen &gt;&gt; Bedsheets &gt;&gt;...</td>\n",
       "      <td>Key Features of Jaipur Print Cotton Floral Kin...</td>\n",
       "      <td>home furnishing</td>\n",
       "      <td>bed linen</td>\n",
       "      <td>bedsheets</td>\n",
       "      <td>jaipur print bedsheets</td>\n",
       "      <td>jaipur print cotton floral king sized double b...</td>\n",
       "      <td>NaN</td>\n",
       "      <td>NaN</td>\n",
       "    </tr>\n",
       "  </tbody>\n",
       "</table>\n",
       "</div>"
      ],
      "text/plain": [
       "                                        product_name  \\\n",
       "0  Elegance Polyester Multicolor Abstract Eyelet ...   \n",
       "1                         Sathiyas Cotton Bath Towel   \n",
       "2                Eurospa Cotton Terry Face Towel Set   \n",
       "3  SANTOSH ROYAL FASHION Cotton Printed King size...   \n",
       "4  Jaipur Print Cotton Floral King sized Double B...   \n",
       "\n",
       "                               product_category_tree  \\\n",
       "0  [\"Home Furnishing >> Curtains & Accessories >>...   \n",
       "1  [\"Baby Care >> Baby Bath & Skin >> Baby Bath T...   \n",
       "2  [\"Baby Care >> Baby Bath & Skin >> Baby Bath T...   \n",
       "3  [\"Home Furnishing >> Bed Linen >> Bedsheets >>...   \n",
       "4  [\"Home Furnishing >> Bed Linen >> Bedsheets >>...   \n",
       "\n",
       "                                         description   category_lvl_1  \\\n",
       "0  Key Features of Elegance Polyester Multicolor ...  home furnishing   \n",
       "1  Specifications of Sathiyas Cotton Bath Towel (...        baby care   \n",
       "2  Key Features of Eurospa Cotton Terry Face Towe...        baby care   \n",
       "3  Key Features of SANTOSH ROYAL FASHION Cotton P...  home furnishing   \n",
       "4  Key Features of Jaipur Print Cotton Floral Kin...  home furnishing   \n",
       "\n",
       "           category_lvl_2    category_lvl_3  \\\n",
       "0  curtains & accessories          curtains   \n",
       "1        baby bath & skin  baby bath towels   \n",
       "2        baby bath & skin  baby bath towels   \n",
       "3               bed linen         bedsheets   \n",
       "4               bed linen         bedsheets   \n",
       "\n",
       "                                      category_lvl_4  \\\n",
       "0  elegance polyester multicolor abstract eyelet ...   \n",
       "1                          sathiyas baby bath towels   \n",
       "2                           eurospa baby bath towels   \n",
       "3                    santosh royal fashion bedsheets   \n",
       "4                             jaipur print bedsheets   \n",
       "\n",
       "                                      category_lvl_5 category_lvl_6  \\\n",
       "0                                                NaN            NaN   \n",
       "1  sathiyas cotton bath towel (3 bath towel, red,...            NaN   \n",
       "2  eurospa cotton terry face towel set (20 piece ...            NaN   \n",
       "3  santosh royal fashion cotton printed king size...            NaN   \n",
       "4  jaipur print cotton floral king sized double b...            NaN   \n",
       "\n",
       "  category_lvl_7  \n",
       "0            NaN  \n",
       "1            NaN  \n",
       "2            NaN  \n",
       "3            NaN  \n",
       "4            NaN  "
      ]
     },
     "execution_count": 10,
     "metadata": {},
     "output_type": "execute_result"
    }
   ],
   "source": [
    "df.head()"
   ]
  },
  {
   "cell_type": "code",
   "execution_count": 11,
   "metadata": {},
   "outputs": [
    {
     "data": {
      "text/plain": [
       "product_name               0\n",
       "product_category_tree      0\n",
       "description                0\n",
       "category_lvl_1             0\n",
       "category_lvl_2             0\n",
       "category_lvl_3             3\n",
       "category_lvl_4           371\n",
       "category_lvl_5           645\n",
       "category_lvl_6           923\n",
       "category_lvl_7           993\n",
       "dtype: int64"
      ]
     },
     "execution_count": 11,
     "metadata": {},
     "output_type": "execute_result"
    }
   ],
   "source": [
    "df.isna().sum()"
   ]
  },
  {
   "cell_type": "code",
   "execution_count": 12,
   "metadata": {},
   "outputs": [
    {
     "data": {
      "text/plain": [
       "product_name             0\n",
       "product_category_tree    0\n",
       "description              0\n",
       "category_lvl_1           0\n",
       "category_lvl_2           0\n",
       "category_lvl_3           0\n",
       "category_lvl_4           0\n",
       "category_lvl_5           0\n",
       "category_lvl_6           0\n",
       "category_lvl_7           0\n",
       "dtype: int64"
      ]
     },
     "execution_count": 12,
     "metadata": {},
     "output_type": "execute_result"
    }
   ],
   "source": [
    "df[\"category_lvl_3\"].fillna(\"undefined\",inplace=True)\n",
    "df[\"category_lvl_4\"].fillna(\"undefined\",inplace=True)\n",
    "df[\"category_lvl_5\"].fillna(\"undefined\",inplace=True)\n",
    "df[\"category_lvl_6\"].fillna(\"undefined\",inplace=True)\n",
    "df[\"category_lvl_7\"].fillna(\"undefined\",inplace=True)\n",
    "df.isna().sum()\n"
   ]
  },
  {
   "cell_type": "markdown",
   "metadata": {},
   "source": [
    "Je regarde la distribution de mes valeurs"
   ]
  },
  {
   "cell_type": "code",
   "execution_count": 13,
   "metadata": {},
   "outputs": [
    {
     "data": {
      "text/plain": [
       "home furnishing               150\n",
       "baby care                     150\n",
       "watches                       150\n",
       "home decor & festive needs    150\n",
       "kitchen & dining              150\n",
       "beauty and personal care      150\n",
       "computers                     150\n",
       "Name: category_lvl_1, dtype: int64"
      ]
     },
     "execution_count": 13,
     "metadata": {},
     "output_type": "execute_result"
    }
   ],
   "source": [
    "df['category_lvl_1'].value_counts()"
   ]
  },
  {
   "cell_type": "code",
   "execution_count": 14,
   "metadata": {},
   "outputs": [
    {
     "data": {
      "image/png": "[encoded data removed]",
      "text/plain": [
       "<Figure size 500x500 with 1 Axes>"
      ]
     },
     "metadata": {},
     "output_type": "display_data"
    }
   ],
   "source": [
    "# Assuming 'df' is your DataFrame  \n",
    "category_counts = df['category_lvl_1'].value_counts()  \n",
    "  \n",
    "# Set color palette from seaborn  \n",
    "colors = sns.color_palette('Set3')  \n",
    "  \n",
    "# Create pie chart  \n",
    "plt.figure(figsize=(5, 5))  \n",
    "plt.pie(category_counts, labels=category_counts.index, autopct='%1.1f%%', startangle=90, colors=colors)  \n",
    "plt.axis('equal')  \n",
    "plt.title(\"Value counts of 'category_lvl_1'\")  \n",
    "  \n",
    "# Show the chart  \n",
    "plt.show()  "
   ]
  },
  {
   "cell_type": "markdown",
   "metadata": {},
   "source": [
    "La distribution est similaire pour chaque produits, j'affiche la 2e catégorie via le graphique sunburst"
   ]
  },
  {
   "cell_type": "code",
   "execution_count": 15,
   "metadata": {},
   "outputs": [
    {
     "data": {
      "application/vnd.plotly.v1+json": {
       "config": {
        "plotlyServerURL": "https://plot.ly"
       },
       "data": [
        {
         "branchvalues": "total",
         "domain": {
          "x": [
           0,
           1
          ],
          "y": [
           0,
           1
          ]
         },
         "hovertemplate": "labels=%{label}<br>count=%{value}<br>parent=%{parent}<br>id=%{id}<extra></extra>",
         "ids": [
          "baby care/baby & kids gifts",
          "baby care/baby bath & skin",
          "baby care/baby bedding",
          "baby care/baby grooming",
          "kitchen & dining/bar & glassware",
          "beauty and personal care/bath and spa",
          "home furnishing/bath linen",
          "beauty and personal care/beauty accessories",
          "home furnishing/bed linen",
          "beauty and personal care/body and skin care",
          "home decor & festive needs/candles & fragrances",
          "watches/clocks",
          "kitchen & dining/coffee mugs",
          "beauty and personal care/combos and kits",
          "computers/computer components",
          "computers/computer peripherals",
          "kitchen & dining/consumables & disposables",
          "kitchen & dining/containers & bottles",
          "kitchen & dining/cookware",
          "home furnishing/curtains & accessories",
          "home furnishing/cushions, pillows & covers",
          "home decor & festive needs/decorative lighting & lamps",
          "baby care/diapering & potty training",
          "kitchen & dining/dinnerware & crockery",
          "beauty and personal care/eye care",
          "baby care/feeding & nursing",
          "home furnishing/floor coverings",
          "home decor & festive needs/flowers, plants & vases",
          "beauty and personal care/fragrances",
          "baby care/furniture & furnishings",
          "home decor & festive needs/garden & leisure",
          "beauty and personal care/hair care",
          "beauty and personal care/health care",
          "kitchen & dining/housekeeping & laundry",
          "baby care/infant wear",
          "home furnishing/jmd home furnishing",
          "home furnishing/kitchen & dining linen",
          "kitchen & dining/kitchen tools",
          "home furnishing/kripa's home furnishing",
          "computers/laptop accessories",
          "computers/laptops",
          "kitchen & dining/lighting",
          "home furnishing/living",
          "home furnishing/living room furnishing",
          "beauty and personal care/makeup",
          "beauty and personal care/men's grooming",
          "computers/network components",
          "kitchen & dining/pressure cookers & pans",
          "home decor & festive needs/religion & devotion",
          "home decor & festive needs/showpiece",
          "home decor & festive needs/showpieces",
          "computers/software",
          "computers/storage",
          "baby care/strollers & activity gear",
          "home decor & festive needs/table decor & handicrafts",
          "computers/tablet accessories",
          "kitchen & dining/tableware & cutlery",
          "home furnishing/tidy home furnishing",
          "home decor & festive needs/true home decor & festive needs",
          "home decor & festive needs/wall decor & clocks",
          "beauty and personal care/women's hygiene",
          "watches/wrist watches",
          "baby care",
          "beauty and personal care",
          "computers",
          "home decor & festive needs",
          "home furnishing",
          "kitchen & dining",
          "watches"
         ],
         "labels": [
          "baby & kids gifts",
          "baby bath & skin",
          "baby bedding",
          "baby grooming",
          "bar & glassware",
          "bath and spa",
          "bath linen",
          "beauty accessories",
          "bed linen",
          "body and skin care",
          "candles & fragrances",
          "clocks",
          "coffee mugs",
          "combos and kits",
          "computer components",
          "computer peripherals",
          "consumables & disposables",
          "containers & bottles",
          "cookware",
          "curtains & accessories",
          "cushions, pillows & covers",
          "decorative lighting & lamps",
          "diapering & potty training",
          "dinnerware & crockery",
          "eye care",
          "feeding & nursing",
          "floor coverings",
          "flowers, plants & vases",
          "fragrances",
          "furniture & furnishings",
          "garden & leisure",
          "hair care",
          "health care",
          "housekeeping & laundry",
          "infant wear",
          "jmd home furnishing",
          "kitchen & dining linen",
          "kitchen tools",
          "kripa's home furnishing",
          "laptop accessories",
          "laptops",
          "lighting",
          "living",
          "living room furnishing",
          "makeup",
          "men's grooming",
          "network components",
          "pressure cookers & pans",
          "religion & devotion",
          "showpiece",
          "showpieces",
          "software",
          "storage",
          "strollers & activity gear",
          "table decor & handicrafts",
          "tablet accessories",
          "tableware & cutlery",
          "tidy home furnishing",
          "true home decor & festive needs",
          "wall decor & clocks",
          "women's hygiene",
          "wrist watches",
          "baby care",
          "beauty and personal care",
          "computers",
          "home decor & festive needs",
          "home furnishing",
          "kitchen & dining",
          "watches"
         ],
         "name": "",
         "parents": [
          "baby care",
          "baby care",
          "baby care",
          "baby care",
          "kitchen & dining",
          "beauty and personal care",
          "home furnishing",
          "beauty and personal care",
          "home furnishing",
          "beauty and personal care",
          "home decor & festive needs",
          "watches",
          "kitchen & dining",
          "beauty and personal care",
          "computers",
          "computers",
          "kitchen & dining",
          "kitchen & dining",
          "kitchen & dining",
          "home furnishing",
          "home furnishing",
          "home decor & festive needs",
          "baby care",
          "kitchen & dining",
          "beauty and personal care",
          "baby care",
          "home furnishing",
          "home decor & festive needs",
          "beauty and personal care",
          "baby care",
          "home decor & festive needs",
          "beauty and personal care",
          "beauty and personal care",
          "kitchen & dining",
          "baby care",
          "home furnishing",
          "home furnishing",
          "kitchen & dining",
          "home furnishing",
          "computers",
          "computers",
          "kitchen & dining",
          "home furnishing",
          "home furnishing",
          "beauty and personal care",
          "beauty and personal care",
          "computers",
          "kitchen & dining",
          "home decor & festive needs",
          "home decor & festive needs",
          "home decor & festive needs",
          "computers",
          "computers",
          "baby care",
          "home decor & festive needs",
          "computers",
          "kitchen & dining",
          "home furnishing",
          "home decor & festive needs",
          "home decor & festive needs",
          "beauty and personal care",
          "watches",
          "",
          "",
          "",
          "",
          "",
          "",
          ""
         ],
         "type": "sunburst",
         "values": [
          15,
          14,
          15,
          4,
          8,
          7,
          21,
          1,
          65,
          15,
          1,
          1,
          74,
          24,
          2,
          4,
          1,
          13,
          27,
          19,
          13,
          14,
          7,
          1,
          2,
          8,
          6,
          5,
          65,
          2,
          1,
          9,
          7,
          1,
          84,
          1,
          14,
          14,
          1,
          87,
          2,
          7,
          6,
          3,
          18,
          1,
          49,
          1,
          3,
          5,
          71,
          1,
          2,
          1,
          27,
          3,
          3,
          1,
          1,
          22,
          1,
          149,
          150,
          150,
          150,
          150,
          150,
          150,
          150
         ]
        }
       ],
       "layout": {
        "height": 500,
        "legend": {
         "tracegroupgap": 0
        },
        "margin": {
         "b": 0,
         "l": 0,
         "r": 0,
         "t": 0
        },
        "template": {
         "data": {
          "bar": [
           {
            "error_x": {
             "color": "#2a3f5f"
            },
            "error_y": {
             "color": "#2a3f5f"
            },
            "marker": {
             "line": {
              "color": "#E5ECF6",
              "width": 0.5
             },
             "pattern": {
              "fillmode": "overlay",
              "size": 10,
              "solidity": 0.2
             }
            },
            "type": "bar"
           }
          ],
          "barpolar": [
           {
            "marker": {
             "line": {
              "color": "#E5ECF6",
              "width": 0.5
             },
             "pattern": {
              "fillmode": "overlay",
              "size": 10,
              "solidity": 0.2
             }
            },
            "type": "barpolar"
           }
          ],
          "carpet": [
           {
            "aaxis": {
             "endlinecolor": "#2a3f5f",
             "gridcolor": "white",
             "linecolor": "white",
             "minorgridcolor": "white",
             "startlinecolor": "#2a3f5f"
            },
            "baxis": {
             "endlinecolor": "#2a3f5f",
             "gridcolor": "white",
             "linecolor": "white",
             "minorgridcolor": "white",
             "startlinecolor": "#2a3f5f"
            },
            "type": "carpet"
           }
          ],
          "choropleth": [
           {
            "colorbar": {
             "outlinewidth": 0,
             "ticks": ""
            },
            "type": "choropleth"
           }
          ],
          "contour": [
           {
            "colorbar": {
             "outlinewidth": 0,
             "ticks": ""
            },
            "colorscale": [
             [
              0,
              "#0d0887"
             ],
             [
              0.1111111111111111,
              "#46039f"
             ],
             [
              0.2222222222222222,
              "#7201a8"
             ],
             [
              0.3333333333333333,
              "#9c179e"
             ],
             [
              0.4444444444444444,
              "#bd3786"
             ],
             [
              0.5555555555555556,
              "#d8576b"
             ],
             [
              0.6666666666666666,
              "#ed7953"
             ],
             [
              0.7777777777777778,
              "#fb9f3a"
             ],
             [
              0.8888888888888888,
              "#fdca26"
             ],
             [
              1,
              "#f0f921"
             ]
            ],
            "type": "contour"
           }
          ],
          "contourcarpet": [
           {
            "colorbar": {
             "outlinewidth": 0,
             "ticks": ""
            },
            "type": "contourcarpet"
           }
          ],
          "heatmap": [
           {
            "colorbar": {
             "outlinewidth": 0,
             "ticks": ""
            },
            "colorscale": [
             [
              0,
              "#0d0887"
             ],
             [
              0.1111111111111111,
              "#46039f"
             ],
             [
              0.2222222222222222,
              "#7201a8"
             ],
             [
              0.3333333333333333,
              "#9c179e"
             ],
             [
              0.4444444444444444,
              "#bd3786"
             ],
             [
              0.5555555555555556,
              "#d8576b"
             ],
             [
              0.6666666666666666,
              "#ed7953"
             ],
             [
              0.7777777777777778,
              "#fb9f3a"
             ],
             [
              0.8888888888888888,
              "#fdca26"
             ],
             [
              1,
              "#f0f921"
             ]
            ],
            "type": "heatmap"
           }
          ],
          "heatmapgl": [
           {
            "colorbar": {
             "outlinewidth": 0,
             "ticks": ""
            },
            "colorscale": [
             [
              0,
              "#0d0887"
             ],
             [
              0.1111111111111111,
              "#46039f"
             ],
             [
              0.2222222222222222,
              "#7201a8"
             ],
             [
              0.3333333333333333,
              "#9c179e"
             ],
             [
              0.4444444444444444,
              "#bd3786"
             ],
             [
              0.5555555555555556,
              "#d8576b"
             ],
             [
              0.6666666666666666,
              "#ed7953"
             ],
             [
              0.7777777777777778,
              "#fb9f3a"
             ],
             [
              0.8888888888888888,
              "#fdca26"
             ],
             [
              1,
              "#f0f921"
             ]
            ],
            "type": "heatmapgl"
           }
          ],
          "histogram": [
           {
            "marker": {
             "pattern": {
              "fillmode": "overlay",
              "size": 10,
              "solidity": 0.2
             }
            },
            "type": "histogram"
           }
          ],
          "histogram2d": [
           {
            "colorbar": {
             "outlinewidth": 0,
             "ticks": ""
            },
            "colorscale": [
             [
              0,
              "#0d0887"
             ],
             [
              0.1111111111111111,
              "#46039f"
             ],
             [
              0.2222222222222222,
              "#7201a8"
             ],
             [
              0.3333333333333333,
              "#9c179e"
             ],
             [
              0.4444444444444444,
              "#bd3786"
             ],
             [
              0.5555555555555556,
              "#d8576b"
             ],
             [
              0.6666666666666666,
              "#ed7953"
             ],
             [
              0.7777777777777778,
              "#fb9f3a"
             ],
             [
              0.8888888888888888,
              "#fdca26"
             ],
             [
              1,
              "#f0f921"
             ]
            ],
            "type": "histogram2d"
           }
          ],
          "histogram2dcontour": [
           {
            "colorbar": {
             "outlinewidth": 0,
             "ticks": ""
            },
            "colorscale": [
             [
              0,
              "#0d0887"
             ],
             [
              0.1111111111111111,
              "#46039f"
             ],
             [
              0.2222222222222222,
              "#7201a8"
             ],
             [
              0.3333333333333333,
              "#9c179e"
             ],
             [
              0.4444444444444444,
              "#bd3786"
             ],
             [
              0.5555555555555556,
              "#d8576b"
             ],
             [
              0.6666666666666666,
              "#ed7953"
             ],
             [
              0.7777777777777778,
              "#fb9f3a"
             ],
             [
              0.8888888888888888,
              "#fdca26"
             ],
             [
              1,
              "#f0f921"
             ]
            ],
            "type": "histogram2dcontour"
           }
          ],
          "mesh3d": [
           {
            "colorbar": {
             "outlinewidth": 0,
             "ticks": ""
            },
            "type": "mesh3d"
           }
          ],
          "parcoords": [
           {
            "line": {
             "colorbar": {
              "outlinewidth": 0,
              "ticks": ""
             }
            },
            "type": "parcoords"
           }
          ],
          "pie": [
           {
            "automargin": true,
            "type": "pie"
           }
          ],
          "scatter": [
           {
            "fillpattern": {
             "fillmode": "overlay",
             "size": 10,
             "solidity": 0.2
            },
            "type": "scatter"
           }
          ],
          "scatter3d": [
           {
            "line": {
             "colorbar": {
              "outlinewidth": 0,
              "ticks": ""
             }
            },
            "marker": {
             "colorbar": {
              "outlinewidth": 0,
              "ticks": ""
             }
            },
            "type": "scatter3d"
           }
          ],
          "scattercarpet": [
           {
            "marker": {
             "colorbar": {
              "outlinewidth": 0,
              "ticks": ""
             }
            },
            "type": "scattercarpet"
           }
          ],
          "scattergeo": [
           {
            "marker": {
             "colorbar": {
              "outlinewidth": 0,
              "ticks": ""
             }
            },
            "type": "scattergeo"
           }
          ],
          "scattergl": [
           {
            "marker": {
             "colorbar": {
              "outlinewidth": 0,
              "ticks": ""
             }
            },
            "type": "scattergl"
           }
          ],
          "scattermapbox": [
           {
            "marker": {
             "colorbar": {
              "outlinewidth": 0,
              "ticks": ""
             }
            },
            "type": "scattermapbox"
           }
          ],
          "scatterpolar": [
           {
            "marker": {
             "colorbar": {
              "outlinewidth": 0,
              "ticks": ""
             }
            },
            "type": "scatterpolar"
           }
          ],
          "scatterpolargl": [
           {
            "marker": {
             "colorbar": {
              "outlinewidth": 0,
              "ticks": ""
             }
            },
            "type": "scatterpolargl"
           }
          ],
          "scatterternary": [
           {
            "marker": {
             "colorbar": {
              "outlinewidth": 0,
              "ticks": ""
             }
            },
            "type": "scatterternary"
           }
          ],
          "surface": [
           {
            "colorbar": {
             "outlinewidth": 0,
             "ticks": ""
            },
            "colorscale": [
             [
              0,
              "#0d0887"
             ],
             [
              0.1111111111111111,
              "#46039f"
             ],
             [
              0.2222222222222222,
              "#7201a8"
             ],
             [
              0.3333333333333333,
              "#9c179e"
             ],
             [
              0.4444444444444444,
              "#bd3786"
             ],
             [
              0.5555555555555556,
              "#d8576b"
             ],
             [
              0.6666666666666666,
              "#ed7953"
             ],
             [
              0.7777777777777778,
              "#fb9f3a"
             ],
             [
              0.8888888888888888,
              "#fdca26"
             ],
             [
              1,
              "#f0f921"
             ]
            ],
            "type": "surface"
           }
          ],
          "table": [
           {
            "cells": {
             "fill": {
              "color": "#EBF0F8"
             },
             "line": {
              "color": "white"
             }
            },
            "header": {
             "fill": {
              "color": "#C8D4E3"
             },
             "line": {
              "color": "white"
             }
            },
            "type": "table"
           }
          ]
         },
         "layout": {
          "annotationdefaults": {
           "arrowcolor": "#2a3f5f",
           "arrowhead": 0,
           "arrowwidth": 1
          },
          "autotypenumbers": "strict",
          "coloraxis": {
           "colorbar": {
            "outlinewidth": 0,
            "ticks": ""
           }
          },
          "colorscale": {
           "diverging": [
            [
             0,
             "#8e0152"
            ],
            [
             0.1,
             "#c51b7d"
            ],
            [
             0.2,
             "#de77ae"
            ],
            [
             0.3,
             "#f1b6da"
            ],
            [
             0.4,
             "#fde0ef"
            ],
            [
             0.5,
             "#f7f7f7"
            ],
            [
             0.6,
             "#e6f5d0"
            ],
            [
             0.7,
             "#b8e186"
            ],
            [
             0.8,
             "#7fbc41"
            ],
            [
             0.9,
             "#4d9221"
            ],
            [
             1,
             "#276419"
            ]
           ],
           "sequential": [
            [
             0,
             "#0d0887"
            ],
            [
             0.1111111111111111,
             "#46039f"
            ],
            [
             0.2222222222222222,
             "#7201a8"
            ],
            [
             0.3333333333333333,
             "#9c179e"
            ],
            [
             0.4444444444444444,
             "#bd3786"
            ],
            [
             0.5555555555555556,
             "#d8576b"
            ],
            [
             0.6666666666666666,
             "#ed7953"
            ],
            [
             0.7777777777777778,
             "#fb9f3a"
            ],
            [
             0.8888888888888888,
             "#fdca26"
            ],
            [
             1,
             "#f0f921"
            ]
           ],
           "sequentialminus": [
            [
             0,
             "#0d0887"
            ],
            [
             0.1111111111111111,
             "#46039f"
            ],
            [
             0.2222222222222222,
             "#7201a8"
            ],
            [
             0.3333333333333333,
             "#9c179e"
            ],
            [
             0.4444444444444444,
             "#bd3786"
            ],
            [
             0.5555555555555556,
             "#d8576b"
            ],
            [
             0.6666666666666666,
             "#ed7953"
            ],
            [
             0.7777777777777778,
             "#fb9f3a"
            ],
            [
             0.8888888888888888,
             "#fdca26"
            ],
            [
             1,
             "#f0f921"
            ]
           ]
          },
          "colorway": [
           "#636efa",
           "#EF553B",
           "#00cc96",
           "#ab63fa",
           "#FFA15A",
           "#19d3f3",
           "#FF6692",
           "#B6E880",
           "#FF97FF",
           "#FECB52"
          ],
          "font": {
           "color": "#2a3f5f"
          },
          "geo": {
           "bgcolor": "white",
           "lakecolor": "white",
           "landcolor": "#E5ECF6",
           "showlakes": true,
           "showland": true,
           "subunitcolor": "white"
          },
          "hoverlabel": {
           "align": "left"
          },
          "hovermode": "closest",
          "mapbox": {
           "style": "light"
          },
          "paper_bgcolor": "white",
          "plot_bgcolor": "#E5ECF6",
          "polar": {
           "angularaxis": {
            "gridcolor": "white",
            "linecolor": "white",
            "ticks": ""
           },
           "bgcolor": "#E5ECF6",
           "radialaxis": {
            "gridcolor": "white",
            "linecolor": "white",
            "ticks": ""
           }
          },
          "scene": {
           "xaxis": {
            "backgroundcolor": "#E5ECF6",
            "gridcolor": "white",
            "gridwidth": 2,
            "linecolor": "white",
            "showbackground": true,
            "ticks": "",
            "zerolinecolor": "white"
           },
           "yaxis": {
            "backgroundcolor": "#E5ECF6",
            "gridcolor": "white",
            "gridwidth": 2,
            "linecolor": "white",
            "showbackground": true,
            "ticks": "",
            "zerolinecolor": "white"
           },
           "zaxis": {
            "backgroundcolor": "#E5ECF6",
            "gridcolor": "white",
            "gridwidth": 2,
            "linecolor": "white",
            "showbackground": true,
            "ticks": "",
            "zerolinecolor": "white"
           }
          },
          "shapedefaults": {
           "line": {
            "color": "#2a3f5f"
           }
          },
          "ternary": {
           "aaxis": {
            "gridcolor": "white",
            "linecolor": "white",
            "ticks": ""
           },
           "baxis": {
            "gridcolor": "white",
            "linecolor": "white",
            "ticks": ""
           },
           "bgcolor": "#E5ECF6",
           "caxis": {
            "gridcolor": "white",
            "linecolor": "white",
            "ticks": ""
           }
          },
          "title": {
           "x": 0.05
          },
          "xaxis": {
           "automargin": true,
           "gridcolor": "white",
           "linecolor": "white",
           "ticks": "",
           "title": {
            "standoff": 15
           },
           "zerolinecolor": "white",
           "zerolinewidth": 2
          },
          "yaxis": {
           "automargin": true,
           "gridcolor": "white",
           "linecolor": "white",
           "ticks": "",
           "title": {
            "standoff": 15
           },
           "zerolinecolor": "white",
           "zerolinewidth": 2
          }
         }
        },
        "title": {
         "text": "Zoomable Sunburst Chart"
        },
        "width": 500
       }
      }
     },
     "metadata": {},
     "output_type": "display_data"
    }
   ],
   "source": [
    "fig = px.sunburst(df, path=['category_lvl_1', 'category_lvl_2'])\n",
    "\n",
    "fig.update_layout(  \n",
    "    margin=dict(t=0, l=0, r=0, b=0),  \n",
    "    width=500,  \n",
    "    height=500,  \n",
    "    title=\"Zoomable Sunburst Chart\"  \n",
    ")  \n",
    "\n",
    "fig.show()"
   ]
  },
  {
   "cell_type": "markdown",
   "metadata": {},
   "source": [
    "Je visualize avec Treemap pour observer la différence de rendu avec sunburst pour utiliser lors de la présentation"
   ]
  },
  {
   "cell_type": "code",
   "execution_count": 16,
   "metadata": {},
   "outputs": [
    {
     "data": {
      "application/vnd.plotly.v1+json": {
       "config": {
        "plotlyServerURL": "https://plot.ly"
       },
       "data": [
        {
         "branchvalues": "total",
         "domain": {
          "x": [
           0,
           1
          ],
          "y": [
           0,
           1
          ]
         },
         "hovertemplate": "labels=%{label}<br>count=%{value}<br>parent=%{parent}<br>id=%{id}<extra></extra>",
         "ids": [
          "home decor & festive needs/showpieces/aapno rajasthan showpieces",
          "home decor & festive needs/showpieces/adaa showpieces",
          "computers/laptop accessories/adapters",
          "watches/wrist watches/adino wrist watches",
          "kitchen & dining/coffee mugs/akup coffee mugs",
          "watches/wrist watches/alfajr wrist watches",
          "kitchen & dining/coffee mugs/am creation coffee mugs",
          "computers/laptop accessories/anti dust plugs",
          "home decor & festive needs/flowers, plants & vases/artificial plants",
          "baby care/baby bath & skin/baby bath towels",
          "baby care/baby bedding/baby bedsheets",
          "baby care/baby bedding/baby blankets",
          "baby care/baby bath & skin/baby body wash",
          "baby care/infant wear/baby boys' clothes",
          "baby care/infant wear/baby girls' clothes",
          "baby care/baby grooming/baby grooming combos",
          "baby care/baby grooming/baby massage oils",
          "baby care/baby bedding/baby mattresses",
          "baby care/baby bedding/baby mosquito nets",
          "baby care/baby bath & skin/baby shower caps",
          "baby care/baby bedding/baby sleeping bags",
          "kitchen & dining/bar & glassware/bar accessories",
          "kitchen & dining/bar & glassware/bar glasses",
          "beauty and personal care/bath and spa/bath and spa accessories",
          "home furnishing/bath linen/bath mats",
          "computers/laptop accessories/batteries",
          "home furnishing/bed linen/bedsheets",
          "home decor & festive needs/showpieces/beyoutiful showpieces",
          "home decor & festive needs/showpiece/bharatcraft showpiece",
          "baby care/feeding & nursing/bibs & hankies",
          "home furnishing/bed linen/blankets, quilts & dohars",
          "beauty and personal care/bath and spa/body and essential oils",
          "baby care/baby grooming/boreal baby grooming",
          "baby care/feeding & nursing/bottles & accessories",
          "kitchen & dining/containers & bottles/bottles & sippers",
          "kitchen & dining/consumables & disposables/bowls",
          "home decor & festive needs/religion & devotion/brass gift center religion & devotion",
          "beauty and personal care/combos and kits/brillare science combos and kits",
          "kitchen & dining/lighting/bulbs",
          "watches/wrist watches/calibro wrist watches",
          "watches/wrist watches/camerii wrist watches",
          "home furnishing/floor coverings/carpets & rugs",
          "watches/wrist watches/cartier wrist watches",
          "computers/tablet accessories/cases & covers",
          "kitchen & dining/cookware/casserole & sets",
          "watches/wrist watches/cb fashion wrist watches",
          "baby care/diapering & potty training/changing tables",
          "watches/wrist watches/chappin & nellson wrist watches",
          "kitchen & dining/kitchen tools/choppers & peelers",
          "computers/laptop accessories/cleaning kits",
          "home decor & festive needs/wall decor & clocks/clocks",
          "home furnishing/kitchen & dining linen/coasters",
          "beauty and personal care/women's hygiene/combo & kits",
          "computers/laptop accessories/computer accessories combos",
          "beauty and personal care/hair care/conditioners",
          "kitchen & dining/containers & bottles/containers & jars",
          "home decor & festive needs/showpiece/contemporary",
          "baby care/baby grooming/cotton buds",
          "computers/computer peripherals/cpu",
          "kitchen & dining/dinnerware & crockery/cups & saucers",
          "watches/wrist watches/curren nx wrist watches",
          "home furnishing/curtains & accessories/curtains",
          "home furnishing/cushions, pillows & covers/cushion covers",
          "home furnishing/cushions, pillows & covers/cushions",
          "kitchen & dining/tableware & cutlery/cutlery",
          "watches/wrist watches/d'signer wrist watches",
          "baby care/baby & kids gifts/decorations",
          "beauty and personal care/fragrances/deodorants",
          "baby care/diapering & potty training/diaper bags",
          "watches/wrist watches/disney wrist watches",
          "home furnishing/living room furnishing/diwan sets",
          "home furnishing/bed linen/duvet covers",
          "home decor & festive needs/showpieces/ecraftindia showpieces",
          "watches/wrist watches/elantra wrist watches",
          "watches/wrist watches/escort wrist watches",
          "watches/wrist watches/esidon wrist watches",
          "home decor & festive needs/showpieces/ethnic",
          "home decor & festive needs/showpieces/exotic india showpieces",
          "beauty and personal care/makeup/eyes",
          "beauty and personal care/body and skin care/face care",
          "watches/wrist watches/fastrack wrist watches",
          "home decor & festive needs/showpieces/fengshui",
          "watches/wrist watches/fighter wrist watches",
          "watches/wrist watches/firstrace wrist watches",
          "watches/wrist watches/flippd wrist watches",
          "home decor & festive needs/decorative lighting & lamps/floor lamp",
          "home decor & festive needs/flowers, plants & vases/flower vase",
          "watches/wrist watches/fluid wrist watches",
          "watches/wrist watches/fogg fashion store wrist watches",
          "watches/wrist watches/franck bella wrist watches",
          "watches/wrist watches/gift island wrist watches",
          "watches/wrist watches/global nomad wrist watches",
          "home decor & festive needs/showpiece/gramophones",
          "beauty and personal care/hair care/hair care accessories",
          "beauty and personal care/hair care/hair colors",
          "home decor & festive needs/garden & leisure/hammocks & swings",
          "beauty and personal care/body and skin care/hand care",
          "kitchen & dining/coffee mugs/happiness is coffee mugs",
          "beauty and personal care/health care/health care accessories",
          "beauty and personal care/health care/health care devices",
          "watches/wrist watches/hmt wrist watches",
          "kitchen & dining/housekeeping & laundry/home cleaning",
          "home decor & festive needs/candles & fragrances/home fragrances",
          "watches/wrist watches/hourglass wrist watches",
          "computers/laptops/hp laptops",
          "kitchen & dining/coffee mugs/huppmegift coffee mugs",
          "baby care/furniture & furnishings/inflatable products",
          "watches/wrist watches/jack klein wrist watches",
          "home decor & festive needs/showpieces/jaipur raga showpieces",
          "home decor & festive needs/religion & devotion/jaycoknit religion & devotion",
          "home furnishing/jmd home furnishing/jmd printed cushions cover (pack of 2, 40 cm*40 ...",
          "kitchen & dining/tableware & cutlery/jug, glass & tray sets",
          "kitchen & dining/tableware & cutlery/jugs & pitchers",
          "home decor & festive needs/wall decor & clocks/key holders",
          "computers/tablet accessories/keyboards",
          "kitchen & dining/kitchen tools/kitchen implements",
          "home furnishing/kitchen & dining linen/kitchen linen sets",
          "kitchen & dining/kitchen tools/kitchen tool sets",
          "watches/wrist watches/kool kidz wrist watches",
          "home furnishing/kripa's home furnishing/kripa's printed cushions cover (pack of 2, 45 cm...",
          "computers/software/language learning",
          "home decor & festive needs/decorative lighting & lamps/lanterns",
          "computers/laptop accessories/laptop adapters",
          "computers/laptop accessories/laptop bags",
          "watches/wrist watches/lenco wrist watches",
          "kitchen & dining/cookware/lids",
          "beauty and personal care/body and skin care/lip care",
          "beauty and personal care/makeup/lips",
          "watches/wrist watches/logues wrist watches",
          "watches/wrist watches/lois caron wrist watches",
          "watches/wrist watches/luba wrist watches",
          "kitchen & dining/containers & bottles/lunch boxes",
          "home furnishing/living room furnishing/lushomes living room furnishing",
          "home decor & festive needs/showpieces/ma design hut showpieces",
          "beauty and personal care/beauty accessories/makeup accessories",
          "home decor & festive needs/showpieces/malhar showpieces",
          "beauty and personal care/combos and kits/mars combos and kits",
          "watches/wrist watches/marvel wrist watches",
          "watches/wrist watches/maserati time wrist watches",
          "home decor & festive needs/showpieces/mavi showpieces",
          "watches/wrist watches/maxima wrist watches",
          "beauty and personal care/health care/medical equipment & accessories",
          "beauty and personal care/health care/medicines & treatment",
          "computers/laptop accessories/mouse pads",
          "beauty and personal care/combos and kits/mxofere combos and kits",
          "beauty and personal care/makeup/nails",
          "baby care/diapering & potty training/nappies & cloth diapers",
          "home decor & festive needs/showpieces/nehp showpieces",
          "watches/wrist watches/neo classic wrist watches",
          "watches/wrist watches/nexus wrist watches",
          "watches/wrist watches/noise wrist watches",
          "watches/wrist watches/north moon wrist watches",
          "watches/wrist watches/now wrist watches",
          "watches/wrist watches/olvin wrist watches",
          "watches/wrist watches/only kidz wrist watches",
          "home decor & festive needs/showpieces/orange tree showpieces",
          "beauty and personal care/combos and kits/oxyglow combos and kits",
          "home decor & festive needs/wall decor & clocks/paintings",
          "watches/wrist watches/palito wrist watches",
          "home decor & festive needs/showpieces/parv collections showpieces",
          "computers/storage/pen drives",
          "watches/wrist watches/perucci wrist watches",
          "watches/wrist watches/petrol wrist watches",
          "baby care/baby & kids gifts/photo frames",
          "watches/wrist watches/pittsburgh polo club wrist watches",
          "home decor & festive needs/showpieces/port showpieces",
          "computers/computer peripherals/portable projectors",
          "kitchen & dining/coffee mugs/posterchacha coffee mugs",
          "home decor & festive needs/wall decor & clocks/posters",
          "kitchen & dining/cookware/pots & pans",
          "kitchen & dining/pressure cookers & pans/prestige pressure cookers & pans",
          "computers/computer peripherals/printers & inks",
          "kitchen & dining/coffee mugs/printland coffee mugs",
          "kitchen & dining/coffee mugs/prithish coffee mugs",
          "computers/computer components/processors",
          "home decor & festive needs/showpieces/purpledip showpieces",
          "watches/wrist watches/r.s wrist watches",
          "kitchen & dining/coffee mugs/rajesh digital coffee mugs",
          "computers/computer components/rams",
          "watches/wrist watches/rana watches wrist watches",
          "home decor & festive needs/showpieces/rastogi handicrafts showpieces",
          "kitchen & dining/coffee mugs/returnfavors coffee mugs",
          "watches/wrist watches/ridas wrist watches",
          "kitchen & dining/coffee mugs/rockmantra coffee mugs",
          "watches/wrist watches/romex wrist watches",
          "computers/network components/routers",
          "watches/wrist watches/rrtc wrist watches",
          "beauty and personal care/combos and kits/rythmx combos and kits",
          "home decor & festive needs/showpieces/s c handicrafts showpieces",
          "home decor & festive needs/decorative lighting & lamps/series lights",
          "watches/wrist watches/sf by sonata wrist watches",
          "beauty and personal care/hair care/shampoos",
          "home decor & festive needs/religion & devotion/shankh",
          "kitchen & dining/coffee mugs/shopmania coffee mugs",
          "home decor & festive needs/showpieces/shoppingtara showpieces",
          "home decor & festive needs/table decor & handicrafts/showpieces",
          "beauty and personal care/men's grooming/sivanna men's grooming",
          "watches/wrist watches/skmei wrist watches",
          "beauty and personal care/bath and spa/soaps",
          "home furnishing/living/sofa covers",
          "watches/wrist watches/sonata wrist watches",
          "watches/wrist watches/srushti art jewelry wrist watches",
          "kitchen & dining/cookware/steamers & idli makers",
          "baby care/baby & kids gifts/stickers",
          "baby care/strollers & activity gear/strollers & prams",
          "watches/wrist watches/svm wrist watches",
          "watches/wrist watches/t star wrist watches",
          "watches/clocks/table clocks",
          "home furnishing/kitchen & dining linen/table covers",
          "home decor & festive needs/table decor & handicrafts/table decor",
          "home decor & festive needs/decorative lighting & lamps/table lamps",
          "home furnishing/kitchen & dining linen/table linen sets",
          "home furnishing/kitchen & dining linen/table placemats",
          "home furnishing/kitchen & dining linen/table runners",
          "watches/wrist watches/tag heuer wrist watches",
          "home decor & festive needs/showpieces/the crafts house showpieces",
          "home furnishing/tidy home furnishing/tidy printed cushions cover (pack of 9, 50 cm*50...",
          "home decor & festive needs/showpieces/tiedribbons showpieces",
          "watches/wrist watches/times wrist watches",
          "watches/wrist watches/timewel wrist watches",
          "watches/wrist watches/timex wrist watches",
          "watches/wrist watches/titan wrist watches",
          "home furnishing/bath linen/towels",
          "home furnishing/living/undefined",
          "home decor & festive needs/true home decor & festive needs/undefined",
          "home decor & festive needs/showpieces/unique design showpieces",
          "home decor & festive needs/showpieces/unique handicrafts showpieces",
          "home decor & festive needs/showpieces/unravel india showpieces",
          "computers/laptop accessories/usb gadgets",
          "baby care/feeding & nursing/utensils",
          "watches/wrist watches/v9 wrist watches",
          "beauty and personal care/makeup/vanity boxes",
          "home decor & festive needs/showpieces/vedic deals showpieces",
          "watches/wrist watches/vizion wrist watches",
          "home decor & festive needs/wall decor & clocks/wall decals & stickers",
          "home decor & festive needs/wall decor & clocks/wall shelves",
          "home decor & festive needs/wall decor & clocks/wallpapers",
          "beauty and personal care/eye care/wild ferns eye care",
          "home decor & festive needs/showpieces/woodino handicrafts showpieces",
          "watches/wrist watches/xemex wrist watches",
          "watches/wrist watches/yves bertelin wrist watches",
          "baby care/baby & kids gifts",
          "baby care/baby bath & skin",
          "baby care/baby bedding",
          "baby care/baby grooming",
          "kitchen & dining/bar & glassware",
          "beauty and personal care/bath and spa",
          "home furnishing/bath linen",
          "beauty and personal care/beauty accessories",
          "home furnishing/bed linen",
          "beauty and personal care/body and skin care",
          "home decor & festive needs/candles & fragrances",
          "watches/clocks",
          "kitchen & dining/coffee mugs",
          "beauty and personal care/combos and kits",
          "computers/computer components",
          "computers/computer peripherals",
          "kitchen & dining/consumables & disposables",
          "kitchen & dining/containers & bottles",
          "kitchen & dining/cookware",
          "home furnishing/curtains & accessories",
          "home furnishing/cushions, pillows & covers",
          "home decor & festive needs/decorative lighting & lamps",
          "baby care/diapering & potty training",
          "kitchen & dining/dinnerware & crockery",
          "beauty and personal care/eye care",
          "baby care/feeding & nursing",
          "home furnishing/floor coverings",
          "home decor & festive needs/flowers, plants & vases",
          "beauty and personal care/fragrances",
          "baby care/furniture & furnishings",
          "home decor & festive needs/garden & leisure",
          "beauty and personal care/hair care",
          "beauty and personal care/health care",
          "kitchen & dining/housekeeping & laundry",
          "baby care/infant wear",
          "home furnishing/jmd home furnishing",
          "home furnishing/kitchen & dining linen",
          "kitchen & dining/kitchen tools",
          "home furnishing/kripa's home furnishing",
          "computers/laptop accessories",
          "computers/laptops",
          "kitchen & dining/lighting",
          "home furnishing/living",
          "home furnishing/living room furnishing",
          "beauty and personal care/makeup",
          "beauty and personal care/men's grooming",
          "computers/network components",
          "kitchen & dining/pressure cookers & pans",
          "home decor & festive needs/religion & devotion",
          "home decor & festive needs/showpiece",
          "home decor & festive needs/showpieces",
          "computers/software",
          "computers/storage",
          "baby care/strollers & activity gear",
          "home decor & festive needs/table decor & handicrafts",
          "computers/tablet accessories",
          "kitchen & dining/tableware & cutlery",
          "home furnishing/tidy home furnishing",
          "home decor & festive needs/true home decor & festive needs",
          "home decor & festive needs/wall decor & clocks",
          "beauty and personal care/women's hygiene",
          "watches/wrist watches",
          "baby care",
          "beauty and personal care",
          "computers",
          "home decor & festive needs",
          "home furnishing",
          "kitchen & dining",
          "watches"
         ],
         "labels": [
          "aapno rajasthan showpieces",
          "adaa showpieces",
          "adapters",
          "adino wrist watches",
          "akup coffee mugs",
          "alfajr wrist watches",
          "am creation coffee mugs",
          "anti dust plugs",
          "artificial plants",
          "baby bath towels",
          "baby bedsheets",
          "baby blankets",
          "baby body wash",
          "baby boys' clothes",
          "baby girls' clothes",
          "baby grooming combos",
          "baby massage oils",
          "baby mattresses",
          "baby mosquito nets",
          "baby shower caps",
          "baby sleeping bags",
          "bar accessories",
          "bar glasses",
          "bath and spa accessories",
          "bath mats",
          "batteries",
          "bedsheets",
          "beyoutiful showpieces",
          "bharatcraft showpiece",
          "bibs & hankies",
          "blankets, quilts & dohars",
          "body and essential oils",
          "boreal baby grooming",
          "bottles & accessories",
          "bottles & sippers",
          "bowls",
          "brass gift center religion & devotion",
          "brillare science combos and kits",
          "bulbs",
          "calibro wrist watches",
          "camerii wrist watches",
          "carpets & rugs",
          "cartier wrist watches",
          "cases & covers",
          "casserole & sets",
          "cb fashion wrist watches",
          "changing tables",
          "chappin & nellson wrist watches",
          "choppers & peelers",
          "cleaning kits",
          "clocks",
          "coasters",
          "combo & kits",
          "computer accessories combos",
          "conditioners",
          "containers & jars",
          "contemporary",
          "cotton buds",
          "cpu",
          "cups & saucers",
          "curren nx wrist watches",
          "curtains",
          "cushion covers",
          "cushions",
          "cutlery",
          "d'signer wrist watches",
          "decorations",
          "deodorants",
          "diaper bags",
          "disney wrist watches",
          "diwan sets",
          "duvet covers",
          "ecraftindia showpieces",
          "elantra wrist watches",
          "escort wrist watches",
          "esidon wrist watches",
          "ethnic",
          "exotic india showpieces",
          "eyes",
          "face care",
          "fastrack wrist watches",
          "fengshui",
          "fighter wrist watches",
          "firstrace wrist watches",
          "flippd wrist watches",
          "floor lamp",
          "flower vase",
          "fluid wrist watches",
          "fogg fashion store wrist watches",
          "franck bella wrist watches",
          "gift island wrist watches",
          "global nomad wrist watches",
          "gramophones",
          "hair care accessories",
          "hair colors",
          "hammocks & swings",
          "hand care",
          "happiness is coffee mugs",
          "health care accessories",
          "health care devices",
          "hmt wrist watches",
          "home cleaning",
          "home fragrances",
          "hourglass wrist watches",
          "hp laptops",
          "huppmegift coffee mugs",
          "inflatable products",
          "jack klein wrist watches",
          "jaipur raga showpieces",
          "jaycoknit religion & devotion",
          "jmd printed cushions cover (pack of 2, 40 cm*40 ...",
          "jug, glass & tray sets",
          "jugs & pitchers",
          "key holders",
          "keyboards",
          "kitchen implements",
          "kitchen linen sets",
          "kitchen tool sets",
          "kool kidz wrist watches",
          "kripa's printed cushions cover (pack of 2, 45 cm...",
          "language learning",
          "lanterns",
          "laptop adapters",
          "laptop bags",
          "lenco wrist watches",
          "lids",
          "lip care",
          "lips",
          "logues wrist watches",
          "lois caron wrist watches",
          "luba wrist watches",
          "lunch boxes",
          "lushomes living room furnishing",
          "ma design hut showpieces",
          "makeup accessories",
          "malhar showpieces",
          "mars combos and kits",
          "marvel wrist watches",
          "maserati time wrist watches",
          "mavi showpieces",
          "maxima wrist watches",
          "medical equipment & accessories",
          "medicines & treatment",
          "mouse pads",
          "mxofere combos and kits",
          "nails",
          "nappies & cloth diapers",
          "nehp showpieces",
          "neo classic wrist watches",
          "nexus wrist watches",
          "noise wrist watches",
          "north moon wrist watches",
          "now wrist watches",
          "olvin wrist watches",
          "only kidz wrist watches",
          "orange tree showpieces",
          "oxyglow combos and kits",
          "paintings",
          "palito wrist watches",
          "parv collections showpieces",
          "pen drives",
          "perucci wrist watches",
          "petrol wrist watches",
          "photo frames",
          "pittsburgh polo club wrist watches",
          "port showpieces",
          "portable projectors",
          "posterchacha coffee mugs",
          "posters",
          "pots & pans",
          "prestige pressure cookers & pans",
          "printers & inks",
          "printland coffee mugs",
          "prithish coffee mugs",
          "processors",
          "purpledip showpieces",
          "r.s wrist watches",
          "rajesh digital coffee mugs",
          "rams",
          "rana watches wrist watches",
          "rastogi handicrafts showpieces",
          "returnfavors coffee mugs",
          "ridas wrist watches",
          "rockmantra coffee mugs",
          "romex wrist watches",
          "routers",
          "rrtc wrist watches",
          "rythmx combos and kits",
          "s c handicrafts showpieces",
          "series lights",
          "sf by sonata wrist watches",
          "shampoos",
          "shankh",
          "shopmania coffee mugs",
          "shoppingtara showpieces",
          "showpieces",
          "sivanna men's grooming",
          "skmei wrist watches",
          "soaps",
          "sofa covers",
          "sonata wrist watches",
          "srushti art jewelry wrist watches",
          "steamers & idli makers",
          "stickers",
          "strollers & prams",
          "svm wrist watches",
          "t star wrist watches",
          "table clocks",
          "table covers",
          "table decor",
          "table lamps",
          "table linen sets",
          "table placemats",
          "table runners",
          "tag heuer wrist watches",
          "the crafts house showpieces",
          "tidy printed cushions cover (pack of 9, 50 cm*50...",
          "tiedribbons showpieces",
          "times wrist watches",
          "timewel wrist watches",
          "timex wrist watches",
          "titan wrist watches",
          "towels",
          "undefined",
          "undefined",
          "unique design showpieces",
          "unique handicrafts showpieces",
          "unravel india showpieces",
          "usb gadgets",
          "utensils",
          "v9 wrist watches",
          "vanity boxes",
          "vedic deals showpieces",
          "vizion wrist watches",
          "wall decals & stickers",
          "wall shelves",
          "wallpapers",
          "wild ferns eye care",
          "woodino handicrafts showpieces",
          "xemex wrist watches",
          "yves bertelin wrist watches",
          "baby & kids gifts",
          "baby bath & skin",
          "baby bedding",
          "baby grooming",
          "bar & glassware",
          "bath and spa",
          "bath linen",
          "beauty accessories",
          "bed linen",
          "body and skin care",
          "candles & fragrances",
          "clocks",
          "coffee mugs",
          "combos and kits",
          "computer components",
          "computer peripherals",
          "consumables & disposables",
          "containers & bottles",
          "cookware",
          "curtains & accessories",
          "cushions, pillows & covers",
          "decorative lighting & lamps",
          "diapering & potty training",
          "dinnerware & crockery",
          "eye care",
          "feeding & nursing",
          "floor coverings",
          "flowers, plants & vases",
          "fragrances",
          "furniture & furnishings",
          "garden & leisure",
          "hair care",
          "health care",
          "housekeeping & laundry",
          "infant wear",
          "jmd home furnishing",
          "kitchen & dining linen",
          "kitchen tools",
          "kripa's home furnishing",
          "laptop accessories",
          "laptops",
          "lighting",
          "living",
          "living room furnishing",
          "makeup",
          "men's grooming",
          "network components",
          "pressure cookers & pans",
          "religion & devotion",
          "showpiece",
          "showpieces",
          "software",
          "storage",
          "strollers & activity gear",
          "table decor & handicrafts",
          "tablet accessories",
          "tableware & cutlery",
          "tidy home furnishing",
          "true home decor & festive needs",
          "wall decor & clocks",
          "women's hygiene",
          "wrist watches",
          "baby care",
          "beauty and personal care",
          "computers",
          "home decor & festive needs",
          "home furnishing",
          "kitchen & dining",
          "watches"
         ],
         "name": "",
         "parents": [
          "home decor & festive needs/showpieces",
          "home decor & festive needs/showpieces",
          "computers/laptop accessories",
          "watches/wrist watches",
          "kitchen & dining/coffee mugs",
          "watches/wrist watches",
          "kitchen & dining/coffee mugs",
          "computers/laptop accessories",
          "home decor & festive needs/flowers, plants & vases",
          "baby care/baby bath & skin",
          "baby care/baby bedding",
          "baby care/baby bedding",
          "baby care/baby bath & skin",
          "baby care/infant wear",
          "baby care/infant wear",
          "baby care/baby grooming",
          "baby care/baby grooming",
          "baby care/baby bedding",
          "baby care/baby bedding",
          "baby care/baby bath & skin",
          "baby care/baby bedding",
          "kitchen & dining/bar & glassware",
          "kitchen & dining/bar & glassware",
          "beauty and personal care/bath and spa",
          "home furnishing/bath linen",
          "computers/laptop accessories",
          "home furnishing/bed linen",
          "home decor & festive needs/showpieces",
          "home decor & festive needs/showpiece",
          "baby care/feeding & nursing",
          "home furnishing/bed linen",
          "beauty and personal care/bath and spa",
          "baby care/baby grooming",
          "baby care/feeding & nursing",
          "kitchen & dining/containers & bottles",
          "kitchen & dining/consumables & disposables",
          "home decor & festive needs/religion & devotion",
          "beauty and personal care/combos and kits",
          "kitchen & dining/lighting",
          "watches/wrist watches",
          "watches/wrist watches",
          "home furnishing/floor coverings",
          "watches/wrist watches",
          "computers/tablet accessories",
          "kitchen & dining/cookware",
          "watches/wrist watches",
          "baby care/diapering & potty training",
          "watches/wrist watches",
          "kitchen & dining/kitchen tools",
          "computers/laptop accessories",
          "home decor & festive needs/wall decor & clocks",
          "home furnishing/kitchen & dining linen",
          "beauty and personal care/women's hygiene",
          "computers/laptop accessories",
          "beauty and personal care/hair care",
          "kitchen & dining/containers & bottles",
          "home decor & festive needs/showpiece",
          "baby care/baby grooming",
          "computers/computer peripherals",
          "kitchen & dining/dinnerware & crockery",
          "watches/wrist watches",
          "home furnishing/curtains & accessories",
          "home furnishing/cushions, pillows & covers",
          "home furnishing/cushions, pillows & covers",
          "kitchen & dining/tableware & cutlery",
          "watches/wrist watches",
          "baby care/baby & kids gifts",
          "beauty and personal care/fragrances",
          "baby care/diapering & potty training",
          "watches/wrist watches",
          "home furnishing/living room furnishing",
          "home furnishing/bed linen",
          "home decor & festive needs/showpieces",
          "watches/wrist watches",
          "watches/wrist watches",
          "watches/wrist watches",
          "home decor & festive needs/showpieces",
          "home decor & festive needs/showpieces",
          "beauty and personal care/makeup",
          "beauty and personal care/body and skin care",
          "watches/wrist watches",
          "home decor & festive needs/showpieces",
          "watches/wrist watches",
          "watches/wrist watches",
          "watches/wrist watches",
          "home decor & festive needs/decorative lighting & lamps",
          "home decor & festive needs/flowers, plants & vases",
          "watches/wrist watches",
          "watches/wrist watches",
          "watches/wrist watches",
          "watches/wrist watches",
          "watches/wrist watches",
          "home decor & festive needs/showpiece",
          "beauty and personal care/hair care",
          "beauty and personal care/hair care",
          "home decor & festive needs/garden & leisure",
          "beauty and personal care/body and skin care",
          "kitchen & dining/coffee mugs",
          "beauty and personal care/health care",
          "beauty and personal care/health care",
          "watches/wrist watches",
          "kitchen & dining/housekeeping & laundry",
          "home decor & festive needs/candles & fragrances",
          "watches/wrist watches",
          "computers/laptops",
          "kitchen & dining/coffee mugs",
          "baby care/furniture & furnishings",
          "watches/wrist watches",
          "home decor & festive needs/showpieces",
          "home decor & festive needs/religion & devotion",
          "home furnishing/jmd home furnishing",
          "kitchen & dining/tableware & cutlery",
          "kitchen & dining/tableware & cutlery",
          "home decor & festive needs/wall decor & clocks",
          "computers/tablet accessories",
          "kitchen & dining/kitchen tools",
          "home furnishing/kitchen & dining linen",
          "kitchen & dining/kitchen tools",
          "watches/wrist watches",
          "home furnishing/kripa's home furnishing",
          "computers/software",
          "home decor & festive needs/decorative lighting & lamps",
          "computers/laptop accessories",
          "computers/laptop accessories",
          "watches/wrist watches",
          "kitchen & dining/cookware",
          "beauty and personal care/body and skin care",
          "beauty and personal care/makeup",
          "watches/wrist watches",
          "watches/wrist watches",
          "watches/wrist watches",
          "kitchen & dining/containers & bottles",
          "home furnishing/living room furnishing",
          "home decor & festive needs/showpieces",
          "beauty and personal care/beauty accessories",
          "home decor & festive needs/showpieces",
          "beauty and personal care/combos and kits",
          "watches/wrist watches",
          "watches/wrist watches",
          "home decor & festive needs/showpieces",
          "watches/wrist watches",
          "beauty and personal care/health care",
          "beauty and personal care/health care",
          "computers/laptop accessories",
          "beauty and personal care/combos and kits",
          "beauty and personal care/makeup",
          "baby care/diapering & potty training",
          "home decor & festive needs/showpieces",
          "watches/wrist watches",
          "watches/wrist watches",
          "watches/wrist watches",
          "watches/wrist watches",
          "watches/wrist watches",
          "watches/wrist watches",
          "watches/wrist watches",
          "home decor & festive needs/showpieces",
          "beauty and personal care/combos and kits",
          "home decor & festive needs/wall decor & clocks",
          "watches/wrist watches",
          "home decor & festive needs/showpieces",
          "computers/storage",
          "watches/wrist watches",
          "watches/wrist watches",
          "baby care/baby & kids gifts",
          "watches/wrist watches",
          "home decor & festive needs/showpieces",
          "computers/computer peripherals",
          "kitchen & dining/coffee mugs",
          "home decor & festive needs/wall decor & clocks",
          "kitchen & dining/cookware",
          "kitchen & dining/pressure cookers & pans",
          "computers/computer peripherals",
          "kitchen & dining/coffee mugs",
          "kitchen & dining/coffee mugs",
          "computers/computer components",
          "home decor & festive needs/showpieces",
          "watches/wrist watches",
          "kitchen & dining/coffee mugs",
          "computers/computer components",
          "watches/wrist watches",
          "home decor & festive needs/showpieces",
          "kitchen & dining/coffee mugs",
          "watches/wrist watches",
          "kitchen & dining/coffee mugs",
          "watches/wrist watches",
          "computers/network components",
          "watches/wrist watches",
          "beauty and personal care/combos and kits",
          "home decor & festive needs/showpieces",
          "home decor & festive needs/decorative lighting & lamps",
          "watches/wrist watches",
          "beauty and personal care/hair care",
          "home decor & festive needs/religion & devotion",
          "kitchen & dining/coffee mugs",
          "home decor & festive needs/showpieces",
          "home decor & festive needs/table decor & handicrafts",
          "beauty and personal care/men's grooming",
          "watches/wrist watches",
          "beauty and personal care/bath and spa",
          "home furnishing/living",
          "watches/wrist watches",
          "watches/wrist watches",
          "kitchen & dining/cookware",
          "baby care/baby & kids gifts",
          "baby care/strollers & activity gear",
          "watches/wrist watches",
          "watches/wrist watches",
          "watches/clocks",
          "home furnishing/kitchen & dining linen",
          "home decor & festive needs/table decor & handicrafts",
          "home decor & festive needs/decorative lighting & lamps",
          "home furnishing/kitchen & dining linen",
          "home furnishing/kitchen & dining linen",
          "home furnishing/kitchen & dining linen",
          "watches/wrist watches",
          "home decor & festive needs/showpieces",
          "home furnishing/tidy home furnishing",
          "home decor & festive needs/showpieces",
          "watches/wrist watches",
          "watches/wrist watches",
          "watches/wrist watches",
          "watches/wrist watches",
          "home furnishing/bath linen",
          "home furnishing/living",
          "home decor & festive needs/true home decor & festive needs",
          "home decor & festive needs/showpieces",
          "home decor & festive needs/showpieces",
          "home decor & festive needs/showpieces",
          "computers/laptop accessories",
          "baby care/feeding & nursing",
          "watches/wrist watches",
          "beauty and personal care/makeup",
          "home decor & festive needs/showpieces",
          "watches/wrist watches",
          "home decor & festive needs/wall decor & clocks",
          "home decor & festive needs/wall decor & clocks",
          "home decor & festive needs/wall decor & clocks",
          "beauty and personal care/eye care",
          "home decor & festive needs/showpieces",
          "watches/wrist watches",
          "watches/wrist watches",
          "baby care",
          "baby care",
          "baby care",
          "baby care",
          "kitchen & dining",
          "beauty and personal care",
          "home furnishing",
          "beauty and personal care",
          "home furnishing",
          "beauty and personal care",
          "home decor & festive needs",
          "watches",
          "kitchen & dining",
          "beauty and personal care",
          "computers",
          "computers",
          "kitchen & dining",
          "kitchen & dining",
          "kitchen & dining",
          "home furnishing",
          "home furnishing",
          "home decor & festive needs",
          "baby care",
          "kitchen & dining",
          "beauty and personal care",
          "baby care",
          "home furnishing",
          "home decor & festive needs",
          "beauty and personal care",
          "baby care",
          "home decor & festive needs",
          "beauty and personal care",
          "beauty and personal care",
          "kitchen & dining",
          "baby care",
          "home furnishing",
          "home furnishing",
          "kitchen & dining",
          "home furnishing",
          "computers",
          "computers",
          "kitchen & dining",
          "home furnishing",
          "home furnishing",
          "beauty and personal care",
          "beauty and personal care",
          "computers",
          "kitchen & dining",
          "home decor & festive needs",
          "home decor & festive needs",
          "home decor & festive needs",
          "computers",
          "computers",
          "baby care",
          "home decor & festive needs",
          "computers",
          "kitchen & dining",
          "home furnishing",
          "home decor & festive needs",
          "home decor & festive needs",
          "beauty and personal care",
          "watches",
          "",
          "",
          "",
          "",
          "",
          "",
          ""
         ],
         "type": "treemap",
         "values": [
          2,
          1,
          9,
          1,
          5,
          2,
          1,
          1,
          3,
          11,
          4,
          8,
          2,
          35,
          49,
          1,
          1,
          1,
          1,
          1,
          1,
          3,
          5,
          3,
          2,
          22,
          7,
          1,
          1,
          2,
          57,
          3,
          1,
          1,
          10,
          1,
          1,
          1,
          7,
          1,
          1,
          6,
          1,
          1,
          1,
          1,
          1,
          1,
          1,
          1,
          3,
          1,
          1,
          11,
          4,
          1,
          3,
          1,
          1,
          1,
          1,
          19,
          12,
          1,
          1,
          1,
          1,
          65,
          1,
          2,
          2,
          1,
          1,
          1,
          1,
          1,
          34,
          4,
          2,
          10,
          3,
          2,
          1,
          1,
          3,
          1,
          2,
          2,
          1,
          2,
          2,
          1,
          1,
          2,
          2,
          1,
          3,
          1,
          1,
          4,
          4,
          1,
          1,
          1,
          2,
          1,
          2,
          1,
          1,
          1,
          1,
          1,
          1,
          2,
          2,
          12,
          5,
          1,
          1,
          1,
          1,
          1,
          3,
          1,
          1,
          1,
          2,
          5,
          1,
          1,
          2,
          2,
          1,
          1,
          1,
          1,
          1,
          1,
          1,
          1,
          23,
          1,
          1,
          1,
          9,
          1,
          5,
          2,
          2,
          1,
          2,
          1,
          2,
          1,
          1,
          2,
          10,
          6,
          3,
          1,
          2,
          9,
          1,
          4,
          1,
          1,
          1,
          1,
          4,
          24,
          1,
          2,
          13,
          26,
          1,
          1,
          1,
          1,
          1,
          1,
          1,
          1,
          1,
          22,
          1,
          49,
          1,
          3,
          3,
          10,
          2,
          1,
          1,
          2,
          3,
          23,
          1,
          2,
          1,
          4,
          19,
          1,
          1,
          10,
          1,
          1,
          1,
          1,
          2,
          4,
          2,
          1,
          1,
          4,
          1,
          1,
          1,
          2,
          10,
          9,
          1,
          1,
          19,
          2,
          1,
          1,
          1,
          1,
          38,
          5,
          1,
          10,
          1,
          1,
          4,
          2,
          1,
          2,
          1,
          1,
          1,
          15,
          14,
          15,
          4,
          8,
          7,
          21,
          1,
          65,
          15,
          1,
          1,
          74,
          24,
          2,
          4,
          1,
          13,
          27,
          19,
          13,
          14,
          7,
          1,
          2,
          8,
          6,
          5,
          65,
          2,
          1,
          9,
          7,
          1,
          84,
          1,
          14,
          14,
          1,
          87,
          2,
          7,
          6,
          3,
          18,
          1,
          49,
          1,
          3,
          5,
          71,
          1,
          2,
          1,
          27,
          3,
          3,
          1,
          1,
          22,
          1,
          149,
          150,
          150,
          150,
          150,
          150,
          150,
          150
         ]
        }
       ],
       "layout": {
        "height": 600,
        "legend": {
         "tracegroupgap": 0
        },
        "margin": {
         "b": 0,
         "l": 0,
         "r": 0,
         "t": 0
        },
        "template": {
         "data": {
          "bar": [
           {
            "error_x": {
             "color": "#2a3f5f"
            },
            "error_y": {
             "color": "#2a3f5f"
            },
            "marker": {
             "line": {
              "color": "#E5ECF6",
              "width": 0.5
             },
             "pattern": {
              "fillmode": "overlay",
              "size": 10,
              "solidity": 0.2
             }
            },
            "type": "bar"
           }
          ],
          "barpolar": [
           {
            "marker": {
             "line": {
              "color": "#E5ECF6",
              "width": 0.5
             },
             "pattern": {
              "fillmode": "overlay",
              "size": 10,
              "solidity": 0.2
             }
            },
            "type": "barpolar"
           }
          ],
          "carpet": [
           {
            "aaxis": {
             "endlinecolor": "#2a3f5f",
             "gridcolor": "white",
             "linecolor": "white",
             "minorgridcolor": "white",
             "startlinecolor": "#2a3f5f"
            },
            "baxis": {
             "endlinecolor": "#2a3f5f",
             "gridcolor": "white",
             "linecolor": "white",
             "minorgridcolor": "white",
             "startlinecolor": "#2a3f5f"
            },
            "type": "carpet"
           }
          ],
          "choropleth": [
           {
            "colorbar": {
             "outlinewidth": 0,
             "ticks": ""
            },
            "type": "choropleth"
           }
          ],
          "contour": [
           {
            "colorbar": {
             "outlinewidth": 0,
             "ticks": ""
            },
            "colorscale": [
             [
              0,
              "#0d0887"
             ],
             [
              0.1111111111111111,
              "#46039f"
             ],
             [
              0.2222222222222222,
              "#7201a8"
             ],
             [
              0.3333333333333333,
              "#9c179e"
             ],
             [
              0.4444444444444444,
              "#bd3786"
             ],
             [
              0.5555555555555556,
              "#d8576b"
             ],
             [
              0.6666666666666666,
              "#ed7953"
             ],
             [
              0.7777777777777778,
              "#fb9f3a"
             ],
             [
              0.8888888888888888,
              "#fdca26"
             ],
             [
              1,
              "#f0f921"
             ]
            ],
            "type": "contour"
           }
          ],
          "contourcarpet": [
           {
            "colorbar": {
             "outlinewidth": 0,
             "ticks": ""
            },
            "type": "contourcarpet"
           }
          ],
          "heatmap": [
           {
            "colorbar": {
             "outlinewidth": 0,
             "ticks": ""
            },
            "colorscale": [
             [
              0,
              "#0d0887"
             ],
             [
              0.1111111111111111,
              "#46039f"
             ],
             [
              0.2222222222222222,
              "#7201a8"
             ],
             [
              0.3333333333333333,
              "#9c179e"
             ],
             [
              0.4444444444444444,
              "#bd3786"
             ],
             [
              0.5555555555555556,
              "#d8576b"
             ],
             [
              0.6666666666666666,
              "#ed7953"
             ],
             [
              0.7777777777777778,
              "#fb9f3a"
             ],
             [
              0.8888888888888888,
              "#fdca26"
             ],
             [
              1,
              "#f0f921"
             ]
            ],
            "type": "heatmap"
           }
          ],
          "heatmapgl": [
           {
            "colorbar": {
             "outlinewidth": 0,
             "ticks": ""
            },
            "colorscale": [
             [
              0,
              "#0d0887"
             ],
             [
              0.1111111111111111,
              "#46039f"
             ],
             [
              0.2222222222222222,
              "#7201a8"
             ],
             [
              0.3333333333333333,
              "#9c179e"
             ],
             [
              0.4444444444444444,
              "#bd3786"
             ],
             [
              0.5555555555555556,
              "#d8576b"
             ],
             [
              0.6666666666666666,
              "#ed7953"
             ],
             [
              0.7777777777777778,
              "#fb9f3a"
             ],
             [
              0.8888888888888888,
              "#fdca26"
             ],
             [
              1,
              "#f0f921"
             ]
            ],
            "type": "heatmapgl"
           }
          ],
          "histogram": [
           {
            "marker": {
             "pattern": {
              "fillmode": "overlay",
              "size": 10,
              "solidity": 0.2
             }
            },
            "type": "histogram"
           }
          ],
          "histogram2d": [
           {
            "colorbar": {
             "outlinewidth": 0,
             "ticks": ""
            },
            "colorscale": [
             [
              0,
              "#0d0887"
             ],
             [
              0.1111111111111111,
              "#46039f"
             ],
             [
              0.2222222222222222,
              "#7201a8"
             ],
             [
              0.3333333333333333,
              "#9c179e"
             ],
             [
              0.4444444444444444,
              "#bd3786"
             ],
             [
              0.5555555555555556,
              "#d8576b"
             ],
             [
              0.6666666666666666,
              "#ed7953"
             ],
             [
              0.7777777777777778,
              "#fb9f3a"
             ],
             [
              0.8888888888888888,
              "#fdca26"
             ],
             [
              1,
              "#f0f921"
             ]
            ],
            "type": "histogram2d"
           }
          ],
          "histogram2dcontour": [
           {
            "colorbar": {
             "outlinewidth": 0,
             "ticks": ""
            },
            "colorscale": [
             [
              0,
              "#0d0887"
             ],
             [
              0.1111111111111111,
              "#46039f"
             ],
             [
              0.2222222222222222,
              "#7201a8"
             ],
             [
              0.3333333333333333,
              "#9c179e"
             ],
             [
              0.4444444444444444,
              "#bd3786"
             ],
             [
              0.5555555555555556,
              "#d8576b"
             ],
             [
              0.6666666666666666,
              "#ed7953"
             ],
             [
              0.7777777777777778,
              "#fb9f3a"
             ],
             [
              0.8888888888888888,
              "#fdca26"
             ],
             [
              1,
              "#f0f921"
             ]
            ],
            "type": "histogram2dcontour"
           }
          ],
          "mesh3d": [
           {
            "colorbar": {
             "outlinewidth": 0,
             "ticks": ""
            },
            "type": "mesh3d"
           }
          ],
          "parcoords": [
           {
            "line": {
             "colorbar": {
              "outlinewidth": 0,
              "ticks": ""
             }
            },
            "type": "parcoords"
           }
          ],
          "pie": [
           {
            "automargin": true,
            "type": "pie"
           }
          ],
          "scatter": [
           {
            "fillpattern": {
             "fillmode": "overlay",
             "size": 10,
             "solidity": 0.2
            },
            "type": "scatter"
           }
          ],
          "scatter3d": [
           {
            "line": {
             "colorbar": {
              "outlinewidth": 0,
              "ticks": ""
             }
            },
            "marker": {
             "colorbar": {
              "outlinewidth": 0,
              "ticks": ""
             }
            },
            "type": "scatter3d"
           }
          ],
          "scattercarpet": [
           {
            "marker": {
             "colorbar": {
              "outlinewidth": 0,
              "ticks": ""
             }
            },
            "type": "scattercarpet"
           }
          ],
          "scattergeo": [
           {
            "marker": {
             "colorbar": {
              "outlinewidth": 0,
              "ticks": ""
             }
            },
            "type": "scattergeo"
           }
          ],
          "scattergl": [
           {
            "marker": {
             "colorbar": {
              "outlinewidth": 0,
              "ticks": ""
             }
            },
            "type": "scattergl"
           }
          ],
          "scattermapbox": [
           {
            "marker": {
             "colorbar": {
              "outlinewidth": 0,
              "ticks": ""
             }
            },
            "type": "scattermapbox"
           }
          ],
          "scatterpolar": [
           {
            "marker": {
             "colorbar": {
              "outlinewidth": 0,
              "ticks": ""
             }
            },
            "type": "scatterpolar"
           }
          ],
          "scatterpolargl": [
           {
            "marker": {
             "colorbar": {
              "outlinewidth": 0,
              "ticks": ""
             }
            },
            "type": "scatterpolargl"
           }
          ],
          "scatterternary": [
           {
            "marker": {
             "colorbar": {
              "outlinewidth": 0,
              "ticks": ""
             }
            },
            "type": "scatterternary"
           }
          ],
          "surface": [
           {
            "colorbar": {
             "outlinewidth": 0,
             "ticks": ""
            },
            "colorscale": [
             [
              0,
              "#0d0887"
             ],
             [
              0.1111111111111111,
              "#46039f"
             ],
             [
              0.2222222222222222,
              "#7201a8"
             ],
             [
              0.3333333333333333,
              "#9c179e"
             ],
             [
              0.4444444444444444,
              "#bd3786"
             ],
             [
              0.5555555555555556,
              "#d8576b"
             ],
             [
              0.6666666666666666,
              "#ed7953"
             ],
             [
              0.7777777777777778,
              "#fb9f3a"
             ],
             [
              0.8888888888888888,
              "#fdca26"
             ],
             [
              1,
              "#f0f921"
             ]
            ],
            "type": "surface"
           }
          ],
          "table": [
           {
            "cells": {
             "fill": {
              "color": "#EBF0F8"
             },
             "line": {
              "color": "white"
             }
            },
            "header": {
             "fill": {
              "color": "#C8D4E3"
             },
             "line": {
              "color": "white"
             }
            },
            "type": "table"
           }
          ]
         },
         "layout": {
          "annotationdefaults": {
           "arrowcolor": "#2a3f5f",
           "arrowhead": 0,
           "arrowwidth": 1
          },
          "autotypenumbers": "strict",
          "coloraxis": {
           "colorbar": {
            "outlinewidth": 0,
            "ticks": ""
           }
          },
          "colorscale": {
           "diverging": [
            [
             0,
             "#8e0152"
            ],
            [
             0.1,
             "#c51b7d"
            ],
            [
             0.2,
             "#de77ae"
            ],
            [
             0.3,
             "#f1b6da"
            ],
            [
             0.4,
             "#fde0ef"
            ],
            [
             0.5,
             "#f7f7f7"
            ],
            [
             0.6,
             "#e6f5d0"
            ],
            [
             0.7,
             "#b8e186"
            ],
            [
             0.8,
             "#7fbc41"
            ],
            [
             0.9,
             "#4d9221"
            ],
            [
             1,
             "#276419"
            ]
           ],
           "sequential": [
            [
             0,
             "#0d0887"
            ],
            [
             0.1111111111111111,
             "#46039f"
            ],
            [
             0.2222222222222222,
             "#7201a8"
            ],
            [
             0.3333333333333333,
             "#9c179e"
            ],
            [
             0.4444444444444444,
             "#bd3786"
            ],
            [
             0.5555555555555556,
             "#d8576b"
            ],
            [
             0.6666666666666666,
             "#ed7953"
            ],
            [
             0.7777777777777778,
             "#fb9f3a"
            ],
            [
             0.8888888888888888,
             "#fdca26"
            ],
            [
             1,
             "#f0f921"
            ]
           ],
           "sequentialminus": [
            [
             0,
             "#0d0887"
            ],
            [
             0.1111111111111111,
             "#46039f"
            ],
            [
             0.2222222222222222,
             "#7201a8"
            ],
            [
             0.3333333333333333,
             "#9c179e"
            ],
            [
             0.4444444444444444,
             "#bd3786"
            ],
            [
             0.5555555555555556,
             "#d8576b"
            ],
            [
             0.6666666666666666,
             "#ed7953"
            ],
            [
             0.7777777777777778,
             "#fb9f3a"
            ],
            [
             0.8888888888888888,
             "#fdca26"
            ],
            [
             1,
             "#f0f921"
            ]
           ]
          },
          "colorway": [
           "#636efa",
           "#EF553B",
           "#00cc96",
           "#ab63fa",
           "#FFA15A",
           "#19d3f3",
           "#FF6692",
           "#B6E880",
           "#FF97FF",
           "#FECB52"
          ],
          "font": {
           "color": "#2a3f5f"
          },
          "geo": {
           "bgcolor": "white",
           "lakecolor": "white",
           "landcolor": "#E5ECF6",
           "showlakes": true,
           "showland": true,
           "subunitcolor": "white"
          },
          "hoverlabel": {
           "align": "left"
          },
          "hovermode": "closest",
          "mapbox": {
           "style": "light"
          },
          "paper_bgcolor": "white",
          "plot_bgcolor": "#E5ECF6",
          "polar": {
           "angularaxis": {
            "gridcolor": "white",
            "linecolor": "white",
            "ticks": ""
           },
           "bgcolor": "#E5ECF6",
           "radialaxis": {
            "gridcolor": "white",
            "linecolor": "white",
            "ticks": ""
           }
          },
          "scene": {
           "xaxis": {
            "backgroundcolor": "#E5ECF6",
            "gridcolor": "white",
            "gridwidth": 2,
            "linecolor": "white",
            "showbackground": true,
            "ticks": "",
            "zerolinecolor": "white"
           },
           "yaxis": {
            "backgroundcolor": "#E5ECF6",
            "gridcolor": "white",
            "gridwidth": 2,
            "linecolor": "white",
            "showbackground": true,
            "ticks": "",
            "zerolinecolor": "white"
           },
           "zaxis": {
            "backgroundcolor": "#E5ECF6",
            "gridcolor": "white",
            "gridwidth": 2,
            "linecolor": "white",
            "showbackground": true,
            "ticks": "",
            "zerolinecolor": "white"
           }
          },
          "shapedefaults": {
           "line": {
            "color": "#2a3f5f"
           }
          },
          "ternary": {
           "aaxis": {
            "gridcolor": "white",
            "linecolor": "white",
            "ticks": ""
           },
           "baxis": {
            "gridcolor": "white",
            "linecolor": "white",
            "ticks": ""
           },
           "bgcolor": "#E5ECF6",
           "caxis": {
            "gridcolor": "white",
            "linecolor": "white",
            "ticks": ""
           }
          },
          "title": {
           "x": 0.05
          },
          "xaxis": {
           "automargin": true,
           "gridcolor": "white",
           "linecolor": "white",
           "ticks": "",
           "title": {
            "standoff": 15
           },
           "zerolinecolor": "white",
           "zerolinewidth": 2
          },
          "yaxis": {
           "automargin": true,
           "gridcolor": "white",
           "linecolor": "white",
           "ticks": "",
           "title": {
            "standoff": 15
           },
           "zerolinecolor": "white",
           "zerolinewidth": 2
          }
         }
        },
        "title": {
         "text": "Treemap Chart"
        },
        "width": 800
       }
      }
     },
     "metadata": {},
     "output_type": "display_data"
    }
   ],
   "source": [
    "fig = px.treemap(df, path=['category_lvl_1', 'category_lvl_2', 'category_lvl_3'])  \n",
    "  \n",
    "fig.update_layout(  \n",
    "    margin=dict(t=0, l=0, r=0, b=0),  \n",
    "    width=800,  \n",
    "    height=600,  \n",
    "    title=\"Treemap Chart\"  \n",
    ")  \n",
    "  \n",
    "fig.show()"
   ]
  },
  {
   "cell_type": "code",
   "execution_count": 17,
   "metadata": {},
   "outputs": [],
   "source": [
    "def analyse_one_document(row):\n",
    "    text = row[\"description\"]\n",
    "    \n",
    "    # Only get alphanumerical characters\n",
    "    tokenizer = nltk.RegexpTokenizer(r'\\w+')\n",
    "    \n",
    "    # Tokenize the text\n",
    "    token_data = tokenizer.tokenize(text.lower())\n",
    "\n",
    "    # Get the frequency of words\n",
    "    frequency = nltk.FreqDist(token_data)\n",
    "    \n",
    "    # print(type(text))\n",
    "    # print(\"Total values\", len(token_data))\n",
    "    # print(frequency)\n",
    "    \n",
    "    return (frequency, token_data)\n"
   ]
  },
  {
   "cell_type": "code",
   "execution_count": 18,
   "metadata": {},
   "outputs": [],
   "source": [
    "for idx, item in df.iterrows():\n",
    "    (frequency, token_data) = analyse_one_document(item)\n",
    "    df.at[idx, 'word_count'] = len(token_data)\n",
    "    df.at[idx, 'unique_word_count'] = len(frequency.keys())"
   ]
  },
  {
   "cell_type": "code",
   "execution_count": 19,
   "metadata": {},
   "outputs": [
    {
     "data": {
      "text/html": [
       "<div>\n",
       "<style scoped>\n",
       "    .dataframe tbody tr th:only-of-type {\n",
       "        vertical-align: middle;\n",
       "    }\n",
       "\n",
       "    .dataframe tbody tr th {\n",
       "        vertical-align: top;\n",
       "    }\n",
       "\n",
       "    .dataframe thead th {\n",
       "        text-align: right;\n",
       "    }\n",
       "</style>\n",
       "<table border=\"1\" class=\"dataframe\">\n",
       "  <thead>\n",
       "    <tr style=\"text-align: right;\">\n",
       "      <th></th>\n",
       "      <th>product_name</th>\n",
       "      <th>product_category_tree</th>\n",
       "      <th>description</th>\n",
       "      <th>category_lvl_1</th>\n",
       "      <th>category_lvl_2</th>\n",
       "      <th>category_lvl_3</th>\n",
       "      <th>category_lvl_4</th>\n",
       "      <th>category_lvl_5</th>\n",
       "      <th>category_lvl_6</th>\n",
       "      <th>category_lvl_7</th>\n",
       "      <th>word_count</th>\n",
       "      <th>unique_word_count</th>\n",
       "    </tr>\n",
       "  </thead>\n",
       "  <tbody>\n",
       "    <tr>\n",
       "      <th>0</th>\n",
       "      <td>Elegance Polyester Multicolor Abstract Eyelet ...</td>\n",
       "      <td>[\"Home Furnishing &gt;&gt; Curtains &amp; Accessories &gt;&gt;...</td>\n",
       "      <td>Key Features of Elegance Polyester Multicolor ...</td>\n",
       "      <td>home furnishing</td>\n",
       "      <td>curtains &amp; accessories</td>\n",
       "      <td>curtains</td>\n",
       "      <td>elegance polyester multicolor abstract eyelet ...</td>\n",
       "      <td>undefined</td>\n",
       "      <td>undefined</td>\n",
       "      <td>undefined</td>\n",
       "      <td>236.0</td>\n",
       "      <td>132.0</td>\n",
       "    </tr>\n",
       "    <tr>\n",
       "      <th>1</th>\n",
       "      <td>Sathiyas Cotton Bath Towel</td>\n",
       "      <td>[\"Baby Care &gt;&gt; Baby Bath &amp; Skin &gt;&gt; Baby Bath T...</td>\n",
       "      <td>Specifications of Sathiyas Cotton Bath Towel (...</td>\n",
       "      <td>baby care</td>\n",
       "      <td>baby bath &amp; skin</td>\n",
       "      <td>baby bath towels</td>\n",
       "      <td>sathiyas baby bath towels</td>\n",
       "      <td>sathiyas cotton bath towel (3 bath towel, red,...</td>\n",
       "      <td>undefined</td>\n",
       "      <td>undefined</td>\n",
       "      <td>74.0</td>\n",
       "      <td>48.0</td>\n",
       "    </tr>\n",
       "    <tr>\n",
       "      <th>2</th>\n",
       "      <td>Eurospa Cotton Terry Face Towel Set</td>\n",
       "      <td>[\"Baby Care &gt;&gt; Baby Bath &amp; Skin &gt;&gt; Baby Bath T...</td>\n",
       "      <td>Key Features of Eurospa Cotton Terry Face Towe...</td>\n",
       "      <td>baby care</td>\n",
       "      <td>baby bath &amp; skin</td>\n",
       "      <td>baby bath towels</td>\n",
       "      <td>eurospa baby bath towels</td>\n",
       "      <td>eurospa cotton terry face towel set (20 piece ...</td>\n",
       "      <td>undefined</td>\n",
       "      <td>undefined</td>\n",
       "      <td>216.0</td>\n",
       "      <td>124.0</td>\n",
       "    </tr>\n",
       "    <tr>\n",
       "      <th>3</th>\n",
       "      <td>SANTOSH ROYAL FASHION Cotton Printed King size...</td>\n",
       "      <td>[\"Home Furnishing &gt;&gt; Bed Linen &gt;&gt; Bedsheets &gt;&gt;...</td>\n",
       "      <td>Key Features of SANTOSH ROYAL FASHION Cotton P...</td>\n",
       "      <td>home furnishing</td>\n",
       "      <td>bed linen</td>\n",
       "      <td>bedsheets</td>\n",
       "      <td>santosh royal fashion bedsheets</td>\n",
       "      <td>santosh royal fashion cotton printed king size...</td>\n",
       "      <td>undefined</td>\n",
       "      <td>undefined</td>\n",
       "      <td>143.0</td>\n",
       "      <td>73.0</td>\n",
       "    </tr>\n",
       "    <tr>\n",
       "      <th>4</th>\n",
       "      <td>Jaipur Print Cotton Floral King sized Double B...</td>\n",
       "      <td>[\"Home Furnishing &gt;&gt; Bed Linen &gt;&gt; Bedsheets &gt;&gt;...</td>\n",
       "      <td>Key Features of Jaipur Print Cotton Floral Kin...</td>\n",
       "      <td>home furnishing</td>\n",
       "      <td>bed linen</td>\n",
       "      <td>bedsheets</td>\n",
       "      <td>jaipur print bedsheets</td>\n",
       "      <td>jaipur print cotton floral king sized double b...</td>\n",
       "      <td>undefined</td>\n",
       "      <td>undefined</td>\n",
       "      <td>213.0</td>\n",
       "      <td>111.0</td>\n",
       "    </tr>\n",
       "  </tbody>\n",
       "</table>\n",
       "</div>"
      ],
      "text/plain": [
       "                                        product_name  \\\n",
       "0  Elegance Polyester Multicolor Abstract Eyelet ...   \n",
       "1                         Sathiyas Cotton Bath Towel   \n",
       "2                Eurospa Cotton Terry Face Towel Set   \n",
       "3  SANTOSH ROYAL FASHION Cotton Printed King size...   \n",
       "4  Jaipur Print Cotton Floral King sized Double B...   \n",
       "\n",
       "                               product_category_tree  \\\n",
       "0  [\"Home Furnishing >> Curtains & Accessories >>...   \n",
       "1  [\"Baby Care >> Baby Bath & Skin >> Baby Bath T...   \n",
       "2  [\"Baby Care >> Baby Bath & Skin >> Baby Bath T...   \n",
       "3  [\"Home Furnishing >> Bed Linen >> Bedsheets >>...   \n",
       "4  [\"Home Furnishing >> Bed Linen >> Bedsheets >>...   \n",
       "\n",
       "                                         description   category_lvl_1  \\\n",
       "0  Key Features of Elegance Polyester Multicolor ...  home furnishing   \n",
       "1  Specifications of Sathiyas Cotton Bath Towel (...        baby care   \n",
       "2  Key Features of Eurospa Cotton Terry Face Towe...        baby care   \n",
       "3  Key Features of SANTOSH ROYAL FASHION Cotton P...  home furnishing   \n",
       "4  Key Features of Jaipur Print Cotton Floral Kin...  home furnishing   \n",
       "\n",
       "           category_lvl_2    category_lvl_3  \\\n",
       "0  curtains & accessories          curtains   \n",
       "1        baby bath & skin  baby bath towels   \n",
       "2        baby bath & skin  baby bath towels   \n",
       "3               bed linen         bedsheets   \n",
       "4               bed linen         bedsheets   \n",
       "\n",
       "                                      category_lvl_4  \\\n",
       "0  elegance polyester multicolor abstract eyelet ...   \n",
       "1                          sathiyas baby bath towels   \n",
       "2                           eurospa baby bath towels   \n",
       "3                    santosh royal fashion bedsheets   \n",
       "4                             jaipur print bedsheets   \n",
       "\n",
       "                                      category_lvl_5 category_lvl_6  \\\n",
       "0                                          undefined      undefined   \n",
       "1  sathiyas cotton bath towel (3 bath towel, red,...      undefined   \n",
       "2  eurospa cotton terry face towel set (20 piece ...      undefined   \n",
       "3  santosh royal fashion cotton printed king size...      undefined   \n",
       "4  jaipur print cotton floral king sized double b...      undefined   \n",
       "\n",
       "  category_lvl_7  word_count  unique_word_count  \n",
       "0      undefined       236.0              132.0  \n",
       "1      undefined        74.0               48.0  \n",
       "2      undefined       216.0              124.0  \n",
       "3      undefined       143.0               73.0  \n",
       "4      undefined       213.0              111.0  "
      ]
     },
     "execution_count": 19,
     "metadata": {},
     "output_type": "execute_result"
    }
   ],
   "source": [
    "df.head()"
   ]
  },
  {
   "cell_type": "code",
   "execution_count": 20,
   "metadata": {},
   "outputs": [
    {
     "data": {
      "image/png": "[encoded data removed]",
      "text/plain": [
       "<Figure size 1500x500 with 1 Axes>"
      ]
     },
     "metadata": {},
     "output_type": "display_data"
    }
   ],
   "source": [
    "sorted_df = df.sort_values(\"word_count\", ascending=False)    \n",
    "top_names = sorted_df[\"product_name\"].head(20)  \n",
    "# top_names = [name[:60] + \"...\" if len(name) > 50 else name for name in top_names]    \n",
    "  \n",
    "top_word_counts = sorted_df[\"word_count\"].head(20)  \n",
    "top_unique_counts = sorted_df[\"unique_word_count\"].head(20)  \n",
    "  \n",
    "plt.figure(figsize=(15, 5))  \n",
    "  \n",
    "# Create a horizontal barplot using seaborn    \n",
    "sns.barplot(y=top_names, x=top_word_counts, orient=\"h\",  color=\"#e7a44a\", label=\"Word Count\")    \n",
    "sns.barplot(y=top_names, x=top_unique_counts, orient=\"h\",  color=\"#313c59\", label=\"Unique Word Count\")    \n",
    "  \n",
    "# Set the title and axes labels    \n",
    "plt.title(\"Top 20 Names by Word Count\")    \n",
    "plt.xlabel(\"Word Count\")    \n",
    "plt.ylabel(\"Name\")    \n",
    "\n",
    "# Rotate x-axis labels for better readability    \n",
    "plt.xticks(rotation=90)\n",
    "    \n",
    "# Display the plot \n",
    "plt.legend()\n",
    "plt.tight_layout()  \n",
    "plt.show()  \n"
   ]
  },
  {
   "cell_type": "markdown",
   "metadata": {},
   "source": [
    "Je m'interesserai qu'a la category de level 1"
   ]
  },
  {
   "cell_type": "code",
   "execution_count": 21,
   "metadata": {},
   "outputs": [
    {
     "data": {
      "text/html": [
       "<div>\n",
       "<style scoped>\n",
       "    .dataframe tbody tr th:only-of-type {\n",
       "        vertical-align: middle;\n",
       "    }\n",
       "\n",
       "    .dataframe tbody tr th {\n",
       "        vertical-align: top;\n",
       "    }\n",
       "\n",
       "    .dataframe thead th {\n",
       "        text-align: right;\n",
       "    }\n",
       "</style>\n",
       "<table border=\"1\" class=\"dataframe\">\n",
       "  <thead>\n",
       "    <tr style=\"text-align: right;\">\n",
       "      <th></th>\n",
       "      <th>product_name</th>\n",
       "      <th>cat</th>\n",
       "      <th>description</th>\n",
       "      <th>word_count</th>\n",
       "      <th>unique_word_count</th>\n",
       "    </tr>\n",
       "  </thead>\n",
       "  <tbody>\n",
       "    <tr>\n",
       "      <th>0</th>\n",
       "      <td>Elegance Polyester Multicolor Abstract Eyelet ...</td>\n",
       "      <td>home furnishing</td>\n",
       "      <td>Key Features of Elegance Polyester Multicolor ...</td>\n",
       "      <td>236.0</td>\n",
       "      <td>132.0</td>\n",
       "    </tr>\n",
       "    <tr>\n",
       "      <th>1</th>\n",
       "      <td>Sathiyas Cotton Bath Towel</td>\n",
       "      <td>baby care</td>\n",
       "      <td>Specifications of Sathiyas Cotton Bath Towel (...</td>\n",
       "      <td>74.0</td>\n",
       "      <td>48.0</td>\n",
       "    </tr>\n",
       "    <tr>\n",
       "      <th>2</th>\n",
       "      <td>Eurospa Cotton Terry Face Towel Set</td>\n",
       "      <td>baby care</td>\n",
       "      <td>Key Features of Eurospa Cotton Terry Face Towe...</td>\n",
       "      <td>216.0</td>\n",
       "      <td>124.0</td>\n",
       "    </tr>\n",
       "    <tr>\n",
       "      <th>3</th>\n",
       "      <td>SANTOSH ROYAL FASHION Cotton Printed King size...</td>\n",
       "      <td>home furnishing</td>\n",
       "      <td>Key Features of SANTOSH ROYAL FASHION Cotton P...</td>\n",
       "      <td>143.0</td>\n",
       "      <td>73.0</td>\n",
       "    </tr>\n",
       "    <tr>\n",
       "      <th>4</th>\n",
       "      <td>Jaipur Print Cotton Floral King sized Double B...</td>\n",
       "      <td>home furnishing</td>\n",
       "      <td>Key Features of Jaipur Print Cotton Floral Kin...</td>\n",
       "      <td>213.0</td>\n",
       "      <td>111.0</td>\n",
       "    </tr>\n",
       "  </tbody>\n",
       "</table>\n",
       "</div>"
      ],
      "text/plain": [
       "                                        product_name              cat  \\\n",
       "0  Elegance Polyester Multicolor Abstract Eyelet ...  home furnishing   \n",
       "1                         Sathiyas Cotton Bath Towel        baby care   \n",
       "2                Eurospa Cotton Terry Face Towel Set        baby care   \n",
       "3  SANTOSH ROYAL FASHION Cotton Printed King size...  home furnishing   \n",
       "4  Jaipur Print Cotton Floral King sized Double B...  home furnishing   \n",
       "\n",
       "                                         description  word_count  \\\n",
       "0  Key Features of Elegance Polyester Multicolor ...       236.0   \n",
       "1  Specifications of Sathiyas Cotton Bath Towel (...        74.0   \n",
       "2  Key Features of Eurospa Cotton Terry Face Towe...       216.0   \n",
       "3  Key Features of SANTOSH ROYAL FASHION Cotton P...       143.0   \n",
       "4  Key Features of Jaipur Print Cotton Floral Kin...       213.0   \n",
       "\n",
       "   unique_word_count  \n",
       "0              132.0  \n",
       "1               48.0  \n",
       "2              124.0  \n",
       "3               73.0  \n",
       "4              111.0  "
      ]
     },
     "execution_count": 21,
     "metadata": {},
     "output_type": "execute_result"
    }
   ],
   "source": [
    "df = df.rename(columns={'category_lvl_1': 'cat'})  \n",
    "df = df[[\"product_name\",\"cat\",\"description\",\"word_count\",\"unique_word_count\"]]\n",
    "df.head()"
   ]
  },
  {
   "cell_type": "markdown",
   "metadata": {},
   "source": [
    "J'effectue un hot hot encoding sur les categories afin de vérifier si il y a une correlation et pour future utilisations"
   ]
  },
  {
   "cell_type": "code",
   "execution_count": 22,
   "metadata": {},
   "outputs": [
    {
     "data": {
      "text/html": [
       "<div>\n",
       "<style scoped>\n",
       "    .dataframe tbody tr th:only-of-type {\n",
       "        vertical-align: middle;\n",
       "    }\n",
       "\n",
       "    .dataframe tbody tr th {\n",
       "        vertical-align: top;\n",
       "    }\n",
       "\n",
       "    .dataframe thead th {\n",
       "        text-align: right;\n",
       "    }\n",
       "</style>\n",
       "<table border=\"1\" class=\"dataframe\">\n",
       "  <thead>\n",
       "    <tr style=\"text-align: right;\">\n",
       "      <th></th>\n",
       "      <th>product_name</th>\n",
       "      <th>description</th>\n",
       "      <th>word_count</th>\n",
       "      <th>unique_word_count</th>\n",
       "      <th>cat_baby care</th>\n",
       "      <th>cat_beauty and personal care</th>\n",
       "      <th>cat_computers</th>\n",
       "      <th>cat_home decor &amp; festive needs</th>\n",
       "      <th>cat_home furnishing</th>\n",
       "      <th>cat_kitchen &amp; dining</th>\n",
       "      <th>cat_watches</th>\n",
       "    </tr>\n",
       "  </thead>\n",
       "  <tbody>\n",
       "    <tr>\n",
       "      <th>0</th>\n",
       "      <td>Elegance Polyester Multicolor Abstract Eyelet ...</td>\n",
       "      <td>Key Features of Elegance Polyester Multicolor ...</td>\n",
       "      <td>236.0</td>\n",
       "      <td>132.0</td>\n",
       "      <td>0</td>\n",
       "      <td>0</td>\n",
       "      <td>0</td>\n",
       "      <td>0</td>\n",
       "      <td>1</td>\n",
       "      <td>0</td>\n",
       "      <td>0</td>\n",
       "    </tr>\n",
       "    <tr>\n",
       "      <th>1</th>\n",
       "      <td>Sathiyas Cotton Bath Towel</td>\n",
       "      <td>Specifications of Sathiyas Cotton Bath Towel (...</td>\n",
       "      <td>74.0</td>\n",
       "      <td>48.0</td>\n",
       "      <td>1</td>\n",
       "      <td>0</td>\n",
       "      <td>0</td>\n",
       "      <td>0</td>\n",
       "      <td>0</td>\n",
       "      <td>0</td>\n",
       "      <td>0</td>\n",
       "    </tr>\n",
       "    <tr>\n",
       "      <th>2</th>\n",
       "      <td>Eurospa Cotton Terry Face Towel Set</td>\n",
       "      <td>Key Features of Eurospa Cotton Terry Face Towe...</td>\n",
       "      <td>216.0</td>\n",
       "      <td>124.0</td>\n",
       "      <td>1</td>\n",
       "      <td>0</td>\n",
       "      <td>0</td>\n",
       "      <td>0</td>\n",
       "      <td>0</td>\n",
       "      <td>0</td>\n",
       "      <td>0</td>\n",
       "    </tr>\n",
       "    <tr>\n",
       "      <th>3</th>\n",
       "      <td>SANTOSH ROYAL FASHION Cotton Printed King size...</td>\n",
       "      <td>Key Features of SANTOSH ROYAL FASHION Cotton P...</td>\n",
       "      <td>143.0</td>\n",
       "      <td>73.0</td>\n",
       "      <td>0</td>\n",
       "      <td>0</td>\n",
       "      <td>0</td>\n",
       "      <td>0</td>\n",
       "      <td>1</td>\n",
       "      <td>0</td>\n",
       "      <td>0</td>\n",
       "    </tr>\n",
       "    <tr>\n",
       "      <th>4</th>\n",
       "      <td>Jaipur Print Cotton Floral King sized Double B...</td>\n",
       "      <td>Key Features of Jaipur Print Cotton Floral Kin...</td>\n",
       "      <td>213.0</td>\n",
       "      <td>111.0</td>\n",
       "      <td>0</td>\n",
       "      <td>0</td>\n",
       "      <td>0</td>\n",
       "      <td>0</td>\n",
       "      <td>1</td>\n",
       "      <td>0</td>\n",
       "      <td>0</td>\n",
       "    </tr>\n",
       "  </tbody>\n",
       "</table>\n",
       "</div>"
      ],
      "text/plain": [
       "                                        product_name  \\\n",
       "0  Elegance Polyester Multicolor Abstract Eyelet ...   \n",
       "1                         Sathiyas Cotton Bath Towel   \n",
       "2                Eurospa Cotton Terry Face Towel Set   \n",
       "3  SANTOSH ROYAL FASHION Cotton Printed King size...   \n",
       "4  Jaipur Print Cotton Floral King sized Double B...   \n",
       "\n",
       "                                         description  word_count  \\\n",
       "0  Key Features of Elegance Polyester Multicolor ...       236.0   \n",
       "1  Specifications of Sathiyas Cotton Bath Towel (...        74.0   \n",
       "2  Key Features of Eurospa Cotton Terry Face Towe...       216.0   \n",
       "3  Key Features of SANTOSH ROYAL FASHION Cotton P...       143.0   \n",
       "4  Key Features of Jaipur Print Cotton Floral Kin...       213.0   \n",
       "\n",
       "   unique_word_count  cat_baby care  cat_beauty and personal care  \\\n",
       "0              132.0              0                             0   \n",
       "1               48.0              1                             0   \n",
       "2              124.0              1                             0   \n",
       "3               73.0              0                             0   \n",
       "4              111.0              0                             0   \n",
       "\n",
       "   cat_computers  cat_home decor & festive needs  cat_home furnishing  \\\n",
       "0              0                               0                    1   \n",
       "1              0                               0                    0   \n",
       "2              0                               0                    0   \n",
       "3              0                               0                    1   \n",
       "4              0                               0                    1   \n",
       "\n",
       "   cat_kitchen & dining  cat_watches  \n",
       "0                     0            0  \n",
       "1                     0            0  \n",
       "2                     0            0  \n",
       "3                     0            0  \n",
       "4                     0            0  "
      ]
     },
     "execution_count": 22,
     "metadata": {},
     "output_type": "execute_result"
    }
   ],
   "source": [
    "df_encoded = pd.get_dummies(df, columns=[\"cat\"])  \n",
    "df_encoded.head()"
   ]
  },
  {
   "cell_type": "code",
   "execution_count": 23,
   "metadata": {},
   "outputs": [
    {
     "name": "stderr",
     "output_type": "stream",
     "text": [
      "/var/folders/x_/0z24g8110_n09vlvhxmrh0_w0000gp/T/ipykernel_17428/676038228.py:1: FutureWarning:\n",
      "\n",
      "The default value of numeric_only in DataFrame.corr is deprecated. In a future version, it will default to False. Select only valid columns or specify the value of numeric_only to silence this warning.\n",
      "\n"
     ]
    },
    {
     "data": {
      "text/plain": [
       "<Axes: >"
      ]
     },
     "execution_count": 23,
     "metadata": {},
     "output_type": "execute_result"
    },
    {
     "data": {
      "image/png": "[encoded data removed]",
      "text/plain": [
       "<Figure size 640x480 with 2 Axes>"
      ]
     },
     "metadata": {},
     "output_type": "display_data"
    }
   ],
   "source": [
    "sns.heatmap(df_encoded.corr())"
   ]
  },
  {
   "cell_type": "code",
   "execution_count": 24,
   "metadata": {},
   "outputs": [
    {
     "data": {
      "text/html": [
       "<div>\n",
       "<style scoped>\n",
       "    .dataframe tbody tr th:only-of-type {\n",
       "        vertical-align: middle;\n",
       "    }\n",
       "\n",
       "    .dataframe tbody tr th {\n",
       "        vertical-align: top;\n",
       "    }\n",
       "\n",
       "    .dataframe thead th {\n",
       "        text-align: right;\n",
       "    }\n",
       "</style>\n",
       "<table border=\"1\" class=\"dataframe\">\n",
       "  <thead>\n",
       "    <tr style=\"text-align: right;\">\n",
       "      <th></th>\n",
       "      <th>product_name</th>\n",
       "      <th>cat</th>\n",
       "      <th>description</th>\n",
       "      <th>word_count</th>\n",
       "      <th>unique_word_count</th>\n",
       "    </tr>\n",
       "  </thead>\n",
       "  <tbody>\n",
       "    <tr>\n",
       "      <th>0</th>\n",
       "      <td>Elegance Polyester Multicolor Abstract Eyelet ...</td>\n",
       "      <td>home furnishing</td>\n",
       "      <td>Key Features of Elegance Polyester Multicolor ...</td>\n",
       "      <td>236.0</td>\n",
       "      <td>132.0</td>\n",
       "    </tr>\n",
       "    <tr>\n",
       "      <th>1</th>\n",
       "      <td>Sathiyas Cotton Bath Towel</td>\n",
       "      <td>baby care</td>\n",
       "      <td>Specifications of Sathiyas Cotton Bath Towel (...</td>\n",
       "      <td>74.0</td>\n",
       "      <td>48.0</td>\n",
       "    </tr>\n",
       "    <tr>\n",
       "      <th>2</th>\n",
       "      <td>Eurospa Cotton Terry Face Towel Set</td>\n",
       "      <td>baby care</td>\n",
       "      <td>Key Features of Eurospa Cotton Terry Face Towe...</td>\n",
       "      <td>216.0</td>\n",
       "      <td>124.0</td>\n",
       "    </tr>\n",
       "    <tr>\n",
       "      <th>3</th>\n",
       "      <td>SANTOSH ROYAL FASHION Cotton Printed King size...</td>\n",
       "      <td>home furnishing</td>\n",
       "      <td>Key Features of SANTOSH ROYAL FASHION Cotton P...</td>\n",
       "      <td>143.0</td>\n",
       "      <td>73.0</td>\n",
       "    </tr>\n",
       "    <tr>\n",
       "      <th>4</th>\n",
       "      <td>Jaipur Print Cotton Floral King sized Double B...</td>\n",
       "      <td>home furnishing</td>\n",
       "      <td>Key Features of Jaipur Print Cotton Floral Kin...</td>\n",
       "      <td>213.0</td>\n",
       "      <td>111.0</td>\n",
       "    </tr>\n",
       "  </tbody>\n",
       "</table>\n",
       "</div>"
      ],
      "text/plain": [
       "                                        product_name              cat  \\\n",
       "0  Elegance Polyester Multicolor Abstract Eyelet ...  home furnishing   \n",
       "1                         Sathiyas Cotton Bath Towel        baby care   \n",
       "2                Eurospa Cotton Terry Face Towel Set        baby care   \n",
       "3  SANTOSH ROYAL FASHION Cotton Printed King size...  home furnishing   \n",
       "4  Jaipur Print Cotton Floral King sized Double B...  home furnishing   \n",
       "\n",
       "                                         description  word_count  \\\n",
       "0  Key Features of Elegance Polyester Multicolor ...       236.0   \n",
       "1  Specifications of Sathiyas Cotton Bath Towel (...        74.0   \n",
       "2  Key Features of Eurospa Cotton Terry Face Towe...       216.0   \n",
       "3  Key Features of SANTOSH ROYAL FASHION Cotton P...       143.0   \n",
       "4  Key Features of Jaipur Print Cotton Floral Kin...       213.0   \n",
       "\n",
       "   unique_word_count  \n",
       "0              132.0  \n",
       "1               48.0  \n",
       "2              124.0  \n",
       "3               73.0  \n",
       "4              111.0  "
      ]
     },
     "execution_count": 24,
     "metadata": {},
     "output_type": "execute_result"
    }
   ],
   "source": [
    "df.head()"
   ]
  },
  {
   "cell_type": "code",
   "execution_count": 27,
   "metadata": {},
   "outputs": [],
   "source": [
    "import pandas as pd  \n",
    "from sklearn.feature_extraction.text import CountVectorizer, TfidfVectorizer  \n",
    "import re  \n",
    "from nltk.corpus import stopwords  \n",
    "import nltk  "
   ]
  },
  {
   "cell_type": "code",
   "execution_count": 28,
   "metadata": {},
   "outputs": [],
   "source": [
    "def clean_text(text):  \n",
    "    # Retirer les caractères non-alphabétiques et mettre le texte en minuscule  \n",
    "    text = re.sub(r'[^a-zA-Z\\s]', '', text, re.I|re.A).lower()  \n",
    "    # Tokenization  \n",
    "    tokens = text.split()  \n",
    "    # Stopwords removal  \n",
    "    filtered_tokens = [token for token in tokens if token not in stopwords.words('english')]  \n",
    "    # Rejoindre les mots  \n",
    "    text = ' '.join(filtered_tokens)  \n",
    "    return text  \n",
    "  \n",
    "# Appliquer la fonction de nettoyage sur la colonne description  \n",
    "df['cleaned_description'] = df['description'].apply(clean_text)  "
   ]
  },
  {
   "cell_type": "code",
   "execution_count": 29,
   "metadata": {},
   "outputs": [
    {
     "data": {
      "text/html": [
       "<div>\n",
       "<style scoped>\n",
       "    .dataframe tbody tr th:only-of-type {\n",
       "        vertical-align: middle;\n",
       "    }\n",
       "\n",
       "    .dataframe tbody tr th {\n",
       "        vertical-align: top;\n",
       "    }\n",
       "\n",
       "    .dataframe thead th {\n",
       "        text-align: right;\n",
       "    }\n",
       "</style>\n",
       "<table border=\"1\" class=\"dataframe\">\n",
       "  <thead>\n",
       "    <tr style=\"text-align: right;\">\n",
       "      <th></th>\n",
       "      <th>product_name</th>\n",
       "      <th>cat</th>\n",
       "      <th>description</th>\n",
       "      <th>word_count</th>\n",
       "      <th>unique_word_count</th>\n",
       "      <th>cleaned_description</th>\n",
       "    </tr>\n",
       "  </thead>\n",
       "  <tbody>\n",
       "    <tr>\n",
       "      <th>0</th>\n",
       "      <td>Elegance Polyester Multicolor Abstract Eyelet ...</td>\n",
       "      <td>home furnishing</td>\n",
       "      <td>Key Features of Elegance Polyester Multicolor ...</td>\n",
       "      <td>236.0</td>\n",
       "      <td>132.0</td>\n",
       "      <td>key features elegance polyester multicolor abs...</td>\n",
       "    </tr>\n",
       "    <tr>\n",
       "      <th>1</th>\n",
       "      <td>Sathiyas Cotton Bath Towel</td>\n",
       "      <td>baby care</td>\n",
       "      <td>Specifications of Sathiyas Cotton Bath Towel (...</td>\n",
       "      <td>74.0</td>\n",
       "      <td>48.0</td>\n",
       "      <td>specifications sathiyas cotton bath towel bath...</td>\n",
       "    </tr>\n",
       "    <tr>\n",
       "      <th>2</th>\n",
       "      <td>Eurospa Cotton Terry Face Towel Set</td>\n",
       "      <td>baby care</td>\n",
       "      <td>Key Features of Eurospa Cotton Terry Face Towe...</td>\n",
       "      <td>216.0</td>\n",
       "      <td>124.0</td>\n",
       "      <td>key features eurospa cotton terry face towel s...</td>\n",
       "    </tr>\n",
       "    <tr>\n",
       "      <th>3</th>\n",
       "      <td>SANTOSH ROYAL FASHION Cotton Printed King size...</td>\n",
       "      <td>home furnishing</td>\n",
       "      <td>Key Features of SANTOSH ROYAL FASHION Cotton P...</td>\n",
       "      <td>143.0</td>\n",
       "      <td>73.0</td>\n",
       "      <td>key features santosh royal fashion cotton prin...</td>\n",
       "    </tr>\n",
       "    <tr>\n",
       "      <th>4</th>\n",
       "      <td>Jaipur Print Cotton Floral King sized Double B...</td>\n",
       "      <td>home furnishing</td>\n",
       "      <td>Key Features of Jaipur Print Cotton Floral Kin...</td>\n",
       "      <td>213.0</td>\n",
       "      <td>111.0</td>\n",
       "      <td>key features jaipur print cotton floral king s...</td>\n",
       "    </tr>\n",
       "  </tbody>\n",
       "</table>\n",
       "</div>"
      ],
      "text/plain": [
       "                                        product_name              cat  \\\n",
       "0  Elegance Polyester Multicolor Abstract Eyelet ...  home furnishing   \n",
       "1                         Sathiyas Cotton Bath Towel        baby care   \n",
       "2                Eurospa Cotton Terry Face Towel Set        baby care   \n",
       "3  SANTOSH ROYAL FASHION Cotton Printed King size...  home furnishing   \n",
       "4  Jaipur Print Cotton Floral King sized Double B...  home furnishing   \n",
       "\n",
       "                                         description  word_count  \\\n",
       "0  Key Features of Elegance Polyester Multicolor ...       236.0   \n",
       "1  Specifications of Sathiyas Cotton Bath Towel (...        74.0   \n",
       "2  Key Features of Eurospa Cotton Terry Face Towe...       216.0   \n",
       "3  Key Features of SANTOSH ROYAL FASHION Cotton P...       143.0   \n",
       "4  Key Features of Jaipur Print Cotton Floral Kin...       213.0   \n",
       "\n",
       "   unique_word_count                                cleaned_description  \n",
       "0              132.0  key features elegance polyester multicolor abs...  \n",
       "1               48.0  specifications sathiyas cotton bath towel bath...  \n",
       "2              124.0  key features eurospa cotton terry face towel s...  \n",
       "3               73.0  key features santosh royal fashion cotton prin...  \n",
       "4              111.0  key features jaipur print cotton floral king s...  "
      ]
     },
     "execution_count": 29,
     "metadata": {},
     "output_type": "execute_result"
    }
   ],
   "source": [
    "df.head()"
   ]
  },
  {
   "cell_type": "code",
   "execution_count": 30,
   "metadata": {},
   "outputs": [],
   "source": [
    "# Bag-of-words  \n",
    "count_vectorizer = CountVectorizer()  \n",
    "bow_matrix = count_vectorizer.fit_transform(df['cleaned_description'])  \n",
    "  \n",
    "# Tf-idf  \n",
    "tfidf_vectorizer = TfidfVectorizer()  \n",
    "tfidf_matrix = tfidf_vectorizer.fit_transform(df['cleaned_description'])  "
   ]
  },
  {
   "cell_type": "code",
   "execution_count": 34,
   "metadata": {},
   "outputs": [],
   "source": [
    "from gensim.models import Word2Vec  \n",
    "  \n",
    "# Liste de listes de tokens pour word2vec  \n",
    "tokenized_docs = df['cleaned_description'].apply(lambda x: x.split())  \n",
    "  \n",
    "# Formation du modèle Word2Vec (peut prendre du temps en fonction de la taille du dataset)  \n",
    "word2vec_model = Word2Vec(tokenized_docs, vector_size=100, window=5, min_count=1, workers=4)  \n",
    "  \n",
    "# Création d'une représentation vectorielle moyenne pour chaque description  \n",
    "def document_vector(doc):  \n",
    "    # Supprimer les mots inconnus  \n",
    "    doc = [word for word in doc if word in word2vec_model.wv.index_to_key]  \n",
    "    return np.mean(word2vec_model.wv[doc], axis=0) if len(doc) > 0 else np.zeros(word2vec_model.vector_size)  \n",
    "  \n",
    "word2vec_features = np.vstack(tokenized_docs.apply(document_vector))  "
   ]
  },
  {
   "cell_type": "code",
   "execution_count": 37,
   "metadata": {},
   "outputs": [
    {
     "ename": "OSError",
     "evalue": "https://tfhub.dev/google/bert-en-uncased-l-12-h-128-a-2/2 does not appear to be a valid module.",
     "output_type": "error",
     "traceback": [
      "\u001b[0;31m---------------------------------------------------------------------------\u001b[0m",
      "\u001b[0;31mReadError\u001b[0m                                 Traceback (most recent call last)",
      "File \u001b[0;32m~/.pyenv/versions/3.10.12/lib/python3.10/site-packages/tensorflow_hub/resolver.py:192\u001b[0m, in \u001b[0;36mDownloadManager.download_and_uncompress\u001b[0;34m(self, fileobj, dst_path)\u001b[0m\n\u001b[1;32m    191\u001b[0m \u001b[38;5;28;01mtry\u001b[39;00m:\n\u001b[0;32m--> 192\u001b[0m   \u001b[43mfile_utils\u001b[49m\u001b[38;5;241;43m.\u001b[39;49m\u001b[43mextract_tarfile_to_destination\u001b[49m\u001b[43m(\u001b[49m\n\u001b[1;32m    193\u001b[0m \u001b[43m      \u001b[49m\u001b[43mfileobj\u001b[49m\u001b[43m,\u001b[49m\u001b[43m \u001b[49m\u001b[43mdst_path\u001b[49m\u001b[43m,\u001b[49m\u001b[43m \u001b[49m\u001b[43mlog_function\u001b[49m\u001b[38;5;241;43m=\u001b[39;49m\u001b[38;5;28;43mself\u001b[39;49m\u001b[38;5;241;43m.\u001b[39;49m\u001b[43m_log_progress\u001b[49m\u001b[43m)\u001b[49m\n\u001b[1;32m    194\u001b[0m   total_size_str \u001b[38;5;241m=\u001b[39m tf_utils\u001b[38;5;241m.\u001b[39mbytes_to_readable_str(\n\u001b[1;32m    195\u001b[0m       \u001b[38;5;28mself\u001b[39m\u001b[38;5;241m.\u001b[39m_total_bytes_downloaded, \u001b[38;5;28;01mTrue\u001b[39;00m)\n",
      "File \u001b[0;32m~/.pyenv/versions/3.10.12/lib/python3.10/site-packages/tensorflow_hub/file_utils.py:47\u001b[0m, in \u001b[0;36mextract_tarfile_to_destination\u001b[0;34m(fileobj, dst_path, log_function)\u001b[0m\n\u001b[1;32m     46\u001b[0m \u001b[38;5;250m\u001b[39m\u001b[38;5;124;03m\"\"\"Extract a tarfile. Optional: log the progress.\"\"\"\u001b[39;00m\n\u001b[0;32m---> 47\u001b[0m \u001b[38;5;28;01mwith\u001b[39;00m \u001b[43mtarfile\u001b[49m\u001b[38;5;241;43m.\u001b[39;49m\u001b[43mopen\u001b[49m\u001b[43m(\u001b[49m\u001b[43mmode\u001b[49m\u001b[38;5;241;43m=\u001b[39;49m\u001b[38;5;124;43m\"\u001b[39;49m\u001b[38;5;124;43mr|*\u001b[39;49m\u001b[38;5;124;43m\"\u001b[39;49m\u001b[43m,\u001b[49m\u001b[43m \u001b[49m\u001b[43mfileobj\u001b[49m\u001b[38;5;241;43m=\u001b[39;49m\u001b[43mfileobj\u001b[49m\u001b[43m)\u001b[49m \u001b[38;5;28;01mas\u001b[39;00m tgz:\n\u001b[1;32m     48\u001b[0m   \u001b[38;5;28;01mfor\u001b[39;00m tarinfo \u001b[38;5;129;01min\u001b[39;00m tgz:\n",
      "File \u001b[0;32m~/.pyenv/versions/3.10.12/lib/python3.10/tarfile.py:1829\u001b[0m, in \u001b[0;36mTarFile.open\u001b[0;34m(cls, name, mode, fileobj, bufsize, **kwargs)\u001b[0m\n\u001b[1;32m   1828\u001b[0m \u001b[38;5;28;01mtry\u001b[39;00m:\n\u001b[0;32m-> 1829\u001b[0m     t \u001b[38;5;241m=\u001b[39m \u001b[38;5;28;43mcls\u001b[39;49m\u001b[43m(\u001b[49m\u001b[43mname\u001b[49m\u001b[43m,\u001b[49m\u001b[43m \u001b[49m\u001b[43mfilemode\u001b[49m\u001b[43m,\u001b[49m\u001b[43m \u001b[49m\u001b[43mstream\u001b[49m\u001b[43m,\u001b[49m\u001b[43m \u001b[49m\u001b[38;5;241;43m*\u001b[39;49m\u001b[38;5;241;43m*\u001b[39;49m\u001b[43mkwargs\u001b[49m\u001b[43m)\u001b[49m\n\u001b[1;32m   1830\u001b[0m \u001b[38;5;28;01mexcept\u001b[39;00m:\n",
      "File \u001b[0;32m~/.pyenv/versions/3.10.12/lib/python3.10/tarfile.py:1707\u001b[0m, in \u001b[0;36mTarFile.__init__\u001b[0;34m(self, name, mode, fileobj, format, tarinfo, dereference, ignore_zeros, encoding, errors, pax_headers, debug, errorlevel, copybufsize)\u001b[0m\n\u001b[1;32m   1706\u001b[0m     \u001b[38;5;28mself\u001b[39m\u001b[38;5;241m.\u001b[39mfirstmember \u001b[38;5;241m=\u001b[39m \u001b[38;5;28;01mNone\u001b[39;00m\n\u001b[0;32m-> 1707\u001b[0m     \u001b[38;5;28mself\u001b[39m\u001b[38;5;241m.\u001b[39mfirstmember \u001b[38;5;241m=\u001b[39m \u001b[38;5;28;43mself\u001b[39;49m\u001b[38;5;241;43m.\u001b[39;49m\u001b[43mnext\u001b[49m\u001b[43m(\u001b[49m\u001b[43m)\u001b[49m\n\u001b[1;32m   1709\u001b[0m \u001b[38;5;28;01mif\u001b[39;00m \u001b[38;5;28mself\u001b[39m\u001b[38;5;241m.\u001b[39mmode \u001b[38;5;241m==\u001b[39m \u001b[38;5;124m\"\u001b[39m\u001b[38;5;124ma\u001b[39m\u001b[38;5;124m\"\u001b[39m:\n\u001b[1;32m   1710\u001b[0m     \u001b[38;5;66;03m# Move to the end of the archive,\u001b[39;00m\n\u001b[1;32m   1711\u001b[0m     \u001b[38;5;66;03m# before the first empty block.\u001b[39;00m\n",
      "File \u001b[0;32m~/.pyenv/versions/3.10.12/lib/python3.10/tarfile.py:2607\u001b[0m, in \u001b[0;36mTarFile.next\u001b[0;34m(self)\u001b[0m\n\u001b[1;32m   2606\u001b[0m     \u001b[38;5;28;01melif\u001b[39;00m \u001b[38;5;28mself\u001b[39m\u001b[38;5;241m.\u001b[39moffset \u001b[38;5;241m==\u001b[39m \u001b[38;5;241m0\u001b[39m:\n\u001b[0;32m-> 2607\u001b[0m         \u001b[38;5;28;01mraise\u001b[39;00m ReadError(\u001b[38;5;28mstr\u001b[39m(e)) \u001b[38;5;28;01mfrom\u001b[39;00m \u001b[38;5;28;01mNone\u001b[39;00m\n\u001b[1;32m   2608\u001b[0m \u001b[38;5;28;01mexcept\u001b[39;00m EmptyHeaderError:\n",
      "\u001b[0;31mReadError\u001b[0m: invalid header",
      "\nDuring handling of the above exception, another exception occurred:\n",
      "\u001b[0;31mOSError\u001b[0m                                   Traceback (most recent call last)",
      "Cell \u001b[0;32mIn[37], line 5\u001b[0m\n\u001b[1;32m      2\u001b[0m \u001b[38;5;28;01mimport\u001b[39;00m \u001b[38;5;21;01mtensorflow_hub\u001b[39;00m \u001b[38;5;28;01mas\u001b[39;00m \u001b[38;5;21;01mhub\u001b[39;00m  \n\u001b[1;32m      4\u001b[0m \u001b[38;5;66;03m# BERT embeddings  \u001b[39;00m\n\u001b[0;32m----> 5\u001b[0m bert_model \u001b[38;5;241m=\u001b[39m \u001b[43mhub\u001b[49m\u001b[38;5;241;43m.\u001b[39;49m\u001b[43mload\u001b[49m\u001b[43m(\u001b[49m\u001b[38;5;124;43m\"\u001b[39;49m\u001b[38;5;124;43mhttps://tfhub.dev/google/bert-en-uncased-l-12-h-128-a-2/2\u001b[39;49m\u001b[38;5;124;43m\"\u001b[39;49m\u001b[43m)\u001b[49m  \n\u001b[1;32m      6\u001b[0m \u001b[38;5;28;01mdef\u001b[39;00m \u001b[38;5;21mget_bert_embeddings\u001b[39m(sentences):  \n\u001b[1;32m      7\u001b[0m     \u001b[38;5;66;03m# Votre fonction pour obtenir des embeddings à partir du BERT model  \u001b[39;00m\n\u001b[1;32m      8\u001b[0m     \u001b[38;5;66;03m# ...  \u001b[39;00m\n\u001b[1;32m      9\u001b[0m     \u001b[38;5;28;01mreturn\u001b[39;00m bert_embeddings  \n",
      "File \u001b[0;32m~/.pyenv/versions/3.10.12/lib/python3.10/site-packages/tensorflow_hub/module_v2.py:93\u001b[0m, in \u001b[0;36mload\u001b[0;34m(handle, tags, options)\u001b[0m\n\u001b[1;32m     91\u001b[0m \u001b[38;5;28;01mif\u001b[39;00m \u001b[38;5;129;01mnot\u001b[39;00m \u001b[38;5;28misinstance\u001b[39m(handle, \u001b[38;5;28mstr\u001b[39m):\n\u001b[1;32m     92\u001b[0m   \u001b[38;5;28;01mraise\u001b[39;00m \u001b[38;5;167;01mValueError\u001b[39;00m(\u001b[38;5;124m\"\u001b[39m\u001b[38;5;124mExpected a string, got \u001b[39m\u001b[38;5;132;01m%s\u001b[39;00m\u001b[38;5;124m\"\u001b[39m \u001b[38;5;241m%\u001b[39m handle)\n\u001b[0;32m---> 93\u001b[0m module_path \u001b[38;5;241m=\u001b[39m \u001b[43mresolve\u001b[49m\u001b[43m(\u001b[49m\u001b[43mhandle\u001b[49m\u001b[43m)\u001b[49m\n\u001b[1;32m     94\u001b[0m is_hub_module_v1 \u001b[38;5;241m=\u001b[39m tf\u001b[38;5;241m.\u001b[39mio\u001b[38;5;241m.\u001b[39mgfile\u001b[38;5;241m.\u001b[39mexists(\n\u001b[1;32m     95\u001b[0m     native_module\u001b[38;5;241m.\u001b[39mget_module_proto_path(module_path))\n\u001b[1;32m     96\u001b[0m \u001b[38;5;28;01mif\u001b[39;00m tags \u001b[38;5;129;01mis\u001b[39;00m \u001b[38;5;28;01mNone\u001b[39;00m \u001b[38;5;129;01mand\u001b[39;00m is_hub_module_v1:\n",
      "File \u001b[0;32m~/.pyenv/versions/3.10.12/lib/python3.10/site-packages/tensorflow_hub/module_v2.py:48\u001b[0m, in \u001b[0;36mresolve\u001b[0;34m(handle)\u001b[0m\n\u001b[1;32m     24\u001b[0m \u001b[38;5;28;01mdef\u001b[39;00m \u001b[38;5;21mresolve\u001b[39m(handle):\n\u001b[1;32m     25\u001b[0m \u001b[38;5;250m  \u001b[39m\u001b[38;5;124;03m\"\"\"Resolves a module handle into a path.\u001b[39;00m\n\u001b[1;32m     26\u001b[0m \n\u001b[1;32m     27\u001b[0m \u001b[38;5;124;03m  This function works both for plain TF2 SavedModels and the legacy TF1 Hub\u001b[39;00m\n\u001b[0;32m   (...)\u001b[0m\n\u001b[1;32m     46\u001b[0m \u001b[38;5;124;03m    A string representing the Module path.\u001b[39;00m\n\u001b[1;32m     47\u001b[0m \u001b[38;5;124;03m  \"\"\"\u001b[39;00m\n\u001b[0;32m---> 48\u001b[0m   \u001b[38;5;28;01mreturn\u001b[39;00m \u001b[43mregistry\u001b[49m\u001b[38;5;241;43m.\u001b[39;49m\u001b[43mresolver\u001b[49m\u001b[43m(\u001b[49m\u001b[43mhandle\u001b[49m\u001b[43m)\u001b[49m\n",
      "File \u001b[0;32m~/.pyenv/versions/3.10.12/lib/python3.10/site-packages/tensorflow_hub/registry.py:49\u001b[0m, in \u001b[0;36mMultiImplRegister.__call__\u001b[0;34m(self, *args, **kwargs)\u001b[0m\n\u001b[1;32m     47\u001b[0m \u001b[38;5;28;01mfor\u001b[39;00m impl \u001b[38;5;129;01min\u001b[39;00m \u001b[38;5;28mreversed\u001b[39m(\u001b[38;5;28mself\u001b[39m\u001b[38;5;241m.\u001b[39m_impls):\n\u001b[1;32m     48\u001b[0m   \u001b[38;5;28;01mif\u001b[39;00m impl\u001b[38;5;241m.\u001b[39mis_supported(\u001b[38;5;241m*\u001b[39margs, \u001b[38;5;241m*\u001b[39m\u001b[38;5;241m*\u001b[39mkwargs):\n\u001b[0;32m---> 49\u001b[0m     \u001b[38;5;28;01mreturn\u001b[39;00m \u001b[43mimpl\u001b[49m\u001b[43m(\u001b[49m\u001b[38;5;241;43m*\u001b[39;49m\u001b[43margs\u001b[49m\u001b[43m,\u001b[49m\u001b[43m \u001b[49m\u001b[38;5;241;43m*\u001b[39;49m\u001b[38;5;241;43m*\u001b[39;49m\u001b[43mkwargs\u001b[49m\u001b[43m)\u001b[49m\n\u001b[1;32m     50\u001b[0m   \u001b[38;5;28;01melse\u001b[39;00m:\n\u001b[1;32m     51\u001b[0m     fails\u001b[38;5;241m.\u001b[39mappend(\u001b[38;5;28mtype\u001b[39m(impl)\u001b[38;5;241m.\u001b[39m\u001b[38;5;18m__name__\u001b[39m)\n",
      "File \u001b[0;32m~/.pyenv/versions/3.10.12/lib/python3.10/site-packages/tensorflow_hub/compressed_module_resolver.py:81\u001b[0m, in \u001b[0;36mHttpCompressedFileResolver.__call__\u001b[0;34m(self, handle)\u001b[0m\n\u001b[1;32m     77\u001b[0m   response \u001b[38;5;241m=\u001b[39m \u001b[38;5;28mself\u001b[39m\u001b[38;5;241m.\u001b[39m_call_urlopen(request)\n\u001b[1;32m     78\u001b[0m   \u001b[38;5;28;01mreturn\u001b[39;00m resolver\u001b[38;5;241m.\u001b[39mDownloadManager(handle)\u001b[38;5;241m.\u001b[39mdownload_and_uncompress(\n\u001b[1;32m     79\u001b[0m       response, tmp_dir)\n\u001b[0;32m---> 81\u001b[0m \u001b[38;5;28;01mreturn\u001b[39;00m \u001b[43mresolver\u001b[49m\u001b[38;5;241;43m.\u001b[39;49m\u001b[43matomic_download\u001b[49m\u001b[43m(\u001b[49m\u001b[43mhandle\u001b[49m\u001b[43m,\u001b[49m\u001b[43m \u001b[49m\u001b[43mdownload\u001b[49m\u001b[43m,\u001b[49m\u001b[43m \u001b[49m\u001b[43mmodule_dir\u001b[49m\u001b[43m,\u001b[49m\n\u001b[1;32m     82\u001b[0m \u001b[43m                                \u001b[49m\u001b[38;5;28;43mself\u001b[39;49m\u001b[38;5;241;43m.\u001b[39;49m\u001b[43m_lock_file_timeout_sec\u001b[49m\u001b[43m(\u001b[49m\u001b[43m)\u001b[49m\u001b[43m)\u001b[49m\n",
      "File \u001b[0;32m~/.pyenv/versions/3.10.12/lib/python3.10/site-packages/tensorflow_hub/resolver.py:421\u001b[0m, in \u001b[0;36matomic_download\u001b[0;34m(handle, download_fn, module_dir, lock_file_timeout_sec)\u001b[0m\n\u001b[1;32m    419\u001b[0m logging\u001b[38;5;241m.\u001b[39minfo(\u001b[38;5;124m\"\u001b[39m\u001b[38;5;124mDownloading TF-Hub Module \u001b[39m\u001b[38;5;124m'\u001b[39m\u001b[38;5;132;01m%s\u001b[39;00m\u001b[38;5;124m'\u001b[39m\u001b[38;5;124m.\u001b[39m\u001b[38;5;124m\"\u001b[39m, handle)\n\u001b[1;32m    420\u001b[0m tf\u001b[38;5;241m.\u001b[39mcompat\u001b[38;5;241m.\u001b[39mv1\u001b[38;5;241m.\u001b[39mgfile\u001b[38;5;241m.\u001b[39mMakeDirs(tmp_dir)\n\u001b[0;32m--> 421\u001b[0m \u001b[43mdownload_fn\u001b[49m\u001b[43m(\u001b[49m\u001b[43mhandle\u001b[49m\u001b[43m,\u001b[49m\u001b[43m \u001b[49m\u001b[43mtmp_dir\u001b[49m\u001b[43m)\u001b[49m\n\u001b[1;32m    422\u001b[0m \u001b[38;5;66;03m# Write module descriptor to capture information about which module was\u001b[39;00m\n\u001b[1;32m    423\u001b[0m \u001b[38;5;66;03m# downloaded by whom and when. The file stored at the same level as a\u001b[39;00m\n\u001b[1;32m    424\u001b[0m \u001b[38;5;66;03m# directory in order to keep the content of the 'model_dir' exactly as it\u001b[39;00m\n\u001b[0;32m   (...)\u001b[0m\n\u001b[1;32m    429\u001b[0m \u001b[38;5;66;03m# module caching protocol and no code in the TF-Hub library reads its\u001b[39;00m\n\u001b[1;32m    430\u001b[0m \u001b[38;5;66;03m# content.\u001b[39;00m\n\u001b[1;32m    431\u001b[0m _write_module_descriptor_file(handle, module_dir)\n",
      "File \u001b[0;32m~/.pyenv/versions/3.10.12/lib/python3.10/site-packages/tensorflow_hub/compressed_module_resolver.py:78\u001b[0m, in \u001b[0;36mHttpCompressedFileResolver.__call__.<locals>.download\u001b[0;34m(handle, tmp_dir)\u001b[0m\n\u001b[1;32m     75\u001b[0m request \u001b[38;5;241m=\u001b[39m urllib\u001b[38;5;241m.\u001b[39mrequest\u001b[38;5;241m.\u001b[39mRequest(\n\u001b[1;32m     76\u001b[0m     \u001b[38;5;28mself\u001b[39m\u001b[38;5;241m.\u001b[39m_append_compressed_format_query(handle))\n\u001b[1;32m     77\u001b[0m response \u001b[38;5;241m=\u001b[39m \u001b[38;5;28mself\u001b[39m\u001b[38;5;241m.\u001b[39m_call_urlopen(request)\n\u001b[0;32m---> 78\u001b[0m \u001b[38;5;28;01mreturn\u001b[39;00m \u001b[43mresolver\u001b[49m\u001b[38;5;241;43m.\u001b[39;49m\u001b[43mDownloadManager\u001b[49m\u001b[43m(\u001b[49m\u001b[43mhandle\u001b[49m\u001b[43m)\u001b[49m\u001b[38;5;241;43m.\u001b[39;49m\u001b[43mdownload_and_uncompress\u001b[49m\u001b[43m(\u001b[49m\n\u001b[1;32m     79\u001b[0m \u001b[43m    \u001b[49m\u001b[43mresponse\u001b[49m\u001b[43m,\u001b[49m\u001b[43m \u001b[49m\u001b[43mtmp_dir\u001b[49m\u001b[43m)\u001b[49m\n",
      "File \u001b[0;32m~/.pyenv/versions/3.10.12/lib/python3.10/site-packages/tensorflow_hub/resolver.py:200\u001b[0m, in \u001b[0;36mDownloadManager.download_and_uncompress\u001b[0;34m(self, fileobj, dst_path)\u001b[0m\n\u001b[1;32m    196\u001b[0m   \u001b[38;5;28mself\u001b[39m\u001b[38;5;241m.\u001b[39m_print_download_progress_msg(\n\u001b[1;32m    197\u001b[0m       \u001b[38;5;124m\"\u001b[39m\u001b[38;5;124mDownloaded \u001b[39m\u001b[38;5;132;01m%s\u001b[39;00m\u001b[38;5;124m, Total size: \u001b[39m\u001b[38;5;132;01m%s\u001b[39;00m\u001b[38;5;124m\"\u001b[39m \u001b[38;5;241m%\u001b[39m (\u001b[38;5;28mself\u001b[39m\u001b[38;5;241m.\u001b[39m_url, total_size_str),\n\u001b[1;32m    198\u001b[0m       flush\u001b[38;5;241m=\u001b[39m\u001b[38;5;28;01mTrue\u001b[39;00m)\n\u001b[1;32m    199\u001b[0m \u001b[38;5;28;01mexcept\u001b[39;00m tarfile\u001b[38;5;241m.\u001b[39mReadError:\n\u001b[0;32m--> 200\u001b[0m   \u001b[38;5;28;01mraise\u001b[39;00m \u001b[38;5;167;01mIOError\u001b[39;00m(\u001b[38;5;124m\"\u001b[39m\u001b[38;5;132;01m%s\u001b[39;00m\u001b[38;5;124m does not appear to be a valid module.\u001b[39m\u001b[38;5;124m\"\u001b[39m \u001b[38;5;241m%\u001b[39m \u001b[38;5;28mself\u001b[39m\u001b[38;5;241m.\u001b[39m_url)\n",
      "\u001b[0;31mOSError\u001b[0m: https://tfhub.dev/google/bert-en-uncased-l-12-h-128-a-2/2 does not appear to be a valid module."
     ]
    }
   ],
   "source": [
    "# Pour BERT et USE (TensorFlow Hub est nécessaire)  \n",
    "import tensorflow_hub as hub  \n",
    "  \n",
    "# BERT embeddings  \n",
    "bert_model = hub.load(\"https://tfhub.dev/google/bert-en-uncased-l-12-h-128-a-2/2\")  \n",
    "def get_bert_embeddings(sentences):  \n",
    "    # Votre fonction pour obtenir des embeddings à partir du BERT model  \n",
    "    # ...  \n",
    "    return bert_embeddings  \n",
    "  \n",
    "bert_embeddings = get_bert_embeddings(df['cleaned_description'])  \n",
    "  \n",
    "# # Universal Sentence Encoder embeddings  \n",
    "# use_model = hub.load(\"https://tfhub.dev/google/universal-sentence-encoder/4\")  \n",
    "# use_embeddings = use_model(df['cleaned_description'])  "
   ]
  },
  {
   "cell_type": "code",
   "execution_count": 39,
   "metadata": {},
   "outputs": [],
   "source": [
    "from sklearn.manifold import TSNE  \n",
    "  \n",
    "# Prenons les features Tf-idf pour cet exemple  \n",
    "# Note: Prévoir un temps de calcul suffisant pour les grands jeux de données  \n",
    "tsne = TSNE(n_components=2, random_state=42)  \n",
    "reduced_features = tsne.fit_transform(tfidf_matrix.toarray())  \n",
    "  \n",
    "# Associer les réductions de dimension avec la catégorie réelle  \n",
    "reduced_df = pd.DataFrame(reduced_features, columns=['x', 'y'])  \n",
    "reduced_df['cat'] = df['cat']  "
   ]
  },
  {
   "cell_type": "code",
   "execution_count": 41,
   "metadata": {},
   "outputs": [
    {
     "data": {
      "image/png": "[encoded data removed]",
      "text/plain": [
       "<Figure size 1000x800 with 1 Axes>"
      ]
     },
     "metadata": {},
     "output_type": "display_data"
    }
   ],
   "source": [
    "# Plot  \n",
    "plt.figure(figsize=(10, 8))  \n",
    "sns.scatterplot(x='x', y='y', hue='cat', data=reduced_df, palette='viridis')  \n",
    "  \n",
    "# Ajouter des légendes et des titres si nécessaire  \n",
    "plt.title('2D Visualisation of Product Descriptions')  \n",
    "plt.legend()  \n",
    "plt.show()  "
   ]
  },
  {
   "cell_type": "code",
   "execution_count": null,
   "metadata": {},
   "outputs": [],
   "source": []
  },
  {
   "cell_type": "code",
   "execution_count": 43,
   "metadata": {},
   "outputs": [
    {
     "name": "stdout",
     "output_type": "stream",
     "text": [
      "Le score de silhouette est de : 0.5047770142555237\n"
     ]
    },
    {
     "name": "stderr",
     "output_type": "stream",
     "text": [
      "/Users/m/.pyenv/versions/3.10.12/lib/python3.10/site-packages/sklearn/cluster/_kmeans.py:1412: FutureWarning:\n",
      "\n",
      "The default value of `n_init` will change from 10 to 'auto' in 1.4. Set the value of `n_init` explicitly to suppress the warning\n",
      "\n"
     ]
    }
   ],
   "source": [
    "from sklearn.cluster import KMeans  \n",
    "from sklearn.metrics import silhouette_score  \n",
    "  \n",
    "# Nombre de clusters à définir, pourrait être égal au nombre de catégories uniques  \n",
    "num_clusters = df['cat'].nunique()  \n",
    "kmeans = KMeans(n_clusters=num_clusters, random_state=42).fit(reduced_features)  \n",
    "  \n",
    "# score de silhouette  \n",
    "silhouette = silhouette_score(reduced_features, kmeans.labels_)  \n",
    "  \n",
    "print(f\"Le score de silhouette est de : {silhouette}\")  "
   ]
  }
 ],
 "metadata": {
  "kernelspec": {
   "display_name": "Python 3",
   "language": "python",
   "name": "python3"
  },
  "language_info": {
   "codemirror_mode": {
    "name": "ipython",
    "version": 3
   },
   "file_extension": ".py",
   "mimetype": "text/x-python",
   "name": "python",
   "nbconvert_exporter": "python",
   "pygments_lexer": "ipython3",
   "version": "3.10.12"
  }
 },
 "nbformat": 4,
 "nbformat_minor": 2
}
