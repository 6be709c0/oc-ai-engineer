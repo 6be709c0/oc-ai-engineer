{
 "cells": [
  {
   "cell_type": "code",
   "execution_count": null,
   "id": "daca334f-049c-426e-8e7c-59ebff8ef104",
   "metadata": {},
   "outputs": [],
   "source": [
    "https://colab.research.google.com/github/OpenClassrooms-Student-Center/4525281-realisez-une-analyse-exploratoire-de-donnees/blob/main/notebooks/P2C6_TP_cours_effectuees.ipynb#scrollTo=djz1GD-l8hif"
   ]
  },
  {
   "cell_type": "code",
   "execution_count": null,
   "id": "261d1a84-1d73-45b7-b1b9-a3cb1a819d8f",
   "metadata": {},
   "outputs": [],
   "source": [
    "https://colab.research.google.com/github/OpenClassrooms-Student-Center/4525281-realisez-une-analyse-exploratoire-de-donnees/blob/main/notebooks/P3C2_iris_k_means.ipynb"
   ]
  },
  {
   "cell_type": "code",
   "execution_count": null,
   "id": "565ad647-f507-407e-8ef5-54cf1ec70221",
   "metadata": {},
   "outputs": [],
   "source": [
    "https://colab.research.google.com/github/OpenClassrooms-Student-Center/4525281-realisez-une-analyse-exploratoire-de-donnees/blob/main/notebooks/P3C4_interpretez_vos_clusters.ipynb"
   ]
  }
 ],
 "metadata": {
  "kernelspec": {
   "display_name": "Python 3 (ipykernel)",
   "language": "python",
   "name": "python3"
  },
  "language_info": {
   "codemirror_mode": {
    "name": "ipython",
    "version": 3
   },
   "file_extension": ".py",
   "mimetype": "text/x-python",
   "name": "python",
   "nbconvert_exporter": "python",
   "pygments_lexer": "ipython3",
   "version": "3.10.12"
  }
 },
 "nbformat": 4,
 "nbformat_minor": 5
}
