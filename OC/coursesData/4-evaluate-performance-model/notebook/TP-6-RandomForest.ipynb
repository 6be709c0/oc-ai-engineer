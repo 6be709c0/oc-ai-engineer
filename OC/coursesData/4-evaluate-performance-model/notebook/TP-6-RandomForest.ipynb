{
 "cells": [
  {
   "cell_type": "code",
   "execution_count": 31,
   "id": "1aa6eb08-4cde-4342-8c6e-0efb846e4759",
   "metadata": {},
   "outputs": [],
   "source": [
    "import pandas as pd\n",
    "import timeit\n",
    "from sklearn.metrics import accuracy_score"
   ]
  },
  {
   "cell_type": "code",
   "execution_count": 7,
   "id": "0322189a-e339-47a2-8fba-eb45b4d38a72",
   "metadata": {},
   "outputs": [
    {
     "data": {
      "text/plain": [
       "(7352, 563)"
      ]
     },
     "execution_count": 7,
     "metadata": {},
     "output_type": "execute_result"
    }
   ],
   "source": [
    "train = pd.read_csv(\"../data/TP-6-train.csv\")\n",
    "test = pd.read_csv(\"../data/TP-6-test.csv\")\n",
    "\n",
    "train.shape\n"
   ]
  },
  {
   "cell_type": "code",
   "execution_count": 21,
   "id": "010ffe63-8f87-42bb-9ebe-1fc7bd374f6b",
   "metadata": {},
   "outputs": [],
   "source": [
    "from sklearn.ensemble import RandomForestClassifier\n",
    "rfc = RandomForestClassifier(n_estimators=1000)\n",
    "\n",
    "train_x = train.iloc[:,:-2]\n",
    "train_y = train[\"Activity\"]\n",
    "\n",
    "test_x = test.iloc[:,:-2]\n",
    "test_y = test[\"Activity\"]"
   ]
  },
  {
   "cell_type": "code",
   "execution_count": 30,
   "id": "ceedb067-990a-4178-bf4a-abeda6779d59",
   "metadata": {},
   "outputs": [
    {
     "name": "stdout",
     "output_type": "stream",
     "text": [
      "77.16055158298695\n"
     ]
    }
   ],
   "source": [
    "start_time = timeit.default_timer()\n",
    "rfc = rfc.fit(train_x, train_y)\n",
    "time = timeit.default_timer() - start_time\n",
    "print(time)"
   ]
  },
  {
   "cell_type": "code",
   "execution_count": 32,
   "id": "a0a5ad5e-d116-48ec-85b8-76ca4cdf1eb2",
   "metadata": {},
   "outputs": [
    {
     "name": "stdout",
     "output_type": "stream",
     "text": [
      "0.9270444519850696 0.20426499997847714\n"
     ]
    }
   ],
   "source": [
    "start_time = timeit.default_timer()\n",
    "pred = rfc.predict(test_x)\n",
    "time = timeit.default_timer() - start_time\n",
    "out_accuracy = accuracy_score(test_y, pred)\n",
    "print(out_accuracy, time)"
   ]
  },
  {
   "cell_type": "code",
   "execution_count": 34,
   "id": "667ba63f-d019-4a8e-9f98-7ea94bfb4152",
   "metadata": {},
   "outputs": [
    {
     "name": "stderr",
     "output_type": "stream",
     "text": [
      "/Users/m/.pyenv/versions/3.10.12/lib/python3.10/site-packages/sklearn/base.py:457: UserWarning: X has feature names, but SelectFromModel was fitted without feature names\n",
      "  warnings.warn(\n"
     ]
    },
    {
     "data": {
      "text/plain": [
       "(7352, 55)"
      ]
     },
     "execution_count": 34,
     "metadata": {},
     "output_type": "execute_result"
    }
   ],
   "source": [
    "from sklearn.feature_selection import SelectFromModel\n",
    "model = SelectFromModel(rfc,prefit=True,threshold=0.005)\n",
    "train_x2 = model.transform(train_x)\n",
    "train_x2.shape"
   ]
  },
  {
   "cell_type": "code",
   "execution_count": 35,
   "id": "81ecda58-bc60-4ab4-8750-cf280123ed29",
   "metadata": {},
   "outputs": [
    {
     "name": "stdout",
     "output_type": "stream",
     "text": [
      "19.86753312498331\n"
     ]
    }
   ],
   "source": [
    "start_time = timeit.default_timer()\n",
    "rfc2 = RandomForestClassifier(n_estimators=1000)\n",
    "rfc2 = rfc2.fit(train_x2, train_y)\n",
    "time = timeit.default_timer() - start_time\n",
    "print(time)"
   ]
  },
  {
   "cell_type": "code",
   "execution_count": 38,
   "id": "5a208dba-a64e-41d5-a38d-72eebd178802",
   "metadata": {},
   "outputs": [
    {
     "name": "stderr",
     "output_type": "stream",
     "text": [
      "/Users/m/.pyenv/versions/3.10.12/lib/python3.10/site-packages/sklearn/base.py:457: UserWarning: X has feature names, but SelectFromModel was fitted without feature names\n",
      "  warnings.warn(\n"
     ]
    },
    {
     "name": "stdout",
     "output_type": "stream",
     "text": [
      "0.8747879199185612 0.14064558301470242\n"
     ]
    }
   ],
   "source": [
    "test_x2 = model.transform(test_x)\n",
    "start_time = timeit.default_timer()\n",
    "pred = rfc2.predict(test_x2)\n",
    "time = timeit.default_timer() - start_time\n",
    "out_accuracy = accuracy_score(test_y, pred)\n",
    "print(out_accuracy, time)"
   ]
  },
  {
   "cell_type": "code",
   "execution_count": null,
   "id": "8e367bfa-bb22-45af-9a03-d8609de44f57",
   "metadata": {},
   "outputs": [],
   "source": []
  }
 ],
 "metadata": {
  "kernelspec": {
   "display_name": "Python 3 (ipykernel)",
   "language": "python",
   "name": "python3"
  },
  "language_info": {
   "codemirror_mode": {
    "name": "ipython",
    "version": 3
   },
   "file_extension": ".py",
   "mimetype": "text/x-python",
   "name": "python",
   "nbconvert_exporter": "python",
   "pygments_lexer": "ipython3",
   "version": "3.10.12"
  }
 },
 "nbformat": 4,
 "nbformat_minor": 5
}
