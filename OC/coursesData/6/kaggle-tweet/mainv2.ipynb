{
 "cells": [
  {
   "cell_type": "code",
   "execution_count": 52,
   "metadata": {},
   "outputs": [],
   "source": [
    "import os, sys, time\n",
    "import numpy as np\n",
    "import pandas as pd\n",
    "\n",
    "import matplotlib.pyplot as plt\n",
    "import seaborn as sns\n",
    "\n",
    "import nltk\n",
    "from nltk.stem import WordNetLemmatizer, PorterStemmer\n",
    "from nltk.tokenize import word_tokenize, wordpunct_tokenize\n",
    "\n",
    "from nltk.corpus import words, stopwords\n",
    "from nltk.tokenize import RegexpTokenizer\n",
    "\n",
    "from wordcloud import WordCloud\n",
    "from PIL import Image\n",
    "\n",
    "from pandarallel import pandarallel"
   ]
  },
  {
   "cell_type": "code",
   "execution_count": 53,
   "metadata": {},
   "outputs": [
    {
     "name": "stderr",
     "output_type": "stream",
     "text": [
      "[nltk_data] Downloading package omw-1.4 to /Users/m/nltk_data...\n",
      "[nltk_data]   Package omw-1.4 is already up-to-date!\n",
      "[nltk_data] Downloading package wordnet to /Users/m/nltk_data...\n",
      "[nltk_data]   Package wordnet is already up-to-date!\n",
      "[nltk_data] Downloading package stopwords to /Users/m/nltk_data...\n",
      "[nltk_data]   Package stopwords is already up-to-date!\n",
      "[nltk_data] Downloading package words to /Users/m/nltk_data...\n",
      "[nltk_data]   Package words is already up-to-date!\n"
     ]
    },
    {
     "data": {
      "text/plain": [
       "True"
      ]
     },
     "execution_count": 53,
     "metadata": {},
     "output_type": "execute_result"
    }
   ],
   "source": [
    "nltk.download(\"omw-1.4\")\n",
    "nltk.download(\"wordnet\")\n",
    "nltk.download(\"stopwords\")\n",
    "nltk.download(\"words\")"
   ]
  },
  {
   "cell_type": "code",
   "execution_count": 54,
   "metadata": {},
   "outputs": [
    {
     "name": "stdout",
     "output_type": "stream",
     "text": [
      "INFO: Pandarallel will run on 6 workers.\n",
      "INFO: Pandarallel will use standard multiprocessing data transfer (pipe) to transfer data between the main process and workers.\n"
     ]
    }
   ],
   "source": [
    "pandarallel.initialize(progress_bar=True, nb_workers=6)"
   ]
  },
  {
   "cell_type": "code",
   "execution_count": 55,
   "metadata": {},
   "outputs": [],
   "source": [
    "sns.set()"
   ]
  },
  {
   "cell_type": "markdown",
   "metadata": {},
   "source": [
    "## Load data"
   ]
  },
  {
   "cell_type": "code",
   "execution_count": 56,
   "metadata": {},
   "outputs": [],
   "source": [
    "df = pd.read_csv(\"./data/df_cleaned.csv\")"
   ]
  },
  {
   "cell_type": "code",
   "execution_count": 57,
   "metadata": {},
   "outputs": [
    {
     "data": {
      "text/html": [
       "<div>\n",
       "<style scoped>\n",
       "    .dataframe tbody tr th:only-of-type {\n",
       "        vertical-align: middle;\n",
       "    }\n",
       "\n",
       "    .dataframe tbody tr th {\n",
       "        vertical-align: top;\n",
       "    }\n",
       "\n",
       "    .dataframe thead th {\n",
       "        text-align: right;\n",
       "    }\n",
       "</style>\n",
       "<table border=\"1\" class=\"dataframe\">\n",
       "  <thead>\n",
       "    <tr style=\"text-align: right;\">\n",
       "      <th></th>\n",
       "      <th>text</th>\n",
       "      <th>target</th>\n",
       "    </tr>\n",
       "  </thead>\n",
       "  <tbody>\n",
       "    <tr>\n",
       "      <th>0</th>\n",
       "      <td>Our Deeds are the Reason of this #earthquake M...</td>\n",
       "      <td>1</td>\n",
       "    </tr>\n",
       "    <tr>\n",
       "      <th>1</th>\n",
       "      <td>Forest fire near La Ronge Sask. Canada</td>\n",
       "      <td>1</td>\n",
       "    </tr>\n",
       "    <tr>\n",
       "      <th>2</th>\n",
       "      <td>All residents asked to 'shelter in place' are ...</td>\n",
       "      <td>1</td>\n",
       "    </tr>\n",
       "    <tr>\n",
       "      <th>3</th>\n",
       "      <td>13,000 people receive #wildfires evacuation or...</td>\n",
       "      <td>1</td>\n",
       "    </tr>\n",
       "    <tr>\n",
       "      <th>4</th>\n",
       "      <td>Just got sent this photo from Ruby #Alaska as ...</td>\n",
       "      <td>1</td>\n",
       "    </tr>\n",
       "  </tbody>\n",
       "</table>\n",
       "</div>"
      ],
      "text/plain": [
       "                                                text  target\n",
       "0  Our Deeds are the Reason of this #earthquake M...       1\n",
       "1             Forest fire near La Ronge Sask. Canada       1\n",
       "2  All residents asked to 'shelter in place' are ...       1\n",
       "3  13,000 people receive #wildfires evacuation or...       1\n",
       "4  Just got sent this photo from Ruby #Alaska as ...       1"
      ]
     },
     "execution_count": 57,
     "metadata": {},
     "output_type": "execute_result"
    }
   ],
   "source": [
    "df.head()"
   ]
  },
  {
   "cell_type": "code",
   "execution_count": 58,
   "metadata": {},
   "outputs": [
    {
     "data": {
      "text/plain": [
       "(7503, 2)"
      ]
     },
     "execution_count": 58,
     "metadata": {},
     "output_type": "execute_result"
    }
   ],
   "source": [
    "df.shape"
   ]
  },
  {
   "cell_type": "code",
   "execution_count": 59,
   "metadata": {},
   "outputs": [
    {
     "data": {
      "text/plain": [
       "\"@stunckle @Gordon_R74 @crazydoctorlady ...I'm no expert but raw uranium and nuclear reactor fuel rods are 2 very different creatures...\""
      ]
     },
     "execution_count": 59,
     "metadata": {},
     "output_type": "execute_result"
    }
   ],
   "source": [
    "doc = df.text.sample(1)\n",
    "doc = doc.values[0]\n",
    "doc"
   ]
  },
  {
   "cell_type": "code",
   "execution_count": 60,
   "metadata": {},
   "outputs": [
    {
     "data": {
      "text/plain": [
       "\"@stunckle @gordon_r74 @crazydoctorlady ...i'm no expert but raw uranium and nuclear reactor fuel rods are 2 very different creatures...\""
      ]
     },
     "execution_count": 60,
     "metadata": {},
     "output_type": "execute_result"
    }
   ],
   "source": [
    "doc = doc.lower()\n",
    "doc"
   ]
  },
  {
   "cell_type": "code",
   "execution_count": 61,
   "metadata": {},
   "outputs": [
    {
     "data": {
      "text/plain": [
       "['@',\n",
       " 'stunckle',\n",
       " '@',\n",
       " 'gordon_r74',\n",
       " '@',\n",
       " 'crazydoctorlady',\n",
       " '...',\n",
       " 'i',\n",
       " \"'m\",\n",
       " 'no',\n",
       " 'expert',\n",
       " 'but',\n",
       " 'raw',\n",
       " 'uranium',\n",
       " 'and',\n",
       " 'nuclear',\n",
       " 'reactor',\n",
       " 'fuel',\n",
       " 'rods',\n",
       " 'are',\n",
       " '2',\n",
       " 'very',\n",
       " 'different',\n",
       " 'creatures',\n",
       " '...']"
      ]
     },
     "execution_count": 61,
     "metadata": {},
     "output_type": "execute_result"
    }
   ],
   "source": [
    "tokens = word_tokenize(doc)\n",
    "tokens"
   ]
  },
  {
   "cell_type": "code",
   "execution_count": 62,
   "metadata": {},
   "outputs": [
    {
     "data": {
      "text/plain": [
       "25"
      ]
     },
     "execution_count": 62,
     "metadata": {},
     "output_type": "execute_result"
    }
   ],
   "source": [
    "len(tokens)"
   ]
  },
  {
   "cell_type": "code",
   "execution_count": 63,
   "metadata": {},
   "outputs": [
    {
     "data": {
      "text/plain": [
       "22"
      ]
     },
     "execution_count": 63,
     "metadata": {},
     "output_type": "execute_result"
    }
   ],
   "source": [
    "len(set(tokens))"
   ]
  },
  {
   "cell_type": "code",
   "execution_count": 64,
   "metadata": {},
   "outputs": [],
   "source": [
    "def display_token_info(tokens):\n",
    "    print(f\"nb tokens {len(tokens)}, nb token uniques {len(set(tokens))}\")\n",
    "    print(tokens[:30])"
   ]
  },
  {
   "cell_type": "code",
   "execution_count": 65,
   "metadata": {},
   "outputs": [
    {
     "name": "stdout",
     "output_type": "stream",
     "text": [
      "nb tokens 26, nb token uniques 23\n",
      "['@', 'stunckle', '@', 'gordon_r74', '@', 'crazydoctorlady', '...', 'i', \"'\", 'm', 'no', 'expert', 'but', 'raw', 'uranium', 'and', 'nuclear', 'reactor', 'fuel', 'rods', 'are', '2', 'very', 'different', 'creatures', '...']\n"
     ]
    }
   ],
   "source": [
    "tokens = wordpunct_tokenize(doc)\n",
    "display_token_info(tokens)"
   ]
  },
  {
   "cell_type": "code",
   "execution_count": 66,
   "metadata": {},
   "outputs": [
    {
     "name": "stdout",
     "output_type": "stream",
     "text": [
      "{'those', 'himself', 'it', 'the', 'weren', 'did', 'each', 'some', \"you're\", \"weren't\", \"hadn't\", 'own', \"aren't\", 'aren', 'doing', 'ourselves', \"isn't\", \"mightn't\", 'just', \"shan't\", 'herself', 'off', 'over', 'which', 'about', 'out', 'how', 'when', 'shan', 'too', 'hadn', 'in', 'i', 'no', 's', 'had', 'ain', 'other', 'themselves', \"you'll\", 'into', 'ours', 'until', 'but', 'here', 'a', 'whom', \"that'll\", 'as', 'any', 'most', 'needn', \"mustn't\", 'because', 'being', 'wasn', 'these', 'few', 'more', 'isn', 'she', 'haven', \"wouldn't\", 'doesn', \"don't\", 'by', 'why', 'what', 'through', 'this', 'while', 'who', 'y', 'he', 'from', 'is', 'where', 'will', 'does', 'than', 'for', 'under', 'hasn', 'between', 'don', \"couldn't\", 'm', 'hers', 'are', \"wasn't\", 'then', 'we', 'couldn', 'they', 'your', 'if', 'not', 'am', 'now', 'them', 'was', 'up', 'down', 'once', 'its', \"you've\", 'can', 'of', 'against', 'yours', 'all', 'wouldn', 'ma', 'my', 'him', 'shouldn', \"you'd\", 'both', 'o', 'do', 'there', 'didn', \"doesn't\", 'his', 'were', \"shouldn't\", \"she's\", 'll', 'myself', 're', \"won't\", 'so', 'such', 'their', 't', 'been', 'during', 'mightn', 'further', 'only', 'you', 'itself', \"it's\", 'after', 'her', \"needn't\", 'yourselves', 'having', 'has', 'me', 'that', 'an', 'at', 'to', 'd', 'or', 'with', \"haven't\", 'and', 'yourself', 'below', 'should', 'be', 'our', \"didn't\", 'have', 'again', 'above', 'nor', 'before', 'same', \"hasn't\", 'mustn', \"should've\", 've', 'theirs', 'on', 'won', 'very'}\n"
     ]
    }
   ],
   "source": [
    "# Stop words\n",
    "\n",
    "stop_words = set(stopwords.words(\"english\"))\n",
    "print(stop_words)"
   ]
  },
  {
   "cell_type": "code",
   "execution_count": 67,
   "metadata": {},
   "outputs": [
    {
     "name": "stdout",
     "output_type": "stream",
     "text": [
      "nb tokens 19, nb token uniques 16\n",
      "['@', 'stunckle', '@', 'gordon_r74', '@', 'crazydoctorlady', '...', \"'\", 'expert', 'raw', 'uranium', 'nuclear', 'reactor', 'fuel', 'rods', '2', 'different', 'creatures', '...']\n"
     ]
    }
   ],
   "source": [
    "tokens = [w for w in tokens if w not in stop_words]\n",
    "display_token_info(tokens)"
   ]
  },
  {
   "cell_type": "code",
   "execution_count": 68,
   "metadata": {},
   "outputs": [
    {
     "name": "stdout",
     "output_type": "stream",
     "text": [
      "nb tokens 20, nb token uniques 20\n",
      "['stunckle', 'gordon_r74', 'crazydoctorlady', 'i', 'm', 'no', 'expert', 'but', 'raw', 'uranium', 'and', 'nuclear', 'reactor', 'fuel', 'rods', 'are', '2', 'very', 'different', 'creatures']\n"
     ]
    }
   ],
   "source": [
    "tokenizer = RegexpTokenizer(r\"\\w+\")\n",
    "tokens = tokenizer.tokenize(doc)\n",
    "display_token_info(tokens)"
   ]
  },
  {
   "cell_type": "code",
   "execution_count": 69,
   "metadata": {},
   "outputs": [
    {
     "name": "stdout",
     "output_type": "stream",
     "text": [
      "nb tokens 13, nb token uniques 13\n",
      "['stunckle', 'gordon_r74', 'crazydoctorlady', 'expert', 'raw', 'uranium', 'nuclear', 'reactor', 'fuel', 'rods', '2', 'different', 'creatures']\n"
     ]
    }
   ],
   "source": [
    "tokens = [w for w in tokens if w not in stop_words]\n",
    "display_token_info(tokens)"
   ]
  },
  {
   "cell_type": "code",
   "execution_count": 70,
   "metadata": {},
   "outputs": [],
   "source": [
    "def process_text_1(doc, rejoin=False):\n",
    "    doc = doc.lower().strip()\n",
    "    \n",
    "    tokenizer = RegexpTokenizer(r\"\\w+\")\n",
    "    raw_tokens_list = tokenizer.tokenize(doc)\n",
    "    \n",
    "    clean_tokens_list = [w for w in raw_tokens_list if w not in stop_words]\n",
    "    \n",
    "    if rejoin:\n",
    "        return \" \".join(clean_tokens_list)\n",
    "    \n",
    "    return clean_tokens_list\n",
    "\n",
    "    "
   ]
  },
  {
   "cell_type": "code",
   "execution_count": 71,
   "metadata": {},
   "outputs": [
    {
     "name": "stdout",
     "output_type": "stream",
     "text": [
      "nb tokens 13, nb token uniques 13\n",
      "['stunckle', 'gordon_r74', 'crazydoctorlady', 'expert', 'raw', 'uranium', 'nuclear', 'reactor', 'fuel', 'rods', '2', 'different', 'creatures']\n"
     ]
    }
   ],
   "source": [
    "tokens = process_text_1(doc)\n",
    "display_token_info(tokens)"
   ]
  },
  {
   "cell_type": "markdown",
   "metadata": {},
   "source": [
    "# Working on the entire corpus"
   ]
  },
  {
   "cell_type": "markdown",
   "metadata": {},
   "source": [
    "## Build raw corpus"
   ]
  },
  {
   "cell_type": "code",
   "execution_count": 72,
   "metadata": {},
   "outputs": [
    {
     "data": {
      "text/plain": [
       "\"Our Deeds are the Reason of this #earthquake May ALLAH Forgive us allForest fire near La Ronge Sask. CanadaAll residents asked to 'shelter in place' are being notified by officers. No other evacuation or shelter in place orders are expected13,000 people receive #wildfires evacuation orders in California Just got sent this photo from Ruby #Alaska as smoke from #wildfires pours into a school #RockyFire Update => California Hwy. 20 closed in both directions due to Lake County fire - #CAfire #wildfires#flood #disaster Heavy rain causes flash flooding of streets in Manitou, Colorado Springs areasI'm on top of the hill and I can see a fire in the woods...There's an emergency evacuation happening now in the building across the streetI'm afraid that the tornado is coming to our area...Three people died from the heat wave so farHaha South Tampa is getting flooded hah- WAIT A SECOND I LIVE IN SOUTH TAMPA WHAT AM I GONNA DO WHAT AM I GONNA DO FVCK #flooding#raining #flooding #Florida #TampaBay #T\""
      ]
     },
     "execution_count": 72,
     "metadata": {},
     "output_type": "execute_result"
    }
   ],
   "source": [
    "raw_corpus = \"\".join(df.text.values)\n",
    "raw_corpus[:1_000]"
   ]
  },
  {
   "cell_type": "code",
   "execution_count": 73,
   "metadata": {},
   "outputs": [
    {
     "data": {
      "text/plain": [
       "756907"
      ]
     },
     "execution_count": 73,
     "metadata": {},
     "output_type": "execute_result"
    }
   ],
   "source": [
    "len(raw_corpus)"
   ]
  },
  {
   "cell_type": "code",
   "execution_count": 74,
   "metadata": {},
   "outputs": [
    {
     "name": "stdout",
     "output_type": "stream",
     "text": [
      "nb tokens 82574, nb token uniques 22438\n",
      "['deeds', 'reason', 'earthquake', 'may', 'allah', 'forgive', 'us', 'allforest', 'fire', 'near', 'la', 'ronge', 'sask', 'canadaall', 'residents', 'asked', 'shelter', 'place', 'notified', 'officers', 'evacuation', 'shelter', 'place', 'orders', 'expected13', '000', 'people', 'receive', 'wildfires', 'evacuation']\n"
     ]
    }
   ],
   "source": [
    "corpus = process_text_1(raw_corpus)\n",
    "display_token_info(corpus)"
   ]
  },
  {
   "cell_type": "code",
   "execution_count": 75,
   "metadata": {},
   "outputs": [
    {
     "data": {
      "text/plain": [
       "co                  4703\n",
       "http                4231\n",
       "https                405\n",
       "amp                  342\n",
       "like                 341\n",
       "                    ... \n",
       "destructiontruck       1\n",
       "salvages               1\n",
       "7b2wf6ovfk             1\n",
       "newsrepublican         1\n",
       "ymy4rskq3d             1\n",
       "Length: 22438, dtype: int64"
      ]
     },
     "execution_count": 75,
     "metadata": {},
     "output_type": "execute_result"
    }
   ],
   "source": [
    "tmp = pd.Series(corpus).value_counts()\n",
    "tmp"
   ]
  },
  {
   "cell_type": "code",
   "execution_count": 76,
   "metadata": {},
   "outputs": [],
   "source": [
    "# sns.barplot(x=tmp.index, y=tmp.values)"
   ]
  },
  {
   "cell_type": "code",
   "execution_count": 77,
   "metadata": {},
   "outputs": [
    {
     "data": {
      "text/plain": [
       "co            4703\n",
       "http          4231\n",
       "https          405\n",
       "amp            342\n",
       "like           341\n",
       "û_             289\n",
       "fire           230\n",
       "get            226\n",
       "via            216\n",
       "2              204\n",
       "people         189\n",
       "new            183\n",
       "one            181\n",
       "news           166\n",
       "emergency      145\n",
       "disaster       143\n",
       "video          136\n",
       "would          133\n",
       "body           127\n",
       "police         122\n",
       "still          120\n",
       "3              119\n",
       "u              117\n",
       "crash          117\n",
       "us             115\n",
       "storm          114\n",
       "back           113\n",
       "day            112\n",
       "know           112\n",
       "california     110\n",
       "dtype: int64"
      ]
     },
     "execution_count": 77,
     "metadata": {},
     "output_type": "execute_result"
    }
   ],
   "source": [
    "tmp.head(30)"
   ]
  },
  {
   "cell_type": "code",
   "execution_count": 78,
   "metadata": {},
   "outputs": [
    {
     "data": {
      "text/plain": [
       "tydxauuenqhow          1\n",
       "developer              1\n",
       "hld5xlywbncrackdown    1\n",
       "lmwkjsycgj             1\n",
       "danhrothschild         1\n",
       "greed                  1\n",
       "takecare               1\n",
       "cinla1964              1\n",
       "windowgatribble        1\n",
       "contrasts              1\n",
       "foreboding             1\n",
       "expansive              1\n",
       "divisions              1\n",
       "saturation             1\n",
       "hue                    1\n",
       "qbmcsjavt0fall         1\n",
       "homebuyer              1\n",
       "miscalculation         1\n",
       "mwjcdkthere            1\n",
       "workspace              1\n",
       "forsee                 1\n",
       "badkitty               1\n",
       "lt3dave                1\n",
       "specs                  1\n",
       "lore                   1\n",
       "destructiontruck       1\n",
       "salvages               1\n",
       "7b2wf6ovfk             1\n",
       "newsrepublican         1\n",
       "ymy4rskq3d             1\n",
       "dtype: int64"
      ]
     },
     "execution_count": 78,
     "metadata": {},
     "output_type": "execute_result"
    }
   ],
   "source": [
    "tmp.tail(30)"
   ]
  },
  {
   "cell_type": "code",
   "execution_count": 79,
   "metadata": {},
   "outputs": [
    {
     "data": {
      "text/plain": [
       "count    22438.000000\n",
       "mean         3.680096\n",
       "std         43.379216\n",
       "min          1.000000\n",
       "25%          1.000000\n",
       "50%          1.000000\n",
       "75%          2.000000\n",
       "max       4703.000000\n",
       "dtype: float64"
      ]
     },
     "execution_count": 79,
     "metadata": {},
     "output_type": "execute_result"
    }
   ],
   "source": [
    "tmp.describe()"
   ]
  },
  {
   "cell_type": "markdown",
   "metadata": {},
   "source": [
    "# 3.2 List rare tokens"
   ]
  },
  {
   "cell_type": "code",
   "execution_count": 80,
   "metadata": {},
   "outputs": [
    {
     "data": {
      "text/plain": [
       "dub                   1\n",
       "mxhrextrkh            1\n",
       "ctijdpxabkdogs        1\n",
       "splatling             1\n",
       "foothill              1\n",
       "designsso             1\n",
       "thatrussianman        1\n",
       "waterboarding         1\n",
       "writingtips           1\n",
       "salmanmydarling       1\n",
       "ps3                   1\n",
       "xboxhttps             1\n",
       "qr1l2jyuez            1\n",
       "nester                1\n",
       "switching             1\n",
       "dipping               1\n",
       "pantherattackthere    1\n",
       "dieanpink95           1\n",
       "limitsabe             1\n",
       "yu_nita99             1\n",
       "sivan                 1\n",
       "pantherattacki        1\n",
       "camilla_33            1\n",
       "uooygbb6az            1\n",
       "akq4rwjfvlcheck       1\n",
       "skippy6gaming         1\n",
       "slttorrlhswho         1\n",
       "craykain              1\n",
       "lavalet               1\n",
       "basalt                1\n",
       "dtype: int64"
      ]
     },
     "execution_count": 80,
     "metadata": {},
     "output_type": "execute_result"
    }
   ],
   "source": [
    "tmp = pd.Series(corpus).value_counts()\n",
    "list_unique_words = tmp[tmp==1]\n",
    "list_unique_words[:30]"
   ]
  },
  {
   "cell_type": "code",
   "execution_count": 81,
   "metadata": {},
   "outputs": [
    {
     "data": {
      "text/plain": [
       "16230"
      ]
     },
     "execution_count": 81,
     "metadata": {},
     "output_type": "execute_result"
    }
   ],
   "source": [
    "len(list_unique_words)"
   ]
  },
  {
   "cell_type": "code",
   "execution_count": 82,
   "metadata": {},
   "outputs": [
    {
     "data": {
      "text/plain": [
       "['dub',\n",
       " 'mxhrextrkh',\n",
       " 'ctijdpxabkdogs',\n",
       " 'splatling',\n",
       " 'foothill',\n",
       " 'designsso',\n",
       " 'thatrussianman',\n",
       " 'waterboarding',\n",
       " 'writingtips',\n",
       " 'salmanmydarling',\n",
       " 'ps3',\n",
       " 'xboxhttps',\n",
       " 'qr1l2jyuez',\n",
       " 'nester',\n",
       " 'switching',\n",
       " 'dipping',\n",
       " 'pantherattackthere',\n",
       " 'dieanpink95',\n",
       " 'limitsabe',\n",
       " 'yu_nita99',\n",
       " 'sivan',\n",
       " 'pantherattacki',\n",
       " 'camilla_33',\n",
       " 'uooygbb6az',\n",
       " 'akq4rwjfvlcheck',\n",
       " 'skippy6gaming',\n",
       " 'slttorrlhswho',\n",
       " 'craykain',\n",
       " 'lavalet',\n",
       " 'basalt']"
      ]
     },
     "execution_count": 82,
     "metadata": {},
     "output_type": "execute_result"
    }
   ],
   "source": [
    "list_unique_words = list(list_unique_words.index)\n",
    "list_unique_words[:30]"
   ]
  },
  {
   "cell_type": "code",
   "execution_count": 83,
   "metadata": {},
   "outputs": [],
   "source": [
    "tmp = pd.DataFrame({\"words\": list_unique_words})\n",
    "tmp.to_csv(\"./data/unique_words.csv\", index=False)"
   ]
  },
  {
   "cell_type": "code",
   "execution_count": 84,
   "metadata": {},
   "outputs": [
    {
     "data": {
      "text/plain": [
       "motorcycle     5\n",
       "blind          5\n",
       "ices           5\n",
       "remain         5\n",
       "md             5\n",
       "mental         5\n",
       "loves          5\n",
       "depth          5\n",
       "extra          5\n",
       "leaves         5\n",
       "subs           5\n",
       "judge          5\n",
       "earners        5\n",
       "operations     5\n",
       "reduced        5\n",
       "catch          5\n",
       "stephen        5\n",
       "quest          5\n",
       "reviews        5\n",
       "responsible    5\n",
       "motor          5\n",
       "flying         5\n",
       "smithsonian    5\n",
       "52             5\n",
       "34             5\n",
       "losses         5\n",
       "desires        5\n",
       "pulls          5\n",
       "mood           5\n",
       "tubestrike     5\n",
       "dtype: int64"
      ]
     },
     "execution_count": 84,
     "metadata": {},
     "output_type": "execute_result"
    }
   ],
   "source": [
    "tmp = pd.Series(corpus).value_counts()\n",
    "list_min_5_words = tmp[tmp<=5]\n",
    "list_min_5_words[:30]"
   ]
  },
  {
   "cell_type": "code",
   "execution_count": 85,
   "metadata": {},
   "outputs": [
    {
     "data": {
      "text/plain": [
       "20275"
      ]
     },
     "execution_count": 85,
     "metadata": {},
     "output_type": "execute_result"
    }
   ],
   "source": [
    "len(list_min_5_words)"
   ]
  },
  {
   "cell_type": "code",
   "execution_count": 86,
   "metadata": {},
   "outputs": [],
   "source": [
    "list_min_5_words = list(list_min_5_words.index)\n",
    "tmp = pd.DataFrame({\"words\": list_min_5_words})\n",
    "tmp.to_csv(\"./data/min_5_words.csv\", index=False)"
   ]
  },
  {
   "cell_type": "code",
   "execution_count": 87,
   "metadata": {},
   "outputs": [
    {
     "data": {
      "text/plain": [
       "able        10\n",
       "trees       10\n",
       "complete    10\n",
       "udhampur    10\n",
       "seattle     10\n",
       "word        10\n",
       "michael     10\n",
       "yyc         10\n",
       "amazon      10\n",
       "grows       10\n",
       "dtype: int64"
      ]
     },
     "execution_count": 87,
     "metadata": {},
     "output_type": "execute_result"
    }
   ],
   "source": [
    "tmp = pd.Series(corpus).value_counts()\n",
    "list_min_10_words = tmp[tmp<=10]\n",
    "list_min_10_words[:10]"
   ]
  },
  {
   "cell_type": "code",
   "execution_count": 88,
   "metadata": {},
   "outputs": [
    {
     "data": {
      "text/plain": [
       "21158"
      ]
     },
     "execution_count": 88,
     "metadata": {},
     "output_type": "execute_result"
    }
   ],
   "source": [
    "len(list_min_10_words)"
   ]
  },
  {
   "cell_type": "code",
   "execution_count": 89,
   "metadata": {},
   "outputs": [],
   "source": [
    "list_min_10_words = list(list_min_10_words.index)\n",
    "tmp = pd.DataFrame({\"words\": list_min_10_words})\n",
    "tmp.to_csv(\"./data/min_10_words.csv\", index=False)"
   ]
  },
  {
   "cell_type": "code",
   "execution_count": null,
   "metadata": {},
   "outputs": [],
   "source": []
  },
  {
   "cell_type": "markdown",
   "metadata": {},
   "source": [
    "## Cleaning function"
   ]
  },
  {
   "cell_type": "code",
   "execution_count": 90,
   "metadata": {},
   "outputs": [],
   "source": [
    "def process_text_2(\n",
    "    doc,\n",
    "    rejoin=False,\n",
    "    list_rare_words=None,\n",
    "    min_len_word=3,\n",
    "    force_is_alpha=True\n",
    "):\n",
    "    # list unique words\n",
    "    if not list_rare_words:\n",
    "        list_rare_words = []\n",
    "    \n",
    "    # lower\n",
    "    doc = doc.lower().strip()\n",
    "    \n",
    "    tokenizer = RegexpTokenizer(r\"\\w+\")\n",
    "    raw_tokens_list = tokenizer.tokenize(doc)\n",
    "    \n",
    "    clean_tokens_list = [w for w in raw_tokens_list if w not in stop_words]\n",
    "    \n",
    "    \n",
    "    non_rare_tokens = [w for w in clean_tokens_list if w not in list_rare_words]\n",
    "    \n",
    "    more_than_N = [w for w in non_rare_tokens if len(w) >= min_len_word]\n",
    "    \n",
    "    if force_is_alpha:\n",
    "        alpha_tokens = [w for w in more_than_N if w.isalpha()]\n",
    "    else:\n",
    "        alpha_tokens = more_than_N\n",
    "    \n",
    "    if rejoin:\n",
    "        return \" \".join(alpha_tokens)\n",
    "    \n",
    "    return alpha_tokens\n",
    "    "
   ]
  },
  {
   "cell_type": "code",
   "execution_count": 91,
   "metadata": {},
   "outputs": [
    {
     "name": "stdout",
     "output_type": "stream",
     "text": [
      "nb tokens 82574, nb token uniques 22438\n",
      "['deeds', 'reason', 'earthquake', 'may', 'allah', 'forgive', 'us', 'allforest', 'fire', 'near', 'la', 'ronge', 'sask', 'canadaall', 'residents', 'asked', 'shelter', 'place', 'notified', 'officers', 'evacuation', 'shelter', 'place', 'orders', 'expected13', '000', 'people', 'receive', 'wildfires', 'evacuation']\n"
     ]
    }
   ],
   "source": [
    "display_token_info(corpus)"
   ]
  },
  {
   "cell_type": "code",
   "execution_count": 92,
   "metadata": {},
   "outputs": [
    {
     "data": {
      "text/plain": [
       "22438"
      ]
     },
     "execution_count": 92,
     "metadata": {},
     "output_type": "execute_result"
    }
   ],
   "source": [
    "len(set(corpus))"
   ]
  },
  {
   "cell_type": "code",
   "execution_count": 93,
   "metadata": {},
   "outputs": [
    {
     "name": "stdout",
     "output_type": "stream",
     "text": [
      "nb tokens 56509, nb token uniques 5705\n",
      "['deeds', 'reason', 'earthquake', 'may', 'allah', 'forgive', 'fire', 'near', 'residents', 'asked', 'shelter', 'place', 'officers', 'evacuation', 'shelter', 'place', 'orders', 'people', 'receive', 'wildfires', 'evacuation', 'orders', 'california', 'got', 'sent', 'photo', 'alaska', 'smoke', 'wildfires', 'school']\n"
     ]
    }
   ],
   "source": [
    "corpus = process_text_2(raw_corpus, list_rare_words=list_unique_words, rejoin=False)\n",
    "display_token_info(corpus)"
   ]
  },
  {
   "cell_type": "code",
   "execution_count": 94,
   "metadata": {},
   "outputs": [
    {
     "data": {
      "text/plain": [
       "5705"
      ]
     },
     "execution_count": 94,
     "metadata": {},
     "output_type": "execute_result"
    }
   ],
   "source": [
    "len(set(corpus))"
   ]
  },
  {
   "cell_type": "markdown",
   "metadata": {},
   "source": [
    "## 3.4 Stem and Lem"
   ]
  },
  {
   "cell_type": "code",
   "execution_count": 97,
   "metadata": {},
   "outputs": [
    {
     "name": "stdout",
     "output_type": "stream",
     "text": [
      "21 ['i', 'have', '3', 'dogs', 'they', 'were', 'all', 'black', 'now', 'they', 'are', 'all', 'white', 'but', 'one', 'of', 'my', 'dog', 'is', 'my', 'favorite']\n"
     ]
    }
   ],
   "source": [
    "doc = \"I have 3 dogs, they were all black. Now they are all white but one of my dog is my favorite\"\n",
    "\n",
    "tokenizer = RegexpTokenizer(r\"\\w+\")\n",
    "tokens = tokenizer.tokenize(doc.lower())\n",
    "print(len(tokens), tokens)"
   ]
  },
  {
   "cell_type": "code",
   "execution_count": 99,
   "metadata": {},
   "outputs": [
    {
     "name": "stdout",
     "output_type": "stream",
     "text": [
      "21 ['i', 'have', '3', 'dog', 'they', 'were', 'all', 'black', 'now', 'they', 'are', 'all', 'white', 'but', 'one', 'of', 'my', 'dog', 'is', 'my', 'favorit']\n"
     ]
    }
   ],
   "source": [
    "trans = PorterStemmer()\n",
    "trans_text = [trans.stem(i) for i in tokens]\n",
    "print(len(trans_text), trans_text)"
   ]
  },
  {
   "cell_type": "code",
   "execution_count": 100,
   "metadata": {},
   "outputs": [
    {
     "name": "stdout",
     "output_type": "stream",
     "text": [
      "21 ['i', 'have', '3', 'dog', 'they', 'were', 'all', 'black', 'now', 'they', 'are', 'all', 'white', 'but', 'one', 'of', 'my', 'dog', 'is', 'my', 'favorite']\n"
     ]
    }
   ],
   "source": [
    "trans = WordNetLemmatizer()\n",
    "trans_text = [trans.lemmatize(i) for i in tokens]\n",
    "print(len(trans_text), trans_text)"
   ]
  },
  {
   "cell_type": "code",
   "execution_count": 101,
   "metadata": {},
   "outputs": [],
   "source": [
    "def process_text_3(\n",
    "    doc,\n",
    "    lemm_or_stemm=\"stem\",\n",
    "    rejoin=False,\n",
    "    list_rare_words=None,\n",
    "    min_len_word=3,\n",
    "    force_is_alpha=True\n",
    "):\n",
    "    # list unique words\n",
    "    if not list_rare_words:\n",
    "        list_rare_words = []\n",
    "    \n",
    "    # lower\n",
    "    doc = doc.lower().strip()\n",
    "    \n",
    "    tokenizer = RegexpTokenizer(r\"\\w+\")\n",
    "    raw_tokens_list = tokenizer.tokenize(doc)\n",
    "    \n",
    "    clean_tokens_list = [w for w in raw_tokens_list if w not in stop_words]\n",
    "    \n",
    "    \n",
    "    non_rare_tokens = [w for w in clean_tokens_list if w not in list_rare_words]\n",
    "    \n",
    "    more_than_N = [w for w in non_rare_tokens if len(w) >= min_len_word]\n",
    "    \n",
    "    if force_is_alpha:\n",
    "        alpha_tokens = [w for w in more_than_N if w.isalpha()]\n",
    "    else:\n",
    "        alpha_tokens = more_than_N\n",
    "    \n",
    "    if lemm_or_stemm == \"lem\":\n",
    "         trans = WordNetLemmatizer()\n",
    "         trans_text = [trans.lemmatize(i) for i in alpha_tokens]\n",
    "    else:\n",
    "        trans = PorterStemmer()\n",
    "        trans_text = [trans.stem(i) for i in alpha_tokens]\n",
    "    \n",
    "    if rejoin:\n",
    "        return \" \".join(trans_text)\n",
    "    \n",
    "    return trans_text\n",
    "    "
   ]
  },
  {
   "cell_type": "code",
   "execution_count": 102,
   "metadata": {},
   "outputs": [
    {
     "data": {
      "text/plain": [
       "22984         key\n",
       "30522       flood\n",
       "35670      slowli\n",
       "30804      immedi\n",
       "20196       decad\n",
       "52969       video\n",
       "49186        http\n",
       "43022        riot\n",
       "9053       extern\n",
       "49417        http\n",
       "31128        http\n",
       "34177     predict\n",
       "25221      explod\n",
       "47074        caus\n",
       "188          care\n",
       "4746           ye\n",
       "3444          ask\n",
       "32335        http\n",
       "48651      surviv\n",
       "31527    forecast\n",
       "42263        http\n",
       "42962        http\n",
       "13650       alway\n",
       "31557        come\n",
       "39145         nyt\n",
       "29527      econom\n",
       "49216        http\n",
       "7372        chain\n",
       "21085    hurrican\n",
       "6023        blood\n",
       "dtype: object"
      ]
     },
     "execution_count": 102,
     "metadata": {},
     "output_type": "execute_result"
    }
   ],
   "source": [
    "corpus = process_text_3(raw_corpus, list_rare_words=list_unique_words, rejoin=False)\n",
    "pd.Series(corpus).sample(30)"
   ]
  },
  {
   "cell_type": "code",
   "execution_count": 103,
   "metadata": {},
   "outputs": [
    {
     "data": {
      "text/plain": [
       "4420"
      ]
     },
     "execution_count": 103,
     "metadata": {},
     "output_type": "execute_result"
    }
   ],
   "source": [
    "len(set(corpus))"
   ]
  },
  {
   "cell_type": "code",
   "execution_count": 104,
   "metadata": {},
   "outputs": [
    {
     "name": "stdout",
     "output_type": "stream",
     "text": [
      "nb tokens 56509, nb token uniques 4420\n",
      "['deed', 'reason', 'earthquak', 'may', 'allah', 'forgiv', 'fire', 'near', 'resid', 'ask', 'shelter', 'place', 'offic', 'evacu', 'shelter', 'place', 'order', 'peopl', 'receiv', 'wildfir', 'evacu', 'order', 'california', 'got', 'sent', 'photo', 'alaska', 'smoke', 'wildfir', 'school']\n"
     ]
    }
   ],
   "source": [
    "display_token_info(corpus)"
   ]
  },
  {
   "cell_type": "markdown",
   "metadata": {},
   "source": [
    "## 3.5 Only english words"
   ]
  },
  {
   "cell_type": "code",
   "execution_count": 105,
   "metadata": {},
   "outputs": [
    {
     "data": {
      "text/plain": [
       "182159           sissyism\n",
       "59030           earthborn\n",
       "216190    unexpostulating\n",
       "194025         sundriness\n",
       "215078      undirectional\n",
       "6759        aminoglutaric\n",
       "192746           subserve\n",
       "51036            denounce\n",
       "209705            twindle\n",
       "181626         similitude\n",
       "197961         Tanagraean\n",
       "114460       mesoperiodic\n",
       "93323           incurvate\n",
       "224482            untwine\n",
       "209879         tympanitic\n",
       "128998         obituarily\n",
       "233266           woodward\n",
       "51325           depoetize\n",
       "140416          patrician\n",
       "28163       Byzantinesque\n",
       "646                aburst\n",
       "122782        Nautiloidea\n",
       "121178         musquaspen\n",
       "2006       actinomorphous\n",
       "164656       reconcilably\n",
       "191880    subdenomination\n",
       "100013             jibber\n",
       "156117         processual\n",
       "234198          xylocopid\n",
       "189743       stigmatiform\n",
       "dtype: object"
      ]
     },
     "execution_count": 105,
     "metadata": {},
     "output_type": "execute_result"
    }
   ],
   "source": [
    "pd.Series(words.words()).sample(30)"
   ]
  },
  {
   "cell_type": "code",
   "execution_count": 106,
   "metadata": {},
   "outputs": [
    {
     "data": {
      "text/plain": [
       "235892"
      ]
     },
     "execution_count": 106,
     "metadata": {},
     "output_type": "execute_result"
    }
   ],
   "source": [
    "len(set(words.words()))"
   ]
  },
  {
   "cell_type": "code",
   "execution_count": 107,
   "metadata": {},
   "outputs": [
    {
     "data": {
      "text/plain": [
       "['a',\n",
       " 'a',\n",
       " 'aa',\n",
       " 'aal',\n",
       " 'aalii',\n",
       " 'aam',\n",
       " 'aani',\n",
       " 'aardvark',\n",
       " 'aardwolf',\n",
       " 'aaron',\n",
       " 'aaronic',\n",
       " 'aaronical',\n",
       " 'aaronite',\n",
       " 'aaronitic',\n",
       " 'aaru',\n",
       " 'ab',\n",
       " 'aba',\n",
       " 'ababdeh',\n",
       " 'ababua',\n",
       " 'abac',\n",
       " 'abaca',\n",
       " 'abacate',\n",
       " 'abacay',\n",
       " 'abacinate',\n",
       " 'abacination',\n",
       " 'abaciscus',\n",
       " 'abacist',\n",
       " 'aback',\n",
       " 'abactinal',\n",
       " 'abactinally']"
      ]
     },
     "execution_count": 107,
     "metadata": {},
     "output_type": "execute_result"
    }
   ],
   "source": [
    "eng_words = [i.lower() for i in words.words()]\n",
    "eng_words[:30]"
   ]
  },
  {
   "cell_type": "code",
   "execution_count": 108,
   "metadata": {},
   "outputs": [
    {
     "data": {
      "text/plain": [
       "234377"
      ]
     },
     "execution_count": 108,
     "metadata": {},
     "output_type": "execute_result"
    }
   ],
   "source": [
    "len(set(eng_words))"
   ]
  },
  {
   "cell_type": "code",
   "execution_count": 109,
   "metadata": {},
   "outputs": [
    {
     "name": "stdout",
     "output_type": "stream",
     "text": [
      "nb tokens 236736, nb token uniques 178311\n",
      "['a', 'a', 'aa', 'aal', 'aalii', 'aam', 'aani', 'aardvark', 'aardwolf', 'aaron', 'aaron', 'aaron', 'aaronit', 'aaronit', 'aaru', 'ab', 'aba', 'ababdeh', 'ababua', 'abac', 'abaca', 'abac', 'abacay', 'abacin', 'abacin', 'abaciscu', 'abacist', 'aback', 'abactin', 'abactin']\n"
     ]
    }
   ],
   "source": [
    "ps = PorterStemmer()\n",
    "eng_words_stem = [ps.stem(i) for i in eng_words]\n",
    "display_token_info(eng_words_stem)"
   ]
  },
  {
   "cell_type": "code",
   "execution_count": 111,
   "metadata": {},
   "outputs": [
    {
     "data": {
      "text/plain": [
       "178311"
      ]
     },
     "execution_count": 111,
     "metadata": {},
     "output_type": "execute_result"
    }
   ],
   "source": [
    "len(set(eng_words_stem))"
   ]
  },
  {
   "cell_type": "code",
   "execution_count": 112,
   "metadata": {},
   "outputs": [
    {
     "name": "stdout",
     "output_type": "stream",
     "text": [
      "nb tokens 236736, nb token uniques 233450\n",
      "['a', 'a', 'aa', 'aal', 'aalii', 'aam', 'aani', 'aardvark', 'aardwolf', 'aaron', 'aaronic', 'aaronical', 'aaronite', 'aaronitic', 'aaru', 'ab', 'aba', 'ababdeh', 'ababua', 'abac', 'abaca', 'abacate', 'abacay', 'abacinate', 'abacination', 'abaciscus', 'abacist', 'aback', 'abactinal', 'abactinally']\n"
     ]
    }
   ],
   "source": [
    "lm = WordNetLemmatizer()\n",
    "eng_words_lem = [lm.lemmatize(i) for i in eng_words]\n",
    "display_token_info(eng_words_lem)"
   ]
  },
  {
   "cell_type": "code",
   "execution_count": 113,
   "metadata": {},
   "outputs": [
    {
     "data": {
      "text/plain": [
       "233450"
      ]
     },
     "execution_count": 113,
     "metadata": {},
     "output_type": "execute_result"
    }
   ],
   "source": [
    "len(set(eng_words_lem))"
   ]
  },
  {
   "cell_type": "code",
   "execution_count": 121,
   "metadata": {},
   "outputs": [],
   "source": [
    "def process_text_4(\n",
    "    doc,\n",
    "    lemm_or_stemm=\"stem\",\n",
    "    rejoin=False,\n",
    "    list_rare_words=None,\n",
    "    min_len_word=3,\n",
    "    force_is_alpha=True,\n",
    "    eng_words=None\n",
    "):\n",
    "    # list unique words\n",
    "    if not list_rare_words:\n",
    "        list_rare_words = []\n",
    "    \n",
    "    # lower\n",
    "    doc = doc.lower().strip()\n",
    "    \n",
    "    tokenizer = RegexpTokenizer(r\"\\w+\")\n",
    "    raw_tokens_list = tokenizer.tokenize(doc)\n",
    "    \n",
    "    clean_tokens_list = [w for w in raw_tokens_list if w not in stop_words]\n",
    "    \n",
    "    \n",
    "    non_rare_tokens = [w for w in clean_tokens_list if w not in list_rare_words]\n",
    "    \n",
    "    more_than_N = [w for w in non_rare_tokens if len(w) >= min_len_word]\n",
    "    \n",
    "    if force_is_alpha:\n",
    "        alpha_tokens = [w for w in more_than_N if w.isalpha()]\n",
    "    else:\n",
    "        alpha_tokens = more_than_N\n",
    "    \n",
    "    if lemm_or_stemm == \"lem\":\n",
    "         trans = WordNetLemmatizer()\n",
    "         trans_text = [trans.lemmatize(i) for i in alpha_tokens]\n",
    "    else:\n",
    "        trans = PorterStemmer()\n",
    "        trans_text = [trans.stem(i) for i in alpha_tokens]\n",
    "    \n",
    "    if eng_words:\n",
    "        engl_text = [i for i in trans_text if i in eng_words]\n",
    "    else:\n",
    "        engl_text = trans_text\n",
    "    \n",
    "    if rejoin:\n",
    "        return \" \".join(engl_text)\n",
    "\n",
    "    return engl_text\n",
    "    "
   ]
  },
  {
   "cell_type": "code",
   "execution_count": 122,
   "metadata": {},
   "outputs": [
    {
     "name": "stdout",
     "output_type": "stream",
     "text": [
      "nb tokens 46983, nb token uniques 3461\n",
      "['deed', 'reason', 'earthquak', 'may', 'allah', 'forgiv', 'fire', 'near', 'resid', 'ask', 'shelter', 'place', 'offic', 'evacu', 'shelter', 'place', 'order', 'peopl', 'receiv', 'wildfir', 'evacu', 'order', 'california', 'got', 'sent', 'photo', 'alaska', 'smoke', 'wildfir', 'school']\n"
     ]
    }
   ],
   "source": [
    "corpus = process_text_4(raw_corpus, list_rare_words=list_unique_words, rejoin=False, eng_words=eng_words_stem)\n",
    "display_token_info(corpus)"
   ]
  },
  {
   "cell_type": "code",
   "execution_count": 123,
   "metadata": {},
   "outputs": [
    {
     "data": {
      "text/plain": [
       "3461"
      ]
     },
     "execution_count": 123,
     "metadata": {},
     "output_type": "execute_result"
    }
   ],
   "source": [
    "len(set(corpus))"
   ]
  },
  {
   "cell_type": "markdown",
   "metadata": {},
   "source": [
    "## 3.7 Wordcloud"
   ]
  },
  {
   "cell_type": "code",
   "execution_count": 125,
   "metadata": {},
   "outputs": [
    {
     "data": {
      "image/png": "[encoded data removed]",
      "text/plain": [
       "<Figure size 640x480 with 1 Axes>"
      ]
     },
     "metadata": {},
     "output_type": "display_data"
    }
   ],
   "source": [
    "wordcloud = WordCloud(background_color=\"white\",\n",
    "                      stopwords=[],\n",
    "                      max_words=50).generate(\" \".join(corpus))\n",
    "\n",
    "plt.imshow(wordcloud)\n",
    "plt.axis(\"off\")\n",
    "plt.show()"
   ]
  },
  {
   "cell_type": "markdown",
   "metadata": {},
   "source": [
    "## 4. Divide the corpus"
   ]
  },
  {
   "cell_type": "markdown",
   "metadata": {},
   "source": [
    "### 4.1 Separate 0/1"
   ]
  },
  {
   "cell_type": "code",
   "execution_count": 126,
   "metadata": {},
   "outputs": [
    {
     "data": {
      "text/html": [
       "<div>\n",
       "<style scoped>\n",
       "    .dataframe tbody tr th:only-of-type {\n",
       "        vertical-align: middle;\n",
       "    }\n",
       "\n",
       "    .dataframe tbody tr th {\n",
       "        vertical-align: top;\n",
       "    }\n",
       "\n",
       "    .dataframe thead th {\n",
       "        text-align: right;\n",
       "    }\n",
       "</style>\n",
       "<table border=\"1\" class=\"dataframe\">\n",
       "  <thead>\n",
       "    <tr style=\"text-align: right;\">\n",
       "      <th></th>\n",
       "      <th>text</th>\n",
       "      <th>target</th>\n",
       "    </tr>\n",
       "  </thead>\n",
       "  <tbody>\n",
       "    <tr>\n",
       "      <th>15</th>\n",
       "      <td>What's up man?</td>\n",
       "      <td>0</td>\n",
       "    </tr>\n",
       "    <tr>\n",
       "      <th>16</th>\n",
       "      <td>I love fruits</td>\n",
       "      <td>0</td>\n",
       "    </tr>\n",
       "    <tr>\n",
       "      <th>17</th>\n",
       "      <td>Summer is lovely</td>\n",
       "      <td>0</td>\n",
       "    </tr>\n",
       "    <tr>\n",
       "      <th>18</th>\n",
       "      <td>My car is so fast</td>\n",
       "      <td>0</td>\n",
       "    </tr>\n",
       "    <tr>\n",
       "      <th>19</th>\n",
       "      <td>What a goooooooaaaaaal!!!!!!</td>\n",
       "      <td>0</td>\n",
       "    </tr>\n",
       "  </tbody>\n",
       "</table>\n",
       "</div>"
      ],
      "text/plain": [
       "                            text  target\n",
       "15                What's up man?       0\n",
       "16                 I love fruits       0\n",
       "17              Summer is lovely       0\n",
       "18             My car is so fast       0\n",
       "19  What a goooooooaaaaaal!!!!!!       0"
      ]
     },
     "execution_count": 126,
     "metadata": {},
     "output_type": "execute_result"
    }
   ],
   "source": [
    "df_1 = df[df.target == 1]\n",
    "df_0 = df[df.target == 0]\n",
    "\n",
    "df_0.head()"
   ]
  },
  {
   "cell_type": "code",
   "execution_count": 127,
   "metadata": {},
   "outputs": [
    {
     "data": {
      "text/html": [
       "<div>\n",
       "<style scoped>\n",
       "    .dataframe tbody tr th:only-of-type {\n",
       "        vertical-align: middle;\n",
       "    }\n",
       "\n",
       "    .dataframe tbody tr th {\n",
       "        vertical-align: top;\n",
       "    }\n",
       "\n",
       "    .dataframe thead th {\n",
       "        text-align: right;\n",
       "    }\n",
       "</style>\n",
       "<table border=\"1\" class=\"dataframe\">\n",
       "  <thead>\n",
       "    <tr style=\"text-align: right;\">\n",
       "      <th></th>\n",
       "      <th>text</th>\n",
       "      <th>target</th>\n",
       "    </tr>\n",
       "  </thead>\n",
       "  <tbody>\n",
       "    <tr>\n",
       "      <th>0</th>\n",
       "      <td>Our Deeds are the Reason of this #earthquake M...</td>\n",
       "      <td>1</td>\n",
       "    </tr>\n",
       "    <tr>\n",
       "      <th>1</th>\n",
       "      <td>Forest fire near La Ronge Sask. Canada</td>\n",
       "      <td>1</td>\n",
       "    </tr>\n",
       "    <tr>\n",
       "      <th>2</th>\n",
       "      <td>All residents asked to 'shelter in place' are ...</td>\n",
       "      <td>1</td>\n",
       "    </tr>\n",
       "    <tr>\n",
       "      <th>3</th>\n",
       "      <td>13,000 people receive #wildfires evacuation or...</td>\n",
       "      <td>1</td>\n",
       "    </tr>\n",
       "    <tr>\n",
       "      <th>4</th>\n",
       "      <td>Just got sent this photo from Ruby #Alaska as ...</td>\n",
       "      <td>1</td>\n",
       "    </tr>\n",
       "  </tbody>\n",
       "</table>\n",
       "</div>"
      ],
      "text/plain": [
       "                                                text  target\n",
       "0  Our Deeds are the Reason of this #earthquake M...       1\n",
       "1             Forest fire near La Ronge Sask. Canada       1\n",
       "2  All residents asked to 'shelter in place' are ...       1\n",
       "3  13,000 people receive #wildfires evacuation or...       1\n",
       "4  Just got sent this photo from Ruby #Alaska as ...       1"
      ]
     },
     "execution_count": 127,
     "metadata": {},
     "output_type": "execute_result"
    }
   ],
   "source": [
    "df_1.head()"
   ]
  },
  {
   "cell_type": "code",
   "execution_count": 128,
   "metadata": {},
   "outputs": [],
   "source": [
    "corpus_1 = \" \".join(df_1.text)\n",
    "corpus_0 = \" \".join(df_0.text)"
   ]
  },
  {
   "cell_type": "markdown",
   "metadata": {},
   "source": [
    "### Process boths of them"
   ]
  },
  {
   "cell_type": "code",
   "execution_count": 129,
   "metadata": {},
   "outputs": [],
   "source": [
    "corpus_1 = process_text_4(corpus_1, rejoin=False, list_rare_words=list_min_5_words, eng_words=eng_words_stem)\n",
    "corpus_0 = process_text_4(corpus_0, rejoin=False, list_rare_words=list_min_5_words, eng_words=eng_words_stem)\n"
   ]
  },
  {
   "cell_type": "code",
   "execution_count": 130,
   "metadata": {},
   "outputs": [
    {
     "data": {
      "image/png": "[encoded data removed]",
      "text/plain": [
       "<Figure size 640x480 with 1 Axes>"
      ]
     },
     "metadata": {},
     "output_type": "display_data"
    }
   ],
   "source": [
    "wordcloud = WordCloud(background_color=\"white\",\n",
    "                      stopwords=[],\n",
    "                      max_words=50).generate(\" \".join(corpus_1))\n",
    "\n",
    "plt.imshow(wordcloud)\n",
    "plt.axis(\"off\")\n",
    "plt.show()"
   ]
  },
  {
   "cell_type": "code",
   "execution_count": 131,
   "metadata": {},
   "outputs": [
    {
     "data": {
      "image/png": "[encoded data removed]",
      "text/plain": [
       "<Figure size 640x480 with 1 Axes>"
      ]
     },
     "metadata": {},
     "output_type": "display_data"
    }
   ],
   "source": [
    "wordcloud = WordCloud(background_color=\"white\",\n",
    "                      stopwords=[],\n",
    "                      max_words=50).generate(\" \".join(corpus_0))\n",
    "\n",
    "plt.imshow(wordcloud)\n",
    "plt.axis(\"off\")\n",
    "plt.show()"
   ]
  },
  {
   "cell_type": "code",
   "execution_count": 132,
   "metadata": {},
   "outputs": [
    {
     "data": {
      "text/plain": [
       "fire          262\n",
       "bomb          179\n",
       "kill          159\n",
       "news          140\n",
       "amp           134\n",
       "via           119\n",
       "flood         118\n",
       "disast        116\n",
       "california    114\n",
       "crash         108\n",
       "polic         108\n",
       "suicid        106\n",
       "attack        104\n",
       "home          103\n",
       "famili        102\n",
       "like          102\n",
       "peopl         102\n",
       "train         100\n",
       "storm          95\n",
       "evacu          94\n",
       "dtype: int64"
      ]
     },
     "execution_count": 132,
     "metadata": {},
     "output_type": "execute_result"
    }
   ],
   "source": [
    "pd.Series(corpus_1).value_counts().head(20)"
   ]
  },
  {
   "cell_type": "code",
   "execution_count": 134,
   "metadata": {},
   "outputs": [
    {
     "data": {
      "text/plain": [
       "like      303\n",
       "get       223\n",
       "amp       208\n",
       "new       170\n",
       "one       137\n",
       "love      119\n",
       "bodi      119\n",
       "bag       111\n",
       "time      103\n",
       "day       102\n",
       "video     101\n",
       "would     100\n",
       "make       99\n",
       "see        98\n",
       "scream     98\n",
       "via        98\n",
       "peopl      93\n",
       "want       93\n",
       "know       91\n",
       "burn       90\n",
       "dtype: int64"
      ]
     },
     "execution_count": 134,
     "metadata": {},
     "output_type": "execute_result"
    }
   ],
   "source": [
    "pd.Series(corpus_0).value_counts().head(20)"
   ]
  },
  {
   "cell_type": "code",
   "execution_count": 135,
   "metadata": {},
   "outputs": [
    {
     "data": {
      "text/plain": [
       "['amp']"
      ]
     },
     "execution_count": 135,
     "metadata": {},
     "output_type": "execute_result"
    }
   ],
   "source": [
    "n = 10\n",
    "doublons = [i for i in pd.Series(corpus_1).value_counts().head(n).index\n",
    "            if i in pd.Series(corpus_0).value_counts().head(n).index]\n",
    "doublons"
   ]
  },
  {
   "cell_type": "code",
   "execution_count": 138,
   "metadata": {},
   "outputs": [
    {
     "data": {
      "text/plain": [
       "['amp', 'via', 'like', 'peopl']"
      ]
     },
     "execution_count": 138,
     "metadata": {},
     "output_type": "execute_result"
    }
   ],
   "source": [
    "n = 20\n",
    "doublons = [i for i in pd.Series(corpus_1).value_counts().head(n).index\n",
    "            if i in pd.Series(corpus_0).value_counts().head(n).index]\n",
    "doublons"
   ]
  },
  {
   "cell_type": "markdown",
   "metadata": {},
   "source": [
    "## 4.3.5 cleaning function"
   ]
  },
  {
   "cell_type": "code",
   "execution_count": 141,
   "metadata": {},
   "outputs": [],
   "source": [
    "def process_text_5(\n",
    "    doc,\n",
    "    lemm_or_stemm=\"stem\",\n",
    "    rejoin=False,\n",
    "    list_rare_words=None,\n",
    "    min_len_word=3,\n",
    "    force_is_alpha=True,\n",
    "    eng_words=None,\n",
    "    extra_words=None\n",
    "):\n",
    "    # list unique words\n",
    "    if not list_rare_words:\n",
    "        list_rare_words = []\n",
    "    \n",
    "    # lower\n",
    "    doc = doc.lower().strip()\n",
    "    \n",
    "    tokenizer = RegexpTokenizer(r\"\\w+\")\n",
    "    raw_tokens_list = tokenizer.tokenize(doc)\n",
    "    \n",
    "    clean_tokens_list = [w for w in raw_tokens_list if w not in stop_words]\n",
    "    \n",
    "    non_rare_tokens = [w for w in clean_tokens_list if w not in list_rare_words]\n",
    "    \n",
    "    more_than_N = [w for w in non_rare_tokens if len(w) >= min_len_word]\n",
    "    \n",
    "    if force_is_alpha:\n",
    "        alpha_tokens = [w for w in more_than_N if w.isalpha()]\n",
    "    else:\n",
    "        alpha_tokens = more_than_N\n",
    "    \n",
    "    if lemm_or_stemm == \"lem\":\n",
    "         trans = WordNetLemmatizer()\n",
    "         trans_text = [trans.lemmatize(i) for i in alpha_tokens]\n",
    "    else:\n",
    "        trans = PorterStemmer()\n",
    "        trans_text = [trans.stem(i) for i in alpha_tokens]\n",
    "    \n",
    "    if eng_words:\n",
    "        engl_text = [i for i in trans_text if i in eng_words]\n",
    "    else:\n",
    "        engl_text = trans_text\n",
    "    \n",
    "    \n",
    "    final = [w for w in engl_text if w not in extra_words]\n",
    "    \n",
    "    if rejoin:\n",
    "        return \" \".join(final)\n",
    "\n",
    "    return final\n",
    "    "
   ]
  },
  {
   "cell_type": "code",
   "execution_count": 142,
   "metadata": {},
   "outputs": [
    {
     "name": "stdout",
     "output_type": "stream",
     "text": [
      "nb tokens 45833, nb token uniques 3457\n",
      "['deed', 'reason', 'earthquak', 'may', 'allah', 'forgiv', 'fire', 'near', 'resid', 'ask', 'shelter', 'place', 'offic', 'evacu', 'shelter', 'place', 'order', 'receiv', 'wildfir', 'evacu', 'order', 'california', 'got', 'sent', 'photo', 'alaska', 'smoke', 'wildfir', 'school', 'updat']\n"
     ]
    }
   ],
   "source": [
    "corpus = process_text_5(raw_corpus, list_rare_words=list_unique_words, rejoin=False, eng_words=eng_words_stem, extra_words=doublons)\n",
    "display_token_info(corpus)"
   ]
  },
  {
   "cell_type": "code",
   "execution_count": 145,
   "metadata": {},
   "outputs": [],
   "source": [
    "def final_clean(doc):\n",
    "    new_doc =  process_text_5(doc, list_rare_words=list_unique_words, rejoin=False, eng_words=eng_words_stem, extra_words=doublons)\n",
    "    return new_doc"
   ]
  },
  {
   "cell_type": "code",
   "execution_count": 146,
   "metadata": {},
   "outputs": [
    {
     "data": {
      "application/vnd.jupyter.widget-view+json": {
       "model_id": "87eabfc0b7724cfcac77a59385794ec1",
       "version_major": 2,
       "version_minor": 0
      },
      "text/plain": [
       "VBox(children=(HBox(children=(IntProgress(value=0, description='0.00%', max=1251), Label(value='0 / 1251'))), …"
      ]
     },
     "metadata": {},
     "output_type": "display_data"
    }
   ],
   "source": [
    "df[\"clean_text\"] = df.text.parallel_apply(final_clean)"
   ]
  },
  {
   "cell_type": "code",
   "execution_count": 147,
   "metadata": {},
   "outputs": [
    {
     "data": {
      "text/html": [
       "<div>\n",
       "<style scoped>\n",
       "    .dataframe tbody tr th:only-of-type {\n",
       "        vertical-align: middle;\n",
       "    }\n",
       "\n",
       "    .dataframe tbody tr th {\n",
       "        vertical-align: top;\n",
       "    }\n",
       "\n",
       "    .dataframe thead th {\n",
       "        text-align: right;\n",
       "    }\n",
       "</style>\n",
       "<table border=\"1\" class=\"dataframe\">\n",
       "  <thead>\n",
       "    <tr style=\"text-align: right;\">\n",
       "      <th></th>\n",
       "      <th>text</th>\n",
       "      <th>target</th>\n",
       "      <th>clean_text</th>\n",
       "    </tr>\n",
       "  </thead>\n",
       "  <tbody>\n",
       "    <tr>\n",
       "      <th>1246</th>\n",
       "      <td>Now on WSLS: fire burns multiple buildings in ...</td>\n",
       "      <td>1</td>\n",
       "      <td>[fire, burn, multipl, build, tip, make, less, ...</td>\n",
       "    </tr>\n",
       "    <tr>\n",
       "      <th>3382</th>\n",
       "      <td>Learn How I Gained Access To The Secrets Of Th...</td>\n",
       "      <td>0</td>\n",
       "      <td>[learn, gain, access, secret, top, earner, use...</td>\n",
       "    </tr>\n",
       "    <tr>\n",
       "      <th>5015</th>\n",
       "      <td>#Japan #Fukushima the most serious man made di...</td>\n",
       "      <td>1</td>\n",
       "      <td>[japan, seriou, man, made, disast, human, hist...</td>\n",
       "    </tr>\n",
       "    <tr>\n",
       "      <th>736</th>\n",
       "      <td>My ear started bleeding again...</td>\n",
       "      <td>0</td>\n",
       "      <td>[ear, start, bleed]</td>\n",
       "    </tr>\n",
       "    <tr>\n",
       "      <th>5546</th>\n",
       "      <td>Short of throwing them overboard himself I don...</td>\n",
       "      <td>1</td>\n",
       "      <td>[short, throw, think, leader, could, much, wor...</td>\n",
       "    </tr>\n",
       "    <tr>\n",
       "      <th>5900</th>\n",
       "      <td>@HimeRuisu I'm going to ram your ass so hard I...</td>\n",
       "      <td>0</td>\n",
       "      <td>[go, ass, hard, face, pillow, scream, pain, pl...</td>\n",
       "    </tr>\n",
       "    <tr>\n",
       "      <th>3724</th>\n",
       "      <td>#RFP: Fire Truck Service Body for F-450 (Fire ...</td>\n",
       "      <td>0</td>\n",
       "      <td>[fire, truck, servic, bodi, fire, fight, rescu...</td>\n",
       "    </tr>\n",
       "    <tr>\n",
       "      <th>5205</th>\n",
       "      <td>Families to sue over Legionnaires: More than 4...</td>\n",
       "      <td>1</td>\n",
       "      <td>[famili, sue, legionnair, famili, affect, fata...</td>\n",
       "    </tr>\n",
       "    <tr>\n",
       "      <th>2135</th>\n",
       "      <td>FCO Minister @Tobias_Ellwood condemns attack a...</td>\n",
       "      <td>1</td>\n",
       "      <td>[minist, attack, mosqu, result, least, death]</td>\n",
       "    </tr>\n",
       "    <tr>\n",
       "      <th>6355</th>\n",
       "      <td>meek mill should join isis since he loves suic...</td>\n",
       "      <td>0</td>\n",
       "      <td>[meek, mill, join, isi, sinc, love, suicid, bo...</td>\n",
       "    </tr>\n",
       "    <tr>\n",
       "      <th>6702</th>\n",
       "      <td>Robert Gagnon reviews the catastrophe of impos...</td>\n",
       "      <td>1</td>\n",
       "      <td>[review, catastroph, sex, christian, respond]</td>\n",
       "    </tr>\n",
       "    <tr>\n",
       "      <th>1377</th>\n",
       "      <td>Civilian casualties rise as Afghan war intensi...</td>\n",
       "      <td>1</td>\n",
       "      <td>[civilian, casualti, rise, afghan, war, intens...</td>\n",
       "    </tr>\n",
       "    <tr>\n",
       "      <th>2634</th>\n",
       "      <td>52.214904 5.139055 Nuke please. Target Hilvers...</td>\n",
       "      <td>1</td>\n",
       "      <td>[nuke, pleas, target, pleas, deton, surfac]</td>\n",
       "    </tr>\n",
       "    <tr>\n",
       "      <th>2660</th>\n",
       "      <td>Ignition Knock (Detonation) Sensor-Senso fits ...</td>\n",
       "      <td>1</td>\n",
       "      <td>[ignit, knock, deton, sensor, senso, fit]</td>\n",
       "    </tr>\n",
       "    <tr>\n",
       "      <th>2680</th>\n",
       "      <td>70 years after : Hiroshima and Nagasaki - cons...</td>\n",
       "      <td>1</td>\n",
       "      <td>[year, consequ, nuclear, deton]</td>\n",
       "    </tr>\n",
       "    <tr>\n",
       "      <th>2810</th>\n",
       "      <td>Angry Woman Openly Accuses NEMA Of Stealing Re...</td>\n",
       "      <td>0</td>\n",
       "      <td>[angri, woman, openli, accus, nema, steal, rel...</td>\n",
       "    </tr>\n",
       "    <tr>\n",
       "      <th>5965</th>\n",
       "      <td>@Azimel 'Screaming Mad Scientist deceased afte...</td>\n",
       "      <td>0</td>\n",
       "      <td>[scream, mad, tumbl, heel, fall, sinkhol, inve...</td>\n",
       "    </tr>\n",
       "    <tr>\n",
       "      <th>161</th>\n",
       "      <td>I had a airplane accident.</td>\n",
       "      <td>1</td>\n",
       "      <td>[airplan, accid]</td>\n",
       "    </tr>\n",
       "    <tr>\n",
       "      <th>6079</th>\n",
       "      <td>Fuck Sleeping With Sirens.</td>\n",
       "      <td>0</td>\n",
       "      <td>[sleep, siren]</td>\n",
       "    </tr>\n",
       "    <tr>\n",
       "      <th>1413</th>\n",
       "      <td>Was '80s New #Wave a #Casualty of #AIDS?: Twee...</td>\n",
       "      <td>0</td>\n",
       "      <td>[new, wave, casualti, tweet, sinc, grown, watc...</td>\n",
       "    </tr>\n",
       "  </tbody>\n",
       "</table>\n",
       "</div>"
      ],
      "text/plain": [
       "                                                   text  target  \\\n",
       "1246  Now on WSLS: fire burns multiple buildings in ...       1   \n",
       "3382  Learn How I Gained Access To The Secrets Of Th...       0   \n",
       "5015  #Japan #Fukushima the most serious man made di...       1   \n",
       "736                    My ear started bleeding again...       0   \n",
       "5546  Short of throwing them overboard himself I don...       1   \n",
       "5900  @HimeRuisu I'm going to ram your ass so hard I...       0   \n",
       "3724  #RFP: Fire Truck Service Body for F-450 (Fire ...       0   \n",
       "5205  Families to sue over Legionnaires: More than 4...       1   \n",
       "2135  FCO Minister @Tobias_Ellwood condemns attack a...       1   \n",
       "6355  meek mill should join isis since he loves suic...       0   \n",
       "6702  Robert Gagnon reviews the catastrophe of impos...       1   \n",
       "1377  Civilian casualties rise as Afghan war intensi...       1   \n",
       "2634  52.214904 5.139055 Nuke please. Target Hilvers...       1   \n",
       "2660  Ignition Knock (Detonation) Sensor-Senso fits ...       1   \n",
       "2680  70 years after : Hiroshima and Nagasaki - cons...       1   \n",
       "2810  Angry Woman Openly Accuses NEMA Of Stealing Re...       0   \n",
       "5965  @Azimel 'Screaming Mad Scientist deceased afte...       0   \n",
       "161                          I had a airplane accident.       1   \n",
       "6079                         Fuck Sleeping With Sirens.       0   \n",
       "1413  Was '80s New #Wave a #Casualty of #AIDS?: Twee...       0   \n",
       "\n",
       "                                             clean_text  \n",
       "1246  [fire, burn, multipl, build, tip, make, less, ...  \n",
       "3382  [learn, gain, access, secret, top, earner, use...  \n",
       "5015  [japan, seriou, man, made, disast, human, hist...  \n",
       "736                                 [ear, start, bleed]  \n",
       "5546  [short, throw, think, leader, could, much, wor...  \n",
       "5900  [go, ass, hard, face, pillow, scream, pain, pl...  \n",
       "3724  [fire, truck, servic, bodi, fire, fight, rescu...  \n",
       "5205  [famili, sue, legionnair, famili, affect, fata...  \n",
       "2135      [minist, attack, mosqu, result, least, death]  \n",
       "6355  [meek, mill, join, isi, sinc, love, suicid, bo...  \n",
       "6702      [review, catastroph, sex, christian, respond]  \n",
       "1377  [civilian, casualti, rise, afghan, war, intens...  \n",
       "2634        [nuke, pleas, target, pleas, deton, surfac]  \n",
       "2660          [ignit, knock, deton, sensor, senso, fit]  \n",
       "2680                    [year, consequ, nuclear, deton]  \n",
       "2810  [angri, woman, openli, accus, nema, steal, rel...  \n",
       "5965  [scream, mad, tumbl, heel, fall, sinkhol, inve...  \n",
       "161                                    [airplan, accid]  \n",
       "6079                                     [sleep, siren]  \n",
       "1413  [new, wave, casualti, tweet, sinc, grown, watc...  "
      ]
     },
     "execution_count": 147,
     "metadata": {},
     "output_type": "execute_result"
    }
   ],
   "source": [
    "df.sample(20)"
   ]
  },
  {
   "cell_type": "code",
   "execution_count": 148,
   "metadata": {},
   "outputs": [
    {
     "name": "stdout",
     "output_type": "stream",
     "text": [
      "OMG Horrible Accident Man Died in Wings of Airplane. http://t.co/xDxDPrcPnS\n",
      "['horribl', 'accid', 'man', 'die', 'wing', 'airplan']\n",
      "\n",
      "@_chelsdelong12 @kendra_leigh13 I'll crash it\n",
      "['crash']\n",
      "\n",
      "China's Stock Market Crash: Are There Gems In The Rubble? http://t.co/BqBLWiw08g #ROIMentor #yycwalks\n",
      "['china', 'stock', 'market', 'crash', 'gem', 'rubbl']\n",
      "\n",
      "Still Uninvestigated After 50 Years: Did the U.S. Help Incite the 1965 Indonesia Massacre? http://t.co/EZbTG81trz\n",
      "['still', 'year', 'help', 'massacr']\n",
      "\n",
      "'The Terrorist Tried to Get Out of the Car; I Shot Him' http://t.co/VSoxKbt6Nq\n",
      "['terrorist', 'tri', 'get', 'car', 'shot']\n",
      "\n",
      "Gotta love #summer in #Calgary. #yyc #hailstorm #crazyweather http://t.co/xQbWnLBBIu\n",
      "['love', 'summer', 'hailstorm']\n",
      "\n",
      "Obama Declares Disaster for Typhoon-Devastated Saipan\n",
      "['declar', 'disast', 'typhoon', 'devast']\n",
      "\n",
      "Hey the #Royals love doing damage with 2 outs.\n",
      "['hey', 'royal', 'love', 'damag']\n",
      "\n",
      "@nataliealund \n",
      "Parents of Colorado theater shooting victim fear copycat massacre\n",
      "\n",
      "http://t.co/LvlH3W3aWO\n",
      "#Antioch\n",
      "\n",
      "http://t.co/vIwXY1XDYK\n",
      "['parent', 'colorado', 'theater', 'shoot', 'victim', 'fear', 'copycat', 'massacr']\n",
      "\n",
      "Spokane authorities say they're struggling to solve arson cases like today's on Hamilton. http://t.co/Qbs2k01WzK http://t.co/mvLZIYsGLL\n",
      "['spokan', 'author', 'say', 'struggl', 'solv', 'arson', 'case', 'today', 'hamilton']\n",
      "\n"
     ]
    }
   ],
   "source": [
    "sub_df = df[df.target ==1]\n",
    "\n",
    "for isx, ser in sub_df.sample(10).iterrows():\n",
    "    print(ser[\"text\"])\n",
    "    print(ser[\"clean_text\"])\n",
    "    print()"
   ]
  },
  {
   "cell_type": "code",
   "execution_count": null,
   "metadata": {},
   "outputs": [],
   "source": [
    "sub_df = df[df.target ==0]\n",
    "\n",
    "for isx, ser in sub_df.sample(10).iterrows():\n",
    "    print(ser[\"text\"])\n",
    "    print(ser[\"clean_text\"])\n",
    "    print()"
   ]
  }
 ],
 "metadata": {
  "kernelspec": {
   "display_name": "Python 3",
   "language": "python",
   "name": "python3"
  },
  "language_info": {
   "codemirror_mode": {
    "name": "ipython",
    "version": 3
   },
   "file_extension": ".py",
   "mimetype": "text/x-python",
   "name": "python",
   "nbconvert_exporter": "python",
   "pygments_lexer": "ipython3",
   "version": "3.10.12"
  }
 },
 "nbformat": 4,
 "nbformat_minor": 2
}
