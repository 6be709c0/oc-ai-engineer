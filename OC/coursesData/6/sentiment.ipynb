{
 "cells": [
  {
   "cell_type": "code",
   "execution_count": 2,
   "metadata": {},
   "outputs": [
    {
     "ename": "ImportError",
     "evalue": "cannot import name 'ap' from 'tools' (/Users/m/.pyenv/versions/3.10.12/lib/python3.10/site-packages/tools/__init__.py)",
     "output_type": "error",
     "traceback": [
      "\u001b[0;31m---------------------------------------------------------------------------\u001b[0m",
      "\u001b[0;31mImportError\u001b[0m                               Traceback (most recent call last)",
      "Cell \u001b[0;32mIn[2], line 3\u001b[0m\n\u001b[1;32m      1\u001b[0m \u001b[38;5;28;01mimport\u001b[39;00m \u001b[38;5;21;01mnltk\u001b[39;00m\n\u001b[1;32m      2\u001b[0m \u001b[38;5;28;01mimport\u001b[39;00m \u001b[38;5;21;01mos\u001b[39;00m\n\u001b[0;32m----> 3\u001b[0m \u001b[38;5;28;01mfrom\u001b[39;00m \u001b[38;5;21;01mtools\u001b[39;00m \u001b[38;5;28;01mimport\u001b[39;00m ap\n\u001b[1;32m      5\u001b[0m \u001b[38;5;28;01mdef\u001b[39;00m \u001b[38;5;21mformat_sentence\u001b[39m(sent):\n\u001b[1;32m      6\u001b[0m     \u001b[38;5;28;01mreturn\u001b[39;00m ({ word: \u001b[38;5;28;01mTrue\u001b[39;00m \u001b[38;5;28;01mfor\u001b[39;00m word \u001b[38;5;129;01min\u001b[39;00m nltk\u001b[38;5;241m.\u001b[39mword_tokenize(sent\u001b[38;5;241m.\u001b[39mdecode(\u001b[38;5;124m'\u001b[39m\u001b[38;5;124mutf-8\u001b[39m\u001b[38;5;124m'\u001b[39m)) })\n",
      "\u001b[0;31mImportError\u001b[0m: cannot import name 'ap' from 'tools' (/Users/m/.pyenv/versions/3.10.12/lib/python3.10/site-packages/tools/__init__.py)"
     ]
    }
   ],
   "source": [
    "import nltk\n",
    "import os\n",
    "from tools import ap\n",
    "\n",
    "def format_sentence(sent):\n",
    "    return ({ word: True for word in nltk.word_tokenize(sent.decode('utf-8')) })\n",
    "\n",
    "def load_training_set():\n",
    "    training = []\n",
    "\n",
    "    for fp in os.listdir(ap('aclImdb/train/pos')):\n",
    "        example = '{}/{}'.format(ap('aclImdb/train/pos'), fp)\n",
    "        with open(example) as fp:\n",
    "            for i in fp:\n",
    "                training.append([format_sentence(i), 'pos'])\n",
    "\n",
    "    for fp in os.listdir(ap('aclImdb/train/neg')):\n",
    "        example = '{}/{}'.format(ap('aclImdb/train/neg'), fp)\n",
    "        with open(example) as fp:\n",
    "            for i in fp:\n",
    "                training.append([format_sentence(i), 'neg'])\n",
    "\n",
    "    return training\n",
    "\n",
    "training = load_training_set()"
   ]
  }
 ],
 "metadata": {
  "kernelspec": {
   "display_name": "Python 3",
   "language": "python",
   "name": "python3"
  },
  "language_info": {
   "codemirror_mode": {
    "name": "ipython",
    "version": 3
   },
   "file_extension": ".py",
   "mimetype": "text/x-python",
   "name": "python",
   "nbconvert_exporter": "python",
   "pygments_lexer": "ipython3",
   "version": "3.10.12"
  }
 },
 "nbformat": 4,
 "nbformat_minor": 2
}
