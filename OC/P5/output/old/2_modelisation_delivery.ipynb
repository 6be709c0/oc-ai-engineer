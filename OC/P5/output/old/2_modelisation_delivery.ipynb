{
 "cells": [
  {
   "cell_type": "code",
   "execution_count": 1,
   "metadata": {},
   "outputs": [],
   "source": [
    "from helpers import *"
   ]
  },
  {
   "cell_type": "code",
   "execution_count": 2,
   "metadata": {},
   "outputs": [
    {
     "name": "stdout",
     "output_type": "stream",
     "text": [
      "(96096, 6)\n"
     ]
    },
    {
     "data": {
      "text/html": [
       "<div>\n",
       "<style scoped>\n",
       "    .dataframe tbody tr th:only-of-type {\n",
       "        vertical-align: middle;\n",
       "    }\n",
       "\n",
       "    .dataframe tbody tr th {\n",
       "        vertical-align: top;\n",
       "    }\n",
       "\n",
       "    .dataframe thead th {\n",
       "        text-align: right;\n",
       "    }\n",
       "</style>\n",
       "<table border=\"1\" class=\"dataframe\">\n",
       "  <thead>\n",
       "    <tr style=\"text-align: right;\">\n",
       "      <th></th>\n",
       "      <th>recency_score</th>\n",
       "      <th>frequency_score</th>\n",
       "      <th>monetary_score</th>\n",
       "      <th>rfm_score</th>\n",
       "      <th>avg_satisfaction</th>\n",
       "      <th>avg_delivery_delay</th>\n",
       "    </tr>\n",
       "  </thead>\n",
       "  <tbody>\n",
       "    <tr>\n",
       "      <th>0</th>\n",
       "      <td>4</td>\n",
       "      <td>1</td>\n",
       "      <td>4</td>\n",
       "      <td>414</td>\n",
       "      <td>5.0</td>\n",
       "      <td>6.0</td>\n",
       "    </tr>\n",
       "    <tr>\n",
       "      <th>1</th>\n",
       "      <td>4</td>\n",
       "      <td>1</td>\n",
       "      <td>1</td>\n",
       "      <td>411</td>\n",
       "      <td>4.0</td>\n",
       "      <td>3.0</td>\n",
       "    </tr>\n",
       "    <tr>\n",
       "      <th>2</th>\n",
       "      <td>1</td>\n",
       "      <td>1</td>\n",
       "      <td>2</td>\n",
       "      <td>112</td>\n",
       "      <td>3.0</td>\n",
       "      <td>25.0</td>\n",
       "    </tr>\n",
       "    <tr>\n",
       "      <th>3</th>\n",
       "      <td>2</td>\n",
       "      <td>1</td>\n",
       "      <td>1</td>\n",
       "      <td>211</td>\n",
       "      <td>4.0</td>\n",
       "      <td>20.0</td>\n",
       "    </tr>\n",
       "    <tr>\n",
       "      <th>4</th>\n",
       "      <td>2</td>\n",
       "      <td>1</td>\n",
       "      <td>5</td>\n",
       "      <td>215</td>\n",
       "      <td>5.0</td>\n",
       "      <td>13.0</td>\n",
       "    </tr>\n",
       "  </tbody>\n",
       "</table>\n",
       "</div>"
      ],
      "text/plain": [
       "   recency_score  frequency_score  monetary_score  rfm_score  \\\n",
       "0              4                1               4        414   \n",
       "1              4                1               1        411   \n",
       "2              1                1               2        112   \n",
       "3              2                1               1        211   \n",
       "4              2                1               5        215   \n",
       "\n",
       "   avg_satisfaction  avg_delivery_delay  \n",
       "0               5.0                 6.0  \n",
       "1               4.0                 3.0  \n",
       "2               3.0                25.0  \n",
       "3               4.0                20.0  \n",
       "4               5.0                13.0  "
      ]
     },
     "execution_count": 2,
     "metadata": {},
     "output_type": "execute_result"
    }
   ],
   "source": [
    "df = pd.read_csv(\"rfm_and_delay.csv\")\n",
    "print(df.shape)\n",
    "df.head()"
   ]
  },
  {
   "cell_type": "markdown",
   "metadata": {},
   "source": [
    "## TSNE with PCA & with reviews"
   ]
  },
  {
   "cell_type": "code",
   "execution_count": 3,
   "metadata": {},
   "outputs": [
    {
     "data": {
      "text/html": [
       "<div>\n",
       "<style scoped>\n",
       "    .dataframe tbody tr th:only-of-type {\n",
       "        vertical-align: middle;\n",
       "    }\n",
       "\n",
       "    .dataframe tbody tr th {\n",
       "        vertical-align: top;\n",
       "    }\n",
       "\n",
       "    .dataframe thead th {\n",
       "        text-align: right;\n",
       "    }\n",
       "</style>\n",
       "<table border=\"1\" class=\"dataframe\">\n",
       "  <thead>\n",
       "    <tr style=\"text-align: right;\">\n",
       "      <th></th>\n",
       "      <th>recency_score</th>\n",
       "      <th>frequency_score</th>\n",
       "      <th>monetary_score</th>\n",
       "      <th>rfm_score</th>\n",
       "      <th>avg_satisfaction</th>\n",
       "      <th>avg_delivery_delay</th>\n",
       "    </tr>\n",
       "  </thead>\n",
       "  <tbody>\n",
       "    <tr>\n",
       "      <th>0</th>\n",
       "      <td>4</td>\n",
       "      <td>1</td>\n",
       "      <td>4</td>\n",
       "      <td>414</td>\n",
       "      <td>5.0</td>\n",
       "      <td>6.0</td>\n",
       "    </tr>\n",
       "    <tr>\n",
       "      <th>1</th>\n",
       "      <td>4</td>\n",
       "      <td>1</td>\n",
       "      <td>1</td>\n",
       "      <td>411</td>\n",
       "      <td>4.0</td>\n",
       "      <td>3.0</td>\n",
       "    </tr>\n",
       "    <tr>\n",
       "      <th>2</th>\n",
       "      <td>1</td>\n",
       "      <td>1</td>\n",
       "      <td>2</td>\n",
       "      <td>112</td>\n",
       "      <td>3.0</td>\n",
       "      <td>25.0</td>\n",
       "    </tr>\n",
       "    <tr>\n",
       "      <th>3</th>\n",
       "      <td>2</td>\n",
       "      <td>1</td>\n",
       "      <td>1</td>\n",
       "      <td>211</td>\n",
       "      <td>4.0</td>\n",
       "      <td>20.0</td>\n",
       "    </tr>\n",
       "    <tr>\n",
       "      <th>4</th>\n",
       "      <td>2</td>\n",
       "      <td>1</td>\n",
       "      <td>5</td>\n",
       "      <td>215</td>\n",
       "      <td>5.0</td>\n",
       "      <td>13.0</td>\n",
       "    </tr>\n",
       "    <tr>\n",
       "      <th>...</th>\n",
       "      <td>...</td>\n",
       "      <td>...</td>\n",
       "      <td>...</td>\n",
       "      <td>...</td>\n",
       "      <td>...</td>\n",
       "      <td>...</td>\n",
       "    </tr>\n",
       "    <tr>\n",
       "      <th>96091</th>\n",
       "      <td>1</td>\n",
       "      <td>1</td>\n",
       "      <td>5</td>\n",
       "      <td>115</td>\n",
       "      <td>5.0</td>\n",
       "      <td>27.0</td>\n",
       "    </tr>\n",
       "    <tr>\n",
       "      <th>96092</th>\n",
       "      <td>3</td>\n",
       "      <td>1</td>\n",
       "      <td>2</td>\n",
       "      <td>312</td>\n",
       "      <td>4.0</td>\n",
       "      <td>30.0</td>\n",
       "    </tr>\n",
       "    <tr>\n",
       "      <th>96093</th>\n",
       "      <td>1</td>\n",
       "      <td>1</td>\n",
       "      <td>3</td>\n",
       "      <td>113</td>\n",
       "      <td>5.0</td>\n",
       "      <td>14.0</td>\n",
       "    </tr>\n",
       "    <tr>\n",
       "      <th>96094</th>\n",
       "      <td>4</td>\n",
       "      <td>1</td>\n",
       "      <td>4</td>\n",
       "      <td>414</td>\n",
       "      <td>5.0</td>\n",
       "      <td>11.0</td>\n",
       "    </tr>\n",
       "    <tr>\n",
       "      <th>96095</th>\n",
       "      <td>1</td>\n",
       "      <td>1</td>\n",
       "      <td>2</td>\n",
       "      <td>112</td>\n",
       "      <td>5.0</td>\n",
       "      <td>7.0</td>\n",
       "    </tr>\n",
       "  </tbody>\n",
       "</table>\n",
       "<p>96096 rows × 6 columns</p>\n",
       "</div>"
      ],
      "text/plain": [
       "       recency_score  frequency_score  monetary_score  rfm_score  \\\n",
       "0                  4                1               4        414   \n",
       "1                  4                1               1        411   \n",
       "2                  1                1               2        112   \n",
       "3                  2                1               1        211   \n",
       "4                  2                1               5        215   \n",
       "...              ...              ...             ...        ...   \n",
       "96091              1                1               5        115   \n",
       "96092              3                1               2        312   \n",
       "96093              1                1               3        113   \n",
       "96094              4                1               4        414   \n",
       "96095              1                1               2        112   \n",
       "\n",
       "       avg_satisfaction  avg_delivery_delay  \n",
       "0                   5.0                 6.0  \n",
       "1                   4.0                 3.0  \n",
       "2                   3.0                25.0  \n",
       "3                   4.0                20.0  \n",
       "4                   5.0                13.0  \n",
       "...                 ...                 ...  \n",
       "96091               5.0                27.0  \n",
       "96092               4.0                30.0  \n",
       "96093               5.0                14.0  \n",
       "96094               5.0                11.0  \n",
       "96095               5.0                 7.0  \n",
       "\n",
       "[96096 rows x 6 columns]"
      ]
     },
     "execution_count": 3,
     "metadata": {},
     "output_type": "execute_result"
    }
   ],
   "source": [
    "df"
   ]
  },
  {
   "cell_type": "code",
   "execution_count": 4,
   "metadata": {},
   "outputs": [],
   "source": [
    "tsne = TSNE(random_state=42)\n",
    "X_tsne_pca = tsne.fit_transform(df)"
   ]
  },
  {
   "cell_type": "code",
   "execution_count": 5,
   "metadata": {},
   "outputs": [
    {
     "data": {
      "text/plain": [
       "Text(0.5, 1.0, 'TSNE without PCA')"
      ]
     },
     "execution_count": 5,
     "metadata": {},
     "output_type": "execute_result"
    },
    {
     "data": {
      "image/png": "[encoded data removed]",
      "text/plain": [
       "<Figure size 1200x500 with 1 Axes>"
      ]
     },
     "metadata": {},
     "output_type": "display_data"
    }
   ],
   "source": [
    "plt.figure(figsize=(12,5))\n",
    "plt.scatter(X_tsne_pca[:, 0], X_tsne_pca[:, 1],\n",
    "            edgecolor='none', alpha=0.7, s=40)\n",
    "plt.title('TSNE without PCA')"
   ]
  },
  {
   "cell_type": "code",
   "execution_count": 6,
   "metadata": {},
   "outputs": [
    {
     "data": {
      "image/png": "[encoded data removed]",
      "text/plain": [
       "<Figure size 1500x300 with 2 Axes>"
      ]
     },
     "metadata": {},
     "output_type": "display_data"
    },
    {
     "data": {
      "text/plain": [
       "<Figure size 1000x300 with 0 Axes>"
      ]
     },
     "metadata": {},
     "output_type": "display_data"
    }
   ],
   "source": [
    "show_segmentation(X_tsne_pca, 4)"
   ]
  },
  {
   "cell_type": "code",
   "execution_count": 7,
   "metadata": {},
   "outputs": [
    {
     "data": {
      "image/png": "[encoded data removed]",
      "text/plain": [
       "<Figure size 1200x500 with 1 Axes>"
      ]
     },
     "metadata": {},
     "output_type": "display_data"
    },
    {
     "name": "stdout",
     "output_type": "stream",
     "text": [
      "n_clusters 320\n"
     ]
    },
    {
     "data": {
      "image/png": "[encoded data removed]",
      "text/plain": [
       "<Figure size 800x600 with 1 Axes>"
      ]
     },
     "metadata": {},
     "output_type": "display_data"
    }
   ],
   "source": [
    "cluster_label = do_dbscan(X_tsne_pca, \"DB SCAN with PCA & with reviews\")"
   ]
  },
  {
   "cell_type": "markdown",
   "metadata": {},
   "source": [
    "#### PCA Explainability (without review)"
   ]
  },
  {
   "cell_type": "code",
   "execution_count": 8,
   "metadata": {},
   "outputs": [
    {
     "data": {
      "image/png": "[encoded data removed]",
      "text/plain": [
       "<Figure size 1000x300 with 1 Axes>"
      ]
     },
     "metadata": {},
     "output_type": "display_data"
    }
   ],
   "source": [
    "pca = PCA().fit(X_tsne_pca)\n",
    "\n",
    "plt.figure(figsize=(10,3))\n",
    "plt.plot(np.cumsum(pca.explained_variance_ratio_), color='k', lw=2)\n",
    "plt.xlabel('Number of components')\n",
    "plt.ylabel('Total explained variance')\n",
    "plt.xlim(0, 5)\n",
    "plt.yticks(np.arange(0, 1.1, 0.1))\n",
    "plt.show()"
   ]
  },
  {
   "cell_type": "code",
   "execution_count": 9,
   "metadata": {},
   "outputs": [
    {
     "name": "stdout",
     "output_type": "stream",
     "text": [
      "              Feature   Loading\n",
      "3           rfm_score  0.999928\n",
      "0       recency_score  0.009961\n",
      "2      monetary_score  0.000362\n",
      "1     frequency_score  0.000344\n",
      "4    avg_satisfaction  0.000338\n",
      "5  avg_delivery_delay -0.006606\n"
     ]
    }
   ],
   "source": [
    "# perform PCA on the data  \n",
    "pca = PCA(n_components=1)  \n",
    "pca.fit(df)  \n",
    "  \n",
    "# get the loadings for the first principal component  \n",
    "loadings = pca.components_[0]  \n",
    "  \n",
    "# create a dataframe to display the loadings  \n",
    "loadings_df = pd.DataFrame({'Feature': df.columns, 'Loading': loadings})  \n",
    "loadings_df = loadings_df.sort_values('Loading', ascending=False)  \n",
    "  \n",
    "print(loadings_df)  "
   ]
  },
  {
   "cell_type": "code",
   "execution_count": 10,
   "metadata": {},
   "outputs": [],
   "source": [
    "explained_variance = pca.explained_variance_ratio_[0] # explained variance of the first principal component  \n",
    "feature_contrib = loadings_df['Loading'].apply(lambda x: x**2)  \n",
    "loadings_df[\"Contribution\"] = round(feature_contrib / feature_contrib.sum() * explained_variance,5) "
   ]
  },
  {
   "cell_type": "code",
   "execution_count": 11,
   "metadata": {},
   "outputs": [
    {
     "data": {
      "text/html": [
       "<div>\n",
       "<style scoped>\n",
       "    .dataframe tbody tr th:only-of-type {\n",
       "        vertical-align: middle;\n",
       "    }\n",
       "\n",
       "    .dataframe tbody tr th {\n",
       "        vertical-align: top;\n",
       "    }\n",
       "\n",
       "    .dataframe thead th {\n",
       "        text-align: right;\n",
       "    }\n",
       "</style>\n",
       "<table border=\"1\" class=\"dataframe\">\n",
       "  <thead>\n",
       "    <tr style=\"text-align: right;\">\n",
       "      <th></th>\n",
       "      <th>Feature</th>\n",
       "      <th>Loading</th>\n",
       "      <th>Contribution</th>\n",
       "    </tr>\n",
       "  </thead>\n",
       "  <tbody>\n",
       "    <tr>\n",
       "      <th>3</th>\n",
       "      <td>rfm_score</td>\n",
       "      <td>0.999928</td>\n",
       "      <td>0.99506</td>\n",
       "    </tr>\n",
       "    <tr>\n",
       "      <th>0</th>\n",
       "      <td>recency_score</td>\n",
       "      <td>0.009961</td>\n",
       "      <td>0.00010</td>\n",
       "    </tr>\n",
       "    <tr>\n",
       "      <th>2</th>\n",
       "      <td>monetary_score</td>\n",
       "      <td>0.000362</td>\n",
       "      <td>0.00000</td>\n",
       "    </tr>\n",
       "    <tr>\n",
       "      <th>1</th>\n",
       "      <td>frequency_score</td>\n",
       "      <td>0.000344</td>\n",
       "      <td>0.00000</td>\n",
       "    </tr>\n",
       "    <tr>\n",
       "      <th>4</th>\n",
       "      <td>avg_satisfaction</td>\n",
       "      <td>0.000338</td>\n",
       "      <td>0.00000</td>\n",
       "    </tr>\n",
       "    <tr>\n",
       "      <th>5</th>\n",
       "      <td>avg_delivery_delay</td>\n",
       "      <td>-0.006606</td>\n",
       "      <td>0.00004</td>\n",
       "    </tr>\n",
       "  </tbody>\n",
       "</table>\n",
       "</div>"
      ],
      "text/plain": [
       "              Feature   Loading  Contribution\n",
       "3           rfm_score  0.999928       0.99506\n",
       "0       recency_score  0.009961       0.00010\n",
       "2      monetary_score  0.000362       0.00000\n",
       "1     frequency_score  0.000344       0.00000\n",
       "4    avg_satisfaction  0.000338       0.00000\n",
       "5  avg_delivery_delay -0.006606       0.00004"
      ]
     },
     "execution_count": 11,
     "metadata": {},
     "output_type": "execute_result"
    }
   ],
   "source": [
    "loadings_df"
   ]
  },
  {
   "cell_type": "code",
   "execution_count": 14,
   "metadata": {},
   "outputs": [],
   "source": [
    "def plot_radars(data, group):\n",
    "\n",
    "    scaler = MinMaxScaler()\n",
    "    data = pd.DataFrame(scaler.fit_transform(data), \n",
    "                        index=data.index,\n",
    "                        columns=data.columns).reset_index()\n",
    "    \n",
    "    fig = go.Figure()\n",
    "\n",
    "    for k in data[group]:\n",
    "        fig.add_trace(go.Scatterpolar(\n",
    "            r=data[data[group]==k].iloc[:,1:].values.reshape(-1),\n",
    "            theta=data.columns[1:],\n",
    "            fill='toself',\n",
    "            name='Cluster '+str(k)\n",
    "        ))\n",
    "\n",
    "    fig.update_layout(\n",
    "        polar=dict(\n",
    "        radialaxis=dict(\n",
    "          visible=True,\n",
    "          range=[0, 1]\n",
    "        )),\n",
    "        showlegend=True,\n",
    "        title={\n",
    "            'text': \"Clusters mean\",\n",
    "            'y':0.95,\n",
    "            'x':0.5,\n",
    "            'xanchor': 'center',\n",
    "            'yanchor': 'top'},\n",
    "        title_font_color=\"blue\",\n",
    "        title_font_size=18)\n",
    "\n",
    "    fig.show()"
   ]
  },
  {
   "cell_type": "code",
   "execution_count": 12,
   "metadata": {},
   "outputs": [
    {
     "data": {
      "text/html": [
       "<div>\n",
       "<style scoped>\n",
       "    .dataframe tbody tr th:only-of-type {\n",
       "        vertical-align: middle;\n",
       "    }\n",
       "\n",
       "    .dataframe tbody tr th {\n",
       "        vertical-align: top;\n",
       "    }\n",
       "\n",
       "    .dataframe thead th {\n",
       "        text-align: right;\n",
       "    }\n",
       "</style>\n",
       "<table border=\"1\" class=\"dataframe\">\n",
       "  <thead>\n",
       "    <tr style=\"text-align: right;\">\n",
       "      <th></th>\n",
       "      <th>recency_score</th>\n",
       "      <th>frequency_score</th>\n",
       "      <th>monetary_score</th>\n",
       "      <th>rfm_score</th>\n",
       "      <th>avg_satisfaction</th>\n",
       "      <th>avg_delivery_delay</th>\n",
       "    </tr>\n",
       "    <tr>\n",
       "      <th>cluster_labels</th>\n",
       "      <th></th>\n",
       "      <th></th>\n",
       "      <th></th>\n",
       "      <th></th>\n",
       "      <th></th>\n",
       "      <th></th>\n",
       "    </tr>\n",
       "  </thead>\n",
       "  <tbody>\n",
       "    <tr>\n",
       "      <th>0</th>\n",
       "      <td>4.000000</td>\n",
       "      <td>1.000000</td>\n",
       "      <td>4.000000</td>\n",
       "      <td>414.000000</td>\n",
       "      <td>5.000000</td>\n",
       "      <td>6.000000</td>\n",
       "    </tr>\n",
       "    <tr>\n",
       "      <th>1</th>\n",
       "      <td>2.943353</td>\n",
       "      <td>1.211884</td>\n",
       "      <td>3.097723</td>\n",
       "      <td>309.551822</td>\n",
       "      <td>3.399821</td>\n",
       "      <td>13.969746</td>\n",
       "    </tr>\n",
       "    <tr>\n",
       "      <th>2</th>\n",
       "      <td>2.000000</td>\n",
       "      <td>1.000000</td>\n",
       "      <td>5.000000</td>\n",
       "      <td>215.000000</td>\n",
       "      <td>5.000000</td>\n",
       "      <td>13.000000</td>\n",
       "    </tr>\n",
       "    <tr>\n",
       "      <th>3</th>\n",
       "      <td>2.000000</td>\n",
       "      <td>1.000000</td>\n",
       "      <td>3.000000</td>\n",
       "      <td>213.000000</td>\n",
       "      <td>5.000000</td>\n",
       "      <td>10.000000</td>\n",
       "    </tr>\n",
       "    <tr>\n",
       "      <th>4</th>\n",
       "      <td>4.000000</td>\n",
       "      <td>1.000000</td>\n",
       "      <td>2.000000</td>\n",
       "      <td>412.000000</td>\n",
       "      <td>5.000000</td>\n",
       "      <td>15.000000</td>\n",
       "    </tr>\n",
       "    <tr>\n",
       "      <th>...</th>\n",
       "      <td>...</td>\n",
       "      <td>...</td>\n",
       "      <td>...</td>\n",
       "      <td>...</td>\n",
       "      <td>...</td>\n",
       "      <td>...</td>\n",
       "    </tr>\n",
       "    <tr>\n",
       "      <th>315</th>\n",
       "      <td>2.000000</td>\n",
       "      <td>1.000000</td>\n",
       "      <td>4.000000</td>\n",
       "      <td>214.000000</td>\n",
       "      <td>5.000000</td>\n",
       "      <td>19.000000</td>\n",
       "    </tr>\n",
       "    <tr>\n",
       "      <th>316</th>\n",
       "      <td>3.000000</td>\n",
       "      <td>1.000000</td>\n",
       "      <td>2.000000</td>\n",
       "      <td>312.000000</td>\n",
       "      <td>5.000000</td>\n",
       "      <td>3.000000</td>\n",
       "    </tr>\n",
       "    <tr>\n",
       "      <th>317</th>\n",
       "      <td>3.000000</td>\n",
       "      <td>1.000000</td>\n",
       "      <td>1.000000</td>\n",
       "      <td>311.000000</td>\n",
       "      <td>4.000000</td>\n",
       "      <td>7.000000</td>\n",
       "    </tr>\n",
       "    <tr>\n",
       "      <th>318</th>\n",
       "      <td>1.000000</td>\n",
       "      <td>1.000000</td>\n",
       "      <td>2.000000</td>\n",
       "      <td>112.000000</td>\n",
       "      <td>5.000000</td>\n",
       "      <td>19.000000</td>\n",
       "    </tr>\n",
       "    <tr>\n",
       "      <th>319</th>\n",
       "      <td>1.000000</td>\n",
       "      <td>1.000000</td>\n",
       "      <td>1.000000</td>\n",
       "      <td>111.000000</td>\n",
       "      <td>5.000000</td>\n",
       "      <td>16.000000</td>\n",
       "    </tr>\n",
       "  </tbody>\n",
       "</table>\n",
       "<p>320 rows × 6 columns</p>\n",
       "</div>"
      ],
      "text/plain": [
       "                recency_score  frequency_score  monetary_score   rfm_score  \\\n",
       "cluster_labels                                                               \n",
       "0                    4.000000         1.000000        4.000000  414.000000   \n",
       "1                    2.943353         1.211884        3.097723  309.551822   \n",
       "2                    2.000000         1.000000        5.000000  215.000000   \n",
       "3                    2.000000         1.000000        3.000000  213.000000   \n",
       "4                    4.000000         1.000000        2.000000  412.000000   \n",
       "...                       ...              ...             ...         ...   \n",
       "315                  2.000000         1.000000        4.000000  214.000000   \n",
       "316                  3.000000         1.000000        2.000000  312.000000   \n",
       "317                  3.000000         1.000000        1.000000  311.000000   \n",
       "318                  1.000000         1.000000        2.000000  112.000000   \n",
       "319                  1.000000         1.000000        1.000000  111.000000   \n",
       "\n",
       "                avg_satisfaction  avg_delivery_delay  \n",
       "cluster_labels                                        \n",
       "0                       5.000000            6.000000  \n",
       "1                       3.399821           13.969746  \n",
       "2                       5.000000           13.000000  \n",
       "3                       5.000000           10.000000  \n",
       "4                       5.000000           15.000000  \n",
       "...                          ...                 ...  \n",
       "315                     5.000000           19.000000  \n",
       "316                     5.000000            3.000000  \n",
       "317                     4.000000            7.000000  \n",
       "318                     5.000000           19.000000  \n",
       "319                     5.000000           16.000000  \n",
       "\n",
       "[320 rows x 6 columns]"
      ]
     },
     "execution_count": 12,
     "metadata": {},
     "output_type": "execute_result"
    }
   ],
   "source": [
    "from sklearn.compose import ColumnTransformer, make_column_transformer\n",
    "\n",
    "X_test = pd.DataFrame(df, index=df.index, columns=df.columns)\n",
    "X_test[\"cluster_labels\"] = cluster_label\n",
    "\n",
    "X_test_clusters = X_test.groupby(\"cluster_labels\").mean()\n",
    "X_test_clusters"
   ]
  },
  {
   "cell_type": "code",
   "execution_count": 15,
   "metadata": {},
   "outputs": [
    {
     "data": {
      "application/vnd.plotly.v1+json": {
       "config": {
        "plotlyServerURL": "https://plot.ly"
       },
       "data": [
        {
         "fill": "toself",
         "name": "Cluster 0",
         "r": [
          0.75,
          0,
          0.75,
          0.75,
          1,
          0.23809523809523808
         ],
         "theta": [
          "recency_score",
          "frequency_score",
          "monetary_score",
          "rfm_score",
          "avg_satisfaction",
          "avg_delivery_delay"
         ],
         "type": "scatterpolar"
        },
        {
         "fill": "toself",
         "name": "Cluster 1",
         "r": [
          0.4858381349641203,
          1,
          0.5244308741913818,
          0.49146490659175857,
          0,
          0.6176069331900458
         ],
         "theta": [
          "recency_score",
          "frequency_score",
          "monetary_score",
          "rfm_score",
          "avg_satisfaction",
          "avg_delivery_delay"
         ],
         "type": "scatterpolar"
        },
        {
         "fill": "toself",
         "name": "Cluster 2",
         "r": [
          0.25,
          0,
          1,
          0.25742574257425743,
          1,
          0.5714285714285714
         ],
         "theta": [
          "recency_score",
          "frequency_score",
          "monetary_score",
          "rfm_score",
          "avg_satisfaction",
          "avg_delivery_delay"
         ],
         "type": "scatterpolar"
        },
        {
         "fill": "toself",
         "name": "Cluster 3",
         "r": [
          0.25,
          0,
          0.5,
          0.2524752475247525,
          1,
          0.42857142857142855
         ],
         "theta": [
          "recency_score",
          "frequency_score",
          "monetary_score",
          "rfm_score",
          "avg_satisfaction",
          "avg_delivery_delay"
         ],
         "type": "scatterpolar"
        },
        {
         "fill": "toself",
         "name": "Cluster 4",
         "r": [
          0.75,
          0,
          0.25,
          0.745049504950495,
          1,
          0.6666666666666665
         ],
         "theta": [
          "recency_score",
          "frequency_score",
          "monetary_score",
          "rfm_score",
          "avg_satisfaction",
          "avg_delivery_delay"
         ],
         "type": "scatterpolar"
        },
        {
         "fill": "toself",
         "name": "Cluster 5",
         "r": [
          0.5,
          0,
          0,
          0.49504950495049505,
          1,
          0.6190476190476191
         ],
         "theta": [
          "recency_score",
          "frequency_score",
          "monetary_score",
          "rfm_score",
          "avg_satisfaction",
          "avg_delivery_delay"
         ],
         "type": "scatterpolar"
        },
        {
         "fill": "toself",
         "name": "Cluster 6",
         "r": [
          0.5,
          0,
          0,
          0.49504950495049505,
          1,
          0.09523809523809523
         ],
         "theta": [
          "recency_score",
          "frequency_score",
          "monetary_score",
          "rfm_score",
          "avg_satisfaction",
          "avg_delivery_delay"
         ],
         "type": "scatterpolar"
        },
        {
         "fill": "toself",
         "name": "Cluster 7",
         "r": [
          1,
          0,
          0,
          0.9900990099009901,
          1,
          0.23809523809523808
         ],
         "theta": [
          "recency_score",
          "frequency_score",
          "monetary_score",
          "rfm_score",
          "avg_satisfaction",
          "avg_delivery_delay"
         ],
         "type": "scatterpolar"
        },
        {
         "fill": "toself",
         "name": "Cluster 8",
         "r": [
          0.75,
          0,
          0,
          0.7425742574257426,
          1,
          0.047619047619047616
         ],
         "theta": [
          "recency_score",
          "frequency_score",
          "monetary_score",
          "rfm_score",
          "avg_satisfaction",
          "avg_delivery_delay"
         ],
         "type": "scatterpolar"
        },
        {
         "fill": "toself",
         "name": "Cluster 9",
         "r": [
          1,
          0,
          1,
          1,
          1,
          0.3333333333333333
         ],
         "theta": [
          "recency_score",
          "frequency_score",
          "monetary_score",
          "rfm_score",
          "avg_satisfaction",
          "avg_delivery_delay"
         ],
         "type": "scatterpolar"
        },
        {
         "fill": "toself",
         "name": "Cluster 10",
         "r": [
          0,
          0,
          0.75,
          0.007425742574257432,
          1,
          0.3333333333333333
         ],
         "theta": [
          "recency_score",
          "frequency_score",
          "monetary_score",
          "rfm_score",
          "avg_satisfaction",
          "avg_delivery_delay"
         ],
         "type": "scatterpolar"
        },
        {
         "fill": "toself",
         "name": "Cluster 11",
         "r": [
          0,
          0,
          0.5,
          0.004950495049504955,
          1,
          0.4761904761904761
         ],
         "theta": [
          "recency_score",
          "frequency_score",
          "monetary_score",
          "rfm_score",
          "avg_satisfaction",
          "avg_delivery_delay"
         ],
         "type": "scatterpolar"
        },
        {
         "fill": "toself",
         "name": "Cluster 12",
         "r": [
          0.5,
          0,
          0.5,
          0.5,
          1,
          0.3333333333333333
         ],
         "theta": [
          "recency_score",
          "frequency_score",
          "monetary_score",
          "rfm_score",
          "avg_satisfaction",
          "avg_delivery_delay"
         ],
         "type": "scatterpolar"
        },
        {
         "fill": "toself",
         "name": "Cluster 13",
         "r": [
          1,
          0,
          0.25,
          0.9925742574257426,
          1,
          0.09523809523809523
         ],
         "theta": [
          "recency_score",
          "frequency_score",
          "monetary_score",
          "rfm_score",
          "avg_satisfaction",
          "avg_delivery_delay"
         ],
         "type": "scatterpolar"
        },
        {
         "fill": "toself",
         "name": "Cluster 14",
         "r": [
          0.75,
          0,
          0,
          0.7425742574257426,
          1,
          0.7619047619047619
         ],
         "theta": [
          "recency_score",
          "frequency_score",
          "monetary_score",
          "rfm_score",
          "avg_satisfaction",
          "avg_delivery_delay"
         ],
         "type": "scatterpolar"
        },
        {
         "fill": "toself",
         "name": "Cluster 15",
         "r": [
          1,
          0,
          0.25,
          0.9925742574257426,
          1,
          0.2857142857142857
         ],
         "theta": [
          "recency_score",
          "frequency_score",
          "monetary_score",
          "rfm_score",
          "avg_satisfaction",
          "avg_delivery_delay"
         ],
         "type": "scatterpolar"
        },
        {
         "fill": "toself",
         "name": "Cluster 16",
         "r": [
          0.75,
          0,
          0,
          0.7425742574257426,
          1,
          0.09523809523809523
         ],
         "theta": [
          "recency_score",
          "frequency_score",
          "monetary_score",
          "rfm_score",
          "avg_satisfaction",
          "avg_delivery_delay"
         ],
         "type": "scatterpolar"
        },
        {
         "fill": "toself",
         "name": "Cluster 17",
         "r": [
          0.5,
          0,
          0.5,
          0.5,
          1,
          0.38095238095238093
         ],
         "theta": [
          "recency_score",
          "frequency_score",
          "monetary_score",
          "rfm_score",
          "avg_satisfaction",
          "avg_delivery_delay"
         ],
         "type": "scatterpolar"
        },
        {
         "fill": "toself",
         "name": "Cluster 18",
         "r": [
          0.5,
          0,
          0,
          0.49504950495049505,
          1,
          0.3333333333333333
         ],
         "theta": [
          "recency_score",
          "frequency_score",
          "monetary_score",
          "rfm_score",
          "avg_satisfaction",
          "avg_delivery_delay"
         ],
         "type": "scatterpolar"
        },
        {
         "fill": "toself",
         "name": "Cluster 19",
         "r": [
          0,
          0,
          0.75,
          0.007425742574257432,
          1,
          0.38095238095238093
         ],
         "theta": [
          "recency_score",
          "frequency_score",
          "monetary_score",
          "rfm_score",
          "avg_satisfaction",
          "avg_delivery_delay"
         ],
         "type": "scatterpolar"
        },
        {
         "fill": "toself",
         "name": "Cluster 20",
         "r": [
          0,
          0,
          0.75,
          0.007425742574257432,
          1,
          0.5238095238095237
         ],
         "theta": [
          "recency_score",
          "frequency_score",
          "monetary_score",
          "rfm_score",
          "avg_satisfaction",
          "avg_delivery_delay"
         ],
         "type": "scatterpolar"
        },
        {
         "fill": "toself",
         "name": "Cluster 21",
         "r": [
          0.25,
          0,
          0.25,
          0.25,
          1,
          0.23809523809523808
         ],
         "theta": [
          "recency_score",
          "frequency_score",
          "monetary_score",
          "rfm_score",
          "avg_satisfaction",
          "avg_delivery_delay"
         ],
         "type": "scatterpolar"
        },
        {
         "fill": "toself",
         "name": "Cluster 22",
         "r": [
          1,
          0,
          1,
          1,
          1,
          0.38095238095238093
         ],
         "theta": [
          "recency_score",
          "frequency_score",
          "monetary_score",
          "rfm_score",
          "avg_satisfaction",
          "avg_delivery_delay"
         ],
         "type": "scatterpolar"
        },
        {
         "fill": "toself",
         "name": "Cluster 23",
         "r": [
          0,
          0,
          0,
          0,
          1,
          0.5238095238095237
         ],
         "theta": [
          "recency_score",
          "frequency_score",
          "monetary_score",
          "rfm_score",
          "avg_satisfaction",
          "avg_delivery_delay"
         ],
         "type": "scatterpolar"
        },
        {
         "fill": "toself",
         "name": "Cluster 24",
         "r": [
          1,
          0,
          0.25,
          0.9925742574257426,
          1,
          0.23809523809523808
         ],
         "theta": [
          "recency_score",
          "frequency_score",
          "monetary_score",
          "rfm_score",
          "avg_satisfaction",
          "avg_delivery_delay"
         ],
         "type": "scatterpolar"
        },
        {
         "fill": "toself",
         "name": "Cluster 25",
         "r": [
          1,
          0,
          1,
          1,
          1,
          0.42857142857142855
         ],
         "theta": [
          "recency_score",
          "frequency_score",
          "monetary_score",
          "rfm_score",
          "avg_satisfaction",
          "avg_delivery_delay"
         ],
         "type": "scatterpolar"
        },
        {
         "fill": "toself",
         "name": "Cluster 26",
         "r": [
          0.75,
          0,
          0,
          0.7425742574257426,
          1,
          0.3333333333333333
         ],
         "theta": [
          "recency_score",
          "frequency_score",
          "monetary_score",
          "rfm_score",
          "avg_satisfaction",
          "avg_delivery_delay"
         ],
         "type": "scatterpolar"
        },
        {
         "fill": "toself",
         "name": "Cluster 27",
         "r": [
          0,
          0,
          0,
          0,
          1,
          0.6190476190476191
         ],
         "theta": [
          "recency_score",
          "frequency_score",
          "monetary_score",
          "rfm_score",
          "avg_satisfaction",
          "avg_delivery_delay"
         ],
         "type": "scatterpolar"
        },
        {
         "fill": "toself",
         "name": "Cluster 28",
         "r": [
          0,
          0,
          1,
          0.00990099009900991,
          1,
          0.5714285714285714
         ],
         "theta": [
          "recency_score",
          "frequency_score",
          "monetary_score",
          "rfm_score",
          "avg_satisfaction",
          "avg_delivery_delay"
         ],
         "type": "scatterpolar"
        },
        {
         "fill": "toself",
         "name": "Cluster 29",
         "r": [
          0.75,
          0,
          0.5,
          0.7475247524752475,
          1,
          0.14285714285714285
         ],
         "theta": [
          "recency_score",
          "frequency_score",
          "monetary_score",
          "rfm_score",
          "avg_satisfaction",
          "avg_delivery_delay"
         ],
         "type": "scatterpolar"
        },
        {
         "fill": "toself",
         "name": "Cluster 30",
         "r": [
          1,
          0,
          0.75,
          0.9975247524752475,
          1,
          0.5714285714285714
         ],
         "theta": [
          "recency_score",
          "frequency_score",
          "monetary_score",
          "rfm_score",
          "avg_satisfaction",
          "avg_delivery_delay"
         ],
         "type": "scatterpolar"
        },
        {
         "fill": "toself",
         "name": "Cluster 31",
         "r": [
          1,
          0,
          0.5,
          0.995049504950495,
          1,
          0.38095238095238093
         ],
         "theta": [
          "recency_score",
          "frequency_score",
          "monetary_score",
          "rfm_score",
          "avg_satisfaction",
          "avg_delivery_delay"
         ],
         "type": "scatterpolar"
        },
        {
         "fill": "toself",
         "name": "Cluster 32",
         "r": [
          0.75,
          0,
          0,
          0.7425742574257426,
          1,
          0.2857142857142857
         ],
         "theta": [
          "recency_score",
          "frequency_score",
          "monetary_score",
          "rfm_score",
          "avg_satisfaction",
          "avg_delivery_delay"
         ],
         "type": "scatterpolar"
        },
        {
         "fill": "toself",
         "name": "Cluster 33",
         "r": [
          1,
          0,
          0.25,
          0.9925742574257426,
          1,
          0.19047619047619047
         ],
         "theta": [
          "recency_score",
          "frequency_score",
          "monetary_score",
          "rfm_score",
          "avg_satisfaction",
          "avg_delivery_delay"
         ],
         "type": "scatterpolar"
        },
        {
         "fill": "toself",
         "name": "Cluster 34",
         "r": [
          0.75,
          0,
          1,
          0.7524752475247525,
          1,
          0.5238095238095237
         ],
         "theta": [
          "recency_score",
          "frequency_score",
          "monetary_score",
          "rfm_score",
          "avg_satisfaction",
          "avg_delivery_delay"
         ],
         "type": "scatterpolar"
        },
        {
         "fill": "toself",
         "name": "Cluster 35",
         "r": [
          0,
          0,
          0.25,
          0.0024752475247524774,
          1,
          0.3333333333333333
         ],
         "theta": [
          "recency_score",
          "frequency_score",
          "monetary_score",
          "rfm_score",
          "avg_satisfaction",
          "avg_delivery_delay"
         ],
         "type": "scatterpolar"
        },
        {
         "fill": "toself",
         "name": "Cluster 36",
         "r": [
          0,
          0,
          0.5,
          0.004950495049504955,
          1,
          0.23809523809523808
         ],
         "theta": [
          "recency_score",
          "frequency_score",
          "monetary_score",
          "rfm_score",
          "avg_satisfaction",
          "avg_delivery_delay"
         ],
         "type": "scatterpolar"
        },
        {
         "fill": "toself",
         "name": "Cluster 37",
         "r": [
          1,
          0,
          0,
          0.9900990099009901,
          1,
          0.2857142857142857
         ],
         "theta": [
          "recency_score",
          "frequency_score",
          "monetary_score",
          "rfm_score",
          "avg_satisfaction",
          "avg_delivery_delay"
         ],
         "type": "scatterpolar"
        },
        {
         "fill": "toself",
         "name": "Cluster 38",
         "r": [
          1,
          0,
          0.5,
          0.995049504950495,
          0.3750698914196504,
          0.14285714285714285
         ],
         "theta": [
          "recency_score",
          "frequency_score",
          "monetary_score",
          "rfm_score",
          "avg_satisfaction",
          "avg_delivery_delay"
         ],
         "type": "scatterpolar"
        },
        {
         "fill": "toself",
         "name": "Cluster 39",
         "r": [
          0.5,
          0,
          0,
          0.49504950495049505,
          1,
          0.2857142857142857
         ],
         "theta": [
          "recency_score",
          "frequency_score",
          "monetary_score",
          "rfm_score",
          "avg_satisfaction",
          "avg_delivery_delay"
         ],
         "type": "scatterpolar"
        },
        {
         "fill": "toself",
         "name": "Cluster 40",
         "r": [
          0.5,
          0,
          0.5,
          0.5,
          1,
          0.4761904761904761
         ],
         "theta": [
          "recency_score",
          "frequency_score",
          "monetary_score",
          "rfm_score",
          "avg_satisfaction",
          "avg_delivery_delay"
         ],
         "type": "scatterpolar"
        },
        {
         "fill": "toself",
         "name": "Cluster 41",
         "r": [
          1,
          0,
          0.75,
          0.9975247524752475,
          1,
          0.23809523809523808
         ],
         "theta": [
          "recency_score",
          "frequency_score",
          "monetary_score",
          "rfm_score",
          "avg_satisfaction",
          "avg_delivery_delay"
         ],
         "type": "scatterpolar"
        },
        {
         "fill": "toself",
         "name": "Cluster 42",
         "r": [
          0.75,
          0,
          0.25,
          0.745049504950495,
          1,
          0.5714285714285714
         ],
         "theta": [
          "recency_score",
          "frequency_score",
          "monetary_score",
          "rfm_score",
          "avg_satisfaction",
          "avg_delivery_delay"
         ],
         "type": "scatterpolar"
        },
        {
         "fill": "toself",
         "name": "Cluster 43",
         "r": [
          0,
          0,
          0.5,
          0.004950495049504955,
          1,
          0.38095238095238093
         ],
         "theta": [
          "recency_score",
          "frequency_score",
          "monetary_score",
          "rfm_score",
          "avg_satisfaction",
          "avg_delivery_delay"
         ],
         "type": "scatterpolar"
        },
        {
         "fill": "toself",
         "name": "Cluster 44",
         "r": [
          0.25,
          0,
          0.25,
          0.25,
          1,
          0.4761904761904761
         ],
         "theta": [
          "recency_score",
          "frequency_score",
          "monetary_score",
          "rfm_score",
          "avg_satisfaction",
          "avg_delivery_delay"
         ],
         "type": "scatterpolar"
        },
        {
         "fill": "toself",
         "name": "Cluster 45",
         "r": [
          0,
          0,
          1,
          0.00990099009900991,
          1,
          0.5238095238095237
         ],
         "theta": [
          "recency_score",
          "frequency_score",
          "monetary_score",
          "rfm_score",
          "avg_satisfaction",
          "avg_delivery_delay"
         ],
         "type": "scatterpolar"
        },
        {
         "fill": "toself",
         "name": "Cluster 46",
         "r": [
          1,
          0,
          0.75,
          0.9975247524752475,
          1,
          0.3333333333333333
         ],
         "theta": [
          "recency_score",
          "frequency_score",
          "monetary_score",
          "rfm_score",
          "avg_satisfaction",
          "avg_delivery_delay"
         ],
         "type": "scatterpolar"
        },
        {
         "fill": "toself",
         "name": "Cluster 47",
         "r": [
          0.75,
          0,
          0.5,
          0.7475247524752475,
          1,
          0.38095238095238093
         ],
         "theta": [
          "recency_score",
          "frequency_score",
          "monetary_score",
          "rfm_score",
          "avg_satisfaction",
          "avg_delivery_delay"
         ],
         "type": "scatterpolar"
        },
        {
         "fill": "toself",
         "name": "Cluster 48",
         "r": [
          0,
          0,
          0,
          0,
          1,
          0.38095238095238093
         ],
         "theta": [
          "recency_score",
          "frequency_score",
          "monetary_score",
          "rfm_score",
          "avg_satisfaction",
          "avg_delivery_delay"
         ],
         "type": "scatterpolar"
        },
        {
         "fill": "toself",
         "name": "Cluster 49",
         "r": [
          0.75,
          0,
          0.5,
          0.7475247524752475,
          1,
          0.23809523809523808
         ],
         "theta": [
          "recency_score",
          "frequency_score",
          "monetary_score",
          "rfm_score",
          "avg_satisfaction",
          "avg_delivery_delay"
         ],
         "type": "scatterpolar"
        },
        {
         "fill": "toself",
         "name": "Cluster 50",
         "r": [
          0.25,
          0,
          0,
          0.24752475247524752,
          1,
          0.3333333333333333
         ],
         "theta": [
          "recency_score",
          "frequency_score",
          "monetary_score",
          "rfm_score",
          "avg_satisfaction",
          "avg_delivery_delay"
         ],
         "type": "scatterpolar"
        },
        {
         "fill": "toself",
         "name": "Cluster 51",
         "r": [
          0.25,
          0,
          0.25,
          0.25,
          0.3750698914196504,
          0.19047619047619047
         ],
         "theta": [
          "recency_score",
          "frequency_score",
          "monetary_score",
          "rfm_score",
          "avg_satisfaction",
          "avg_delivery_delay"
         ],
         "type": "scatterpolar"
        },
        {
         "fill": "toself",
         "name": "Cluster 52",
         "r": [
          1,
          0,
          1,
          1,
          1,
          0.19047619047619047
         ],
         "theta": [
          "recency_score",
          "frequency_score",
          "monetary_score",
          "rfm_score",
          "avg_satisfaction",
          "avg_delivery_delay"
         ],
         "type": "scatterpolar"
        },
        {
         "fill": "toself",
         "name": "Cluster 53",
         "r": [
          0.25,
          0,
          1,
          0.25742574257425743,
          1,
          0.5238095238095237
         ],
         "theta": [
          "recency_score",
          "frequency_score",
          "monetary_score",
          "rfm_score",
          "avg_satisfaction",
          "avg_delivery_delay"
         ],
         "type": "scatterpolar"
        },
        {
         "fill": "toself",
         "name": "Cluster 54",
         "r": [
          0.25,
          0,
          1,
          0.25742574257425743,
          1,
          0.19047619047619047
         ],
         "theta": [
          "recency_score",
          "frequency_score",
          "monetary_score",
          "rfm_score",
          "avg_satisfaction",
          "avg_delivery_delay"
         ],
         "type": "scatterpolar"
        },
        {
         "fill": "toself",
         "name": "Cluster 55",
         "r": [
          0.75,
          0,
          0.75,
          0.75,
          1,
          0.7142857142857142
         ],
         "theta": [
          "recency_score",
          "frequency_score",
          "monetary_score",
          "rfm_score",
          "avg_satisfaction",
          "avg_delivery_delay"
         ],
         "type": "scatterpolar"
        },
        {
         "fill": "toself",
         "name": "Cluster 56",
         "r": [
          0.5,
          0,
          1,
          0.504950495049505,
          1,
          0.5238095238095237
         ],
         "theta": [
          "recency_score",
          "frequency_score",
          "monetary_score",
          "rfm_score",
          "avg_satisfaction",
          "avg_delivery_delay"
         ],
         "type": "scatterpolar"
        },
        {
         "fill": "toself",
         "name": "Cluster 57",
         "r": [
          1,
          0,
          0,
          0.9900990099009901,
          0.3750698914196504,
          0.19047619047619047
         ],
         "theta": [
          "recency_score",
          "frequency_score",
          "monetary_score",
          "rfm_score",
          "avg_satisfaction",
          "avg_delivery_delay"
         ],
         "type": "scatterpolar"
        },
        {
         "fill": "toself",
         "name": "Cluster 58",
         "r": [
          0.75,
          0,
          0.5,
          0.7475247524752475,
          1,
          0.42857142857142855
         ],
         "theta": [
          "recency_score",
          "frequency_score",
          "monetary_score",
          "rfm_score",
          "avg_satisfaction",
          "avg_delivery_delay"
         ],
         "type": "scatterpolar"
        },
        {
         "fill": "toself",
         "name": "Cluster 59",
         "r": [
          0.25,
          0,
          0.25,
          0.25,
          1,
          0.14285714285714285
         ],
         "theta": [
          "recency_score",
          "frequency_score",
          "monetary_score",
          "rfm_score",
          "avg_satisfaction",
          "avg_delivery_delay"
         ],
         "type": "scatterpolar"
        },
        {
         "fill": "toself",
         "name": "Cluster 60",
         "r": [
          0.5,
          0,
          0,
          0.49504950495049505,
          1,
          0.5238095238095237
         ],
         "theta": [
          "recency_score",
          "frequency_score",
          "monetary_score",
          "rfm_score",
          "avg_satisfaction",
          "avg_delivery_delay"
         ],
         "type": "scatterpolar"
        },
        {
         "fill": "toself",
         "name": "Cluster 61",
         "r": [
          1,
          0,
          0.25,
          0.9925742574257426,
          1,
          0.14285714285714285
         ],
         "theta": [
          "recency_score",
          "frequency_score",
          "monetary_score",
          "rfm_score",
          "avg_satisfaction",
          "avg_delivery_delay"
         ],
         "type": "scatterpolar"
        },
        {
         "fill": "toself",
         "name": "Cluster 62",
         "r": [
          0,
          0,
          1,
          0.00990099009900991,
          1,
          0.23809523809523808
         ],
         "theta": [
          "recency_score",
          "frequency_score",
          "monetary_score",
          "rfm_score",
          "avg_satisfaction",
          "avg_delivery_delay"
         ],
         "type": "scatterpolar"
        },
        {
         "fill": "toself",
         "name": "Cluster 63",
         "r": [
          0,
          0,
          0.25,
          0.0024752475247524774,
          1,
          0.5714285714285714
         ],
         "theta": [
          "recency_score",
          "frequency_score",
          "monetary_score",
          "rfm_score",
          "avg_satisfaction",
          "avg_delivery_delay"
         ],
         "type": "scatterpolar"
        },
        {
         "fill": "toself",
         "name": "Cluster 64",
         "r": [
          0.75,
          0,
          0.25,
          0.745049504950495,
          1,
          0.42857142857142855
         ],
         "theta": [
          "recency_score",
          "frequency_score",
          "monetary_score",
          "rfm_score",
          "avg_satisfaction",
          "avg_delivery_delay"
         ],
         "type": "scatterpolar"
        },
        {
         "fill": "toself",
         "name": "Cluster 65",
         "r": [
          0.75,
          0,
          0.25,
          0.745049504950495,
          1,
          0.2857142857142857
         ],
         "theta": [
          "recency_score",
          "frequency_score",
          "monetary_score",
          "rfm_score",
          "avg_satisfaction",
          "avg_delivery_delay"
         ],
         "type": "scatterpolar"
        },
        {
         "fill": "toself",
         "name": "Cluster 66",
         "r": [
          0.25,
          0,
          0,
          0.24752475247524752,
          1,
          0.38095238095238093
         ],
         "theta": [
          "recency_score",
          "frequency_score",
          "monetary_score",
          "rfm_score",
          "avg_satisfaction",
          "avg_delivery_delay"
         ],
         "type": "scatterpolar"
        },
        {
         "fill": "toself",
         "name": "Cluster 67",
         "r": [
          0.25,
          0,
          0.5,
          0.2524752475247525,
          1,
          0.23809523809523808
         ],
         "theta": [
          "recency_score",
          "frequency_score",
          "monetary_score",
          "rfm_score",
          "avg_satisfaction",
          "avg_delivery_delay"
         ],
         "type": "scatterpolar"
        },
        {
         "fill": "toself",
         "name": "Cluster 68",
         "r": [
          1,
          0,
          0.75,
          0.9975247524752475,
          1,
          0.4761904761904761
         ],
         "theta": [
          "recency_score",
          "frequency_score",
          "monetary_score",
          "rfm_score",
          "avg_satisfaction",
          "avg_delivery_delay"
         ],
         "type": "scatterpolar"
        },
        {
         "fill": "toself",
         "name": "Cluster 69",
         "r": [
          0.25,
          0,
          0.75,
          0.25495049504950495,
          1,
          0.19047619047619047
         ],
         "theta": [
          "recency_score",
          "frequency_score",
          "monetary_score",
          "rfm_score",
          "avg_satisfaction",
          "avg_delivery_delay"
         ],
         "type": "scatterpolar"
        },
        {
         "fill": "toself",
         "name": "Cluster 70",
         "r": [
          0,
          0,
          1,
          0.00990099009900991,
          1,
          0.857142857142857
         ],
         "theta": [
          "recency_score",
          "frequency_score",
          "monetary_score",
          "rfm_score",
          "avg_satisfaction",
          "avg_delivery_delay"
         ],
         "type": "scatterpolar"
        },
        {
         "fill": "toself",
         "name": "Cluster 71",
         "r": [
          0,
          0,
          0,
          0,
          1,
          0.3333333333333333
         ],
         "theta": [
          "recency_score",
          "frequency_score",
          "monetary_score",
          "rfm_score",
          "avg_satisfaction",
          "avg_delivery_delay"
         ],
         "type": "scatterpolar"
        },
        {
         "fill": "toself",
         "name": "Cluster 72",
         "r": [
          0.25,
          0,
          0.75,
          0.25495049504950495,
          1,
          0.3333333333333333
         ],
         "theta": [
          "recency_score",
          "frequency_score",
          "monetary_score",
          "rfm_score",
          "avg_satisfaction",
          "avg_delivery_delay"
         ],
         "type": "scatterpolar"
        },
        {
         "fill": "toself",
         "name": "Cluster 73",
         "r": [
          0.25,
          0,
          0,
          0.24752475247524752,
          1,
          0.2857142857142857
         ],
         "theta": [
          "recency_score",
          "frequency_score",
          "monetary_score",
          "rfm_score",
          "avg_satisfaction",
          "avg_delivery_delay"
         ],
         "type": "scatterpolar"
        },
        {
         "fill": "toself",
         "name": "Cluster 74",
         "r": [
          1,
          0,
          0.5,
          0.995049504950495,
          1,
          0
         ],
         "theta": [
          "recency_score",
          "frequency_score",
          "monetary_score",
          "rfm_score",
          "avg_satisfaction",
          "avg_delivery_delay"
         ],
         "type": "scatterpolar"
        },
        {
         "fill": "toself",
         "name": "Cluster 75",
         "r": [
          0,
          0,
          0.25,
          0.0024752475247524774,
          1,
          0.6190476190476191
         ],
         "theta": [
          "recency_score",
          "frequency_score",
          "monetary_score",
          "rfm_score",
          "avg_satisfaction",
          "avg_delivery_delay"
         ],
         "type": "scatterpolar"
        },
        {
         "fill": "toself",
         "name": "Cluster 76",
         "r": [
          0,
          0,
          0.75,
          0.007425742574257432,
          1,
          0.42857142857142855
         ],
         "theta": [
          "recency_score",
          "frequency_score",
          "monetary_score",
          "rfm_score",
          "avg_satisfaction",
          "avg_delivery_delay"
         ],
         "type": "scatterpolar"
        },
        {
         "fill": "toself",
         "name": "Cluster 77",
         "r": [
          0.25,
          0,
          0.5,
          0.2524752475247525,
          1,
          0.09523809523809523
         ],
         "theta": [
          "recency_score",
          "frequency_score",
          "monetary_score",
          "rfm_score",
          "avg_satisfaction",
          "avg_delivery_delay"
         ],
         "type": "scatterpolar"
        },
        {
         "fill": "toself",
         "name": "Cluster 78",
         "r": [
          0,
          0,
          0.25,
          0.0024752475247524774,
          0.3750698914196504,
          0.6190476190476191
         ],
         "theta": [
          "recency_score",
          "frequency_score",
          "monetary_score",
          "rfm_score",
          "avg_satisfaction",
          "avg_delivery_delay"
         ],
         "type": "scatterpolar"
        },
        {
         "fill": "toself",
         "name": "Cluster 79",
         "r": [
          1,
          0,
          0.5,
          0.995049504950495,
          1,
          0.19047619047619047
         ],
         "theta": [
          "recency_score",
          "frequency_score",
          "monetary_score",
          "rfm_score",
          "avg_satisfaction",
          "avg_delivery_delay"
         ],
         "type": "scatterpolar"
        },
        {
         "fill": "toself",
         "name": "Cluster 80",
         "r": [
          0,
          0,
          0,
          0,
          1,
          0.7619047619047619
         ],
         "theta": [
          "recency_score",
          "frequency_score",
          "monetary_score",
          "rfm_score",
          "avg_satisfaction",
          "avg_delivery_delay"
         ],
         "type": "scatterpolar"
        },
        {
         "fill": "toself",
         "name": "Cluster 81",
         "r": [
          0.75,
          0,
          1,
          0.7524752475247525,
          1,
          0.23809523809523808
         ],
         "theta": [
          "recency_score",
          "frequency_score",
          "monetary_score",
          "rfm_score",
          "avg_satisfaction",
          "avg_delivery_delay"
         ],
         "type": "scatterpolar"
        },
        {
         "fill": "toself",
         "name": "Cluster 82",
         "r": [
          0,
          0,
          1,
          0.00990099009900991,
          1,
          0.4761904761904761
         ],
         "theta": [
          "recency_score",
          "frequency_score",
          "monetary_score",
          "rfm_score",
          "avg_satisfaction",
          "avg_delivery_delay"
         ],
         "type": "scatterpolar"
        },
        {
         "fill": "toself",
         "name": "Cluster 83",
         "r": [
          0.5,
          0,
          0.75,
          0.5024752475247525,
          1,
          0.42857142857142855
         ],
         "theta": [
          "recency_score",
          "frequency_score",
          "monetary_score",
          "rfm_score",
          "avg_satisfaction",
          "avg_delivery_delay"
         ],
         "type": "scatterpolar"
        },
        {
         "fill": "toself",
         "name": "Cluster 84",
         "r": [
          0,
          0,
          0.75,
          0.007425742574257432,
          1,
          0.23809523809523808
         ],
         "theta": [
          "recency_score",
          "frequency_score",
          "monetary_score",
          "rfm_score",
          "avg_satisfaction",
          "avg_delivery_delay"
         ],
         "type": "scatterpolar"
        },
        {
         "fill": "toself",
         "name": "Cluster 85",
         "r": [
          0.75,
          0,
          1,
          0.7524752475247525,
          1,
          0.3333333333333333
         ],
         "theta": [
          "recency_score",
          "frequency_score",
          "monetary_score",
          "rfm_score",
          "avg_satisfaction",
          "avg_delivery_delay"
         ],
         "type": "scatterpolar"
        },
        {
         "fill": "toself",
         "name": "Cluster 86",
         "r": [
          0.25,
          0,
          0.25,
          0.25,
          1,
          0.6190476190476191
         ],
         "theta": [
          "recency_score",
          "frequency_score",
          "monetary_score",
          "rfm_score",
          "avg_satisfaction",
          "avg_delivery_delay"
         ],
         "type": "scatterpolar"
        },
        {
         "fill": "toself",
         "name": "Cluster 87",
         "r": [
          0.75,
          0,
          0.75,
          0.75,
          1,
          0.19047619047619047
         ],
         "theta": [
          "recency_score",
          "frequency_score",
          "monetary_score",
          "rfm_score",
          "avg_satisfaction",
          "avg_delivery_delay"
         ],
         "type": "scatterpolar"
        },
        {
         "fill": "toself",
         "name": "Cluster 88",
         "r": [
          0.5,
          0,
          0.5,
          0.5,
          1,
          0.6666666666666665
         ],
         "theta": [
          "recency_score",
          "frequency_score",
          "monetary_score",
          "rfm_score",
          "avg_satisfaction",
          "avg_delivery_delay"
         ],
         "type": "scatterpolar"
        },
        {
         "fill": "toself",
         "name": "Cluster 89",
         "r": [
          1,
          0,
          1,
          1,
          1,
          0.6190476190476191
         ],
         "theta": [
          "recency_score",
          "frequency_score",
          "monetary_score",
          "rfm_score",
          "avg_satisfaction",
          "avg_delivery_delay"
         ],
         "type": "scatterpolar"
        },
        {
         "fill": "toself",
         "name": "Cluster 90",
         "r": [
          0.25,
          0,
          0.25,
          0.25,
          1,
          0.19047619047619047
         ],
         "theta": [
          "recency_score",
          "frequency_score",
          "monetary_score",
          "rfm_score",
          "avg_satisfaction",
          "avg_delivery_delay"
         ],
         "type": "scatterpolar"
        },
        {
         "fill": "toself",
         "name": "Cluster 91",
         "r": [
          1,
          0,
          0.75,
          0.9975247524752475,
          1,
          0.38095238095238093
         ],
         "theta": [
          "recency_score",
          "frequency_score",
          "monetary_score",
          "rfm_score",
          "avg_satisfaction",
          "avg_delivery_delay"
         ],
         "type": "scatterpolar"
        },
        {
         "fill": "toself",
         "name": "Cluster 92",
         "r": [
          0.75,
          0,
          0.75,
          0.75,
          1,
          0.42857142857142855
         ],
         "theta": [
          "recency_score",
          "frequency_score",
          "monetary_score",
          "rfm_score",
          "avg_satisfaction",
          "avg_delivery_delay"
         ],
         "type": "scatterpolar"
        },
        {
         "fill": "toself",
         "name": "Cluster 93",
         "r": [
          0.5,
          0,
          0.25,
          0.4975247524752475,
          1,
          0.6666666666666665
         ],
         "theta": [
          "recency_score",
          "frequency_score",
          "monetary_score",
          "rfm_score",
          "avg_satisfaction",
          "avg_delivery_delay"
         ],
         "type": "scatterpolar"
        },
        {
         "fill": "toself",
         "name": "Cluster 94",
         "r": [
          0.75,
          0,
          0.25,
          0.745049504950495,
          1,
          0.38095238095238093
         ],
         "theta": [
          "recency_score",
          "frequency_score",
          "monetary_score",
          "rfm_score",
          "avg_satisfaction",
          "avg_delivery_delay"
         ],
         "type": "scatterpolar"
        },
        {
         "fill": "toself",
         "name": "Cluster 95",
         "r": [
          0.75,
          0,
          0.25,
          0.745049504950495,
          1,
          0.19047619047619047
         ],
         "theta": [
          "recency_score",
          "frequency_score",
          "monetary_score",
          "rfm_score",
          "avg_satisfaction",
          "avg_delivery_delay"
         ],
         "type": "scatterpolar"
        },
        {
         "fill": "toself",
         "name": "Cluster 96",
         "r": [
          1,
          0,
          1,
          1,
          1,
          0.2857142857142857
         ],
         "theta": [
          "recency_score",
          "frequency_score",
          "monetary_score",
          "rfm_score",
          "avg_satisfaction",
          "avg_delivery_delay"
         ],
         "type": "scatterpolar"
        },
        {
         "fill": "toself",
         "name": "Cluster 97",
         "r": [
          1,
          0,
          0.25,
          0.9925742574257426,
          1,
          0.42857142857142855
         ],
         "theta": [
          "recency_score",
          "frequency_score",
          "monetary_score",
          "rfm_score",
          "avg_satisfaction",
          "avg_delivery_delay"
         ],
         "type": "scatterpolar"
        },
        {
         "fill": "toself",
         "name": "Cluster 98",
         "r": [
          1,
          0,
          0,
          0.9900990099009901,
          1,
          0.047619047619047616
         ],
         "theta": [
          "recency_score",
          "frequency_score",
          "monetary_score",
          "rfm_score",
          "avg_satisfaction",
          "avg_delivery_delay"
         ],
         "type": "scatterpolar"
        },
        {
         "fill": "toself",
         "name": "Cluster 99",
         "r": [
          0,
          0,
          0.25,
          0.0024752475247524774,
          1,
          0.38095238095238093
         ],
         "theta": [
          "recency_score",
          "frequency_score",
          "monetary_score",
          "rfm_score",
          "avg_satisfaction",
          "avg_delivery_delay"
         ],
         "type": "scatterpolar"
        },
        {
         "fill": "toself",
         "name": "Cluster 100",
         "r": [
          0.75,
          0,
          1,
          0.7524752475247525,
          1,
          0.14285714285714285
         ],
         "theta": [
          "recency_score",
          "frequency_score",
          "monetary_score",
          "rfm_score",
          "avg_satisfaction",
          "avg_delivery_delay"
         ],
         "type": "scatterpolar"
        },
        {
         "fill": "toself",
         "name": "Cluster 101",
         "r": [
          0,
          0,
          0.5,
          0.004950495049504955,
          1,
          0.19047619047619047
         ],
         "theta": [
          "recency_score",
          "frequency_score",
          "monetary_score",
          "rfm_score",
          "avg_satisfaction",
          "avg_delivery_delay"
         ],
         "type": "scatterpolar"
        },
        {
         "fill": "toself",
         "name": "Cluster 102",
         "r": [
          0.25,
          0,
          0.75,
          0.25495049504950495,
          1,
          0.38095238095238093
         ],
         "theta": [
          "recency_score",
          "frequency_score",
          "monetary_score",
          "rfm_score",
          "avg_satisfaction",
          "avg_delivery_delay"
         ],
         "type": "scatterpolar"
        },
        {
         "fill": "toself",
         "name": "Cluster 103",
         "r": [
          0.25,
          0,
          1,
          0.25742574257425743,
          1,
          0.38095238095238093
         ],
         "theta": [
          "recency_score",
          "frequency_score",
          "monetary_score",
          "rfm_score",
          "avg_satisfaction",
          "avg_delivery_delay"
         ],
         "type": "scatterpolar"
        },
        {
         "fill": "toself",
         "name": "Cluster 104",
         "r": [
          0.75,
          0,
          0.75,
          0.75,
          1,
          0.09523809523809523
         ],
         "theta": [
          "recency_score",
          "frequency_score",
          "monetary_score",
          "rfm_score",
          "avg_satisfaction",
          "avg_delivery_delay"
         ],
         "type": "scatterpolar"
        },
        {
         "fill": "toself",
         "name": "Cluster 105",
         "r": [
          1,
          0,
          0.75,
          0.9975247524752475,
          0.3750698914196504,
          0.3333333333333333
         ],
         "theta": [
          "recency_score",
          "frequency_score",
          "monetary_score",
          "rfm_score",
          "avg_satisfaction",
          "avg_delivery_delay"
         ],
         "type": "scatterpolar"
        },
        {
         "fill": "toself",
         "name": "Cluster 106",
         "r": [
          0,
          0,
          1,
          0.00990099009900991,
          1,
          0.3333333333333333
         ],
         "theta": [
          "recency_score",
          "frequency_score",
          "monetary_score",
          "rfm_score",
          "avg_satisfaction",
          "avg_delivery_delay"
         ],
         "type": "scatterpolar"
        },
        {
         "fill": "toself",
         "name": "Cluster 107",
         "r": [
          0,
          0,
          1,
          0.00990099009900991,
          1,
          0.38095238095238093
         ],
         "theta": [
          "recency_score",
          "frequency_score",
          "monetary_score",
          "rfm_score",
          "avg_satisfaction",
          "avg_delivery_delay"
         ],
         "type": "scatterpolar"
        },
        {
         "fill": "toself",
         "name": "Cluster 108",
         "r": [
          0.75,
          0,
          0,
          0.7425742574257426,
          1,
          0.38095238095238093
         ],
         "theta": [
          "recency_score",
          "frequency_score",
          "monetary_score",
          "rfm_score",
          "avg_satisfaction",
          "avg_delivery_delay"
         ],
         "type": "scatterpolar"
        },
        {
         "fill": "toself",
         "name": "Cluster 109",
         "r": [
          1,
          0,
          0,
          0.9900990099009901,
          1,
          0.14285714285714285
         ],
         "theta": [
          "recency_score",
          "frequency_score",
          "monetary_score",
          "rfm_score",
          "avg_satisfaction",
          "avg_delivery_delay"
         ],
         "type": "scatterpolar"
        },
        {
         "fill": "toself",
         "name": "Cluster 110",
         "r": [
          0.75,
          0,
          0.5,
          0.7475247524752475,
          1,
          0.2857142857142857
         ],
         "theta": [
          "recency_score",
          "frequency_score",
          "monetary_score",
          "rfm_score",
          "avg_satisfaction",
          "avg_delivery_delay"
         ],
         "type": "scatterpolar"
        },
        {
         "fill": "toself",
         "name": "Cluster 111",
         "r": [
          0.75,
          0,
          0,
          0.7425742574257426,
          1,
          0.4761904761904761
         ],
         "theta": [
          "recency_score",
          "frequency_score",
          "monetary_score",
          "rfm_score",
          "avg_satisfaction",
          "avg_delivery_delay"
         ],
         "type": "scatterpolar"
        },
        {
         "fill": "toself",
         "name": "Cluster 112",
         "r": [
          1,
          0,
          0.5,
          0.995049504950495,
          1,
          0.5238095238095237
         ],
         "theta": [
          "recency_score",
          "frequency_score",
          "monetary_score",
          "rfm_score",
          "avg_satisfaction",
          "avg_delivery_delay"
         ],
         "type": "scatterpolar"
        },
        {
         "fill": "toself",
         "name": "Cluster 113",
         "r": [
          0.25,
          0,
          0.5,
          0.2524752475247525,
          1,
          0.5238095238095237
         ],
         "theta": [
          "recency_score",
          "frequency_score",
          "monetary_score",
          "rfm_score",
          "avg_satisfaction",
          "avg_delivery_delay"
         ],
         "type": "scatterpolar"
        },
        {
         "fill": "toself",
         "name": "Cluster 114",
         "r": [
          0.75,
          0,
          0.5,
          0.7475247524752475,
          1,
          0.6190476190476191
         ],
         "theta": [
          "recency_score",
          "frequency_score",
          "monetary_score",
          "rfm_score",
          "avg_satisfaction",
          "avg_delivery_delay"
         ],
         "type": "scatterpolar"
        },
        {
         "fill": "toself",
         "name": "Cluster 115",
         "r": [
          0.75,
          0,
          0,
          0.7425742574257426,
          1,
          0.5714285714285714
         ],
         "theta": [
          "recency_score",
          "frequency_score",
          "monetary_score",
          "rfm_score",
          "avg_satisfaction",
          "avg_delivery_delay"
         ],
         "type": "scatterpolar"
        },
        {
         "fill": "toself",
         "name": "Cluster 116",
         "r": [
          1,
          0,
          0.75,
          0.9975247524752475,
          1,
          0.19047619047619047
         ],
         "theta": [
          "recency_score",
          "frequency_score",
          "monetary_score",
          "rfm_score",
          "avg_satisfaction",
          "avg_delivery_delay"
         ],
         "type": "scatterpolar"
        },
        {
         "fill": "toself",
         "name": "Cluster 117",
         "r": [
          0.25,
          0,
          0.25,
          0.25,
          1,
          0.2857142857142857
         ],
         "theta": [
          "recency_score",
          "frequency_score",
          "monetary_score",
          "rfm_score",
          "avg_satisfaction",
          "avg_delivery_delay"
         ],
         "type": "scatterpolar"
        },
        {
         "fill": "toself",
         "name": "Cluster 118",
         "r": [
          0.75,
          0,
          0,
          0.7425742574257426,
          1,
          0.14285714285714285
         ],
         "theta": [
          "recency_score",
          "frequency_score",
          "monetary_score",
          "rfm_score",
          "avg_satisfaction",
          "avg_delivery_delay"
         ],
         "type": "scatterpolar"
        },
        {
         "fill": "toself",
         "name": "Cluster 119",
         "r": [
          0.25,
          0,
          0,
          0.24752475247524752,
          1,
          0.6666666666666665
         ],
         "theta": [
          "recency_score",
          "frequency_score",
          "monetary_score",
          "rfm_score",
          "avg_satisfaction",
          "avg_delivery_delay"
         ],
         "type": "scatterpolar"
        },
        {
         "fill": "toself",
         "name": "Cluster 120",
         "r": [
          0.75,
          0,
          0.75,
          0.75,
          1,
          0.2857142857142857
         ],
         "theta": [
          "recency_score",
          "frequency_score",
          "monetary_score",
          "rfm_score",
          "avg_satisfaction",
          "avg_delivery_delay"
         ],
         "type": "scatterpolar"
        },
        {
         "fill": "toself",
         "name": "Cluster 121",
         "r": [
          0,
          0,
          0,
          0,
          1,
          0.6666666666666665
         ],
         "theta": [
          "recency_score",
          "frequency_score",
          "monetary_score",
          "rfm_score",
          "avg_satisfaction",
          "avg_delivery_delay"
         ],
         "type": "scatterpolar"
        },
        {
         "fill": "toself",
         "name": "Cluster 122",
         "r": [
          0,
          0,
          0,
          0,
          1,
          0.2857142857142857
         ],
         "theta": [
          "recency_score",
          "frequency_score",
          "monetary_score",
          "rfm_score",
          "avg_satisfaction",
          "avg_delivery_delay"
         ],
         "type": "scatterpolar"
        },
        {
         "fill": "toself",
         "name": "Cluster 123",
         "r": [
          0.5,
          0,
          0.75,
          0.5024752475247525,
          1,
          0.4761904761904761
         ],
         "theta": [
          "recency_score",
          "frequency_score",
          "monetary_score",
          "rfm_score",
          "avg_satisfaction",
          "avg_delivery_delay"
         ],
         "type": "scatterpolar"
        },
        {
         "fill": "toself",
         "name": "Cluster 124",
         "r": [
          0.5,
          0,
          0.25,
          0.4975247524752475,
          1,
          0.38095238095238093
         ],
         "theta": [
          "recency_score",
          "frequency_score",
          "monetary_score",
          "rfm_score",
          "avg_satisfaction",
          "avg_delivery_delay"
         ],
         "type": "scatterpolar"
        },
        {
         "fill": "toself",
         "name": "Cluster 125",
         "r": [
          0,
          0,
          1,
          0.00990099009900991,
          1,
          0.19047619047619047
         ],
         "theta": [
          "recency_score",
          "frequency_score",
          "monetary_score",
          "rfm_score",
          "avg_satisfaction",
          "avg_delivery_delay"
         ],
         "type": "scatterpolar"
        },
        {
         "fill": "toself",
         "name": "Cluster 126",
         "r": [
          0.25,
          0,
          0.25,
          0.25,
          1,
          0.3333333333333333
         ],
         "theta": [
          "recency_score",
          "frequency_score",
          "monetary_score",
          "rfm_score",
          "avg_satisfaction",
          "avg_delivery_delay"
         ],
         "type": "scatterpolar"
        },
        {
         "fill": "toself",
         "name": "Cluster 127",
         "r": [
          0,
          0,
          0,
          0,
          1,
          0.23809523809523808
         ],
         "theta": [
          "recency_score",
          "frequency_score",
          "monetary_score",
          "rfm_score",
          "avg_satisfaction",
          "avg_delivery_delay"
         ],
         "type": "scatterpolar"
        },
        {
         "fill": "toself",
         "name": "Cluster 128",
         "r": [
          0.25,
          0,
          0,
          0.24752475247524752,
          1,
          0.5238095238095237
         ],
         "theta": [
          "recency_score",
          "frequency_score",
          "monetary_score",
          "rfm_score",
          "avg_satisfaction",
          "avg_delivery_delay"
         ],
         "type": "scatterpolar"
        },
        {
         "fill": "toself",
         "name": "Cluster 129",
         "r": [
          0,
          0,
          0.5,
          0.004950495049504955,
          1,
          0.5238095238095237
         ],
         "theta": [
          "recency_score",
          "frequency_score",
          "monetary_score",
          "rfm_score",
          "avg_satisfaction",
          "avg_delivery_delay"
         ],
         "type": "scatterpolar"
        },
        {
         "fill": "toself",
         "name": "Cluster 130",
         "r": [
          0,
          0,
          0.25,
          0.0024752475247524774,
          1,
          0.42857142857142855
         ],
         "theta": [
          "recency_score",
          "frequency_score",
          "monetary_score",
          "rfm_score",
          "avg_satisfaction",
          "avg_delivery_delay"
         ],
         "type": "scatterpolar"
        },
        {
         "fill": "toself",
         "name": "Cluster 131",
         "r": [
          1,
          0,
          1,
          1,
          1,
          0.14285714285714285
         ],
         "theta": [
          "recency_score",
          "frequency_score",
          "monetary_score",
          "rfm_score",
          "avg_satisfaction",
          "avg_delivery_delay"
         ],
         "type": "scatterpolar"
        },
        {
         "fill": "toself",
         "name": "Cluster 132",
         "r": [
          0.25,
          0,
          0.25,
          0.25,
          1,
          0.5238095238095237
         ],
         "theta": [
          "recency_score",
          "frequency_score",
          "monetary_score",
          "rfm_score",
          "avg_satisfaction",
          "avg_delivery_delay"
         ],
         "type": "scatterpolar"
        },
        {
         "fill": "toself",
         "name": "Cluster 133",
         "r": [
          0.75,
          0,
          0.75,
          0.75,
          1,
          0.5238095238095237
         ],
         "theta": [
          "recency_score",
          "frequency_score",
          "monetary_score",
          "rfm_score",
          "avg_satisfaction",
          "avg_delivery_delay"
         ],
         "type": "scatterpolar"
        },
        {
         "fill": "toself",
         "name": "Cluster 134",
         "r": [
          0.25,
          0,
          0.5,
          0.2524752475247525,
          1,
          0.857142857142857
         ],
         "theta": [
          "recency_score",
          "frequency_score",
          "monetary_score",
          "rfm_score",
          "avg_satisfaction",
          "avg_delivery_delay"
         ],
         "type": "scatterpolar"
        },
        {
         "fill": "toself",
         "name": "Cluster 135",
         "r": [
          0.5,
          0,
          0.75,
          0.5024752475247525,
          1,
          0.5714285714285714
         ],
         "theta": [
          "recency_score",
          "frequency_score",
          "monetary_score",
          "rfm_score",
          "avg_satisfaction",
          "avg_delivery_delay"
         ],
         "type": "scatterpolar"
        },
        {
         "fill": "toself",
         "name": "Cluster 136",
         "r": [
          0,
          0,
          0.5,
          0.004950495049504955,
          0.3750698914196504,
          0.4761904761904761
         ],
         "theta": [
          "recency_score",
          "frequency_score",
          "monetary_score",
          "rfm_score",
          "avg_satisfaction",
          "avg_delivery_delay"
         ],
         "type": "scatterpolar"
        },
        {
         "fill": "toself",
         "name": "Cluster 137",
         "r": [
          0.5,
          0,
          0,
          0.49504950495049505,
          1,
          0.5714285714285714
         ],
         "theta": [
          "recency_score",
          "frequency_score",
          "monetary_score",
          "rfm_score",
          "avg_satisfaction",
          "avg_delivery_delay"
         ],
         "type": "scatterpolar"
        },
        {
         "fill": "toself",
         "name": "Cluster 138",
         "r": [
          0.25,
          0,
          0.5,
          0.2524752475247525,
          1,
          0.38095238095238093
         ],
         "theta": [
          "recency_score",
          "frequency_score",
          "monetary_score",
          "rfm_score",
          "avg_satisfaction",
          "avg_delivery_delay"
         ],
         "type": "scatterpolar"
        },
        {
         "fill": "toself",
         "name": "Cluster 139",
         "r": [
          0.25,
          0,
          0,
          0.24752475247524752,
          1,
          0.23809523809523808
         ],
         "theta": [
          "recency_score",
          "frequency_score",
          "monetary_score",
          "rfm_score",
          "avg_satisfaction",
          "avg_delivery_delay"
         ],
         "type": "scatterpolar"
        },
        {
         "fill": "toself",
         "name": "Cluster 140",
         "r": [
          0.25,
          0,
          1,
          0.25742574257425743,
          1,
          0.3333333333333333
         ],
         "theta": [
          "recency_score",
          "frequency_score",
          "monetary_score",
          "rfm_score",
          "avg_satisfaction",
          "avg_delivery_delay"
         ],
         "type": "scatterpolar"
        },
        {
         "fill": "toself",
         "name": "Cluster 141",
         "r": [
          0,
          0,
          1,
          0.00990099009900991,
          1,
          0.2857142857142857
         ],
         "theta": [
          "recency_score",
          "frequency_score",
          "monetary_score",
          "rfm_score",
          "avg_satisfaction",
          "avg_delivery_delay"
         ],
         "type": "scatterpolar"
        },
        {
         "fill": "toself",
         "name": "Cluster 142",
         "r": [
          0.25,
          0,
          0.75,
          0.25495049504950495,
          1,
          0.5238095238095237
         ],
         "theta": [
          "recency_score",
          "frequency_score",
          "monetary_score",
          "rfm_score",
          "avg_satisfaction",
          "avg_delivery_delay"
         ],
         "type": "scatterpolar"
        },
        {
         "fill": "toself",
         "name": "Cluster 143",
         "r": [
          1,
          0,
          1,
          1,
          1,
          0.23809523809523808
         ],
         "theta": [
          "recency_score",
          "frequency_score",
          "monetary_score",
          "rfm_score",
          "avg_satisfaction",
          "avg_delivery_delay"
         ],
         "type": "scatterpolar"
        },
        {
         "fill": "toself",
         "name": "Cluster 144",
         "r": [
          1,
          0,
          0.25,
          0.9925742574257426,
          1,
          0.3333333333333333
         ],
         "theta": [
          "recency_score",
          "frequency_score",
          "monetary_score",
          "rfm_score",
          "avg_satisfaction",
          "avg_delivery_delay"
         ],
         "type": "scatterpolar"
        },
        {
         "fill": "toself",
         "name": "Cluster 145",
         "r": [
          0.5,
          0,
          0.25,
          0.4975247524752475,
          1,
          0.3333333333333333
         ],
         "theta": [
          "recency_score",
          "frequency_score",
          "monetary_score",
          "rfm_score",
          "avg_satisfaction",
          "avg_delivery_delay"
         ],
         "type": "scatterpolar"
        },
        {
         "fill": "toself",
         "name": "Cluster 146",
         "r": [
          0.5,
          0,
          0.75,
          0.5024752475247525,
          1,
          0.6666666666666665
         ],
         "theta": [
          "recency_score",
          "frequency_score",
          "monetary_score",
          "rfm_score",
          "avg_satisfaction",
          "avg_delivery_delay"
         ],
         "type": "scatterpolar"
        },
        {
         "fill": "toself",
         "name": "Cluster 147",
         "r": [
          1,
          0,
          0.5,
          0.995049504950495,
          1,
          0.4761904761904761
         ],
         "theta": [
          "recency_score",
          "frequency_score",
          "monetary_score",
          "rfm_score",
          "avg_satisfaction",
          "avg_delivery_delay"
         ],
         "type": "scatterpolar"
        },
        {
         "fill": "toself",
         "name": "Cluster 148",
         "r": [
          0.5,
          0,
          0.5,
          0.5,
          1,
          0.6190476190476191
         ],
         "theta": [
          "recency_score",
          "frequency_score",
          "monetary_score",
          "rfm_score",
          "avg_satisfaction",
          "avg_delivery_delay"
         ],
         "type": "scatterpolar"
        },
        {
         "fill": "toself",
         "name": "Cluster 149",
         "r": [
          0.75,
          0,
          0.25,
          0.745049504950495,
          1,
          0.23809523809523808
         ],
         "theta": [
          "recency_score",
          "frequency_score",
          "monetary_score",
          "rfm_score",
          "avg_satisfaction",
          "avg_delivery_delay"
         ],
         "type": "scatterpolar"
        },
        {
         "fill": "toself",
         "name": "Cluster 150",
         "r": [
          1,
          0,
          0.25,
          0.9925742574257426,
          1,
          0.38095238095238093
         ],
         "theta": [
          "recency_score",
          "frequency_score",
          "monetary_score",
          "rfm_score",
          "avg_satisfaction",
          "avg_delivery_delay"
         ],
         "type": "scatterpolar"
        },
        {
         "fill": "toself",
         "name": "Cluster 151",
         "r": [
          0.5,
          0,
          0.25,
          0.4975247524752475,
          1,
          0.6190476190476191
         ],
         "theta": [
          "recency_score",
          "frequency_score",
          "monetary_score",
          "rfm_score",
          "avg_satisfaction",
          "avg_delivery_delay"
         ],
         "type": "scatterpolar"
        },
        {
         "fill": "toself",
         "name": "Cluster 152",
         "r": [
          0,
          0,
          0.25,
          0.0024752475247524774,
          1,
          0.19047619047619047
         ],
         "theta": [
          "recency_score",
          "frequency_score",
          "monetary_score",
          "rfm_score",
          "avg_satisfaction",
          "avg_delivery_delay"
         ],
         "type": "scatterpolar"
        },
        {
         "fill": "toself",
         "name": "Cluster 153",
         "r": [
          0,
          0,
          0.5,
          0.004950495049504955,
          1,
          0.5714285714285714
         ],
         "theta": [
          "recency_score",
          "frequency_score",
          "monetary_score",
          "rfm_score",
          "avg_satisfaction",
          "avg_delivery_delay"
         ],
         "type": "scatterpolar"
        },
        {
         "fill": "toself",
         "name": "Cluster 154",
         "r": [
          0,
          0,
          0,
          0,
          1,
          0.14285714285714285
         ],
         "theta": [
          "recency_score",
          "frequency_score",
          "monetary_score",
          "rfm_score",
          "avg_satisfaction",
          "avg_delivery_delay"
         ],
         "type": "scatterpolar"
        },
        {
         "fill": "toself",
         "name": "Cluster 155",
         "r": [
          1,
          0,
          0.5,
          0.995049504950495,
          1,
          0.09523809523809523
         ],
         "theta": [
          "recency_score",
          "frequency_score",
          "monetary_score",
          "rfm_score",
          "avg_satisfaction",
          "avg_delivery_delay"
         ],
         "type": "scatterpolar"
        },
        {
         "fill": "toself",
         "name": "Cluster 156",
         "r": [
          0.75,
          0,
          0.75,
          0.75,
          1,
          0.14285714285714285
         ],
         "theta": [
          "recency_score",
          "frequency_score",
          "monetary_score",
          "rfm_score",
          "avg_satisfaction",
          "avg_delivery_delay"
         ],
         "type": "scatterpolar"
        },
        {
         "fill": "toself",
         "name": "Cluster 157",
         "r": [
          1,
          0,
          0.5,
          0.995049504950495,
          1,
          0.2857142857142857
         ],
         "theta": [
          "recency_score",
          "frequency_score",
          "monetary_score",
          "rfm_score",
          "avg_satisfaction",
          "avg_delivery_delay"
         ],
         "type": "scatterpolar"
        },
        {
         "fill": "toself",
         "name": "Cluster 158",
         "r": [
          0,
          0,
          0,
          0,
          0.3750698914196504,
          0.4761904761904761
         ],
         "theta": [
          "recency_score",
          "frequency_score",
          "monetary_score",
          "rfm_score",
          "avg_satisfaction",
          "avg_delivery_delay"
         ],
         "type": "scatterpolar"
        },
        {
         "fill": "toself",
         "name": "Cluster 159",
         "r": [
          1,
          0,
          1,
          1,
          1,
          0.5238095238095237
         ],
         "theta": [
          "recency_score",
          "frequency_score",
          "monetary_score",
          "rfm_score",
          "avg_satisfaction",
          "avg_delivery_delay"
         ],
         "type": "scatterpolar"
        },
        {
         "fill": "toself",
         "name": "Cluster 160",
         "r": [
          0.75,
          0,
          0.25,
          0.745049504950495,
          1,
          0.14285714285714285
         ],
         "theta": [
          "recency_score",
          "frequency_score",
          "monetary_score",
          "rfm_score",
          "avg_satisfaction",
          "avg_delivery_delay"
         ],
         "type": "scatterpolar"
        },
        {
         "fill": "toself",
         "name": "Cluster 161",
         "r": [
          0.75,
          0,
          0.25,
          0.745049504950495,
          1,
          0.5238095238095237
         ],
         "theta": [
          "recency_score",
          "frequency_score",
          "monetary_score",
          "rfm_score",
          "avg_satisfaction",
          "avg_delivery_delay"
         ],
         "type": "scatterpolar"
        },
        {
         "fill": "toself",
         "name": "Cluster 162",
         "r": [
          0.5,
          0,
          1,
          0.504950495049505,
          1,
          0.5714285714285714
         ],
         "theta": [
          "recency_score",
          "frequency_score",
          "monetary_score",
          "rfm_score",
          "avg_satisfaction",
          "avg_delivery_delay"
         ],
         "type": "scatterpolar"
        },
        {
         "fill": "toself",
         "name": "Cluster 163",
         "r": [
          0.5,
          0,
          0.5,
          0.5,
          1,
          0.2857142857142857
         ],
         "theta": [
          "recency_score",
          "frequency_score",
          "monetary_score",
          "rfm_score",
          "avg_satisfaction",
          "avg_delivery_delay"
         ],
         "type": "scatterpolar"
        },
        {
         "fill": "toself",
         "name": "Cluster 164",
         "r": [
          1,
          0,
          0.75,
          0.9975247524752475,
          1,
          0.2857142857142857
         ],
         "theta": [
          "recency_score",
          "frequency_score",
          "monetary_score",
          "rfm_score",
          "avg_satisfaction",
          "avg_delivery_delay"
         ],
         "type": "scatterpolar"
        },
        {
         "fill": "toself",
         "name": "Cluster 165",
         "r": [
          0,
          0,
          0.5,
          0.004950495049504955,
          1,
          0.6666666666666665
         ],
         "theta": [
          "recency_score",
          "frequency_score",
          "monetary_score",
          "rfm_score",
          "avg_satisfaction",
          "avg_delivery_delay"
         ],
         "type": "scatterpolar"
        },
        {
         "fill": "toself",
         "name": "Cluster 166",
         "r": [
          0.25,
          0,
          0.5,
          0.2524752475247525,
          1,
          0.19047619047619047
         ],
         "theta": [
          "recency_score",
          "frequency_score",
          "monetary_score",
          "rfm_score",
          "avg_satisfaction",
          "avg_delivery_delay"
         ],
         "type": "scatterpolar"
        },
        {
         "fill": "toself",
         "name": "Cluster 167",
         "r": [
          1,
          0,
          0.5,
          0.995049504950495,
          1,
          0.23809523809523808
         ],
         "theta": [
          "recency_score",
          "frequency_score",
          "monetary_score",
          "rfm_score",
          "avg_satisfaction",
          "avg_delivery_delay"
         ],
         "type": "scatterpolar"
        },
        {
         "fill": "toself",
         "name": "Cluster 168",
         "r": [
          0.75,
          0,
          0,
          0.7425742574257426,
          1,
          0.23809523809523808
         ],
         "theta": [
          "recency_score",
          "frequency_score",
          "monetary_score",
          "rfm_score",
          "avg_satisfaction",
          "avg_delivery_delay"
         ],
         "type": "scatterpolar"
        },
        {
         "fill": "toself",
         "name": "Cluster 169",
         "r": [
          0.75,
          0,
          0.75,
          0.75,
          1,
          0.4761904761904761
         ],
         "theta": [
          "recency_score",
          "frequency_score",
          "monetary_score",
          "rfm_score",
          "avg_satisfaction",
          "avg_delivery_delay"
         ],
         "type": "scatterpolar"
        },
        {
         "fill": "toself",
         "name": "Cluster 170",
         "r": [
          1,
          0,
          0,
          0.9900990099009901,
          1,
          0.42857142857142855
         ],
         "theta": [
          "recency_score",
          "frequency_score",
          "monetary_score",
          "rfm_score",
          "avg_satisfaction",
          "avg_delivery_delay"
         ],
         "type": "scatterpolar"
        },
        {
         "fill": "toself",
         "name": "Cluster 171",
         "r": [
          0,
          0,
          0.5,
          0.004950495049504955,
          1,
          0.3333333333333333
         ],
         "theta": [
          "recency_score",
          "frequency_score",
          "monetary_score",
          "rfm_score",
          "avg_satisfaction",
          "avg_delivery_delay"
         ],
         "type": "scatterpolar"
        },
        {
         "fill": "toself",
         "name": "Cluster 172",
         "r": [
          0.25,
          0,
          0.5,
          0.2524752475247525,
          1,
          0.5714285714285714
         ],
         "theta": [
          "recency_score",
          "frequency_score",
          "monetary_score",
          "rfm_score",
          "avg_satisfaction",
          "avg_delivery_delay"
         ],
         "type": "scatterpolar"
        },
        {
         "fill": "toself",
         "name": "Cluster 173",
         "r": [
          1,
          0,
          0.5,
          0.995049504950495,
          0.3750698914196504,
          0.2857142857142857
         ],
         "theta": [
          "recency_score",
          "frequency_score",
          "monetary_score",
          "rfm_score",
          "avg_satisfaction",
          "avg_delivery_delay"
         ],
         "type": "scatterpolar"
        },
        {
         "fill": "toself",
         "name": "Cluster 174",
         "r": [
          0.75,
          0,
          0.75,
          0.75,
          1,
          0.6190476190476191
         ],
         "theta": [
          "recency_score",
          "frequency_score",
          "monetary_score",
          "rfm_score",
          "avg_satisfaction",
          "avg_delivery_delay"
         ],
         "type": "scatterpolar"
        },
        {
         "fill": "toself",
         "name": "Cluster 175",
         "r": [
          0.5,
          0,
          0.5,
          0.5,
          1,
          0.42857142857142855
         ],
         "theta": [
          "recency_score",
          "frequency_score",
          "monetary_score",
          "rfm_score",
          "avg_satisfaction",
          "avg_delivery_delay"
         ],
         "type": "scatterpolar"
        },
        {
         "fill": "toself",
         "name": "Cluster 176",
         "r": [
          0.25,
          0,
          0,
          0.24752475247524752,
          1,
          0.14285714285714285
         ],
         "theta": [
          "recency_score",
          "frequency_score",
          "monetary_score",
          "rfm_score",
          "avg_satisfaction",
          "avg_delivery_delay"
         ],
         "type": "scatterpolar"
        },
        {
         "fill": "toself",
         "name": "Cluster 177",
         "r": [
          0.25,
          0,
          0,
          0.24752475247524752,
          1,
          0.19047619047619047
         ],
         "theta": [
          "recency_score",
          "frequency_score",
          "monetary_score",
          "rfm_score",
          "avg_satisfaction",
          "avg_delivery_delay"
         ],
         "type": "scatterpolar"
        },
        {
         "fill": "toself",
         "name": "Cluster 178",
         "r": [
          0.75,
          0,
          1,
          0.7524752475247525,
          1,
          0.2857142857142857
         ],
         "theta": [
          "recency_score",
          "frequency_score",
          "monetary_score",
          "rfm_score",
          "avg_satisfaction",
          "avg_delivery_delay"
         ],
         "type": "scatterpolar"
        },
        {
         "fill": "toself",
         "name": "Cluster 179",
         "r": [
          0,
          0,
          0.25,
          0.0024752475247524774,
          0.3750698914196504,
          0.21503759398496242
         ],
         "theta": [
          "recency_score",
          "frequency_score",
          "monetary_score",
          "rfm_score",
          "avg_satisfaction",
          "avg_delivery_delay"
         ],
         "type": "scatterpolar"
        },
        {
         "fill": "toself",
         "name": "Cluster 180",
         "r": [
          1,
          0,
          0.5,
          0.995049504950495,
          1,
          0.42857142857142855
         ],
         "theta": [
          "recency_score",
          "frequency_score",
          "monetary_score",
          "rfm_score",
          "avg_satisfaction",
          "avg_delivery_delay"
         ],
         "type": "scatterpolar"
        },
        {
         "fill": "toself",
         "name": "Cluster 181",
         "r": [
          0.25,
          0,
          0,
          0.24752475247524752,
          1,
          0.42857142857142855
         ],
         "theta": [
          "recency_score",
          "frequency_score",
          "monetary_score",
          "rfm_score",
          "avg_satisfaction",
          "avg_delivery_delay"
         ],
         "type": "scatterpolar"
        },
        {
         "fill": "toself",
         "name": "Cluster 182",
         "r": [
          0.25,
          0,
          0.75,
          0.25495049504950495,
          1,
          0.5714285714285714
         ],
         "theta": [
          "recency_score",
          "frequency_score",
          "monetary_score",
          "rfm_score",
          "avg_satisfaction",
          "avg_delivery_delay"
         ],
         "type": "scatterpolar"
        },
        {
         "fill": "toself",
         "name": "Cluster 183",
         "r": [
          0.5,
          0,
          1,
          0.504950495049505,
          1,
          0.23809523809523808
         ],
         "theta": [
          "recency_score",
          "frequency_score",
          "monetary_score",
          "rfm_score",
          "avg_satisfaction",
          "avg_delivery_delay"
         ],
         "type": "scatterpolar"
        },
        {
         "fill": "toself",
         "name": "Cluster 184",
         "r": [
          1,
          0,
          0,
          0.9900990099009901,
          1,
          0.3333333333333333
         ],
         "theta": [
          "recency_score",
          "frequency_score",
          "monetary_score",
          "rfm_score",
          "avg_satisfaction",
          "avg_delivery_delay"
         ],
         "type": "scatterpolar"
        },
        {
         "fill": "toself",
         "name": "Cluster 185",
         "r": [
          0.75,
          0,
          0.25,
          0.745049504950495,
          1,
          0.09523809523809523
         ],
         "theta": [
          "recency_score",
          "frequency_score",
          "monetary_score",
          "rfm_score",
          "avg_satisfaction",
          "avg_delivery_delay"
         ],
         "type": "scatterpolar"
        },
        {
         "fill": "toself",
         "name": "Cluster 186",
         "r": [
          0,
          0,
          0.5,
          0.004950495049504955,
          1,
          0.2857142857142857
         ],
         "theta": [
          "recency_score",
          "frequency_score",
          "monetary_score",
          "rfm_score",
          "avg_satisfaction",
          "avg_delivery_delay"
         ],
         "type": "scatterpolar"
        },
        {
         "fill": "toself",
         "name": "Cluster 187",
         "r": [
          0,
          0,
          0.75,
          0.007425742574257432,
          1,
          0.6190476190476191
         ],
         "theta": [
          "recency_score",
          "frequency_score",
          "monetary_score",
          "rfm_score",
          "avg_satisfaction",
          "avg_delivery_delay"
         ],
         "type": "scatterpolar"
        },
        {
         "fill": "toself",
         "name": "Cluster 188",
         "r": [
          0.5,
          0,
          0.75,
          0.5024752475247525,
          1,
          0.2857142857142857
         ],
         "theta": [
          "recency_score",
          "frequency_score",
          "monetary_score",
          "rfm_score",
          "avg_satisfaction",
          "avg_delivery_delay"
         ],
         "type": "scatterpolar"
        },
        {
         "fill": "toself",
         "name": "Cluster 189",
         "r": [
          1,
          0,
          0.25,
          0.9925742574257426,
          1,
          0.047619047619047616
         ],
         "theta": [
          "recency_score",
          "frequency_score",
          "monetary_score",
          "rfm_score",
          "avg_satisfaction",
          "avg_delivery_delay"
         ],
         "type": "scatterpolar"
        },
        {
         "fill": "toself",
         "name": "Cluster 190",
         "r": [
          0,
          0,
          1,
          0.00990099009900991,
          1,
          0.7142857142857142
         ],
         "theta": [
          "recency_score",
          "frequency_score",
          "monetary_score",
          "rfm_score",
          "avg_satisfaction",
          "avg_delivery_delay"
         ],
         "type": "scatterpolar"
        },
        {
         "fill": "toself",
         "name": "Cluster 191",
         "r": [
          1,
          0,
          0.5,
          0.995049504950495,
          1,
          0.3333333333333333
         ],
         "theta": [
          "recency_score",
          "frequency_score",
          "monetary_score",
          "rfm_score",
          "avg_satisfaction",
          "avg_delivery_delay"
         ],
         "type": "scatterpolar"
        },
        {
         "fill": "toself",
         "name": "Cluster 192",
         "r": [
          1,
          0,
          0,
          0.9900990099009901,
          1,
          0.4761904761904761
         ],
         "theta": [
          "recency_score",
          "frequency_score",
          "monetary_score",
          "rfm_score",
          "avg_satisfaction",
          "avg_delivery_delay"
         ],
         "type": "scatterpolar"
        },
        {
         "fill": "toself",
         "name": "Cluster 193",
         "r": [
          0.25,
          0,
          0.25,
          0.25,
          1,
          0.8095238095238095
         ],
         "theta": [
          "recency_score",
          "frequency_score",
          "monetary_score",
          "rfm_score",
          "avg_satisfaction",
          "avg_delivery_delay"
         ],
         "type": "scatterpolar"
        },
        {
         "fill": "toself",
         "name": "Cluster 194",
         "r": [
          0.75,
          0,
          0.25,
          0.745049504950495,
          1,
          0.047619047619047616
         ],
         "theta": [
          "recency_score",
          "frequency_score",
          "monetary_score",
          "rfm_score",
          "avg_satisfaction",
          "avg_delivery_delay"
         ],
         "type": "scatterpolar"
        },
        {
         "fill": "toself",
         "name": "Cluster 195",
         "r": [
          0.75,
          0,
          0,
          0.7425742574257426,
          1,
          0.19047619047619047
         ],
         "theta": [
          "recency_score",
          "frequency_score",
          "monetary_score",
          "rfm_score",
          "avg_satisfaction",
          "avg_delivery_delay"
         ],
         "type": "scatterpolar"
        },
        {
         "fill": "toself",
         "name": "Cluster 196",
         "r": [
          0,
          0,
          1,
          0.00990099009900991,
          1,
          0.6190476190476191
         ],
         "theta": [
          "recency_score",
          "frequency_score",
          "monetary_score",
          "rfm_score",
          "avg_satisfaction",
          "avg_delivery_delay"
         ],
         "type": "scatterpolar"
        },
        {
         "fill": "toself",
         "name": "Cluster 197",
         "r": [
          0.25,
          0,
          0,
          0.24752475247524752,
          1,
          0.5714285714285714
         ],
         "theta": [
          "recency_score",
          "frequency_score",
          "monetary_score",
          "rfm_score",
          "avg_satisfaction",
          "avg_delivery_delay"
         ],
         "type": "scatterpolar"
        },
        {
         "fill": "toself",
         "name": "Cluster 198",
         "r": [
          0,
          0,
          0.75,
          0.007425742574257432,
          0.3750698914196504,
          0.4761904761904761
         ],
         "theta": [
          "recency_score",
          "frequency_score",
          "monetary_score",
          "rfm_score",
          "avg_satisfaction",
          "avg_delivery_delay"
         ],
         "type": "scatterpolar"
        },
        {
         "fill": "toself",
         "name": "Cluster 199",
         "r": [
          0.25,
          0,
          0.5,
          0.2524752475247525,
          1,
          0.14285714285714285
         ],
         "theta": [
          "recency_score",
          "frequency_score",
          "monetary_score",
          "rfm_score",
          "avg_satisfaction",
          "avg_delivery_delay"
         ],
         "type": "scatterpolar"
        },
        {
         "fill": "toself",
         "name": "Cluster 200",
         "r": [
          0.25,
          0,
          1,
          0.25742574257425743,
          1,
          0.6666666666666665
         ],
         "theta": [
          "recency_score",
          "frequency_score",
          "monetary_score",
          "rfm_score",
          "avg_satisfaction",
          "avg_delivery_delay"
         ],
         "type": "scatterpolar"
        },
        {
         "fill": "toself",
         "name": "Cluster 201",
         "r": [
          0,
          0,
          1,
          0.00990099009900991,
          1,
          0.42857142857142855
         ],
         "theta": [
          "recency_score",
          "frequency_score",
          "monetary_score",
          "rfm_score",
          "avg_satisfaction",
          "avg_delivery_delay"
         ],
         "type": "scatterpolar"
        },
        {
         "fill": "toself",
         "name": "Cluster 202",
         "r": [
          0.25,
          0,
          0.25,
          0.25,
          1,
          0.5714285714285714
         ],
         "theta": [
          "recency_score",
          "frequency_score",
          "monetary_score",
          "rfm_score",
          "avg_satisfaction",
          "avg_delivery_delay"
         ],
         "type": "scatterpolar"
        },
        {
         "fill": "toself",
         "name": "Cluster 203",
         "r": [
          0.25,
          0,
          0.75,
          0.25495049504950495,
          1,
          0.2857142857142857
         ],
         "theta": [
          "recency_score",
          "frequency_score",
          "monetary_score",
          "rfm_score",
          "avg_satisfaction",
          "avg_delivery_delay"
         ],
         "type": "scatterpolar"
        },
        {
         "fill": "toself",
         "name": "Cluster 204",
         "r": [
          0.5,
          0,
          0.75,
          0.5024752475247525,
          1,
          0.6190476190476191
         ],
         "theta": [
          "recency_score",
          "frequency_score",
          "monetary_score",
          "rfm_score",
          "avg_satisfaction",
          "avg_delivery_delay"
         ],
         "type": "scatterpolar"
        },
        {
         "fill": "toself",
         "name": "Cluster 205",
         "r": [
          0.5,
          0,
          0.25,
          0.4975247524752475,
          1,
          0.42857142857142855
         ],
         "theta": [
          "recency_score",
          "frequency_score",
          "monetary_score",
          "rfm_score",
          "avg_satisfaction",
          "avg_delivery_delay"
         ],
         "type": "scatterpolar"
        },
        {
         "fill": "toself",
         "name": "Cluster 206",
         "r": [
          0,
          0,
          0.25,
          0.0024752475247524774,
          1,
          0.2857142857142857
         ],
         "theta": [
          "recency_score",
          "frequency_score",
          "monetary_score",
          "rfm_score",
          "avg_satisfaction",
          "avg_delivery_delay"
         ],
         "type": "scatterpolar"
        },
        {
         "fill": "toself",
         "name": "Cluster 207",
         "r": [
          0.5,
          0,
          0.25,
          0.4975247524752475,
          1,
          0.23809523809523808
         ],
         "theta": [
          "recency_score",
          "frequency_score",
          "monetary_score",
          "rfm_score",
          "avg_satisfaction",
          "avg_delivery_delay"
         ],
         "type": "scatterpolar"
        },
        {
         "fill": "toself",
         "name": "Cluster 208",
         "r": [
          1,
          0,
          0.75,
          0.9975247524752475,
          1,
          0.5238095238095237
         ],
         "theta": [
          "recency_score",
          "frequency_score",
          "monetary_score",
          "rfm_score",
          "avg_satisfaction",
          "avg_delivery_delay"
         ],
         "type": "scatterpolar"
        },
        {
         "fill": "toself",
         "name": "Cluster 209",
         "r": [
          0.75,
          0,
          0.5,
          0.7475247524752475,
          1,
          0.19047619047619047
         ],
         "theta": [
          "recency_score",
          "frequency_score",
          "monetary_score",
          "rfm_score",
          "avg_satisfaction",
          "avg_delivery_delay"
         ],
         "type": "scatterpolar"
        },
        {
         "fill": "toself",
         "name": "Cluster 210",
         "r": [
          1,
          0,
          0.75,
          0.9975247524752475,
          1,
          0.42857142857142855
         ],
         "theta": [
          "recency_score",
          "frequency_score",
          "monetary_score",
          "rfm_score",
          "avg_satisfaction",
          "avg_delivery_delay"
         ],
         "type": "scatterpolar"
        },
        {
         "fill": "toself",
         "name": "Cluster 211",
         "r": [
          0,
          0,
          0,
          0,
          1,
          0.19047619047619047
         ],
         "theta": [
          "recency_score",
          "frequency_score",
          "monetary_score",
          "rfm_score",
          "avg_satisfaction",
          "avg_delivery_delay"
         ],
         "type": "scatterpolar"
        },
        {
         "fill": "toself",
         "name": "Cluster 212",
         "r": [
          0.5,
          0,
          0.25,
          0.4975247524752475,
          1,
          0.5238095238095237
         ],
         "theta": [
          "recency_score",
          "frequency_score",
          "monetary_score",
          "rfm_score",
          "avg_satisfaction",
          "avg_delivery_delay"
         ],
         "type": "scatterpolar"
        },
        {
         "fill": "toself",
         "name": "Cluster 213",
         "r": [
          0.5,
          0,
          0.75,
          0.5024752475247525,
          1,
          0.3333333333333333
         ],
         "theta": [
          "recency_score",
          "frequency_score",
          "monetary_score",
          "rfm_score",
          "avg_satisfaction",
          "avg_delivery_delay"
         ],
         "type": "scatterpolar"
        },
        {
         "fill": "toself",
         "name": "Cluster 214",
         "r": [
          0.75,
          0,
          0.5,
          0.7475247524752475,
          1,
          0.047619047619047616
         ],
         "theta": [
          "recency_score",
          "frequency_score",
          "monetary_score",
          "rfm_score",
          "avg_satisfaction",
          "avg_delivery_delay"
         ],
         "type": "scatterpolar"
        },
        {
         "fill": "toself",
         "name": "Cluster 215",
         "r": [
          0,
          0,
          0.5,
          0.004950495049504955,
          1,
          0.42857142857142855
         ],
         "theta": [
          "recency_score",
          "frequency_score",
          "monetary_score",
          "rfm_score",
          "avg_satisfaction",
          "avg_delivery_delay"
         ],
         "type": "scatterpolar"
        },
        {
         "fill": "toself",
         "name": "Cluster 216",
         "r": [
          0.25,
          0,
          0.25,
          0.25,
          1,
          0.42857142857142855
         ],
         "theta": [
          "recency_score",
          "frequency_score",
          "monetary_score",
          "rfm_score",
          "avg_satisfaction",
          "avg_delivery_delay"
         ],
         "type": "scatterpolar"
        },
        {
         "fill": "toself",
         "name": "Cluster 217",
         "r": [
          0.25,
          0,
          1,
          0.25742574257425743,
          1,
          0.42857142857142855
         ],
         "theta": [
          "recency_score",
          "frequency_score",
          "monetary_score",
          "rfm_score",
          "avg_satisfaction",
          "avg_delivery_delay"
         ],
         "type": "scatterpolar"
        },
        {
         "fill": "toself",
         "name": "Cluster 218",
         "r": [
          0,
          0,
          0,
          0,
          1,
          0.5714285714285714
         ],
         "theta": [
          "recency_score",
          "frequency_score",
          "monetary_score",
          "rfm_score",
          "avg_satisfaction",
          "avg_delivery_delay"
         ],
         "type": "scatterpolar"
        },
        {
         "fill": "toself",
         "name": "Cluster 219",
         "r": [
          0,
          0,
          0.5,
          0.004950495049504955,
          1,
          0.6190476190476191
         ],
         "theta": [
          "recency_score",
          "frequency_score",
          "monetary_score",
          "rfm_score",
          "avg_satisfaction",
          "avg_delivery_delay"
         ],
         "type": "scatterpolar"
        },
        {
         "fill": "toself",
         "name": "Cluster 220",
         "r": [
          1,
          0,
          0,
          0.9900990099009901,
          1,
          0.09523809523809523
         ],
         "theta": [
          "recency_score",
          "frequency_score",
          "monetary_score",
          "rfm_score",
          "avg_satisfaction",
          "avg_delivery_delay"
         ],
         "type": "scatterpolar"
        },
        {
         "fill": "toself",
         "name": "Cluster 221",
         "r": [
          0,
          0,
          0,
          0,
          1,
          0.42857142857142855
         ],
         "theta": [
          "recency_score",
          "frequency_score",
          "monetary_score",
          "rfm_score",
          "avg_satisfaction",
          "avg_delivery_delay"
         ],
         "type": "scatterpolar"
        },
        {
         "fill": "toself",
         "name": "Cluster 222",
         "r": [
          0.5,
          0,
          0.5,
          0.5,
          1,
          0.5714285714285714
         ],
         "theta": [
          "recency_score",
          "frequency_score",
          "monetary_score",
          "rfm_score",
          "avg_satisfaction",
          "avg_delivery_delay"
         ],
         "type": "scatterpolar"
        },
        {
         "fill": "toself",
         "name": "Cluster 223",
         "r": [
          0.75,
          0,
          0.5,
          0.7475247524752475,
          1,
          0.3333333333333333
         ],
         "theta": [
          "recency_score",
          "frequency_score",
          "monetary_score",
          "rfm_score",
          "avg_satisfaction",
          "avg_delivery_delay"
         ],
         "type": "scatterpolar"
        },
        {
         "fill": "toself",
         "name": "Cluster 224",
         "r": [
          0.75,
          0,
          0.25,
          0.745049504950495,
          1,
          0.3333333333333333
         ],
         "theta": [
          "recency_score",
          "frequency_score",
          "monetary_score",
          "rfm_score",
          "avg_satisfaction",
          "avg_delivery_delay"
         ],
         "type": "scatterpolar"
        },
        {
         "fill": "toself",
         "name": "Cluster 225",
         "r": [
          0.75,
          0,
          0.5,
          0.7475247524752475,
          1,
          0.09523809523809523
         ],
         "theta": [
          "recency_score",
          "frequency_score",
          "monetary_score",
          "rfm_score",
          "avg_satisfaction",
          "avg_delivery_delay"
         ],
         "type": "scatterpolar"
        },
        {
         "fill": "toself",
         "name": "Cluster 226",
         "r": [
          0.75,
          0,
          1,
          0.7524752475247525,
          1,
          0.6190476190476191
         ],
         "theta": [
          "recency_score",
          "frequency_score",
          "monetary_score",
          "rfm_score",
          "avg_satisfaction",
          "avg_delivery_delay"
         ],
         "type": "scatterpolar"
        },
        {
         "fill": "toself",
         "name": "Cluster 227",
         "r": [
          0.75,
          0,
          0.75,
          0.75,
          1,
          0.9523809523809523
         ],
         "theta": [
          "recency_score",
          "frequency_score",
          "monetary_score",
          "rfm_score",
          "avg_satisfaction",
          "avg_delivery_delay"
         ],
         "type": "scatterpolar"
        },
        {
         "fill": "toself",
         "name": "Cluster 228",
         "r": [
          0.25,
          0,
          0.75,
          0.25495049504950495,
          1,
          0.42857142857142855
         ],
         "theta": [
          "recency_score",
          "frequency_score",
          "monetary_score",
          "rfm_score",
          "avg_satisfaction",
          "avg_delivery_delay"
         ],
         "type": "scatterpolar"
        },
        {
         "fill": "toself",
         "name": "Cluster 229",
         "r": [
          0,
          0,
          0.25,
          0.0024752475247524774,
          1,
          0.4761904761904761
         ],
         "theta": [
          "recency_score",
          "frequency_score",
          "monetary_score",
          "rfm_score",
          "avg_satisfaction",
          "avg_delivery_delay"
         ],
         "type": "scatterpolar"
        },
        {
         "fill": "toself",
         "name": "Cluster 230",
         "r": [
          0,
          0,
          0.25,
          0.0024752475247524774,
          0.3750698914196504,
          0.2857142857142857
         ],
         "theta": [
          "recency_score",
          "frequency_score",
          "monetary_score",
          "rfm_score",
          "avg_satisfaction",
          "avg_delivery_delay"
         ],
         "type": "scatterpolar"
        },
        {
         "fill": "toself",
         "name": "Cluster 231",
         "r": [
          1,
          0,
          0.75,
          0.9975247524752475,
          1,
          0.14285714285714285
         ],
         "theta": [
          "recency_score",
          "frequency_score",
          "monetary_score",
          "rfm_score",
          "avg_satisfaction",
          "avg_delivery_delay"
         ],
         "type": "scatterpolar"
        },
        {
         "fill": "toself",
         "name": "Cluster 232",
         "r": [
          0.25,
          0,
          0.5,
          0.2524752475247525,
          1,
          0.4761904761904761
         ],
         "theta": [
          "recency_score",
          "frequency_score",
          "monetary_score",
          "rfm_score",
          "avg_satisfaction",
          "avg_delivery_delay"
         ],
         "type": "scatterpolar"
        },
        {
         "fill": "toself",
         "name": "Cluster 233",
         "r": [
          1,
          0,
          0.5,
          0.995049504950495,
          0.3750698914196504,
          0.3333333333333333
         ],
         "theta": [
          "recency_score",
          "frequency_score",
          "monetary_score",
          "rfm_score",
          "avg_satisfaction",
          "avg_delivery_delay"
         ],
         "type": "scatterpolar"
        },
        {
         "fill": "toself",
         "name": "Cluster 234",
         "r": [
          0,
          0,
          1,
          0.00990099009900991,
          1,
          0.6666666666666665
         ],
         "theta": [
          "recency_score",
          "frequency_score",
          "monetary_score",
          "rfm_score",
          "avg_satisfaction",
          "avg_delivery_delay"
         ],
         "type": "scatterpolar"
        },
        {
         "fill": "toself",
         "name": "Cluster 235",
         "r": [
          1,
          0,
          0.75,
          0.9975247524752475,
          1,
          0.047619047619047616
         ],
         "theta": [
          "recency_score",
          "frequency_score",
          "monetary_score",
          "rfm_score",
          "avg_satisfaction",
          "avg_delivery_delay"
         ],
         "type": "scatterpolar"
        },
        {
         "fill": "toself",
         "name": "Cluster 236",
         "r": [
          0.25,
          0,
          0.5,
          0.2524752475247525,
          1,
          0.8095238095238095
         ],
         "theta": [
          "recency_score",
          "frequency_score",
          "monetary_score",
          "rfm_score",
          "avg_satisfaction",
          "avg_delivery_delay"
         ],
         "type": "scatterpolar"
        },
        {
         "fill": "toself",
         "name": "Cluster 237",
         "r": [
          1,
          0,
          0,
          0.9900990099009901,
          1,
          0.19047619047619047
         ],
         "theta": [
          "recency_score",
          "frequency_score",
          "monetary_score",
          "rfm_score",
          "avg_satisfaction",
          "avg_delivery_delay"
         ],
         "type": "scatterpolar"
        },
        {
         "fill": "toself",
         "name": "Cluster 238",
         "r": [
          0,
          0,
          0.25,
          0.0024752475247524774,
          1,
          0.5238095238095237
         ],
         "theta": [
          "recency_score",
          "frequency_score",
          "monetary_score",
          "rfm_score",
          "avg_satisfaction",
          "avg_delivery_delay"
         ],
         "type": "scatterpolar"
        },
        {
         "fill": "toself",
         "name": "Cluster 239",
         "r": [
          0.75,
          0,
          0.75,
          0.75,
          1,
          0.38095238095238093
         ],
         "theta": [
          "recency_score",
          "frequency_score",
          "monetary_score",
          "rfm_score",
          "avg_satisfaction",
          "avg_delivery_delay"
         ],
         "type": "scatterpolar"
        },
        {
         "fill": "toself",
         "name": "Cluster 240",
         "r": [
          0.25,
          0,
          1,
          0.25742574257425743,
          1,
          0.6190476190476191
         ],
         "theta": [
          "recency_score",
          "frequency_score",
          "monetary_score",
          "rfm_score",
          "avg_satisfaction",
          "avg_delivery_delay"
         ],
         "type": "scatterpolar"
        },
        {
         "fill": "toself",
         "name": "Cluster 241",
         "r": [
          0.5,
          0,
          0.5,
          0.5,
          1,
          0.5238095238095237
         ],
         "theta": [
          "recency_score",
          "frequency_score",
          "monetary_score",
          "rfm_score",
          "avg_satisfaction",
          "avg_delivery_delay"
         ],
         "type": "scatterpolar"
        },
        {
         "fill": "toself",
         "name": "Cluster 242",
         "r": [
          0.5,
          0,
          0.5,
          0.5,
          1,
          0.23809523809523808
         ],
         "theta": [
          "recency_score",
          "frequency_score",
          "monetary_score",
          "rfm_score",
          "avg_satisfaction",
          "avg_delivery_delay"
         ],
         "type": "scatterpolar"
        },
        {
         "fill": "toself",
         "name": "Cluster 243",
         "r": [
          0.5,
          0,
          0,
          0.49504950495049505,
          1,
          0.23809523809523808
         ],
         "theta": [
          "recency_score",
          "frequency_score",
          "monetary_score",
          "rfm_score",
          "avg_satisfaction",
          "avg_delivery_delay"
         ],
         "type": "scatterpolar"
        },
        {
         "fill": "toself",
         "name": "Cluster 244",
         "r": [
          0.75,
          0,
          0.75,
          0.75,
          1,
          0.3333333333333333
         ],
         "theta": [
          "recency_score",
          "frequency_score",
          "monetary_score",
          "rfm_score",
          "avg_satisfaction",
          "avg_delivery_delay"
         ],
         "type": "scatterpolar"
        },
        {
         "fill": "toself",
         "name": "Cluster 245",
         "r": [
          0.75,
          0,
          0.75,
          0.75,
          1,
          0.5714285714285714
         ],
         "theta": [
          "recency_score",
          "frequency_score",
          "monetary_score",
          "rfm_score",
          "avg_satisfaction",
          "avg_delivery_delay"
         ],
         "type": "scatterpolar"
        },
        {
         "fill": "toself",
         "name": "Cluster 246",
         "r": [
          0.5,
          0,
          0.75,
          0.5024752475247525,
          1,
          0.7142857142857142
         ],
         "theta": [
          "recency_score",
          "frequency_score",
          "monetary_score",
          "rfm_score",
          "avg_satisfaction",
          "avg_delivery_delay"
         ],
         "type": "scatterpolar"
        },
        {
         "fill": "toself",
         "name": "Cluster 247",
         "r": [
          0.5,
          0,
          1,
          0.504950495049505,
          1,
          0.6190476190476191
         ],
         "theta": [
          "recency_score",
          "frequency_score",
          "monetary_score",
          "rfm_score",
          "avg_satisfaction",
          "avg_delivery_delay"
         ],
         "type": "scatterpolar"
        },
        {
         "fill": "toself",
         "name": "Cluster 248",
         "r": [
          0.25,
          0,
          0.5,
          0.2524752475247525,
          1,
          0.2857142857142857
         ],
         "theta": [
          "recency_score",
          "frequency_score",
          "monetary_score",
          "rfm_score",
          "avg_satisfaction",
          "avg_delivery_delay"
         ],
         "type": "scatterpolar"
        },
        {
         "fill": "toself",
         "name": "Cluster 249",
         "r": [
          0,
          0,
          0,
          0,
          0.3750698914196504,
          0.3333333333333333
         ],
         "theta": [
          "recency_score",
          "frequency_score",
          "monetary_score",
          "rfm_score",
          "avg_satisfaction",
          "avg_delivery_delay"
         ],
         "type": "scatterpolar"
        },
        {
         "fill": "toself",
         "name": "Cluster 250",
         "r": [
          0.75,
          0,
          0.25,
          0.745049504950495,
          1,
          0.4761904761904761
         ],
         "theta": [
          "recency_score",
          "frequency_score",
          "monetary_score",
          "rfm_score",
          "avg_satisfaction",
          "avg_delivery_delay"
         ],
         "type": "scatterpolar"
        },
        {
         "fill": "toself",
         "name": "Cluster 251",
         "r": [
          1,
          0,
          0.5,
          0.995049504950495,
          1,
          0.5714285714285714
         ],
         "theta": [
          "recency_score",
          "frequency_score",
          "monetary_score",
          "rfm_score",
          "avg_satisfaction",
          "avg_delivery_delay"
         ],
         "type": "scatterpolar"
        },
        {
         "fill": "toself",
         "name": "Cluster 252",
         "r": [
          1,
          0,
          0.75,
          0.9975247524752475,
          1,
          0.09523809523809523
         ],
         "theta": [
          "recency_score",
          "frequency_score",
          "monetary_score",
          "rfm_score",
          "avg_satisfaction",
          "avg_delivery_delay"
         ],
         "type": "scatterpolar"
        },
        {
         "fill": "toself",
         "name": "Cluster 253",
         "r": [
          0,
          0,
          0.35,
          0.0034653465346534684,
          1,
          0.8095238095238095
         ],
         "theta": [
          "recency_score",
          "frequency_score",
          "monetary_score",
          "rfm_score",
          "avg_satisfaction",
          "avg_delivery_delay"
         ],
         "type": "scatterpolar"
        },
        {
         "fill": "toself",
         "name": "Cluster 254",
         "r": [
          1,
          0,
          0.25,
          0.9925742574257426,
          0.3750698914196504,
          0.23809523809523808
         ],
         "theta": [
          "recency_score",
          "frequency_score",
          "monetary_score",
          "rfm_score",
          "avg_satisfaction",
          "avg_delivery_delay"
         ],
         "type": "scatterpolar"
        },
        {
         "fill": "toself",
         "name": "Cluster 255",
         "r": [
          0.25,
          0,
          1,
          0.25742574257425743,
          1,
          0.4761904761904761
         ],
         "theta": [
          "recency_score",
          "frequency_score",
          "monetary_score",
          "rfm_score",
          "avg_satisfaction",
          "avg_delivery_delay"
         ],
         "type": "scatterpolar"
        },
        {
         "fill": "toself",
         "name": "Cluster 256",
         "r": [
          0,
          0,
          0,
          0,
          1,
          0.4761904761904761
         ],
         "theta": [
          "recency_score",
          "frequency_score",
          "monetary_score",
          "rfm_score",
          "avg_satisfaction",
          "avg_delivery_delay"
         ],
         "type": "scatterpolar"
        },
        {
         "fill": "toself",
         "name": "Cluster 257",
         "r": [
          0.25,
          0,
          0.5,
          0.2524752475247525,
          1,
          0.3333333333333333
         ],
         "theta": [
          "recency_score",
          "frequency_score",
          "monetary_score",
          "rfm_score",
          "avg_satisfaction",
          "avg_delivery_delay"
         ],
         "type": "scatterpolar"
        },
        {
         "fill": "toself",
         "name": "Cluster 258",
         "r": [
          0.75,
          0,
          0.75,
          0.75,
          1,
          0.047619047619047616
         ],
         "theta": [
          "recency_score",
          "frequency_score",
          "monetary_score",
          "rfm_score",
          "avg_satisfaction",
          "avg_delivery_delay"
         ],
         "type": "scatterpolar"
        },
        {
         "fill": "toself",
         "name": "Cluster 259",
         "r": [
          0,
          0,
          0.75,
          0.007425742574257432,
          1,
          0.14285714285714285
         ],
         "theta": [
          "recency_score",
          "frequency_score",
          "monetary_score",
          "rfm_score",
          "avg_satisfaction",
          "avg_delivery_delay"
         ],
         "type": "scatterpolar"
        },
        {
         "fill": "toself",
         "name": "Cluster 260",
         "r": [
          1,
          0,
          0.5,
          0.995049504950495,
          0.3750698914196504,
          0.19047619047619047
         ],
         "theta": [
          "recency_score",
          "frequency_score",
          "monetary_score",
          "rfm_score",
          "avg_satisfaction",
          "avg_delivery_delay"
         ],
         "type": "scatterpolar"
        },
        {
         "fill": "toself",
         "name": "Cluster 261",
         "r": [
          0,
          0,
          0.75,
          0.007425742574257432,
          1,
          0.4761904761904761
         ],
         "theta": [
          "recency_score",
          "frequency_score",
          "monetary_score",
          "rfm_score",
          "avg_satisfaction",
          "avg_delivery_delay"
         ],
         "type": "scatterpolar"
        },
        {
         "fill": "toself",
         "name": "Cluster 262",
         "r": [
          0.25,
          0,
          0,
          0.24752475247524752,
          1,
          0.4761904761904761
         ],
         "theta": [
          "recency_score",
          "frequency_score",
          "monetary_score",
          "rfm_score",
          "avg_satisfaction",
          "avg_delivery_delay"
         ],
         "type": "scatterpolar"
        },
        {
         "fill": "toself",
         "name": "Cluster 263",
         "r": [
          1,
          0,
          0,
          0.9900990099009901,
          1,
          0.5238095238095237
         ],
         "theta": [
          "recency_score",
          "frequency_score",
          "monetary_score",
          "rfm_score",
          "avg_satisfaction",
          "avg_delivery_delay"
         ],
         "type": "scatterpolar"
        },
        {
         "fill": "toself",
         "name": "Cluster 264",
         "r": [
          1,
          0,
          0,
          0.9900990099009901,
          1,
          0.38095238095238093
         ],
         "theta": [
          "recency_score",
          "frequency_score",
          "monetary_score",
          "rfm_score",
          "avg_satisfaction",
          "avg_delivery_delay"
         ],
         "type": "scatterpolar"
        },
        {
         "fill": "toself",
         "name": "Cluster 265",
         "r": [
          0.5,
          0,
          0,
          0.49504950495049505,
          1,
          0.19047619047619047
         ],
         "theta": [
          "recency_score",
          "frequency_score",
          "monetary_score",
          "rfm_score",
          "avg_satisfaction",
          "avg_delivery_delay"
         ],
         "type": "scatterpolar"
        },
        {
         "fill": "toself",
         "name": "Cluster 266",
         "r": [
          1,
          0,
          0.5,
          0.995049504950495,
          1,
          0.14285714285714285
         ],
         "theta": [
          "recency_score",
          "frequency_score",
          "monetary_score",
          "rfm_score",
          "avg_satisfaction",
          "avg_delivery_delay"
         ],
         "type": "scatterpolar"
        },
        {
         "fill": "toself",
         "name": "Cluster 267",
         "r": [
          0,
          0,
          1,
          0.00990099009900991,
          0.3750698914196504,
          0.5238095238095237
         ],
         "theta": [
          "recency_score",
          "frequency_score",
          "monetary_score",
          "rfm_score",
          "avg_satisfaction",
          "avg_delivery_delay"
         ],
         "type": "scatterpolar"
        },
        {
         "fill": "toself",
         "name": "Cluster 268",
         "r": [
          0.5,
          0,
          0.75,
          0.5024752475247525,
          1,
          0.38095238095238093
         ],
         "theta": [
          "recency_score",
          "frequency_score",
          "monetary_score",
          "rfm_score",
          "avg_satisfaction",
          "avg_delivery_delay"
         ],
         "type": "scatterpolar"
        },
        {
         "fill": "toself",
         "name": "Cluster 269",
         "r": [
          0.25,
          0,
          0.25,
          0.25,
          1,
          0.6666666666666665
         ],
         "theta": [
          "recency_score",
          "frequency_score",
          "monetary_score",
          "rfm_score",
          "avg_satisfaction",
          "avg_delivery_delay"
         ],
         "type": "scatterpolar"
        },
        {
         "fill": "toself",
         "name": "Cluster 270",
         "r": [
          1,
          0,
          0.25,
          0.9925742574257426,
          1,
          0.5238095238095237
         ],
         "theta": [
          "recency_score",
          "frequency_score",
          "monetary_score",
          "rfm_score",
          "avg_satisfaction",
          "avg_delivery_delay"
         ],
         "type": "scatterpolar"
        },
        {
         "fill": "toself",
         "name": "Cluster 271",
         "r": [
          0,
          0,
          1,
          0.00990099009900991,
          0.3750698914196504,
          0.42857142857142855
         ],
         "theta": [
          "recency_score",
          "frequency_score",
          "monetary_score",
          "rfm_score",
          "avg_satisfaction",
          "avg_delivery_delay"
         ],
         "type": "scatterpolar"
        },
        {
         "fill": "toself",
         "name": "Cluster 272",
         "r": [
          0.75,
          0,
          0.5,
          0.7475247524752475,
          1,
          0.7142857142857142
         ],
         "theta": [
          "recency_score",
          "frequency_score",
          "monetary_score",
          "rfm_score",
          "avg_satisfaction",
          "avg_delivery_delay"
         ],
         "type": "scatterpolar"
        },
        {
         "fill": "toself",
         "name": "Cluster 273",
         "r": [
          0.25,
          0,
          1,
          0.25742574257425743,
          1,
          0.2857142857142857
         ],
         "theta": [
          "recency_score",
          "frequency_score",
          "monetary_score",
          "rfm_score",
          "avg_satisfaction",
          "avg_delivery_delay"
         ],
         "type": "scatterpolar"
        },
        {
         "fill": "toself",
         "name": "Cluster 274",
         "r": [
          0.75,
          0,
          0.25,
          0.745049504950495,
          1,
          0.7142857142857142
         ],
         "theta": [
          "recency_score",
          "frequency_score",
          "monetary_score",
          "rfm_score",
          "avg_satisfaction",
          "avg_delivery_delay"
         ],
         "type": "scatterpolar"
        },
        {
         "fill": "toself",
         "name": "Cluster 275",
         "r": [
          0,
          0,
          0.5,
          0.004950495049504955,
          1,
          0.7619047619047619
         ],
         "theta": [
          "recency_score",
          "frequency_score",
          "monetary_score",
          "rfm_score",
          "avg_satisfaction",
          "avg_delivery_delay"
         ],
         "type": "scatterpolar"
        },
        {
         "fill": "toself",
         "name": "Cluster 276",
         "r": [
          0.75,
          0,
          1,
          0.7524752475247525,
          1,
          0.5714285714285714
         ],
         "theta": [
          "recency_score",
          "frequency_score",
          "monetary_score",
          "rfm_score",
          "avg_satisfaction",
          "avg_delivery_delay"
         ],
         "type": "scatterpolar"
        },
        {
         "fill": "toself",
         "name": "Cluster 277",
         "r": [
          0.75,
          0,
          0.25,
          0.745049504950495,
          1,
          0.857142857142857
         ],
         "theta": [
          "recency_score",
          "frequency_score",
          "monetary_score",
          "rfm_score",
          "avg_satisfaction",
          "avg_delivery_delay"
         ],
         "type": "scatterpolar"
        },
        {
         "fill": "toself",
         "name": "Cluster 278",
         "r": [
          0.5,
          0,
          0,
          0.49504950495049505,
          1,
          0.38095238095238093
         ],
         "theta": [
          "recency_score",
          "frequency_score",
          "monetary_score",
          "rfm_score",
          "avg_satisfaction",
          "avg_delivery_delay"
         ],
         "type": "scatterpolar"
        },
        {
         "fill": "toself",
         "name": "Cluster 279",
         "r": [
          0.5,
          0,
          0.25,
          0.4975247524752475,
          1,
          0.2857142857142857
         ],
         "theta": [
          "recency_score",
          "frequency_score",
          "monetary_score",
          "rfm_score",
          "avg_satisfaction",
          "avg_delivery_delay"
         ],
         "type": "scatterpolar"
        },
        {
         "fill": "toself",
         "name": "Cluster 280",
         "r": [
          0.25,
          0,
          1,
          0.25742574257425743,
          1,
          0.23809523809523808
         ],
         "theta": [
          "recency_score",
          "frequency_score",
          "monetary_score",
          "rfm_score",
          "avg_satisfaction",
          "avg_delivery_delay"
         ],
         "type": "scatterpolar"
        },
        {
         "fill": "toself",
         "name": "Cluster 281",
         "r": [
          0.25,
          0,
          0.25,
          0.25,
          1,
          0.38095238095238093
         ],
         "theta": [
          "recency_score",
          "frequency_score",
          "monetary_score",
          "rfm_score",
          "avg_satisfaction",
          "avg_delivery_delay"
         ],
         "type": "scatterpolar"
        },
        {
         "fill": "toself",
         "name": "Cluster 282",
         "r": [
          0.25,
          0,
          0,
          0.24752475247524752,
          1,
          0.6190476190476191
         ],
         "theta": [
          "recency_score",
          "frequency_score",
          "monetary_score",
          "rfm_score",
          "avg_satisfaction",
          "avg_delivery_delay"
         ],
         "type": "scatterpolar"
        },
        {
         "fill": "toself",
         "name": "Cluster 283",
         "r": [
          0.75,
          0,
          0.25,
          0.745049504950495,
          0.3750698914196504,
          0.19047619047619047
         ],
         "theta": [
          "recency_score",
          "frequency_score",
          "monetary_score",
          "rfm_score",
          "avg_satisfaction",
          "avg_delivery_delay"
         ],
         "type": "scatterpolar"
        },
        {
         "fill": "toself",
         "name": "Cluster 284",
         "r": [
          1,
          0,
          0.25,
          0.9925742574257426,
          0.3750698914196504,
          0.14285714285714285
         ],
         "theta": [
          "recency_score",
          "frequency_score",
          "monetary_score",
          "rfm_score",
          "avg_satisfaction",
          "avg_delivery_delay"
         ],
         "type": "scatterpolar"
        },
        {
         "fill": "toself",
         "name": "Cluster 285",
         "r": [
          0.5,
          0,
          0,
          0.49504950495049505,
          1,
          0.6666666666666665
         ],
         "theta": [
          "recency_score",
          "frequency_score",
          "monetary_score",
          "rfm_score",
          "avg_satisfaction",
          "avg_delivery_delay"
         ],
         "type": "scatterpolar"
        },
        {
         "fill": "toself",
         "name": "Cluster 286",
         "r": [
          0.75,
          0,
          0.75,
          0.75,
          1,
          0.6666666666666665
         ],
         "theta": [
          "recency_score",
          "frequency_score",
          "monetary_score",
          "rfm_score",
          "avg_satisfaction",
          "avg_delivery_delay"
         ],
         "type": "scatterpolar"
        },
        {
         "fill": "toself",
         "name": "Cluster 287",
         "r": [
          0.5,
          0,
          0,
          0.49504950495049505,
          1,
          0.14285714285714285
         ],
         "theta": [
          "recency_score",
          "frequency_score",
          "monetary_score",
          "rfm_score",
          "avg_satisfaction",
          "avg_delivery_delay"
         ],
         "type": "scatterpolar"
        },
        {
         "fill": "toself",
         "name": "Cluster 288",
         "r": [
          0,
          0,
          1,
          0.00990099009900991,
          1,
          0.09523809523809523
         ],
         "theta": [
          "recency_score",
          "frequency_score",
          "monetary_score",
          "rfm_score",
          "avg_satisfaction",
          "avg_delivery_delay"
         ],
         "type": "scatterpolar"
        },
        {
         "fill": "toself",
         "name": "Cluster 289",
         "r": [
          0,
          0,
          0.75,
          0.007425742574257432,
          1,
          0.19047619047619047
         ],
         "theta": [
          "recency_score",
          "frequency_score",
          "monetary_score",
          "rfm_score",
          "avg_satisfaction",
          "avg_delivery_delay"
         ],
         "type": "scatterpolar"
        },
        {
         "fill": "toself",
         "name": "Cluster 290",
         "r": [
          0,
          0,
          0.25,
          0.0024752475247524774,
          1,
          0.6666666666666665
         ],
         "theta": [
          "recency_score",
          "frequency_score",
          "monetary_score",
          "rfm_score",
          "avg_satisfaction",
          "avg_delivery_delay"
         ],
         "type": "scatterpolar"
        },
        {
         "fill": "toself",
         "name": "Cluster 291",
         "r": [
          0.75,
          0,
          1,
          0.7524752475247525,
          1,
          0.8095238095238095
         ],
         "theta": [
          "recency_score",
          "frequency_score",
          "monetary_score",
          "rfm_score",
          "avg_satisfaction",
          "avg_delivery_delay"
         ],
         "type": "scatterpolar"
        },
        {
         "fill": "toself",
         "name": "Cluster 292",
         "r": [
          1,
          0,
          0.25,
          0.9925742574257426,
          1,
          0.4761904761904761
         ],
         "theta": [
          "recency_score",
          "frequency_score",
          "monetary_score",
          "rfm_score",
          "avg_satisfaction",
          "avg_delivery_delay"
         ],
         "type": "scatterpolar"
        },
        {
         "fill": "toself",
         "name": "Cluster 293",
         "r": [
          0,
          0,
          0.75,
          0.007425742574257432,
          1,
          0.6666666666666665
         ],
         "theta": [
          "recency_score",
          "frequency_score",
          "monetary_score",
          "rfm_score",
          "avg_satisfaction",
          "avg_delivery_delay"
         ],
         "type": "scatterpolar"
        },
        {
         "fill": "toself",
         "name": "Cluster 294",
         "r": [
          0.5,
          0,
          1,
          0.504950495049505,
          1,
          0.9999999999999998
         ],
         "theta": [
          "recency_score",
          "frequency_score",
          "monetary_score",
          "rfm_score",
          "avg_satisfaction",
          "avg_delivery_delay"
         ],
         "type": "scatterpolar"
        },
        {
         "fill": "toself",
         "name": "Cluster 295",
         "r": [
          0.25,
          0,
          0.5,
          0.2524752475247525,
          1,
          0.9047619047619047
         ],
         "theta": [
          "recency_score",
          "frequency_score",
          "monetary_score",
          "rfm_score",
          "avg_satisfaction",
          "avg_delivery_delay"
         ],
         "type": "scatterpolar"
        },
        {
         "fill": "toself",
         "name": "Cluster 296",
         "r": [
          0.25,
          0,
          0.75,
          0.25495049504950495,
          1,
          0.23809523809523808
         ],
         "theta": [
          "recency_score",
          "frequency_score",
          "monetary_score",
          "rfm_score",
          "avg_satisfaction",
          "avg_delivery_delay"
         ],
         "type": "scatterpolar"
        },
        {
         "fill": "toself",
         "name": "Cluster 297",
         "r": [
          0,
          0,
          0.75,
          0.007425742574257432,
          1,
          0.2857142857142857
         ],
         "theta": [
          "recency_score",
          "frequency_score",
          "monetary_score",
          "rfm_score",
          "avg_satisfaction",
          "avg_delivery_delay"
         ],
         "type": "scatterpolar"
        },
        {
         "fill": "toself",
         "name": "Cluster 298",
         "r": [
          0.25,
          0,
          0.75,
          0.25495049504950495,
          1,
          0.4761904761904761
         ],
         "theta": [
          "recency_score",
          "frequency_score",
          "monetary_score",
          "rfm_score",
          "avg_satisfaction",
          "avg_delivery_delay"
         ],
         "type": "scatterpolar"
        },
        {
         "fill": "toself",
         "name": "Cluster 299",
         "r": [
          1,
          0,
          0.5,
          0.995049504950495,
          1,
          0.047619047619047616
         ],
         "theta": [
          "recency_score",
          "frequency_score",
          "monetary_score",
          "rfm_score",
          "avg_satisfaction",
          "avg_delivery_delay"
         ],
         "type": "scatterpolar"
        },
        {
         "fill": "toself",
         "name": "Cluster 300",
         "r": [
          0.5,
          0,
          1,
          0.504950495049505,
          1,
          0.9047619047619047
         ],
         "theta": [
          "recency_score",
          "frequency_score",
          "monetary_score",
          "rfm_score",
          "avg_satisfaction",
          "avg_delivery_delay"
         ],
         "type": "scatterpolar"
        },
        {
         "fill": "toself",
         "name": "Cluster 301",
         "r": [
          0.25,
          0,
          0.75,
          0.25495049504950495,
          1,
          0.6190476190476191
         ],
         "theta": [
          "recency_score",
          "frequency_score",
          "monetary_score",
          "rfm_score",
          "avg_satisfaction",
          "avg_delivery_delay"
         ],
         "type": "scatterpolar"
        },
        {
         "fill": "toself",
         "name": "Cluster 302",
         "r": [
          0.25,
          0,
          0.75,
          0.25495049504950495,
          1,
          0.6666666666666665
         ],
         "theta": [
          "recency_score",
          "frequency_score",
          "monetary_score",
          "rfm_score",
          "avg_satisfaction",
          "avg_delivery_delay"
         ],
         "type": "scatterpolar"
        },
        {
         "fill": "toself",
         "name": "Cluster 303",
         "r": [
          0.5,
          0,
          0,
          0.49504950495049505,
          1,
          0.42857142857142855
         ],
         "theta": [
          "recency_score",
          "frequency_score",
          "monetary_score",
          "rfm_score",
          "avg_satisfaction",
          "avg_delivery_delay"
         ],
         "type": "scatterpolar"
        },
        {
         "fill": "toself",
         "name": "Cluster 304",
         "r": [
          0.75,
          0,
          0.75,
          0.75,
          1,
          0.9047619047619047
         ],
         "theta": [
          "recency_score",
          "frequency_score",
          "monetary_score",
          "rfm_score",
          "avg_satisfaction",
          "avg_delivery_delay"
         ],
         "type": "scatterpolar"
        },
        {
         "fill": "toself",
         "name": "Cluster 305",
         "r": [
          0.75,
          0,
          0.5,
          0.7475247524752475,
          1,
          0.4761904761904761
         ],
         "theta": [
          "recency_score",
          "frequency_score",
          "monetary_score",
          "rfm_score",
          "avg_satisfaction",
          "avg_delivery_delay"
         ],
         "type": "scatterpolar"
        },
        {
         "fill": "toself",
         "name": "Cluster 306",
         "r": [
          0.5,
          0,
          0.25,
          0.4975247524752475,
          0.3750698914196504,
          0.2857142857142857
         ],
         "theta": [
          "recency_score",
          "frequency_score",
          "monetary_score",
          "rfm_score",
          "avg_satisfaction",
          "avg_delivery_delay"
         ],
         "type": "scatterpolar"
        },
        {
         "fill": "toself",
         "name": "Cluster 307",
         "r": [
          0.5,
          0,
          0.25,
          0.4975247524752475,
          1,
          0.14285714285714285
         ],
         "theta": [
          "recency_score",
          "frequency_score",
          "monetary_score",
          "rfm_score",
          "avg_satisfaction",
          "avg_delivery_delay"
         ],
         "type": "scatterpolar"
        },
        {
         "fill": "toself",
         "name": "Cluster 308",
         "r": [
          0.5,
          0,
          0.25,
          0.4975247524752475,
          1,
          0.5714285714285714
         ],
         "theta": [
          "recency_score",
          "frequency_score",
          "monetary_score",
          "rfm_score",
          "avg_satisfaction",
          "avg_delivery_delay"
         ],
         "type": "scatterpolar"
        },
        {
         "fill": "toself",
         "name": "Cluster 309",
         "r": [
          0,
          0,
          0.25,
          0.0024752475247524774,
          1,
          0.23809523809523808
         ],
         "theta": [
          "recency_score",
          "frequency_score",
          "monetary_score",
          "rfm_score",
          "avg_satisfaction",
          "avg_delivery_delay"
         ],
         "type": "scatterpolar"
        },
        {
         "fill": "toself",
         "name": "Cluster 310",
         "r": [
          0,
          0,
          1,
          0.00990099009900991,
          1,
          0.7619047619047619
         ],
         "theta": [
          "recency_score",
          "frequency_score",
          "monetary_score",
          "rfm_score",
          "avg_satisfaction",
          "avg_delivery_delay"
         ],
         "type": "scatterpolar"
        },
        {
         "fill": "toself",
         "name": "Cluster 311",
         "r": [
          1,
          0,
          0.75,
          0.9975247524752475,
          1,
          0.6190476190476191
         ],
         "theta": [
          "recency_score",
          "frequency_score",
          "monetary_score",
          "rfm_score",
          "avg_satisfaction",
          "avg_delivery_delay"
         ],
         "type": "scatterpolar"
        },
        {
         "fill": "toself",
         "name": "Cluster 312",
         "r": [
          0.25,
          0,
          0.25,
          0.25,
          1,
          0.09523809523809523
         ],
         "theta": [
          "recency_score",
          "frequency_score",
          "monetary_score",
          "rfm_score",
          "avg_satisfaction",
          "avg_delivery_delay"
         ],
         "type": "scatterpolar"
        },
        {
         "fill": "toself",
         "name": "Cluster 313",
         "r": [
          0.5,
          0,
          0.5,
          0.5,
          1,
          0.7142857142857142
         ],
         "theta": [
          "recency_score",
          "frequency_score",
          "monetary_score",
          "rfm_score",
          "avg_satisfaction",
          "avg_delivery_delay"
         ],
         "type": "scatterpolar"
        },
        {
         "fill": "toself",
         "name": "Cluster 314",
         "r": [
          0.25,
          0,
          0.75,
          0.25495049504950495,
          1,
          0.8095238095238095
         ],
         "theta": [
          "recency_score",
          "frequency_score",
          "monetary_score",
          "rfm_score",
          "avg_satisfaction",
          "avg_delivery_delay"
         ],
         "type": "scatterpolar"
        },
        {
         "fill": "toself",
         "name": "Cluster 315",
         "r": [
          0.25,
          0,
          0.75,
          0.25495049504950495,
          1,
          0.857142857142857
         ],
         "theta": [
          "recency_score",
          "frequency_score",
          "monetary_score",
          "rfm_score",
          "avg_satisfaction",
          "avg_delivery_delay"
         ],
         "type": "scatterpolar"
        },
        {
         "fill": "toself",
         "name": "Cluster 316",
         "r": [
          0.5,
          0,
          0.25,
          0.4975247524752475,
          1,
          0.09523809523809523
         ],
         "theta": [
          "recency_score",
          "frequency_score",
          "monetary_score",
          "rfm_score",
          "avg_satisfaction",
          "avg_delivery_delay"
         ],
         "type": "scatterpolar"
        },
        {
         "fill": "toself",
         "name": "Cluster 317",
         "r": [
          0.5,
          0,
          0,
          0.49504950495049505,
          0.3750698914196504,
          0.2857142857142857
         ],
         "theta": [
          "recency_score",
          "frequency_score",
          "monetary_score",
          "rfm_score",
          "avg_satisfaction",
          "avg_delivery_delay"
         ],
         "type": "scatterpolar"
        },
        {
         "fill": "toself",
         "name": "Cluster 318",
         "r": [
          0,
          0,
          0.25,
          0.0024752475247524774,
          1,
          0.857142857142857
         ],
         "theta": [
          "recency_score",
          "frequency_score",
          "monetary_score",
          "rfm_score",
          "avg_satisfaction",
          "avg_delivery_delay"
         ],
         "type": "scatterpolar"
        },
        {
         "fill": "toself",
         "name": "Cluster 319",
         "r": [
          0,
          0,
          0,
          0,
          1,
          0.7142857142857142
         ],
         "theta": [
          "recency_score",
          "frequency_score",
          "monetary_score",
          "rfm_score",
          "avg_satisfaction",
          "avg_delivery_delay"
         ],
         "type": "scatterpolar"
        }
       ],
       "layout": {
        "polar": {
         "radialaxis": {
          "range": [
           0,
           1
          ],
          "visible": true
         }
        },
        "showlegend": true,
        "template": {
         "data": {
          "bar": [
           {
            "error_x": {
             "color": "#2a3f5f"
            },
            "error_y": {
             "color": "#2a3f5f"
            },
            "marker": {
             "line": {
              "color": "#E5ECF6",
              "width": 0.5
             },
             "pattern": {
              "fillmode": "overlay",
              "size": 10,
              "solidity": 0.2
             }
            },
            "type": "bar"
           }
          ],
          "barpolar": [
           {
            "marker": {
             "line": {
              "color": "#E5ECF6",
              "width": 0.5
             },
             "pattern": {
              "fillmode": "overlay",
              "size": 10,
              "solidity": 0.2
             }
            },
            "type": "barpolar"
           }
          ],
          "carpet": [
           {
            "aaxis": {
             "endlinecolor": "#2a3f5f",
             "gridcolor": "white",
             "linecolor": "white",
             "minorgridcolor": "white",
             "startlinecolor": "#2a3f5f"
            },
            "baxis": {
             "endlinecolor": "#2a3f5f",
             "gridcolor": "white",
             "linecolor": "white",
             "minorgridcolor": "white",
             "startlinecolor": "#2a3f5f"
            },
            "type": "carpet"
           }
          ],
          "choropleth": [
           {
            "colorbar": {
             "outlinewidth": 0,
             "ticks": ""
            },
            "type": "choropleth"
           }
          ],
          "contour": [
           {
            "colorbar": {
             "outlinewidth": 0,
             "ticks": ""
            },
            "colorscale": [
             [
              0,
              "#0d0887"
             ],
             [
              0.1111111111111111,
              "#46039f"
             ],
             [
              0.2222222222222222,
              "#7201a8"
             ],
             [
              0.3333333333333333,
              "#9c179e"
             ],
             [
              0.4444444444444444,
              "#bd3786"
             ],
             [
              0.5555555555555556,
              "#d8576b"
             ],
             [
              0.6666666666666666,
              "#ed7953"
             ],
             [
              0.7777777777777778,
              "#fb9f3a"
             ],
             [
              0.8888888888888888,
              "#fdca26"
             ],
             [
              1,
              "#f0f921"
             ]
            ],
            "type": "contour"
           }
          ],
          "contourcarpet": [
           {
            "colorbar": {
             "outlinewidth": 0,
             "ticks": ""
            },
            "type": "contourcarpet"
           }
          ],
          "heatmap": [
           {
            "colorbar": {
             "outlinewidth": 0,
             "ticks": ""
            },
            "colorscale": [
             [
              0,
              "#0d0887"
             ],
             [
              0.1111111111111111,
              "#46039f"
             ],
             [
              0.2222222222222222,
              "#7201a8"
             ],
             [
              0.3333333333333333,
              "#9c179e"
             ],
             [
              0.4444444444444444,
              "#bd3786"
             ],
             [
              0.5555555555555556,
              "#d8576b"
             ],
             [
              0.6666666666666666,
              "#ed7953"
             ],
             [
              0.7777777777777778,
              "#fb9f3a"
             ],
             [
              0.8888888888888888,
              "#fdca26"
             ],
             [
              1,
              "#f0f921"
             ]
            ],
            "type": "heatmap"
           }
          ],
          "heatmapgl": [
           {
            "colorbar": {
             "outlinewidth": 0,
             "ticks": ""
            },
            "colorscale": [
             [
              0,
              "#0d0887"
             ],
             [
              0.1111111111111111,
              "#46039f"
             ],
             [
              0.2222222222222222,
              "#7201a8"
             ],
             [
              0.3333333333333333,
              "#9c179e"
             ],
             [
              0.4444444444444444,
              "#bd3786"
             ],
             [
              0.5555555555555556,
              "#d8576b"
             ],
             [
              0.6666666666666666,
              "#ed7953"
             ],
             [
              0.7777777777777778,
              "#fb9f3a"
             ],
             [
              0.8888888888888888,
              "#fdca26"
             ],
             [
              1,
              "#f0f921"
             ]
            ],
            "type": "heatmapgl"
           }
          ],
          "histogram": [
           {
            "marker": {
             "pattern": {
              "fillmode": "overlay",
              "size": 10,
              "solidity": 0.2
             }
            },
            "type": "histogram"
           }
          ],
          "histogram2d": [
           {
            "colorbar": {
             "outlinewidth": 0,
             "ticks": ""
            },
            "colorscale": [
             [
              0,
              "#0d0887"
             ],
             [
              0.1111111111111111,
              "#46039f"
             ],
             [
              0.2222222222222222,
              "#7201a8"
             ],
             [
              0.3333333333333333,
              "#9c179e"
             ],
             [
              0.4444444444444444,
              "#bd3786"
             ],
             [
              0.5555555555555556,
              "#d8576b"
             ],
             [
              0.6666666666666666,
              "#ed7953"
             ],
             [
              0.7777777777777778,
              "#fb9f3a"
             ],
             [
              0.8888888888888888,
              "#fdca26"
             ],
             [
              1,
              "#f0f921"
             ]
            ],
            "type": "histogram2d"
           }
          ],
          "histogram2dcontour": [
           {
            "colorbar": {
             "outlinewidth": 0,
             "ticks": ""
            },
            "colorscale": [
             [
              0,
              "#0d0887"
             ],
             [
              0.1111111111111111,
              "#46039f"
             ],
             [
              0.2222222222222222,
              "#7201a8"
             ],
             [
              0.3333333333333333,
              "#9c179e"
             ],
             [
              0.4444444444444444,
              "#bd3786"
             ],
             [
              0.5555555555555556,
              "#d8576b"
             ],
             [
              0.6666666666666666,
              "#ed7953"
             ],
             [
              0.7777777777777778,
              "#fb9f3a"
             ],
             [
              0.8888888888888888,
              "#fdca26"
             ],
             [
              1,
              "#f0f921"
             ]
            ],
            "type": "histogram2dcontour"
           }
          ],
          "mesh3d": [
           {
            "colorbar": {
             "outlinewidth": 0,
             "ticks": ""
            },
            "type": "mesh3d"
           }
          ],
          "parcoords": [
           {
            "line": {
             "colorbar": {
              "outlinewidth": 0,
              "ticks": ""
             }
            },
            "type": "parcoords"
           }
          ],
          "pie": [
           {
            "automargin": true,
            "type": "pie"
           }
          ],
          "scatter": [
           {
            "fillpattern": {
             "fillmode": "overlay",
             "size": 10,
             "solidity": 0.2
            },
            "type": "scatter"
           }
          ],
          "scatter3d": [
           {
            "line": {
             "colorbar": {
              "outlinewidth": 0,
              "ticks": ""
             }
            },
            "marker": {
             "colorbar": {
              "outlinewidth": 0,
              "ticks": ""
             }
            },
            "type": "scatter3d"
           }
          ],
          "scattercarpet": [
           {
            "marker": {
             "colorbar": {
              "outlinewidth": 0,
              "ticks": ""
             }
            },
            "type": "scattercarpet"
           }
          ],
          "scattergeo": [
           {
            "marker": {
             "colorbar": {
              "outlinewidth": 0,
              "ticks": ""
             }
            },
            "type": "scattergeo"
           }
          ],
          "scattergl": [
           {
            "marker": {
             "colorbar": {
              "outlinewidth": 0,
              "ticks": ""
             }
            },
            "type": "scattergl"
           }
          ],
          "scattermapbox": [
           {
            "marker": {
             "colorbar": {
              "outlinewidth": 0,
              "ticks": ""
             }
            },
            "type": "scattermapbox"
           }
          ],
          "scatterpolar": [
           {
            "marker": {
             "colorbar": {
              "outlinewidth": 0,
              "ticks": ""
             }
            },
            "type": "scatterpolar"
           }
          ],
          "scatterpolargl": [
           {
            "marker": {
             "colorbar": {
              "outlinewidth": 0,
              "ticks": ""
             }
            },
            "type": "scatterpolargl"
           }
          ],
          "scatterternary": [
           {
            "marker": {
             "colorbar": {
              "outlinewidth": 0,
              "ticks": ""
             }
            },
            "type": "scatterternary"
           }
          ],
          "surface": [
           {
            "colorbar": {
             "outlinewidth": 0,
             "ticks": ""
            },
            "colorscale": [
             [
              0,
              "#0d0887"
             ],
             [
              0.1111111111111111,
              "#46039f"
             ],
             [
              0.2222222222222222,
              "#7201a8"
             ],
             [
              0.3333333333333333,
              "#9c179e"
             ],
             [
              0.4444444444444444,
              "#bd3786"
             ],
             [
              0.5555555555555556,
              "#d8576b"
             ],
             [
              0.6666666666666666,
              "#ed7953"
             ],
             [
              0.7777777777777778,
              "#fb9f3a"
             ],
             [
              0.8888888888888888,
              "#fdca26"
             ],
             [
              1,
              "#f0f921"
             ]
            ],
            "type": "surface"
           }
          ],
          "table": [
           {
            "cells": {
             "fill": {
              "color": "#EBF0F8"
             },
             "line": {
              "color": "white"
             }
            },
            "header": {
             "fill": {
              "color": "#C8D4E3"
             },
             "line": {
              "color": "white"
             }
            },
            "type": "table"
           }
          ]
         },
         "layout": {
          "annotationdefaults": {
           "arrowcolor": "#2a3f5f",
           "arrowhead": 0,
           "arrowwidth": 1
          },
          "autotypenumbers": "strict",
          "coloraxis": {
           "colorbar": {
            "outlinewidth": 0,
            "ticks": ""
           }
          },
          "colorscale": {
           "diverging": [
            [
             0,
             "#8e0152"
            ],
            [
             0.1,
             "#c51b7d"
            ],
            [
             0.2,
             "#de77ae"
            ],
            [
             0.3,
             "#f1b6da"
            ],
            [
             0.4,
             "#fde0ef"
            ],
            [
             0.5,
             "#f7f7f7"
            ],
            [
             0.6,
             "#e6f5d0"
            ],
            [
             0.7,
             "#b8e186"
            ],
            [
             0.8,
             "#7fbc41"
            ],
            [
             0.9,
             "#4d9221"
            ],
            [
             1,
             "#276419"
            ]
           ],
           "sequential": [
            [
             0,
             "#0d0887"
            ],
            [
             0.1111111111111111,
             "#46039f"
            ],
            [
             0.2222222222222222,
             "#7201a8"
            ],
            [
             0.3333333333333333,
             "#9c179e"
            ],
            [
             0.4444444444444444,
             "#bd3786"
            ],
            [
             0.5555555555555556,
             "#d8576b"
            ],
            [
             0.6666666666666666,
             "#ed7953"
            ],
            [
             0.7777777777777778,
             "#fb9f3a"
            ],
            [
             0.8888888888888888,
             "#fdca26"
            ],
            [
             1,
             "#f0f921"
            ]
           ],
           "sequentialminus": [
            [
             0,
             "#0d0887"
            ],
            [
             0.1111111111111111,
             "#46039f"
            ],
            [
             0.2222222222222222,
             "#7201a8"
            ],
            [
             0.3333333333333333,
             "#9c179e"
            ],
            [
             0.4444444444444444,
             "#bd3786"
            ],
            [
             0.5555555555555556,
             "#d8576b"
            ],
            [
             0.6666666666666666,
             "#ed7953"
            ],
            [
             0.7777777777777778,
             "#fb9f3a"
            ],
            [
             0.8888888888888888,
             "#fdca26"
            ],
            [
             1,
             "#f0f921"
            ]
           ]
          },
          "colorway": [
           "#636efa",
           "#EF553B",
           "#00cc96",
           "#ab63fa",
           "#FFA15A",
           "#19d3f3",
           "#FF6692",
           "#B6E880",
           "#FF97FF",
           "#FECB52"
          ],
          "font": {
           "color": "#2a3f5f"
          },
          "geo": {
           "bgcolor": "white",
           "lakecolor": "white",
           "landcolor": "#E5ECF6",
           "showlakes": true,
           "showland": true,
           "subunitcolor": "white"
          },
          "hoverlabel": {
           "align": "left"
          },
          "hovermode": "closest",
          "mapbox": {
           "style": "light"
          },
          "paper_bgcolor": "white",
          "plot_bgcolor": "#E5ECF6",
          "polar": {
           "angularaxis": {
            "gridcolor": "white",
            "linecolor": "white",
            "ticks": ""
           },
           "bgcolor": "#E5ECF6",
           "radialaxis": {
            "gridcolor": "white",
            "linecolor": "white",
            "ticks": ""
           }
          },
          "scene": {
           "xaxis": {
            "backgroundcolor": "#E5ECF6",
            "gridcolor": "white",
            "gridwidth": 2,
            "linecolor": "white",
            "showbackground": true,
            "ticks": "",
            "zerolinecolor": "white"
           },
           "yaxis": {
            "backgroundcolor": "#E5ECF6",
            "gridcolor": "white",
            "gridwidth": 2,
            "linecolor": "white",
            "showbackground": true,
            "ticks": "",
            "zerolinecolor": "white"
           },
           "zaxis": {
            "backgroundcolor": "#E5ECF6",
            "gridcolor": "white",
            "gridwidth": 2,
            "linecolor": "white",
            "showbackground": true,
            "ticks": "",
            "zerolinecolor": "white"
           }
          },
          "shapedefaults": {
           "line": {
            "color": "#2a3f5f"
           }
          },
          "ternary": {
           "aaxis": {
            "gridcolor": "white",
            "linecolor": "white",
            "ticks": ""
           },
           "baxis": {
            "gridcolor": "white",
            "linecolor": "white",
            "ticks": ""
           },
           "bgcolor": "#E5ECF6",
           "caxis": {
            "gridcolor": "white",
            "linecolor": "white",
            "ticks": ""
           }
          },
          "title": {
           "x": 0.05
          },
          "xaxis": {
           "automargin": true,
           "gridcolor": "white",
           "linecolor": "white",
           "ticks": "",
           "title": {
            "standoff": 15
           },
           "zerolinecolor": "white",
           "zerolinewidth": 2
          },
          "yaxis": {
           "automargin": true,
           "gridcolor": "white",
           "linecolor": "white",
           "ticks": "",
           "title": {
            "standoff": 15
           },
           "zerolinecolor": "white",
           "zerolinewidth": 2
          }
         }
        },
        "title": {
         "font": {
          "color": "blue",
          "size": 18
         },
         "text": "Clusters mean",
         "x": 0.5,
         "xanchor": "center",
         "y": 0.95,
         "yanchor": "top"
        }
       }
      }
     },
     "metadata": {},
     "output_type": "display_data"
    }
   ],
   "source": [
    "plot_radars(data=X_test_clusters, group=\"cluster_labels\")"
   ]
  },
  {
   "cell_type": "code",
   "execution_count": null,
   "metadata": {},
   "outputs": [],
   "source": []
  }
 ],
 "metadata": {
  "kernelspec": {
   "display_name": "Python 3",
   "language": "python",
   "name": "python3"
  },
  "language_info": {
   "codemirror_mode": {
    "name": "ipython",
    "version": 3
   },
   "file_extension": ".py",
   "mimetype": "text/x-python",
   "name": "python",
   "nbconvert_exporter": "python",
   "pygments_lexer": "ipython3",
   "version": "3.10.12"
  }
 },
 "nbformat": 4,
 "nbformat_minor": 2
}
