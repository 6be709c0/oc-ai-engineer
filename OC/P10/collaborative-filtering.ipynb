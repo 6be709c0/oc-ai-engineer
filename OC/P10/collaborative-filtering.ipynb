{
 "cells": [
  {
   "cell_type": "code",
   "execution_count": 1,
   "metadata": {},
   "outputs": [],
   "source": [
    "from helpers import *"
   ]
  },
  {
   "cell_type": "code",
   "execution_count": 2,
   "metadata": {},
   "outputs": [],
   "source": [
    "# Load datasets\n",
    "df_articles, df_clicks, article_embeddings = load_dataset()"
   ]
  },
  {
   "cell_type": "code",
   "execution_count": 3,
   "metadata": {},
   "outputs": [
    {
     "name": "stdout",
     "output_type": "stream",
     "text": [
      "df_articles shape (364047, 5)\n",
      "article_embeddings shape (364047, 250)\n"
     ]
    }
   ],
   "source": [
    "# preprocess data\n",
    "df_articles = preprocessing_articles(df_articles)\n",
    "df_clicks = preprocessing_clicks(df_clicks)\n",
    "article_embeddings_df = pd.DataFrame(article_embeddings)\n",
    "\n",
    "print(\"df_articles shape\", df_articles.shape)\n",
    "print(\"article_embeddings shape\", article_embeddings_df.shape)"
   ]
  },
  {
   "cell_type": "code",
   "execution_count": 4,
   "metadata": {},
   "outputs": [],
   "source": [
    "articles_clicked = df_clicks.click_article_id.value_counts().index\n",
    "df_articles = df_articles.loc[articles_clicked]\n",
    "article_embeddings_df = article_embeddings_df.loc[articles_clicked]"
   ]
  },
  {
   "cell_type": "code",
   "execution_count": 5,
   "metadata": {},
   "outputs": [
    {
     "name": "stdout",
     "output_type": "stream",
     "text": [
      "df_articles shape (46033, 5)\n",
      "article_embeddings shape (46033, 250)\n"
     ]
    }
   ],
   "source": [
    "print(\"df_articles shape\", df_articles.shape)\n",
    "print(\"article_embeddings shape\", article_embeddings_df.shape)"
   ]
  },
  {
   "cell_type": "code",
   "execution_count": 7,
   "metadata": {},
   "outputs": [],
   "source": [
    "\n",
    "# Extract interactions\n",
    "user_ids = df_clicks['user_id'].astype('category').cat.codes.values\n",
    "article_ids = df_clicks['click_article_id'].astype('category').cat.codes.values\n",
    "interactions = np.ones(len(df_clicks))  # Every click is considered as an interaction\n"
   ]
  },
  {
   "cell_type": "code",
   "execution_count": 10,
   "metadata": {},
   "outputs": [],
   "source": [
    "\n",
    "# Define the number of unique users and articles\n",
    "num_users = df_clicks['user_id'].nunique()\n",
    "num_articles = df_clicks['click_article_id'].nunique()\n",
    "\n",
    "# Combine data into one array\n",
    "interaction_data = np.stack([user_ids, article_ids, interactions], axis=1)\n",
    "\n",
    "# Split data into train and validation sets\n",
    "train_data, val_data = train_test_split(interaction_data, test_size=0.1, random_state=42)\n"
   ]
  },
  {
   "cell_type": "code",
   "execution_count": 11,
   "metadata": {},
   "outputs": [],
   "source": [
    "# Step 2: Build the Model\n",
    "class CollaborativeFilteringModel(tf.keras.Model):\n",
    "    def __init__(self, num_users, num_articles, embedding_dim):\n",
    "        super(CollaborativeFilteringModel, self).__init__()\n",
    "        self.user_embedding = layers.Embedding(num_users, embedding_dim, embeddings_regularizer=tf.keras.regularizers.l2(1e-6))\n",
    "        self.article_embedding = layers.Embedding(num_articles, embedding_dim, embeddings_regularizer=tf.keras.regularizers.l2(1e-6))\n",
    "        self.dot = layers.Dot(axes=1)\n",
    "    \n",
    "    def call(self, inputs):\n",
    "        user_ids, article_ids = inputs[:, 0], inputs[:, 1]\n",
    "        user_embedding = self.user_embedding(user_ids)\n",
    "        article_embedding = self.article_embedding(article_ids)\n",
    "        dot_product = self.dot([user_embedding, article_embedding])\n",
    "        return tf.nn.sigmoid(dot_product)\n",
    "\n",
    "def create_interaction_instances(data):\n",
    "    X = data[:, :2]  # user_id and article_id\n",
    "    y = data[:, 2]   # interaction\n",
    "    return X, y"
   ]
  },
  {
   "cell_type": "code",
   "execution_count": 12,
   "metadata": {},
   "outputs": [],
   "source": [
    "embedding_dim = 50\n",
    "model = CollaborativeFilteringModel(num_users, num_articles, embedding_dim)\n",
    "model.compile(optimizer='adam', loss='binary_crossentropy', metrics=[ndcg_5, ndcg_10, mean_mrr, g_auc])"
   ]
  },
  {
   "cell_type": "code",
   "execution_count": null,
   "metadata": {},
   "outputs": [],
   "source": [
    "# Prepare training and validation instances\n",
    "X_train, y_train = create_interaction_instances(train_data)\n",
    "X_val, y_val = create_interaction_instances(val_data)"
   ]
  }
 ],
 "metadata": {
  "kernelspec": {
   "display_name": "Python 3",
   "language": "python",
   "name": "python3"
  },
  "language_info": {
   "codemirror_mode": {
    "name": "ipython",
    "version": 3
   },
   "file_extension": ".py",
   "mimetype": "text/x-python",
   "name": "python",
   "nbconvert_exporter": "python",
   "pygments_lexer": "ipython3",
   "version": "3.8.19"
  }
 },
 "nbformat": 4,
 "nbformat_minor": 2
}
