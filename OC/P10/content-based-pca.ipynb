{
 "cells": [
  {
   "cell_type": "code",
   "execution_count": 1,
   "metadata": {
    "scrolled": true
   },
   "outputs": [],
   "source": [
    "from helpers import *"
   ]
  },
  {
   "cell_type": "code",
   "execution_count": 2,
   "metadata": {},
   "outputs": [],
   "source": [
    "# Load datasets\n",
    "df_articles, df_clicks, article_embeddings = load_dataset()"
   ]
  },
  {
   "cell_type": "code",
   "execution_count": 3,
   "metadata": {},
   "outputs": [
    {
     "data": {
      "text/html": [
       "<div>\n",
       "<style scoped>\n",
       "    .dataframe tbody tr th:only-of-type {\n",
       "        vertical-align: middle;\n",
       "    }\n",
       "\n",
       "    .dataframe tbody tr th {\n",
       "        vertical-align: top;\n",
       "    }\n",
       "\n",
       "    .dataframe thead th {\n",
       "        text-align: right;\n",
       "    }\n",
       "</style>\n",
       "<table border=\"1\" class=\"dataframe\">\n",
       "  <thead>\n",
       "    <tr style=\"text-align: right;\">\n",
       "      <th></th>\n",
       "      <th>user_id</th>\n",
       "      <th>session_id</th>\n",
       "      <th>session_start</th>\n",
       "      <th>session_size</th>\n",
       "      <th>click_article_id</th>\n",
       "      <th>click_timestamp</th>\n",
       "      <th>click_environment</th>\n",
       "      <th>click_deviceGroup</th>\n",
       "      <th>click_os</th>\n",
       "      <th>click_country</th>\n",
       "      <th>click_region</th>\n",
       "      <th>click_referrer_type</th>\n",
       "    </tr>\n",
       "  </thead>\n",
       "  <tbody>\n",
       "    <tr>\n",
       "      <th>0</th>\n",
       "      <td>93863</td>\n",
       "      <td>1507865792177843</td>\n",
       "      <td>1507865792000</td>\n",
       "      <td>2</td>\n",
       "      <td>96210</td>\n",
       "      <td>1507865832925</td>\n",
       "      <td>4</td>\n",
       "      <td>3</td>\n",
       "      <td>2</td>\n",
       "      <td>1</td>\n",
       "      <td>21</td>\n",
       "      <td>2</td>\n",
       "    </tr>\n",
       "    <tr>\n",
       "      <th>1</th>\n",
       "      <td>93863</td>\n",
       "      <td>1507865792177843</td>\n",
       "      <td>1507865792000</td>\n",
       "      <td>2</td>\n",
       "      <td>158094</td>\n",
       "      <td>1507865862925</td>\n",
       "      <td>4</td>\n",
       "      <td>3</td>\n",
       "      <td>2</td>\n",
       "      <td>1</td>\n",
       "      <td>21</td>\n",
       "      <td>2</td>\n",
       "    </tr>\n",
       "    <tr>\n",
       "      <th>2</th>\n",
       "      <td>294036</td>\n",
       "      <td>1507865795185844</td>\n",
       "      <td>1507865795000</td>\n",
       "      <td>2</td>\n",
       "      <td>20691</td>\n",
       "      <td>1507865819095</td>\n",
       "      <td>4</td>\n",
       "      <td>3</td>\n",
       "      <td>20</td>\n",
       "      <td>1</td>\n",
       "      <td>9</td>\n",
       "      <td>2</td>\n",
       "    </tr>\n",
       "    <tr>\n",
       "      <th>3</th>\n",
       "      <td>294036</td>\n",
       "      <td>1507865795185844</td>\n",
       "      <td>1507865795000</td>\n",
       "      <td>2</td>\n",
       "      <td>96210</td>\n",
       "      <td>1507865849095</td>\n",
       "      <td>4</td>\n",
       "      <td>3</td>\n",
       "      <td>20</td>\n",
       "      <td>1</td>\n",
       "      <td>9</td>\n",
       "      <td>2</td>\n",
       "    </tr>\n",
       "    <tr>\n",
       "      <th>4</th>\n",
       "      <td>77136</td>\n",
       "      <td>1507865796257845</td>\n",
       "      <td>1507865796000</td>\n",
       "      <td>2</td>\n",
       "      <td>336245</td>\n",
       "      <td>1507866133178</td>\n",
       "      <td>4</td>\n",
       "      <td>3</td>\n",
       "      <td>2</td>\n",
       "      <td>1</td>\n",
       "      <td>25</td>\n",
       "      <td>2</td>\n",
       "    </tr>\n",
       "    <tr>\n",
       "      <th>...</th>\n",
       "      <td>...</td>\n",
       "      <td>...</td>\n",
       "      <td>...</td>\n",
       "      <td>...</td>\n",
       "      <td>...</td>\n",
       "      <td>...</td>\n",
       "      <td>...</td>\n",
       "      <td>...</td>\n",
       "      <td>...</td>\n",
       "      <td>...</td>\n",
       "      <td>...</td>\n",
       "      <td>...</td>\n",
       "    </tr>\n",
       "    <tr>\n",
       "      <th>2988176</th>\n",
       "      <td>15107</td>\n",
       "      <td>1507872960434128</td>\n",
       "      <td>1507872960000</td>\n",
       "      <td>4</td>\n",
       "      <td>20691</td>\n",
       "      <td>1507873325254</td>\n",
       "      <td>4</td>\n",
       "      <td>4</td>\n",
       "      <td>2</td>\n",
       "      <td>1</td>\n",
       "      <td>14</td>\n",
       "      <td>1</td>\n",
       "    </tr>\n",
       "    <tr>\n",
       "      <th>2988177</th>\n",
       "      <td>15107</td>\n",
       "      <td>1507872960434128</td>\n",
       "      <td>1507872960000</td>\n",
       "      <td>4</td>\n",
       "      <td>327984</td>\n",
       "      <td>1507873616575</td>\n",
       "      <td>4</td>\n",
       "      <td>4</td>\n",
       "      <td>2</td>\n",
       "      <td>1</td>\n",
       "      <td>14</td>\n",
       "      <td>1</td>\n",
       "    </tr>\n",
       "    <tr>\n",
       "      <th>2988178</th>\n",
       "      <td>15107</td>\n",
       "      <td>1507872960434128</td>\n",
       "      <td>1507872960000</td>\n",
       "      <td>4</td>\n",
       "      <td>172760</td>\n",
       "      <td>1507873646575</td>\n",
       "      <td>4</td>\n",
       "      <td>4</td>\n",
       "      <td>2</td>\n",
       "      <td>1</td>\n",
       "      <td>14</td>\n",
       "      <td>1</td>\n",
       "    </tr>\n",
       "    <tr>\n",
       "      <th>2988179</th>\n",
       "      <td>294270</td>\n",
       "      <td>1507872968214129</td>\n",
       "      <td>1507872968000</td>\n",
       "      <td>2</td>\n",
       "      <td>96210</td>\n",
       "      <td>1507873274995</td>\n",
       "      <td>4</td>\n",
       "      <td>3</td>\n",
       "      <td>2</td>\n",
       "      <td>1</td>\n",
       "      <td>25</td>\n",
       "      <td>2</td>\n",
       "    </tr>\n",
       "    <tr>\n",
       "      <th>2988180</th>\n",
       "      <td>294270</td>\n",
       "      <td>1507872968214129</td>\n",
       "      <td>1507872968000</td>\n",
       "      <td>2</td>\n",
       "      <td>336245</td>\n",
       "      <td>1507873304995</td>\n",
       "      <td>4</td>\n",
       "      <td>3</td>\n",
       "      <td>2</td>\n",
       "      <td>1</td>\n",
       "      <td>25</td>\n",
       "      <td>2</td>\n",
       "    </tr>\n",
       "  </tbody>\n",
       "</table>\n",
       "<p>2988181 rows × 12 columns</p>\n",
       "</div>"
      ],
      "text/plain": [
       "        user_id        session_id  session_start session_size  \\\n",
       "0         93863  1507865792177843  1507865792000            2   \n",
       "1         93863  1507865792177843  1507865792000            2   \n",
       "2        294036  1507865795185844  1507865795000            2   \n",
       "3        294036  1507865795185844  1507865795000            2   \n",
       "4         77136  1507865796257845  1507865796000            2   \n",
       "...         ...               ...            ...          ...   \n",
       "2988176   15107  1507872960434128  1507872960000            4   \n",
       "2988177   15107  1507872960434128  1507872960000            4   \n",
       "2988178   15107  1507872960434128  1507872960000            4   \n",
       "2988179  294270  1507872968214129  1507872968000            2   \n",
       "2988180  294270  1507872968214129  1507872968000            2   \n",
       "\n",
       "        click_article_id click_timestamp click_environment click_deviceGroup  \\\n",
       "0                  96210   1507865832925                 4                 3   \n",
       "1                 158094   1507865862925                 4                 3   \n",
       "2                  20691   1507865819095                 4                 3   \n",
       "3                  96210   1507865849095                 4                 3   \n",
       "4                 336245   1507866133178                 4                 3   \n",
       "...                  ...             ...               ...               ...   \n",
       "2988176            20691   1507873325254                 4                 4   \n",
       "2988177           327984   1507873616575                 4                 4   \n",
       "2988178           172760   1507873646575                 4                 4   \n",
       "2988179            96210   1507873274995                 4                 3   \n",
       "2988180           336245   1507873304995                 4                 3   \n",
       "\n",
       "        click_os click_country click_region click_referrer_type  \n",
       "0              2             1           21                   2  \n",
       "1              2             1           21                   2  \n",
       "2             20             1            9                   2  \n",
       "3             20             1            9                   2  \n",
       "4              2             1           25                   2  \n",
       "...          ...           ...          ...                 ...  \n",
       "2988176        2             1           14                   1  \n",
       "2988177        2             1           14                   1  \n",
       "2988178        2             1           14                   1  \n",
       "2988179        2             1           25                   2  \n",
       "2988180        2             1           25                   2  \n",
       "\n",
       "[2988181 rows x 12 columns]"
      ]
     },
     "execution_count": 3,
     "metadata": {},
     "output_type": "execute_result"
    }
   ],
   "source": [
    "df_clicks"
   ]
  },
  {
   "cell_type": "code",
   "execution_count": 4,
   "metadata": {},
   "outputs": [
    {
     "data": {
      "image/png": "[encoded data removed]",
      "text/plain": [
       "<Figure size 1000x400 with 1 Axes>"
      ]
     },
     "metadata": {},
     "output_type": "display_data"
    }
   ],
   "source": [
    "pca = PCA()\n",
    "pca.fit(article_embeddings)\n",
    "\n",
    "# Variance data\n",
    "cumulative_variance = np.cumsum(pca.explained_variance_ratio_)\n",
    "components = np.arange(len(cumulative_variance)) + 1\n",
    "\n",
    "# Plotting\n",
    "plt.figure(figsize=(10,4))\n",
    "plt.plot(components, cumulative_variance, label='Cumulative Explained Variance')\n",
    "plt.xlabel('Number of Components')\n",
    "plt.ylabel('Cumulative Variance (%)')\n",
    "plt.title('PCA Explained Variance')\n",
    "\n",
    "# Annotate specific variance percentages\n",
    "variance_thresholds = [0.9, 0.95, 0.97, 0.98, 0.99]\n",
    "for threshold in variance_thresholds:\n",
    "    component_number = np.where(cumulative_variance >= threshold)[0][0]\n",
    "    plt.scatter(component_number + 1, cumulative_variance[component_number], color='red')\n",
    "    plt.annotate(f\"{int(threshold*100)}%\", (component_number + 1, cumulative_variance[component_number]),\n",
    "                 textcoords=\"offset points\", xytext=(0,10), ha='center')\n",
    "\n",
    "plt.grid(True)\n",
    "plt.show()"
   ]
  },
  {
   "cell_type": "code",
   "execution_count": 5,
   "metadata": {},
   "outputs": [
    {
     "name": "stdout",
     "output_type": "stream",
     "text": [
      "(364047, 75)\n"
     ]
    }
   ],
   "source": [
    "pca = PCA(n_components=0.98)\n",
    "reduced_embeddings = pca.fit_transform(article_embeddings)\n",
    "# reduced_embeddings = pca.fit_transform(article_embeddings)\n",
    "print(reduced_embeddings.shape)\n",
    "article_embeddings = reduced_embeddings\n",
    "# cosine_sim_old = cosine_similarity(reduced_embeddings)\n"
   ]
  },
  {
   "cell_type": "code",
   "execution_count": 6,
   "metadata": {},
   "outputs": [
    {
     "name": "stdout",
     "output_type": "stream",
     "text": [
      "article_embeddings shape (364047, 75)\n",
      "df_articles shape (364047, 5)\n"
     ]
    }
   ],
   "source": [
    "# preprocess data\n",
    "df_articles = preprocessing_articles(df_articles)\n",
    "df_clicks = preprocessing_clicks(df_clicks)\n",
    "article_embeddings_df = pd.DataFrame(article_embeddings)\n",
    "print(\"article_embeddings shape\", article_embeddings_df.shape)\n",
    "print(\"df_articles shape\", df_articles.shape)"
   ]
  },
  {
   "cell_type": "code",
   "execution_count": 7,
   "metadata": {},
   "outputs": [
    {
     "name": "stdout",
     "output_type": "stream",
     "text": [
      "df_articles shape (46033, 5)\n",
      "article_embeddings shape (46033, 75)\n"
     ]
    }
   ],
   "source": [
    "articles_clicked = df_clicks.click_article_id.value_counts().index\n",
    "df_articles = df_articles.loc[articles_clicked]\n",
    "article_embeddings_df = article_embeddings_df.loc[articles_clicked]\n",
    "\n",
    "print(\"df_articles shape\", df_articles.shape)\n",
    "print(\"article_embeddings shape\", article_embeddings_df.shape)"
   ]
  },
  {
   "cell_type": "code",
   "execution_count": 8,
   "metadata": {},
   "outputs": [],
   "source": [
    "session_ids = df_clicks['session_id'].unique()\n",
    "all_clicks_df = df_clicks[df_clicks['session_id'].isin(session_ids)]\n",
    "\n",
    "df_clicks = df_clicks.sample(n=500000)"
   ]
  },
  {
   "cell_type": "code",
   "execution_count": 9,
   "metadata": {},
   "outputs": [
    {
     "name": "stdout",
     "output_type": "stream",
     "text": [
      "Training clicks shape: (405148, 14)\n",
      "Validation clicks shape: (44722, 14)\n",
      "Testing clicks shape: (50130, 14)\n",
      "All clicks shape: (2988181, 14)\n"
     ]
    }
   ],
   "source": [
    "def train_test_split_sessions(clicks_df, test_size=0.1, val_size=0.1, random_state=42):\n",
    "    session_ids = clicks_df['session_id'].unique()\n",
    "    train_sessions, test_sessions = train_test_split(session_ids, test_size=test_size, random_state=random_state)\n",
    "    train_sessions, val_sessions = train_test_split(train_sessions, test_size=val_size, random_state=random_state)\n",
    "    \n",
    "    train_df = clicks_df[clicks_df['session_id'].isin(train_sessions)]\n",
    "    val_df = clicks_df[clicks_df['session_id'].isin(val_sessions)]\n",
    "    test_df = clicks_df[clicks_df['session_id'].isin(test_sessions)]\n",
    "    all_df = clicks_df[clicks_df['session_id'].isin(session_ids)]\n",
    "    \n",
    "    return train_df, val_df, test_df\n",
    " \n",
    "\n",
    "# Split the clicks dataframe\n",
    "train_clicks_df, val_clicks_df, test_clicks_df = train_test_split_sessions(df_clicks)\n",
    "\n",
    "print(f\"Training clicks shape: {train_clicks_df.shape}\")\n",
    "print(f\"Validation clicks shape: {val_clicks_df.shape}\")\n",
    "print(f\"Testing clicks shape: {test_clicks_df.shape}\")\n",
    "print(f\"All clicks shape: {all_clicks_df.shape}\")"
   ]
  },
  {
   "cell_type": "code",
   "execution_count": 10,
   "metadata": {},
   "outputs": [],
   "source": [
    "#### Merging Articles Embeddings with Articles Metadata\n",
    "\n",
    "# Merging with articles_metadata\n",
    "# articles_merged_df = pd.merge(df_articles, article_embeddings_df, on='article_id')"
   ]
  },
  {
   "cell_type": "code",
   "execution_count": 11,
   "metadata": {},
   "outputs": [
    {
     "name": "stderr",
     "output_type": "stream",
     "text": [
      "100%|██████████| 170671/170671 [00:01<00:00, 105449.07it/s]\n",
      "100%|██████████| 35338/35338 [00:00<00:00, 131732.87it/s]\n",
      "100%|██████████| 32295/32295 [00:00<00:00, 138285.19it/s]\n",
      "100%|██████████| 322897/322897 [00:07<00:00, 40563.99it/s]\n"
     ]
    }
   ],
   "source": [
    "tqdm.pandas()\n",
    "\n",
    "def create_user_profiles(clicks_df, article_embeddings_df):\n",
    "    user_profiles = clicks_df.groupby('user_id')['click_article_id'].apply(list).reset_index()\n",
    "    embeddings_dict = article_embeddings_df.T.to_dict('list')\n",
    "    \n",
    "    user_profiles['user_embedding'] = user_profiles['click_article_id'].progress_apply(\n",
    "        lambda x: np.mean([embeddings_dict[article] for article in x if article in embeddings_dict], axis=0)\n",
    "    )\n",
    "    \n",
    "    return user_profiles\n",
    "\n",
    "user_profiles_df_train = create_user_profiles(train_clicks_df, article_embeddings_df)\n",
    "user_profiles_df_test = create_user_profiles(test_clicks_df, article_embeddings_df)\n",
    "user_profiles_df_val = create_user_profiles(val_clicks_df, article_embeddings_df)\n",
    "user_profiles_df_all = create_user_profiles(all_clicks_df, article_embeddings_df)"
   ]
  },
  {
   "cell_type": "code",
   "execution_count": 12,
   "metadata": {},
   "outputs": [],
   "source": [
    "import tensorflow as tf\n",
    "from tensorflow.keras import layers, models\n",
    "from tensorflow.keras.optimizers import Adam\n",
    "\n",
    "def create_content_based_model(input_dim):\n",
    "    model = models.Sequential()\n",
    "    # Input Layer\n",
    "    model.add(layers.Input(shape=(input_dim,)))\n",
    "    \n",
    "    # Hidden Layers\n",
    "    model.add(layers.Dense(128, activation='relu'))\n",
    "    model.add(layers.Dropout(0.2))\n",
    "    model.add(layers.Dense(64, activation='relu'))\n",
    "    model.add(layers.Dropout(0.2))\n",
    "    \n",
    "    # Output Layer - Predicting the relevance score\n",
    "    model.add(layers.Dense(1, activation='sigmoid'))\n",
    "    \n",
    "    # model.compile(optimizer='adam', loss='binary_crossentropy', metrics=['accuracy'])\n",
    "    model.compile(optimizer=Adam(), loss='binary_crossentropy', metrics=[ndcg_5, ndcg_10, mean_mrr, g_auc])\n",
    "    return model"
   ]
  },
  {
   "cell_type": "code",
   "execution_count": 13,
   "metadata": {},
   "outputs": [],
   "source": [
    "# Prepare data\n",
    "def prepare_data(user_profiles_df_train, articles_df, articles_embeddings_df):\n",
    "    X = []\n",
    "    y = []\n",
    "    \n",
    "    embeddings_dict = articles_embeddings_df.T.to_dict('list')\n",
    "    \n",
    "    for i, user in tqdm(user_profiles_df_train.iterrows(), total=len(user_profiles_df_train)):\n",
    "        # if i >= 50000:\n",
    "        #     break\n",
    "        \n",
    "        user_embedding = user['user_embedding']\n",
    "        clicked_articles = user['click_article_id']\n",
    "        \n",
    "        for article_id in clicked_articles:\n",
    "            if article_id in embeddings_dict:\n",
    "                article_embedding = embeddings_dict[article_id]\n",
    "                combined_features = np.concatenate((user_embedding, article_embedding))\n",
    "                X.append(combined_features)\n",
    "                y.append(1) # Positive sample\n",
    "        \n",
    "        # Add some negative samples for training\n",
    "        negative_samples = articles_df[~articles_df['article_id'].isin(clicked_articles)]['article_id'].sample(n=len(clicked_articles))\n",
    "        \n",
    "        for article_id in negative_samples:\n",
    "            if article_id in embeddings_dict:\n",
    "                article_embedding = embeddings_dict[article_id]\n",
    "                combined_features = np.concatenate((user_embedding, article_embedding))\n",
    "                X.append(combined_features)\n",
    "                y.append(0) # Negative sample\n",
    "                \n",
    "    X = np.array(X)\n",
    "    y = np.array(y)\n",
    "    \n",
    "    return X, y"
   ]
  },
  {
   "cell_type": "code",
   "execution_count": 14,
   "metadata": {},
   "outputs": [
    {
     "name": "stderr",
     "output_type": "stream",
     "text": [
      "100%|██████████| 170671/170671 [03:46<00:00, 754.72it/s]\n"
     ]
    }
   ],
   "source": [
    "X_train, y_train = prepare_data(user_profiles_df_train, df_articles, article_embeddings_df)\n"
   ]
  },
  {
   "cell_type": "code",
   "execution_count": 15,
   "metadata": {},
   "outputs": [
    {
     "name": "stderr",
     "output_type": "stream",
     "text": [
      "100%|██████████| 32295/32295 [00:41<00:00, 776.28it/s]\n"
     ]
    }
   ],
   "source": [
    "X_val, y_val = prepare_data(user_profiles_df_val, df_articles, article_embeddings_df)\n"
   ]
  },
  {
   "cell_type": "code",
   "execution_count": 16,
   "metadata": {},
   "outputs": [],
   "source": [
    "def mrr(labels, predictions):\n",
    "    if len(labels) != len(predictions):\n",
    "        raise ValueError(\"Length of labels and predictions must be equal\")\n",
    "\n",
    "    # Combine labels and predictions, then sort by prediction score in descending order\n",
    "    combined = list(zip(labels, predictions))\n",
    "    combined_sorted = sorted(combined, key=lambda x: x[1], reverse=True)\n",
    "\n",
    "    # Identify the rank position of the first relevant item (label == 1)\n",
    "    for idx, (label, _) in enumerate(combined_sorted):\n",
    "        if label == 1:\n",
    "            return 1.0 / (idx + 1)\n",
    "\n",
    "    # If no relevant item is found, return 0\n",
    "    return 0.0"
   ]
  },
  {
   "cell_type": "code",
   "execution_count": 17,
   "metadata": {},
   "outputs": [
    {
     "name": "stderr",
     "output_type": "stream",
     "text": [
      "WARNING:absl:At this time, the v2.11+ optimizer `tf.keras.optimizers.Adam` runs slowly on M1/M2 Macs, please use the legacy Keras optimizer instead, located at `tf.keras.optimizers.legacy.Adam`.\n",
      "WARNING:absl:There is a known slowdown when using v2.11+ Keras optimizers on M1/M2 Macs. Falling back to the legacy Keras optimizer, i.e., `tf.keras.optimizers.legacy.Adam`.\n"
     ]
    },
    {
     "name": "stdout",
     "output_type": "stream",
     "text": [
      "Model: \"sequential\"\n",
      "_________________________________________________________________\n",
      " Layer (type)                Output Shape              Param #   \n",
      "=================================================================\n",
      " dense (Dense)               (None, 128)               19328     \n",
      "                                                                 \n",
      " dropout (Dropout)           (None, 128)               0         \n",
      "                                                                 \n",
      " dense_1 (Dense)             (None, 64)                8256      \n",
      "                                                                 \n",
      " dropout_1 (Dropout)         (None, 64)                0         \n",
      "                                                                 \n",
      " dense_2 (Dense)             (None, 1)                 65        \n",
      "                                                                 \n",
      "=================================================================\n",
      "Total params: 27649 (108.00 KB)\n",
      "Trainable params: 27649 (108.00 KB)\n",
      "Non-trainable params: 0 (0.00 Byte)\n",
      "_________________________________________________________________\n"
     ]
    }
   ],
   "source": [
    "# Assuming article_embeddings's second dimension size is 250\n",
    "input_dim = X_train.shape[1]\n",
    "content_based_model = create_content_based_model(input_dim)\n",
    "\n",
    "content_based_model.summary()"
   ]
  },
  {
   "cell_type": "code",
   "execution_count": 18,
   "metadata": {},
   "outputs": [
    {
     "data": {
      "text/plain": [
       "array([[ 2.2112751 , -0.30801758, -1.80026197, ..., -0.03572226,\n",
       "         0.13493477,  0.01883112],\n",
       "       [ 2.2112751 , -0.30801758, -1.80026197, ...,  0.02933148,\n",
       "         0.10656763,  0.01003804],\n",
       "       [-1.06399345, -0.88186461,  0.70313138, ..., -0.21020693,\n",
       "         0.03184228,  0.22681524],\n",
       "       ...,\n",
       "       [ 2.88039351,  2.49042153, -1.68514574, ...,  0.10053461,\n",
       "         0.1648214 , -0.38228804],\n",
       "       [-2.08881927, -2.2395978 , -0.09488426, ..., -0.0029037 ,\n",
       "         0.03311857,  0.0289492 ],\n",
       "       [-2.08881927, -2.2395978 , -0.09488426, ..., -0.20279914,\n",
       "         0.13396192,  0.23437645]])"
      ]
     },
     "execution_count": 18,
     "metadata": {},
     "output_type": "execute_result"
    }
   ],
   "source": [
    "X_train"
   ]
  },
  {
   "cell_type": "code",
   "execution_count": null,
   "metadata": {},
   "outputs": [],
   "source": []
  },
  {
   "cell_type": "code",
   "execution_count": 19,
   "metadata": {},
   "outputs": [
    {
     "name": "stdout",
     "output_type": "stream",
     "text": [
      "Epoch 1/10\n",
      "25283/25322 [============================>.] - ETA: 0s - loss: 0.1540 - ndcg_5: 0.5027 - ndcg_10: 0.5027 - mean_mrr: 0.0638 - g_auc: 0.9834\n",
      "\n",
      "Epoch 1: \n",
      "- loss: 0.1540, \n",
      "- ndcg_5: 0.5027, \n",
      "- ndcg_10: 0.5027, \n",
      "- mean_mrr: 0.0638, \n",
      "- g_auc: 0.9835, \n",
      "- val_loss: 0.0262, \n",
      "- val_ndcg_5: 0.7772, \n",
      "- val_ndcg_10: 0.7772, \n",
      "- val_mean_mrr: 0.0987, \n",
      "- val_g_auc: 0.9992, \n",
      "\n",
      "25322/25322 [==============================] - 34s 1ms/step - loss: 0.1540 - ndcg_5: 0.5027 - ndcg_10: 0.5027 - mean_mrr: 0.0638 - g_auc: 0.9835 - val_loss: 0.0262 - val_ndcg_5: 0.7772 - val_ndcg_10: 0.7772 - val_mean_mrr: 0.0987 - val_g_auc: 0.9992\n",
      "Epoch 2/10\n",
      "25308/25322 [============================>.] - ETA: 0s - loss: 0.1081 - ndcg_5: 0.4969 - ndcg_10: 0.4969 - mean_mrr: 0.0630 - g_auc: 0.9928\n",
      "\n",
      "Epoch 2: \n",
      "- loss: 0.1081, \n",
      "- ndcg_5: 0.4969, \n",
      "- ndcg_10: 0.4969, \n",
      "- mean_mrr: 0.0630, \n",
      "- g_auc: 0.9928, \n",
      "- val_loss: 0.0232, \n",
      "- val_ndcg_5: 0.7772, \n",
      "- val_ndcg_10: 0.7772, \n",
      "- val_mean_mrr: 0.0987, \n",
      "- val_g_auc: 0.9994, \n",
      "\n",
      "25322/25322 [==============================] - 34s 1ms/step - loss: 0.1081 - ndcg_5: 0.4969 - ndcg_10: 0.4969 - mean_mrr: 0.0630 - g_auc: 0.9928 - val_loss: 0.0232 - val_ndcg_5: 0.7772 - val_ndcg_10: 0.7772 - val_mean_mrr: 0.0987 - val_g_auc: 0.9994\n",
      "Epoch 3/10\n",
      "25305/25322 [============================>.] - ETA: 0s - loss: 0.0972 - ndcg_5: 0.4960 - ndcg_10: 0.4960 - mean_mrr: 0.0629 - g_auc: 0.9942\n",
      "\n",
      "Epoch 3: \n",
      "- loss: 0.0972, \n",
      "- ndcg_5: 0.4960, \n",
      "- ndcg_10: 0.4960, \n",
      "- mean_mrr: 0.0629, \n",
      "- g_auc: 0.9942, \n",
      "- val_loss: 0.0199, \n",
      "- val_ndcg_5: 0.7772, \n",
      "- val_ndcg_10: 0.7772, \n",
      "- val_mean_mrr: 0.0987, \n",
      "- val_g_auc: 0.9995, \n",
      "\n",
      "25322/25322 [==============================] - 35s 1ms/step - loss: 0.0972 - ndcg_5: 0.4960 - ndcg_10: 0.4960 - mean_mrr: 0.0629 - g_auc: 0.9942 - val_loss: 0.0199 - val_ndcg_5: 0.7772 - val_ndcg_10: 0.7772 - val_mean_mrr: 0.0987 - val_g_auc: 0.9995\n",
      "Epoch 4/10\n",
      "25308/25322 [============================>.] - ETA: 0s - loss: 0.0915 - ndcg_5: 0.5009 - ndcg_10: 0.5009 - mean_mrr: 0.0635 - g_auc: 0.9948\n",
      "\n",
      "Epoch 4: \n",
      "- loss: 0.0915, \n",
      "- ndcg_5: 0.5010, \n",
      "- ndcg_10: 0.5010, \n",
      "- mean_mrr: 0.0635, \n",
      "- g_auc: 0.9948, \n",
      "- val_loss: 0.0188, \n",
      "- val_ndcg_5: 0.7772, \n",
      "- val_ndcg_10: 0.7772, \n",
      "- val_mean_mrr: 0.0987, \n",
      "- val_g_auc: 0.9996, \n",
      "\n",
      "25322/25322 [==============================] - 37s 1ms/step - loss: 0.0915 - ndcg_5: 0.5010 - ndcg_10: 0.5010 - mean_mrr: 0.0635 - g_auc: 0.9948 - val_loss: 0.0188 - val_ndcg_5: 0.7772 - val_ndcg_10: 0.7772 - val_mean_mrr: 0.0987 - val_g_auc: 0.9996\n",
      "Epoch 5/10\n",
      "25300/25322 [============================>.] - ETA: 0s - loss: 0.0873 - ndcg_5: 0.5009 - ndcg_10: 0.5009 - mean_mrr: 0.0635 - g_auc: 0.9953\n",
      "\n",
      "Epoch 5: \n",
      "- loss: 0.0873, \n",
      "- ndcg_5: 0.5007, \n",
      "- ndcg_10: 0.5007, \n",
      "- mean_mrr: 0.0635, \n",
      "- g_auc: 0.9953, \n",
      "- val_loss: 0.0169, \n",
      "- val_ndcg_5: 0.7772, \n",
      "- val_ndcg_10: 0.7772, \n",
      "- val_mean_mrr: 0.0987, \n",
      "- val_g_auc: 0.9996, \n",
      "\n",
      "25322/25322 [==============================] - 37s 1ms/step - loss: 0.0873 - ndcg_5: 0.5007 - ndcg_10: 0.5007 - mean_mrr: 0.0635 - g_auc: 0.9953 - val_loss: 0.0169 - val_ndcg_5: 0.7772 - val_ndcg_10: 0.7772 - val_mean_mrr: 0.0987 - val_g_auc: 0.9996\n",
      "Epoch 6/10\n",
      "25310/25322 [============================>.] - ETA: 0s - loss: 0.0840 - ndcg_5: 0.5052 - ndcg_10: 0.5052 - mean_mrr: 0.0641 - g_auc: 0.9956\n",
      "\n",
      "Epoch 6: \n",
      "- loss: 0.0840, \n",
      "- ndcg_5: 0.5052, \n",
      "- ndcg_10: 0.5052, \n",
      "- mean_mrr: 0.0641, \n",
      "- g_auc: 0.9956, \n",
      "- val_loss: 0.0167, \n",
      "- val_ndcg_5: 0.7772, \n",
      "- val_ndcg_10: 0.7772, \n",
      "- val_mean_mrr: 0.0987, \n",
      "- val_g_auc: 0.9996, \n",
      "\n",
      "25322/25322 [==============================] - 36s 1ms/step - loss: 0.0840 - ndcg_5: 0.5052 - ndcg_10: 0.5052 - mean_mrr: 0.0641 - g_auc: 0.9956 - val_loss: 0.0167 - val_ndcg_5: 0.7772 - val_ndcg_10: 0.7772 - val_mean_mrr: 0.0987 - val_g_auc: 0.9996\n",
      "Epoch 7/10\n",
      "25318/25322 [============================>.] - ETA: 0s - loss: 0.0816 - ndcg_5: 0.4939 - ndcg_10: 0.4939 - mean_mrr: 0.0626 - g_auc: 0.9959\n",
      "\n",
      "Epoch 7: \n",
      "- loss: 0.0816, \n",
      "- ndcg_5: 0.4938, \n",
      "- ndcg_10: 0.4938, \n",
      "- mean_mrr: 0.0626, \n",
      "- g_auc: 0.9959, \n",
      "- val_loss: 0.0162, \n",
      "- val_ndcg_5: 0.7772, \n",
      "- val_ndcg_10: 0.7772, \n",
      "- val_mean_mrr: 0.0987, \n",
      "- val_g_auc: 0.9996, \n",
      "\n",
      "25322/25322 [==============================] - 36s 1ms/step - loss: 0.0816 - ndcg_5: 0.4938 - ndcg_10: 0.4938 - mean_mrr: 0.0626 - g_auc: 0.9959 - val_loss: 0.0162 - val_ndcg_5: 0.7772 - val_ndcg_10: 0.7772 - val_mean_mrr: 0.0987 - val_g_auc: 0.9996\n",
      "Epoch 8/10\n",
      "25293/25322 [============================>.] - ETA: 0s - loss: 0.0800 - ndcg_5: 0.5021 - ndcg_10: 0.5021 - mean_mrr: 0.0637 - g_auc: 0.9960\n",
      "\n",
      "Epoch 8: \n",
      "- loss: 0.0800, \n",
      "- ndcg_5: 0.5022, \n",
      "- ndcg_10: 0.5022, \n",
      "- mean_mrr: 0.0637, \n",
      "- g_auc: 0.9960, \n",
      "- val_loss: 0.0158, \n",
      "- val_ndcg_5: 0.7772, \n",
      "- val_ndcg_10: 0.7772, \n",
      "- val_mean_mrr: 0.0987, \n",
      "- val_g_auc: 0.9997, \n",
      "\n",
      "25322/25322 [==============================] - 35s 1ms/step - loss: 0.0800 - ndcg_5: 0.5022 - ndcg_10: 0.5022 - mean_mrr: 0.0637 - g_auc: 0.9960 - val_loss: 0.0158 - val_ndcg_5: 0.7772 - val_ndcg_10: 0.7772 - val_mean_mrr: 0.0987 - val_g_auc: 0.9997\n",
      "Epoch 9/10\n",
      "25310/25322 [============================>.] - ETA: 0s - loss: 0.0782 - ndcg_5: 0.5013 - ndcg_10: 0.5013 - mean_mrr: 0.0636 - g_auc: 0.9962\n",
      "\n",
      "Epoch 9: \n",
      "- loss: 0.0782, \n",
      "- ndcg_5: 0.5013, \n",
      "- ndcg_10: 0.5013, \n",
      "- mean_mrr: 0.0636, \n",
      "- g_auc: 0.9962, \n",
      "- val_loss: 0.0154, \n",
      "- val_ndcg_5: 0.7772, \n",
      "- val_ndcg_10: 0.7772, \n",
      "- val_mean_mrr: 0.0987, \n",
      "- val_g_auc: 0.9996, \n",
      "\n",
      "25322/25322 [==============================] - 36s 1ms/step - loss: 0.0782 - ndcg_5: 0.5013 - ndcg_10: 0.5013 - mean_mrr: 0.0636 - g_auc: 0.9962 - val_loss: 0.0154 - val_ndcg_5: 0.7772 - val_ndcg_10: 0.7772 - val_mean_mrr: 0.0987 - val_g_auc: 0.9996\n",
      "Epoch 10/10\n",
      "25292/25322 [============================>.] - ETA: 0s - loss: 0.0767 - ndcg_5: 0.5019 - ndcg_10: 0.5019 - mean_mrr: 0.0637 - g_auc: 0.9964\n",
      "\n",
      "Epoch 10: \n",
      "- loss: 0.0767, \n",
      "- ndcg_5: 0.5021, \n",
      "- ndcg_10: 0.5021, \n",
      "- mean_mrr: 0.0637, \n",
      "- g_auc: 0.9964, \n",
      "- val_loss: 0.0148, \n",
      "- val_ndcg_5: 0.7772, \n",
      "- val_ndcg_10: 0.7772, \n",
      "- val_mean_mrr: 0.0987, \n",
      "- val_g_auc: 0.9997, \n",
      "\n",
      "25322/25322 [==============================] - 46s 2ms/step - loss: 0.0767 - ndcg_5: 0.5021 - ndcg_10: 0.5021 - mean_mrr: 0.0637 - g_auc: 0.9964 - val_loss: 0.0148 - val_ndcg_5: 0.7772 - val_ndcg_10: 0.7772 - val_mean_mrr: 0.0987 - val_g_auc: 0.9997\n"
     ]
    }
   ],
   "source": [
    "class CustomMetricsCallback(tf.keras.callbacks.Callback):\n",
    "    def on_epoch_end(self, epoch, logs=None):\n",
    "        logs = logs or {}\n",
    "        print(f\"\\n\\nEpoch {epoch+1}:\", end=\" \")\n",
    "        for key, value in logs.items():\n",
    "            print(f\"\\n- {key}: {value:.4f}\", end=\", \")\n",
    "        print(\"\\n\")\n",
    "\n",
    "# Using the custom callback\n",
    "custom_metrics_callback = CustomMetricsCallback()\n",
    "# Train the model\n",
    "history = content_based_model.fit(\n",
    "    X_train, \n",
    "    y_train, \n",
    "    epochs=10, \n",
    "    batch_size=32,\n",
    "    validation_data=(X_val, y_val),\n",
    "    callbacks=[custom_metrics_callback]\n",
    ")"
   ]
  },
  {
   "cell_type": "code",
   "execution_count": 20,
   "metadata": {},
   "outputs": [],
   "source": [
    "embeddings_dict = article_embeddings_df.T.to_dict('list')\n",
    "model = content_based_model\n",
    "articles_df = df_articles\n",
    "\n",
    "# List to store evaluation metrics\n",
    "precisions, recalls, mrrs, ndcgs = [], [], [], []\n",
    "\n",
    "all_true_labels = []\n",
    "all_scores = []"
   ]
  },
  {
   "cell_type": "code",
   "execution_count": 21,
   "metadata": {},
   "outputs": [],
   "source": [
    "from joblib import Parallel, delayed\n",
    "import numpy as np\n",
    "from sklearn.metrics import roc_auc_score\n",
    "\n",
    "from concurrent.futures import ThreadPoolExecutor\n",
    "\n",
    "def process_user_wrapper(args):\n",
    "    return process_user(*args)\n",
    "\n",
    "def process_user(user, k):\n",
    "    user_embedding = user['user_embedding']\n",
    "    user_id = user['user_id']\n",
    "    clicked_articles = set(user['click_article_id'])\n",
    "\n",
    "    all_embeddings = []\n",
    "    article_ids = [article_id for article_id in articles_df['article_id'] if article_id in embeddings_dict]\n",
    "    all_embeddings = [np.concatenate((user_embedding, embeddings_dict[article_id])).reshape(1, -1) for article_id in article_ids]\n",
    "    \n",
    "    all_embeddings = np.vstack(all_embeddings)\n",
    "    \n",
    "    scores = model.predict(all_embeddings, verbose=0).flatten()\n",
    "    \n",
    "    true_labels = np.array([1 if article_id in clicked_articles else 0 for article_id in article_ids])\n",
    "\n",
    "    precisions.append(precision_at_k(true_labels, scores, k))\n",
    "    recalls.append(recall_at_k(true_labels, scores, k))\n",
    "    mrrs.append(mrr(true_labels, scores))\n",
    "    ndcgs.append(ndcg_at_k(true_labels, scores, k))\n",
    "    \n",
    "    all_true_labels.extend(true_labels)\n",
    "    all_scores.extend(scores)\n",
    "    \n",
    "def evaluate_model_optimized(model, user_profiles_df_train, articles_df, articles_embeddings_df, k=10, num_users=2000):\n",
    "    # sampled_user_profiles_df = user_profiles_df_train.sample(n=num_users, random_state=42)\n",
    "    \n",
    "    sampled_user_profiles_df = user_profiles_df_train[user_profiles_df_train[\"user_id\"] == 15958]\n",
    "\n",
    "    for _, user in tqdm(sampled_user_profiles_df.iterrows(), total=num_users, desc=\"Evaluating\", ncols=100):\n",
    "        process_user(user, k)\n",
    "\n",
    "    avg_precision = np.mean(precisions)\n",
    "    avg_recall = np.mean(recalls)\n",
    "    avg_mrr = np.mean(mrrs)\n",
    "    avg_ndcg = np.mean(ndcgs)\n",
    "    g_auc = roc_auc_score(all_true_labels, all_scores)\n",
    "\n",
    "    return avg_ndcg, avg_mrr, avg_precision, avg_recall, g_auc"
   ]
  },
  {
   "cell_type": "code",
   "execution_count": 22,
   "metadata": {},
   "outputs": [
    {
     "data": {
      "text/plain": [
       "(35338, 3)"
      ]
     },
     "execution_count": 22,
     "metadata": {},
     "output_type": "execute_result"
    }
   ],
   "source": [
    "user_profiles_df_test.shape"
   ]
  },
  {
   "cell_type": "code",
   "execution_count": 23,
   "metadata": {},
   "outputs": [
    {
     "name": "stderr",
     "output_type": "stream",
     "text": [
      "Evaluating: 100%|█████████████████████████████████████████████████████| 1/1 [00:00<00:00,  1.30it/s]"
     ]
    },
    {
     "name": "stdout",
     "output_type": "stream",
     "text": [
      "NDCG@10: 1.0000, MRR: 1.0000, precision: 0.1000, recall: 1.0000\n",
      "CPU times: user 793 ms, sys: 84.8 ms, total: 878 ms\n",
      "Wall time: 784 ms\n"
     ]
    },
    {
     "name": "stderr",
     "output_type": "stream",
     "text": [
      "\n"
     ]
    }
   ],
   "source": [
    "%%time\n",
    "# ndcg_score, mrr_score, auc_score, y_pred = evaluate_model_on_test_data(content_based_model, X_test, y_test)\n",
    "# print(f\"NDCG@10: {ndcg_score:.4f}, MRR: {mrr_score:.4f}, AUC: {auc_score:.4f}\")\n",
    "# Evaluation\n",
    "# ndcg_score, mrr_score, g_auc_score, y_true, y_pred, user_ids = evaluate_model_optimized(content_based_model, user_profiles_df_test, df_articles, article_embeddings_df, k=10, num_users=len(user_profiles_df_test))\n",
    "avg_ndcg, avg_mrr, avg_precision, avg_recall, g_auc = evaluate_model_optimized(content_based_model, user_profiles_df_test, df_articles, article_embeddings_df, k=10, num_users=1)\n",
    "print(f\"NDCG@10: {avg_ndcg:.4f}, MRR: {avg_mrr:.4f}, precision: {avg_precision:.4f}, recall: {avg_recall:.4f}\")\n"
   ]
  },
  {
   "cell_type": "code",
   "execution_count": 24,
   "metadata": {},
   "outputs": [],
   "source": [
    "def infer_top_k_articles(user_id, user_profiles_df, df_articles, article_embeddings_df, model, k=5):\n",
    "    tmp_df_articles = df_articles.copy()\n",
    "    # Retrieve the user's embedding\n",
    "    user_profile = user_profiles_df[user_profiles_df['user_id'] == user_id].iloc[0]\n",
    "    \n",
    "    if user_profile.empty:\n",
    "        raise ValueError(\"User ID not found in the user profiles.\")\n",
    "\n",
    "    user_embedding = user_profile['user_embedding']\n",
    "\n",
    "    # Get all articles embeddings\n",
    "    embeddings_dict = article_embeddings_df.T.to_dict('list')\n",
    "    \n",
    "    article_ids = []\n",
    "    combined_features_list = []\n",
    "    \n",
    "    for article_id, article_embedding in embeddings_dict.items():\n",
    "        article_ids.append(article_id)\n",
    "        combined_features = np.concatenate((user_embedding, article_embedding)).reshape(1, -1)\n",
    "        combined_features_list.append(combined_features)\n",
    "\n",
    "    all_embeddings = np.vstack(combined_features_list)\n",
    "    \n",
    "    # Predict relevance scores using the trained model\n",
    "    scores = model.predict(all_embeddings, verbose=0).flatten()\n",
    "\n",
    "    print(user_profile[\"click_article_id\"])\n",
    "    # Add scores to dataframe\n",
    "    tmp_df_articles['score'] = tmp_df_articles['article_id'].map(dict(zip(article_ids, scores)))\n",
    "    tmp_df_articles = tmp_df_articles.sort_values(by='score', ascending=False)\n",
    "\n",
    "    top_articles = tmp_df_articles.copy()[[\"article_id\",\"category_id\",\"score\"]]\n",
    "    user_article_clicked = top_articles[top_articles['article_id'].isin(user_profile[\"click_article_id\"])].reset_index(drop=True)\n",
    "\n",
    "    top_articles = top_articles[~top_articles['article_id'].isin(user_profile[\"click_article_id\"])]\n",
    "\n",
    "    # Rank articles based on scores\n",
    "    top_k_indices = np.argsort(scores)[-k:][::-1]\n",
    "    top_k_article_ids = [article_ids[i] for i in top_k_indices]\n",
    "    \n",
    "    # Rank articles based on scores (worst)\n",
    "    bottom_k_indices = np.argsort(scores)[:k]\n",
    "    bottom_k_article_ids = [article_ids[i] for i in bottom_k_indices]\n",
    "\n",
    "    # Fetch top K articles metadata\n",
    "    top_k_articles = top_articles[top_articles['article_id'].isin(top_k_article_ids)].reset_index(drop=True)\n",
    "    bottom_k_article_ids = top_articles[top_articles['article_id'].isin(bottom_k_article_ids)].reset_index(drop=True)\n",
    "    bottom_k_article_ids = bottom_k_article_ids.sort_values(by='score', ascending=True)\n",
    "    \n",
    "    # Display the top K articles usi\n",
    "    return top_k_articles, bottom_k_article_ids, user_article_clicked"
   ]
  },
  {
   "cell_type": "code",
   "execution_count": null,
   "metadata": {},
   "outputs": [],
   "source": []
  },
  {
   "cell_type": "code",
   "execution_count": null,
   "metadata": {},
   "outputs": [],
   "source": []
  },
  {
   "cell_type": "code",
   "execution_count": 26,
   "metadata": {},
   "outputs": [
    {
     "ename": "IndexError",
     "evalue": "single positional indexer is out-of-bounds",
     "output_type": "error",
     "traceback": [
      "\u001b[0;31m---------------------------------------------------------------------------\u001b[0m",
      "\u001b[0;31mIndexError\u001b[0m                                Traceback (most recent call last)",
      "Cell \u001b[0;32mIn[26], line 58\u001b[0m\n\u001b[1;32m     54\u001b[0m sampled_user_profiles_df \u001b[38;5;241m=\u001b[39m user_profiles_df_test\u001b[38;5;241m.\u001b[39msample(n\u001b[38;5;241m=\u001b[39m\u001b[38;5;241m100\u001b[39m, random_state\u001b[38;5;241m=\u001b[39m\u001b[38;5;241m42\u001b[39m)\n\u001b[1;32m     55\u001b[0m \u001b[38;5;66;03m# evaluate_model_optimized(model, user_profiles_df_train, articles_df, articles_embeddings_df, k=10, num_users=2000)\u001b[39;00m\n\u001b[1;32m     56\u001b[0m \u001b[38;5;66;03m# Replace 'sample_user_id' with an actual user ID from your dataset\u001b[39;00m\n\u001b[1;32m     57\u001b[0m \u001b[38;5;66;03m# sampled_user_profiles_df\u001b[39;00m\n\u001b[0;32m---> 58\u001b[0m \u001b[43mshow_ndcg_for_user\u001b[49m\u001b[43m(\u001b[49m\u001b[38;5;241;43m15958\u001b[39;49m\u001b[43m,\u001b[49m\u001b[43m \u001b[49m\u001b[43mk\u001b[49m\u001b[38;5;241;43m=\u001b[39;49m\u001b[38;5;241;43m10\u001b[39;49m\u001b[43m)\u001b[49m\n",
      "Cell \u001b[0;32mIn[26], line 19\u001b[0m, in \u001b[0;36mshow_ndcg_for_user\u001b[0;34m(user_id, k)\u001b[0m\n\u001b[1;32m     18\u001b[0m \u001b[38;5;28;01mdef\u001b[39;00m \u001b[38;5;21mshow_ndcg_for_user\u001b[39m(user_id, k\u001b[38;5;241m=\u001b[39m\u001b[38;5;241m10\u001b[39m):\n\u001b[0;32m---> 19\u001b[0m     user \u001b[38;5;241m=\u001b[39m \u001b[43msampled_user_profiles_df\u001b[49m\u001b[38;5;241;43m.\u001b[39;49m\u001b[43mloc\u001b[49m\u001b[43m[\u001b[49m\u001b[43msampled_user_profiles_df\u001b[49m\u001b[43m[\u001b[49m\u001b[38;5;124;43m'\u001b[39;49m\u001b[38;5;124;43muser_id\u001b[39;49m\u001b[38;5;124;43m'\u001b[39;49m\u001b[43m]\u001b[49m\u001b[43m \u001b[49m\u001b[38;5;241;43m==\u001b[39;49m\u001b[43m \u001b[49m\u001b[43muser_id\u001b[49m\u001b[43m]\u001b[49m\u001b[38;5;241;43m.\u001b[39;49m\u001b[43miloc\u001b[49m\u001b[43m[\u001b[49m\u001b[38;5;241;43m0\u001b[39;49m\u001b[43m]\u001b[49m\n\u001b[1;32m     20\u001b[0m     user_embedding \u001b[38;5;241m=\u001b[39m user[\u001b[38;5;124m'\u001b[39m\u001b[38;5;124muser_embedding\u001b[39m\u001b[38;5;124m'\u001b[39m]\n\u001b[1;32m     21\u001b[0m     clicked_articles \u001b[38;5;241m=\u001b[39m \u001b[38;5;28mset\u001b[39m(user[\u001b[38;5;124m'\u001b[39m\u001b[38;5;124mclick_article_id\u001b[39m\u001b[38;5;124m'\u001b[39m])\n",
      "File \u001b[0;32m~/dev/6be709c0/oc-ai-engineer/OC/P10/venv/lib/python3.8/site-packages/pandas/core/indexing.py:1103\u001b[0m, in \u001b[0;36m_LocationIndexer.__getitem__\u001b[0;34m(self, key)\u001b[0m\n\u001b[1;32m   1100\u001b[0m axis \u001b[38;5;241m=\u001b[39m \u001b[38;5;28mself\u001b[39m\u001b[38;5;241m.\u001b[39maxis \u001b[38;5;129;01mor\u001b[39;00m \u001b[38;5;241m0\u001b[39m\n\u001b[1;32m   1102\u001b[0m maybe_callable \u001b[38;5;241m=\u001b[39m com\u001b[38;5;241m.\u001b[39mapply_if_callable(key, \u001b[38;5;28mself\u001b[39m\u001b[38;5;241m.\u001b[39mobj)\n\u001b[0;32m-> 1103\u001b[0m \u001b[38;5;28;01mreturn\u001b[39;00m \u001b[38;5;28;43mself\u001b[39;49m\u001b[38;5;241;43m.\u001b[39;49m\u001b[43m_getitem_axis\u001b[49m\u001b[43m(\u001b[49m\u001b[43mmaybe_callable\u001b[49m\u001b[43m,\u001b[49m\u001b[43m \u001b[49m\u001b[43maxis\u001b[49m\u001b[38;5;241;43m=\u001b[39;49m\u001b[43maxis\u001b[49m\u001b[43m)\u001b[49m\n",
      "File \u001b[0;32m~/dev/6be709c0/oc-ai-engineer/OC/P10/venv/lib/python3.8/site-packages/pandas/core/indexing.py:1656\u001b[0m, in \u001b[0;36m_iLocIndexer._getitem_axis\u001b[0;34m(self, key, axis)\u001b[0m\n\u001b[1;32m   1653\u001b[0m     \u001b[38;5;28;01mraise\u001b[39;00m \u001b[38;5;167;01mTypeError\u001b[39;00m(\u001b[38;5;124m\"\u001b[39m\u001b[38;5;124mCannot index by location index with a non-integer key\u001b[39m\u001b[38;5;124m\"\u001b[39m)\n\u001b[1;32m   1655\u001b[0m \u001b[38;5;66;03m# validate the location\u001b[39;00m\n\u001b[0;32m-> 1656\u001b[0m \u001b[38;5;28;43mself\u001b[39;49m\u001b[38;5;241;43m.\u001b[39;49m\u001b[43m_validate_integer\u001b[49m\u001b[43m(\u001b[49m\u001b[43mkey\u001b[49m\u001b[43m,\u001b[49m\u001b[43m \u001b[49m\u001b[43maxis\u001b[49m\u001b[43m)\u001b[49m\n\u001b[1;32m   1658\u001b[0m \u001b[38;5;28;01mreturn\u001b[39;00m \u001b[38;5;28mself\u001b[39m\u001b[38;5;241m.\u001b[39mobj\u001b[38;5;241m.\u001b[39m_ixs(key, axis\u001b[38;5;241m=\u001b[39maxis)\n",
      "File \u001b[0;32m~/dev/6be709c0/oc-ai-engineer/OC/P10/venv/lib/python3.8/site-packages/pandas/core/indexing.py:1589\u001b[0m, in \u001b[0;36m_iLocIndexer._validate_integer\u001b[0;34m(self, key, axis)\u001b[0m\n\u001b[1;32m   1587\u001b[0m len_axis \u001b[38;5;241m=\u001b[39m \u001b[38;5;28mlen\u001b[39m(\u001b[38;5;28mself\u001b[39m\u001b[38;5;241m.\u001b[39mobj\u001b[38;5;241m.\u001b[39m_get_axis(axis))\n\u001b[1;32m   1588\u001b[0m \u001b[38;5;28;01mif\u001b[39;00m key \u001b[38;5;241m>\u001b[39m\u001b[38;5;241m=\u001b[39m len_axis \u001b[38;5;129;01mor\u001b[39;00m key \u001b[38;5;241m<\u001b[39m \u001b[38;5;241m-\u001b[39mlen_axis:\n\u001b[0;32m-> 1589\u001b[0m     \u001b[38;5;28;01mraise\u001b[39;00m \u001b[38;5;167;01mIndexError\u001b[39;00m(\u001b[38;5;124m\"\u001b[39m\u001b[38;5;124msingle positional indexer is out-of-bounds\u001b[39m\u001b[38;5;124m\"\u001b[39m)\n",
      "\u001b[0;31mIndexError\u001b[0m: single positional indexer is out-of-bounds"
     ]
    }
   ],
   "source": [
    "import numpy as np\n",
    "from sklearn.metrics import roc_auc_score\n",
    "\n",
    "def compute_dcg(y_true, y_pred, k):\n",
    "    order = np.argsort(y_pred)[::-1]\n",
    "    y_true = np.take(y_true, order[:k])\n",
    "    gains = 2 ** y_true - 1\n",
    "    discounts = np.log2(np.arange(1, len(y_true) + 1) + 1)\n",
    "    return np.sum(gains / discounts)\n",
    "\n",
    "def compute_ndcg(y_true, y_pred, k):\n",
    "    if len(np.unique(y_true)) < 2:\n",
    "        return 0.0\n",
    "    dcg = compute_dcg(y_true, y_pred, k)\n",
    "    idcg = compute_dcg(y_true, sorted(y_true, reverse=True), k)\n",
    "    return dcg / idcg if idcg > 0 else 0.0\n",
    "\n",
    "def show_ndcg_for_user(user_id, k=10):\n",
    "    user = sampled_user_profiles_df.loc[sampled_user_profiles_df['user_id'] == user_id].iloc[0]\n",
    "    user_embedding = user['user_embedding']\n",
    "    clicked_articles = set(user['click_article_id'])\n",
    "\n",
    "    all_embeddings = []\n",
    "    article_ids = [article_id for article_id in articles_df['article_id'] if article_id in embeddings_dict]\n",
    "    all_embeddings = [np.concatenate((user_embedding, embeddings_dict[article_id])).reshape(1, -1) for article_id in article_ids]\n",
    "    \n",
    "    all_embeddings = np.vstack(all_embeddings)\n",
    "    \n",
    "    scores = model.predict(all_embeddings, verbose=0).flatten()\n",
    "    \n",
    "    true_labels = np.array([1 if article_id in clicked_articles else 0 for article_id in article_ids])\n",
    "    \n",
    "    order = np.argsort(scores)[::-1][:k]\n",
    "    ranked_article_ids = np.array(article_ids)[order]\n",
    "    ranked_scores = scores[order]\n",
    "    ranked_true_labels = true_labels[order]\n",
    "      \n",
    "    ndcg_score = compute_ndcg(ranked_true_labels, ranked_scores, k)\n",
    "    \n",
    "    print(f\"User ID: {user_id}\")\n",
    "    \n",
    "    print(\"\\nGround Truth Relevance:\")\n",
    "    for article_id, label in zip(article_ids, true_labels):\n",
    "        if label > 0:\n",
    "            print(f\"  Article {article_id}: Relevance {label}\")\n",
    "    \n",
    "    print(\"\\nTop-{0} Predicted Ranking:\".format(k))\n",
    "    for i, (article_id, score, true_label) in enumerate(zip(ranked_article_ids, ranked_scores, ranked_true_labels)):\n",
    "        print(f\"  Rank {i+1}: Article {article_id} | Predicted Score: {score:.4f} | True Relevance: {true_label}\")\n",
    "    \n",
    "    print(f\"\\nNDCG@{k}: {ndcg_score:.4f}\")\n",
    "\n",
    "# Example usage:\n",
    "sampled_user_profiles_df = user_profiles_df_test.sample(n=100, random_state=42)\n",
    "# evaluate_model_optimized(model, user_profiles_df_train, articles_df, articles_embeddings_df, k=10, num_users=2000)\n",
    "# Replace 'sample_user_id' with an actual user ID from your dataset\n",
    "# sampled_user_profiles_df\n",
    "show_ndcg_for_user(15958, k=10)"
   ]
  },
  {
   "cell_type": "code",
   "execution_count": 27,
   "metadata": {},
   "outputs": [
    {
     "ename": "IndexError",
     "evalue": "single positional indexer is out-of-bounds",
     "output_type": "error",
     "traceback": [
      "\u001b[0;31m---------------------------------------------------------------------------\u001b[0m",
      "\u001b[0;31mIndexError\u001b[0m                                Traceback (most recent call last)",
      "Cell \u001b[0;32mIn[27], line 39\u001b[0m\n\u001b[1;32m     37\u001b[0m     \u001b[38;5;28mprint\u001b[39m(\u001b[38;5;124mf\u001b[39m\u001b[38;5;124m\"\u001b[39m\u001b[38;5;124mIDCG@\u001b[39m\u001b[38;5;132;01m{\u001b[39;00mk\u001b[38;5;132;01m}\u001b[39;00m\u001b[38;5;124m: \u001b[39m\u001b[38;5;132;01m{\u001b[39;00midcg_score\u001b[38;5;132;01m:\u001b[39;00m\u001b[38;5;124m.4f\u001b[39m\u001b[38;5;132;01m}\u001b[39;00m\u001b[38;5;124m\"\u001b[39m)\n\u001b[1;32m     38\u001b[0m     \u001b[38;5;28mprint\u001b[39m(\u001b[38;5;124mf\u001b[39m\u001b[38;5;124m\"\u001b[39m\u001b[38;5;124mNDCG@\u001b[39m\u001b[38;5;132;01m{\u001b[39;00mk\u001b[38;5;132;01m}\u001b[39;00m\u001b[38;5;124m: \u001b[39m\u001b[38;5;132;01m{\u001b[39;00mndcg_score\u001b[38;5;132;01m:\u001b[39;00m\u001b[38;5;124m.4f\u001b[39m\u001b[38;5;132;01m}\u001b[39;00m\u001b[38;5;124m\"\u001b[39m)\n\u001b[0;32m---> 39\u001b[0m \u001b[43mshow_detailed_ndcg_for_user\u001b[49m\u001b[43m(\u001b[49m\u001b[38;5;241;43m15958\u001b[39;49m\u001b[43m,\u001b[49m\u001b[43m \u001b[49m\u001b[43mk\u001b[49m\u001b[38;5;241;43m=\u001b[39;49m\u001b[38;5;241;43m10\u001b[39;49m\u001b[43m)\u001b[49m\n",
      "Cell \u001b[0;32mIn[27], line 2\u001b[0m, in \u001b[0;36mshow_detailed_ndcg_for_user\u001b[0;34m(user_id, k)\u001b[0m\n\u001b[1;32m      1\u001b[0m \u001b[38;5;28;01mdef\u001b[39;00m \u001b[38;5;21mshow_detailed_ndcg_for_user\u001b[39m(user_id, k\u001b[38;5;241m=\u001b[39m\u001b[38;5;241m10\u001b[39m):\n\u001b[0;32m----> 2\u001b[0m     user \u001b[38;5;241m=\u001b[39m \u001b[43msampled_user_profiles_df\u001b[49m\u001b[38;5;241;43m.\u001b[39;49m\u001b[43mloc\u001b[49m\u001b[43m[\u001b[49m\u001b[43msampled_user_profiles_df\u001b[49m\u001b[43m[\u001b[49m\u001b[38;5;124;43m'\u001b[39;49m\u001b[38;5;124;43muser_id\u001b[39;49m\u001b[38;5;124;43m'\u001b[39;49m\u001b[43m]\u001b[49m\u001b[43m \u001b[49m\u001b[38;5;241;43m==\u001b[39;49m\u001b[43m \u001b[49m\u001b[43muser_id\u001b[49m\u001b[43m]\u001b[49m\u001b[38;5;241;43m.\u001b[39;49m\u001b[43miloc\u001b[49m\u001b[43m[\u001b[49m\u001b[38;5;241;43m0\u001b[39;49m\u001b[43m]\u001b[49m\n\u001b[1;32m      3\u001b[0m     user_embedding \u001b[38;5;241m=\u001b[39m user[\u001b[38;5;124m'\u001b[39m\u001b[38;5;124muser_embedding\u001b[39m\u001b[38;5;124m'\u001b[39m]\n\u001b[1;32m      4\u001b[0m     clicked_articles \u001b[38;5;241m=\u001b[39m \u001b[38;5;28mset\u001b[39m(user[\u001b[38;5;124m'\u001b[39m\u001b[38;5;124mclick_article_id\u001b[39m\u001b[38;5;124m'\u001b[39m])\n",
      "File \u001b[0;32m~/dev/6be709c0/oc-ai-engineer/OC/P10/venv/lib/python3.8/site-packages/pandas/core/indexing.py:1103\u001b[0m, in \u001b[0;36m_LocationIndexer.__getitem__\u001b[0;34m(self, key)\u001b[0m\n\u001b[1;32m   1100\u001b[0m axis \u001b[38;5;241m=\u001b[39m \u001b[38;5;28mself\u001b[39m\u001b[38;5;241m.\u001b[39maxis \u001b[38;5;129;01mor\u001b[39;00m \u001b[38;5;241m0\u001b[39m\n\u001b[1;32m   1102\u001b[0m maybe_callable \u001b[38;5;241m=\u001b[39m com\u001b[38;5;241m.\u001b[39mapply_if_callable(key, \u001b[38;5;28mself\u001b[39m\u001b[38;5;241m.\u001b[39mobj)\n\u001b[0;32m-> 1103\u001b[0m \u001b[38;5;28;01mreturn\u001b[39;00m \u001b[38;5;28;43mself\u001b[39;49m\u001b[38;5;241;43m.\u001b[39;49m\u001b[43m_getitem_axis\u001b[49m\u001b[43m(\u001b[49m\u001b[43mmaybe_callable\u001b[49m\u001b[43m,\u001b[49m\u001b[43m \u001b[49m\u001b[43maxis\u001b[49m\u001b[38;5;241;43m=\u001b[39;49m\u001b[43maxis\u001b[49m\u001b[43m)\u001b[49m\n",
      "File \u001b[0;32m~/dev/6be709c0/oc-ai-engineer/OC/P10/venv/lib/python3.8/site-packages/pandas/core/indexing.py:1656\u001b[0m, in \u001b[0;36m_iLocIndexer._getitem_axis\u001b[0;34m(self, key, axis)\u001b[0m\n\u001b[1;32m   1653\u001b[0m     \u001b[38;5;28;01mraise\u001b[39;00m \u001b[38;5;167;01mTypeError\u001b[39;00m(\u001b[38;5;124m\"\u001b[39m\u001b[38;5;124mCannot index by location index with a non-integer key\u001b[39m\u001b[38;5;124m\"\u001b[39m)\n\u001b[1;32m   1655\u001b[0m \u001b[38;5;66;03m# validate the location\u001b[39;00m\n\u001b[0;32m-> 1656\u001b[0m \u001b[38;5;28;43mself\u001b[39;49m\u001b[38;5;241;43m.\u001b[39;49m\u001b[43m_validate_integer\u001b[49m\u001b[43m(\u001b[49m\u001b[43mkey\u001b[49m\u001b[43m,\u001b[49m\u001b[43m \u001b[49m\u001b[43maxis\u001b[49m\u001b[43m)\u001b[49m\n\u001b[1;32m   1658\u001b[0m \u001b[38;5;28;01mreturn\u001b[39;00m \u001b[38;5;28mself\u001b[39m\u001b[38;5;241m.\u001b[39mobj\u001b[38;5;241m.\u001b[39m_ixs(key, axis\u001b[38;5;241m=\u001b[39maxis)\n",
      "File \u001b[0;32m~/dev/6be709c0/oc-ai-engineer/OC/P10/venv/lib/python3.8/site-packages/pandas/core/indexing.py:1589\u001b[0m, in \u001b[0;36m_iLocIndexer._validate_integer\u001b[0;34m(self, key, axis)\u001b[0m\n\u001b[1;32m   1587\u001b[0m len_axis \u001b[38;5;241m=\u001b[39m \u001b[38;5;28mlen\u001b[39m(\u001b[38;5;28mself\u001b[39m\u001b[38;5;241m.\u001b[39mobj\u001b[38;5;241m.\u001b[39m_get_axis(axis))\n\u001b[1;32m   1588\u001b[0m \u001b[38;5;28;01mif\u001b[39;00m key \u001b[38;5;241m>\u001b[39m\u001b[38;5;241m=\u001b[39m len_axis \u001b[38;5;129;01mor\u001b[39;00m key \u001b[38;5;241m<\u001b[39m \u001b[38;5;241m-\u001b[39mlen_axis:\n\u001b[0;32m-> 1589\u001b[0m     \u001b[38;5;28;01mraise\u001b[39;00m \u001b[38;5;167;01mIndexError\u001b[39;00m(\u001b[38;5;124m\"\u001b[39m\u001b[38;5;124msingle positional indexer is out-of-bounds\u001b[39m\u001b[38;5;124m\"\u001b[39m)\n",
      "\u001b[0;31mIndexError\u001b[0m: single positional indexer is out-of-bounds"
     ]
    }
   ],
   "source": [
    "def show_detailed_ndcg_for_user(user_id, k=10):\n",
    "    user = sampled_user_profiles_df.loc[sampled_user_profiles_df['user_id'] == user_id].iloc[0]\n",
    "    user_embedding = user['user_embedding']\n",
    "    clicked_articles = set(user['click_article_id'])\n",
    "\n",
    "    all_embeddings = []\n",
    "    article_ids = [article_id for article_id in articles_df['article_id'] if article_id in embeddings_dict]\n",
    "    all_embeddings = [np.concatenate((user_embedding, embeddings_dict[article_id])).reshape(1, -1) for article_id in article_ids]\n",
    "    \n",
    "    all_embeddings = np.vstack(all_embeddings)\n",
    "    \n",
    "    scores = model.predict(all_embeddings, verbose=0).flatten()\n",
    "    \n",
    "    true_labels = np.array([1 if article_id in clicked_articles else 0 for article_id in article_ids])\n",
    "    \n",
    "    order = np.argsort(scores)[::-1][:k]\n",
    "    ranked_article_ids = np.array(article_ids)[order]\n",
    "    ranked_scores = scores[order]\n",
    "    ranked_true_labels = true_labels[order]\n",
    "    \n",
    "    dcg_score = compute_dcg(ranked_true_labels, ranked_scores, k)\n",
    "    idcg_score = compute_dcg(ranked_true_labels, sorted(ranked_true_labels, reverse=True), k)\n",
    "    ndcg_score = dcg_score / idcg_score if idcg_score > 0 else 0.0\n",
    "    \n",
    "    print(f\"User ID: {user_id}\")\n",
    "\n",
    "    print(\"\\nGround Truth Relevance:\")\n",
    "    for article_id, label in zip(article_ids, true_labels):\n",
    "        if label > 0:\n",
    "            print(f\"  Article {article_id}: Relevance {label}\")\n",
    "    \n",
    "    print(\"\\nTop-{0} Predicted Ranking:\".format(k))\n",
    "    for i, (article_id, score, true_label) in enumerate(zip(ranked_article_ids, ranked_scores, ranked_true_labels)):\n",
    "        print(f\"  Rank {i+1}: Article {article_id} | Predicted Score: {score:.4f} | True Relevance: {true_label}\")\n",
    "    \n",
    "    print(f\"\\nDCG@{k}: {dcg_score:.4f}\")\n",
    "    print(f\"IDCG@{k}: {idcg_score:.4f}\")\n",
    "    print(f\"NDCG@{k}: {ndcg_score:.4f}\")\n",
    "show_detailed_ndcg_for_user(15958, k=10)"
   ]
  },
  {
   "cell_type": "code",
   "execution_count": null,
   "metadata": {},
   "outputs": [],
   "source": []
  },
  {
   "cell_type": "code",
   "execution_count": null,
   "metadata": {},
   "outputs": [],
   "source": []
  },
  {
   "cell_type": "code",
   "execution_count": 28,
   "metadata": {},
   "outputs": [
    {
     "ename": "IndexError",
     "evalue": "single positional indexer is out-of-bounds",
     "output_type": "error",
     "traceback": [
      "\u001b[0;31m---------------------------------------------------------------------------\u001b[0m",
      "\u001b[0;31mIndexError\u001b[0m                                Traceback (most recent call last)",
      "Cell \u001b[0;32mIn[28], line 39\u001b[0m\n\u001b[1;32m     37\u001b[0m     \u001b[38;5;28mprint\u001b[39m(\u001b[38;5;124mf\u001b[39m\u001b[38;5;124m\"\u001b[39m\u001b[38;5;124mIDCG@\u001b[39m\u001b[38;5;132;01m{\u001b[39;00mk\u001b[38;5;132;01m}\u001b[39;00m\u001b[38;5;124m: \u001b[39m\u001b[38;5;132;01m{\u001b[39;00midcg_score\u001b[38;5;132;01m:\u001b[39;00m\u001b[38;5;124m.4f\u001b[39m\u001b[38;5;132;01m}\u001b[39;00m\u001b[38;5;124m\"\u001b[39m)\n\u001b[1;32m     38\u001b[0m     \u001b[38;5;28mprint\u001b[39m(\u001b[38;5;124mf\u001b[39m\u001b[38;5;124m\"\u001b[39m\u001b[38;5;124mNDCG@\u001b[39m\u001b[38;5;132;01m{\u001b[39;00mk\u001b[38;5;132;01m}\u001b[39;00m\u001b[38;5;124m: \u001b[39m\u001b[38;5;132;01m{\u001b[39;00mndcg_score\u001b[38;5;132;01m:\u001b[39;00m\u001b[38;5;124m.4f\u001b[39m\u001b[38;5;132;01m}\u001b[39;00m\u001b[38;5;124m\"\u001b[39m)\n\u001b[0;32m---> 39\u001b[0m \u001b[43mshow_detailed_ndcg_for_user\u001b[49m\u001b[43m(\u001b[49m\u001b[38;5;241;43m15958\u001b[39;49m\u001b[43m,\u001b[49m\u001b[43m \u001b[49m\u001b[43mk\u001b[49m\u001b[38;5;241;43m=\u001b[39;49m\u001b[38;5;241;43m10\u001b[39;49m\u001b[43m)\u001b[49m\n",
      "Cell \u001b[0;32mIn[28], line 2\u001b[0m, in \u001b[0;36mshow_detailed_ndcg_for_user\u001b[0;34m(user_id, k)\u001b[0m\n\u001b[1;32m      1\u001b[0m \u001b[38;5;28;01mdef\u001b[39;00m \u001b[38;5;21mshow_detailed_ndcg_for_user\u001b[39m(user_id, k\u001b[38;5;241m=\u001b[39m\u001b[38;5;241m10\u001b[39m):\n\u001b[0;32m----> 2\u001b[0m     user \u001b[38;5;241m=\u001b[39m \u001b[43msampled_user_profiles_df\u001b[49m\u001b[38;5;241;43m.\u001b[39;49m\u001b[43mloc\u001b[49m\u001b[43m[\u001b[49m\u001b[43msampled_user_profiles_df\u001b[49m\u001b[43m[\u001b[49m\u001b[38;5;124;43m'\u001b[39;49m\u001b[38;5;124;43muser_id\u001b[39;49m\u001b[38;5;124;43m'\u001b[39;49m\u001b[43m]\u001b[49m\u001b[43m \u001b[49m\u001b[38;5;241;43m==\u001b[39;49m\u001b[43m \u001b[49m\u001b[43muser_id\u001b[49m\u001b[43m]\u001b[49m\u001b[38;5;241;43m.\u001b[39;49m\u001b[43miloc\u001b[49m\u001b[43m[\u001b[49m\u001b[38;5;241;43m0\u001b[39;49m\u001b[43m]\u001b[49m\n\u001b[1;32m      3\u001b[0m     user_embedding \u001b[38;5;241m=\u001b[39m user[\u001b[38;5;124m'\u001b[39m\u001b[38;5;124muser_embedding\u001b[39m\u001b[38;5;124m'\u001b[39m]\n\u001b[1;32m      4\u001b[0m     clicked_articles \u001b[38;5;241m=\u001b[39m \u001b[38;5;28mset\u001b[39m(user[\u001b[38;5;124m'\u001b[39m\u001b[38;5;124mclick_article_id\u001b[39m\u001b[38;5;124m'\u001b[39m])\n",
      "File \u001b[0;32m~/dev/6be709c0/oc-ai-engineer/OC/P10/venv/lib/python3.8/site-packages/pandas/core/indexing.py:1103\u001b[0m, in \u001b[0;36m_LocationIndexer.__getitem__\u001b[0;34m(self, key)\u001b[0m\n\u001b[1;32m   1100\u001b[0m axis \u001b[38;5;241m=\u001b[39m \u001b[38;5;28mself\u001b[39m\u001b[38;5;241m.\u001b[39maxis \u001b[38;5;129;01mor\u001b[39;00m \u001b[38;5;241m0\u001b[39m\n\u001b[1;32m   1102\u001b[0m maybe_callable \u001b[38;5;241m=\u001b[39m com\u001b[38;5;241m.\u001b[39mapply_if_callable(key, \u001b[38;5;28mself\u001b[39m\u001b[38;5;241m.\u001b[39mobj)\n\u001b[0;32m-> 1103\u001b[0m \u001b[38;5;28;01mreturn\u001b[39;00m \u001b[38;5;28;43mself\u001b[39;49m\u001b[38;5;241;43m.\u001b[39;49m\u001b[43m_getitem_axis\u001b[49m\u001b[43m(\u001b[49m\u001b[43mmaybe_callable\u001b[49m\u001b[43m,\u001b[49m\u001b[43m \u001b[49m\u001b[43maxis\u001b[49m\u001b[38;5;241;43m=\u001b[39;49m\u001b[43maxis\u001b[49m\u001b[43m)\u001b[49m\n",
      "File \u001b[0;32m~/dev/6be709c0/oc-ai-engineer/OC/P10/venv/lib/python3.8/site-packages/pandas/core/indexing.py:1656\u001b[0m, in \u001b[0;36m_iLocIndexer._getitem_axis\u001b[0;34m(self, key, axis)\u001b[0m\n\u001b[1;32m   1653\u001b[0m     \u001b[38;5;28;01mraise\u001b[39;00m \u001b[38;5;167;01mTypeError\u001b[39;00m(\u001b[38;5;124m\"\u001b[39m\u001b[38;5;124mCannot index by location index with a non-integer key\u001b[39m\u001b[38;5;124m\"\u001b[39m)\n\u001b[1;32m   1655\u001b[0m \u001b[38;5;66;03m# validate the location\u001b[39;00m\n\u001b[0;32m-> 1656\u001b[0m \u001b[38;5;28;43mself\u001b[39;49m\u001b[38;5;241;43m.\u001b[39;49m\u001b[43m_validate_integer\u001b[49m\u001b[43m(\u001b[49m\u001b[43mkey\u001b[49m\u001b[43m,\u001b[49m\u001b[43m \u001b[49m\u001b[43maxis\u001b[49m\u001b[43m)\u001b[49m\n\u001b[1;32m   1658\u001b[0m \u001b[38;5;28;01mreturn\u001b[39;00m \u001b[38;5;28mself\u001b[39m\u001b[38;5;241m.\u001b[39mobj\u001b[38;5;241m.\u001b[39m_ixs(key, axis\u001b[38;5;241m=\u001b[39maxis)\n",
      "File \u001b[0;32m~/dev/6be709c0/oc-ai-engineer/OC/P10/venv/lib/python3.8/site-packages/pandas/core/indexing.py:1589\u001b[0m, in \u001b[0;36m_iLocIndexer._validate_integer\u001b[0;34m(self, key, axis)\u001b[0m\n\u001b[1;32m   1587\u001b[0m len_axis \u001b[38;5;241m=\u001b[39m \u001b[38;5;28mlen\u001b[39m(\u001b[38;5;28mself\u001b[39m\u001b[38;5;241m.\u001b[39mobj\u001b[38;5;241m.\u001b[39m_get_axis(axis))\n\u001b[1;32m   1588\u001b[0m \u001b[38;5;28;01mif\u001b[39;00m key \u001b[38;5;241m>\u001b[39m\u001b[38;5;241m=\u001b[39m len_axis \u001b[38;5;129;01mor\u001b[39;00m key \u001b[38;5;241m<\u001b[39m \u001b[38;5;241m-\u001b[39mlen_axis:\n\u001b[0;32m-> 1589\u001b[0m     \u001b[38;5;28;01mraise\u001b[39;00m \u001b[38;5;167;01mIndexError\u001b[39;00m(\u001b[38;5;124m\"\u001b[39m\u001b[38;5;124msingle positional indexer is out-of-bounds\u001b[39m\u001b[38;5;124m\"\u001b[39m)\n",
      "\u001b[0;31mIndexError\u001b[0m: single positional indexer is out-of-bounds"
     ]
    }
   ],
   "source": [
    "def show_detailed_ndcg_for_user(user_id, k=10):\n",
    "    user = sampled_user_profiles_df.loc[sampled_user_profiles_df['user_id'] == user_id].iloc[0]\n",
    "    user_embedding = user['user_embedding']\n",
    "    clicked_articles = set(user['click_article_id'])\n",
    "\n",
    "    all_embeddings = []\n",
    "    article_ids = [article_id for article_id in articles_df['article_id'] if article_id in embeddings_dict]\n",
    "    all_embeddings = [np.concatenate((user_embedding, embeddings_dict[article_id])).reshape(1, -1) for article_id in article_ids]\n",
    "    \n",
    "    all_embeddings = np.vstack(all_embeddings)\n",
    "    \n",
    "    scores = model.predict(all_embeddings, verbose=0).flatten()\n",
    "    \n",
    "    true_labels = np.array([1 if article_id in clicked_articles else 0 for article_id in article_ids])\n",
    "    \n",
    "    order = np.argsort(scores)[::-1][:k]\n",
    "    ranked_article_ids = np.array(article_ids)[order]\n",
    "    ranked_scores = scores[order]\n",
    "    ranked_true_labels = true_labels[order]\n",
    "    \n",
    "    dcg_score = compute_dcg(ranked_true_labels, ranked_scores, k)\n",
    "    idcg_score = compute_dcg(ranked_true_labels, sorted(ranked_true_labels, reverse=True), k)\n",
    "    ndcg_score = dcg_score / idcg_score if idcg_score > 0 else 0.0\n",
    "    \n",
    "    print(f\"User ID: {user_id}\")\n",
    "\n",
    "    print(\"\\nGround Truth Relevance:\")\n",
    "    for article_id, label in zip(article_ids, true_labels):\n",
    "        if label > 0:\n",
    "            print(f\"  Article {article_id}: Relevance {label}\")\n",
    "    \n",
    "    print(\"\\nTop-{0} Predicted Ranking:\".format(k))\n",
    "    for i, (article_id, score, true_label) in enumerate(zip(ranked_article_ids, ranked_scores, ranked_true_labels)):\n",
    "        print(f\"  Rank {i+1}: Article {article_id} | Predicted Score: {score:.4f} | True Relevance: {true_label}\")\n",
    "    \n",
    "    print(f\"\\nDCG@{k}: {dcg_score:.4f}\")\n",
    "    print(f\"IDCG@{k}: {idcg_score:.4f}\")\n",
    "    print(f\"NDCG@{k}: {ndcg_score:.4f}\")\n",
    "show_detailed_ndcg_for_user(15958, k=10)"
   ]
  },
  {
   "cell_type": "code",
   "execution_count": null,
   "metadata": {},
   "outputs": [],
   "source": [
    "show_ndcg_for_user(15958, k=10)"
   ]
  },
  {
   "cell_type": "code",
   "execution_count": null,
   "metadata": {},
   "outputs": [],
   "source": []
  },
  {
   "cell_type": "code",
   "execution_count": null,
   "metadata": {},
   "outputs": [],
   "source": []
  },
  {
   "cell_type": "code",
   "execution_count": null,
   "metadata": {},
   "outputs": [],
   "source": [
    "user_profiles_df_train"
   ]
  },
  {
   "cell_type": "code",
   "execution_count": null,
   "metadata": {},
   "outputs": [],
   "source": [
    "user_id=3\n",
    "user_id=15958\n",
    "top_k_articles, bottom_k_article_ids, user_article_clicked = infer_top_k_articles(user_id, user_profiles_df_all, df_articles, article_embeddings_df, content_based_model, k=50)"
   ]
  },
  {
   "cell_type": "code",
   "execution_count": null,
   "metadata": {},
   "outputs": [],
   "source": []
  },
  {
   "cell_type": "code",
   "execution_count": null,
   "metadata": {},
   "outputs": [],
   "source": [
    "user_article_clicked"
   ]
  },
  {
   "cell_type": "code",
   "execution_count": null,
   "metadata": {},
   "outputs": [],
   "source": [
    "top_k_articles[top_k_articles[\"article_id\"].isin(user_article_clicked[\"article_id\"])]"
   ]
  },
  {
   "cell_type": "code",
   "execution_count": null,
   "metadata": {},
   "outputs": [],
   "source": [
    "top_k_articles"
   ]
  },
  {
   "cell_type": "code",
   "execution_count": null,
   "metadata": {},
   "outputs": [],
   "source": [
    "bottom_k_article_ids"
   ]
  },
  {
   "cell_type": "code",
   "execution_count": 30,
   "metadata": {},
   "outputs": [
    {
     "name": "stderr",
     "output_type": "stream",
     "text": [
      "/Users/m/dev/6be709c0/oc-ai-engineer/OC/P10/venv/lib/python3.8/site-packages/keras/src/engine/training.py:3000: UserWarning: You are saving your model as an HDF5 file via `model.save()`. This file format is considered legacy. We recommend using instead the native Keras format, e.g. `model.save('my_model.keras')`.\n",
      "  saving_api.save_model(\n"
     ]
    }
   ],
   "source": [
    "content_based_model.save('./input/content-based-reduced.h5')"
   ]
  },
  {
   "cell_type": "code",
   "execution_count": null,
   "metadata": {},
   "outputs": [],
   "source": [
    "\n",
    "user_profiles_df_test.to_pickle(\"./input/user_profiles_df_test-reduced.pkl\")"
   ]
  },
  {
   "cell_type": "code",
   "execution_count": 31,
   "metadata": {},
   "outputs": [],
   "source": [
    "with open('./input/embeddings_dict.pkl', 'wb') as f:\n",
    "    pickle.dump(embeddings_dict, f)"
   ]
  },
  {
   "cell_type": "code",
   "execution_count": 33,
   "metadata": {},
   "outputs": [],
   "source": [
    "# Save DataFrames to disk\n",
    "user_profiles_df_all.to_pickle(\"./input/user_profiles_df_all-reduced.pkl\")\n",
    "df_articles.to_pickle(\"./input/df_articles-reduced.pkl\")\n",
    "article_embeddings_df.to_pickle(\"./input/article_embeddings_df-reduced.pkl\")"
   ]
  },
  {
   "cell_type": "code",
   "execution_count": null,
   "metadata": {},
   "outputs": [],
   "source": [
    "article_embeddings_df.shape"
   ]
  },
  {
   "cell_type": "code",
   "execution_count": null,
   "metadata": {},
   "outputs": [],
   "source": [
    "def infer_all_articles_scores(user_id, df, df_articles, article_embeddings_df, model):\n",
    "    # Retrieve the user's embedding\n",
    "    user_profile = df[df['user_id'] == user_id].iloc[0]\n",
    "    \n",
    "    if user_profile.empty:\n",
    "        raise ValueError(\"User ID not found in the user profiles.\")\n",
    "\n",
    "    user_embedding = user_profile['user_embedding']\n",
    "\n",
    "    # Get all articles embeddings\n",
    "    embeddings_dict = article_embeddings_df.T.to_dict('list')\n",
    "    \n",
    "    article_ids = list(embeddings_dict.keys())\n",
    "    combined_features_list = [np.concatenate((user_embedding, article_embedding)).reshape(1, -1) \n",
    "                              for article_embedding in embeddings_dict.values()]\n",
    "\n",
    "    all_embeddings = np.vstack(combined_features_list)\n",
    "    \n",
    "    # Predict relevance scores using the trained model\n",
    "    scores = model.predict(all_embeddings, verbose=0).flatten()\n",
    "\n",
    "    # Create a dataframe with article IDs, category IDs, and scores\n",
    "    article_scores_df = df_articles[['article_id', 'category_id']].copy()\n",
    "    article_scores_df['score'] = article_scores_df['article_id'].map(dict(zip(article_ids, scores)))\n",
    "    \n",
    "    # Remove any unwanted header rows if present\n",
    "    # article_scores_df.columns = article_scores_df.columns.droplevel(0)\n",
    "    article_scores_df.reset_index(drop=True, inplace=True)\n",
    "    return article_scores_df"
   ]
  },
  {
   "cell_type": "code",
   "execution_count": null,
   "metadata": {},
   "outputs": [],
   "source": [
    "articles_scores = infer_all_articles_scores(user_id, user_profiles_df_all, df_articles, article_embeddings_df, content_based_model)\n",
    "articles_scores"
   ]
  },
  {
   "cell_type": "code",
   "execution_count": null,
   "metadata": {},
   "outputs": [],
   "source": []
  }
 ],
 "metadata": {
  "kernelspec": {
   "display_name": "Python 3",
   "language": "python",
   "name": "python3"
  },
  "language_info": {
   "codemirror_mode": {
    "name": "ipython",
    "version": 3
   },
   "file_extension": ".py",
   "mimetype": "text/x-python",
   "name": "python",
   "nbconvert_exporter": "python",
   "pygments_lexer": "ipython3",
   "version": "3.8.19"
  }
 },
 "nbformat": 4,
 "nbformat_minor": 4
}
