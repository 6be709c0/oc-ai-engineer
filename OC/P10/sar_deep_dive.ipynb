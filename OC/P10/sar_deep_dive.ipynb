{
    "cells": [
        {
            "cell_type": "markdown",
            "metadata": {},
            "source": [
                "<i>Copyright (c) Recommenders contributors.</i>\n",
                "\n",
                "<i>Licensed under the MIT License.</i>"
            ]
        },
        {
            "cell_type": "markdown",
            "metadata": {},
            "source": [
                "# SAR Single Node on MovieLens (Python, CPU)\n",
                "\n",
                "In this example, we will walk through each step of the Simple Algorithm for Recommendation (SAR) algorithm using a Python single-node implementation.\n",
                "\n",
                "SAR is a fast, scalable, adaptive algorithm for personalized recommendations based on user transaction history. It is powered by understanding the similarity between items, and recommending similar items to those a user has an existing affinity for."
            ]
        },
        {
            "cell_type": "markdown",
            "metadata": {},
            "source": [
                "## 1 SAR algorithm\n",
                "\n",
                "The following figure presents a high-level architecture of SAR. \n",
                "\n",
                "At a very high level, two intermediate matrices are created and used to generate a set of recommendation scores:\n",
                "\n",
                "- An item similarity matrix $S$ estimates item-item relationships.\n",
                "- An affinity matrix $A$ estimates user-item relationships.\n",
                "\n",
                "Recommendation scores are then created by computing the matrix multiplication $A\\times S$.\n",
                "\n",
                "Optional steps (e.g. \"time decay\" and \"remove seen items\") are described in the details below.\n",
                "\n",
                "<img src=\"https://recodatasets.z20.web.core.windows.net/images/sar_schema.svg?sanitize=true\">\n",
                "\n",
                "### 1.1 Compute item co-occurrence and item similarity\n",
                "\n",
                "SAR defines similarity based on item-to-item co-occurrence data. Co-occurrence is defined as the number of times two items appear together for a given user. We can represent the co-occurrence of all items as a $m\\times m$ matrix $C$, where $c_{i,j}$ is the number of times item $i$ occurred with item $j$, and $m$ is the total number of items.\n",
                "\n",
                "The co-occurence matric $C$ has the following properties:\n",
                "\n",
                "- It is symmetric, so $c_{i,j} = c_{j,i}$\n",
                "- It is nonnegative: $c_{i,j} \\geq 0$\n",
                "- The occurrences are at least as large as the co-occurrences. I.e., the largest element for each row (and column) is on the main diagonal: $\\forall(i,j) C_{i,i},C_{j,j} \\geq C_{i,j}$.\n",
                "\n",
                "Once we have a co-occurrence matrix, an item similarity matrix $S$ can be obtained by rescaling the co-occurrences according to a given metric. Options for the metric include `Jaccard`, `lift`, and `counts` (meaning no rescaling).\n",
                "\n",
                "\n",
                "If $c_{ii}$ and $c_{jj}$ are the $i$th and $j$th diagonal elements of $C$, the rescaling options are:\n",
                "\n",
                "- `Jaccard`: $s_{ij}=\\frac{c_{ij}}{(c_{ii}+c_{jj}-c_{ij})}$\n",
                "- `lift`: $s_{ij}=\\frac{c_{ij}}{(c_{ii} \\times c_{jj})}$\n",
                "- `counts`: $s_{ij}=c_{ij}$\n",
                "\n",
                "In general, using `counts` as a similarity metric favours predictability, meaning that the most popular items will be recommended most of the time. `lift` by contrast favours discoverability/serendipity: an item that is less popular overall but highly favoured by a small subset of users is more likely to be recommended. `Jaccard` is a compromise between the two.\n",
                "\n",
                "\n",
                "### 1.2 Compute user affinity scores\n",
                "\n",
                "The affinity matrix in SAR captures the strength of the relationship between each individual user and the items that user has already interacted with. SAR incorporates two factors that can impact users' affinities: \n",
                "\n",
                "- It can consider information about the **type** of user-item interaction through differential weighting of different events (e.g. it may weigh events in which a user rated a particular item more heavily than events in which a user viewed the item).\n",
                "- It can consider information about **when** a user-item event occurred (e.g. it may discount the value of events that take place in the distant past.\n",
                "\n",
                "Formalizing these factors produces us an expression for user-item affinity:\n",
                "\n",
                "$$a_{ij}=\\sum_k w_k \\left(\\frac{1}{2}\\right)^{\\frac{t_0-t_k}{T}} $$\n",
                "\n",
                "where the affinity $a_{ij}$ for user $i$ and item $j$ is the weighted sum of all $k$ events involving user $i$ and item $j$. $w_k$ represents the weight of a particular event, and the power of 2 term reflects the temporally-discounted event. The $(\\frac{1}{2})^n$ scaling factor causes the parameter $T$ to serve as a half-life: events $T$ units before $t_0$ will be given half the weight as those taking place at $t_0$.\n",
                "\n",
                "Repeating this computation for all $n$ users and $m$ items results in an $n\\times m$ matrix $A$. Simplifications of the above expression can be obtained by setting all the weights equal to 1 (effectively ignoring event types), or by setting the half-life parameter $T$ to infinity (ignoring transaction times).\n",
                "\n",
                "### 1.3 Remove seen item\n",
                "\n",
                "Optionally we remove items which have already been seen in the training set, i.e. don't recommend items which have been previously bought by the user again.\n",
                "\n",
                "### 1.4 Top-k item calculation\n",
                "\n",
                "The personalized recommendations for a set of users can then be obtained by multiplying the affinity matrix ($A$) by the similarity matrix ($S$). The result is a recommendation score matrix, where each row corresponds to a user, each column corresponds to an item, and each entry corresponds to a user / item pair. Higher scores correspond to more strongly recommended items.\n",
                "\n",
                "It is worth noting that the complexity of recommending operation depends on the data size. SAR algorithm itself has $O(n^3)$ complexity. Therefore the single-node implementation is not supposed to handle large dataset in a scalable manner. Whenever one uses the algorithm, it is recommended to run with sufficiently large memory. "
            ]
        },
        {
            "cell_type": "markdown",
            "metadata": {},
            "source": [
                "## 2 SAR single-node implementation\n",
                "\n",
                "The SAR implementation illustrated in this notebook was developed in Python, primarily with Python packages like `numpy`, `pandas`, and `scipy` which are commonly used in most of the data analytics / machine learning tasks. Details of the implementation can be found in [Recommenders/recommenders/models/sar/sar_singlenode.py](../../recommenders/models/sar/sar_singlenode.py)."
            ]
        },
        {
            "cell_type": "markdown",
            "metadata": {},
            "source": [
                "## 3 SAR single-node based movie recommender"
            ]
        },
        {
            "cell_type": "code",
            "execution_count": 1,
            "metadata": {},
            "outputs": [
                {
                    "name": "stdout",
                    "output_type": "stream",
                    "text": [
                        "System version: 3.8.19 (default, Mar 20 2024, 15:27:52) \n",
                        "[Clang 14.0.6 ]\n",
                        "Pandas version: 2.0.3\n",
                        "NumPy version: 1.24.3\n",
                        "SciPy version: 1.10.1\n"
                    ]
                }
            ],
            "source": [
                "import sys\n",
                "import logging\n",
                "import scipy\n",
                "import numpy as np\n",
                "import pandas as pd\n",
                "\n",
                "from recommenders.datasets import movielens\n",
                "from recommenders.datasets.python_splitters import python_stratified_split\n",
                "from recommenders.evaluation.python_evaluation import map_at_k, ndcg_at_k, precision_at_k, recall_at_k\n",
                "from recommenders.models.sar import SAR\n",
                "from recommenders.utils.notebook_utils import store_metadata\n",
                "\n",
                "print(f\"System version: {sys.version}\")\n",
                "print(f\"Pandas version: {pd.__version__}\")\n",
                "print(f\"NumPy version: {np.__version__}\")\n",
                "print(f\"SciPy version: {scipy.__version__}\")"
            ]
        },
        {
            "cell_type": "code",
            "execution_count": 2,
            "metadata": {},
            "outputs": [],
            "source": [
                "from helpers import *"
            ]
        },
        {
            "cell_type": "code",
            "execution_count": 3,
            "metadata": {
                "tags": [
                    "parameters"
                ]
            },
            "outputs": [],
            "source": [
                "# Top k items to recommend\n",
                "TOP_K = 10\n",
                "\n",
                "# Select MovieLens data size: 100k, 1m, 10m, or 20m\n",
                "MOVIELENS_DATA_SIZE = \"100k\""
            ]
        },
        {
            "cell_type": "code",
            "execution_count": 4,
            "metadata": {},
            "outputs": [],
            "source": [
                "# set log level to INFO\n",
                "logging.basicConfig(\n",
                "    level=logging.DEBUG,\n",
                "    format=\"%(asctime)s %(levelname)-8s %(message)s\",\n",
                "    datefmt=\"%Y-%m-%d %H:%M:%S\",\n",
                ")"
            ]
        },
        {
            "cell_type": "markdown",
            "metadata": {},
            "source": [
                "### 3.1 Load Data\n",
                "\n",
                "SAR is intended to be used on interactions with the following schema:\n",
                "`<User ID>, <Item ID>, <Time>`. \n",
                "\n",
                "Each row represents a single interaction between a user and an item. These interactions might be different types of events on an e-commerce website, such as a user clicking to view an item, adding it to a shopping basket, following a recommendation link, and so on. \n",
                "\n",
                "The MovieLens dataset is well formatted interactions of Users providing Ratings to Movies (movie ratings are used as the event weight) - we will use it for the rest of the example."
            ]
        },
        {
            "cell_type": "code",
            "execution_count": 5,
            "metadata": {},
            "outputs": [],
            "source": [
                "df_articles, df_clicks, article_embeddings = load_dataset()\n",
                "df_clicks = df_clicks.sample(n=500000)\n",
                "df_clicks.rename(columns={'user_id': 'UserId', \"click_article_id\":\"MovieId\", \"click_timestamp\":\"Timestamp\"}, inplace=True)\n",
                "df_clicks[\"UserId\"] = df_clicks[\"UserId\"].astype('int64')\n",
                "df_clicks[\"Timestamp\"] = df_clicks[\"Timestamp\"].astype('int64')\n",
                "df_clicks[\"MovieId\"] = df_clicks[\"MovieId\"].astype('int64')\n",
                "df_clicks['Rating'] = 1.0\n",
                "df_clicks['Rating'] = df_clicks[\"Rating\"].astype(np.float32)"
            ]
        },
        {
            "cell_type": "code",
            "execution_count": 6,
            "metadata": {},
            "outputs": [],
            "source": [
                "\n",
                "# print(df_clicks[['UserId','MovieId', 'Rating','Timestamp']].dtypes)\n",
                "# print(data.dtypes)"
            ]
        },
        {
            "cell_type": "code",
            "execution_count": 7,
            "metadata": {},
            "outputs": [
                {
                    "data": {
                        "text/html": [
                            "<div>\n",
                            "<style scoped>\n",
                            "    .dataframe tbody tr th:only-of-type {\n",
                            "        vertical-align: middle;\n",
                            "    }\n",
                            "\n",
                            "    .dataframe tbody tr th {\n",
                            "        vertical-align: top;\n",
                            "    }\n",
                            "\n",
                            "    .dataframe thead th {\n",
                            "        text-align: right;\n",
                            "    }\n",
                            "</style>\n",
                            "<table border=\"1\" class=\"dataframe\">\n",
                            "  <thead>\n",
                            "    <tr style=\"text-align: right;\">\n",
                            "      <th></th>\n",
                            "      <th>UserId</th>\n",
                            "      <th>MovieId</th>\n",
                            "      <th>Rating</th>\n",
                            "      <th>Timestamp</th>\n",
                            "    </tr>\n",
                            "  </thead>\n",
                            "  <tbody>\n",
                            "    <tr>\n",
                            "      <th>0</th>\n",
                            "      <td>316154</td>\n",
                            "      <td>87194</td>\n",
                            "      <td>1.0</td>\n",
                            "      <td>1508156252374</td>\n",
                            "    </tr>\n",
                            "    <tr>\n",
                            "      <th>1</th>\n",
                            "      <td>65572</td>\n",
                            "      <td>235920</td>\n",
                            "      <td>1.0</td>\n",
                            "      <td>1508161778063</td>\n",
                            "    </tr>\n",
                            "    <tr>\n",
                            "      <th>2</th>\n",
                            "      <td>40</td>\n",
                            "      <td>157844</td>\n",
                            "      <td>1.0</td>\n",
                            "      <td>1507255348007</td>\n",
                            "    </tr>\n",
                            "    <tr>\n",
                            "      <th>3</th>\n",
                            "      <td>164378</td>\n",
                            "      <td>293301</td>\n",
                            "      <td>1.0</td>\n",
                            "      <td>1507137874614</td>\n",
                            "    </tr>\n",
                            "    <tr>\n",
                            "      <th>4</th>\n",
                            "      <td>18202</td>\n",
                            "      <td>233658</td>\n",
                            "      <td>1.0</td>\n",
                            "      <td>1507513525779</td>\n",
                            "    </tr>\n",
                            "    <tr>\n",
                            "      <th>...</th>\n",
                            "      <td>...</td>\n",
                            "      <td>...</td>\n",
                            "      <td>...</td>\n",
                            "      <td>...</td>\n",
                            "    </tr>\n",
                            "    <tr>\n",
                            "      <th>499995</th>\n",
                            "      <td>83690</td>\n",
                            "      <td>300082</td>\n",
                            "      <td>1.0</td>\n",
                            "      <td>1507644516221</td>\n",
                            "    </tr>\n",
                            "    <tr>\n",
                            "      <th>499996</th>\n",
                            "      <td>10159</td>\n",
                            "      <td>96663</td>\n",
                            "      <td>1.0</td>\n",
                            "      <td>1506865627487</td>\n",
                            "    </tr>\n",
                            "    <tr>\n",
                            "      <th>499997</th>\n",
                            "      <td>91738</td>\n",
                            "      <td>215861</td>\n",
                            "      <td>1.0</td>\n",
                            "      <td>1507241331601</td>\n",
                            "    </tr>\n",
                            "    <tr>\n",
                            "      <th>499998</th>\n",
                            "      <td>130075</td>\n",
                            "      <td>276970</td>\n",
                            "      <td>1.0</td>\n",
                            "      <td>1507217199560</td>\n",
                            "    </tr>\n",
                            "    <tr>\n",
                            "      <th>499999</th>\n",
                            "      <td>46249</td>\n",
                            "      <td>236613</td>\n",
                            "      <td>1.0</td>\n",
                            "      <td>1506940309004</td>\n",
                            "    </tr>\n",
                            "  </tbody>\n",
                            "</table>\n",
                            "<p>500000 rows × 4 columns</p>\n",
                            "</div>"
                        ],
                        "text/plain": [
                            "        UserId  MovieId  Rating      Timestamp\n",
                            "0       316154    87194     1.0  1508156252374\n",
                            "1        65572   235920     1.0  1508161778063\n",
                            "2           40   157844     1.0  1507255348007\n",
                            "3       164378   293301     1.0  1507137874614\n",
                            "4        18202   233658     1.0  1507513525779\n",
                            "...        ...      ...     ...            ...\n",
                            "499995   83690   300082     1.0  1507644516221\n",
                            "499996   10159    96663     1.0  1506865627487\n",
                            "499997   91738   215861     1.0  1507241331601\n",
                            "499998  130075   276970     1.0  1507217199560\n",
                            "499999   46249   236613     1.0  1506940309004\n",
                            "\n",
                            "[500000 rows x 4 columns]"
                        ]
                    },
                    "execution_count": 7,
                    "metadata": {},
                    "output_type": "execute_result"
                }
            ],
            "source": [
                "data = df_clicks[['UserId','MovieId', 'Rating','Timestamp']].reset_index(drop=True)\n",
                "data\n",
                "\n",
                "# data = movielens.load_pandas_df(\n",
                "#     size=MOVIELENS_DATA_SIZE,\n",
                "#     header=[\"UserId\", \"MovieId\", \"Rating\", \"Timestamp\"],\n",
                "#     title_col=\"Title\",\n",
                "# )\n",
                "\n",
                "# # Convert the float precision to 32-bit in order to reduce memory consumption\n",
                "# data[\"Rating\"] = data[\"Rating\"].astype(np.float32)\n",
                "\n",
                "# data.head()"
            ]
        },
        {
            "cell_type": "markdown",
            "metadata": {},
            "source": [
                "### 3.2 Split the data using the python random splitter provided in utilities:\n",
                "\n",
                "We split the full dataset into a `train` and `test` dataset to evaluate performance of the algorithm against a held-out set not seen during training. Because SAR generates recommendations based on user preferences, all users that are in the test set must also exist in the training set. For this case, we can use the provided `python_stratified_split` function which holds out a percentage (in this case 25%) of items from each user, but ensures all users are in both `train` and `test` datasets. Other options are available in the `dataset.python_splitters` module which provide more control over how the split occurs.\n"
            ]
        },
        {
            "cell_type": "code",
            "execution_count": 8,
            "metadata": {},
            "outputs": [],
            "source": [
                "header = {\n",
                "    \"col_user\": \"UserId\",\n",
                "    \"col_item\": \"MovieId\",\n",
                "    \"col_rating\": \"Rating\",\n",
                "    \"col_timestamp\": \"Timestamp\",\n",
                "    \"col_prediction\": \"Prediction\",\n",
                "}"
            ]
        },
        {
            "cell_type": "code",
            "execution_count": 9,
            "metadata": {},
            "outputs": [],
            "source": [
                "train, test = python_stratified_split(\n",
                "    data, ratio=0.75, col_user=header[\"col_user\"], col_item=header[\"col_item\"], seed=42\n",
                ")\n"
            ]
        },
        {
            "cell_type": "markdown",
            "metadata": {},
            "source": [
                "In this case, for the illustration purpose, the following parameter values are used:\n",
                "\n",
                "|Parameter|Value|Description|\n",
                "|---------|---------|-------------|\n",
                "|`similarity_type`|`jaccard`|Method used to calculate item similarity.|\n",
                "|`time_decay_coefficient`|30|Period in days (term of $T$ shown in the formula of Section 1.2)|\n",
                "|`time_now`|`None`|Time decay reference.|\n",
                "|`timedecay_formula`|`True`|Whether time decay formula is used.|"
            ]
        },
        {
            "cell_type": "code",
            "execution_count": 10,
            "metadata": {},
            "outputs": [],
            "source": [
                "model = SAR(\n",
                "    similarity_type=\"jaccard\", \n",
                "    time_decay_coefficient=30, \n",
                "    time_now=None, \n",
                "    timedecay_formula=True, \n",
                "    **header\n",
                ")"
            ]
        },
        {
            "cell_type": "code",
            "execution_count": 11,
            "metadata": {},
            "outputs": [
                {
                    "name": "stderr",
                    "output_type": "stream",
                    "text": [
                        "2024-05-26 23:40:44 INFO     Collecting user affinity matrix\n",
                        "2024-05-26 23:40:44 INFO     Calculating time-decayed affinities\n",
                        "2024-05-26 23:40:44 INFO     Creating index columns\n",
                        "2024-05-26 23:40:44 INFO     Building user affinity sparse matrix\n",
                        "2024-05-26 23:40:44 INFO     Calculating item co-occurrence\n",
                        "2024-05-26 23:40:44 INFO     Calculating item similarity\n",
                        "2024-05-26 23:40:44 INFO     Using jaccard based similarity\n",
                        "2024-05-26 23:40:48 INFO     Done training\n"
                    ]
                }
            ],
            "source": [
                "model.fit(train)"
            ]
        },
        {
            "cell_type": "code",
            "execution_count": 12,
            "metadata": {
                "scrolled": true
            },
            "outputs": [
                {
                    "name": "stderr",
                    "output_type": "stream",
                    "text": [
                        "2024-05-26 23:40:48 INFO     Calculating recommendation scores\n",
                        "2024-05-26 23:40:50 INFO     Removing seen items\n",
                        "/Users/m/dev/6be709c0/oc-ai-engineer/OC/P10/venv/lib/python3.8/site-packages/scipy/sparse/_data.py:124: RuntimeWarning: invalid value encountered in multiply\n",
                        "  return self._with_data(self.data * other)\n"
                    ]
                }
            ],
            "source": [
                "top_k = model.recommend_k_items(test, top_k=TOP_K, remove_seen=True)"
            ]
        },
        {
            "cell_type": "markdown",
            "metadata": {},
            "source": [
                "The final output from the `recommend_k_items` method generates recommendation scores for each user-item pair, which are shown as follows."
            ]
        },
        {
            "cell_type": "code",
            "execution_count": 13,
            "metadata": {
                "scrolled": true
            },
            "outputs": [
                {
                    "data": {
                        "text/html": [
                            "<div>\n",
                            "<style scoped>\n",
                            "    .dataframe tbody tr th:only-of-type {\n",
                            "        vertical-align: middle;\n",
                            "    }\n",
                            "\n",
                            "    .dataframe tbody tr th {\n",
                            "        vertical-align: top;\n",
                            "    }\n",
                            "\n",
                            "    .dataframe thead th {\n",
                            "        text-align: right;\n",
                            "    }\n",
                            "</style>\n",
                            "<table border=\"1\" class=\"dataframe\">\n",
                            "  <thead>\n",
                            "    <tr style=\"text-align: right;\">\n",
                            "      <th></th>\n",
                            "      <th>UserId</th>\n",
                            "      <th>MovieId</th>\n",
                            "      <th>Prediction</th>\n",
                            "    </tr>\n",
                            "  </thead>\n",
                            "  <tbody>\n",
                            "    <tr>\n",
                            "      <th>583700</th>\n",
                            "      <td>322666</td>\n",
                            "      <td>331531</td>\n",
                            "      <td>1.438075e-186</td>\n",
                            "    </tr>\n",
                            "    <tr>\n",
                            "      <th>583709</th>\n",
                            "      <td>322666</td>\n",
                            "      <td>113993</td>\n",
                            "      <td>1.115625e-186</td>\n",
                            "    </tr>\n",
                            "    <tr>\n",
                            "      <th>583703</th>\n",
                            "      <td>322666</td>\n",
                            "      <td>361939</td>\n",
                            "      <td>1.115625e-186</td>\n",
                            "    </tr>\n",
                            "    <tr>\n",
                            "      <th>583702</th>\n",
                            "      <td>322666</td>\n",
                            "      <td>97141</td>\n",
                            "      <td>1.115625e-186</td>\n",
                            "    </tr>\n",
                            "    <tr>\n",
                            "      <th>583708</th>\n",
                            "      <td>322666</td>\n",
                            "      <td>309520</td>\n",
                            "      <td>1.115625e-186</td>\n",
                            "    </tr>\n",
                            "    <tr>\n",
                            "      <th>583704</th>\n",
                            "      <td>322666</td>\n",
                            "      <td>86266</td>\n",
                            "      <td>1.115625e-186</td>\n",
                            "    </tr>\n",
                            "    <tr>\n",
                            "      <th>583706</th>\n",
                            "      <td>322666</td>\n",
                            "      <td>309504</td>\n",
                            "      <td>1.115625e-186</td>\n",
                            "    </tr>\n",
                            "    <tr>\n",
                            "      <th>583701</th>\n",
                            "      <td>322666</td>\n",
                            "      <td>311661</td>\n",
                            "      <td>1.115625e-186</td>\n",
                            "    </tr>\n",
                            "    <tr>\n",
                            "      <th>583705</th>\n",
                            "      <td>322666</td>\n",
                            "      <td>88961</td>\n",
                            "      <td>1.115625e-186</td>\n",
                            "    </tr>\n",
                            "    <tr>\n",
                            "      <th>583707</th>\n",
                            "      <td>322666</td>\n",
                            "      <td>314518</td>\n",
                            "      <td>1.115625e-186</td>\n",
                            "    </tr>\n",
                            "  </tbody>\n",
                            "</table>\n",
                            "</div>"
                        ],
                        "text/plain": [
                            "        UserId  MovieId     Prediction\n",
                            "583700  322666   331531  1.438075e-186\n",
                            "583709  322666   113993  1.115625e-186\n",
                            "583703  322666   361939  1.115625e-186\n",
                            "583702  322666    97141  1.115625e-186\n",
                            "583708  322666   309520  1.115625e-186\n",
                            "583704  322666    86266  1.115625e-186\n",
                            "583706  322666   309504  1.115625e-186\n",
                            "583701  322666   311661  1.115625e-186\n",
                            "583705  322666    88961  1.115625e-186\n",
                            "583707  322666   314518  1.115625e-186"
                        ]
                    },
                    "execution_count": 13,
                    "metadata": {},
                    "output_type": "execute_result"
                }
            ],
            "source": [
                "top_k_with_titles = top_k.join(\n",
                "    data[[\"MovieId\"]].drop_duplicates().set_index(\"MovieId\"),\n",
                "    on=\"MovieId\",\n",
                "    how=\"inner\",\n",
                ").sort_values(by=[\"UserId\", \"Prediction\"], ascending=False)\n",
                "\n",
                "top_k_with_titles.head(10)"
            ]
        },
        {
            "cell_type": "markdown",
            "metadata": {},
            "source": [
                "### 3.3 Evaluate the results\n",
                "\n",
                "It should be known that the recommendation scores generated by multiplying the item similarity matrix $S$ and the user affinity matrix $A$ **DOES NOT** have the same scale with the original explicit ratings in the movielens dataset. That is to say, SAR algorithm is meant for the task of *recommending relevent items to users* rather than *predicting explicit ratings for user-item pairs*. \n",
                "\n",
                "To this end, ranking metrics like precision@k, recall@k, etc., are more applicable to evaluate SAR algorithm. The following illustrates how to evaluate SAR model by using the evaluation functions provided in Recommenders library."
            ]
        },
        {
            "cell_type": "code",
            "execution_count": 17,
            "metadata": {},
            "outputs": [
                {
                    "data": {
                        "text/html": [
                            "<div>\n",
                            "<style scoped>\n",
                            "    .dataframe tbody tr th:only-of-type {\n",
                            "        vertical-align: middle;\n",
                            "    }\n",
                            "\n",
                            "    .dataframe tbody tr th {\n",
                            "        vertical-align: top;\n",
                            "    }\n",
                            "\n",
                            "    .dataframe thead th {\n",
                            "        text-align: right;\n",
                            "    }\n",
                            "</style>\n",
                            "<table border=\"1\" class=\"dataframe\">\n",
                            "  <thead>\n",
                            "    <tr style=\"text-align: right;\">\n",
                            "      <th></th>\n",
                            "      <th>UserId</th>\n",
                            "      <th>MovieId</th>\n",
                            "      <th>Rating</th>\n",
                            "      <th>Timestamp</th>\n",
                            "    </tr>\n",
                            "  </thead>\n",
                            "  <tbody>\n",
                            "    <tr>\n",
                            "      <th>62405</th>\n",
                            "      <td>1</td>\n",
                            "      <td>160474</td>\n",
                            "      <td>1.0</td>\n",
                            "      <td>1506879426845</td>\n",
                            "    </tr>\n",
                            "    <tr>\n",
                            "      <th>70434</th>\n",
                            "      <td>5</td>\n",
                            "      <td>348081</td>\n",
                            "      <td>1.0</td>\n",
                            "      <td>1507807219692</td>\n",
                            "    </tr>\n",
                            "    <tr>\n",
                            "      <th>116445</th>\n",
                            "      <td>5</td>\n",
                            "      <td>161801</td>\n",
                            "      <td>1.0</td>\n",
                            "      <td>1507560379155</td>\n",
                            "    </tr>\n",
                            "    <tr>\n",
                            "      <th>256290</th>\n",
                            "      <td>5</td>\n",
                            "      <td>36399</td>\n",
                            "      <td>1.0</td>\n",
                            "      <td>1507721482747</td>\n",
                            "    </tr>\n",
                            "    <tr>\n",
                            "      <th>126920</th>\n",
                            "      <td>5</td>\n",
                            "      <td>202763</td>\n",
                            "      <td>1.0</td>\n",
                            "      <td>1507387973525</td>\n",
                            "    </tr>\n",
                            "    <tr>\n",
                            "      <th>...</th>\n",
                            "      <td>...</td>\n",
                            "      <td>...</td>\n",
                            "      <td>...</td>\n",
                            "      <td>...</td>\n",
                            "    </tr>\n",
                            "    <tr>\n",
                            "      <th>54708</th>\n",
                            "      <td>321743</td>\n",
                            "      <td>294111</td>\n",
                            "      <td>1.0</td>\n",
                            "      <td>1508197476450</td>\n",
                            "    </tr>\n",
                            "    <tr>\n",
                            "      <th>321184</th>\n",
                            "      <td>321984</td>\n",
                            "      <td>315104</td>\n",
                            "      <td>1.0</td>\n",
                            "      <td>1508199012501</td>\n",
                            "    </tr>\n",
                            "    <tr>\n",
                            "      <th>401039</th>\n",
                            "      <td>321991</td>\n",
                            "      <td>158158</td>\n",
                            "      <td>1.0</td>\n",
                            "      <td>1508199171012</td>\n",
                            "    </tr>\n",
                            "    <tr>\n",
                            "      <th>368872</th>\n",
                            "      <td>322522</td>\n",
                            "      <td>234308</td>\n",
                            "      <td>1.0</td>\n",
                            "      <td>1508206163271</td>\n",
                            "    </tr>\n",
                            "    <tr>\n",
                            "      <th>159162</th>\n",
                            "      <td>322666</td>\n",
                            "      <td>16346</td>\n",
                            "      <td>1.0</td>\n",
                            "      <td>1508206757978</td>\n",
                            "    </tr>\n",
                            "  </tbody>\n",
                            "</table>\n",
                            "<p>86483 rows × 4 columns</p>\n",
                            "</div>"
                        ],
                        "text/plain": [
                            "        UserId  MovieId  Rating      Timestamp\n",
                            "62405        1   160474     1.0  1506879426845\n",
                            "70434        5   348081     1.0  1507807219692\n",
                            "116445       5   161801     1.0  1507560379155\n",
                            "256290       5    36399     1.0  1507721482747\n",
                            "126920       5   202763     1.0  1507387973525\n",
                            "...        ...      ...     ...            ...\n",
                            "54708   321743   294111     1.0  1508197476450\n",
                            "321184  321984   315104     1.0  1508199012501\n",
                            "401039  321991   158158     1.0  1508199171012\n",
                            "368872  322522   234308     1.0  1508206163271\n",
                            "159162  322666    16346     1.0  1508206757978\n",
                            "\n",
                            "[86483 rows x 4 columns]"
                        ]
                    },
                    "execution_count": 17,
                    "metadata": {},
                    "output_type": "execute_result"
                }
            ],
            "source": [
                "test"
            ]
        },
        {
            "cell_type": "code",
            "execution_count": 16,
            "metadata": {},
            "outputs": [
                {
                    "data": {
                        "text/html": [
                            "<div>\n",
                            "<style scoped>\n",
                            "    .dataframe tbody tr th:only-of-type {\n",
                            "        vertical-align: middle;\n",
                            "    }\n",
                            "\n",
                            "    .dataframe tbody tr th {\n",
                            "        vertical-align: top;\n",
                            "    }\n",
                            "\n",
                            "    .dataframe thead th {\n",
                            "        text-align: right;\n",
                            "    }\n",
                            "</style>\n",
                            "<table border=\"1\" class=\"dataframe\">\n",
                            "  <thead>\n",
                            "    <tr style=\"text-align: right;\">\n",
                            "      <th></th>\n",
                            "      <th>UserId</th>\n",
                            "      <th>MovieId</th>\n",
                            "      <th>Prediction</th>\n",
                            "    </tr>\n",
                            "  </thead>\n",
                            "  <tbody>\n",
                            "    <tr>\n",
                            "      <th>0</th>\n",
                            "      <td>1</td>\n",
                            "      <td>207975</td>\n",
                            "      <td>6.511537e-188</td>\n",
                            "    </tr>\n",
                            "    <tr>\n",
                            "      <th>1</th>\n",
                            "      <td>1</td>\n",
                            "      <td>195177</td>\n",
                            "      <td>5.803762e-188</td>\n",
                            "    </tr>\n",
                            "    <tr>\n",
                            "      <th>2</th>\n",
                            "      <td>1</td>\n",
                            "      <td>224730</td>\n",
                            "      <td>5.005744e-188</td>\n",
                            "    </tr>\n",
                            "    <tr>\n",
                            "      <th>3</th>\n",
                            "      <td>1</td>\n",
                            "      <td>100153</td>\n",
                            "      <td>4.883653e-188</td>\n",
                            "    </tr>\n",
                            "    <tr>\n",
                            "      <th>4</th>\n",
                            "      <td>1</td>\n",
                            "      <td>99935</td>\n",
                            "      <td>4.883653e-188</td>\n",
                            "    </tr>\n",
                            "    <tr>\n",
                            "      <th>...</th>\n",
                            "      <td>...</td>\n",
                            "      <td>...</td>\n",
                            "      <td>...</td>\n",
                            "    </tr>\n",
                            "    <tr>\n",
                            "      <th>583705</th>\n",
                            "      <td>322666</td>\n",
                            "      <td>88961</td>\n",
                            "      <td>1.115625e-186</td>\n",
                            "    </tr>\n",
                            "    <tr>\n",
                            "      <th>583706</th>\n",
                            "      <td>322666</td>\n",
                            "      <td>309504</td>\n",
                            "      <td>1.115625e-186</td>\n",
                            "    </tr>\n",
                            "    <tr>\n",
                            "      <th>583707</th>\n",
                            "      <td>322666</td>\n",
                            "      <td>314518</td>\n",
                            "      <td>1.115625e-186</td>\n",
                            "    </tr>\n",
                            "    <tr>\n",
                            "      <th>583708</th>\n",
                            "      <td>322666</td>\n",
                            "      <td>309520</td>\n",
                            "      <td>1.115625e-186</td>\n",
                            "    </tr>\n",
                            "    <tr>\n",
                            "      <th>583709</th>\n",
                            "      <td>322666</td>\n",
                            "      <td>113993</td>\n",
                            "      <td>1.115625e-186</td>\n",
                            "    </tr>\n",
                            "  </tbody>\n",
                            "</table>\n",
                            "<p>550747 rows × 3 columns</p>\n",
                            "</div>"
                        ],
                        "text/plain": [
                            "        UserId  MovieId     Prediction\n",
                            "0            1   207975  6.511537e-188\n",
                            "1            1   195177  5.803762e-188\n",
                            "2            1   224730  5.005744e-188\n",
                            "3            1   100153  4.883653e-188\n",
                            "4            1    99935  4.883653e-188\n",
                            "...        ...      ...            ...\n",
                            "583705  322666    88961  1.115625e-186\n",
                            "583706  322666   309504  1.115625e-186\n",
                            "583707  322666   314518  1.115625e-186\n",
                            "583708  322666   309520  1.115625e-186\n",
                            "583709  322666   113993  1.115625e-186\n",
                            "\n",
                            "[550747 rows x 3 columns]"
                        ]
                    },
                    "execution_count": 16,
                    "metadata": {},
                    "output_type": "execute_result"
                }
            ],
            "source": [
                "top_k"
            ]
        },
        {
            "cell_type": "code",
            "execution_count": 14,
            "metadata": {},
            "outputs": [
                {
                    "ename": "TypeError",
                    "evalue": "ndcg_at_k() got an unexpected keyword argument 'col_user'",
                    "output_type": "error",
                    "traceback": [
                        "\u001b[0;31m---------------------------------------------------------------------------\u001b[0m",
                        "\u001b[0;31mTypeError\u001b[0m                                 Traceback (most recent call last)",
                        "Cell \u001b[0;32mIn[14], line 13\u001b[0m\n\u001b[1;32m      3\u001b[0m kwargs \u001b[38;5;241m=\u001b[39m \u001b[38;5;28mdict\u001b[39m(\n\u001b[1;32m      4\u001b[0m     col_user\u001b[38;5;241m=\u001b[39m\u001b[38;5;124m\"\u001b[39m\u001b[38;5;124mUserId\u001b[39m\u001b[38;5;124m\"\u001b[39m,\n\u001b[1;32m      5\u001b[0m     col_item\u001b[38;5;241m=\u001b[39m\u001b[38;5;124m\"\u001b[39m\u001b[38;5;124mMovieId\u001b[39m\u001b[38;5;124m\"\u001b[39m,\n\u001b[0;32m   (...)\u001b[0m\n\u001b[1;32m      9\u001b[0m     k\u001b[38;5;241m=\u001b[39mTOP_K,\n\u001b[1;32m     10\u001b[0m )\n\u001b[1;32m     12\u001b[0m eval_map \u001b[38;5;241m=\u001b[39m map_at_k(\u001b[38;5;241m*\u001b[39margs, \u001b[38;5;241m*\u001b[39m\u001b[38;5;241m*\u001b[39mkwargs)\n\u001b[0;32m---> 13\u001b[0m eval_ndcg \u001b[38;5;241m=\u001b[39m \u001b[43mndcg_at_k\u001b[49m\u001b[43m(\u001b[49m\u001b[38;5;241;43m*\u001b[39;49m\u001b[43margs\u001b[49m\u001b[43m,\u001b[49m\u001b[43m \u001b[49m\u001b[38;5;241;43m*\u001b[39;49m\u001b[38;5;241;43m*\u001b[39;49m\u001b[43mkwargs\u001b[49m\u001b[43m)\u001b[49m\n\u001b[1;32m     14\u001b[0m eval_precision \u001b[38;5;241m=\u001b[39m precision_at_k(\u001b[38;5;241m*\u001b[39margs, \u001b[38;5;241m*\u001b[39m\u001b[38;5;241m*\u001b[39mkwargs)\n\u001b[1;32m     15\u001b[0m eval_recall \u001b[38;5;241m=\u001b[39m recall_at_k(\u001b[38;5;241m*\u001b[39margs, \u001b[38;5;241m*\u001b[39m\u001b[38;5;241m*\u001b[39mkwargs)\n",
                        "\u001b[0;31mTypeError\u001b[0m: ndcg_at_k() got an unexpected keyword argument 'col_user'"
                    ]
                }
            ],
            "source": [
                "# all ranking metrics have the same arguments\n",
                "args = [test, top_k]\n",
                "kwargs = dict(\n",
                "    col_user=\"UserId\",\n",
                "    col_item=\"MovieId\",\n",
                "    col_rating=\"Rating\",\n",
                "    col_prediction=\"Prediction\",\n",
                "    relevancy_method=\"top_k\",\n",
                "    k=TOP_K,\n",
                ")\n",
                "\n",
                "eval_map = map_at_k(*args, **kwargs)\n",
                "eval_ndcg = ndcg_at_k(*args, **kwargs)\n",
                "eval_precision = precision_at_k(*args, **kwargs)\n",
                "eval_recall = recall_at_k(*args, **kwargs)"
            ]
        },
        {
            "cell_type": "code",
            "execution_count": null,
            "metadata": {},
            "outputs": [],
            "source": [
                "print(f\"Model:\",\n",
                "      f\"Top K:\\t\\t {TOP_K}\",\n",
                "      f\"MAP:\\t\\t {eval_map:f}\",\n",
                "      f\"NDCG:\\t\\t {eval_ndcg:f}\",\n",
                "      f\"Precision@K:\\t {eval_precision:f}\",\n",
                "      f\"Recall@K:\\t {eval_recall:f}\", sep='\\n')"
            ]
        },
        {
            "cell_type": "code",
            "execution_count": null,
            "metadata": {},
            "outputs": [],
            "source": [
                "# Record results for tests - ignore this cell\n",
                "store_metadata(\"map\", eval_map)\n",
                "store_metadata(\"ndcg\", eval_ndcg)\n",
                "store_metadata(\"precision\", eval_precision)\n",
                "store_metadata(\"recall\", eval_recall)"
            ]
        },
        {
            "cell_type": "markdown",
            "metadata": {},
            "source": [
                "## References\n",
                "Note SAR is a combinational algorithm that implements different industry heuristics. The followings are references that may be helpful in understanding the SAR logic and implementation. \n",
                "\n",
                "1. Badrul Sarwar, *et al*, \"Item-based collaborative filtering recommendation algorithms\", WWW, 2001.\n",
                "2. Scipy (sparse matrix), url: https://docs.scipy.org/doc/scipy/reference/sparse.html\n",
                "3. Asela Gunawardana and Guy Shani, \"A survey of accuracy evaluation metrics of recommendation tasks\", The Journal of Machine Learning Research, vol. 10, pp 2935-2962, 2009.\t"
            ]
        }
    ],
    "metadata": {
        "celltoolbar": "Tags",
        "kernelspec": {
            "display_name": "Python 3 (ipykernel)",
            "language": "python",
            "name": "python3"
        },
        "language_info": {
            "codemirror_mode": {
                "name": "ipython",
                "version": 3
            },
            "file_extension": ".py",
            "mimetype": "text/x-python",
            "name": "python",
            "nbconvert_exporter": "python",
            "pygments_lexer": "ipython3",
            "version": "3.8.19"
        }
    },
    "nbformat": 4,
    "nbformat_minor": 2
}
