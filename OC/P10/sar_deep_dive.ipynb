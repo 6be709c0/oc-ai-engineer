{
    "cells": [
        {
            "cell_type": "markdown",
            "metadata": {},
            "source": [
                "<i>Copyright (c) Recommenders contributors.</i>\n",
                "\n",
                "<i>Licensed under the MIT License.</i>"
            ]
        },
        {
            "cell_type": "markdown",
            "metadata": {},
            "source": [
                "# SAR Single Node on MovieLens (Python, CPU)\n",
                "\n",
                "In this example, we will walk through each step of the Simple Algorithm for Recommendation (SAR) algorithm using a Python single-node implementation.\n",
                "\n",
                "SAR is a fast, scalable, adaptive algorithm for personalized recommendations based on user transaction history. It is powered by understanding the similarity between items, and recommending similar items to those a user has an existing affinity for."
            ]
        },
        {
            "cell_type": "markdown",
            "metadata": {},
            "source": [
                "## 1 SAR algorithm\n",
                "\n",
                "The following figure presents a high-level architecture of SAR. \n",
                "\n",
                "At a very high level, two intermediate matrices are created and used to generate a set of recommendation scores:\n",
                "\n",
                "- An item similarity matrix $S$ estimates item-item relationships.\n",
                "- An affinity matrix $A$ estimates user-item relationships.\n",
                "\n",
                "Recommendation scores are then created by computing the matrix multiplication $A\\times S$.\n",
                "\n",
                "Optional steps (e.g. \"time decay\" and \"remove seen items\") are described in the details below.\n",
                "\n",
                "<img src=\"https://recodatasets.z20.web.core.windows.net/images/sar_schema.svg?sanitize=true\">\n",
                "\n",
                "### 1.1 Compute item co-occurrence and item similarity\n",
                "\n",
                "SAR defines similarity based on item-to-item co-occurrence data. Co-occurrence is defined as the number of times two items appear together for a given user. We can represent the co-occurrence of all items as a $m\\times m$ matrix $C$, where $c_{i,j}$ is the number of times item $i$ occurred with item $j$, and $m$ is the total number of items.\n",
                "\n",
                "The co-occurence matric $C$ has the following properties:\n",
                "\n",
                "- It is symmetric, so $c_{i,j} = c_{j,i}$\n",
                "- It is nonnegative: $c_{i,j} \\geq 0$\n",
                "- The occurrences are at least as large as the co-occurrences. I.e., the largest element for each row (and column) is on the main diagonal: $\\forall(i,j) C_{i,i},C_{j,j} \\geq C_{i,j}$.\n",
                "\n",
                "Once we have a co-occurrence matrix, an item similarity matrix $S$ can be obtained by rescaling the co-occurrences according to a given metric. Options for the metric include `Jaccard`, `lift`, and `counts` (meaning no rescaling).\n",
                "\n",
                "\n",
                "If $c_{ii}$ and $c_{jj}$ are the $i$th and $j$th diagonal elements of $C$, the rescaling options are:\n",
                "\n",
                "- `Jaccard`: $s_{ij}=\\frac{c_{ij}}{(c_{ii}+c_{jj}-c_{ij})}$\n",
                "- `lift`: $s_{ij}=\\frac{c_{ij}}{(c_{ii} \\times c_{jj})}$\n",
                "- `counts`: $s_{ij}=c_{ij}$\n",
                "\n",
                "In general, using `counts` as a similarity metric favours predictability, meaning that the most popular items will be recommended most of the time. `lift` by contrast favours discoverability/serendipity: an item that is less popular overall but highly favoured by a small subset of users is more likely to be recommended. `Jaccard` is a compromise between the two.\n",
                "\n",
                "\n",
                "### 1.2 Compute user affinity scores\n",
                "\n",
                "The affinity matrix in SAR captures the strength of the relationship between each individual user and the items that user has already interacted with. SAR incorporates two factors that can impact users' affinities: \n",
                "\n",
                "- It can consider information about the **type** of user-item interaction through differential weighting of different events (e.g. it may weigh events in which a user rated a particular item more heavily than events in which a user viewed the item).\n",
                "- It can consider information about **when** a user-item event occurred (e.g. it may discount the value of events that take place in the distant past.\n",
                "\n",
                "Formalizing these factors produces us an expression for user-item affinity:\n",
                "\n",
                "$$a_{ij}=\\sum_k w_k \\left(\\frac{1}{2}\\right)^{\\frac{t_0-t_k}{T}} $$\n",
                "\n",
                "where the affinity $a_{ij}$ for user $i$ and item $j$ is the weighted sum of all $k$ events involving user $i$ and item $j$. $w_k$ represents the weight of a particular event, and the power of 2 term reflects the temporally-discounted event. The $(\\frac{1}{2})^n$ scaling factor causes the parameter $T$ to serve as a half-life: events $T$ units before $t_0$ will be given half the weight as those taking place at $t_0$.\n",
                "\n",
                "Repeating this computation for all $n$ users and $m$ items results in an $n\\times m$ matrix $A$. Simplifications of the above expression can be obtained by setting all the weights equal to 1 (effectively ignoring event types), or by setting the half-life parameter $T$ to infinity (ignoring transaction times).\n",
                "\n",
                "### 1.3 Remove seen item\n",
                "\n",
                "Optionally we remove items which have already been seen in the training set, i.e. don't recommend items which have been previously bought by the user again.\n",
                "\n",
                "### 1.4 Top-k item calculation\n",
                "\n",
                "The personalized recommendations for a set of users can then be obtained by multiplying the affinity matrix ($A$) by the similarity matrix ($S$). The result is a recommendation score matrix, where each row corresponds to a user, each column corresponds to an item, and each entry corresponds to a user / item pair. Higher scores correspond to more strongly recommended items.\n",
                "\n",
                "It is worth noting that the complexity of recommending operation depends on the data size. SAR algorithm itself has $O(n^3)$ complexity. Therefore the single-node implementation is not supposed to handle large dataset in a scalable manner. Whenever one uses the algorithm, it is recommended to run with sufficiently large memory. "
            ]
        },
        {
            "cell_type": "markdown",
            "metadata": {},
            "source": [
                "## 2 SAR single-node implementation\n",
                "\n",
                "The SAR implementation illustrated in this notebook was developed in Python, primarily with Python packages like `numpy`, `pandas`, and `scipy` which are commonly used in most of the data analytics / machine learning tasks. Details of the implementation can be found in [Recommenders/recommenders/models/sar/sar_singlenode.py](../../recommenders/models/sar/sar_singlenode.py)."
            ]
        },
        {
            "cell_type": "markdown",
            "metadata": {},
            "source": [
                "## 3 SAR single-node based movie recommender"
            ]
        },
        {
            "cell_type": "code",
            "execution_count": 18,
            "metadata": {},
            "outputs": [
                {
                    "name": "stdout",
                    "output_type": "stream",
                    "text": [
                        "System version: 3.8.19 (default, Mar 20 2024, 15:27:52) \n",
                        "[Clang 14.0.6 ]\n",
                        "Pandas version: 2.0.3\n",
                        "NumPy version: 1.24.3\n",
                        "SciPy version: 1.10.1\n"
                    ]
                }
            ],
            "source": [
                "from helpers import *\n",
                "import sys\n",
                "\n",
                "import logging\n",
                "import scipy\n",
                "import numpy as np\n",
                "import pandas as pd\n",
                "\n",
                "from recommenders.datasets import movielens\n",
                "from recommenders.datasets.python_splitters import python_stratified_split\n",
                "from recommenders.evaluation.python_evaluation import map_at_k, ndcg_at_k, precision_at_k, recall_at_k\n",
                "from recommenders.models.sar import SAR\n",
                "from recommenders.utils.notebook_utils import store_metadata\n",
                "\n",
                "print(f\"System version: {sys.version}\")\n",
                "print(f\"Pandas version: {pd.__version__}\")\n",
                "print(f\"NumPy version: {np.__version__}\")\n",
                "print(f\"SciPy version: {scipy.__version__}\")"
            ]
        },
        {
            "cell_type": "code",
            "execution_count": null,
            "metadata": {},
            "outputs": [],
            "source": []
        },
        {
            "cell_type": "code",
            "execution_count": 19,
            "metadata": {
                "tags": [
                    "parameters"
                ]
            },
            "outputs": [],
            "source": [
                "# Top k items to recommend\n",
                "TOP_K = 10\n",
                "\n",
                "# Select MovieLens data size: 100k, 1m, 10m, or 20m\n",
                "MOVIELENS_DATA_SIZE = \"100k\""
            ]
        },
        {
            "cell_type": "code",
            "execution_count": 20,
            "metadata": {},
            "outputs": [],
            "source": [
                "# set log level to INFO\n",
                "logging.basicConfig(\n",
                "    level=logging.DEBUG,\n",
                "    format=\"%(asctime)s %(levelname)-8s %(message)s\",\n",
                "    datefmt=\"%Y-%m-%d %H:%M:%S\",\n",
                ")"
            ]
        },
        {
            "cell_type": "markdown",
            "metadata": {},
            "source": [
                "### 3.1 Load Data\n",
                "\n",
                "SAR is intended to be used on interactions with the following schema:\n",
                "`<User ID>, <Item ID>, <Time>`. \n",
                "\n",
                "Each row represents a single interaction between a user and an item. These interactions might be different types of events on an e-commerce website, such as a user clicking to view an item, adding it to a shopping basket, following a recommendation link, and so on. \n",
                "\n",
                "The MovieLens dataset is well formatted interactions of Users providing Ratings to Movies (movie ratings are used as the event weight) - we will use it for the rest of the example."
            ]
        },
        {
            "cell_type": "code",
            "execution_count": 21,
            "metadata": {},
            "outputs": [],
            "source": [
                "# Load datasets\n",
                "df_articles, df_clicks, article_embeddings = load_dataset()\n",
                "dataframe = df_clicks.merge(df_articles, left_on='click_article_id', right_on='article_id')\n",
                "dataframe = dataframe[['user_id', 'article_id', 'category_id']]\n",
                "\n",
                "series = dataframe.groupby(['user_id', 'category_id']).size()\n",
                "user_rating_matrix = series.to_frame()\n",
                "user_rating_matrix = user_rating_matrix.reset_index()\n",
                "user_rating_matrix.rename(columns = {0:'rate'}, inplace = True)"
            ]
        },
        {
            "cell_type": "code",
            "execution_count": 22,
            "metadata": {},
            "outputs": [
                {
                    "data": {
                        "text/html": [
                            "<div>\n",
                            "<style scoped>\n",
                            "    .dataframe tbody tr th:only-of-type {\n",
                            "        vertical-align: middle;\n",
                            "    }\n",
                            "\n",
                            "    .dataframe tbody tr th {\n",
                            "        vertical-align: top;\n",
                            "    }\n",
                            "\n",
                            "    .dataframe thead th {\n",
                            "        text-align: right;\n",
                            "    }\n",
                            "</style>\n",
                            "<table border=\"1\" class=\"dataframe\">\n",
                            "  <thead>\n",
                            "    <tr style=\"text-align: right;\">\n",
                            "      <th></th>\n",
                            "      <th>user_id</th>\n",
                            "      <th>category_id</th>\n",
                            "      <th>rate</th>\n",
                            "    </tr>\n",
                            "  </thead>\n",
                            "  <tbody>\n",
                            "    <tr>\n",
                            "      <th>0</th>\n",
                            "      <td>0</td>\n",
                            "      <td>136</td>\n",
                            "      <td>1</td>\n",
                            "    </tr>\n",
                            "    <tr>\n",
                            "      <th>1</th>\n",
                            "      <td>0</td>\n",
                            "      <td>186</td>\n",
                            "      <td>2</td>\n",
                            "    </tr>\n",
                            "    <tr>\n",
                            "      <th>2</th>\n",
                            "      <td>0</td>\n",
                            "      <td>209</td>\n",
                            "      <td>1</td>\n",
                            "    </tr>\n",
                            "    <tr>\n",
                            "      <th>3</th>\n",
                            "      <td>0</td>\n",
                            "      <td>281</td>\n",
                            "      <td>2</td>\n",
                            "    </tr>\n",
                            "    <tr>\n",
                            "      <th>4</th>\n",
                            "      <td>0</td>\n",
                            "      <td>375</td>\n",
                            "      <td>1</td>\n",
                            "    </tr>\n",
                            "    <tr>\n",
                            "      <th>...</th>\n",
                            "      <td>...</td>\n",
                            "      <td>...</td>\n",
                            "      <td>...</td>\n",
                            "    </tr>\n",
                            "    <tr>\n",
                            "      <th>1882297</th>\n",
                            "      <td>322894</td>\n",
                            "      <td>297</td>\n",
                            "      <td>1</td>\n",
                            "    </tr>\n",
                            "    <tr>\n",
                            "      <th>1882298</th>\n",
                            "      <td>322895</td>\n",
                            "      <td>133</td>\n",
                            "      <td>1</td>\n",
                            "    </tr>\n",
                            "    <tr>\n",
                            "      <th>1882299</th>\n",
                            "      <td>322895</td>\n",
                            "      <td>418</td>\n",
                            "      <td>1</td>\n",
                            "    </tr>\n",
                            "    <tr>\n",
                            "      <th>1882300</th>\n",
                            "      <td>322896</td>\n",
                            "      <td>26</td>\n",
                            "      <td>1</td>\n",
                            "    </tr>\n",
                            "    <tr>\n",
                            "      <th>1882301</th>\n",
                            "      <td>322896</td>\n",
                            "      <td>281</td>\n",
                            "      <td>1</td>\n",
                            "    </tr>\n",
                            "  </tbody>\n",
                            "</table>\n",
                            "<p>1882302 rows × 3 columns</p>\n",
                            "</div>"
                        ],
                        "text/plain": [
                            "         user_id  category_id  rate\n",
                            "0              0          136     1\n",
                            "1              0          186     2\n",
                            "2              0          209     1\n",
                            "3              0          281     2\n",
                            "4              0          375     1\n",
                            "...          ...          ...   ...\n",
                            "1882297   322894          297     1\n",
                            "1882298   322895          133     1\n",
                            "1882299   322895          418     1\n",
                            "1882300   322896           26     1\n",
                            "1882301   322896          281     1\n",
                            "\n",
                            "[1882302 rows x 3 columns]"
                        ]
                    },
                    "execution_count": 22,
                    "metadata": {},
                    "output_type": "execute_result"
                }
            ],
            "source": [
                "user_rating_matrix\n",
                "# print(df_clicks[['UserId','MovieId', 'Rating','Timestamp']].dtypes)\n",
                "# print(data.dtypes)"
            ]
        },
        {
            "cell_type": "code",
            "execution_count": 6,
            "metadata": {},
            "outputs": [
                {
                    "data": {
                        "text/html": [
                            "<div>\n",
                            "<style scoped>\n",
                            "    .dataframe tbody tr th:only-of-type {\n",
                            "        vertical-align: middle;\n",
                            "    }\n",
                            "\n",
                            "    .dataframe tbody tr th {\n",
                            "        vertical-align: top;\n",
                            "    }\n",
                            "\n",
                            "    .dataframe thead th {\n",
                            "        text-align: right;\n",
                            "    }\n",
                            "</style>\n",
                            "<table border=\"1\" class=\"dataframe\">\n",
                            "  <thead>\n",
                            "    <tr style=\"text-align: right;\">\n",
                            "      <th></th>\n",
                            "      <th>UserId</th>\n",
                            "      <th>MovieId</th>\n",
                            "      <th>Rating</th>\n",
                            "      <th>Timestamp</th>\n",
                            "    </tr>\n",
                            "  </thead>\n",
                            "  <tbody>\n",
                            "    <tr>\n",
                            "      <th>0</th>\n",
                            "      <td>275802</td>\n",
                            "      <td>176933</td>\n",
                            "      <td>1.0</td>\n",
                            "      <td>1507724487151</td>\n",
                            "    </tr>\n",
                            "    <tr>\n",
                            "      <th>1</th>\n",
                            "      <td>186706</td>\n",
                            "      <td>331116</td>\n",
                            "      <td>1.0</td>\n",
                            "      <td>1508168161110</td>\n",
                            "    </tr>\n",
                            "    <tr>\n",
                            "      <th>2</th>\n",
                            "      <td>70660</td>\n",
                            "      <td>272660</td>\n",
                            "      <td>1.0</td>\n",
                            "      <td>1506974638894</td>\n",
                            "    </tr>\n",
                            "    <tr>\n",
                            "      <th>3</th>\n",
                            "      <td>80249</td>\n",
                            "      <td>58699</td>\n",
                            "      <td>1.0</td>\n",
                            "      <td>1507220721601</td>\n",
                            "    </tr>\n",
                            "    <tr>\n",
                            "      <th>4</th>\n",
                            "      <td>112863</td>\n",
                            "      <td>175040</td>\n",
                            "      <td>1.0</td>\n",
                            "      <td>1506994201196</td>\n",
                            "    </tr>\n",
                            "    <tr>\n",
                            "      <th>...</th>\n",
                            "      <td>...</td>\n",
                            "      <td>...</td>\n",
                            "      <td>...</td>\n",
                            "      <td>...</td>\n",
                            "    </tr>\n",
                            "    <tr>\n",
                            "      <th>499995</th>\n",
                            "      <td>23879</td>\n",
                            "      <td>160940</td>\n",
                            "      <td>1.0</td>\n",
                            "      <td>1507379561792</td>\n",
                            "    </tr>\n",
                            "    <tr>\n",
                            "      <th>499996</th>\n",
                            "      <td>13528</td>\n",
                            "      <td>237504</td>\n",
                            "      <td>1.0</td>\n",
                            "      <td>1507572662827</td>\n",
                            "    </tr>\n",
                            "    <tr>\n",
                            "      <th>499997</th>\n",
                            "      <td>227551</td>\n",
                            "      <td>198225</td>\n",
                            "      <td>1.0</td>\n",
                            "      <td>1507436201177</td>\n",
                            "    </tr>\n",
                            "    <tr>\n",
                            "      <th>499998</th>\n",
                            "      <td>105608</td>\n",
                            "      <td>209294</td>\n",
                            "      <td>1.0</td>\n",
                            "      <td>1506985896091</td>\n",
                            "    </tr>\n",
                            "    <tr>\n",
                            "      <th>499999</th>\n",
                            "      <td>259888</td>\n",
                            "      <td>96660</td>\n",
                            "      <td>1.0</td>\n",
                            "      <td>1507635584136</td>\n",
                            "    </tr>\n",
                            "  </tbody>\n",
                            "</table>\n",
                            "<p>500000 rows × 4 columns</p>\n",
                            "</div>"
                        ],
                        "text/plain": [
                            "        UserId  MovieId  Rating      Timestamp\n",
                            "0       275802   176933     1.0  1507724487151\n",
                            "1       186706   331116     1.0  1508168161110\n",
                            "2        70660   272660     1.0  1506974638894\n",
                            "3        80249    58699     1.0  1507220721601\n",
                            "4       112863   175040     1.0  1506994201196\n",
                            "...        ...      ...     ...            ...\n",
                            "499995   23879   160940     1.0  1507379561792\n",
                            "499996   13528   237504     1.0  1507572662827\n",
                            "499997  227551   198225     1.0  1507436201177\n",
                            "499998  105608   209294     1.0  1506985896091\n",
                            "499999  259888    96660     1.0  1507635584136\n",
                            "\n",
                            "[500000 rows x 4 columns]"
                        ]
                    },
                    "execution_count": 6,
                    "metadata": {},
                    "output_type": "execute_result"
                }
            ],
            "source": [
                "data = df_clicks[['UserId','MovieId', 'Rating','Timestamp']].reset_index(drop=True)\n",
                "data\n",
                "\n",
                "# data = movielens.load_pandas_df(\n",
                "#     size=MOVIELENS_DATA_SIZE,\n",
                "#     header=[\"UserId\", \"MovieId\", \"Rating\", \"Timestamp\"],\n",
                "#     title_col=\"Title\",\n",
                "# )\n",
                "\n",
                "# # Convert the float precision to 32-bit in order to reduce memory consumption\n",
                "# data[\"Rating\"] = data[\"Rating\"].astype(np.float32)\n",
                "\n",
                "# data.head()"
            ]
        },
        {
            "cell_type": "markdown",
            "metadata": {},
            "source": [
                "### 3.2 Split the data using the python random splitter provided in utilities:\n",
                "\n",
                "We split the full dataset into a `train` and `test` dataset to evaluate performance of the algorithm against a held-out set not seen during training. Because SAR generates recommendations based on user preferences, all users that are in the test set must also exist in the training set. For this case, we can use the provided `python_stratified_split` function which holds out a percentage (in this case 25%) of items from each user, but ensures all users are in both `train` and `test` datasets. Other options are available in the `dataset.python_splitters` module which provide more control over how the split occurs.\n"
            ]
        },
        {
            "cell_type": "code",
            "execution_count": 7,
            "metadata": {},
            "outputs": [],
            "source": [
                "header = {\n",
                "    \"col_user\": \"UserId\",\n",
                "    \"col_item\": \"MovieId\",\n",
                "    \"col_rating\": \"Rating\",\n",
                "    \"col_timestamp\": \"Timestamp\",\n",
                "    \"col_prediction\": \"Prediction\",\n",
                "}"
            ]
        },
        {
            "cell_type": "code",
            "execution_count": 8,
            "metadata": {},
            "outputs": [],
            "source": [
                "train, test = python_stratified_split(\n",
                "    data, ratio=0.75, col_user=header[\"col_user\"], col_item=header[\"col_item\"], seed=42\n",
                ")\n"
            ]
        },
        {
            "cell_type": "markdown",
            "metadata": {},
            "source": [
                "In this case, for the illustration purpose, the following parameter values are used:\n",
                "\n",
                "|Parameter|Value|Description|\n",
                "|---------|---------|-------------|\n",
                "|`similarity_type`|`jaccard`|Method used to calculate item similarity.|\n",
                "|`time_decay_coefficient`|30|Period in days (term of $T$ shown in the formula of Section 1.2)|\n",
                "|`time_now`|`None`|Time decay reference.|\n",
                "|`timedecay_formula`|`True`|Whether time decay formula is used.|"
            ]
        },
        {
            "cell_type": "code",
            "execution_count": 9,
            "metadata": {},
            "outputs": [],
            "source": [
                "model = SAR(\n",
                "    similarity_type=\"jaccard\", \n",
                "    time_decay_coefficient=30, \n",
                "    time_now=None, \n",
                "    timedecay_formula=True, \n",
                "    **header\n",
                ")"
            ]
        },
        {
            "cell_type": "code",
            "execution_count": 10,
            "metadata": {},
            "outputs": [
                {
                    "name": "stderr",
                    "output_type": "stream",
                    "text": [
                        "2024-05-27 21:31:11 INFO     Collecting user affinity matrix\n",
                        "2024-05-27 21:31:11 INFO     Calculating time-decayed affinities\n",
                        "2024-05-27 21:31:11 INFO     Creating index columns\n",
                        "2024-05-27 21:31:11 INFO     Building user affinity sparse matrix\n",
                        "2024-05-27 21:31:11 INFO     Calculating item co-occurrence\n",
                        "2024-05-27 21:31:12 INFO     Calculating item similarity\n",
                        "2024-05-27 21:31:12 INFO     Using jaccard based similarity\n",
                        "2024-05-27 21:31:15 INFO     Done training\n"
                    ]
                }
            ],
            "source": [
                "model.fit(train)"
            ]
        },
        {
            "cell_type": "code",
            "execution_count": 11,
            "metadata": {
                "scrolled": true
            },
            "outputs": [
                {
                    "name": "stderr",
                    "output_type": "stream",
                    "text": [
                        "2024-05-27 21:31:15 INFO     Calculating recommendation scores\n",
                        "2024-05-27 21:31:18 INFO     Removing seen items\n",
                        "/Users/m/dev/6be709c0/oc-ai-engineer/OC/P10/venv/lib/python3.8/site-packages/scipy/sparse/_data.py:124: RuntimeWarning: invalid value encountered in multiply\n",
                        "  return self._with_data(self.data * other)\n"
                    ]
                }
            ],
            "source": [
                "top_k = model.recommend_k_items(test, top_k=TOP_K, remove_seen=True)"
            ]
        },
        {
            "cell_type": "markdown",
            "metadata": {},
            "source": [
                "The final output from the `recommend_k_items` method generates recommendation scores for each user-item pair, which are shown as follows."
            ]
        },
        {
            "cell_type": "code",
            "execution_count": 12,
            "metadata": {
                "scrolled": true
            },
            "outputs": [
                {
                    "data": {
                        "text/html": [
                            "<div>\n",
                            "<style scoped>\n",
                            "    .dataframe tbody tr th:only-of-type {\n",
                            "        vertical-align: middle;\n",
                            "    }\n",
                            "\n",
                            "    .dataframe tbody tr th {\n",
                            "        vertical-align: top;\n",
                            "    }\n",
                            "\n",
                            "    .dataframe thead th {\n",
                            "        text-align: right;\n",
                            "    }\n",
                            "</style>\n",
                            "<table border=\"1\" class=\"dataframe\">\n",
                            "  <thead>\n",
                            "    <tr style=\"text-align: right;\">\n",
                            "      <th></th>\n",
                            "      <th>UserId</th>\n",
                            "      <th>MovieId</th>\n",
                            "      <th>Prediction</th>\n",
                            "    </tr>\n",
                            "  </thead>\n",
                            "  <tbody>\n",
                            "    <tr>\n",
                            "      <th>586930</th>\n",
                            "      <td>322823</td>\n",
                            "      <td>16463</td>\n",
                            "      <td>6.641622e-179</td>\n",
                            "    </tr>\n",
                            "    <tr>\n",
                            "      <th>586932</th>\n",
                            "      <td>322823</td>\n",
                            "      <td>61169</td>\n",
                            "      <td>5.165706e-179</td>\n",
                            "    </tr>\n",
                            "    <tr>\n",
                            "      <th>586931</th>\n",
                            "      <td>322823</td>\n",
                            "      <td>118926</td>\n",
                            "      <td>5.165706e-179</td>\n",
                            "    </tr>\n",
                            "    <tr>\n",
                            "      <th>586933</th>\n",
                            "      <td>322823</td>\n",
                            "      <td>136325</td>\n",
                            "      <td>3.576258e-179</td>\n",
                            "    </tr>\n",
                            "    <tr>\n",
                            "      <th>586934</th>\n",
                            "      <td>322823</td>\n",
                            "      <td>352979</td>\n",
                            "      <td>8.362657e-180</td>\n",
                            "    </tr>\n",
                            "    <tr>\n",
                            "      <th>586935</th>\n",
                            "      <td>322823</td>\n",
                            "      <td>277107</td>\n",
                            "      <td>8.026128e-180</td>\n",
                            "    </tr>\n",
                            "    <tr>\n",
                            "      <th>586936</th>\n",
                            "      <td>322823</td>\n",
                            "      <td>283009</td>\n",
                            "      <td>6.086552e-180</td>\n",
                            "    </tr>\n",
                            "    <tr>\n",
                            "      <th>586937</th>\n",
                            "      <td>322823</td>\n",
                            "      <td>96029</td>\n",
                            "      <td>5.442240e-180</td>\n",
                            "    </tr>\n",
                            "    <tr>\n",
                            "      <th>586938</th>\n",
                            "      <td>322823</td>\n",
                            "      <td>289003</td>\n",
                            "      <td>5.147031e-180</td>\n",
                            "    </tr>\n",
                            "    <tr>\n",
                            "      <th>586939</th>\n",
                            "      <td>322823</td>\n",
                            "      <td>161439</td>\n",
                            "      <td>3.567808e-180</td>\n",
                            "    </tr>\n",
                            "  </tbody>\n",
                            "</table>\n",
                            "</div>"
                        ],
                        "text/plain": [
                            "        UserId  MovieId     Prediction\n",
                            "586930  322823    16463  6.641622e-179\n",
                            "586932  322823    61169  5.165706e-179\n",
                            "586931  322823   118926  5.165706e-179\n",
                            "586933  322823   136325  3.576258e-179\n",
                            "586934  322823   352979  8.362657e-180\n",
                            "586935  322823   277107  8.026128e-180\n",
                            "586936  322823   283009  6.086552e-180\n",
                            "586937  322823    96029  5.442240e-180\n",
                            "586938  322823   289003  5.147031e-180\n",
                            "586939  322823   161439  3.567808e-180"
                        ]
                    },
                    "execution_count": 12,
                    "metadata": {},
                    "output_type": "execute_result"
                }
            ],
            "source": [
                "top_k_with_titles = top_k.join(\n",
                "    data[[\"MovieId\"]].drop_duplicates().set_index(\"MovieId\"),\n",
                "    on=\"MovieId\",\n",
                "    how=\"inner\",\n",
                ").sort_values(by=[\"UserId\", \"Prediction\"], ascending=False)\n",
                "\n",
                "top_k_with_titles.head(10)"
            ]
        },
        {
            "cell_type": "markdown",
            "metadata": {},
            "source": [
                "### 3.3 Evaluate the results\n",
                "\n",
                "It should be known that the recommendation scores generated by multiplying the item similarity matrix $S$ and the user affinity matrix $A$ **DOES NOT** have the same scale with the original explicit ratings in the movielens dataset. That is to say, SAR algorithm is meant for the task of *recommending relevent items to users* rather than *predicting explicit ratings for user-item pairs*. \n",
                "\n",
                "To this end, ranking metrics like precision@k, recall@k, etc., are more applicable to evaluate SAR algorithm. The following illustrates how to evaluate SAR model by using the evaluation functions provided in Recommenders library."
            ]
        },
        {
            "cell_type": "code",
            "execution_count": 13,
            "metadata": {},
            "outputs": [
                {
                    "data": {
                        "text/html": [
                            "<div>\n",
                            "<style scoped>\n",
                            "    .dataframe tbody tr th:only-of-type {\n",
                            "        vertical-align: middle;\n",
                            "    }\n",
                            "\n",
                            "    .dataframe tbody tr th {\n",
                            "        vertical-align: top;\n",
                            "    }\n",
                            "\n",
                            "    .dataframe thead th {\n",
                            "        text-align: right;\n",
                            "    }\n",
                            "</style>\n",
                            "<table border=\"1\" class=\"dataframe\">\n",
                            "  <thead>\n",
                            "    <tr style=\"text-align: right;\">\n",
                            "      <th></th>\n",
                            "      <th>UserId</th>\n",
                            "      <th>MovieId</th>\n",
                            "      <th>Rating</th>\n",
                            "      <th>Timestamp</th>\n",
                            "    </tr>\n",
                            "  </thead>\n",
                            "  <tbody>\n",
                            "    <tr>\n",
                            "      <th>139691</th>\n",
                            "      <td>1</td>\n",
                            "      <td>327984</td>\n",
                            "      <td>1.0</td>\n",
                            "      <td>1507825981163</td>\n",
                            "    </tr>\n",
                            "    <tr>\n",
                            "      <th>270307</th>\n",
                            "      <td>3</td>\n",
                            "      <td>161178</td>\n",
                            "      <td>1.0</td>\n",
                            "      <td>1506912807807</td>\n",
                            "    </tr>\n",
                            "    <tr>\n",
                            "      <th>380525</th>\n",
                            "      <td>5</td>\n",
                            "      <td>277492</td>\n",
                            "      <td>1.0</td>\n",
                            "      <td>1507726490951</td>\n",
                            "    </tr>\n",
                            "    <tr>\n",
                            "      <th>311705</th>\n",
                            "      <td>5</td>\n",
                            "      <td>158794</td>\n",
                            "      <td>1.0</td>\n",
                            "      <td>1507675190925</td>\n",
                            "    </tr>\n",
                            "    <tr>\n",
                            "      <th>468741</th>\n",
                            "      <td>5</td>\n",
                            "      <td>158642</td>\n",
                            "      <td>1.0</td>\n",
                            "      <td>1507466431547</td>\n",
                            "    </tr>\n",
                            "    <tr>\n",
                            "      <th>...</th>\n",
                            "      <td>...</td>\n",
                            "      <td>...</td>\n",
                            "      <td>...</td>\n",
                            "      <td>...</td>\n",
                            "    </tr>\n",
                            "    <tr>\n",
                            "      <th>204403</th>\n",
                            "      <td>321650</td>\n",
                            "      <td>95982</td>\n",
                            "      <td>1.0</td>\n",
                            "      <td>1508196801498</td>\n",
                            "    </tr>\n",
                            "    <tr>\n",
                            "      <th>453511</th>\n",
                            "      <td>321991</td>\n",
                            "      <td>159927</td>\n",
                            "      <td>1.0</td>\n",
                            "      <td>1508199294510</td>\n",
                            "    </tr>\n",
                            "    <tr>\n",
                            "      <th>263764</th>\n",
                            "      <td>322089</td>\n",
                            "      <td>277107</td>\n",
                            "      <td>1.0</td>\n",
                            "      <td>1508199824851</td>\n",
                            "    </tr>\n",
                            "    <tr>\n",
                            "      <th>60223</th>\n",
                            "      <td>322151</td>\n",
                            "      <td>199475</td>\n",
                            "      <td>1.0</td>\n",
                            "      <td>1508201455621</td>\n",
                            "    </tr>\n",
                            "    <tr>\n",
                            "      <th>134473</th>\n",
                            "      <td>322823</td>\n",
                            "      <td>342473</td>\n",
                            "      <td>1.0</td>\n",
                            "      <td>1508209792719</td>\n",
                            "    </tr>\n",
                            "  </tbody>\n",
                            "</table>\n",
                            "<p>86912 rows × 4 columns</p>\n",
                            "</div>"
                        ],
                        "text/plain": [
                            "        UserId  MovieId  Rating      Timestamp\n",
                            "139691       1   327984     1.0  1507825981163\n",
                            "270307       3   161178     1.0  1506912807807\n",
                            "380525       5   277492     1.0  1507726490951\n",
                            "311705       5   158794     1.0  1507675190925\n",
                            "468741       5   158642     1.0  1507466431547\n",
                            "...        ...      ...     ...            ...\n",
                            "204403  321650    95982     1.0  1508196801498\n",
                            "453511  321991   159927     1.0  1508199294510\n",
                            "263764  322089   277107     1.0  1508199824851\n",
                            "60223   322151   199475     1.0  1508201455621\n",
                            "134473  322823   342473     1.0  1508209792719\n",
                            "\n",
                            "[86912 rows x 4 columns]"
                        ]
                    },
                    "execution_count": 13,
                    "metadata": {},
                    "output_type": "execute_result"
                }
            ],
            "source": [
                "test"
            ]
        },
        {
            "cell_type": "code",
            "execution_count": 14,
            "metadata": {},
            "outputs": [
                {
                    "data": {
                        "text/html": [
                            "<div>\n",
                            "<style scoped>\n",
                            "    .dataframe tbody tr th:only-of-type {\n",
                            "        vertical-align: middle;\n",
                            "    }\n",
                            "\n",
                            "    .dataframe tbody tr th {\n",
                            "        vertical-align: top;\n",
                            "    }\n",
                            "\n",
                            "    .dataframe thead th {\n",
                            "        text-align: right;\n",
                            "    }\n",
                            "</style>\n",
                            "<table border=\"1\" class=\"dataframe\">\n",
                            "  <thead>\n",
                            "    <tr style=\"text-align: right;\">\n",
                            "      <th></th>\n",
                            "      <th>UserId</th>\n",
                            "      <th>MovieId</th>\n",
                            "      <th>Prediction</th>\n",
                            "    </tr>\n",
                            "  </thead>\n",
                            "  <tbody>\n",
                            "    <tr>\n",
                            "      <th>0</th>\n",
                            "      <td>1</td>\n",
                            "      <td>50644</td>\n",
                            "      <td>1.398046e-180</td>\n",
                            "    </tr>\n",
                            "    <tr>\n",
                            "      <th>1</th>\n",
                            "      <td>1</td>\n",
                            "      <td>195177</td>\n",
                            "      <td>5.778300e-181</td>\n",
                            "    </tr>\n",
                            "    <tr>\n",
                            "      <th>2</th>\n",
                            "      <td>1</td>\n",
                            "      <td>283505</td>\n",
                            "      <td>5.645465e-181</td>\n",
                            "    </tr>\n",
                            "    <tr>\n",
                            "      <th>3</th>\n",
                            "      <td>1</td>\n",
                            "      <td>234481</td>\n",
                            "      <td>5.591903e-181</td>\n",
                            "    </tr>\n",
                            "    <tr>\n",
                            "      <th>4</th>\n",
                            "      <td>1</td>\n",
                            "      <td>160142</td>\n",
                            "      <td>4.323129e-181</td>\n",
                            "    </tr>\n",
                            "    <tr>\n",
                            "      <th>...</th>\n",
                            "      <td>...</td>\n",
                            "      <td>...</td>\n",
                            "      <td>...</td>\n",
                            "    </tr>\n",
                            "    <tr>\n",
                            "      <th>586935</th>\n",
                            "      <td>322823</td>\n",
                            "      <td>277107</td>\n",
                            "      <td>8.026128e-180</td>\n",
                            "    </tr>\n",
                            "    <tr>\n",
                            "      <th>586936</th>\n",
                            "      <td>322823</td>\n",
                            "      <td>283009</td>\n",
                            "      <td>6.086552e-180</td>\n",
                            "    </tr>\n",
                            "    <tr>\n",
                            "      <th>586937</th>\n",
                            "      <td>322823</td>\n",
                            "      <td>96029</td>\n",
                            "      <td>5.442240e-180</td>\n",
                            "    </tr>\n",
                            "    <tr>\n",
                            "      <th>586938</th>\n",
                            "      <td>322823</td>\n",
                            "      <td>289003</td>\n",
                            "      <td>5.147031e-180</td>\n",
                            "    </tr>\n",
                            "    <tr>\n",
                            "      <th>586939</th>\n",
                            "      <td>322823</td>\n",
                            "      <td>161439</td>\n",
                            "      <td>3.567808e-180</td>\n",
                            "    </tr>\n",
                            "  </tbody>\n",
                            "</table>\n",
                            "<p>573440 rows × 3 columns</p>\n",
                            "</div>"
                        ],
                        "text/plain": [
                            "        UserId  MovieId     Prediction\n",
                            "0            1    50644  1.398046e-180\n",
                            "1            1   195177  5.778300e-181\n",
                            "2            1   283505  5.645465e-181\n",
                            "3            1   234481  5.591903e-181\n",
                            "4            1   160142  4.323129e-181\n",
                            "...        ...      ...            ...\n",
                            "586935  322823   277107  8.026128e-180\n",
                            "586936  322823   283009  6.086552e-180\n",
                            "586937  322823    96029  5.442240e-180\n",
                            "586938  322823   289003  5.147031e-180\n",
                            "586939  322823   161439  3.567808e-180\n",
                            "\n",
                            "[573440 rows x 3 columns]"
                        ]
                    },
                    "execution_count": 14,
                    "metadata": {},
                    "output_type": "execute_result"
                }
            ],
            "source": [
                "top_k"
            ]
        },
        {
            "cell_type": "code",
            "execution_count": 15,
            "metadata": {},
            "outputs": [],
            "source": [
                "# all ranking metrics have the same arguments\n",
                "args = [test, top_k]\n",
                "kwargs = dict(\n",
                "    col_user=\"UserId\",\n",
                "    col_item=\"MovieId\",\n",
                "    col_rating=\"Rating\",\n",
                "    col_prediction=\"Prediction\",\n",
                "    relevancy_method=\"top_k\",\n",
                "    k=TOP_K,\n",
                ")\n",
                "\n",
                "eval_map = map_at_k(*args, **kwargs)\n",
                "eval_ndcg = ndcg_at_k(*args, **kwargs)\n",
                "eval_precision = precision_at_k(*args, **kwargs)\n",
                "eval_recall = recall_at_k(*args, **kwargs)"
            ]
        },
        {
            "cell_type": "code",
            "execution_count": 16,
            "metadata": {},
            "outputs": [
                {
                    "name": "stdout",
                    "output_type": "stream",
                    "text": [
                        "Model:\n",
                        "Top K:\t\t 10\n",
                        "MAP:\t\t 0.023125\n",
                        "NDCG:\t\t 0.032134\n",
                        "Precision@K:\t 0.006858\n",
                        "Recall@K:\t 0.056001\n"
                    ]
                }
            ],
            "source": [
                "print(f\"Model:\",\n",
                "      f\"Top K:\\t\\t {TOP_K}\",\n",
                "      f\"MAP:\\t\\t {eval_map:f}\",\n",
                "      f\"NDCG:\\t\\t {eval_ndcg:f}\",\n",
                "      f\"Precision@K:\\t {eval_precision:f}\",\n",
                "      f\"Recall@K:\\t {eval_recall:f}\", sep='\\n')"
            ]
        },
        {
            "cell_type": "code",
            "execution_count": 17,
            "metadata": {},
            "outputs": [
                {
                    "data": {
                        "application/notebook_utils.json+json": {
                            "data": 0.023125243236503903,
                            "encoder": "json",
                            "name": "map"
                        }
                    },
                    "metadata": {
                        "notebook_utils": {
                            "data": true,
                            "display": false,
                            "name": "map"
                        }
                    },
                    "output_type": "display_data"
                },
                {
                    "data": {
                        "application/notebook_utils.json+json": {
                            "data": 0.03213433869488932,
                            "encoder": "json",
                            "name": "ndcg"
                        }
                    },
                    "metadata": {
                        "notebook_utils": {
                            "data": true,
                            "display": false,
                            "name": "ndcg"
                        }
                    },
                    "output_type": "display_data"
                },
                {
                    "data": {
                        "application/notebook_utils.json+json": {
                            "data": 0.006857950963520814,
                            "encoder": "json",
                            "name": "precision"
                        }
                    },
                    "metadata": {
                        "notebook_utils": {
                            "data": true,
                            "display": false,
                            "name": "precision"
                        }
                    },
                    "output_type": "display_data"
                },
                {
                    "data": {
                        "application/notebook_utils.json+json": {
                            "data": 0.05600133988600704,
                            "encoder": "json",
                            "name": "recall"
                        }
                    },
                    "metadata": {
                        "notebook_utils": {
                            "data": true,
                            "display": false,
                            "name": "recall"
                        }
                    },
                    "output_type": "display_data"
                }
            ],
            "source": [
                "# Record results for tests - ignore this cell\n",
                "store_metadata(\"map\", eval_map)\n",
                "store_metadata(\"ndcg\", eval_ndcg)\n",
                "store_metadata(\"precision\", eval_precision)\n",
                "store_metadata(\"recall\", eval_recall)"
            ]
        },
        {
            "cell_type": "markdown",
            "metadata": {},
            "source": [
                "## References\n",
                "Note SAR is a combinational algorithm that implements different industry heuristics. The followings are references that may be helpful in understanding the SAR logic and implementation. \n",
                "\n",
                "1. Badrul Sarwar, *et al*, \"Item-based collaborative filtering recommendation algorithms\", WWW, 2001.\n",
                "2. Scipy (sparse matrix), url: https://docs.scipy.org/doc/scipy/reference/sparse.html\n",
                "3. Asela Gunawardana and Guy Shani, \"A survey of accuracy evaluation metrics of recommendation tasks\", The Journal of Machine Learning Research, vol. 10, pp 2935-2962, 2009.\t"
            ]
        }
    ],
    "metadata": {
        "celltoolbar": "Tags",
        "kernelspec": {
            "display_name": "Python 3 (ipykernel)",
            "language": "python",
            "name": "python3"
        },
        "language_info": {
            "codemirror_mode": {
                "name": "ipython",
                "version": 3
            },
            "file_extension": ".py",
            "mimetype": "text/x-python",
            "name": "python",
            "nbconvert_exporter": "python",
            "pygments_lexer": "ipython3",
            "version": "3.8.19"
        }
    },
    "nbformat": 4,
    "nbformat_minor": 2
}
