{
 "cells": [
  {
   "cell_type": "code",
   "execution_count": 1,
   "metadata": {},
   "outputs": [],
   "source": [
    "from helpers import *\n",
    "from tensorflow.keras.models import load_model"
   ]
  },
  {
   "cell_type": "code",
   "execution_count": 3,
   "metadata": {},
   "outputs": [],
   "source": [
    "loaded_model = load_model('./input/content-based.h5', custom_objects={'ndcg_5': ndcg_5, 'ndcg_10': ndcg_10, 'mean_mrr': mean_mrr, 'g_auc': g_auc})"
   ]
  },
  {
   "cell_type": "code",
   "execution_count": null,
   "metadata": {},
   "outputs": [],
   "source": [
    "def infer_top_k_articles(user_id, user_profiles_df_train, df_articles, article_embeddings_df, model, k=5):\n",
    "    tmp_df_articles = df_articles.copy()\n",
    "    # Retrieve the user's embedding\n",
    "    user_profile = user_profiles_df_train[user_profiles_df_train['user_id'] == user_id].iloc[0]\n",
    "    \n",
    "    if user_profile.empty:\n",
    "        raise ValueError(\"User ID not found in the user profiles.\")\n",
    "\n",
    "    user_embedding = user_profile['user_embedding']\n",
    "\n",
    "    # Get all articles embeddings\n",
    "    embeddings_dict = article_embeddings_df.T.to_dict('list')\n",
    "    \n",
    "    article_ids = []\n",
    "    combined_features_list = []\n",
    "    \n",
    "    for article_id, article_embedding in embeddings_dict.items():\n",
    "        article_ids.append(article_id)\n",
    "        combined_features = np.concatenate((user_embedding, article_embedding)).reshape(1, -1)\n",
    "        combined_features_list.append(combined_features)\n",
    "\n",
    "    all_embeddings = np.vstack(combined_features_list)\n",
    "    \n",
    "    # Predict relevance scores using the trained model\n",
    "    scores = model.predict(all_embeddings, verbose=0).flatten()\n",
    "\n",
    "    print(user_profile[\"click_article_id\"])\n",
    "    # Add scores to dataframe\n",
    "    tmp_df_articles['score'] = tmp_df_articles['article_id'].map(dict(zip(article_ids, scores)))\n",
    "    tmp_df_articles = tmp_df_articles.sort_values(by='score', ascending=False)\n",
    "\n",
    "    top_articles = tmp_df_articles.copy()[[\"article_id\",\"category_id\",\"score\"]]\n",
    "    user_article_clicked = top_articles[top_articles['article_id'].isin(user_profile[\"click_article_id\"])].reset_index(drop=True)\n",
    "\n",
    "    top_articles = top_articles[~top_articles['article_id'].isin(user_profile[\"click_article_id\"])]\n",
    "\n",
    "    # Rank articles based on scores\n",
    "    top_k_indices = np.argsort(scores)[-k:][::-1]\n",
    "    top_k_article_ids = [article_ids[i] for i in top_k_indices]\n",
    "    \n",
    "    # Rank articles based on scores (worst)\n",
    "    bottom_k_indices = np.argsort(scores)[:k]\n",
    "    bottom_k_article_ids = [article_ids[i] for i in bottom_k_indices]\n",
    "\n",
    "    # Fetch top K articles metadata\n",
    "    top_k_articles = top_articles[top_articles['article_id'].isin(top_k_article_ids)].reset_index(drop=True)\n",
    "    bottom_k_article_ids = top_articles[top_articles['article_id'].isin(bottom_k_article_ids)].reset_index(drop=True)\n",
    "    bottom_k_article_ids = bottom_k_article_ids.sort_values(by='score', ascending=True)\n",
    "    \n",
    "    # Display the top K articles usi\n",
    "    return top_k_articles, bottom_k_article_ids, user_article_clicked"
   ]
  }
 ],
 "metadata": {
  "kernelspec": {
   "display_name": "Python 3",
   "language": "python",
   "name": "python3"
  },
  "language_info": {
   "codemirror_mode": {
    "name": "ipython",
    "version": 3
   },
   "file_extension": ".py",
   "mimetype": "text/x-python",
   "name": "python",
   "nbconvert_exporter": "python",
   "pygments_lexer": "ipython3",
   "version": "3.8.19"
  }
 },
 "nbformat": 4,
 "nbformat_minor": 2
}
