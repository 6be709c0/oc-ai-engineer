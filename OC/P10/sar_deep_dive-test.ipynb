{
    "cells": [
        {
            "cell_type": "markdown",
            "metadata": {},
            "source": [
                "<i>Copyright (c) Recommenders contributors.</i>\n",
                "\n",
                "<i>Licensed under the MIT License.</i>"
            ]
        },
        {
            "cell_type": "markdown",
            "metadata": {},
            "source": [
                "# SAR Single Node on MovieLens (Python, CPU)\n",
                "\n",
                "In this example, we will walk through each step of the Simple Algorithm for Recommendation (SAR) algorithm using a Python single-node implementation.\n",
                "\n",
                "SAR is a fast, scalable, adaptive algorithm for personalized recommendations based on user transaction history. It is powered by understanding the similarity between items, and recommending similar items to those a user has an existing affinity for."
            ]
        },
        {
            "cell_type": "markdown",
            "metadata": {},
            "source": [
                "## 1 SAR algorithm\n",
                "\n",
                "The following figure presents a high-level architecture of SAR. \n",
                "\n",
                "At a very high level, two intermediate matrices are created and used to generate a set of recommendation scores:\n",
                "\n",
                "- An item similarity matrix $S$ estimates item-item relationships.\n",
                "- An affinity matrix $A$ estimates user-item relationships.\n",
                "\n",
                "Recommendation scores are then created by computing the matrix multiplication $A\\times S$.\n",
                "\n",
                "Optional steps (e.g. \"time decay\" and \"remove seen items\") are described in the details below.\n",
                "\n",
                "<img src=\"https://recodatasets.z20.web.core.windows.net/images/sar_schema.svg?sanitize=true\">\n",
                "\n",
                "### 1.1 Compute item co-occurrence and item similarity\n",
                "\n",
                "SAR defines similarity based on item-to-item co-occurrence data. Co-occurrence is defined as the number of times two items appear together for a given user. We can represent the co-occurrence of all items as a $m\\times m$ matrix $C$, where $c_{i,j}$ is the number of times item $i$ occurred with item $j$, and $m$ is the total number of items.\n",
                "\n",
                "The co-occurence matric $C$ has the following properties:\n",
                "\n",
                "- It is symmetric, so $c_{i,j} = c_{j,i}$\n",
                "- It is nonnegative: $c_{i,j} \\geq 0$\n",
                "- The occurrences are at least as large as the co-occurrences. I.e., the largest element for each row (and column) is on the main diagonal: $\\forall(i,j) C_{i,i},C_{j,j} \\geq C_{i,j}$.\n",
                "\n",
                "Once we have a co-occurrence matrix, an item similarity matrix $S$ can be obtained by rescaling the co-occurrences according to a given metric. Options for the metric include `Jaccard`, `lift`, and `counts` (meaning no rescaling).\n",
                "\n",
                "\n",
                "If $c_{ii}$ and $c_{jj}$ are the $i$th and $j$th diagonal elements of $C$, the rescaling options are:\n",
                "\n",
                "- `Jaccard`: $s_{ij}=\\frac{c_{ij}}{(c_{ii}+c_{jj}-c_{ij})}$\n",
                "- `lift`: $s_{ij}=\\frac{c_{ij}}{(c_{ii} \\times c_{jj})}$\n",
                "- `counts`: $s_{ij}=c_{ij}$\n",
                "\n",
                "In general, using `counts` as a similarity metric favours predictability, meaning that the most popular items will be recommended most of the time. `lift` by contrast favours discoverability/serendipity: an item that is less popular overall but highly favoured by a small subset of users is more likely to be recommended. `Jaccard` is a compromise between the two.\n",
                "\n",
                "\n",
                "### 1.2 Compute user affinity scores\n",
                "\n",
                "The affinity matrix in SAR captures the strength of the relationship between each individual user and the items that user has already interacted with. SAR incorporates two factors that can impact users' affinities: \n",
                "\n",
                "- It can consider information about the **type** of user-item interaction through differential weighting of different events (e.g. it may weigh events in which a user rated a particular item more heavily than events in which a user viewed the item).\n",
                "- It can consider information about **when** a user-item event occurred (e.g. it may discount the value of events that take place in the distant past.\n",
                "\n",
                "Formalizing these factors produces us an expression for user-item affinity:\n",
                "\n",
                "$$a_{ij}=\\sum_k w_k \\left(\\frac{1}{2}\\right)^{\\frac{t_0-t_k}{T}} $$\n",
                "\n",
                "where the affinity $a_{ij}$ for user $i$ and item $j$ is the weighted sum of all $k$ events involving user $i$ and item $j$. $w_k$ represents the weight of a particular event, and the power of 2 term reflects the temporally-discounted event. The $(\\frac{1}{2})^n$ scaling factor causes the parameter $T$ to serve as a half-life: events $T$ units before $t_0$ will be given half the weight as those taking place at $t_0$.\n",
                "\n",
                "Repeating this computation for all $n$ users and $m$ items results in an $n\\times m$ matrix $A$. Simplifications of the above expression can be obtained by setting all the weights equal to 1 (effectively ignoring event types), or by setting the half-life parameter $T$ to infinity (ignoring transaction times).\n",
                "\n",
                "### 1.3 Remove seen item\n",
                "\n",
                "Optionally we remove items which have already been seen in the training set, i.e. don't recommend items which have been previously bought by the user again.\n",
                "\n",
                "### 1.4 Top-k item calculation\n",
                "\n",
                "The personalized recommendations for a set of users can then be obtained by multiplying the affinity matrix ($A$) by the similarity matrix ($S$). The result is a recommendation score matrix, where each row corresponds to a user, each column corresponds to an item, and each entry corresponds to a user / item pair. Higher scores correspond to more strongly recommended items.\n",
                "\n",
                "It is worth noting that the complexity of recommending operation depends on the data size. SAR algorithm itself has $O(n^3)$ complexity. Therefore the single-node implementation is not supposed to handle large dataset in a scalable manner. Whenever one uses the algorithm, it is recommended to run with sufficiently large memory. "
            ]
        },
        {
            "cell_type": "markdown",
            "metadata": {},
            "source": [
                "## 2 SAR single-node implementation\n",
                "\n",
                "The SAR implementation illustrated in this notebook was developed in Python, primarily with Python packages like `numpy`, `pandas`, and `scipy` which are commonly used in most of the data analytics / machine learning tasks. Details of the implementation can be found in [Recommenders/recommenders/models/sar/sar_singlenode.py](../../recommenders/models/sar/sar_singlenode.py)."
            ]
        },
        {
            "cell_type": "markdown",
            "metadata": {},
            "source": [
                "## 3 SAR single-node based movie recommender"
            ]
        },
        {
            "cell_type": "code",
            "execution_count": 1,
            "metadata": {},
            "outputs": [
                {
                    "name": "stdout",
                    "output_type": "stream",
                    "text": [
                        "System version: 3.8.19 (default, Mar 20 2024, 15:27:52) \n",
                        "[Clang 14.0.6 ]\n",
                        "Pandas version: 2.0.3\n",
                        "NumPy version: 1.24.3\n",
                        "SciPy version: 1.10.1\n"
                    ]
                }
            ],
            "source": [
                "import sys\n",
                "import logging\n",
                "import scipy\n",
                "import numpy as np\n",
                "import pandas as pd\n",
                "\n",
                "from recommenders.datasets import movielens\n",
                "from recommenders.datasets.python_splitters import python_stratified_split\n",
                "from recommenders.evaluation.python_evaluation import map_at_k, ndcg_at_k, precision_at_k, recall_at_k\n",
                "from recommenders.models.sar import SAR\n",
                "from recommenders.utils.notebook_utils import store_metadata\n",
                "\n",
                "print(f\"System version: {sys.version}\")\n",
                "print(f\"Pandas version: {pd.__version__}\")\n",
                "print(f\"NumPy version: {np.__version__}\")\n",
                "print(f\"SciPy version: {scipy.__version__}\")"
            ]
        },
        {
            "cell_type": "code",
            "execution_count": 2,
            "metadata": {},
            "outputs": [],
            "source": [
                "from helpers import load_dataset, preprocessing_clicks\n"
            ]
        },
        {
            "cell_type": "code",
            "execution_count": 3,
            "metadata": {
                "tags": [
                    "parameters"
                ]
            },
            "outputs": [],
            "source": [
                "# Top k items to recommend\n",
                "TOP_K = 10\n",
                "\n",
                "# Select MovieLens data size: 100k, 1m, 10m, or 20m\n",
                "MOVIELENS_DATA_SIZE = \"100k\""
            ]
        },
        {
            "cell_type": "code",
            "execution_count": 4,
            "metadata": {},
            "outputs": [],
            "source": [
                "# set log level to INFO\n",
                "logging.basicConfig(\n",
                "    level=logging.DEBUG,\n",
                "    format=\"%(asctime)s %(levelname)-8s %(message)s\",\n",
                "    datefmt=\"%Y-%m-%d %H:%M:%S\",\n",
                ")"
            ]
        },
        {
            "cell_type": "markdown",
            "metadata": {},
            "source": [
                "### 3.1 Load Data\n",
                "\n",
                "SAR is intended to be used on interactions with the following schema:\n",
                "`<User ID>, <Item ID>, <Time>`. \n",
                "\n",
                "Each row represents a single interaction between a user and an item. These interactions might be different types of events on an e-commerce website, such as a user clicking to view an item, adding it to a shopping basket, following a recommendation link, and so on. \n",
                "\n",
                "The MovieLens dataset is well formatted interactions of Users providing Ratings to Movies (movie ratings are used as the event weight) - we will use it for the rest of the example."
            ]
        },
        {
            "cell_type": "code",
            "execution_count": 5,
            "metadata": {},
            "outputs": [],
            "source": [
                "df_articles, df_clicks, article_embeddings = load_dataset()\n",
                "df_clicks = df_clicks.sample(n=100000)\n",
                "df_clicks.rename(columns={'user_id': 'UserId', \"click_article_id\":\"ArticleId\", \"click_timestamp\":\"Timestamp\"}, inplace=True)\n",
                "df_clicks[\"UserId\"] = df_clicks[\"UserId\"].astype('int64')\n",
                "df_clicks[\"Timestamp\"] = df_clicks[\"Timestamp\"].astype('int64')\n",
                "df_clicks[\"ArticleId\"] = df_clicks[\"ArticleId\"].astype('int64')\n",
                "df_clicks['Rating'] = 1.0\n",
                "df_clicks['Rating'] = df_clicks[\"Rating\"].astype(np.float32)"
            ]
        },
        {
            "cell_type": "code",
            "execution_count": 6,
            "metadata": {},
            "outputs": [],
            "source": [
                "\n",
                "# print(df_clicks[['UserId','ArticleId', 'Rating','Timestamp']].dtypes)\n",
                "# print(data.dtypes)"
            ]
        },
        {
            "cell_type": "code",
            "execution_count": 7,
            "metadata": {},
            "outputs": [
                {
                    "data": {
                        "text/html": [
                            "<div>\n",
                            "<style scoped>\n",
                            "    .dataframe tbody tr th:only-of-type {\n",
                            "        vertical-align: middle;\n",
                            "    }\n",
                            "\n",
                            "    .dataframe tbody tr th {\n",
                            "        vertical-align: top;\n",
                            "    }\n",
                            "\n",
                            "    .dataframe thead th {\n",
                            "        text-align: right;\n",
                            "    }\n",
                            "</style>\n",
                            "<table border=\"1\" class=\"dataframe\">\n",
                            "  <thead>\n",
                            "    <tr style=\"text-align: right;\">\n",
                            "      <th></th>\n",
                            "      <th>UserId</th>\n",
                            "      <th>ArticleId</th>\n",
                            "      <th>Rating</th>\n",
                            "      <th>Timestamp</th>\n",
                            "    </tr>\n",
                            "  </thead>\n",
                            "  <tbody>\n",
                            "    <tr>\n",
                            "      <th>0</th>\n",
                            "      <td>174092</td>\n",
                            "      <td>168623</td>\n",
                            "      <td>1.0</td>\n",
                            "      <td>1507165731494</td>\n",
                            "    </tr>\n",
                            "    <tr>\n",
                            "      <th>1</th>\n",
                            "      <td>24744</td>\n",
                            "      <td>83738</td>\n",
                            "      <td>1.0</td>\n",
                            "      <td>1506894379401</td>\n",
                            "    </tr>\n",
                            "    <tr>\n",
                            "      <th>2</th>\n",
                            "      <td>38593</td>\n",
                            "      <td>272660</td>\n",
                            "      <td>1.0</td>\n",
                            "      <td>1506911211967</td>\n",
                            "    </tr>\n",
                            "    <tr>\n",
                            "      <th>3</th>\n",
                            "      <td>318929</td>\n",
                            "      <td>202381</td>\n",
                            "      <td>1.0</td>\n",
                            "      <td>1508171829359</td>\n",
                            "    </tr>\n",
                            "    <tr>\n",
                            "      <th>4</th>\n",
                            "      <td>268788</td>\n",
                            "      <td>234269</td>\n",
                            "      <td>1.0</td>\n",
                            "      <td>1507668714982</td>\n",
                            "    </tr>\n",
                            "    <tr>\n",
                            "      <th>...</th>\n",
                            "      <td>...</td>\n",
                            "      <td>...</td>\n",
                            "      <td>...</td>\n",
                            "      <td>...</td>\n",
                            "    </tr>\n",
                            "    <tr>\n",
                            "      <th>99995</th>\n",
                            "      <td>140912</td>\n",
                            "      <td>29953</td>\n",
                            "      <td>1.0</td>\n",
                            "      <td>1507659910391</td>\n",
                            "    </tr>\n",
                            "    <tr>\n",
                            "      <th>99996</th>\n",
                            "      <td>125570</td>\n",
                            "      <td>352901</td>\n",
                            "      <td>1.0</td>\n",
                            "      <td>1507726583439</td>\n",
                            "    </tr>\n",
                            "    <tr>\n",
                            "      <th>99997</th>\n",
                            "      <td>64457</td>\n",
                            "      <td>133160</td>\n",
                            "      <td>1.0</td>\n",
                            "      <td>1507569769232</td>\n",
                            "    </tr>\n",
                            "    <tr>\n",
                            "      <th>99998</th>\n",
                            "      <td>104403</td>\n",
                            "      <td>202355</td>\n",
                            "      <td>1.0</td>\n",
                            "      <td>1508117625523</td>\n",
                            "    </tr>\n",
                            "    <tr>\n",
                            "      <th>99999</th>\n",
                            "      <td>15354</td>\n",
                            "      <td>14748</td>\n",
                            "      <td>1.0</td>\n",
                            "      <td>1507999680133</td>\n",
                            "    </tr>\n",
                            "  </tbody>\n",
                            "</table>\n",
                            "<p>100000 rows × 4 columns</p>\n",
                            "</div>"
                        ],
                        "text/plain": [
                            "       UserId  ArticleId  Rating      Timestamp\n",
                            "0      174092     168623     1.0  1507165731494\n",
                            "1       24744      83738     1.0  1506894379401\n",
                            "2       38593     272660     1.0  1506911211967\n",
                            "3      318929     202381     1.0  1508171829359\n",
                            "4      268788     234269     1.0  1507668714982\n",
                            "...       ...        ...     ...            ...\n",
                            "99995  140912      29953     1.0  1507659910391\n",
                            "99996  125570     352901     1.0  1507726583439\n",
                            "99997   64457     133160     1.0  1507569769232\n",
                            "99998  104403     202355     1.0  1508117625523\n",
                            "99999   15354      14748     1.0  1507999680133\n",
                            "\n",
                            "[100000 rows x 4 columns]"
                        ]
                    },
                    "execution_count": 7,
                    "metadata": {},
                    "output_type": "execute_result"
                }
            ],
            "source": [
                "data = df_clicks[['UserId','ArticleId', 'Rating','Timestamp']].reset_index(drop=True)\n",
                "data\n",
                "\n",
                "# data = movielens.load_pandas_df(\n",
                "#     size=MOVIELENS_DATA_SIZE,\n",
                "#     header=[\"UserId\", \"ArticleId\", \"Rating\", \"Timestamp\"],\n",
                "#     title_col=\"Title\",\n",
                "# )\n",
                "\n",
                "# # Convert the float precision to 32-bit in order to reduce memory consumption\n",
                "# data[\"Rating\"] = data[\"Rating\"].astype(np.float32)\n",
                "\n",
                "# data.head()"
            ]
        },
        {
            "cell_type": "markdown",
            "metadata": {},
            "source": [
                "### 3.2 Split the data using the python random splitter provided in utilities:\n",
                "\n",
                "We split the full dataset into a `train` and `test` dataset to evaluate performance of the algorithm against a held-out set not seen during training. Because SAR generates recommendations based on user preferences, all users that are in the test set must also exist in the training set. For this case, we can use the provided `python_stratified_split` function which holds out a percentage (in this case 25%) of items from each user, but ensures all users are in both `train` and `test` datasets. Other options are available in the `dataset.python_splitters` module which provide more control over how the split occurs.\n"
            ]
        },
        {
            "cell_type": "code",
            "execution_count": 8,
            "metadata": {},
            "outputs": [],
            "source": [
                "header = {\n",
                "    \"col_user\": \"UserId\",\n",
                "    \"col_item\": \"ArticleId\",\n",
                "    \"col_rating\": \"Rating\",\n",
                "    \"col_timestamp\": \"Timestamp\",\n",
                "    \"col_prediction\": \"Prediction\",\n",
                "}"
            ]
        },
        {
            "cell_type": "code",
            "execution_count": 9,
            "metadata": {},
            "outputs": [],
            "source": [
                "train, test = python_stratified_split(\n",
                "    data, ratio=0.75, col_user=header[\"col_user\"], col_item=header[\"col_item\"], seed=42\n",
                ")\n"
            ]
        },
        {
            "cell_type": "markdown",
            "metadata": {},
            "source": [
                "In this case, for the illustration purpose, the following parameter values are used:\n",
                "\n",
                "|Parameter|Value|Description|\n",
                "|---------|---------|-------------|\n",
                "|`similarity_type`|`jaccard`|Method used to calculate item similarity.|\n",
                "|`time_decay_coefficient`|30|Period in days (term of $T$ shown in the formula of Section 1.2)|\n",
                "|`time_now`|`None`|Time decay reference.|\n",
                "|`timedecay_formula`|`True`|Whether time decay formula is used.|"
            ]
        },
        {
            "cell_type": "code",
            "execution_count": 10,
            "metadata": {},
            "outputs": [],
            "source": [
                "model = SAR(\n",
                "    similarity_type=\"jaccard\", \n",
                "    time_decay_coefficient=30, \n",
                "    time_now=None, \n",
                "    timedecay_formula=True, \n",
                "    **header\n",
                ")"
            ]
        },
        {
            "cell_type": "code",
            "execution_count": 11,
            "metadata": {},
            "outputs": [
                {
                    "name": "stderr",
                    "output_type": "stream",
                    "text": [
                        "2024-05-26 23:45:58 INFO     Collecting user affinity matrix\n",
                        "2024-05-26 23:45:58 INFO     Calculating time-decayed affinities\n",
                        "2024-05-26 23:45:58 INFO     Creating index columns\n",
                        "2024-05-26 23:45:58 INFO     Building user affinity sparse matrix\n",
                        "2024-05-26 23:45:58 INFO     Calculating item co-occurrence\n",
                        "2024-05-26 23:45:58 INFO     Calculating item similarity\n",
                        "2024-05-26 23:45:58 INFO     Using jaccard based similarity\n",
                        "2024-05-26 23:45:59 INFO     Done training\n"
                    ]
                }
            ],
            "source": [
                "model.fit(train)"
            ]
        },
        {
            "cell_type": "code",
            "execution_count": 12,
            "metadata": {
                "scrolled": true
            },
            "outputs": [
                {
                    "name": "stderr",
                    "output_type": "stream",
                    "text": [
                        "2024-05-26 23:45:59 INFO     Calculating recommendation scores\n",
                        "2024-05-26 23:45:59 INFO     Removing seen items\n"
                    ]
                }
            ],
            "source": [
                "top_k = model.recommend_k_items(test, top_k=TOP_K, remove_seen=True)"
            ]
        },
        {
            "cell_type": "markdown",
            "metadata": {},
            "source": [
                "The final output from the `recommend_k_items` method generates recommendation scores for each user-item pair, which are shown as follows."
            ]
        },
        {
            "cell_type": "code",
            "execution_count": 13,
            "metadata": {
                "scrolled": true
            },
            "outputs": [
                {
                    "data": {
                        "text/html": [
                            "<div>\n",
                            "<style scoped>\n",
                            "    .dataframe tbody tr th:only-of-type {\n",
                            "        vertical-align: middle;\n",
                            "    }\n",
                            "\n",
                            "    .dataframe tbody tr th {\n",
                            "        vertical-align: top;\n",
                            "    }\n",
                            "\n",
                            "    .dataframe thead th {\n",
                            "        text-align: right;\n",
                            "    }\n",
                            "</style>\n",
                            "<table border=\"1\" class=\"dataframe\">\n",
                            "  <thead>\n",
                            "    <tr style=\"text-align: right;\">\n",
                            "      <th></th>\n",
                            "      <th>UserId</th>\n",
                            "      <th>ArticleId</th>\n",
                            "      <th>Prediction</th>\n",
                            "    </tr>\n",
                            "  </thead>\n",
                            "  <tbody>\n",
                            "    <tr>\n",
                            "      <th>59930</th>\n",
                            "      <td>306866</td>\n",
                            "      <td>95813</td>\n",
                            "      <td>3.902699e-147</td>\n",
                            "    </tr>\n",
                            "    <tr>\n",
                            "      <th>59931</th>\n",
                            "      <td>306866</td>\n",
                            "      <td>182312</td>\n",
                            "      <td>3.853915e-147</td>\n",
                            "    </tr>\n",
                            "    <tr>\n",
                            "      <th>59933</th>\n",
                            "      <td>306866</td>\n",
                            "      <td>235656</td>\n",
                            "      <td>3.853915e-147</td>\n",
                            "    </tr>\n",
                            "    <tr>\n",
                            "      <th>59932</th>\n",
                            "      <td>306866</td>\n",
                            "      <td>351416</td>\n",
                            "      <td>3.853915e-147</td>\n",
                            "    </tr>\n",
                            "    <tr>\n",
                            "      <th>59935</th>\n",
                            "      <td>306866</td>\n",
                            "      <td>331746</td>\n",
                            "      <td>3.806336e-147</td>\n",
                            "    </tr>\n",
                            "    <tr>\n",
                            "      <th>59934</th>\n",
                            "      <td>306866</td>\n",
                            "      <td>352070</td>\n",
                            "      <td>3.806336e-147</td>\n",
                            "    </tr>\n",
                            "    <tr>\n",
                            "      <th>59937</th>\n",
                            "      <td>306866</td>\n",
                            "      <td>95868</td>\n",
                            "      <td>3.759917e-147</td>\n",
                            "    </tr>\n",
                            "    <tr>\n",
                            "      <th>59936</th>\n",
                            "      <td>306866</td>\n",
                            "      <td>119546</td>\n",
                            "      <td>3.759917e-147</td>\n",
                            "    </tr>\n",
                            "    <tr>\n",
                            "      <th>59938</th>\n",
                            "      <td>306866</td>\n",
                            "      <td>30886</td>\n",
                            "      <td>3.714617e-147</td>\n",
                            "    </tr>\n",
                            "    <tr>\n",
                            "      <th>59939</th>\n",
                            "      <td>306866</td>\n",
                            "      <td>162179</td>\n",
                            "      <td>3.627214e-147</td>\n",
                            "    </tr>\n",
                            "  </tbody>\n",
                            "</table>\n",
                            "</div>"
                        ],
                        "text/plain": [
                            "       UserId  ArticleId     Prediction\n",
                            "59930  306866      95813  3.902699e-147\n",
                            "59931  306866     182312  3.853915e-147\n",
                            "59933  306866     235656  3.853915e-147\n",
                            "59932  306866     351416  3.853915e-147\n",
                            "59935  306866     331746  3.806336e-147\n",
                            "59934  306866     352070  3.806336e-147\n",
                            "59937  306866      95868  3.759917e-147\n",
                            "59936  306866     119546  3.759917e-147\n",
                            "59938  306866      30886  3.714617e-147\n",
                            "59939  306866     162179  3.627214e-147"
                        ]
                    },
                    "execution_count": 13,
                    "metadata": {},
                    "output_type": "execute_result"
                }
            ],
            "source": [
                "top_k_with_titles = top_k.join(\n",
                "    data[[\"ArticleId\"]].drop_duplicates().set_index(\"ArticleId\"),\n",
                "    on=\"ArticleId\",\n",
                "    how=\"inner\",\n",
                ").sort_values(by=[\"UserId\", \"Prediction\"], ascending=False)\n",
                "\n",
                "top_k_with_titles.head(10)"
            ]
        },
        {
            "cell_type": "markdown",
            "metadata": {},
            "source": [
                "### 3.3 Evaluate the results"
            ]
        },
        {
            "cell_type": "code",
            "execution_count": 14,
            "metadata": {},
            "outputs": [],
            "source": [
                "# all ranking metrics have the same arguments\n",
                "args = [test, top_k]\n",
                "kwargs = dict(\n",
                "    col_user=\"UserId\",\n",
                "    col_item=\"ArticleId\",\n",
                "    col_rating=\"Rating\",\n",
                "    col_prediction=\"Prediction\",\n",
                "    relevancy_method=\"top_k\",\n",
                "    k=TOP_K,\n",
                ")\n",
                "\n",
                "eval_map = map_at_k(*args, **kwargs)\n",
                "eval_ndcg = ndcg_at_k(*args, **kwargs)\n",
                "eval_precision = precision_at_k(*args, **kwargs)\n",
                "eval_recall = recall_at_k(*args, **kwargs)"
            ]
        },
        {
            "cell_type": "code",
            "execution_count": 15,
            "metadata": {},
            "outputs": [
                {
                    "name": "stdout",
                    "output_type": "stream",
                    "text": [
                        "Model:\n",
                        "Top K:\t\t 10\n",
                        "MAP:\t\t 0.004544\n",
                        "NDCG:\t\t 0.006448\n",
                        "Precision@K:\t 0.001335\n",
                        "Recall@K:\t 0.012234\n"
                    ]
                }
            ],
            "source": [
                "print(f\"Model:\",\n",
                "      f\"Top K:\\t\\t {TOP_K}\",\n",
                "      f\"MAP:\\t\\t {eval_map:f}\",\n",
                "      f\"NDCG:\\t\\t {eval_ndcg:f}\",\n",
                "      f\"Precision@K:\\t {eval_precision:f}\",\n",
                "      f\"Recall@K:\\t {eval_recall:f}\", sep='\\n')"
            ]
        },
        {
            "cell_type": "code",
            "execution_count": 16,
            "metadata": {},
            "outputs": [
                {
                    "ename": "AttributeError",
                    "evalue": "'SARSingleNode' object has no attribute 'save'",
                    "output_type": "error",
                    "traceback": [
                        "\u001b[0;31m---------------------------------------------------------------------------\u001b[0m",
                        "\u001b[0;31mAttributeError\u001b[0m                            Traceback (most recent call last)",
                        "Cell \u001b[0;32mIn[16], line 1\u001b[0m\n\u001b[0;32m----> 1\u001b[0m \u001b[43mmodel\u001b[49m\u001b[38;5;241;43m.\u001b[39;49m\u001b[43msave\u001b[49m(\u001b[38;5;124m\"\u001b[39m\u001b[38;5;124mtes.tg\u001b[39m\u001b[38;5;124m\"\u001b[39m)\n",
                        "\u001b[0;31mAttributeError\u001b[0m: 'SARSingleNode' object has no attribute 'save'"
                    ]
                }
            ],
            "source": []
        }
    ],
    "metadata": {
        "celltoolbar": "Tags",
        "kernelspec": {
            "display_name": "Python 3 (ipykernel)",
            "language": "python",
            "name": "python3"
        },
        "language_info": {
            "codemirror_mode": {
                "name": "ipython",
                "version": 3
            },
            "file_extension": ".py",
            "mimetype": "text/x-python",
            "name": "python",
            "nbconvert_exporter": "python",
            "pygments_lexer": "ipython3",
            "version": "3.8.19"
        }
    },
    "nbformat": 4,
    "nbformat_minor": 2
}
