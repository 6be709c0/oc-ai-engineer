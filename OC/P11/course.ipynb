{
 "cells": [
  {
   "cell_type": "code",
   "execution_count": 1,
   "metadata": {},
   "outputs": [],
   "source": [
    "# une liste \n",
    "li = [1, 2, 3, 4]\n",
    "\n",
    "# une fonction\n",
    "def f(x): \n",
    "    return x**2\n",
    "\n",
    "# à noter, une fonction \"simple\" peut s'écrire de la sorte : \n",
    "f = lambda x : x**2"
   ]
  },
  {
   "cell_type": "code",
   "execution_count": 2,
   "metadata": {},
   "outputs": [],
   "source": [
    "res = list()\n",
    "for i in li : \n",
    "    res.append(f(i))"
   ]
  },
  {
   "cell_type": "code",
   "execution_count": 3,
   "metadata": {},
   "outputs": [],
   "source": [
    "res = [f(i) for i in li]"
   ]
  },
  {
   "cell_type": "code",
   "execution_count": 4,
   "metadata": {},
   "outputs": [
    {
     "data": {
      "text/plain": [
       "<map at 0x1044bd300>"
      ]
     },
     "execution_count": 4,
     "metadata": {},
     "output_type": "execute_result"
    }
   ],
   "source": [
    "res = map(f, li)\n",
    "res"
   ]
  },
  {
   "cell_type": "code",
   "execution_count": 5,
   "metadata": {},
   "outputs": [
    {
     "data": {
      "text/plain": [
       "[1, 4, 9, 16]"
      ]
     },
     "execution_count": 5,
     "metadata": {},
     "output_type": "execute_result"
    }
   ],
   "source": [
    "res = list(res)\n",
    "res"
   ]
  },
  {
   "cell_type": "markdown",
   "metadata": {},
   "source": [
    "### Reduce"
   ]
  },
  {
   "cell_type": "code",
   "execution_count": 6,
   "metadata": {},
   "outputs": [],
   "source": [
    "li = [1, 2, 3,4]\n",
    "\n",
    "def f(i,j) : \n",
    "    return i*j\n"
   ]
  },
  {
   "cell_type": "code",
   "execution_count": 7,
   "metadata": {},
   "outputs": [
    {
     "data": {
      "text/plain": [
       "24"
      ]
     },
     "execution_count": 7,
     "metadata": {},
     "output_type": "execute_result"
    }
   ],
   "source": [
    "from  functools import reduce\n",
    "\n",
    "reduce(f, li)"
   ]
  },
  {
   "cell_type": "code",
   "execution_count": 8,
   "metadata": {},
   "outputs": [],
   "source": [
    "def f(i,j) : \n",
    "    result = i * j\n",
    "    print(f\"{i} * {j} = {result}\")\n",
    "    return result"
   ]
  },
  {
   "cell_type": "code",
   "execution_count": 9,
   "metadata": {},
   "outputs": [
    {
     "name": "stdout",
     "output_type": "stream",
     "text": [
      "1 * 2 = 2\n",
      "2 * 3 = 6\n",
      "6 * 4 = 24\n"
     ]
    },
    {
     "data": {
      "text/plain": [
       "24"
      ]
     },
     "execution_count": 9,
     "metadata": {},
     "output_type": "execute_result"
    }
   ],
   "source": [
    "reduce(f, li)"
   ]
  },
  {
   "cell_type": "code",
   "execution_count": 10,
   "metadata": {},
   "outputs": [],
   "source": [
    "from collections import defaultdict\n",
    "\n",
    "def wordCount(text):\n",
    "    counts=defaultdict(int)\n",
    "    for word in text.split():\n",
    "        counts[word.lower()] +=1\n",
    "    return counts"
   ]
  },
  {
   "cell_type": "code",
   "execution_count": 11,
   "metadata": {},
   "outputs": [],
   "source": [
    "D1 = {\"./lot1.txt\" : \"jour lève notre grisaille\"}\n",
    "D2 = {\"./lot2.txt\" : \"trottoir notre ruelle notre tour\"}\n",
    "D3 = {\"./lot3.txt\" : \"jour lève notre envie vous\"}\n",
    "D4 = {\"./lot4.txt\" : \"faire comprendre tous notre tour\"}"
   ]
  },
  {
   "cell_type": "code",
   "execution_count": 12,
   "metadata": {},
   "outputs": [],
   "source": [
    "def map(key,value):\n",
    "    \n",
    "    intermediate=[]\n",
    "    for word in value.split():\n",
    "        intermediate.append((word, 1))\n",
    "    return intermediate\n",
    "\n",
    "def reduce(key, values):\n",
    "    result = 0\n",
    "    for c in values:\n",
    "        result = result +c\n",
    "    return (key, result)"
   ]
  },
  {
   "cell_type": "code",
   "execution_count": 13,
   "metadata": {},
   "outputs": [
    {
     "name": "stderr",
     "output_type": "stream",
     "text": [
      "24/06/04 10:37:36 WARN Utils: Your hostname, mathieus-MacBook-Air.local resolves to a loopback address: 127.0.0.1; using 192.168.1.28 instead (on interface en0)\n",
      "24/06/04 10:37:36 WARN Utils: Set SPARK_LOCAL_IP if you need to bind to another address\n",
      "Setting default log level to \"WARN\".\n",
      "To adjust logging level use sc.setLogLevel(newLevel). For SparkR, use setLogLevel(newLevel).\n",
      "24/06/04 10:37:36 WARN NativeCodeLoader: Unable to load native-hadoop library for your platform... using builtin-java classes where applicable\n",
      "24/06/04 10:37:36 WARN Utils: Service 'SparkUI' could not bind on port 4040. Attempting port 4041.\n"
     ]
    },
    {
     "name": "stdout",
     "output_type": "stream",
     "text": [
      "mes 1\n",
      "cahiers 1\n",
      "et 1\n",
      "les 5\n",
      "arbres 1\n",
      "sable 1\n",
      "J'écris 3\n",
      "nom 3\n",
      "toutes 1\n",
      "blanches 1\n",
      "images 1\n",
      "des 2\n",
      "guerriers 1\n",
      "la 1\n",
      "Sur 8\n",
      "d'écolier 1\n",
      "mon 1\n",
      "pupitre 1\n",
      "le 1\n",
      "de 1\n",
      "neige 1\n",
      "ton 3\n",
      "pages 2\n",
      "lues 1\n",
      "Pierre 1\n",
      "sang 1\n",
      "papier 1\n",
      "ou 1\n",
      "cendre 1\n",
      "dorées 1\n",
      "armes 1\n",
      "couronne 1\n",
      "rois 1\n"
     ]
    }
   ],
   "source": [
    "import sys\n",
    "from pyspark import SparkContext\n",
    "\n",
    "sc = SparkContext()\n",
    "lines = sc.textFile(\"./words.txt\")\n",
    "word_counts = lines.flatMap(lambda line: line.split(' ')) \\\n",
    "                   .map(lambda word: (word, 1)) \\\n",
    "                   .reduceByKey(lambda count1, count2: count1 + count2) \\\n",
    "                   .collect()\n",
    "\n",
    "for (word, count) in word_counts:\n",
    "    print(word, count)"
   ]
  },
  {
   "cell_type": "code",
   "execution_count": null,
   "metadata": {},
   "outputs": [],
   "source": []
  },
  {
   "cell_type": "code",
   "execution_count": null,
   "metadata": {},
   "outputs": [],
   "source": []
  }
 ],
 "metadata": {
  "kernelspec": {
   "display_name": "Python 3",
   "language": "python",
   "name": "python3"
  },
  "language_info": {
   "codemirror_mode": {
    "name": "ipython",
    "version": 3
   },
   "file_extension": ".py",
   "mimetype": "text/x-python",
   "name": "python",
   "nbconvert_exporter": "python",
   "pygments_lexer": "ipython3",
   "version": "3.11.7"
  }
 },
 "nbformat": 4,
 "nbformat_minor": 2
}
