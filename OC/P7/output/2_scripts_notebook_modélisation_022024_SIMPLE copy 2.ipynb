{
 "cells": [
  {
   "cell_type": "markdown",
   "metadata": {},
   "source": [
    "## Modèle simple"
   ]
  },
  {
   "cell_type": "code",
   "execution_count": 1,
   "metadata": {},
   "outputs": [],
   "source": [
    "from helpers import *"
   ]
  },
  {
   "cell_type": "code",
   "execution_count": null,
   "metadata": {},
   "outputs": [],
   "source": [
    "cols = ['sentiment', 'timestamp', 'date', \"query\", \"username\", \"comment\"]  \n",
    "df = pd.read_csv(\"./../input/training.1600000.processed.noemoticon.csv\", header=None, names=cols)\n",
    "\n",
    "# df = df.sample(n=1000, random_state=42)\n",
    "len_df = len(df)\n",
    "print(df.shape)\n",
    "df.head()"
   ]
  },
  {
   "cell_type": "code",
   "execution_count": null,
   "metadata": {},
   "outputs": [],
   "source": [
    "df = clean_df(df)\n",
    "print(df.shape)\n",
    "df.head()"
   ]
  },
  {
   "cell_type": "code",
   "execution_count": null,
   "metadata": {},
   "outputs": [],
   "source": [
    "pd.set_option('display.max_colwidth', None)  # Set max_colwidth to None to display full comments  \n",
    "df[df[\"sentiment\"] == 0][\"comment\"].head()"
   ]
  },
  {
   "cell_type": "code",
   "execution_count": null,
   "metadata": {},
   "outputs": [],
   "source": [
    "df[df[\"sentiment\"] == 1][\"comment\"].head()"
   ]
  },
  {
   "cell_type": "markdown",
   "metadata": {},
   "source": [
    "Cette approche consiste à entrainer les données avec une régression logistique.\n"
   ]
  },
  {
   "cell_type": "code",
   "execution_count": null,
   "metadata": {},
   "outputs": [],
   "source": [
    "# Copy original dataframe\n",
    "df_simple_approach = df.copy()\n",
    "\n",
    "X = df_simple_approach['comment_clean']\n",
    "y = df_simple_approach['sentiment']\n",
    "\n",
    "# Step 1: Split data\n",
    "X_train, X_test, y_train, y_test = train_test_split(X, y, test_size=0.2, random_state=42)  \n",
    "\n",
    "# Step 2: Feature extraction\n",
    "vectorizer = CountVectorizer()  \n",
    "X_train_counts = vectorizer.fit_transform(X_train)  \n",
    "X_test_counts = vectorizer.transform(X_test)  \n",
    "\n",
    "print(\"CountVectorizer Feature Extraction\")\n",
    "print(\"X train before\", X_train.shape)\n",
    "print(\"X train after\", X_train_counts.shape)\n",
    "\n",
    "# Step 3: Train the model\n",
    "print(\"\\nTraining the model...\")\n",
    "model = LogisticRegression(solver='saga', max_iter=1000)\n",
    "model.fit(X_train_counts, y_train)  \n",
    "print(\"Training done\")\n",
    "\n",
    "# Step 4 predict\n",
    "y_pred = model.predict(X_test_counts)  \n",
    "\n",
    "print(f\"\\nAccuracy: {accuracy_score(y_test, y_pred)*100:.2f}%\")  "
   ]
  },
  {
   "cell_type": "markdown",
   "metadata": {},
   "source": [
    "### Export"
   ]
  },
  {
   "cell_type": "code",
   "execution_count": null,
   "metadata": {},
   "outputs": [],
   "source": [
    "# Save the trained model and CountVectorizer object  \n",
    "with open('simple_sentiment_model.pkl', 'wb') as file:  \n",
    "    pickle.dump(model, file)  \n",
    "  \n",
    "with open('simple_count_vectorizer.pkl', 'wb') as file:  \n",
    "    pickle.dump(vectorizer, file)  "
   ]
  },
  {
   "cell_type": "code",
   "execution_count": null,
   "metadata": {},
   "outputs": [],
   "source": [
    "# Predict sentiments for the test set  \n",
    "# model.predict([\"I am not happy this is bad news\"])  \n",
    "local_test = vectorizer.transform([\"i am so happy this is good news!\"])\n",
    "local_pred = model.predict(local_test)  \n",
    "local_pred"
   ]
  }
 ],
 "metadata": {
  "kernelspec": {
   "display_name": "Python 3",
   "language": "python",
   "name": "python3"
  },
  "language_info": {
   "codemirror_mode": {
    "name": "ipython",
    "version": 3
   },
   "file_extension": ".py",
   "mimetype": "text/x-python",
   "name": "python",
   "nbconvert_exporter": "python",
   "pygments_lexer": "ipython3",
   "version": "3.11.7"
  }
 },
 "nbformat": 4,
 "nbformat_minor": 2
}
