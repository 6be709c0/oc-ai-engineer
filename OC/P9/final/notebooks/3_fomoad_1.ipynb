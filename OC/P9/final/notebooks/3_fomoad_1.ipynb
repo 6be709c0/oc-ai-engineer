{
 "cells": [
  {
   "cell_type": "markdown",
   "metadata": {},
   "source": [
    "# FOMO-AD Model For Anomaly Detection"
   ]
  },
  {
   "cell_type": "markdown",
   "metadata": {},
   "source": [
    "## Introduction"
   ]
  },
  {
   "cell_type": "markdown",
   "metadata": {},
   "source": [
    "## Before running the notebook"
   ]
  },
  {
   "cell_type": "markdown",
   "metadata": {},
   "source": [
    "Let's prepare the environement before running the notebook.  \n",
    "Run the following command in the terminal from the **`final`** folder.\n",
    "\n",
    "```sh\n",
    "conda create -p envs/3_fomoad python=3.11.7 -y\n",
    "conda activate envs/3_fomoad\n",
    "\n",
    "pip install -r requirements/3_fomoad.txt\n",
    "```"
   ]
  },
  {
   "cell_type": "markdown",
   "metadata": {},
   "source": [
    "## Login"
   ]
  },
  {
   "cell_type": "code",
   "execution_count": 64,
   "metadata": {},
   "outputs": [],
   "source": [
    "import edgeimpulse_api as ei_api\n",
    "import os\n",
    "from dotenv import load_dotenv\n",
    "import random  \n",
    "import requests  \n",
    "import json  \n",
    "\n",
    "load_dotenv()\n",
    "\n",
    "cfg = {\n",
    "    \"project_name\": \"FOMO-AD-cookies-1\",\n",
    "    \"dataset_path\": \"datasets/cookies_1\",\n",
    "    \"project_api_key\": os.getenv(\"EDGE_IMPULSE_API_KEY_FOMO_AD_COOKIES_1\"),\n",
    "    \"project_api_key_dev\": os.getenv(\"EDGE_IMPULSE_API_KEY_FOMO_AD_COOKIES_1_DEV\"),\n",
    "    \n",
    "    \"output_path\": \"../output/fomoad_1.eim\",\n",
    "    \n",
    "    # Only if you want to find the best FOMO config for the training\n",
    "    # If you don't want, set the value to 0, it will train the model with default parameters\n",
    "    # organization_api_key and pipeline_id don't need to be set if the value is 0 for organization_id\n",
    "    \"organization_id\": 105154,\n",
    "    \"organization_api_key\": os.getenv(\"EDGE_IMPULSE_API_KEY_ORGANISATION\"),\n",
    "    \"pipeline_id\": 3923 \n",
    "}"
   ]
  },
  {
   "cell_type": "code",
   "execution_count": null,
   "metadata": {},
   "outputs": [],
   "source": [
    "def login():\n",
    "    url = \"https://studio.edgeimpulse.com/v1/api-login\"  \n",
    "    payload = json.dumps({  \n",
    "        \"username\": os.getenv(\"EDGE_IMPULSE_USERNAME\"),\n",
    "        \"password\": os.getenv(\"EDGE_IMPULSE_PASSWORD\") \n",
    "    })  \n",
    "    headers = {  \n",
    "        'content-type': \"application/json\"\n",
    "    }  \n",
    "    \n",
    "    response = requests.post(url, data=payload, headers=headers)\n",
    "    res = response.json()\n",
    "\n",
    "    print(\"Res\", res)\n",
    "    return res[\"token\"]\n",
    "\n",
    "token = login()"
   ]
  },
  {
   "cell_type": "markdown",
   "metadata": {},
   "source": [
    "## Get active projects"
   ]
  },
  {
   "cell_type": "code",
   "execution_count": 3,
   "metadata": {},
   "outputs": [
    {
     "name": "stdout",
     "output_type": "stream",
     "text": [
      "{'success': True, 'projects': [{'id': 368890, 'name': 'callmemath-pro-project-1', 'description': 'This is your Edge Impulse project. From here you acquire new training data, design impulses and train models.', 'created': '2024-03-22T10:12:59.638Z', 'lastAccessed': '2024-04-16T09:24:46.807Z', 'owner': 'math-pro', 'collaborators': [{'id': 175414, 'created': '2024-03-22T10:12:59.638Z', 'staffInfo': {'isStaff': False, 'hasSudoRights': False, 'isTestuser': False}, 'name': 'math-pro', 'username': 'callmemath-pro', 'email': 'math@lescaudron.com', 'photo': '', 'pending': False, 'isOwner': True, 'activated': True, 'mfaConfigured': False}], 'labelingMethod': 'single_label', 'metadata': {}, 'isEnterpriseProject': False, 'whitelabelId': None, 'tier': 'free', 'hasPublicVersion': False, 'isPublic': False, 'allowsLivePublicAccess': False, 'ownerIsDeveloperProfile': True, 'developerProfileUserId': 175414, 'ownerOrganizationId': 101592, 'indPauseProcessingSamples': False, 'publicProjectListed': True}, {'id': 369651, 'name': 'fork-spoon-classification-v1', 'description': 'This is your Edge Impulse project. From here you acquire new training data, design impulses and train models.', 'created': '2024-03-23T18:32:43.662Z', 'lastAccessed': '2024-03-25T14:53:21.194Z', 'owner': 'math-pro', 'collaborators': [{'id': 175414, 'created': '2024-03-23T18:32:43.662Z', 'staffInfo': {'isStaff': False, 'hasSudoRights': False, 'isTestuser': False}, 'name': 'math-pro', 'username': 'callmemath-pro', 'email': 'math@lescaudron.com', 'photo': '', 'pending': False, 'isOwner': True, 'activated': True, 'mfaConfigured': False}], 'labelingMethod': 'single_label', 'metadata': {}, 'isEnterpriseProject': False, 'whitelabelId': None, 'tier': 'free', 'hasPublicVersion': False, 'isPublic': False, 'allowsLivePublicAccess': True, 'ownerIsDeveloperProfile': True, 'developerProfileUserId': 175414, 'ownerOrganizationId': 101592, 'indPauseProcessingSamples': False, 'publicProjectListed': True}, {'id': 369660, 'name': 'orange-banana-classification-basic', 'description': 'This is your Edge Impulse project. From here you acquire new training data, design impulses and train models.', 'created': '2024-03-23T18:49:26.572Z', 'lastAccessed': '2024-04-11T16:40:12.264Z', 'owner': 'math-pro', 'collaborators': [{'id': 175414, 'created': '2024-03-23T18:49:26.572Z', 'staffInfo': {'isStaff': False, 'hasSudoRights': False, 'isTestuser': False}, 'name': 'math-pro', 'username': 'callmemath-pro', 'email': 'math@lescaudron.com', 'photo': '', 'pending': False, 'isOwner': True, 'activated': True, 'mfaConfigured': False}], 'labelingMethod': 'single_label', 'metadata': {}, 'isEnterpriseProject': False, 'whitelabelId': None, 'tier': 'free', 'hasPublicVersion': True, 'isPublic': False, 'allowsLivePublicAccess': True, 'ownerIsDeveloperProfile': True, 'developerProfileUserId': 175414, 'ownerOrganizationId': 101592, 'indPauseProcessingSamples': False, 'publicProjectListed': True}, {'id': 370483, 'name': 'test-learning-block', 'description': 'This is your Edge Impulse project. From here you acquire new training data, design impulses and train models.', 'created': '2024-03-25T19:51:42.606Z', 'lastAccessed': '2024-04-11T08:57:57.778Z', 'owner': 'Math_Expert-Network', 'collaborators': [{'id': 17499, 'created': '2024-03-25T19:51:42.606Z', 'staffInfo': {'isStaff': True, 'hasSudoRights': True, 'isTestuser': False, 'companyName': 'Edge Impulse'}, 'name': 'Louis Moreau', 'username': 'louis', 'email': 'louis@edgeimpulse.com', 'photo': 'https://usercdn.edgeimpulse.com/17499/953d9dcfff21ba43519485c9f6db7da19403dd3a7b78fbbc85e2633a50a2b421', 'pending': False, 'isOwner': False, 'activated': True, 'mfaConfigured': True}, {'id': 175414, 'created': '2024-03-25T19:51:42.606Z', 'staffInfo': {'isStaff': False, 'hasSudoRights': False, 'isTestuser': False}, 'name': 'math-pro', 'username': 'callmemath-pro', 'email': 'math@lescaudron.com', 'photo': '', 'pending': False, 'isOwner': False, 'activated': True, 'mfaConfigured': False}], 'labelingMethod': 'single_label', 'metadata': {}, 'isEnterpriseProject': True, 'whitelabelId': None, 'tier': 'enterprise', 'hasPublicVersion': False, 'isPublic': False, 'allowsLivePublicAccess': False, 'ownerIsDeveloperProfile': False, 'ownerOrganizationId': 105154, 'indPauseProcessingSamples': False, 'publicProjectListed': True}, {'id': 370697, 'name': 'test-processing-blocks', 'description': 'This is your Edge Impulse project. From here you acquire new training data, design impulses and train models.', 'created': '2024-03-26T08:47:50.575Z', 'lastAccessed': '2024-03-26T09:37:45.883Z', 'owner': 'Math_Expert-Network', 'collaborators': [{'id': 17499, 'created': '2024-03-26T08:47:50.575Z', 'staffInfo': {'isStaff': True, 'hasSudoRights': True, 'isTestuser': False, 'companyName': 'Edge Impulse'}, 'name': 'Louis Moreau', 'username': 'louis', 'email': 'louis@edgeimpulse.com', 'photo': 'https://usercdn.edgeimpulse.com/17499/953d9dcfff21ba43519485c9f6db7da19403dd3a7b78fbbc85e2633a50a2b421', 'pending': False, 'isOwner': False, 'activated': True, 'mfaConfigured': True}, {'id': 175414, 'created': '2024-03-26T08:47:50.575Z', 'staffInfo': {'isStaff': False, 'hasSudoRights': False, 'isTestuser': False}, 'name': 'math-pro', 'username': 'callmemath-pro', 'email': 'math@lescaudron.com', 'photo': '', 'pending': False, 'isOwner': False, 'activated': True, 'mfaConfigured': False}], 'labelingMethod': 'single_label', 'metadata': {}, 'isEnterpriseProject': True, 'whitelabelId': None, 'tier': 'enterprise', 'hasPublicVersion': False, 'isPublic': False, 'allowsLivePublicAccess': False, 'ownerIsDeveloperProfile': False, 'ownerOrganizationId': 105154, 'indPauseProcessingSamples': False, 'publicProjectListed': True}, {'id': 370751, 'name': 'test-byom', 'description': 'This is your Edge Impulse project. From here you acquire new training data, design impulses and train models.', 'created': '2024-03-26T10:29:33.784Z', 'lastAccessed': '2024-04-10T15:21:48.892Z', 'owner': 'Math_Expert-Network', 'collaborators': [{'id': 17499, 'created': '2024-03-26T10:29:33.784Z', 'staffInfo': {'isStaff': True, 'hasSudoRights': True, 'isTestuser': False, 'companyName': 'Edge Impulse'}, 'name': 'Louis Moreau', 'username': 'louis', 'email': 'louis@edgeimpulse.com', 'photo': 'https://usercdn.edgeimpulse.com/17499/953d9dcfff21ba43519485c9f6db7da19403dd3a7b78fbbc85e2633a50a2b421', 'pending': False, 'isOwner': False, 'activated': True, 'mfaConfigured': True}, {'id': 175414, 'created': '2024-03-26T10:29:33.784Z', 'staffInfo': {'isStaff': False, 'hasSudoRights': False, 'isTestuser': False}, 'name': 'math-pro', 'username': 'callmemath-pro', 'email': 'math@lescaudron.com', 'photo': '', 'pending': False, 'isOwner': False, 'activated': True, 'mfaConfigured': False}], 'labelingMethod': 'single_label', 'metadata': {}, 'isEnterpriseProject': True, 'whitelabelId': None, 'tier': 'enterprise', 'hasPublicVersion': False, 'isPublic': False, 'allowsLivePublicAccess': False, 'ownerIsDeveloperProfile': False, 'ownerOrganizationId': 105154, 'indPauseProcessingSamples': False, 'publicProjectListed': True}, {'id': 371766, 'name': 'FOMO-AD-cookies-2', 'description': 'Anomaly Detection model using FOMO AD on cookies dataset type 2', 'created': '2024-03-28T09:42:01.957Z', 'lastAccessed': '2024-04-17T15:32:17.763Z', 'owner': 'Math_Expert-Network', 'collaborators': [{'id': 17499, 'created': '2024-03-28T09:42:01.957Z', 'staffInfo': {'isStaff': True, 'hasSudoRights': True, 'isTestuser': False, 'companyName': 'Edge Impulse'}, 'name': 'Louis Moreau', 'username': 'louis', 'email': 'louis@edgeimpulse.com', 'photo': 'https://usercdn.edgeimpulse.com/17499/953d9dcfff21ba43519485c9f6db7da19403dd3a7b78fbbc85e2633a50a2b421', 'pending': False, 'isOwner': False, 'activated': True, 'mfaConfigured': True}, {'id': 175414, 'created': '2024-03-28T09:42:01.957Z', 'staffInfo': {'isStaff': False, 'hasSudoRights': False, 'isTestuser': False}, 'name': 'math-pro', 'username': 'callmemath-pro', 'email': 'math@lescaudron.com', 'photo': '', 'pending': False, 'isOwner': False, 'activated': True, 'mfaConfigured': False}], 'labelingMethod': 'single_label', 'metadata': {}, 'isEnterpriseProject': True, 'whitelabelId': None, 'tier': 'enterprise', 'hasPublicVersion': False, 'isPublic': False, 'allowsLivePublicAccess': False, 'ownerIsDeveloperProfile': False, 'ownerOrganizationId': 105154, 'indPauseProcessingSamples': False, 'publicProjectListed': True}, {'id': 376268, 'name': 'FOMO-AD-cookies-3', 'description': 'Anomaly Detection model using FOMO AD on cookies dataset type 3', 'created': '2024-04-08T13:55:32.113Z', 'lastAccessed': '2024-04-17T15:32:44.257Z', 'owner': 'Math_Expert-Network', 'collaborators': [{'id': 17499, 'created': '2024-04-08T13:55:32.113Z', 'staffInfo': {'isStaff': True, 'hasSudoRights': True, 'isTestuser': False, 'companyName': 'Edge Impulse'}, 'name': 'Louis Moreau', 'username': 'louis', 'email': 'louis@edgeimpulse.com', 'photo': 'https://usercdn.edgeimpulse.com/17499/953d9dcfff21ba43519485c9f6db7da19403dd3a7b78fbbc85e2633a50a2b421', 'pending': False, 'isOwner': False, 'activated': True, 'mfaConfigured': True}, {'id': 175414, 'created': '2024-04-08T13:55:32.113Z', 'staffInfo': {'isStaff': False, 'hasSudoRights': False, 'isTestuser': False}, 'name': 'math-pro', 'username': 'callmemath-pro', 'email': 'math@lescaudron.com', 'photo': '', 'pending': False, 'isOwner': False, 'activated': True, 'mfaConfigured': False}], 'labelingMethod': 'single_label', 'metadata': {}, 'isEnterpriseProject': True, 'whitelabelId': None, 'tier': 'enterprise', 'hasPublicVersion': False, 'isPublic': False, 'allowsLivePublicAccess': False, 'ownerIsDeveloperProfile': False, 'ownerOrganizationId': 105154, 'indPauseProcessingSamples': False, 'publicProjectListed': True}, {'id': 377841, 'name': 'FOMO-AD-cookies-1', 'description': 'Anomaly Detection model using FOMO AD on cookies dataset type 1', 'created': '2024-04-11T08:58:32.824Z', 'lastAccessed': '2024-04-17T15:32:32.087Z', 'owner': 'Math_Expert-Network', 'collaborators': [{'id': 17499, 'created': '2024-04-11T08:58:32.824Z', 'staffInfo': {'isStaff': True, 'hasSudoRights': True, 'isTestuser': False, 'companyName': 'Edge Impulse'}, 'name': 'Louis Moreau', 'username': 'louis', 'email': 'louis@edgeimpulse.com', 'photo': 'https://usercdn.edgeimpulse.com/17499/953d9dcfff21ba43519485c9f6db7da19403dd3a7b78fbbc85e2633a50a2b421', 'pending': False, 'isOwner': False, 'activated': True, 'mfaConfigured': True}, {'id': 175414, 'created': '2024-04-11T08:58:32.824Z', 'staffInfo': {'isStaff': False, 'hasSudoRights': False, 'isTestuser': False}, 'name': 'math-pro', 'username': 'callmemath-pro', 'email': 'math@lescaudron.com', 'photo': '', 'pending': False, 'isOwner': False, 'activated': True, 'mfaConfigured': False}], 'labelingMethod': 'single_label', 'metadata': {}, 'isEnterpriseProject': True, 'whitelabelId': None, 'tier': 'enterprise', 'hasPublicVersion': False, 'isPublic': False, 'allowsLivePublicAccess': False, 'ownerIsDeveloperProfile': False, 'ownerOrganizationId': 105154, 'indPauseProcessingSamples': False, 'publicProjectListed': True}, {'id': 377843, 'name': 'BYOM-CLASSIFIER-AD-Cookies', 'description': 'This is your Edge Impulse project. From here you acquire new training data, design impulses and train models.', 'created': '2024-04-11T09:00:28.041Z', 'lastAccessed': '2024-04-16T18:16:29.826Z', 'owner': 'Math_Expert-Network', 'collaborators': [{'id': 175414, 'created': '2024-04-11T09:00:28.041Z', 'staffInfo': {'isStaff': False, 'hasSudoRights': False, 'isTestuser': False}, 'name': 'math-pro', 'username': 'callmemath-pro', 'email': 'math@lescaudron.com', 'photo': '', 'pending': False, 'isOwner': False, 'activated': True, 'mfaConfigured': False}], 'labelingMethod': 'single_label', 'metadata': {}, 'isEnterpriseProject': True, 'whitelabelId': None, 'tier': 'enterprise', 'hasPublicVersion': False, 'isPublic': False, 'allowsLivePublicAccess': False, 'ownerIsDeveloperProfile': False, 'ownerOrganizationId': 105154, 'indPauseProcessingSamples': False, 'publicProjectListed': True}, {'id': 378112, 'name': 'orange-banana-classification-basic-byom', 'description': 'This is your Edge Impulse project. From here you acquire new training data, design impulses and train models.', 'created': '2024-04-11T16:40:21.952Z', 'lastAccessed': '2024-04-16T08:18:35.390Z', 'owner': 'math-pro', 'collaborators': [{'id': 175414, 'created': '2024-04-11T16:40:21.952Z', 'staffInfo': {'isStaff': False, 'hasSudoRights': False, 'isTestuser': False}, 'name': 'math-pro', 'username': 'callmemath-pro', 'email': 'math@lescaudron.com', 'photo': '', 'pending': False, 'isOwner': True, 'activated': True, 'mfaConfigured': False}], 'labelingMethod': 'single_label', 'metadata': {}, 'isEnterpriseProject': False, 'whitelabelId': None, 'tier': 'free', 'hasPublicVersion': False, 'isPublic': False, 'allowsLivePublicAccess': False, 'ownerIsDeveloperProfile': True, 'developerProfileUserId': 175414, 'ownerOrganizationId': 101592, 'indPauseProcessingSamples': False, 'publicProjectListed': True}, {'id': 379936, 'name': 'classification-cookies-ad', 'description': 'This is your Edge Impulse project. From here you acquire new training data, design impulses and train models.', 'created': '2024-04-15T14:58:39.891Z', 'lastAccessed': '2024-04-16T10:13:56.391Z', 'owner': 'Edge Impulse Experts', 'collaborators': [{'id': 175414, 'created': '2024-04-15T14:58:39.891Z', 'staffInfo': {'isStaff': False, 'hasSudoRights': False, 'isTestuser': False}, 'name': 'math-pro', 'username': 'callmemath-pro', 'email': 'math@lescaudron.com', 'photo': '', 'pending': False, 'isOwner': False, 'activated': True, 'mfaConfigured': False}], 'labelingMethod': 'single_label', 'metadata': {}, 'isEnterpriseProject': True, 'whitelabelId': None, 'tier': 'enterprise', 'hasPublicVersion': False, 'isPublic': False, 'allowsLivePublicAccess': False, 'ownerIsDeveloperProfile': False, 'ownerOrganizationId': 1771, 'indPauseProcessingSamples': False, 'publicProjectListed': True}]}\n"
     ]
    }
   ],
   "source": [
    "def get_active_projects():\n",
    "    response = requests.get(\"https://studio.edgeimpulse.com/v1/api/projects\", headers={\"x-jwt-token\": token})\n",
    "    res = response.json()\n",
    "    print(res)\n",
    "    return res[\"projects\"]\n",
    "    \n",
    "projects = get_active_projects()"
   ]
  },
  {
   "cell_type": "code",
   "execution_count": 4,
   "metadata": {},
   "outputs": [
    {
     "name": "stdout",
     "output_type": "stream",
     "text": [
      "ID: 371766\n",
      "Name: FOMO-AD-cookies-2\n",
      "Description: Anomaly Detection model using FOMO AD on cookies dataset type 2\n"
     ]
    }
   ],
   "source": [
    "project = next((project for project in projects if project['name'] == cfg[\"project_name\"]), None)\n",
    "\n",
    "print(\"ID:\", project[\"id\"])\n",
    "print(\"Name:\", project[\"name\"])\n",
    "print(\"Description:\", project[\"description\"])"
   ]
  },
  {
   "cell_type": "markdown",
   "metadata": {},
   "source": [
    "## Data upload"
   ]
  },
  {
   "cell_type": "code",
   "execution_count": 5,
   "metadata": {},
   "outputs": [
    {
     "name": "stdout",
     "output_type": "stream",
     "text": [
      "train_good_cookies len 80\n",
      "test_good_cookies len 20\n",
      "Uploading good cookies training\n",
      "Uploaded file(s) to Edge Impulse\n",
      " 200 b'{\"success\":true,\"files\":[{\"success\":true,\"projectId\":371766,\"sampleId\":933288167,\"fileName\":\"20240417_133252.jpg.4rivljks.json\"},{\"success\":true,\"projectId\":371766,\"sampleId\":933288169,\"fileName\":\"20240417_133534.jpg.4rivljq2.json\"},{\"success\":true,\"projectId\":371766,\"sampleId\":933288171,\"fileName\":\"20240417_133619.jpg.4rivlk06.json\"},{\"success\":true,\"projectId\":371766,\"sampleId\":933288173,\"fileName\":\"20240417_133159.jpg.4rivlk43.json\"},{\"success\":true,\"projectId\":371766,\"sampleId\":933288175,\"fileName\":\"20240417_133134.jpg.4rivlk7j.json\"},{\"success\":true,\"projectId\":371766,\"sampleId\":933288177,\"fileName\":\"20240417_133536.jpg.4rivlkco.json\"},{\"success\":true,\"projectId\":371766,\"sampleId\":933288179,\"fileName\":\"20240417_133403.jpg.4rivlkhd.json\"},{\"success\":true,\"projectId\":371766,\"sampleId\":933288181,\"fileName\":\"20240417_133647.jpg.4rivlkoa.json\"},{\"success\":true,\"projectId\":371766,\"sampleId\":933288183,\"fileName\":\"20240417_133638.jpg.4rivlktb.json\"},{\"success\":true,\"projectId\":371766,\"sampleId\":933288185,\"fileName\":\"20240417_133621.jpg.4rivll28.json\"},{\"success\":true,\"projectId\":371766,\"sampleId\":933288187,\"fileName\":\"20240417_133556.jpg.4rivll6u.json\"},{\"success\":true,\"projectId\":371766,\"sampleId\":933288189,\"fileName\":\"20240417_133617.jpg.4rivllc5.json\"},{\"success\":true,\"projectId\":371766,\"sampleId\":933288191,\"fileName\":\"20240417_133447.jpg.4rivlliu.json\"},{\"success\":true,\"projectId\":371766,\"sampleId\":933288193,\"fileName\":\"20240417_133321.jpg.4rivllnb.json\"},{\"success\":true,\"projectId\":371766,\"sampleId\":933288195,\"fileName\":\"20240417_133422.jpg.4rivllrq.json\"},{\"success\":true,\"projectId\":371766,\"sampleId\":933288218,\"fileName\":\"20240417_133642.jpg.4rivlm0t.json\"},{\"success\":true,\"projectId\":371766,\"sampleId\":933288220,\"fileName\":\"20240417_133456.jpg.4rivlmb9.json\"},{\"success\":true,\"projectId\":371766,\"sampleId\":933288223,\"fileName\":\"20240417_133157.jpg.4rivlmfo.json\"},{\"success\":true,\"projectId\":371766,\"sampleId\":933288240,\"fileName\":\"20240417_133027.jpg.4rivlmlc.json\"},{\"success\":true,\"projectId\":371766,\"sampleId\":933288248,\"fileName\":\"20240417_133510.jpg.4rivlmtm.json\"},{\"success\":true,\"projectId\":371766,\"sampleId\":933288250,\"fileName\":\"20240417_133258.jpg.4rivln1j.json\"},{\"success\":true,\"projectId\":371766,\"sampleId\":933288255,\"fileName\":\"20240417_133528.jpg.4rivln43.json\"},{\"success\":true,\"projectId\":371766,\"sampleId\":933288273,\"fileName\":\"20240417_133328.jpg.4rivln89.json\"},{\"success\":true,\"projectId\":371766,\"sampleId\":933288281,\"fileName\":\"20240417_133208.jpg.4rivlneh.json\"},{\"success\":true,\"projectId\":371766,\"sampleId\":933288298,\"fileName\":\"20240417_133025.jpg.4rivlnhr.json\"},{\"success\":true,\"projectId\":371766,\"sampleId\":933288328,\"fileName\":\"20240417_133330.jpg.4rivlnlg.json\"},{\"success\":true,\"projectId\":371766,\"sampleId\":933288373,\"fileName\":\"20240417_133408.jpg.4rivlnru.json\"},{\"success\":true,\"projectId\":371766,\"sampleId\":933288389,\"fileName\":\"20240417_133105.jpg.4rivlo3e.json\"},{\"success\":true,\"projectId\":371766,\"sampleId\":933288396,\"fileName\":\"20240417_133154.jpg.4rivlo7b.json\"},{\"success\":true,\"projectId\":371766,\"sampleId\":933288409,\"fileName\":\"20240417_133300.jpg.4rivlobi.json\"},{\"success\":true,\"projectId\":371766,\"sampleId\":933288423,\"fileName\":\"20240417_133212.jpg.4rivlog2.json\"},{\"success\":true,\"projectId\":371766,\"sampleId\":933288434,\"fileName\":\"20240417_133132.jpg.4rivlomq.json\"},{\"success\":true,\"projectId\":371766,\"sampleId\":933288448,\"fileName\":\"20240417_133241.jpg.4rivloso.json\"},{\"success\":true,\"projectId\":371766,\"sampleId\":933288455,\"fileName\":\"20240417_133136.jpg.4rivlp1k.json\"},{\"success\":true,\"projectId\":371766,\"sampleId\":933288467,\"fileName\":\"20240417_133218.jpg.4rivlp5q.json\"},{\"success\":true,\"projectId\":371766,\"sampleId\":933288479,\"fileName\":\"20240417_133332.jpg.4rivlpaf.json\"},{\"success\":true,\"projectId\":371766,\"sampleId\":933288492,\"fileName\":\"20240417_133432.jpg.4rivlpg8.json\"},{\"success\":true,\"projectId\":371766,\"sampleId\":933288505,\"fileName\":\"20240417_133052.jpg.4rivlplj.json\"},{\"success\":true,\"projectId\":371766,\"sampleId\":933288515,\"fileName\":\"20240417_133150.jpg.4rivlpqm.json\"},{\"success\":true,\"projectId\":371766,\"sampleId\":933288533,\"fileName\":\"20240417_133405.jpg.4rivlq0a.json\"},{\"success\":true,\"projectId\":371766,\"sampleId\":933288540,\"fileName\":\"20240417_133249.jpg.4rivlq67.json\"},{\"success\":true,\"projectId\":371766,\"sampleId\":933288543,\"fileName\":\"20240417_133515.jpg.4rivlqaa.json\"},{\"success\":true,\"projectId\":371766,\"sampleId\":933288548,\"fileName\":\"20240417_133643.jpg.4rivlqer.json\"},{\"success\":true,\"projectId\":371766,\"sampleId\":933288551,\"fileName\":\"20240417_133508.jpg.4rivlqil.json\"},{\"success\":true,\"projectId\":371766,\"sampleId\":933288554,\"fileName\":\"20240417_133215.jpg.4rivlqn3.json\"},{\"success\":true,\"projectId\":371766,\"sampleId\":933288559,\"fileName\":\"20240417_133256.jpg.4rivlqr2.json\"},{\"success\":true,\"projectId\":371766,\"sampleId\":933288561,\"fileName\":\"20240417_133254.jpg.4rivlr0t.json\"},{\"success\":true,\"projectId\":371766,\"sampleId\":933288564,\"fileName\":\"20240417_133532.jpg.4rivlr54.json\"},{\"success\":true,\"projectId\":371766,\"sampleId\":933288568,\"fileName\":\"20240417_133428.jpg.4rivlr9s.json\"},{\"success\":true,\"projectId\":371766,\"sampleId\":933288571,\"fileName\":\"20240417_133314.jpg.4rivlrf5.json\"},{\"success\":true,\"projectId\":371766,\"sampleId\":933288575,\"fileName\":\"20240417_133624.jpg.4rivlrkf.json\"},{\"success\":true,\"projectId\":371766,\"sampleId\":933288578,\"fileName\":\"20240417_133130.jpg.4rivlrog.json\"},{\"success\":true,\"projectId\":371766,\"sampleId\":933288580,\"fileName\":\"20240417_133238.jpg.4rivlrtb.json\"},{\"success\":true,\"projectId\":371766,\"sampleId\":933288583,\"fileName\":\"20240417_133522.jpg.4rivls18.json\"},{\"success\":true,\"projectId\":371766,\"sampleId\":933288587,\"fileName\":\"20240417_133412.jpg.4rivls5j.json\"},{\"success\":true,\"projectId\":371766,\"sampleId\":933288590,\"fileName\":\"20240417_133316.jpg.4rivlsat.json\"},{\"success\":true,\"projectId\":371766,\"sampleId\":933288594,\"fileName\":\"20240417_133453.jpg.4rivlsgj.json\"},{\"success\":true,\"projectId\":371766,\"sampleId\":933288597,\"fileName\":\"20240417_133445.jpg.4rivlskp.json\"},{\"success\":true,\"projectId\":371766,\"sampleId\":933288600,\"fileName\":\"20240417_133058.jpg.4rivlso7.json\"},{\"success\":true,\"projectId\":371766,\"sampleId\":933288601,\"fileName\":\"20240417_133452.jpg.4rivlsu5.json\"},{\"success\":true,\"projectId\":371766,\"sampleId\":933288606,\"fileName\":\"20240417_133449.jpg.4rivlt2h.json\"},{\"success\":true,\"projectId\":371766,\"sampleId\":933288612,\"fileName\":\"20240417_133602.jpg.4rivlt7r.json\"},{\"success\":true,\"projectId\":371766,\"sampleId\":933288632,\"fileName\":\"20240417_133414.jpg.4rivltfu.json\"},{\"success\":true,\"projectId\":371766,\"sampleId\":933288635,\"fileName\":\"20240417_133055.jpg.4rivltmn.json\"},{\"success\":true,\"projectId\":371766,\"sampleId\":933288645,\"fileName\":\"20240417_133554.jpg.4rivltsf.json\"},{\"success\":true,\"projectId\":371766,\"sampleId\":933288661,\"fileName\":\"20240417_133605.jpg.4rivlu1g.json\"},{\"success\":true,\"projectId\":371766,\"sampleId\":933288665,\"fileName\":\"20240417_133147.jpg.4rivlu6u.json\"},{\"success\":true,\"projectId\":371766,\"sampleId\":933288678,\"fileName\":\"20240417_133520.jpg.4rivlub6.json\"},{\"success\":true,\"projectId\":371766,\"sampleId\":933288694,\"fileName\":\"20240417_133020.jpg.4rivluiv.json\"},{\"success\":true,\"projectId\":371766,\"sampleId\":933288700,\"fileName\":\"20240417_133138.jpg.4rivluqh.json\"},{\"success\":true,\"projectId\":371766,\"sampleId\":933288708,\"fileName\":\"20240417_133615.jpg.4rivluul.json\"},{\"success\":true,\"projectId\":371766,\"sampleId\":933288726,\"fileName\":\"20240417_133234.jpg.4rivlv4r.json\"},{\"success\":true,\"projectId\":371766,\"sampleId\":933288732,\"fileName\":\"20240417_133335.jpg.4rivlvb1.json\"},{\"success\":true,\"projectId\":371766,\"sampleId\":933288743,\"fileName\":\"20240417_133221.jpg.4rivlvfp.json\"},{\"success\":true,\"projectId\":371766,\"sampleId\":933288753,\"fileName\":\"20240417_133645.jpg.4rivlvl0.json\"},{\"success\":true,\"projectId\":371766,\"sampleId\":933288761,\"fileName\":\"20240417_133236.jpg.4rivlvoe.json\"},{\"success\":true,\"projectId\":371766,\"sampleId\":933288771,\"fileName\":\"20240417_133307.jpg.4rivlvt4.json\"},{\"success\":true,\"projectId\":371766,\"sampleId\":933288784,\"fileName\":\"20240417_133152.jpg.4rivm02v.json\"},{\"success\":true,\"projectId\":371766,\"sampleId\":933288795,\"fileName\":\"20240417_133434.jpg.4rivm07l.json\"},{\"success\":true,\"projectId\":371766,\"sampleId\":933288806,\"fileName\":\"20240417_133225.jpg.4rivm0c4.json\"}]}'\n",
      "Uploading good cookies testing\n",
      "Uploaded file(s) to Edge Impulse\n",
      " 200 b'{\"success\":true,\"files\":[{\"success\":true,\"projectId\":371766,\"sampleId\":933288861,\"fileName\":\"20240417_133108.jpg.4rivm152.json\"},{\"success\":true,\"projectId\":371766,\"sampleId\":933288871,\"fileName\":\"20240417_133339.jpg.4rivm1bq.json\"},{\"success\":true,\"projectId\":371766,\"sampleId\":933288880,\"fileName\":\"20240417_133649.jpg.4rivm1gg.json\"},{\"success\":true,\"projectId\":371766,\"sampleId\":933288886,\"fileName\":\"20240417_133430.jpg.4rivm1jl.json\"},{\"success\":true,\"projectId\":371766,\"sampleId\":933288904,\"fileName\":\"20240417_133426.jpg.4rivm1nu.json\"},{\"success\":true,\"projectId\":371766,\"sampleId\":933288915,\"fileName\":\"20240417_133600.jpg.4rivm1tc.json\"},{\"success\":true,\"projectId\":371766,\"sampleId\":933288929,\"fileName\":\"20240417_133309.jpg.4rivm24f.json\"},{\"success\":true,\"projectId\":371766,\"sampleId\":933288935,\"fileName\":\"20240417_133032.jpg.4rivm28g.json\"},{\"success\":true,\"projectId\":371766,\"sampleId\":933288951,\"fileName\":\"20240417_133613.jpg.4rivm2cn.json\"},{\"success\":true,\"projectId\":371766,\"sampleId\":933288962,\"fileName\":\"20240417_133337.jpg.4rivm2js.json\"},{\"success\":true,\"projectId\":371766,\"sampleId\":933288972,\"fileName\":\"20240417_133140.jpg.4rivm2p4.json\"},{\"success\":true,\"projectId\":371766,\"sampleId\":933288990,\"fileName\":\"20240417_133558.jpg.4rivm2v5.json\"},{\"success\":true,\"projectId\":371766,\"sampleId\":933289001,\"fileName\":\"20240417_133228.jpg.4rivm37r.json\"},{\"success\":true,\"projectId\":371766,\"sampleId\":933289019,\"fileName\":\"20240417_133311.jpg.4rivm3dk.json\"},{\"success\":true,\"projectId\":371766,\"sampleId\":933289031,\"fileName\":\"20240417_133102.jpg.4rivm3ma.json\"},{\"success\":true,\"projectId\":371766,\"sampleId\":933289038,\"fileName\":\"20240417_133512.jpg.4rivm3qg.json\"},{\"success\":true,\"projectId\":371766,\"sampleId\":933289053,\"fileName\":\"20240417_133023.jpg.4rivm3uv.json\"},{\"success\":true,\"projectId\":371766,\"sampleId\":933289062,\"fileName\":\"20240417_133210.jpg.4rivm449.json\"},{\"success\":true,\"projectId\":371766,\"sampleId\":933289070,\"fileName\":\"20240417_133410.jpg.4rivm486.json\"},{\"success\":true,\"projectId\":371766,\"sampleId\":933289088,\"fileName\":\"20240417_133030.jpg.4rivm4cn.json\"}]}'\n",
      "all_defect_cookies 100\n",
      "Uploading defect cookies testing\n",
      "Uploaded file(s) to Edge Impulse\n",
      " 200 b'{\"success\":true,\"files\":[{\"success\":true,\"projectId\":371766,\"sampleId\":933289142,\"fileName\":\"20240417_141240.jpg.4rivm5b0.json\"},{\"success\":true,\"projectId\":371766,\"sampleId\":933289155,\"fileName\":\"20240417_141334.jpg.4rivm5gi.json\"},{\"success\":true,\"projectId\":371766,\"sampleId\":933289166,\"fileName\":\"20240417_141320.jpg.4rivm5ll.json\"},{\"success\":true,\"projectId\":371766,\"sampleId\":933289174,\"fileName\":\"20240417_141731.jpg.4rivm5q6.json\"},{\"success\":true,\"projectId\":371766,\"sampleId\":933289190,\"fileName\":\"20240417_141527.jpg.4rivm5tg.json\"},{\"success\":true,\"projectId\":371766,\"sampleId\":933289201,\"fileName\":\"20240417_141531.jpg.4rivm62q.json\"},{\"success\":true,\"projectId\":371766,\"sampleId\":933289215,\"fileName\":\"20240417_140820.jpg.4rivm697.json\"},{\"success\":true,\"projectId\":371766,\"sampleId\":933289225,\"fileName\":\"20240417_141323.jpg.4rivm6er.json\"},{\"success\":true,\"projectId\":371766,\"sampleId\":933289233,\"fileName\":\"20240417_140940.jpg.4rivm6jh.json\"},{\"success\":true,\"projectId\":371766,\"sampleId\":933289248,\"fileName\":\"20240417_141134.jpg.4rivm6nc.json\"},{\"success\":true,\"projectId\":371766,\"sampleId\":933289255,\"fileName\":\"20240417_141120.jpg.4rivm6t1.json\"},{\"success\":true,\"projectId\":371766,\"sampleId\":933289269,\"fileName\":\"20240417_141124.jpg.4rivm71f.json\"},{\"success\":true,\"projectId\":371766,\"sampleId\":933289283,\"fileName\":\"20240417_141326.jpg.4rivm770.json\"},{\"success\":true,\"projectId\":371766,\"sampleId\":933289286,\"fileName\":\"20240417_140945.jpg.4rivm7bs.json\"},{\"success\":true,\"projectId\":371766,\"sampleId\":933289308,\"fileName\":\"20240417_141521.jpg.4rivm7fj.json\"},{\"success\":true,\"projectId\":371766,\"sampleId\":933289314,\"fileName\":\"20240417_141245.jpg.4rivm7o9.json\"},{\"success\":true,\"projectId\":371766,\"sampleId\":933289323,\"fileName\":\"20240417_141318.jpg.4rivm7rn.json\"},{\"success\":true,\"projectId\":371766,\"sampleId\":933289342,\"fileName\":\"20240417_141536.jpg.4rivm7vs.json\"},{\"success\":true,\"projectId\":371766,\"sampleId\":933289345,\"fileName\":\"20240417_141223.jpg.4rivm869.json\"},{\"success\":true,\"projectId\":371766,\"sampleId\":933289358,\"fileName\":\"20240417_140935.jpg.4rivm89b.json\"},{\"success\":true,\"projectId\":371766,\"sampleId\":933289373,\"fileName\":\"20240417_141424.jpg.4rivm8eu.json\"},{\"success\":true,\"projectId\":371766,\"sampleId\":933289378,\"fileName\":\"20240417_141626.jpg.4rivm8if.json\"},{\"success\":true,\"projectId\":371766,\"sampleId\":933289393,\"fileName\":\"20240417_141550.jpg.4rivm8me.json\"},{\"success\":true,\"projectId\":371766,\"sampleId\":933289403,\"fileName\":\"20240417_141234.jpg.4rivm8sa.json\"},{\"success\":true,\"projectId\":371766,\"sampleId\":933289416,\"fileName\":\"20240417_141546.jpg.4rivm920.json\"},{\"success\":true,\"projectId\":371766,\"sampleId\":933289424,\"fileName\":\"20240417_141631.jpg.4rivm97e.json\"},{\"success\":true,\"projectId\":371766,\"sampleId\":933289433,\"fileName\":\"20240417_141231.jpg.4rivm9bg.json\"},{\"success\":true,\"projectId\":371766,\"sampleId\":933289445,\"fileName\":\"20240417_141621.jpg.4rivm9go.json\"},{\"success\":true,\"projectId\":371766,\"sampleId\":933289455,\"fileName\":\"20240417_140853.jpg.4rivm9kv.json\"},{\"success\":true,\"projectId\":371766,\"sampleId\":933289470,\"fileName\":\"20240417_141540.jpg.4rivm9pq.json\"},{\"success\":true,\"projectId\":371766,\"sampleId\":933289482,\"fileName\":\"20240417_140845.jpg.4rivma02.json\"},{\"success\":true,\"projectId\":371766,\"sampleId\":933289491,\"fileName\":\"20240417_141636.jpg.4rivma48.json\"},{\"success\":true,\"projectId\":371766,\"sampleId\":933289504,\"fileName\":\"20240417_141421.jpg.4rivma8l.json\"},{\"success\":true,\"projectId\":371766,\"sampleId\":933289514,\"fileName\":\"20240417_141227.jpg.4rivmado.json\"},{\"success\":true,\"projectId\":371766,\"sampleId\":933289522,\"fileName\":\"20240417_140849.jpg.4rivmai9.json\"},{\"success\":true,\"projectId\":371766,\"sampleId\":933289537,\"fileName\":\"20240417_141411.jpg.4rivmalq.json\"},{\"success\":true,\"projectId\":371766,\"sampleId\":933289547,\"fileName\":\"20240417_141639.jpg.4rivmarg.json\"},{\"success\":true,\"projectId\":371766,\"sampleId\":933289559,\"fileName\":\"20240417_141406.jpg.4rivmavq.json\"},{\"success\":true,\"projectId\":371766,\"sampleId\":933289570,\"fileName\":\"20240417_140858.jpg.4rivmb52.json\"},{\"success\":true,\"projectId\":371766,\"sampleId\":933289582,\"fileName\":\"20240417_141400.jpg.4rivmb95.json\"},{\"success\":true,\"projectId\":371766,\"sampleId\":933289587,\"fileName\":\"20240417_141414.jpg.4rivmbd4.json\"},{\"success\":true,\"projectId\":371766,\"sampleId\":933289597,\"fileName\":\"20240417_141315.jpg.4rivmbh6.json\"},{\"success\":true,\"projectId\":371766,\"sampleId\":933289608,\"fileName\":\"20240417_141116.jpg.4rivmbli.json\"},{\"success\":true,\"projectId\":371766,\"sampleId\":933289618,\"fileName\":\"20240417_140948.jpg.4rivmbpc.json\"},{\"success\":true,\"projectId\":371766,\"sampleId\":933289625,\"fileName\":\"20240417_141129.jpg.4rivmbtd.json\"},{\"success\":true,\"projectId\":371766,\"sampleId\":933289641,\"fileName\":\"20240417_141713.jpg.4rivmc0o.json\"},{\"success\":true,\"projectId\":371766,\"sampleId\":933289651,\"fileName\":\"20240417_141717.jpg.4rivmc6q.json\"},{\"success\":true,\"projectId\":371766,\"sampleId\":933289689,\"fileName\":\"20240417_140959.jpg.4rivmcdl.json\"},{\"success\":true,\"projectId\":371766,\"sampleId\":933289708,\"fileName\":\"20240417_141728.jpg.4rivmck7.json\"},{\"success\":true,\"projectId\":371766,\"sampleId\":933289717,\"fileName\":\"20240417_141112.jpg.4rivmcp5.json\"},{\"success\":true,\"projectId\":371766,\"sampleId\":933289736,\"fileName\":\"20240417_142006.jpg.4rivmcrq.json\"},{\"success\":true,\"projectId\":371766,\"sampleId\":933289739,\"fileName\":\"20240417_142010.jpg.4rivmd06.json\"},{\"success\":true,\"projectId\":371766,\"sampleId\":933289741,\"fileName\":\"20240417_141849.jpg.4rivmd59.json\"},{\"success\":true,\"projectId\":371766,\"sampleId\":933289744,\"fileName\":\"20240417_141915.jpg.4rivmd93.json\"},{\"success\":true,\"projectId\":371766,\"sampleId\":933289747,\"fileName\":\"20240417_142029.jpg.4rivmdd6.json\"},{\"success\":true,\"projectId\":371766,\"sampleId\":933289750,\"fileName\":\"20240417_142000.jpg.4rivmdhj.json\"},{\"success\":true,\"projectId\":371766,\"sampleId\":933289754,\"fileName\":\"20240417_142003.jpg.4rivmdma.json\"},{\"success\":true,\"projectId\":371766,\"sampleId\":933289756,\"fileName\":\"20240417_142049.jpg.4rivmdr3.json\"},{\"success\":true,\"projectId\":371766,\"sampleId\":933289759,\"fileName\":\"20240417_142046.jpg.4rivmdvr.json\"},{\"success\":true,\"projectId\":371766,\"sampleId\":933289762,\"fileName\":\"20240417_142052.jpg.4rivme4b.json\"},{\"success\":true,\"projectId\":371766,\"sampleId\":933289765,\"fileName\":\"20240417_142054.jpg.4rivme9c.json\"},{\"success\":true,\"projectId\":371766,\"sampleId\":933289769,\"fileName\":\"20240417_142055.jpg.4rivmeec.json\"},{\"success\":true,\"projectId\":371766,\"sampleId\":933289771,\"fileName\":\"20240417_141922.jpg.4rivmej9.json\"},{\"success\":true,\"projectId\":371766,\"sampleId\":933289774,\"fileName\":\"20240417_141923.jpg.4rivmenf.json\"},{\"success\":true,\"projectId\":371766,\"sampleId\":933289777,\"fileName\":\"20240417_142027.jpg.4rivmes1.json\"},{\"success\":true,\"projectId\":371766,\"sampleId\":933289779,\"fileName\":\"20240417_142025.jpg.4rivmf0l.json\"},{\"success\":true,\"projectId\":371766,\"sampleId\":933289781,\"fileName\":\"20240417_141855.jpg.4rivmf4j.json\"},{\"success\":true,\"projectId\":371766,\"sampleId\":933289784,\"fileName\":\"20240417_141840.jpg.4rivmf7t.json\"},{\"success\":true,\"projectId\":371766,\"sampleId\":933289787,\"fileName\":\"20240417_142020.jpg.4rivmfbp.json\"},{\"success\":true,\"projectId\":371766,\"sampleId\":933289791,\"fileName\":\"20240417_142008.jpg.4rivmfgb.json\"},{\"success\":true,\"projectId\":371766,\"sampleId\":933289794,\"fileName\":\"20240417_141918.jpg.4rivmfnp.json\"},{\"success\":true,\"projectId\":371766,\"sampleId\":933289796,\"fileName\":\"20240417_141851.jpg.4rivmfs9.json\"},{\"success\":true,\"projectId\":371766,\"sampleId\":933289799,\"fileName\":\"20240417_141853.jpg.4rivmg09.json\"},{\"success\":true,\"projectId\":371766,\"sampleId\":933289804,\"fileName\":\"20240417_141926.jpg.4rivmg5b.json\"},{\"success\":true,\"projectId\":371766,\"sampleId\":933289807,\"fileName\":\"20240417_142022.jpg.4rivmg9v.json\"},{\"success\":true,\"projectId\":371766,\"sampleId\":933289812,\"fileName\":\"20240417_142416.jpg.4rivmgdv.json\"},{\"success\":true,\"projectId\":371766,\"sampleId\":933289818,\"fileName\":\"20240417_142238.jpg.4rivmgj3.json\"},{\"success\":true,\"projectId\":371766,\"sampleId\":933289836,\"fileName\":\"20240417_142414.jpg.4rivmgpc.json\"},{\"success\":true,\"projectId\":371766,\"sampleId\":933289842,\"fileName\":\"20240417_142410.jpg.4rivmgv4.json\"},{\"success\":true,\"projectId\":371766,\"sampleId\":933289846,\"fileName\":\"20240417_142202.jpg.4rivmh23.json\"},{\"success\":true,\"projectId\":371766,\"sampleId\":933289852,\"fileName\":\"20240417_142200.jpg.4rivmh5v.json\"},{\"success\":true,\"projectId\":371766,\"sampleId\":933289872,\"fileName\":\"20240417_142412.jpg.4rivmhaq.json\"},{\"success\":true,\"projectId\":371766,\"sampleId\":933289876,\"fileName\":\"20240417_142111.jpg.4rivmhfo.json\"},{\"success\":true,\"projectId\":371766,\"sampleId\":933289883,\"fileName\":\"20240417_142113.jpg.4rivmhka.json\"},{\"success\":true,\"projectId\":371766,\"sampleId\":933289890,\"fileName\":\"20240417_142329.jpg.4rivmhp0.json\"},{\"success\":true,\"projectId\":371766,\"sampleId\":933289907,\"fileName\":\"20240417_142115.jpg.4rivmht2.json\"},{\"success\":true,\"projectId\":371766,\"sampleId\":933289911,\"fileName\":\"20240417_142118.jpg.4rivmi23.json\"},{\"success\":true,\"projectId\":371766,\"sampleId\":933289917,\"fileName\":\"20240417_142326.jpg.4rivmi68.json\"},{\"success\":true,\"projectId\":371766,\"sampleId\":933289930,\"fileName\":\"20240417_142324.jpg.4rivmibe.json\"},{\"success\":true,\"projectId\":371766,\"sampleId\":933289941,\"fileName\":\"20240417_142320.jpg.4rivmigm.json\"},{\"success\":true,\"projectId\":371766,\"sampleId\":933289952,\"fileName\":\"20240417_142240.jpg.4rivmil6.json\"},{\"success\":true,\"projectId\":371766,\"sampleId\":933289963,\"fileName\":\"20240417_142322.jpg.4rivmipm.json\"},{\"success\":true,\"projectId\":371766,\"sampleId\":933289977,\"fileName\":\"20240417_142108.jpg.4rivmj05.json\"},{\"success\":true,\"projectId\":371766,\"sampleId\":933289987,\"fileName\":\"20240417_142243.jpg.4rivmj4d.json\"},{\"success\":true,\"projectId\":371766,\"sampleId\":933289993,\"fileName\":\"20240417_142151.jpg.4rivmj9c.json\"},{\"success\":true,\"projectId\":371766,\"sampleId\":933290007,\"fileName\":\"20240417_142232.jpg.4rivmjde.json\"},{\"success\":true,\"projectId\":371766,\"sampleId\":933290015,\"fileName\":\"20240417_142418.jpg.4rivmjir.json\"},{\"success\":true,\"projectId\":371766,\"sampleId\":933290029,\"fileName\":\"20240417_142154.jpg.4rivmjmr.json\"},{\"success\":true,\"projectId\":371766,\"sampleId\":933290040,\"fileName\":\"20240417_142235.jpg.4rivmjrk.json\"},{\"success\":true,\"projectId\":371766,\"sampleId\":933290059,\"fileName\":\"20240417_142157.jpg.4rivmk2o.json\"}]}'\n",
      "Done\n"
     ]
    }
   ],
   "source": [
    "def upload_data(category, files, label):\n",
    "    res = requests.post(\n",
    "        f\"https://ingestion.edgeimpulse.com/api/{category}/files\", \n",
    "        headers={\"x-api-key\": cfg[\"project_api_key\"], \"x-label\": label, \"x-disallow-duplicates\": \"1\"},\n",
    "        # Creating the data payload for the request.\n",
    "        files=(('data', (os.path.basename(i), open(\n",
    "            i, 'rb'), 'image/jpg')) for i in files)\n",
    "        )\n",
    "    \n",
    "    if (res.status_code == 200):\n",
    "        print('Uploaded file(s) to Edge Impulse\\n', res.status_code, res.content)\n",
    "    else:\n",
    "        print('Failed to upload file(s) to Edge Impulse\\n',\n",
    "          res.status_code, res.content)\n",
    "\n",
    "\n",
    "dataset_path_good=f\"{cfg['dataset_path']}/no_anomaly\"\n",
    "dataset_path_defect_1=f\"{cfg['dataset_path']}/anomaly_lvl_1\"\n",
    "dataset_path_defect_2=f\"{cfg['dataset_path']}/anomaly_lvl_2\"\n",
    "dataset_path_defect_3=f\"{cfg['dataset_path']}/anomaly_lvl_3\"\n",
    "\n",
    "# Good cookies\n",
    "all_good_cookies=[f\"{dataset_path_good}/{f}\" for f in os.listdir(dataset_path_good) if f.endswith('.jpg')]\n",
    "random.seed(42)\n",
    "random.shuffle(all_good_cookies)\n",
    "\n",
    "train_good_cookies = all_good_cookies[:-20]\n",
    "test_good_cookies = all_good_cookies[-20:]\n",
    "\n",
    "print(\"train_good_cookies len\", len(train_good_cookies))\n",
    "print(\"test_good_cookies len\", len(test_good_cookies))\n",
    "\n",
    "print(\"Uploading good cookies training\")\n",
    "upload_data(\"training\", train_good_cookies, \"no anomaly\") # \"no anomaly\" and \"anomaly\" is important!\n",
    "print(\"Uploading good cookies testing\")\n",
    "upload_data(\"testing\", test_good_cookies, \"no anomaly\")\n",
    "\n",
    "all_defect_cookies_lvl_1=[f\"{dataset_path_defect_1}/{f}\" for f in os.listdir(dataset_path_defect_1) if f.endswith('.jpg')]\n",
    "all_defect_cookies_lvl_2=[f\"{dataset_path_defect_2}/{f}\" for f in os.listdir(dataset_path_defect_2) if f.endswith('.jpg')]\n",
    "all_defect_cookies_lvl_3=[f\"{dataset_path_defect_3}/{f}\" for f in os.listdir(dataset_path_defect_3) if f.endswith('.jpg')]\n",
    "all_defect_cookies = all_defect_cookies_lvl_1 + all_defect_cookies_lvl_2 + all_defect_cookies_lvl_3  \n",
    "\n",
    "print(\"all_defect_cookies\", len(all_defect_cookies))\n",
    "\n",
    "print(\"Uploading defect cookies testing\")\n",
    "upload_data(\"testing\", all_defect_cookies, \"anomaly\")\n",
    "print(\"Done\")"
   ]
  },
  {
   "cell_type": "markdown",
   "metadata": {},
   "source": [
    "## Impulse"
   ]
  },
  {
   "cell_type": "markdown",
   "metadata": {},
   "source": [
    "### Get impulse"
   ]
  },
  {
   "cell_type": "code",
   "execution_count": 6,
   "metadata": {},
   "outputs": [
    {
     "data": {
      "text/plain": [
       "{'success': True,\n",
       " 'impulse': {'inputBlocks': [{'db': False,\n",
       "    'id': 11,\n",
       "    'name': 'Image data',\n",
       "    'type': 'image',\n",
       "    'title': 'Image data',\n",
       "    'enabled': True,\n",
       "    'createdBy': 'clone',\n",
       "    'cropAnchor': 'middle-center',\n",
       "    'imageWidth': 160,\n",
       "    'resizeMode': 'squash',\n",
       "    'description': 'EON Tuner Primary',\n",
       "    'imageHeight': 160,\n",
       "    'resizeMethod': 'lanczos3',\n",
       "    'labelingMethod': 'single_label',\n",
       "    'tunerTemplateId': -1,\n",
       "    'createdAt': '2024-04-16T08:16:51.849Z',\n",
       "    'mutated': False,\n",
       "    'clonedFromBlockId': 4516308,\n",
       "    'primaryVersion': True}],\n",
       "  'dspBlocks': [{'db': False,\n",
       "    'id': 12,\n",
       "    'axes': ['image'],\n",
       "    'name': 'Image',\n",
       "    'type': 'image',\n",
       "    'input': 11,\n",
       "    'title': 'Image',\n",
       "    'enabled': True,\n",
       "    'autotune': False,\n",
       "    'createdBy': 'clone',\n",
       "    'description': 'EON Tuner Primary',\n",
       "    'tunerTemplateId': -1,\n",
       "    'implementationVersion': 1,\n",
       "    'createdAt': '2024-04-16T08:16:51.849Z',\n",
       "    'mutated': False,\n",
       "    'clonedFromBlockId': 4516309,\n",
       "    'primaryVersion': True}],\n",
       "  'learnBlocks': [{'id': 15,\n",
       "    'type': 'keras-visual-anomaly',\n",
       "    'name': 'FOMO-AD',\n",
       "    'dsp': [12],\n",
       "    'title': 'FOMO-AD (Images)',\n",
       "    'primaryVersion': True,\n",
       "    'createdBy': 'createImpulse',\n",
       "    'createdAt': '2024-04-16T09:04:22.040Z',\n",
       "    'mutated': True}]}}"
      ]
     },
     "execution_count": 6,
     "metadata": {},
     "output_type": "execute_result"
    }
   ],
   "source": [
    "def get_impulse(projectId):\n",
    "    response = requests.get(f\"https://studio.edgeimpulse.com/v1/api/{projectId}/impulse\", headers={\"x-jwt-token\": token})\n",
    "    res = response.json()\n",
    "    return res\n",
    "\n",
    "# get_impulse(project_fomoad[\"id\"])\n",
    "get_impulse(project[\"id\"])"
   ]
  },
  {
   "cell_type": "markdown",
   "metadata": {},
   "source": [
    "### Set Impulse"
   ]
  },
  {
   "cell_type": "code",
   "execution_count": 7,
   "metadata": {},
   "outputs": [],
   "source": [
    "impulse_payload = {\n",
    "    \"inputBlocks\": [\n",
    "      {\n",
    "        \"db\": False,\n",
    "        \"id\": 11,\n",
    "        \"name\": \"Image data\",\n",
    "        \"type\": \"image\",\n",
    "        \"title\": \"Image data\",\n",
    "        \"enabled\": True,\n",
    "        \"createdBy\": \"clone\",\n",
    "        \"cropAnchor\": \"middle-center\",\n",
    "        \"imageWidth\": 160,\n",
    "        \"resizeMode\": \"squash\",\n",
    "        \"description\": \"EON Tuner Primary\",\n",
    "        \"imageHeight\": 160,\n",
    "        \"resizeMethod\": \"lanczos3\",\n",
    "        \"labelingMethod\": \"single_label\",\n",
    "        # \"primaryVersion\": True,\n",
    "        \"tunerTemplateId\": -1,\n",
    "        \"createdAt\": \"2024-04-16T08:16:51.849Z\",\n",
    "        \"mutated\": False,\n",
    "        \"clonedFromBlockId\": 4516308,\n",
    "        \"tunerPrimary\": True\n",
    "      }\n",
    "    ],\n",
    "    \"dspBlocks\": [\n",
    "      {\n",
    "        \"db\": False,\n",
    "        \"id\": 12,\n",
    "        \"axes\": [\n",
    "          \"image\"\n",
    "        ],\n",
    "        \"name\": \"Image\",\n",
    "        \"type\": \"image\",\n",
    "        \"input\": 11,\n",
    "        \"title\": \"Image\",\n",
    "        \"enabled\": True,\n",
    "        \"autotune\": False,\n",
    "        \"createdBy\": \"clone\",\n",
    "        \"description\": \"EON Tuner Primary\",\n",
    "        # \"primaryVersion\": True,\n",
    "        \"tunerTemplateId\": -1,\n",
    "        \"implementationVersion\": 1,\n",
    "        \"createdAt\": \"2024-04-16T08:16:51.849Z\",\n",
    "        \"mutated\": False,\n",
    "        \"clonedFromBlockId\": 4516309,\n",
    "        \"tunerPrimary\": True\n",
    "      }\n",
    "    ],\n",
    "    \"learnBlocks\": [\n",
    "      {\n",
    "        \"db\": False,\n",
    "        \"id\": 13,\n",
    "        \"dsp\": [\n",
    "          12\n",
    "        ],\n",
    "        \"name\": \"FOMO-AD\",\n",
    "        \"type\": \"keras-visual-anomaly\",\n",
    "        \"title\": \"FOMO-AD (Images)\",\n",
    "        \"enabled\": True,\n",
    "        \"createdBy\": \"clone\",\n",
    "        \"description\": \"EON Tuner Primary\",\n",
    "        \"primaryVersion\": True,\n",
    "        \"tunerTemplateId\": -1,\n",
    "        \"createdAt\": \"2024-04-16T08:16:55.287Z\",\n",
    "        \"mutated\": True,\n",
    "        \"clonedFromBlockId\": 4516328,\n",
    "        \"tunerPrimary\": True\n",
    "      }\n",
    "    ]\n",
    "  }\n"
   ]
  },
  {
   "cell_type": "code",
   "execution_count": 8,
   "metadata": {},
   "outputs": [],
   "source": [
    "\n",
    "# DEFAULT LEARNING BLOCK\n",
    "default_impulse_payload = {\n",
    "    \"inputBlocks\": [\n",
    "      {\n",
    "        \"db\": False,\n",
    "        \"id\": 11,\n",
    "        \"name\": \"Image data\",\n",
    "        \"type\": \"image\",\n",
    "        \"title\": \"Image data\",\n",
    "        \"enabled\": True,\n",
    "        \"createdBy\": \"clone\",\n",
    "        \"cropAnchor\": \"middle-center\",\n",
    "        \"imageWidth\": 160,\n",
    "        \"resizeMode\": \"squash\",\n",
    "        \"description\": \"EON Tuner Primary\",\n",
    "        \"imageHeight\": 160,\n",
    "        \"resizeMethod\": \"lanczos3\",\n",
    "        \"labelingMethod\": \"single_label\",\n",
    "        # \"primaryVersion\": True,\n",
    "        \"tunerTemplateId\": -1,\n",
    "        \"createdAt\": \"2024-04-16T08:16:51.849Z\",\n",
    "        \"mutated\": False,\n",
    "        \"clonedFromBlockId\": 4516308,\n",
    "        # \"tunerPrimary\": True\n",
    "      }\n",
    "    ],\n",
    "    \"dspBlocks\": [\n",
    "      {\n",
    "        \"db\": False,\n",
    "        \"id\": 12,\n",
    "        \"axes\": [\n",
    "          \"image\"\n",
    "        ],\n",
    "        \"name\": \"Image\",\n",
    "        \"type\": \"image\",\n",
    "        \"input\": 11,\n",
    "        \"title\": \"Image\",\n",
    "        \"enabled\": True,\n",
    "        \"autotune\": False,\n",
    "        \"createdBy\": \"clone\",\n",
    "        \"description\": \"EON Tuner Primary\",\n",
    "        # \"primaryVersion\": True,\n",
    "        \"tunerTemplateId\": -1,\n",
    "        \"implementationVersion\": 1,\n",
    "        \"createdAt\": \"2024-04-16T08:16:51.849Z\",\n",
    "        \"mutated\": False,\n",
    "        \"clonedFromBlockId\": 4516309,\n",
    "        # \"tunerPrimary\": True\n",
    "      }\n",
    "    ],\n",
    "    \"learnBlocks\": [\n",
    "      {\n",
    "        \"id\": 15,\n",
    "        \"type\": \"keras-visual-anomaly\",\n",
    "        \"name\": \"FOMO-AD\",\n",
    "        \"dsp\": [\n",
    "          12\n",
    "        ],\n",
    "        \"title\": \"FOMO-AD (Images)\",\n",
    "        \"primaryVersion\": True,\n",
    "        \"createdBy\": \"createImpulse\",\n",
    "        \"createdAt\": \"2024-04-16T09:04:22.040Z\"\n",
    "      }\n",
    "    ]\n",
    "}"
   ]
  },
  {
   "cell_type": "code",
   "execution_count": 9,
   "metadata": {},
   "outputs": [
    {
     "data": {
      "text/plain": [
       "{'success': True}"
      ]
     },
     "execution_count": 9,
     "metadata": {},
     "output_type": "execute_result"
    }
   ],
   "source": [
    "def delete_impulse(projectId):\n",
    "    response = requests.delete(f\"https://studio.edgeimpulse.com/v1/api/{projectId}/impulse\", headers={\"x-jwt-token\": token})\n",
    "    res = response.json()\n",
    "    return res\n",
    "\n",
    "def create_impulse(projectId, payload):\n",
    "    delete_impulse(projectId)\n",
    "    response = requests.post(f\"https://studio.edgeimpulse.com/v1/api/{projectId}/impulse\", json=payload, headers={\"x-jwt-token\": token})\n",
    "    res = response.json()\n",
    "    return res\n",
    "\n",
    "create_impulse(project[\"id\"], default_impulse_payload)\n",
    "# create_impulse(project_fomoad[\"id\"], impulse_payload)"
   ]
  },
  {
   "cell_type": "markdown",
   "metadata": {},
   "source": [
    "### Generate features"
   ]
  },
  {
   "cell_type": "code",
   "execution_count": 10,
   "metadata": {},
   "outputs": [],
   "source": [
    "def get_jobs(projectId):\n",
    "    response = requests.get(f\"https://studio.edgeimpulse.com/v1/api/{projectId}/jobs/all\", headers={\"x-jwt-token\": token})\n",
    "    res = response.json()\n",
    "    return res\n",
    "\n",
    "def get_job_status(projectId, jobId):\n",
    "    response = requests.get(f\"https://studio.edgeimpulse.com/v1/api/{projectId}/jobs/{jobId}/status\", headers={\"x-jwt-token\": token})\n",
    "    res = response.json()\n",
    "    return res[\"job\"]\n",
    "\n",
    "def get_job_output(projectId, jobId):\n",
    "    response = requests.get(f\"https://studio.edgeimpulse.com/v1/api/{projectId}/jobs/{jobId}/stdout\", headers={\"x-jwt-token\": token})\n",
    "    res = response.json()\n",
    "    return res\n",
    "\n",
    "def generate_feature(projectId):\n",
    "    \n",
    "    payload = {\n",
    "        \"dspId\": 12,\n",
    "        \"calculateFeatureImportance\": False\n",
    "    }\n",
    "    response = requests.post(f\"https://studio.edgeimpulse.com/v1/api/{projectId}/jobs/generate-features\", json=payload, headers={\"x-jwt-token\": token})\n",
    "    res = response.json()\n",
    "    return res[\"id\"]"
   ]
  },
  {
   "cell_type": "code",
   "execution_count": 11,
   "metadata": {},
   "outputs": [
    {
     "name": "stdout",
     "output_type": "stream",
     "text": [
      "18483524\n"
     ]
    }
   ],
   "source": [
    "job_id = generate_feature(project[\"id\"])\n",
    "print(job_id)"
   ]
  },
  {
   "cell_type": "code",
   "execution_count": 12,
   "metadata": {},
   "outputs": [
    {
     "data": {
      "text/plain": [
       "{'id': 18483524,\n",
       " 'category': 'Generating features (Image)',\n",
       " 'key': 'dsp-studio-wrapper-12',\n",
       " 'created': '2024-04-17T15:33:30.865Z',\n",
       " 'jobNotificationUids': [],\n",
       " 'additionalInfo': 'Image',\n",
       " 'computeTime': 0,\n",
       " 'createdByUser': {'id': 175414,\n",
       "  'name': 'math-pro',\n",
       "  'username': 'callmemath-pro'}}"
      ]
     },
     "execution_count": 12,
     "metadata": {},
     "output_type": "execute_result"
    }
   ],
   "source": [
    "get_job_status(project[\"id\"], job_id)"
   ]
  },
  {
   "cell_type": "code",
   "execution_count": 13,
   "metadata": {},
   "outputs": [
    {
     "name": "stdout",
     "output_type": "stream",
     "text": [
      "- Generating feature still in progress, waiting 10sec\n",
      "- Generating feature still in progress, waiting 10sec\n",
      "- Generating feature still in progress, waiting 10sec\n",
      "- Generating feature still in progress, waiting 10sec\n",
      "- Generating feature still in progress, waiting 10sec\n",
      "Feature generated!\n"
     ]
    }
   ],
   "source": [
    "import time  \n",
    "\n",
    "while True:  \n",
    "    status = get_job_status(project[\"id\"], job_id)  \n",
    "    if \"finishedSuccessful\" in status and status[\"finishedSuccessful\"]:\n",
    "        print(\"Feature generated!\") \n",
    "        break  \n",
    "    if \"finished\" in status and status[\"finished\"]:\n",
    "        print(\"Generating done not successful\", status) \n",
    "        break\n",
    "    \n",
    "    print(\"- Generating feature still in progress, waiting 10sec\")\n",
    "    time.sleep(10)"
   ]
  },
  {
   "cell_type": "markdown",
   "metadata": {},
   "source": [
    "### Train Model"
   ]
  },
  {
   "cell_type": "code",
   "execution_count": 35,
   "metadata": {},
   "outputs": [
    {
     "name": "stdout",
     "output_type": "stream",
     "text": [
      "Skipping training, will use transformation blocks instead\n"
     ]
    }
   ],
   "source": [
    "def train_model_keras(projectId, learnId):\n",
    "    payload = {\n",
    "        \"trainTestSplit\": 0.2,\n",
    "        \"customValidationMetadataKey\": \"\",\n",
    "        \"autoClassWeights\": False,\n",
    "        \"profileInt8\": True,\n",
    "        \"learningRate\": 0.01,\n",
    "        \"trainingCycles\": 1,\n",
    "        \"visualLayers\": [\n",
    "            {\n",
    "                \"type\": \"transfer_mobilenetv2_a35\"\n",
    "            }\n",
    "        ],\n",
    "        \"augmentationPolicyImage\": \"none\",\n",
    "        \"anomalyCapacity\": \"low\",\n",
    "        \"customParameters\": {}\n",
    "    }\n",
    "    \n",
    "    response = requests.post(f\"https://studio.edgeimpulse.com/v1/api/{projectId}/jobs/train/keras/{learnId}\", json=payload, headers={\"x-jwt-token\": token})\n",
    "    res = response.json()\n",
    "    return res[\"id\"]\n",
    "\n",
    "if cfg[\"organization_id\"] == 0:\n",
    "    job_id_train = train_model_keras(project[\"id\"], default_impulse_payload[\"learnBlocks\"][0][\"id\"])\n",
    "    while True:\n",
    "        status = get_job_status(project[\"id\"], job_id_train)  \n",
    "        if \"finishedSuccessful\" in status and status[\"finishedSuccessful\"]:\n",
    "            print(\"Training done\") \n",
    "            break  \n",
    "        if \"finished\" in status and status[\"finished\"]:\n",
    "            print(\"Training done not successful\", status) \n",
    "            break  \n",
    "        print(\"- Training is still in progress, waiting 10sec...\")\n",
    "        time.sleep(10)\n",
    "else:\n",
    "    print(\"Skipping training, will use transformation blocks instead\")\n",
    "    \n",
    "# job_id_train\n"
   ]
  },
  {
   "cell_type": "code",
   "execution_count": 65,
   "metadata": {},
   "outputs": [
    {
     "name": "stdout",
     "output_type": "stream",
     "text": [
      "https://studio.edgeimpulse.com/v1/api/organizations/105154/pipelines/3928/run\n"
     ]
    },
    {
     "data": {
      "text/plain": [
       "{'success': True,\n",
       " 'pipelineRun': {'id': 429023,\n",
       "  'created': '2024-04-17T17:09:02.519Z',\n",
       "  'steps': [{'name': 'Import data using \"Find best Visual AD model\" - Import data using Find best Visual AD model - 2024-04-17T17:09:02.448Z',\n",
       "    'transformationJob': {'id': 576931,\n",
       "     'organizationId': 105154,\n",
       "     'name': 'Import data using \"Find best Visual AD model\" - Import data using Find best Visual AD model - 2024-04-17T17:09:02.448Z',\n",
       "     'uploadJobStatus': 'waiting',\n",
       "     'uploadType': 'project',\n",
       "     'projectId': 0,\n",
       "     'projectName': '',\n",
       "     'transformationBlockId': 5671,\n",
       "     'transformationBlockName': 'Find best Visual AD model',\n",
       "     'category': 'training',\n",
       "     'created': '2024-04-17T17:09:02.459Z',\n",
       "     'totalDownloadFileCount': 0,\n",
       "     'totalDownloadFileSize': 0,\n",
       "     'totalDownloadFileSizeString': '0 Bytes',\n",
       "     'totalUploadFileCount': 0,\n",
       "     'transformationSummary': {'startedCount': 0,\n",
       "      'finishedCount': 0,\n",
       "      'succeededCount': 0,\n",
       "      'totalFileCount': 0,\n",
       "      'totalTimeSpentSeconds': 0},\n",
       "     'transformationParallel': 3,\n",
       "     'emailRecipientUids': [0],\n",
       "     'transformJobStatus': 'finished',\n",
       "     'inProgress': False,\n",
       "     'pipelineId': 3928,\n",
       "     'pipelineRunId': 429023,\n",
       "     'pipelineStep': 1,\n",
       "     'pipelineName': 'Import data using \"Find best Visual AD model\"',\n",
       "     'status': 'waiting',\n",
       "     'operatesOn': 'standalone',\n",
       "     'totalTimeSpentSeconds': 0,\n",
       "     'totalTimeSpentString': '0s'}},\n",
       "   {'name': 'Retrain model'}]}}"
      ]
     },
     "execution_count": 65,
     "metadata": {},
     "output_type": "execute_result"
    }
   ],
   "source": [
    "# payload = {\n",
    "#     \"name\": \"Import data using \\\"Find best Visual AD model\\\"\",\n",
    "#     \"description\": \"Runs transformation block 'Find best Visual AD model' to import data into this project\",\n",
    "#     \"emailRecipientUids\": [\n",
    "#         175414\n",
    "#     ],\n",
    "#     \"projectId\": 371766,\n",
    "#     \"steps\": [\n",
    "#         {\n",
    "#             \"name\": \"Import data using Find best Visual AD model\",\n",
    "#             \"transformationBlockId\": 5671,\n",
    "#             \"extraCliArguments\": \"\",\n",
    "#             \"parameters\": {\n",
    "#                 \"api-key\": \"using anything else\",\n",
    "#                 \"image-sizes\": \"96, 160, 224, 320\",\n",
    "#                 \"model-types\": \"transfer_mobilenetv2_a35\",\n",
    "#                 \"capacities\": \"low, medium, high\",\n",
    "#                 \"image-resize-mode\": \"squash\",\n",
    "#                 \"image-channels\": \"RGB\"\n",
    "#             }\n",
    "#         },\n",
    "#         {\n",
    "#             \"name\": \"Retrain model\",\n",
    "#             \"builtinTransformationBlock\": {\n",
    "#                 \"type\": \"project-action\",\n",
    "#                 \"retrainModel\": True\n",
    "#             }\n",
    "#         }\n",
    "#     ],\n",
    "#     \"whenToEmail\": \"always\"\n",
    "# }\n",
    "\n",
    "# def create_pipeline(payload):\n",
    "#     response = requests.get(f\"https://studio.edgeimpulse.com/v1/api/organizations/{cfg['organization_id']}/pipelines\", headers={\"x-jwt-token\": token})\n",
    "#     res = response.json()\n",
    "#     return res\n",
    "\n",
    "# if cfg[\"organization_id\"] == 0:\n",
    "#     pass\n",
    "# else:\n",
    "#     pipeline = create_pipeline(payload)\n",
    "# pipeline\n",
    "\n",
    "def run_pipeline():\n",
    "    print(f\"https://studio.edgeimpulse.com/v1/api/organizations/{cfg['organization_id']}/pipelines/{cfg['pipeline_id']}/run\")\n",
    "    response = requests.post(f\"https://studio.edgeimpulse.com/v1/api/organizations/{cfg['organization_id']}/pipelines/{cfg['pipeline_id']}/run\", headers={\"x-api-key\": cfg[\"organization_api_key\"]})\n",
    "    return response.json()\n",
    "\n",
    "\n",
    "\n",
    "if cfg[\"organization_id\"] == 0:\n",
    "    pass\n",
    "else:\n",
    "    pipeline = run_pipeline()\n",
    "pipeline"
   ]
  },
  {
   "cell_type": "code",
   "execution_count": 42,
   "metadata": {},
   "outputs": [
    {
     "data": {
      "text/plain": [
       "{'success': True,\n",
       " 'pipelines': [{'id': 3923,\n",
       "   'description': \"Runs transformation block 'Find best Visual AD model' to import data into this project\",\n",
       "   'name': 'Import data using \"Find best Visual AD model\"',\n",
       "   'created': '2024-04-17T15:22:22.361Z',\n",
       "   'steps': [{'name': 'Import data using Find best Visual AD model',\n",
       "     'transformationBlockId': 5671,\n",
       "     'extraCliArguments': '',\n",
       "     'parameters': {'api-key': 'ei_ab9a6acba618869c64c553841bc9c9eb876a80f35cbfb4fb',\n",
       "      'image-sizes': '96, 160, 224, 320',\n",
       "      'model-types': 'transfer_mobilenetv2_a35',\n",
       "      'capacities': 'low, medium, high',\n",
       "      'image-resize-mode': 'squash',\n",
       "      'image-channels': 'RGB'}},\n",
       "    {'name': 'Retrain model',\n",
       "     'builtinTransformationBlock': {'type': 'project-action',\n",
       "      'retrainModel': True}},\n",
       "    {'name': 'Create new version',\n",
       "     'builtinTransformationBlock': {'type': 'project-action',\n",
       "      'createVersion': True}}],\n",
       "   'lastRun': {'id': 429002,\n",
       "    'created': '2024-04-17T15:33:57.127478',\n",
       "    'steps': [{'name': 'Import data using Find best Visual AD model',\n",
       "      'transformationJob': {'id': 576902,\n",
       "       'organizationId': 105154,\n",
       "       'name': 'Import data using \"Find best Visual AD model\" - Import data using Find best Visual AD model - 2024-04-17T15:33:57.130Z',\n",
       "       'uploadJobId': 18402025,\n",
       "       'uploadJobStatus': 'finished',\n",
       "       'uploadType': 'project',\n",
       "       'projectId': 0,\n",
       "       'projectName': '',\n",
       "       'transformationBlockId': 5671,\n",
       "       'transformationBlockName': 'Find best Visual AD model',\n",
       "       'category': 'training',\n",
       "       'created': '2024-04-17T15:33:57.136Z',\n",
       "       'totalDownloadFileCount': 0,\n",
       "       'totalDownloadFileSize': 0,\n",
       "       'totalDownloadFileSizeString': '0 Bytes',\n",
       "       'totalUploadFileCount': 0,\n",
       "       'transformationSummary': {'startedCount': 0,\n",
       "        'finishedCount': 0,\n",
       "        'succeededCount': 0,\n",
       "        'totalFileCount': 0,\n",
       "        'totalTimeSpentSeconds': 1901.439},\n",
       "       'transformationParallel': 3,\n",
       "       'emailRecipientUids': [0],\n",
       "       'transformJobStatus': 'finished',\n",
       "       'inProgress': False,\n",
       "       'pipelineId': 3923,\n",
       "       'pipelineRunId': 429002,\n",
       "       'pipelineStep': 1,\n",
       "       'pipelineName': 'Import data using \"Find best Visual AD model\"',\n",
       "       'status': 'finished',\n",
       "       'operatesOn': 'standalone',\n",
       "       'totalTimeSpentSeconds': 1901.439,\n",
       "       'totalTimeSpentString': '31m41s'},\n",
       "      'transformationBlockId': 5671,\n",
       "      'extraCliArguments': '',\n",
       "      'parameters': {'api-key': 'ei_ab9a6acba618869c64c553841bc9c9eb876a80f35cbfb4fb',\n",
       "       'image-sizes': '96, 160, 224, 320',\n",
       "       'model-types': 'transfer_mobilenetv2_a35',\n",
       "       'capacities': 'low, medium, high',\n",
       "       'image-resize-mode': 'squash',\n",
       "       'image-channels': 'RGB'}},\n",
       "     {'name': 'Retrain model',\n",
       "      'transformationJob': {'id': 576909,\n",
       "       'organizationId': 105154,\n",
       "       'name': 'Import data using \"Find best Visual AD model\" - Retrain model - 2024-04-17T16:05:41.322Z',\n",
       "       'uploadJobId': 18402048,\n",
       "       'uploadJobStatus': 'finished',\n",
       "       'uploadType': 'project',\n",
       "       'projectId': 0,\n",
       "       'projectName': '',\n",
       "       'builtinTransformationBlock': {'type': 'project-action',\n",
       "        'retrainModel': True},\n",
       "       'category': 'training',\n",
       "       'created': '2024-04-17T16:05:41.324Z',\n",
       "       'totalDownloadFileCount': 0,\n",
       "       'totalDownloadFileSize': 0,\n",
       "       'totalDownloadFileSizeString': '0 Bytes',\n",
       "       'totalUploadFileCount': 0,\n",
       "       'transformationSummary': {'startedCount': 0,\n",
       "        'finishedCount': 0,\n",
       "        'succeededCount': 0,\n",
       "        'totalFileCount': 0,\n",
       "        'totalTimeSpentSeconds': 2},\n",
       "       'transformationParallel': 3,\n",
       "       'emailRecipientUids': [0],\n",
       "       'transformJobStatus': 'finished',\n",
       "       'inProgress': False,\n",
       "       'pipelineId': 3923,\n",
       "       'pipelineRunId': 429002,\n",
       "       'pipelineStep': 2,\n",
       "       'pipelineName': 'Import data using \"Find best Visual AD model\"',\n",
       "       'status': 'finished',\n",
       "       'operatesOn': 'standalone',\n",
       "       'totalTimeSpentSeconds': 2,\n",
       "       'totalTimeSpentString': '2s'},\n",
       "      'builtinTransformationBlock': {'type': 'project-action',\n",
       "       'retrainModel': True}},\n",
       "     {'name': 'Create new version',\n",
       "      'transformationJob': {'id': 576910,\n",
       "       'organizationId': 105154,\n",
       "       'name': 'Import data using \"Find best Visual AD model\" - Create new version - 2024-04-17T16:05:48.352Z',\n",
       "       'uploadJobId': 18402049,\n",
       "       'uploadJobStatus': 'failed',\n",
       "       'uploadType': 'project',\n",
       "       'projectId': 0,\n",
       "       'projectName': '',\n",
       "       'builtinTransformationBlock': {'type': 'project-action',\n",
       "        'createVersion': True},\n",
       "       'category': 'training',\n",
       "       'created': '2024-04-17T16:05:48.354Z',\n",
       "       'totalDownloadFileCount': 0,\n",
       "       'totalDownloadFileSize': 0,\n",
       "       'totalDownloadFileSizeString': '0 Bytes',\n",
       "       'totalUploadFileCount': 0,\n",
       "       'transformationSummary': {'startedCount': 0,\n",
       "        'finishedCount': 0,\n",
       "        'succeededCount': 0,\n",
       "        'totalFileCount': 0,\n",
       "        'totalTimeSpentSeconds': 37.487},\n",
       "       'transformationParallel': 3,\n",
       "       'emailRecipientUids': [0],\n",
       "       'transformJobStatus': 'finished',\n",
       "       'inProgress': False,\n",
       "       'pipelineId': 3923,\n",
       "       'pipelineRunId': 429002,\n",
       "       'pipelineStep': 3,\n",
       "       'pipelineName': 'Import data using \"Find best Visual AD model\"',\n",
       "       'status': 'failed',\n",
       "       'operatesOn': 'standalone',\n",
       "       'totalTimeSpentSeconds': 37.487,\n",
       "       'totalTimeSpentString': '37s'},\n",
       "      'builtinTransformationBlock': {'type': 'project-action',\n",
       "       'createVersion': True}}],\n",
       "    'itemCountBefore': {'itemCount': 200,\n",
       "     'itemCountChecklistOK': 0,\n",
       "     'itemCountChecklistFailed': 0}},\n",
       "   'feedingIntoProject': {'id': 377841,\n",
       "    'name': 'FOMO-AD-cookies-1',\n",
       "    'itemCount': 200,\n",
       "    'projectLink': '/studio/377841'},\n",
       "   'emailRecipientUids': [175414],\n",
       "   'whenToEmail': 'never'}]}"
      ]
     },
     "execution_count": 42,
     "metadata": {},
     "output_type": "execute_result"
    }
   ],
   "source": [
    "pipeline"
   ]
  },
  {
   "cell_type": "markdown",
   "metadata": {},
   "source": [
    "## Export model"
   ]
  },
  {
   "cell_type": "code",
   "execution_count": 18,
   "metadata": {},
   "outputs": [],
   "source": [
    "def get_deployment_targets(projectId):\n",
    "    response = requests.get(f\"https://studio.edgeimpulse.com/v1/api/{projectId}/deployment/targets\", headers={\"x-jwt-token\": token})\n",
    "    res = response.json()\n",
    "    return res[\"targets\"]\n",
    "\n",
    "def build_model(projectId, eim_type=\"runner-mac-x86_64\"):\n",
    "    payload = {\n",
    "       \"engine\": \"tflite\"\n",
    "    }\n",
    "    response = requests.post(f\"https://studio.edgeimpulse.com/v1/api/{projectId}/jobs/build-ondevice-model?type={eim_type}\", json=payload, headers={\"x-jwt-token\": token})\n",
    "    res = response.json()\n",
    "    return res[\"id\"]\n",
    "\n",
    "def download_model_built(projectId, eim_type=\"runner-mac-x86_64\"):\n",
    "    payload = {\n",
    "       \"engine\": \"tflite\"\n",
    "    }\n",
    "    response = requests.get(f\"https://studio.edgeimpulse.com/v1/api/{projectId}/deployment/download?type={eim_type}\", headers={\"x-jwt-token\": token})\n",
    "    return response\n"
   ]
  },
  {
   "cell_type": "code",
   "execution_count": 19,
   "metadata": {},
   "outputs": [],
   "source": [
    "# targets = get_deployment_targets(project_to_use[\"id\"])\n",
    "# for item in targets:  \n",
    "#     print(item['name'],\"=\",item[\"format\"])\n",
    "\n",
    "job_id_build = build_model(project[\"id\"])"
   ]
  },
  {
   "cell_type": "code",
   "execution_count": 20,
   "metadata": {},
   "outputs": [
    {
     "data": {
      "text/plain": [
       "{'id': 18483630,\n",
       " 'category': 'Building deployment (runner-mac-x86_64)',\n",
       " 'key': 'deployment-studio-wrapper',\n",
       " 'created': '2024-04-17T15:35:34.389Z',\n",
       " 'jobNotificationUids': [],\n",
       " 'additionalInfo': 'runner-mac-x86_64',\n",
       " 'computeTime': 0,\n",
       " 'createdByUser': {'id': 175414,\n",
       "  'name': 'math-pro',\n",
       "  'username': 'callmemath-pro'}}"
      ]
     },
     "execution_count": 20,
     "metadata": {},
     "output_type": "execute_result"
    }
   ],
   "source": [
    "get_job_status(project[\"id\"], job_id_build)  "
   ]
  },
  {
   "cell_type": "code",
   "execution_count": 21,
   "metadata": {},
   "outputs": [
    {
     "name": "stdout",
     "output_type": "stream",
     "text": [
      "- Building is still in progress, waiting 10sec...\n",
      "- Building is still in progress, waiting 10sec...\n",
      "- Building is still in progress, waiting 10sec...\n",
      "- Building is still in progress, waiting 10sec...\n",
      "Building done\n"
     ]
    }
   ],
   "source": [
    "while True:\n",
    "    status = get_job_status(project[\"id\"], job_id_build)  \n",
    "    if \"finishedSuccessful\" in status and status[\"finishedSuccessful\"]:\n",
    "        print(\"Building done\") \n",
    "        break  \n",
    "    if \"finished\" in status and status[\"finished\"]:\n",
    "        print(\"Building done not successful\", status) \n",
    "        break  \n",
    "    \n",
    "    print(\"- Building is still in progress, waiting 10sec...\")\n",
    "    time.sleep(10)"
   ]
  },
  {
   "cell_type": "code",
   "execution_count": 25,
   "metadata": {},
   "outputs": [],
   "source": [
    "data = download_model_built(project[\"id\"])\n",
    "with open(cfg[\"output_path\"], 'wb') as f:\n",
    "    f.write(data.content)"
   ]
  },
  {
   "cell_type": "code",
   "execution_count": 26,
   "metadata": {},
   "outputs": [],
   "source": [
    "# For the macos model only\n",
    "!chmod +x \"../output/fomoad_1.eim\""
   ]
  },
  {
   "cell_type": "code",
   "execution_count": 29,
   "metadata": {},
   "outputs": [
    {
     "name": "stdout",
     "output_type": "stream",
     "text": [
      "modelfile ../output/fomoad_2.eim\n",
      "Original is good\n",
      "{'anomaly': 0.0, 'visual_anomaly_grid': [{'height': 17, 'label': 'anomaly', 'value': 15.509693145751953, 'width': 17, 'x': 0, 'y': 0}, {'height': 17, 'label': 'anomaly', 'value': 10.469318389892578, 'width': 17, 'x': 17, 'y': 0}, {'height': 17, 'label': 'anomaly', 'value': 12.342967987060547, 'width': 17, 'x': 35, 'y': 0}, {'height': 17, 'label': 'anomaly', 'value': 11.255226135253906, 'width': 17, 'x': 53, 'y': 0}, {'height': 17, 'label': 'anomaly', 'value': 11.922293663024902, 'width': 17, 'x': 71, 'y': 0}, {'height': 17, 'label': 'anomaly', 'value': 11.872461318969727, 'width': 17, 'x': 88, 'y': 0}, {'height': 17, 'label': 'anomaly', 'value': 12.051149368286133, 'width': 17, 'x': 106, 'y': 0}, {'height': 17, 'label': 'anomaly', 'value': 11.078412055969238, 'width': 17, 'x': 124, 'y': 0}, {'height': 17, 'label': 'anomaly', 'value': 10.837323188781738, 'width': 17, 'x': 142, 'y': 0}, {'height': 17, 'label': 'anomaly', 'value': 20.295011520385742, 'width': 17, 'x': 0, 'y': 17}, {'height': 17, 'label': 'anomaly', 'value': 15.396282196044922, 'width': 17, 'x': 17, 'y': 17}, {'height': 17, 'label': 'anomaly', 'value': 15.936149597167969, 'width': 17, 'x': 35, 'y': 17}, {'height': 17, 'label': 'anomaly', 'value': 14.18892765045166, 'width': 17, 'x': 53, 'y': 17}, {'height': 17, 'label': 'anomaly', 'value': 15.74071216583252, 'width': 17, 'x': 71, 'y': 17}, {'height': 17, 'label': 'anomaly', 'value': 15.568072319030762, 'width': 17, 'x': 88, 'y': 17}, {'height': 17, 'label': 'anomaly', 'value': 15.013952255249023, 'width': 17, 'x': 106, 'y': 17}, {'height': 17, 'label': 'anomaly', 'value': 14.994719505310059, 'width': 17, 'x': 124, 'y': 17}, {'height': 17, 'label': 'anomaly', 'value': 16.083343505859375, 'width': 17, 'x': 142, 'y': 17}, {'height': 17, 'label': 'anomaly', 'value': 18.474355697631836, 'width': 17, 'x': 0, 'y': 35}, {'height': 17, 'label': 'anomaly', 'value': 14.790887832641602, 'width': 17, 'x': 17, 'y': 35}, {'height': 17, 'label': 'anomaly', 'value': 13.87586784362793, 'width': 17, 'x': 35, 'y': 35}, {'height': 17, 'label': 'anomaly', 'value': 14.058640480041504, 'width': 17, 'x': 53, 'y': 35}, {'height': 17, 'label': 'anomaly', 'value': 14.451537132263184, 'width': 17, 'x': 71, 'y': 35}, {'height': 17, 'label': 'anomaly', 'value': 14.37729263305664, 'width': 17, 'x': 88, 'y': 35}, {'height': 17, 'label': 'anomaly', 'value': 14.895864486694336, 'width': 17, 'x': 106, 'y': 35}, {'height': 17, 'label': 'anomaly', 'value': 14.425461769104004, 'width': 17, 'x': 124, 'y': 35}, {'height': 17, 'label': 'anomaly', 'value': 15.895918846130371, 'width': 17, 'x': 142, 'y': 35}, {'height': 17, 'label': 'anomaly', 'value': 16.50687599182129, 'width': 17, 'x': 0, 'y': 53}, {'height': 17, 'label': 'anomaly', 'value': 15.225619316101074, 'width': 17, 'x': 17, 'y': 53}, {'height': 17, 'label': 'anomaly', 'value': 13.822747230529785, 'width': 17, 'x': 35, 'y': 53}, {'height': 17, 'label': 'anomaly', 'value': 9.443963050842285, 'width': 17, 'x': 53, 'y': 53}, {'height': 17, 'label': 'anomaly', 'value': 9.254197120666504, 'width': 17, 'x': 71, 'y': 53}, {'height': 17, 'label': 'anomaly', 'value': 9.712718963623047, 'width': 17, 'x': 88, 'y': 53}, {'height': 17, 'label': 'anomaly', 'value': 10.85129451751709, 'width': 17, 'x': 106, 'y': 53}, {'height': 17, 'label': 'anomaly', 'value': 13.690322875976562, 'width': 17, 'x': 124, 'y': 53}, {'height': 17, 'label': 'anomaly', 'value': 16.951108932495117, 'width': 17, 'x': 142, 'y': 53}, {'height': 17, 'label': 'anomaly', 'value': 18.17717170715332, 'width': 17, 'x': 0, 'y': 71}, {'height': 17, 'label': 'anomaly', 'value': 14.43529987335205, 'width': 17, 'x': 17, 'y': 71}, {'height': 17, 'label': 'anomaly', 'value': 16.953813552856445, 'width': 17, 'x': 35, 'y': 71}, {'height': 17, 'label': 'anomaly', 'value': 28.996835708618164, 'width': 17, 'x': 53, 'y': 71}, {'height': 17, 'label': 'anomaly', 'value': 11.689226150512695, 'width': 17, 'x': 71, 'y': 71}, {'height': 17, 'label': 'anomaly', 'value': 33.03289794921875, 'width': 17, 'x': 88, 'y': 71}, {'height': 17, 'label': 'anomaly', 'value': 18.882043838500977, 'width': 17, 'x': 106, 'y': 71}, {'height': 17, 'label': 'anomaly', 'value': 14.237069129943848, 'width': 17, 'x': 124, 'y': 71}, {'height': 17, 'label': 'anomaly', 'value': 16.121273040771484, 'width': 17, 'x': 142, 'y': 71}, {'height': 17, 'label': 'anomaly', 'value': 16.266990661621094, 'width': 17, 'x': 0, 'y': 88}, {'height': 17, 'label': 'anomaly', 'value': 14.229029655456543, 'width': 17, 'x': 17, 'y': 88}, {'height': 17, 'label': 'anomaly', 'value': 16.973316192626953, 'width': 17, 'x': 35, 'y': 88}, {'height': 17, 'label': 'anomaly', 'value': 27.93201446533203, 'width': 17, 'x': 53, 'y': 88}, {'height': 17, 'label': 'anomaly', 'value': 13.355170249938965, 'width': 17, 'x': 71, 'y': 88}, {'height': 17, 'label': 'anomaly', 'value': 35.804988861083984, 'width': 17, 'x': 88, 'y': 88}, {'height': 17, 'label': 'anomaly', 'value': 21.469074249267578, 'width': 17, 'x': 106, 'y': 88}, {'height': 17, 'label': 'anomaly', 'value': 14.208520889282227, 'width': 17, 'x': 124, 'y': 88}, {'height': 17, 'label': 'anomaly', 'value': 15.038758277893066, 'width': 17, 'x': 142, 'y': 88}, {'height': 17, 'label': 'anomaly', 'value': 14.689470291137695, 'width': 17, 'x': 0, 'y': 106}, {'height': 17, 'label': 'anomaly', 'value': 13.70785903930664, 'width': 17, 'x': 17, 'y': 106}, {'height': 17, 'label': 'anomaly', 'value': 15.154378890991211, 'width': 17, 'x': 35, 'y': 106}, {'height': 17, 'label': 'anomaly', 'value': 11.916240692138672, 'width': 17, 'x': 53, 'y': 106}, {'height': 17, 'label': 'anomaly', 'value': 9.256044387817383, 'width': 17, 'x': 71, 'y': 106}, {'height': 17, 'label': 'anomaly', 'value': 10.788496971130371, 'width': 17, 'x': 88, 'y': 106}, {'height': 17, 'label': 'anomaly', 'value': 13.187217712402344, 'width': 17, 'x': 106, 'y': 106}, {'height': 17, 'label': 'anomaly', 'value': 15.220101356506348, 'width': 17, 'x': 124, 'y': 106}, {'height': 17, 'label': 'anomaly', 'value': 16.26067543029785, 'width': 17, 'x': 142, 'y': 106}, {'height': 17, 'label': 'anomaly', 'value': 13.785025596618652, 'width': 17, 'x': 0, 'y': 124}, {'height': 17, 'label': 'anomaly', 'value': 13.882421493530273, 'width': 17, 'x': 17, 'y': 124}, {'height': 17, 'label': 'anomaly', 'value': 14.518434524536133, 'width': 17, 'x': 35, 'y': 124}, {'height': 17, 'label': 'anomaly', 'value': 13.30549430847168, 'width': 17, 'x': 53, 'y': 124}, {'height': 17, 'label': 'anomaly', 'value': 13.400219917297363, 'width': 17, 'x': 71, 'y': 124}, {'height': 17, 'label': 'anomaly', 'value': 13.994596481323242, 'width': 17, 'x': 88, 'y': 124}, {'height': 17, 'label': 'anomaly', 'value': 15.432701110839844, 'width': 17, 'x': 106, 'y': 124}, {'height': 17, 'label': 'anomaly', 'value': 14.400212287902832, 'width': 17, 'x': 124, 'y': 124}, {'height': 17, 'label': 'anomaly', 'value': 16.66559600830078, 'width': 17, 'x': 142, 'y': 124}, {'height': 17, 'label': 'anomaly', 'value': 13.393349647521973, 'width': 17, 'x': 0, 'y': 142}, {'height': 17, 'label': 'anomaly', 'value': 16.54949188232422, 'width': 17, 'x': 17, 'y': 142}, {'height': 17, 'label': 'anomaly', 'value': 16.4271297454834, 'width': 17, 'x': 35, 'y': 142}, {'height': 17, 'label': 'anomaly', 'value': 16.71086883544922, 'width': 17, 'x': 53, 'y': 142}, {'height': 17, 'label': 'anomaly', 'value': 16.09600067138672, 'width': 17, 'x': 71, 'y': 142}, {'height': 17, 'label': 'anomaly', 'value': 16.37574577331543, 'width': 17, 'x': 88, 'y': 142}, {'height': 17, 'label': 'anomaly', 'value': 16.670166015625, 'width': 17, 'x': 106, 'y': 142}, {'height': 17, 'label': 'anomaly', 'value': 17.64381980895996, 'width': 17, 'x': 124, 'y': 142}, {'height': 17, 'label': 'anomaly', 'value': 18.269092559814453, 'width': 17, 'x': 142, 'y': 142}], 'visual_anomaly_max': 35.804988861083984, 'visual_anomaly_mean': 15.392159461975098}\n",
      "\n",
      "Original is anomaly lvl 1\n",
      "{'anomaly': 0.0, 'visual_anomaly_grid': [{'height': 17, 'label': 'anomaly', 'value': 15.830415725708008, 'width': 17, 'x': 0, 'y': 0}, {'height': 17, 'label': 'anomaly', 'value': 11.875272750854492, 'width': 17, 'x': 17, 'y': 0}, {'height': 17, 'label': 'anomaly', 'value': 10.237039566040039, 'width': 17, 'x': 35, 'y': 0}, {'height': 17, 'label': 'anomaly', 'value': 11.355226516723633, 'width': 17, 'x': 53, 'y': 0}, {'height': 17, 'label': 'anomaly', 'value': 11.914735794067383, 'width': 17, 'x': 71, 'y': 0}, {'height': 17, 'label': 'anomaly', 'value': 10.77144718170166, 'width': 17, 'x': 88, 'y': 0}, {'height': 17, 'label': 'anomaly', 'value': 10.717140197753906, 'width': 17, 'x': 106, 'y': 0}, {'height': 17, 'label': 'anomaly', 'value': 11.672477722167969, 'width': 17, 'x': 124, 'y': 0}, {'height': 17, 'label': 'anomaly', 'value': 11.577215194702148, 'width': 17, 'x': 142, 'y': 0}, {'height': 17, 'label': 'anomaly', 'value': 19.33689308166504, 'width': 17, 'x': 0, 'y': 17}, {'height': 17, 'label': 'anomaly', 'value': 13.253793716430664, 'width': 17, 'x': 17, 'y': 17}, {'height': 17, 'label': 'anomaly', 'value': 14.134366989135742, 'width': 17, 'x': 35, 'y': 17}, {'height': 17, 'label': 'anomaly', 'value': 14.126764297485352, 'width': 17, 'x': 53, 'y': 17}, {'height': 17, 'label': 'anomaly', 'value': 13.471129417419434, 'width': 17, 'x': 71, 'y': 17}, {'height': 17, 'label': 'anomaly', 'value': 13.121736526489258, 'width': 17, 'x': 88, 'y': 17}, {'height': 17, 'label': 'anomaly', 'value': 13.425061225891113, 'width': 17, 'x': 106, 'y': 17}, {'height': 17, 'label': 'anomaly', 'value': 14.604619026184082, 'width': 17, 'x': 124, 'y': 17}, {'height': 17, 'label': 'anomaly', 'value': 14.551321983337402, 'width': 17, 'x': 142, 'y': 17}, {'height': 17, 'label': 'anomaly', 'value': 16.190340042114258, 'width': 17, 'x': 0, 'y': 35}, {'height': 17, 'label': 'anomaly', 'value': 12.660894393920898, 'width': 17, 'x': 17, 'y': 35}, {'height': 17, 'label': 'anomaly', 'value': 12.053121566772461, 'width': 17, 'x': 35, 'y': 35}, {'height': 17, 'label': 'anomaly', 'value': 10.482354164123535, 'width': 17, 'x': 53, 'y': 35}, {'height': 17, 'label': 'anomaly', 'value': 10.391191482543945, 'width': 17, 'x': 71, 'y': 35}, {'height': 17, 'label': 'anomaly', 'value': 12.937268257141113, 'width': 17, 'x': 88, 'y': 35}, {'height': 17, 'label': 'anomaly', 'value': 14.005817413330078, 'width': 17, 'x': 106, 'y': 35}, {'height': 17, 'label': 'anomaly', 'value': 13.580819129943848, 'width': 17, 'x': 124, 'y': 35}, {'height': 17, 'label': 'anomaly', 'value': 13.98232364654541, 'width': 17, 'x': 142, 'y': 35}, {'height': 17, 'label': 'anomaly', 'value': 17.760923385620117, 'width': 17, 'x': 0, 'y': 53}, {'height': 17, 'label': 'anomaly', 'value': 11.93386459350586, 'width': 17, 'x': 17, 'y': 53}, {'height': 17, 'label': 'anomaly', 'value': 10.6609525680542, 'width': 17, 'x': 35, 'y': 53}, {'height': 17, 'label': 'anomaly', 'value': 7.616394519805908, 'width': 17, 'x': 53, 'y': 53}, {'height': 17, 'label': 'anomaly', 'value': 9.471527099609375, 'width': 17, 'x': 71, 'y': 53}, {'height': 17, 'label': 'anomaly', 'value': 8.792863845825195, 'width': 17, 'x': 88, 'y': 53}, {'height': 17, 'label': 'anomaly', 'value': 11.726627349853516, 'width': 17, 'x': 106, 'y': 53}, {'height': 17, 'label': 'anomaly', 'value': 13.700459480285645, 'width': 17, 'x': 124, 'y': 53}, {'height': 17, 'label': 'anomaly', 'value': 15.717989921569824, 'width': 17, 'x': 142, 'y': 53}, {'height': 17, 'label': 'anomaly', 'value': 15.595168113708496, 'width': 17, 'x': 0, 'y': 71}, {'height': 17, 'label': 'anomaly', 'value': 12.318289756774902, 'width': 17, 'x': 17, 'y': 71}, {'height': 17, 'label': 'anomaly', 'value': 13.44676685333252, 'width': 17, 'x': 35, 'y': 71}, {'height': 17, 'label': 'anomaly', 'value': 34.73795700073242, 'width': 17, 'x': 53, 'y': 71}, {'height': 17, 'label': 'anomaly', 'value': 24.583885192871094, 'width': 17, 'x': 71, 'y': 71}, {'height': 17, 'label': 'anomaly', 'value': 36.117279052734375, 'width': 17, 'x': 88, 'y': 71}, {'height': 17, 'label': 'anomaly', 'value': 11.834975242614746, 'width': 17, 'x': 106, 'y': 71}, {'height': 17, 'label': 'anomaly', 'value': 14.386950492858887, 'width': 17, 'x': 124, 'y': 71}, {'height': 17, 'label': 'anomaly', 'value': 14.538928985595703, 'width': 17, 'x': 142, 'y': 71}, {'height': 17, 'label': 'anomaly', 'value': 17.53571319580078, 'width': 17, 'x': 0, 'y': 88}, {'height': 17, 'label': 'anomaly', 'value': 12.839739799499512, 'width': 17, 'x': 17, 'y': 88}, {'height': 17, 'label': 'anomaly', 'value': 16.851619720458984, 'width': 17, 'x': 35, 'y': 88}, {'height': 17, 'label': 'anomaly', 'value': 42.11799621582031, 'width': 17, 'x': 53, 'y': 88}, {'height': 17, 'label': 'anomaly', 'value': 20.1904354095459, 'width': 17, 'x': 71, 'y': 88}, {'height': 17, 'label': 'anomaly', 'value': 34.72998046875, 'width': 17, 'x': 88, 'y': 88}, {'height': 17, 'label': 'anomaly', 'value': 15.809468269348145, 'width': 17, 'x': 106, 'y': 88}, {'height': 17, 'label': 'anomaly', 'value': 13.522062301635742, 'width': 17, 'x': 124, 'y': 88}, {'height': 17, 'label': 'anomaly', 'value': 15.009575843811035, 'width': 17, 'x': 142, 'y': 88}, {'height': 17, 'label': 'anomaly', 'value': 18.71348762512207, 'width': 17, 'x': 0, 'y': 106}, {'height': 17, 'label': 'anomaly', 'value': 13.382018089294434, 'width': 17, 'x': 17, 'y': 106}, {'height': 17, 'label': 'anomaly', 'value': 12.739412307739258, 'width': 17, 'x': 35, 'y': 106}, {'height': 17, 'label': 'anomaly', 'value': 9.473859786987305, 'width': 17, 'x': 53, 'y': 106}, {'height': 17, 'label': 'anomaly', 'value': 10.90170955657959, 'width': 17, 'x': 71, 'y': 106}, {'height': 17, 'label': 'anomaly', 'value': 12.990469932556152, 'width': 17, 'x': 88, 'y': 106}, {'height': 17, 'label': 'anomaly', 'value': 11.08884048461914, 'width': 17, 'x': 106, 'y': 106}, {'height': 17, 'label': 'anomaly', 'value': 13.170370101928711, 'width': 17, 'x': 124, 'y': 106}, {'height': 17, 'label': 'anomaly', 'value': 16.067615509033203, 'width': 17, 'x': 142, 'y': 106}, {'height': 17, 'label': 'anomaly', 'value': 17.689529418945312, 'width': 17, 'x': 0, 'y': 124}, {'height': 17, 'label': 'anomaly', 'value': 13.618692398071289, 'width': 17, 'x': 17, 'y': 124}, {'height': 17, 'label': 'anomaly', 'value': 11.273563385009766, 'width': 17, 'x': 35, 'y': 124}, {'height': 17, 'label': 'anomaly', 'value': 12.575055122375488, 'width': 17, 'x': 53, 'y': 124}, {'height': 17, 'label': 'anomaly', 'value': 12.20621395111084, 'width': 17, 'x': 71, 'y': 124}, {'height': 17, 'label': 'anomaly', 'value': 13.188788414001465, 'width': 17, 'x': 88, 'y': 124}, {'height': 17, 'label': 'anomaly', 'value': 12.320016860961914, 'width': 17, 'x': 106, 'y': 124}, {'height': 17, 'label': 'anomaly', 'value': 14.81453800201416, 'width': 17, 'x': 124, 'y': 124}, {'height': 17, 'label': 'anomaly', 'value': 16.743270874023438, 'width': 17, 'x': 142, 'y': 124}, {'height': 17, 'label': 'anomaly', 'value': 18.11972427368164, 'width': 17, 'x': 0, 'y': 142}, {'height': 17, 'label': 'anomaly', 'value': 16.261613845825195, 'width': 17, 'x': 17, 'y': 142}, {'height': 17, 'label': 'anomaly', 'value': 15.698575019836426, 'width': 17, 'x': 35, 'y': 142}, {'height': 17, 'label': 'anomaly', 'value': 15.516013145446777, 'width': 17, 'x': 53, 'y': 142}, {'height': 17, 'label': 'anomaly', 'value': 14.409235954284668, 'width': 17, 'x': 71, 'y': 142}, {'height': 17, 'label': 'anomaly', 'value': 15.92899227142334, 'width': 17, 'x': 88, 'y': 142}, {'height': 17, 'label': 'anomaly', 'value': 15.767849922180176, 'width': 17, 'x': 106, 'y': 142}, {'height': 17, 'label': 'anomaly', 'value': 17.743282318115234, 'width': 17, 'x': 124, 'y': 142}, {'height': 17, 'label': 'anomaly', 'value': 19.539621353149414, 'width': 17, 'x': 142, 'y': 142}], 'visual_anomaly_max': 42.11799621582031, 'visual_anomaly_mean': 15.033971786499023}\n",
      "\n",
      "Original is anomaly lvl 2\n",
      "{'anomaly': 0.0, 'visual_anomaly_grid': [{'height': 17, 'label': 'anomaly', 'value': 13.74482536315918, 'width': 17, 'x': 0, 'y': 0}, {'height': 17, 'label': 'anomaly', 'value': 10.953402519226074, 'width': 17, 'x': 17, 'y': 0}, {'height': 17, 'label': 'anomaly', 'value': 12.104817390441895, 'width': 17, 'x': 35, 'y': 0}, {'height': 17, 'label': 'anomaly', 'value': 12.100188255310059, 'width': 17, 'x': 53, 'y': 0}, {'height': 17, 'label': 'anomaly', 'value': 10.963990211486816, 'width': 17, 'x': 71, 'y': 0}, {'height': 17, 'label': 'anomaly', 'value': 10.530410766601562, 'width': 17, 'x': 88, 'y': 0}, {'height': 17, 'label': 'anomaly', 'value': 12.400148391723633, 'width': 17, 'x': 106, 'y': 0}, {'height': 17, 'label': 'anomaly', 'value': 12.133060455322266, 'width': 17, 'x': 124, 'y': 0}, {'height': 17, 'label': 'anomaly', 'value': 12.203076362609863, 'width': 17, 'x': 142, 'y': 0}, {'height': 17, 'label': 'anomaly', 'value': 18.05641746520996, 'width': 17, 'x': 0, 'y': 17}, {'height': 17, 'label': 'anomaly', 'value': 14.35025691986084, 'width': 17, 'x': 17, 'y': 17}, {'height': 17, 'label': 'anomaly', 'value': 15.19609260559082, 'width': 17, 'x': 35, 'y': 17}, {'height': 17, 'label': 'anomaly', 'value': 14.430594444274902, 'width': 17, 'x': 53, 'y': 17}, {'height': 17, 'label': 'anomaly', 'value': 15.03650951385498, 'width': 17, 'x': 71, 'y': 17}, {'height': 17, 'label': 'anomaly', 'value': 15.766777038574219, 'width': 17, 'x': 88, 'y': 17}, {'height': 17, 'label': 'anomaly', 'value': 16.14412498474121, 'width': 17, 'x': 106, 'y': 17}, {'height': 17, 'label': 'anomaly', 'value': 13.838983535766602, 'width': 17, 'x': 124, 'y': 17}, {'height': 17, 'label': 'anomaly', 'value': 15.428900718688965, 'width': 17, 'x': 142, 'y': 17}, {'height': 17, 'label': 'anomaly', 'value': 20.304380416870117, 'width': 17, 'x': 0, 'y': 35}, {'height': 17, 'label': 'anomaly', 'value': 14.127232551574707, 'width': 17, 'x': 17, 'y': 35}, {'height': 17, 'label': 'anomaly', 'value': 14.098292350769043, 'width': 17, 'x': 35, 'y': 35}, {'height': 17, 'label': 'anomaly', 'value': 11.505620956420898, 'width': 17, 'x': 53, 'y': 35}, {'height': 17, 'label': 'anomaly', 'value': 13.627241134643555, 'width': 17, 'x': 71, 'y': 35}, {'height': 17, 'label': 'anomaly', 'value': 13.096770286560059, 'width': 17, 'x': 88, 'y': 35}, {'height': 17, 'label': 'anomaly', 'value': 14.8148193359375, 'width': 17, 'x': 106, 'y': 35}, {'height': 17, 'label': 'anomaly', 'value': 14.752382278442383, 'width': 17, 'x': 124, 'y': 35}, {'height': 17, 'label': 'anomaly', 'value': 16.073148727416992, 'width': 17, 'x': 142, 'y': 35}, {'height': 17, 'label': 'anomaly', 'value': 19.730995178222656, 'width': 17, 'x': 0, 'y': 53}, {'height': 17, 'label': 'anomaly', 'value': 14.725055694580078, 'width': 17, 'x': 17, 'y': 53}, {'height': 17, 'label': 'anomaly', 'value': 13.151378631591797, 'width': 17, 'x': 35, 'y': 53}, {'height': 17, 'label': 'anomaly', 'value': 8.09318733215332, 'width': 17, 'x': 53, 'y': 53}, {'height': 17, 'label': 'anomaly', 'value': 10.577190399169922, 'width': 17, 'x': 71, 'y': 53}, {'height': 17, 'label': 'anomaly', 'value': 7.606091499328613, 'width': 17, 'x': 88, 'y': 53}, {'height': 17, 'label': 'anomaly', 'value': 10.830562591552734, 'width': 17, 'x': 106, 'y': 53}, {'height': 17, 'label': 'anomaly', 'value': 14.502307891845703, 'width': 17, 'x': 124, 'y': 53}, {'height': 17, 'label': 'anomaly', 'value': 16.060924530029297, 'width': 17, 'x': 142, 'y': 53}, {'height': 17, 'label': 'anomaly', 'value': 17.257461547851562, 'width': 17, 'x': 0, 'y': 71}, {'height': 17, 'label': 'anomaly', 'value': 14.209005355834961, 'width': 17, 'x': 17, 'y': 71}, {'height': 17, 'label': 'anomaly', 'value': 14.930402755737305, 'width': 17, 'x': 35, 'y': 71}, {'height': 17, 'label': 'anomaly', 'value': 28.538833618164062, 'width': 17, 'x': 53, 'y': 71}, {'height': 17, 'label': 'anomaly', 'value': 14.63382625579834, 'width': 17, 'x': 71, 'y': 71}, {'height': 17, 'label': 'anomaly', 'value': 25.447795867919922, 'width': 17, 'x': 88, 'y': 71}, {'height': 17, 'label': 'anomaly', 'value': 17.007740020751953, 'width': 17, 'x': 106, 'y': 71}, {'height': 17, 'label': 'anomaly', 'value': 13.95714282989502, 'width': 17, 'x': 124, 'y': 71}, {'height': 17, 'label': 'anomaly', 'value': 15.55488395690918, 'width': 17, 'x': 142, 'y': 71}, {'height': 17, 'label': 'anomaly', 'value': 19.538475036621094, 'width': 17, 'x': 0, 'y': 88}, {'height': 17, 'label': 'anomaly', 'value': 13.393058776855469, 'width': 17, 'x': 17, 'y': 88}, {'height': 17, 'label': 'anomaly', 'value': 15.611123085021973, 'width': 17, 'x': 35, 'y': 88}, {'height': 17, 'label': 'anomaly', 'value': 28.587615966796875, 'width': 17, 'x': 53, 'y': 88}, {'height': 17, 'label': 'anomaly', 'value': 18.23456573486328, 'width': 17, 'x': 71, 'y': 88}, {'height': 17, 'label': 'anomaly', 'value': 23.935949325561523, 'width': 17, 'x': 88, 'y': 88}, {'height': 17, 'label': 'anomaly', 'value': 20.431623458862305, 'width': 17, 'x': 106, 'y': 88}, {'height': 17, 'label': 'anomaly', 'value': 14.084352493286133, 'width': 17, 'x': 124, 'y': 88}, {'height': 17, 'label': 'anomaly', 'value': 16.684553146362305, 'width': 17, 'x': 142, 'y': 88}, {'height': 17, 'label': 'anomaly', 'value': 19.387210845947266, 'width': 17, 'x': 0, 'y': 106}, {'height': 17, 'label': 'anomaly', 'value': 14.223121643066406, 'width': 17, 'x': 17, 'y': 106}, {'height': 17, 'label': 'anomaly', 'value': 14.946221351623535, 'width': 17, 'x': 35, 'y': 106}, {'height': 17, 'label': 'anomaly', 'value': 11.454495429992676, 'width': 17, 'x': 53, 'y': 106}, {'height': 17, 'label': 'anomaly', 'value': 9.282004356384277, 'width': 17, 'x': 71, 'y': 106}, {'height': 17, 'label': 'anomaly', 'value': 10.705159187316895, 'width': 17, 'x': 88, 'y': 106}, {'height': 17, 'label': 'anomaly', 'value': 12.29765510559082, 'width': 17, 'x': 106, 'y': 106}, {'height': 17, 'label': 'anomaly', 'value': 15.175409317016602, 'width': 17, 'x': 124, 'y': 106}, {'height': 17, 'label': 'anomaly', 'value': 15.873184204101562, 'width': 17, 'x': 142, 'y': 106}, {'height': 17, 'label': 'anomaly', 'value': 18.095945358276367, 'width': 17, 'x': 0, 'y': 124}, {'height': 17, 'label': 'anomaly', 'value': 12.932372093200684, 'width': 17, 'x': 17, 'y': 124}, {'height': 17, 'label': 'anomaly', 'value': 13.924359321594238, 'width': 17, 'x': 35, 'y': 124}, {'height': 17, 'label': 'anomaly', 'value': 13.351003646850586, 'width': 17, 'x': 53, 'y': 124}, {'height': 17, 'label': 'anomaly', 'value': 12.418381690979004, 'width': 17, 'x': 71, 'y': 124}, {'height': 17, 'label': 'anomaly', 'value': 13.073304176330566, 'width': 17, 'x': 88, 'y': 124}, {'height': 17, 'label': 'anomaly', 'value': 13.449294090270996, 'width': 17, 'x': 106, 'y': 124}, {'height': 17, 'label': 'anomaly', 'value': 15.663044929504395, 'width': 17, 'x': 124, 'y': 124}, {'height': 17, 'label': 'anomaly', 'value': 15.33347225189209, 'width': 17, 'x': 142, 'y': 124}, {'height': 17, 'label': 'anomaly', 'value': 21.449331283569336, 'width': 17, 'x': 0, 'y': 142}, {'height': 17, 'label': 'anomaly', 'value': 16.762807846069336, 'width': 17, 'x': 17, 'y': 142}, {'height': 17, 'label': 'anomaly', 'value': 16.24254608154297, 'width': 17, 'x': 35, 'y': 142}, {'height': 17, 'label': 'anomaly', 'value': 14.531899452209473, 'width': 17, 'x': 53, 'y': 142}, {'height': 17, 'label': 'anomaly', 'value': 15.300909042358398, 'width': 17, 'x': 71, 'y': 142}, {'height': 17, 'label': 'anomaly', 'value': 16.95965576171875, 'width': 17, 'x': 88, 'y': 142}, {'height': 17, 'label': 'anomaly', 'value': 16.7152156829834, 'width': 17, 'x': 106, 'y': 142}, {'height': 17, 'label': 'anomaly', 'value': 16.94654083251953, 'width': 17, 'x': 124, 'y': 142}, {'height': 17, 'label': 'anomaly', 'value': 16.585655212402344, 'width': 17, 'x': 142, 'y': 142}], 'visual_anomaly_max': 28.587615966796875, 'visual_anomaly_mean': 15.162704467773438}\n",
      "{'anomaly': 0.0, 'visual_anomaly_grid': [{'height': 17, 'label': 'anomaly', 'value': 15.572367668151855, 'width': 17, 'x': 0, 'y': 0}, {'height': 17, 'label': 'anomaly', 'value': 11.82872200012207, 'width': 17, 'x': 17, 'y': 0}, {'height': 17, 'label': 'anomaly', 'value': 11.816630363464355, 'width': 17, 'x': 35, 'y': 0}, {'height': 17, 'label': 'anomaly', 'value': 10.797523498535156, 'width': 17, 'x': 53, 'y': 0}, {'height': 17, 'label': 'anomaly', 'value': 11.3286771774292, 'width': 17, 'x': 71, 'y': 0}, {'height': 17, 'label': 'anomaly', 'value': 12.728325843811035, 'width': 17, 'x': 88, 'y': 0}, {'height': 17, 'label': 'anomaly', 'value': 12.361564636230469, 'width': 17, 'x': 106, 'y': 0}, {'height': 17, 'label': 'anomaly', 'value': 10.641555786132812, 'width': 17, 'x': 124, 'y': 0}, {'height': 17, 'label': 'anomaly', 'value': 11.893289566040039, 'width': 17, 'x': 142, 'y': 0}, {'height': 17, 'label': 'anomaly', 'value': 21.276647567749023, 'width': 17, 'x': 0, 'y': 17}, {'height': 17, 'label': 'anomaly', 'value': 14.639629364013672, 'width': 17, 'x': 17, 'y': 17}, {'height': 17, 'label': 'anomaly', 'value': 15.154748916625977, 'width': 17, 'x': 35, 'y': 17}, {'height': 17, 'label': 'anomaly', 'value': 14.9760103225708, 'width': 17, 'x': 53, 'y': 17}, {'height': 17, 'label': 'anomaly', 'value': 15.868902206420898, 'width': 17, 'x': 71, 'y': 17}, {'height': 17, 'label': 'anomaly', 'value': 16.727218627929688, 'width': 17, 'x': 88, 'y': 17}, {'height': 17, 'label': 'anomaly', 'value': 16.206802368164062, 'width': 17, 'x': 106, 'y': 17}, {'height': 17, 'label': 'anomaly', 'value': 16.353904724121094, 'width': 17, 'x': 124, 'y': 17}, {'height': 17, 'label': 'anomaly', 'value': 17.532421112060547, 'width': 17, 'x': 142, 'y': 17}, {'height': 17, 'label': 'anomaly', 'value': 20.51055145263672, 'width': 17, 'x': 0, 'y': 35}, {'height': 17, 'label': 'anomaly', 'value': 14.896954536437988, 'width': 17, 'x': 17, 'y': 35}, {'height': 17, 'label': 'anomaly', 'value': 14.214360237121582, 'width': 17, 'x': 35, 'y': 35}, {'height': 17, 'label': 'anomaly', 'value': 12.778704643249512, 'width': 17, 'x': 53, 'y': 35}, {'height': 17, 'label': 'anomaly', 'value': 13.13322639465332, 'width': 17, 'x': 71, 'y': 35}, {'height': 17, 'label': 'anomaly', 'value': 14.243701934814453, 'width': 17, 'x': 88, 'y': 35}, {'height': 17, 'label': 'anomaly', 'value': 15.702272415161133, 'width': 17, 'x': 106, 'y': 35}, {'height': 17, 'label': 'anomaly', 'value': 15.782480239868164, 'width': 17, 'x': 124, 'y': 35}, {'height': 17, 'label': 'anomaly', 'value': 15.532572746276855, 'width': 17, 'x': 142, 'y': 35}, {'height': 17, 'label': 'anomaly', 'value': 16.461416244506836, 'width': 17, 'x': 0, 'y': 53}, {'height': 17, 'label': 'anomaly', 'value': 13.907844543457031, 'width': 17, 'x': 17, 'y': 53}, {'height': 17, 'label': 'anomaly', 'value': 13.319758415222168, 'width': 17, 'x': 35, 'y': 53}, {'height': 17, 'label': 'anomaly', 'value': 9.626632690429688, 'width': 17, 'x': 53, 'y': 53}, {'height': 17, 'label': 'anomaly', 'value': 13.052019119262695, 'width': 17, 'x': 71, 'y': 53}, {'height': 17, 'label': 'anomaly', 'value': 10.766047477722168, 'width': 17, 'x': 88, 'y': 53}, {'height': 17, 'label': 'anomaly', 'value': 13.487923622131348, 'width': 17, 'x': 106, 'y': 53}, {'height': 17, 'label': 'anomaly', 'value': 15.173798561096191, 'width': 17, 'x': 124, 'y': 53}, {'height': 17, 'label': 'anomaly', 'value': 14.706546783447266, 'width': 17, 'x': 142, 'y': 53}, {'height': 17, 'label': 'anomaly', 'value': 15.976774215698242, 'width': 17, 'x': 0, 'y': 71}, {'height': 17, 'label': 'anomaly', 'value': 13.706917762756348, 'width': 17, 'x': 17, 'y': 71}, {'height': 17, 'label': 'anomaly', 'value': 16.058269500732422, 'width': 17, 'x': 35, 'y': 71}, {'height': 17, 'label': 'anomaly', 'value': 23.60833168029785, 'width': 17, 'x': 53, 'y': 71}, {'height': 17, 'label': 'anomaly', 'value': 15.587203025817871, 'width': 17, 'x': 71, 'y': 71}, {'height': 17, 'label': 'anomaly', 'value': 24.814489364624023, 'width': 17, 'x': 88, 'y': 71}, {'height': 17, 'label': 'anomaly', 'value': 11.958316802978516, 'width': 17, 'x': 106, 'y': 71}, {'height': 17, 'label': 'anomaly', 'value': 14.600225448608398, 'width': 17, 'x': 124, 'y': 71}, {'height': 17, 'label': 'anomaly', 'value': 15.30533504486084, 'width': 17, 'x': 142, 'y': 71}, {'height': 17, 'label': 'anomaly', 'value': 18.581443786621094, 'width': 17, 'x': 0, 'y': 88}, {'height': 17, 'label': 'anomaly', 'value': 14.571310043334961, 'width': 17, 'x': 17, 'y': 88}, {'height': 17, 'label': 'anomaly', 'value': 19.362119674682617, 'width': 17, 'x': 35, 'y': 88}, {'height': 17, 'label': 'anomaly', 'value': 29.915721893310547, 'width': 17, 'x': 53, 'y': 88}, {'height': 17, 'label': 'anomaly', 'value': 12.301222801208496, 'width': 17, 'x': 71, 'y': 88}, {'height': 17, 'label': 'anomaly', 'value': 27.907175064086914, 'width': 17, 'x': 88, 'y': 88}, {'height': 17, 'label': 'anomaly', 'value': 16.6563777923584, 'width': 17, 'x': 106, 'y': 88}, {'height': 17, 'label': 'anomaly', 'value': 14.972460746765137, 'width': 17, 'x': 124, 'y': 88}, {'height': 17, 'label': 'anomaly', 'value': 15.849181175231934, 'width': 17, 'x': 142, 'y': 88}, {'height': 17, 'label': 'anomaly', 'value': 19.51323699951172, 'width': 17, 'x': 0, 'y': 106}, {'height': 17, 'label': 'anomaly', 'value': 14.89908218383789, 'width': 17, 'x': 17, 'y': 106}, {'height': 17, 'label': 'anomaly', 'value': 15.98111343383789, 'width': 17, 'x': 35, 'y': 106}, {'height': 17, 'label': 'anomaly', 'value': 9.526203155517578, 'width': 17, 'x': 53, 'y': 106}, {'height': 17, 'label': 'anomaly', 'value': 10.375247955322266, 'width': 17, 'x': 88, 'y': 106}, {'height': 17, 'label': 'anomaly', 'value': 12.384766578674316, 'width': 17, 'x': 106, 'y': 106}, {'height': 17, 'label': 'anomaly', 'value': 14.693025588989258, 'width': 17, 'x': 124, 'y': 106}, {'height': 17, 'label': 'anomaly', 'value': 15.863269805908203, 'width': 17, 'x': 142, 'y': 106}, {'height': 17, 'label': 'anomaly', 'value': 18.503019332885742, 'width': 17, 'x': 0, 'y': 124}, {'height': 17, 'label': 'anomaly', 'value': 14.972599029541016, 'width': 17, 'x': 17, 'y': 124}, {'height': 17, 'label': 'anomaly', 'value': 15.00915241241455, 'width': 17, 'x': 35, 'y': 124}, {'height': 17, 'label': 'anomaly', 'value': 13.215874671936035, 'width': 17, 'x': 53, 'y': 124}, {'height': 17, 'label': 'anomaly', 'value': 11.469194412231445, 'width': 17, 'x': 71, 'y': 124}, {'height': 17, 'label': 'anomaly', 'value': 12.234619140625, 'width': 17, 'x': 88, 'y': 124}, {'height': 17, 'label': 'anomaly', 'value': 13.69448184967041, 'width': 17, 'x': 106, 'y': 124}, {'height': 17, 'label': 'anomaly', 'value': 14.181069374084473, 'width': 17, 'x': 124, 'y': 124}, {'height': 17, 'label': 'anomaly', 'value': 16.361116409301758, 'width': 17, 'x': 142, 'y': 124}, {'height': 17, 'label': 'anomaly', 'value': 18.066547393798828, 'width': 17, 'x': 0, 'y': 142}, {'height': 17, 'label': 'anomaly', 'value': 17.196863174438477, 'width': 17, 'x': 17, 'y': 142}, {'height': 17, 'label': 'anomaly', 'value': 17.139986038208008, 'width': 17, 'x': 35, 'y': 142}, {'height': 17, 'label': 'anomaly', 'value': 14.897900581359863, 'width': 17, 'x': 53, 'y': 142}, {'height': 17, 'label': 'anomaly', 'value': 14.994147300720215, 'width': 17, 'x': 71, 'y': 142}, {'height': 17, 'label': 'anomaly', 'value': 15.781525611877441, 'width': 17, 'x': 88, 'y': 142}, {'height': 17, 'label': 'anomaly', 'value': 15.352242469787598, 'width': 17, 'x': 106, 'y': 142}, {'height': 17, 'label': 'anomaly', 'value': 17.197227478027344, 'width': 17, 'x': 124, 'y': 142}, {'height': 17, 'label': 'anomaly', 'value': 19.453821182250977, 'width': 17, 'x': 142, 'y': 142}], 'visual_anomaly_max': 29.915721893310547, 'visual_anomaly_mean': 15.245477676391602}\n",
      "\n",
      "Original is anomaly lvl 3\n",
      "{'anomaly': 0.0, 'visual_anomaly_grid': [{'height': 17, 'label': 'anomaly', 'value': 12.739570617675781, 'width': 17, 'x': 0, 'y': 0}, {'height': 17, 'label': 'anomaly', 'value': 11.431145668029785, 'width': 17, 'x': 17, 'y': 0}, {'height': 17, 'label': 'anomaly', 'value': 11.365038871765137, 'width': 17, 'x': 35, 'y': 0}, {'height': 17, 'label': 'anomaly', 'value': 11.676969528198242, 'width': 17, 'x': 53, 'y': 0}, {'height': 17, 'label': 'anomaly', 'value': 11.285799026489258, 'width': 17, 'x': 71, 'y': 0}, {'height': 17, 'label': 'anomaly', 'value': 11.446977615356445, 'width': 17, 'x': 88, 'y': 0}, {'height': 17, 'label': 'anomaly', 'value': 11.532844543457031, 'width': 17, 'x': 106, 'y': 0}, {'height': 17, 'label': 'anomaly', 'value': 12.026501655578613, 'width': 17, 'x': 124, 'y': 0}, {'height': 17, 'label': 'anomaly', 'value': 11.703914642333984, 'width': 17, 'x': 142, 'y': 0}, {'height': 17, 'label': 'anomaly', 'value': 18.07093620300293, 'width': 17, 'x': 0, 'y': 17}, {'height': 17, 'label': 'anomaly', 'value': 16.314666748046875, 'width': 17, 'x': 17, 'y': 17}, {'height': 17, 'label': 'anomaly', 'value': 15.562341690063477, 'width': 17, 'x': 35, 'y': 17}, {'height': 17, 'label': 'anomaly', 'value': 15.3706636428833, 'width': 17, 'x': 53, 'y': 17}, {'height': 17, 'label': 'anomaly', 'value': 14.783880233764648, 'width': 17, 'x': 71, 'y': 17}, {'height': 17, 'label': 'anomaly', 'value': 15.22490406036377, 'width': 17, 'x': 88, 'y': 17}, {'height': 17, 'label': 'anomaly', 'value': 14.850783348083496, 'width': 17, 'x': 106, 'y': 17}, {'height': 17, 'label': 'anomaly', 'value': 15.553448677062988, 'width': 17, 'x': 124, 'y': 17}, {'height': 17, 'label': 'anomaly', 'value': 16.236164093017578, 'width': 17, 'x': 142, 'y': 17}, {'height': 17, 'label': 'anomaly', 'value': 18.407840728759766, 'width': 17, 'x': 0, 'y': 35}, {'height': 17, 'label': 'anomaly', 'value': 15.398033142089844, 'width': 17, 'x': 17, 'y': 35}, {'height': 17, 'label': 'anomaly', 'value': 14.902573585510254, 'width': 17, 'x': 35, 'y': 35}, {'height': 17, 'label': 'anomaly', 'value': 13.715141296386719, 'width': 17, 'x': 53, 'y': 35}, {'height': 17, 'label': 'anomaly', 'value': 12.932637214660645, 'width': 17, 'x': 71, 'y': 35}, {'height': 17, 'label': 'anomaly', 'value': 12.95478630065918, 'width': 17, 'x': 88, 'y': 35}, {'height': 17, 'label': 'anomaly', 'value': 14.43125057220459, 'width': 17, 'x': 106, 'y': 35}, {'height': 17, 'label': 'anomaly', 'value': 15.357352256774902, 'width': 17, 'x': 124, 'y': 35}, {'height': 17, 'label': 'anomaly', 'value': 16.921926498413086, 'width': 17, 'x': 142, 'y': 35}, {'height': 17, 'label': 'anomaly', 'value': 17.249893188476562, 'width': 17, 'x': 0, 'y': 53}, {'height': 17, 'label': 'anomaly', 'value': 14.570991516113281, 'width': 17, 'x': 17, 'y': 53}, {'height': 17, 'label': 'anomaly', 'value': 14.206974983215332, 'width': 17, 'x': 35, 'y': 53}, {'height': 17, 'label': 'anomaly', 'value': 12.537220001220703, 'width': 17, 'x': 53, 'y': 53}, {'height': 17, 'label': 'anomaly', 'value': 12.689495086669922, 'width': 17, 'x': 71, 'y': 53}, {'height': 17, 'label': 'anomaly', 'value': 10.46889591217041, 'width': 17, 'x': 88, 'y': 53}, {'height': 17, 'label': 'anomaly', 'value': 9.595146179199219, 'width': 17, 'x': 106, 'y': 53}, {'height': 17, 'label': 'anomaly', 'value': 14.620874404907227, 'width': 17, 'x': 124, 'y': 53}, {'height': 17, 'label': 'anomaly', 'value': 16.724885940551758, 'width': 17, 'x': 142, 'y': 53}, {'height': 17, 'label': 'anomaly', 'value': 15.845911979675293, 'width': 17, 'x': 0, 'y': 71}, {'height': 17, 'label': 'anomaly', 'value': 14.796655654907227, 'width': 17, 'x': 17, 'y': 71}, {'height': 17, 'label': 'anomaly', 'value': 15.564939498901367, 'width': 17, 'x': 35, 'y': 71}, {'height': 17, 'label': 'anomaly', 'value': 28.630264282226562, 'width': 17, 'x': 53, 'y': 71}, {'height': 17, 'label': 'anomaly', 'value': 17.203832626342773, 'width': 17, 'x': 71, 'y': 71}, {'height': 17, 'label': 'anomaly', 'value': 27.59055519104004, 'width': 17, 'x': 88, 'y': 71}, {'height': 17, 'label': 'anomaly', 'value': 17.755430221557617, 'width': 17, 'x': 106, 'y': 71}, {'height': 17, 'label': 'anomaly', 'value': 14.375710487365723, 'width': 17, 'x': 124, 'y': 71}, {'height': 17, 'label': 'anomaly', 'value': 15.504992485046387, 'width': 17, 'x': 142, 'y': 71}, {'height': 17, 'label': 'anomaly', 'value': 17.743896484375, 'width': 17, 'x': 0, 'y': 88}, {'height': 17, 'label': 'anomaly', 'value': 14.084945678710938, 'width': 17, 'x': 17, 'y': 88}, {'height': 17, 'label': 'anomaly', 'value': 15.859922409057617, 'width': 17, 'x': 35, 'y': 88}, {'height': 17, 'label': 'anomaly', 'value': 26.858156204223633, 'width': 17, 'x': 53, 'y': 88}, {'height': 17, 'label': 'anomaly', 'value': 11.4462251663208, 'width': 17, 'x': 71, 'y': 88}, {'height': 17, 'label': 'anomaly', 'value': 17.873157501220703, 'width': 17, 'x': 88, 'y': 88}, {'height': 17, 'label': 'anomaly', 'value': 19.546493530273438, 'width': 17, 'x': 106, 'y': 88}, {'height': 17, 'label': 'anomaly', 'value': 13.374052047729492, 'width': 17, 'x': 124, 'y': 88}, {'height': 17, 'label': 'anomaly', 'value': 15.385087966918945, 'width': 17, 'x': 142, 'y': 88}, {'height': 17, 'label': 'anomaly', 'value': 18.26663589477539, 'width': 17, 'x': 0, 'y': 106}, {'height': 17, 'label': 'anomaly', 'value': 14.696983337402344, 'width': 17, 'x': 17, 'y': 106}, {'height': 17, 'label': 'anomaly', 'value': 14.83405590057373, 'width': 17, 'x': 35, 'y': 106}, {'height': 17, 'label': 'anomaly', 'value': 11.277115821838379, 'width': 17, 'x': 53, 'y': 106}, {'height': 17, 'label': 'anomaly', 'value': 5.449657440185547, 'width': 17, 'x': 71, 'y': 106}, {'height': 17, 'label': 'anomaly', 'value': 8.69241714477539, 'width': 17, 'x': 88, 'y': 106}, {'height': 17, 'label': 'anomaly', 'value': 11.515084266662598, 'width': 17, 'x': 106, 'y': 106}, {'height': 17, 'label': 'anomaly', 'value': 14.497882843017578, 'width': 17, 'x': 124, 'y': 106}, {'height': 17, 'label': 'anomaly', 'value': 16.847532272338867, 'width': 17, 'x': 142, 'y': 106}, {'height': 17, 'label': 'anomaly', 'value': 16.45193099975586, 'width': 17, 'x': 0, 'y': 124}, {'height': 17, 'label': 'anomaly', 'value': 14.625917434692383, 'width': 17, 'x': 17, 'y': 124}, {'height': 17, 'label': 'anomaly', 'value': 14.580934524536133, 'width': 17, 'x': 35, 'y': 124}, {'height': 17, 'label': 'anomaly', 'value': 13.957890510559082, 'width': 17, 'x': 53, 'y': 124}, {'height': 17, 'label': 'anomaly', 'value': 12.283791542053223, 'width': 17, 'x': 71, 'y': 124}, {'height': 17, 'label': 'anomaly', 'value': 11.8480863571167, 'width': 17, 'x': 88, 'y': 124}, {'height': 17, 'label': 'anomaly', 'value': 13.845246315002441, 'width': 17, 'x': 106, 'y': 124}, {'height': 17, 'label': 'anomaly', 'value': 15.458626747131348, 'width': 17, 'x': 124, 'y': 124}, {'height': 17, 'label': 'anomaly', 'value': 18.204877853393555, 'width': 17, 'x': 142, 'y': 124}, {'height': 17, 'label': 'anomaly', 'value': 17.897174835205078, 'width': 17, 'x': 0, 'y': 142}, {'height': 17, 'label': 'anomaly', 'value': 16.580310821533203, 'width': 17, 'x': 17, 'y': 142}, {'height': 17, 'label': 'anomaly', 'value': 16.38420867919922, 'width': 17, 'x': 35, 'y': 142}, {'height': 17, 'label': 'anomaly', 'value': 16.7064151763916, 'width': 17, 'x': 53, 'y': 142}, {'height': 17, 'label': 'anomaly', 'value': 15.696450233459473, 'width': 17, 'x': 71, 'y': 142}, {'height': 17, 'label': 'anomaly', 'value': 15.013995170593262, 'width': 17, 'x': 88, 'y': 142}, {'height': 17, 'label': 'anomaly', 'value': 16.10286521911621, 'width': 17, 'x': 106, 'y': 142}, {'height': 17, 'label': 'anomaly', 'value': 18.528520584106445, 'width': 17, 'x': 124, 'y': 142}, {'height': 17, 'label': 'anomaly', 'value': 21.148944854736328, 'width': 17, 'x': 142, 'y': 142}], 'visual_anomaly_max': 28.630264282226562, 'visual_anomaly_mean': 15.13205337524414}\n"
     ]
    }
   ],
   "source": [
    "from edge_impulse_linux.image import ImageImpulseRunner\n",
    "import cv2  \n",
    "\n",
    "model = cfg[\"output_path\"]\n",
    "modelfile = os.path.join(model)\n",
    "print(\"modelfile\", modelfile)\n",
    "\n",
    "def ei_inference(img_path):\n",
    "    with ImageImpulseRunner(modelfile) as runner:\n",
    "        model_info = runner.init()\n",
    "        # print(\"model_info\", model_info)\n",
    "        \n",
    "        # Load the image directly from the disk  \n",
    "        original_image = cv2.imread(img_path, cv2.IMREAD_COLOR)  \n",
    "        # Convert the image from BGR to RGB (since OpenCV loads images in BGR format)  \n",
    "        img = cv2.cvtColor(original_image, cv2.COLOR_BGR2RGB)  \n",
    "        \n",
    "        features, cropped = runner.get_features_from_image(img)\n",
    "        # print(\"FEATURES\", len(features), len(cropped))\n",
    "        \n",
    "        # print(\"GO\")\n",
    "        res = runner.classify(features)\n",
    "        print(res[\"result\"])\n",
    "\n",
    "\n",
    "\n",
    "all_defect_cookies_lvl_1=[f\"{dataset_path_defect_1}/{f}\" for f in os.listdir(dataset_path_defect_1) if f.endswith('.jpg')]\n",
    "all_defect_cookies_lvl_2=[f\"{dataset_path_defect_2}/{f}\" for f in os.listdir(dataset_path_defect_2) if f.endswith('.jpg')]\n",
    "all_defect_cookies_lvl_3=[f\"{dataset_path_defect_3}/{f}\" for f in os.listdir(dataset_path_defect_3) if f.endswith('.jpg')]\n",
    "all_defect_cookies = all_defect_cookies_lvl_1 + all_defect_cookies_lvl_2 + all_defect_cookies_lvl_3  \n",
    "\n",
    "print(\"Original is good\")\n",
    "ei_inference(test_good_cookies[0])\n",
    "print(\"\\nOriginal is anomaly lvl 1\")\n",
    "ei_inference(all_defect_cookies_lvl_1[0])\n",
    "print(\"\\nOriginal is anomaly lvl 2\")\n",
    "ei_inference(all_defect_cookies_lvl_2[0])\n",
    "ei_inference( \"datasets/cookies_2/anomaly_lvl_2/20240417_142025.jpg\")\n",
    "print(\"\\nOriginal is anomaly lvl 3\")\n",
    "ei_inference(all_defect_cookies_lvl_3[0])"
   ]
  }
 ],
 "metadata": {
  "kernelspec": {
   "display_name": "Python 3",
   "language": "python",
   "name": "python3"
  },
  "language_info": {
   "codemirror_mode": {
    "name": "ipython",
    "version": 3
   },
   "file_extension": ".py",
   "mimetype": "text/x-python",
   "name": "python",
   "nbconvert_exporter": "python",
   "pygments_lexer": "ipython3",
   "version": "3.11.7"
  }
 },
 "nbformat": 4,
 "nbformat_minor": 2
}
