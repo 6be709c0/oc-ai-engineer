{
 "cells": [
  {
   "cell_type": "code",
   "execution_count": 1,
   "metadata": {},
   "outputs": [],
   "source": [
    "import numpy as np"
   ]
  },
  {
   "cell_type": "code",
   "execution_count": 2,
   "metadata": {},
   "outputs": [
    {
     "name": "stdout",
     "output_type": "stream",
     "text": [
      "1.24.0\n"
     ]
    }
   ],
   "source": [
    "print(np.__version__)"
   ]
  },
  {
   "cell_type": "code",
   "execution_count": 9,
   "metadata": {},
   "outputs": [
    {
     "name": "stdout",
     "output_type": "stream",
     "text": [
      "[1 2 3]\n",
      "(3,)\n",
      "int64\n",
      "1\n",
      "3\n",
      "8\n"
     ]
    }
   ],
   "source": [
    "a = np.array([1,2,3])\n",
    "print(a)\n",
    "print(a.shape)\n",
    "print(a.dtype)\n",
    "print(a.ndim)\n",
    "print(a.size)\n",
    "print(a.itemsize)  "
   ]
  },
  {
   "cell_type": "code",
   "execution_count": 11,
   "metadata": {},
   "outputs": [
    {
     "name": "stdout",
     "output_type": "stream",
     "text": [
      "[2 0 6]\n"
     ]
    }
   ],
   "source": [
    "b = a * np.array([2,0,2])\n",
    "print(b)"
   ]
  },
  {
   "cell_type": "code",
   "execution_count": 25,
   "metadata": {},
   "outputs": [
    {
     "name": "stdout",
     "output_type": "stream",
     "text": [
      "[1, 2, 3]\n",
      "[1 2 3]\n",
      "--\n",
      "[1, 2, 3, 4, 5]\n",
      "[5 6 7]\n",
      "--\n",
      "[1, 2, 3, 4, 5, 1, 2, 3, 4, 5]\n",
      "[10 12 14]\n"
     ]
    }
   ],
   "source": [
    "l = [1,2,3]\n",
    "a = np.array([1,2,3])\n",
    "\n",
    "print(l)\n",
    "print(a)\n",
    "\n",
    "l.append(4)\n",
    "l = l + [5]\n",
    "\n",
    "# a.append(4) Doesn't work\n",
    "a = a + np.array([4])\n",
    "print(\"--\")\n",
    "\n",
    "print(l)\n",
    "print(a)\n",
    "\n",
    "l = l * 2\n",
    "a = a * 2\n",
    "\n",
    "print(\"--\")\n",
    "print(l)\n",
    "print(a)\n"
   ]
  },
  {
   "cell_type": "code",
   "execution_count": 31,
   "metadata": {},
   "outputs": [
    {
     "name": "stdout",
     "output_type": "stream",
     "text": [
      "32\n",
      "32\n",
      "32\n",
      "32\n"
     ]
    }
   ],
   "source": [
    "l1 = [1,2,3]\n",
    "l2 = [4,5,6]\n",
    "\n",
    "a1 = np.array([1,2,3])\n",
    "a2 = np.array([4,5,6])\n",
    "\n",
    "# dot product\n",
    "dot = 0\n",
    "for i in range(len(l1)):\n",
    "    dot += l1[i] * l2[i]\n",
    "\n",
    "print(dot)\n",
    "\n",
    "dot = np.dot(a1,a2)\n",
    "print(dot)\n",
    "\n",
    "sum1 = a1 * a2\n",
    "dot = np.sum(sum1)\n",
    "print(dot)\n",
    "\n",
    "dot = a1 @ a2\n",
    "print(dot)"
   ]
  },
  {
   "cell_type": "code",
   "execution_count": 32,
   "metadata": {},
   "outputs": [
    {
     "name": "stdout",
     "output_type": "stream",
     "text": [
      "(3,)\n"
     ]
    }
   ],
   "source": [
    "a = np.array([1,2,3])\n",
    "print(a.shape)"
   ]
  },
  {
   "cell_type": "code",
   "execution_count": 44,
   "metadata": {},
   "outputs": [
    {
     "name": "stdout",
     "output_type": "stream",
     "text": [
      "(3, 2)\n",
      "1\n",
      "1\n",
      "[1 3 5]\n",
      "[1 2]\n",
      "[[1 3 5]\n",
      " [2 4 6]]\n"
     ]
    }
   ],
   "source": [
    "a = np.array([[1,2],[3,4],[5,6]])\n",
    "print(a.shape)\n",
    "print(a[0][0])\n",
    "print(a[0,0])\n",
    "print(a[:,0])\n",
    "print(a[0,:])\n",
    "print(a.T)\n"
   ]
  },
  {
   "cell_type": "code",
   "execution_count": 48,
   "metadata": {},
   "outputs": [
    {
     "name": "stdout",
     "output_type": "stream",
     "text": [
      "[[-2.   1. ]\n",
      " [ 1.5 -0.5]]\n",
      "-2.0000000000000004\n",
      "[1 4]\n",
      "[[1 0]\n",
      " [0 4]]\n"
     ]
    }
   ],
   "source": [
    "a = np.array([[1,2],[3,4]])\n",
    "print(np.linalg.inv(a))\n",
    "print(np.linalg.det(a))\n",
    "print(np.diag(a))\n",
    "\n",
    "c = np.diag(a)\n",
    "print(np.diag(c))"
   ]
  },
  {
   "cell_type": "code",
   "execution_count": 50,
   "metadata": {},
   "outputs": [
    {
     "name": "stdout",
     "output_type": "stream",
     "text": [
      "2\n"
     ]
    }
   ],
   "source": [
    "b = a[0,1]\n",
    "print(b)\n",
    "\n"
   ]
  },
  {
   "cell_type": "code",
   "execution_count": 55,
   "metadata": {},
   "outputs": [
    {
     "name": "stdout",
     "output_type": "stream",
     "text": [
      "[2 3]\n",
      "[1 5]\n"
     ]
    }
   ],
   "source": [
    "a = np.array([[1,2,3,4],[5,6,7,8]])\n",
    "b = a[0,1:3]\n",
    "\n",
    "print(b)\n",
    "b = a[:,0]\n",
    "print(b)"
   ]
  },
  {
   "cell_type": "code",
   "execution_count": 56,
   "metadata": {},
   "outputs": [
    {
     "name": "stdout",
     "output_type": "stream",
     "text": [
      "[3 4 5 6 7 8]\n"
     ]
    }
   ],
   "source": [
    "print(a[a > 2])"
   ]
  },
  {
   "cell_type": "code",
   "execution_count": 58,
   "metadata": {},
   "outputs": [
    {
     "name": "stdout",
     "output_type": "stream",
     "text": [
      "[[-1 -1  3  4]\n",
      " [ 5  6  7  8]]\n"
     ]
    }
   ],
   "source": [
    "b = np.where(a > 2, a, -1)\n",
    "print(b)"
   ]
  },
  {
   "cell_type": "code",
   "execution_count": 59,
   "metadata": {},
   "outputs": [
    {
     "name": "stdout",
     "output_type": "stream",
     "text": [
      "[10 19 30 41 50 61]\n"
     ]
    }
   ],
   "source": [
    "a = np.array([10,19,30,41,50,61])\n",
    "print(a)"
   ]
  },
  {
   "cell_type": "code",
   "execution_count": 60,
   "metadata": {},
   "outputs": [
    {
     "name": "stdout",
     "output_type": "stream",
     "text": [
      "[19 41 61]\n"
     ]
    }
   ],
   "source": [
    "b = [1,3,5]\n",
    "print(a[b])"
   ]
  },
  {
   "cell_type": "code",
   "execution_count": 61,
   "metadata": {},
   "outputs": [
    {
     "name": "stdout",
     "output_type": "stream",
     "text": [
      "[10 30 50]\n"
     ]
    }
   ],
   "source": [
    "even = np.argwhere(a%2==0).flatten()\n",
    "print(a[even])"
   ]
  },
  {
   "cell_type": "code",
   "execution_count": 68,
   "metadata": {},
   "outputs": [
    {
     "name": "stdout",
     "output_type": "stream",
     "text": [
      "[1 2 3 4 5 6]\n",
      "(6,)\n",
      "[[1 2 3]\n",
      " [4 5 6]]\n",
      "(2, 3)\n"
     ]
    }
   ],
   "source": [
    "a = np.arange(1,7)\n",
    "print(a)\n",
    "print(a.shape)\n",
    "b = a.reshape((2,3))\n",
    "print(b)\n",
    "print(b.shape)"
   ]
  },
  {
   "cell_type": "code",
   "execution_count": 72,
   "metadata": {},
   "outputs": [
    {
     "name": "stdout",
     "output_type": "stream",
     "text": [
      "[[1 2 3 4 5 6]]\n",
      "(1, 6)\n",
      "\n",
      "[[1]\n",
      " [2]\n",
      " [3]\n",
      " [4]\n",
      " [5]\n",
      " [6]]\n",
      "(6, 1)\n"
     ]
    }
   ],
   "source": [
    "b = a[np.newaxis,:]\n",
    "print(b)\n",
    "print(b.shape)\n",
    "print()\n",
    "b = a[:, np.newaxis]\n",
    "print(b)\n",
    "print(b.shape)\n"
   ]
  },
  {
   "cell_type": "code",
   "execution_count": 79,
   "metadata": {},
   "outputs": [
    {
     "name": "stdout",
     "output_type": "stream",
     "text": [
      "[[2 3]\n",
      " [4 5]]\n",
      "\n",
      "[[2 3]\n",
      " [4 5]\n",
      " [7 8]]\n",
      "\n",
      "[2 3 4 5 7 8]\n",
      "\n",
      "[[2 3 7]\n",
      " [4 5 8]]\n"
     ]
    }
   ],
   "source": [
    "a = np.array([[2,3],[4,5]])\n",
    "print(a)\n",
    "print()\n",
    "\n",
    "b = np.array([[7,8]])\n",
    "c = np.concatenate((a,b))\n",
    "print(c)\n",
    "print()\n",
    "c = np.concatenate((a,b), axis=None)\n",
    "print(c)\n",
    "print()\n",
    "c = np.concatenate((a,b.T), axis=1)\n",
    "print(c)"
   ]
  },
  {
   "cell_type": "code",
   "execution_count": 81,
   "metadata": {},
   "outputs": [
    {
     "name": "stdout",
     "output_type": "stream",
     "text": [
      "[1 2 3 4 5 6 7 8]\n",
      "[[1 2 3 4]\n",
      " [5 6 7 8]]\n"
     ]
    }
   ],
   "source": [
    "a = np.array([1,2,3,4])\n",
    "b = np.array([5,6,7,8])\n",
    "\n",
    "print(np.hstack((a,b)))\n",
    "print(np.vstack((a,b)))\n"
   ]
  },
  {
   "cell_type": "code",
   "execution_count": 83,
   "metadata": {},
   "outputs": [
    {
     "name": "stdout",
     "output_type": "stream",
     "text": [
      "[[2 2 4]\n",
      " [5 5 7]\n",
      " [2 2 4]\n",
      " [5 5 7]]\n"
     ]
    }
   ],
   "source": [
    "x = np.array([[1,2,3],[4,5,6],[1,2,3],[4,5,6]])\n",
    "a = np.array([1,0,1])\n",
    "y = x + a\n",
    "print(y)"
   ]
  },
  {
   "cell_type": "code",
   "execution_count": 91,
   "metadata": {},
   "outputs": [
    {
     "name": "stdout",
     "output_type": "stream",
     "text": [
      "[[ 7  8  9 10 11 12 13]\n",
      " [17 18 19 20 21 22 23]]\n",
      "\n",
      "210\n",
      "\n",
      "[24 26 28 30 32 34 36]\n",
      "\n",
      "[ 70 140]\n",
      "[ 70 140]\n"
     ]
    }
   ],
   "source": [
    "a = np.array([[7,8,9,10,11,12,13],[17,18,19,20,21,22,23]])\n",
    "print(a)\n",
    "\n",
    "print()\n",
    "print(a.sum(axis=None))\n",
    "\n",
    "print()\n",
    "print(a.sum(axis=0))\n",
    "\n",
    "print()\n",
    "print(a.sum(axis=1))\n",
    "print(np.sum(a,axis=1))"
   ]
  },
  {
   "cell_type": "code",
   "execution_count": 94,
   "metadata": {},
   "outputs": [
    {
     "name": "stdout",
     "output_type": "stream",
     "text": [
      "[1. 2.]\n",
      "float64\n",
      "\n",
      "[1 2]\n",
      "int64\n"
     ]
    }
   ],
   "source": [
    "x = np.array([1.0,2.0])\n",
    "print(x)\n",
    "print(x.dtype)\n",
    "\n",
    "print()\n",
    "x = np.array([1.0,2.0], dtype=np.int64)\n",
    "print(x)\n",
    "print(x.dtype)"
   ]
  },
  {
   "cell_type": "code",
   "execution_count": 97,
   "metadata": {},
   "outputs": [
    {
     "name": "stdout",
     "output_type": "stream",
     "text": [
      "[42  2  3]\n",
      "[42  2  3]\n",
      "\n",
      "[1 2 3]\n",
      "[42  2  3]\n"
     ]
    }
   ],
   "source": [
    "a = np.array([1,2,3])\n",
    "b = a\n",
    "\n",
    "b[0] = 42\n",
    "print(a)\n",
    "print(b)\n",
    "\n",
    "print()\n",
    "\n",
    "a = np.array([1,2,3])\n",
    "b = a.copy()\n",
    "\n",
    "b[0] = 42\n",
    "print(a)\n",
    "print(b)"
   ]
  },
  {
   "cell_type": "code",
   "execution_count": 109,
   "metadata": {},
   "outputs": [
    {
     "name": "stdout",
     "output_type": "stream",
     "text": [
      "[[0. 0. 0.]\n",
      " [0. 0. 0.]]\n",
      "\n",
      "[[1. 1. 1.]\n",
      " [1. 1. 1.]]\n",
      "float64\n",
      "\n",
      "[[5. 5. 5.]\n",
      " [5. 5. 5.]]\n",
      "float64\n",
      "\n",
      "[[1. 0. 0.]\n",
      " [0. 1. 0.]\n",
      " [0. 0. 1.]]\n",
      "\n",
      "[ 0  1  2  3  4  5  6  7  8  9 10 11 12 13 14 15 16 17 18 19]\n",
      "\n",
      "[ 0.   2.5  5.   7.5 10. ]\n"
     ]
    }
   ],
   "source": [
    "a = np.zeros((2,3))\n",
    "print(a)\n",
    "print()\n",
    "\n",
    "a = np.ones((2,3))\n",
    "print(a)\n",
    "print(a.dtype)\n",
    "print()\n",
    "\n",
    "a = np.full((2,3), 5.0)\n",
    "print(a)\n",
    "print(a.dtype)\n",
    "print()\n",
    "\n",
    "a = np.eye(3)\n",
    "print(a)\n",
    "print()\n",
    "\n",
    "a = np.arange(20)\n",
    "print(a)\n",
    "print()\n",
    "\n",
    "a = np.linspace(0,10,5)\n",
    "print(a)\n"
   ]
  },
  {
   "cell_type": "code",
   "execution_count": 126,
   "metadata": {},
   "outputs": [
    {
     "name": "stdout",
     "output_type": "stream",
     "text": [
      "[[0.55158005 0.21455874]\n",
      " [0.01993548 0.78745399]\n",
      " [0.3005897  0.17652748]]\n",
      "\n",
      "[[-0.64981018  0.7084001 ]\n",
      " [-1.08222124  0.12486256]\n",
      " [ 0.40585306 -1.50806891]]\n",
      "\n",
      "-0.04822908866054738 0.929878813328073\n",
      "\n",
      "[[3 7 6]\n",
      " [9 3 3]\n",
      " [7 7 3]]\n",
      "\n",
      "[3 3 3 3 2 3 4 1 1 4]\n",
      "\n",
      "[-6 -8 -7 -6 -7 -6 -7 -7 -7 -8]\n"
     ]
    }
   ],
   "source": [
    "a = np.random.random((3,2)) # 0-1\n",
    "print(a)\n",
    "print()\n",
    "\n",
    "a = np.random.randn(3,2) # normal/Gausian\n",
    "print(a)\n",
    "print()\n",
    "\n",
    "a = np.random.randn(1000)\n",
    "print(a.mean(), a.var())\n",
    "print()\n",
    "\n",
    "a = np.random.randint(3,10, size=(3,3))\n",
    "print(a)\n",
    "print()\n",
    "\n",
    "a = np.random.choice(5,size=10)\n",
    "print(a)\n",
    "print()\n",
    "\n",
    "a = np.random.choice([-8,-7,-6],size=10)\n",
    "print(a)"
   ]
  },
  {
   "cell_type": "code",
   "execution_count": 138,
   "metadata": {},
   "outputs": [
    {
     "name": "stdout",
     "output_type": "stream",
     "text": [
      "[-0.37228132  5.37228132]\n",
      "[[-0.82456484 -0.41597356]\n",
      " [ 0.56576746 -0.90937671]]\n",
      "\n",
      "[ 0.30697009 -0.21062466]\n",
      "\n",
      "[ 0.30697009 -0.21062466]\n",
      "True\n"
     ]
    }
   ],
   "source": [
    "a = np.array([[1,2],[3,4]])\n",
    "\n",
    "eigenvalues, eigenvectors = np.linalg.eig(a)\n",
    "print(eigenvalues)\n",
    "print(eigenvectors) # Column vector\n",
    "print()\n",
    "\n",
    "# e_vec * e_val = A * e_vec\n",
    "b = eigenvectors[:,0] * eigenvalues[0]\n",
    "print(b)\n",
    "print()\n",
    "\n",
    "c = a @ eigenvectors[:,0]\n",
    "print(c)\n",
    "\n",
    "# print(c==b)\n",
    "print(np.allclose(b,c))"
   ]
  },
  {
   "cell_type": "code",
   "execution_count": 141,
   "metadata": {},
   "outputs": [
    {
     "name": "stdout",
     "output_type": "stream",
     "text": [
      "[1500.  700.]\n",
      "[1500.  700.]\n"
     ]
    }
   ],
   "source": [
    "A = np.array([[1,1],[1.5,4.0]])\n",
    "b = np.array([2200,5050])\n",
    "\n",
    "x = np.linalg.inv(A).dot(b)\n",
    "print(x)\n",
    "\n",
    "x = np.linalg.solve(A,b)\n",
    "print(x)"
   ]
  },
  {
   "cell_type": "code",
   "execution_count": null,
   "metadata": {},
   "outputs": [],
   "source": []
  }
 ],
 "metadata": {
  "kernelspec": {
   "display_name": "Python 3",
   "language": "python",
   "name": "python3"
  },
  "language_info": {
   "codemirror_mode": {
    "name": "ipython",
    "version": 3
   },
   "file_extension": ".py",
   "mimetype": "text/x-python",
   "name": "python",
   "nbconvert_exporter": "python",
   "pygments_lexer": "ipython3",
   "version": "3.10.12"
  }
 },
 "nbformat": 4,
 "nbformat_minor": 2
}
