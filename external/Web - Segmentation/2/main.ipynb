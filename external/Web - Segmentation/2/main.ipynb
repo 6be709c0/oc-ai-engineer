{
 "cells": [
  {
   "cell_type": "code",
   "execution_count": null,
   "metadata": {},
   "outputs": [],
   "source": [
    "# Source https://neptune.ai/blog/customer-segmentation-using-machine-learning"
   ]
  },
  {
   "cell_type": "code",
   "execution_count": null,
   "metadata": {},
   "outputs": [],
   "source": [
    "# Import required libraries\n",
    "\n",
    "import pandas as pd\n",
    "import numpy as np\n",
    "from sklearn.cluster import KMeans\n",
    "import plotly.express as px\n",
    "import plotly.graph_objects as go\n",
    "import matplotlib.pyplot as plt"
   ]
  },
  {
   "cell_type": "code",
   "execution_count": null,
   "metadata": {},
   "outputs": [],
   "source": [
    "df = pd.read_csv(\"customers-data.csv\")"
   ]
  },
  {
   "cell_type": "code",
   "execution_count": null,
   "metadata": {},
   "outputs": [],
   "source": [
    "df.shape"
   ]
  },
  {
   "cell_type": "code",
   "execution_count": null,
   "metadata": {},
   "outputs": [],
   "source": [
    "df.head()"
   ]
  },
  {
   "cell_type": "code",
   "execution_count": null,
   "metadata": {},
   "outputs": [],
   "source": [
    "kmeans_model = KMeans(init='k-means++',  max_iter=400, random_state=42)\n"
   ]
  },
  {
   "cell_type": "code",
   "execution_count": null,
   "metadata": {},
   "outputs": [],
   "source": [
    "# Train the model\n",
    "kmeans_model.fit(df[['products_purchased','complains',\n",
    "'money_spent']])"
   ]
  },
  {
   "cell_type": "code",
   "execution_count": null,
   "metadata": {},
   "outputs": [],
   "source": [
    "# Create the K means model for different values of K\n",
    "def try_different_clusters(K, data):\n",
    "\n",
    "    cluster_values = list(range(1, K+1))\n",
    "    inertias=[]\n",
    "\n",
    "    for c in cluster_values:\n",
    "        model = KMeans(n_clusters = c,init='k-means++',max_iter=400,random_state=42)\n",
    "        model.fit(data)\n",
    "        inertias.append(model.inertia_)\n",
    "\n",
    "    return inertias"
   ]
  },
  {
   "cell_type": "code",
   "execution_count": null,
   "metadata": {},
   "outputs": [],
   "source": [
    "# Find output for k values between 1 to 12 \n",
    "outputs = try_different_clusters(12, df[['products_purchased','complains','money_spent']])\n",
    "distances = pd.DataFrame({\"clusters\": list(range(1, 13)),\"sum of squared distances\": outputs})"
   ]
  },
  {
   "cell_type": "code",
   "execution_count": null,
   "metadata": {},
   "outputs": [],
   "source": [
    "# Finding optimal number of clusters k\n",
    "figure = go.Figure()\n",
    "figure.add_trace(go.Scatter(x=distances[\"clusters\"], y=distances[\"sum of squared distances\"]))\n",
    "\n",
    "figure.update_layout(xaxis = dict(tick0 = 1,dtick = 1,tickmode = 'linear'),\n",
    "                  xaxis_title=\"Number of clusters\",\n",
    "                  yaxis_title=\"Sum of squared distances\",\n",
    "                  title_text=\"Finding optimal number of clusters using elbow method\")\n",
    "figure.show()"
   ]
  },
  {
   "cell_type": "code",
   "execution_count": null,
   "metadata": {},
   "outputs": [],
   "source": [
    "# Re-Train K means model with k=5\n",
    "kmeans_model_new = KMeans(n_clusters = 5,init='k-means++',max_iter=400,random_state=42)\n",
    "\n",
    "kmeans_model_new.fit_predict(df[['products_purchased','complains','money_spent']])"
   ]
  },
  {
   "cell_type": "code",
   "execution_count": null,
   "metadata": {},
   "outputs": [],
   "source": [
    "# Create data arrays\n",
    "cluster_centers = kmeans_model_new.cluster_centers_\n",
    "data = np.expm1(cluster_centers)\n",
    "points = np.append(data, cluster_centers, axis=1)\n",
    "points"
   ]
  },
  {
   "cell_type": "code",
   "execution_count": null,
   "metadata": {},
   "outputs": [],
   "source": [
    "# Add \"clusters\" to customers data\n",
    "points = np.append(points, [[0], [1], [2], [3], [4]], axis=1)\n",
    "df[\"clusters\"] = kmeans_model_new.labels_\n"
   ]
  },
  {
   "cell_type": "code",
   "execution_count": null,
   "metadata": {},
   "outputs": [],
   "source": [
    "# visualize clusters\n",
    "figure = px.scatter_3d(df,\n",
    "                    color='clusters',\n",
    "                    x=\"products_purchased\",\n",
    "                    y=\"complains\",\n",
    "                    z=\"money_spent\",\n",
    "                    category_orders = {\"clusters\": [\"0\", \"1\", \"2\", \"3\", \"4\"]}\n",
    "                    )\n",
    "figure.update_layout()\n",
    "figure.show()"
   ]
  },
  {
   "cell_type": "code",
   "execution_count": null,
   "metadata": {},
   "outputs": [],
   "source": []
  }
 ],
 "metadata": {
  "kernelspec": {
   "display_name": "Python 3",
   "language": "python",
   "name": "python3"
  },
  "language_info": {
   "codemirror_mode": {
    "name": "ipython",
    "version": 3
   },
   "file_extension": ".py",
   "mimetype": "text/x-python",
   "name": "python",
   "nbconvert_exporter": "python",
   "pygments_lexer": "ipython3",
   "version": "3.10.12"
  }
 },
 "nbformat": 4,
 "nbformat_minor": 2
}
